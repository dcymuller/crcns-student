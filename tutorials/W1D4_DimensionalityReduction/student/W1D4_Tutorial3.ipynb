{
  "cells": [
    {
      "cell_type": "markdown",
      "metadata": {
        "id": "view-in-github",
        "colab_type": "text"
      },
      "source": [
        "<a href=\"https://colab.research.google.com/github/dcymuller/crcns-student/blob/master/tutorials/W1D4_DimensionalityReduction/student/W1D4_Tutorial3.ipynb\" target=\"_parent\"><img src=\"https://colab.research.google.com/assets/colab-badge.svg\" alt=\"Open In Colab\"/></a>"
      ]
    },
    {
      "cell_type": "markdown",
      "metadata": {
        "execution": {},
        "id": "iq859EQmQlYt"
      },
      "source": [
        "# Tutorial 3: Dimensionality Reduction & Reconstruction\n",
        "\n",
        "**Week 1, Day 4: Dimensionality Reduction**\n",
        "\n",
        "**By Neuromatch Academy**\n",
        "\n",
        "__Content creators:__ Alex Cayco Gajic, John Murray\n",
        "\n",
        "__Content reviewers:__ Roozbeh Farhoudi, Matt Krause, Spiros Chavlis, Richard Gao, Michael Waskom,  Siddharth Suresh, Natalie Schaworonkow, Ella Batty"
      ]
    },
    {
      "cell_type": "markdown",
      "metadata": {
        "execution": {},
        "id": "Gx6oGZntQlYy"
      },
      "source": [
        "<p align='center'><img src='https://github.com/NeuromatchAcademy/widgets/blob/master/sponsors.png?raw=True'/></p>"
      ]
    },
    {
      "cell_type": "markdown",
      "metadata": {
        "execution": {},
        "id": "cra-HWgIQlYz"
      },
      "source": [
        "---\n",
        "# Tutorial Objectives\n",
        "\n",
        "*Estimated timing of tutorial: 50 minutes*\n",
        "\n",
        "In this notebook we'll learn to apply PCA for dimensionality reduction, using a classic dataset that is often used to benchmark machine learning algorithms: MNIST. We'll also learn how to use PCA for reconstruction and denoising.\n",
        "\n",
        "Overview:\n",
        "- Perform PCA on MNIST\n",
        "- Calculate the variance explained\n",
        "- Reconstruct data with different numbers of PCs\n",
        "- (Bonus) Examine denoising using PCA\n",
        "\n",
        "\n",
        "You can learn more about the MNIST dataset [here](https://en.wikipedia.org/wiki/MNIST_database)."
      ]
    },
    {
      "cell_type": "code",
      "execution_count": null,
      "metadata": {
        "cellView": "form",
        "execution": {},
        "id": "rFWLIH9BQlY0"
      },
      "outputs": [],
      "source": [
        "# @title Tutorial slides\n",
        "\n",
        "# @markdown These are the slides for the videos in all tutorials today\n",
        "from IPython.display import IFrame\n",
        "IFrame(src=f\"https://mfr.ca-1.osf.io/render?url=https://osf.io/kaq2x/?direct%26mode=render%26action=download%26mode=render\", width=854, height=480)"
      ]
    },
    {
      "cell_type": "code",
      "execution_count": 1,
      "metadata": {
        "cellView": "form",
        "execution": {},
        "colab": {
          "base_uri": "https://localhost:8080/",
          "height": 580,
          "referenced_widgets": [
            "cb847daaae10452e8892382d0d338d15",
            "dc3135171495412f9ff35de37f06b22a",
            "7f4b46a6443647b9b010dd846fd6e3d8",
            "a4dd0711c61949ca81fa5ae0acd089d0",
            "68c69b3729b84ec08de3f027dc10ec58",
            "cd8fd924b71b424a995aead9faff7da6"
          ]
        },
        "id": "4UJSv1H3QlY1",
        "outputId": "6d18dd9b-7f32-4ecd-a70e-25724e10d11a"
      },
      "outputs": [
        {
          "output_type": "display_data",
          "data": {
            "text/plain": [
              "Tab(children=(Output(), Output()), _titles={'0': 'Youtube', '1': 'Bilibili'})"
            ],
            "application/vnd.jupyter.widget-view+json": {
              "version_major": 2,
              "version_minor": 0,
              "model_id": "cb847daaae10452e8892382d0d338d15"
            }
          },
          "metadata": {}
        }
      ],
      "source": [
        "# @title Video 1: PCA for dimensionality reduction\n",
        "from ipywidgets import widgets\n",
        "\n",
        "out2 = widgets.Output()\n",
        "with out2:\n",
        "  from IPython.display import IFrame\n",
        "  class BiliVideo(IFrame):\n",
        "      def __init__(self, id, page=1, width=400, height=300, **kwargs):\n",
        "          self.id=id\n",
        "          src = 'https://player.bilibili.com/player.html?bvid={0}&page={1}'.format(id, page)\n",
        "          super(BiliVideo, self).__init__(src, width, height, **kwargs)\n",
        "\n",
        "  video = BiliVideo(id=\"BV1up4y1S7xs\", width=854, height=480, fs=1)\n",
        "  print('Video available at https://www.bilibili.com/video/{0}'.format(video.id))\n",
        "  display(video)\n",
        "\n",
        "out1 = widgets.Output()\n",
        "with out1:\n",
        "  from IPython.display import YouTubeVideo\n",
        "  video = YouTubeVideo(id=\"oO0bbInoO_0\", width=854, height=480, fs=1, rel=0)\n",
        "  print('Video available at https://youtube.com/watch?v=' + video.id)\n",
        "  display(video)\n",
        "\n",
        "out = widgets.Tab([out1, out2])\n",
        "out.set_title(0, 'Youtube')\n",
        "out.set_title(1, 'Bilibili')\n",
        "\n",
        "display(out)"
      ]
    },
    {
      "cell_type": "markdown",
      "metadata": {
        "execution": {},
        "id": "HCNlpnwEQlY2"
      },
      "source": [
        "---\n",
        "# Setup"
      ]
    },
    {
      "cell_type": "code",
      "execution_count": 2,
      "metadata": {
        "execution": {},
        "id": "A0wwd18ZQlY3"
      },
      "outputs": [],
      "source": [
        "# Imports\n",
        "import numpy as np\n",
        "import matplotlib.pyplot as plt"
      ]
    },
    {
      "cell_type": "code",
      "execution_count": 3,
      "metadata": {
        "cellView": "form",
        "execution": {},
        "id": "oFrYT_kVQlY3"
      },
      "outputs": [],
      "source": [
        "# @title Figure Settings\n",
        "import ipywidgets as widgets   # interactive display\n",
        "%config InlineBackend.figure_format = 'retina'\n",
        "plt.style.use(\"https://raw.githubusercontent.com/NeuromatchAcademy/course-content/main/nma.mplstyle\")"
      ]
    },
    {
      "cell_type": "code",
      "execution_count": 4,
      "metadata": {
        "cellView": "form",
        "execution": {},
        "id": "gDGRAKYrQlY4"
      },
      "outputs": [],
      "source": [
        "# @title Plotting Functions\n",
        "\n",
        "def plot_variance_explained(variance_explained):\n",
        "  \"\"\"\n",
        "  Plots eigenvalues.\n",
        "\n",
        "  Args:\n",
        "    variance_explained (numpy array of floats) : Vector of variance explained\n",
        "                                                 for each PC\n",
        "\n",
        "  Returns:\n",
        "    Nothing.\n",
        "\n",
        "  \"\"\"\n",
        "\n",
        "  plt.figure()\n",
        "  plt.plot(np.arange(1, len(variance_explained) + 1), variance_explained,\n",
        "           '--k')\n",
        "  plt.xlabel('Number of components')\n",
        "  plt.ylabel('Variance explained')\n",
        "  plt.show()\n",
        "\n",
        "\n",
        "def plot_MNIST_reconstruction(X, X_reconstructed):\n",
        "  \"\"\"\n",
        "  Plots 9 images in the MNIST dataset side-by-side with the reconstructed\n",
        "  images.\n",
        "\n",
        "  Args:\n",
        "    X (numpy array of floats)               : Data matrix each column\n",
        "                                              corresponds to a different\n",
        "                                              random variable\n",
        "    X_reconstructed (numpy array of floats) : Data matrix each column\n",
        "                                              corresponds to a different\n",
        "                                              random variable\n",
        "\n",
        "  Returns:\n",
        "    Nothing.\n",
        "  \"\"\"\n",
        "\n",
        "  plt.figure()\n",
        "  ax = plt.subplot(121)\n",
        "  k = 0\n",
        "  for k1 in range(3):\n",
        "    for k2 in range(3):\n",
        "      k = k + 1\n",
        "      plt.imshow(np.reshape(X[k, :], (28, 28)),\n",
        "                 extent=[(k1 + 1) * 28, k1 * 28, (k2 + 1) * 28, k2 * 28],\n",
        "                 vmin=0, vmax=255)\n",
        "  plt.xlim((3 * 28, 0))\n",
        "  plt.ylim((3 * 28, 0))\n",
        "  plt.tick_params(axis='both', which='both', bottom=False, top=False,\n",
        "                  labelbottom=False)\n",
        "  ax.set_xticks([])\n",
        "  ax.set_yticks([])\n",
        "  plt.title('Data')\n",
        "  plt.clim([0, 250])\n",
        "  ax = plt.subplot(122)\n",
        "  k = 0\n",
        "  for k1 in range(3):\n",
        "    for k2 in range(3):\n",
        "      k = k + 1\n",
        "      plt.imshow(np.reshape(np.real(X_reconstructed[k, :]), (28, 28)),\n",
        "                 extent=[(k1 + 1) * 28, k1 * 28, (k2 + 1) * 28, k2 * 28],\n",
        "                 vmin=0, vmax=255)\n",
        "  plt.xlim((3 * 28, 0))\n",
        "  plt.ylim((3 * 28, 0))\n",
        "  plt.tick_params(axis='both', which='both', bottom=False, top=False,\n",
        "                  labelbottom=False)\n",
        "  ax.set_xticks([])\n",
        "  ax.set_yticks([])\n",
        "  plt.clim([0, 250])\n",
        "  plt.title('Reconstructed')\n",
        "  plt.tight_layout()\n",
        "\n",
        "\n",
        "def plot_MNIST_sample(X):\n",
        "  \"\"\"\n",
        "  Plots 9 images in the MNIST dataset.\n",
        "\n",
        "  Args:\n",
        "     X (numpy array of floats) : Data matrix each column corresponds to a\n",
        "                                 different random variable\n",
        "\n",
        "  Returns:\n",
        "    Nothing.\n",
        "\n",
        "  \"\"\"\n",
        "\n",
        "  fig, ax = plt.subplots()\n",
        "  k = 0\n",
        "  for k1 in range(3):\n",
        "    for k2 in range(3):\n",
        "      k = k + 1\n",
        "      plt.imshow(np.reshape(X[k, :], (28, 28)),\n",
        "                 extent=[(k1 + 1) * 28, k1 * 28, (k2+1) * 28, k2 * 28],\n",
        "                 vmin=0, vmax=255)\n",
        "  plt.xlim((3 * 28, 0))\n",
        "  plt.ylim((3 * 28, 0))\n",
        "  plt.tick_params(axis='both', which='both', bottom=False, top=False,\n",
        "                  labelbottom=False)\n",
        "  plt.clim([0, 250])\n",
        "  ax.set_xticks([])\n",
        "  ax.set_yticks([])\n",
        "  plt.show()\n",
        "\n",
        "\n",
        "def plot_MNIST_weights(weights):\n",
        "  \"\"\"\n",
        "  Visualize PCA basis vector weights for MNIST. Red = positive weights,\n",
        "  blue = negative weights, white = zero weight.\n",
        "\n",
        "  Args:\n",
        "     weights (numpy array of floats) : PCA basis vector\n",
        "\n",
        "  Returns:\n",
        "     Nothing.\n",
        "  \"\"\"\n",
        "\n",
        "  fig, ax = plt.subplots()\n",
        "  cmap = plt.cm.get_cmap('seismic')\n",
        "  plt.imshow(np.real(np.reshape(weights, (28, 28))), cmap=cmap)\n",
        "  plt.tick_params(axis='both', which='both', bottom=False, top=False,\n",
        "                  labelbottom=False)\n",
        "  plt.clim(-.15, .15)\n",
        "  plt.colorbar(ticks=[-.15, -.1, -.05, 0, .05, .1, .15])\n",
        "  ax.set_xticks([])\n",
        "  ax.set_yticks([])\n",
        "  plt.show()\n",
        "\n",
        "\n",
        "def plot_eigenvalues(evals, limit=True):\n",
        "  \"\"\"\n",
        "  Plots eigenvalues.\n",
        "\n",
        "  Args:\n",
        "     (numpy array of floats) : Vector of eigenvalues\n",
        "\n",
        "  Returns:\n",
        "    Nothing.\n",
        "\n",
        "  \"\"\"\n",
        "\n",
        "  plt.figure()\n",
        "  plt.plot(np.arange(1, len(evals) + 1), evals, 'o-k')\n",
        "  plt.xlabel('Component')\n",
        "  plt.ylabel('Eigenvalue')\n",
        "  plt.title('Scree plot')\n",
        "  if limit:\n",
        "    plt.show()"
      ]
    },
    {
      "cell_type": "code",
      "execution_count": 5,
      "metadata": {
        "cellView": "form",
        "execution": {},
        "id": "Sd_w156jQlY5"
      },
      "outputs": [],
      "source": [
        "# @title Helper Functions\n",
        "\n",
        "def add_noise(X, frac_noisy_pixels):\n",
        "  \"\"\"\n",
        "  Randomly corrupts a fraction of the pixels by setting them to random values.\n",
        "\n",
        "  Args:\n",
        "     X (numpy array of floats)  : Data matrix\n",
        "     frac_noisy_pixels (scalar) : Fraction of noisy pixels\n",
        "\n",
        "  Returns:\n",
        "     (numpy array of floats)    : Data matrix + noise\n",
        "\n",
        "  \"\"\"\n",
        "\n",
        "  X_noisy = np.reshape(X, (X.shape[0] * X.shape[1]))\n",
        "  N_noise_ixs = int(X_noisy.shape[0] * frac_noisy_pixels)\n",
        "  noise_ixs = np.random.choice(X_noisy.shape[0], size=N_noise_ixs,\n",
        "                               replace=False)\n",
        "  X_noisy[noise_ixs] = np.random.uniform(0, 255, noise_ixs.shape)\n",
        "  X_noisy = np.reshape(X_noisy, (X.shape[0], X.shape[1]))\n",
        "\n",
        "  return X_noisy\n",
        "\n",
        "\n",
        "def change_of_basis(X, W):\n",
        "  \"\"\"\n",
        "  Projects data onto a new basis.\n",
        "\n",
        "  Args:\n",
        "    X (numpy array of floats) : Data matrix each column corresponding to a\n",
        "                                different random variable\n",
        "    W (numpy array of floats) : new orthonormal basis columns correspond to\n",
        "                                basis vectors\n",
        "\n",
        "  Returns:\n",
        "    (numpy array of floats)   : Data matrix expressed in new basis\n",
        "  \"\"\"\n",
        "\n",
        "  Y = np.matmul(X, W)\n",
        "\n",
        "  return Y\n",
        "\n",
        "\n",
        "def get_sample_cov_matrix(X):\n",
        "  \"\"\"\n",
        "  Returns the sample covariance matrix of data X.\n",
        "\n",
        "  Args:\n",
        "    X (numpy array of floats) : Data matrix each column corresponds to a\n",
        "                                different random variable\n",
        "\n",
        "  Returns:\n",
        "    (numpy array of floats)   : Covariance matrix\n",
        "\"\"\"\n",
        "\n",
        "  X = X - np.mean(X, 0)\n",
        "  cov_matrix = 1 / X.shape[0] * np.matmul(X.T, X)\n",
        "  return cov_matrix\n",
        "\n",
        "\n",
        "def sort_evals_descending(evals, evectors):\n",
        "  \"\"\"\n",
        "  Sorts eigenvalues and eigenvectors in decreasing order. Also aligns first two\n",
        "  eigenvectors to be in first two quadrants (if 2D).\n",
        "\n",
        "  Args:\n",
        "    evals (numpy array of floats)    :   Vector of eigenvalues\n",
        "    evectors (numpy array of floats) :   Corresponding matrix of eigenvectors\n",
        "                                         each column corresponds to a different\n",
        "                                         eigenvalue\n",
        "\n",
        "  Returns:\n",
        "    (numpy array of floats)          : Vector of eigenvalues after sorting\n",
        "    (numpy array of floats)          : Matrix of eigenvectors after sorting\n",
        "  \"\"\"\n",
        "\n",
        "  index = np.flip(np.argsort(evals))\n",
        "  evals = evals[index]\n",
        "  evectors = evectors[:, index]\n",
        "  if evals.shape[0] == 2:\n",
        "    if np.arccos(np.matmul(evectors[:, 0],\n",
        "                           1 / np.sqrt(2) * np.array([1, 1]))) > np.pi / 2:\n",
        "      evectors[:, 0] = -evectors[:, 0]\n",
        "    if np.arccos(np.matmul(evectors[:, 1],\n",
        "                           1 / np.sqrt(2)*np.array([-1, 1]))) > np.pi / 2:\n",
        "      evectors[:, 1] = -evectors[:, 1]\n",
        "\n",
        "  return evals, evectors\n",
        "\n",
        "\n",
        "def pca(X):\n",
        "  \"\"\"\n",
        "  Performs PCA on multivariate data. Eigenvalues are sorted in decreasing order\n",
        "\n",
        "  Args:\n",
        "     X (numpy array of floats) :   Data matrix each column corresponds to a\n",
        "                                   different random variable\n",
        "\n",
        "  Returns:\n",
        "    (numpy array of floats)    : Data projected onto the new basis\n",
        "    (numpy array of floats)    : Corresponding matrix of eigenvectors\n",
        "    (numpy array of floats)    : Vector of eigenvalues\n",
        "\n",
        "  \"\"\"\n",
        "\n",
        "  X = X - np.mean(X, 0)\n",
        "  cov_matrix = get_sample_cov_matrix(X)\n",
        "  evals, evectors = np.linalg.eigh(cov_matrix)\n",
        "  evals, evectors = sort_evals_descending(evals, evectors)\n",
        "  score = change_of_basis(X, evectors)\n",
        "\n",
        "  return score, evectors, evals"
      ]
    },
    {
      "cell_type": "markdown",
      "metadata": {
        "execution": {},
        "id": "iRuBrNqJQlY6"
      },
      "source": [
        "---\n",
        "# Section 1: Perform PCA on MNIST\n",
        "\n",
        "The MNIST dataset consists of 70,000 images of individual handwritten digits. Each image is a 28x28 pixel grayscale image. For convenience, each 28x28 pixel image is often unravelled into a single 784 (=28x28) element vector, so that the whole dataset is represented as a 70,000 x 784 matrix. Each row represents a different image, and each column represents a different pixel.\n",
        " \n",
        "Enter the following cell to load the MNIST dataset and plot the first nine images. It may take a few minutes to load."
      ]
    },
    {
      "cell_type": "code",
      "execution_count": 6,
      "metadata": {
        "execution": {},
        "colab": {
          "base_uri": "https://localhost:8080/",
          "height": 430
        },
        "id": "c5smHCrnQlY7",
        "outputId": "d8cafe42-5109-4509-a3cd-2cf38453f691"
      },
      "outputs": [
        {
          "output_type": "display_data",
          "data": {
            "text/plain": [
              "<Figure size 576x432 with 1 Axes>"
            ],
            "image/png": "[encoded data removed]"
          },
          "metadata": {
            "image/png": {
              "width": 418,
              "height": 413
            }
          }
        }
      ],
      "source": [
        "from sklearn.datasets import fetch_openml\n",
        "\n",
        "# GET mnist data\n",
        "mnist = fetch_openml(name='mnist_784', as_frame = False)\n",
        "X = mnist.data\n",
        "\n",
        "# Visualize\n",
        "plot_MNIST_sample(X)"
      ]
    },
    {
      "cell_type": "markdown",
      "metadata": {
        "execution": {},
        "id": "wRkM3dcDQlY7"
      },
      "source": [
        "The MNIST dataset has an extrinsic dimensionality of 784, much higher than the 2-dimensional examples used in the previous tutorials! To make sense of this data, we'll use dimensionality reduction. But first, we need to determine the intrinsic dimensionality $K$ of the data. One way to do this is to look for an \"elbow\" in the scree plot, to determine which eigenvalues are significant."
      ]
    },
    {
      "cell_type": "markdown",
      "metadata": {
        "execution": {},
        "id": "MUxIV-WMQlY8"
      },
      "source": [
        "## Coding Exercise 1: Scree plot of MNIST\n",
        "\n",
        "In this exercise you will examine the scree plot in the MNIST dataset.\n",
        "\n",
        "**Steps:**\n",
        "- Perform PCA on the dataset using our function `pca` from tutorial 2 (already loaded in) and examine the scree plot. \n",
        "- When do the eigenvalues appear (by eye) to reach zero? (**Hint:** use `plt.xlim` to zoom into a section of the plot).\n"
      ]
    },
    {
      "cell_type": "code",
      "execution_count": 7,
      "metadata": {
        "execution": {},
        "colab": {
          "base_uri": "https://localhost:8080/"
        },
        "id": "pa6_da9HQlY8",
        "outputId": "9e14dca9-9192-4987-daaa-9fd1849d7444"
      },
      "outputs": [
        {
          "output_type": "stream",
          "name": "stdout",
          "text": [
            "Help on function pca in module __main__:\n",
            "\n",
            "pca(X)\n",
            "    Performs PCA on multivariate data. Eigenvalues are sorted in decreasing order\n",
            "    \n",
            "    Args:\n",
            "       X (numpy array of floats) :   Data matrix each column corresponds to a\n",
            "                                     different random variable\n",
            "    \n",
            "    Returns:\n",
            "      (numpy array of floats)    : Data projected onto the new basis\n",
            "      (numpy array of floats)    : Corresponding matrix of eigenvectors\n",
            "      (numpy array of floats)    : Vector of eigenvalues\n",
            "\n"
          ]
        }
      ],
      "source": [
        "help(pca)"
      ]
    },
    {
      "cell_type": "code",
      "execution_count": 10,
      "metadata": {
        "execution": {},
        "colab": {
          "base_uri": "https://localhost:8080/",
          "height": 447
        },
        "id": "xtiAR9v0QlY9",
        "outputId": "b1853db3-73e7-472f-aa44-d40f8dc64bb7"
      },
      "outputs": [
        {
          "output_type": "execute_result",
          "data": {
            "text/plain": [
              "(0.0, 100.0)"
            ]
          },
          "metadata": {},
          "execution_count": 10
        },
        {
          "output_type": "display_data",
          "data": {
            "text/plain": [
              "<Figure size 576x432 with 1 Axes>"
            ],
            "image/png": "[encoded data removed]"
          },
          "metadata": {
            "image/png": {
              "width": 558,
              "height": 413
            },
            "needs_background": "light"
          }
        }
      ],
      "source": [
        "#################################################\n",
        "## TODO for students\n",
        "# Fill out function and remove\n",
        "#raise NotImplementedError(\"Student exercise: perform PCA and visualize scree plot\")\n",
        "#################################################\n",
        "\n",
        "# Perform PCA\n",
        "score, evectors, evals = pca(X)\n",
        "\n",
        "# Plot the eigenvalues\n",
        "plot_eigenvalues(evals, limit=False)\n",
        "plt.xlim(0,100)  # limit x-axis up to 100 for zooming"
      ]
    },
    {
      "cell_type": "markdown",
      "metadata": {
        "execution": {},
        "id": "BKyhstMbQlY9"
      },
      "source": [
        "[*Click for solution*](https://github.com/NeuromatchAcademy/course-content/tree/main//tutorials/W1D4_DimensionalityReduction/solutions/W1D4_Tutorial3_Solution_d8411e54.py)\n",
        "\n",
        "*Example output:*\n",
        "\n",
        "<img alt='Solution hint' align='left' width=849.0 height=561.0 src=https://raw.githubusercontent.com/NeuromatchAcademy/course-content/main/tutorials/W1D4_DimensionalityReduction/static/W1D4_Tutorial3_Solution_d8411e54_0.png>\n",
        "\n"
      ]
    },
    {
      "cell_type": "markdown",
      "metadata": {
        "execution": {},
        "id": "8L4d_1dvQlY-"
      },
      "source": [
        "---\n",
        "# Section 2: Calculate the variance explained\n",
        "\n",
        "*Estimated timing to here from start of tutorial: 15 min*\n",
        "\n",
        "The scree plot suggests that most of the eigenvalues are near zero, with fewer than 100 having large values. Another common way to determine the intrinsic dimensionality is by considering the variance explained. This can be examined with a cumulative plot of the fraction of the total variance explained by the top $K$ components, i.e.,\n",
        "\n",
        "\\begin{equation}\n",
        "\\text{var explained} = \\frac{\\sum_{i=1}^K \\lambda_i}{\\sum_{i=1}^N \\lambda_i}\n",
        "\\end{equation}\n",
        "\n",
        "where $\\lambda_i$ is the $i^{th}$ eigenvalue and $N$ is the total number of components (the original number of dimensions in the data).\n",
        "\n",
        "The intrinsic dimensionality is often quantified by the $K$ necessary to explain a large proportion of the total variance of the data (often a defined threshold, e.g., 90%)."
      ]
    },
    {
      "cell_type": "markdown",
      "metadata": {
        "execution": {},
        "id": "mxmscA7EQlY_"
      },
      "source": [
        "## Coding Exercise 2: Plot the explained variance\n",
        "\n",
        "In this exercise you will plot the explained variance.\n",
        "\n",
        "**Steps:**\n",
        "- Fill in the function below to calculate the fraction variance explained as a function of the number of principal components. **Hint:** use `np.cumsum`.\n",
        "- Plot the variance explained using `plot_variance_explained`.\n",
        "\n",
        "**Questions:**\n",
        "- How many principal components are required to explain 90% of the variance?\n",
        "- How does the intrinsic dimensionality of this dataset compare to its extrinsic dimensionality?\n"
      ]
    },
    {
      "cell_type": "code",
      "execution_count": 11,
      "metadata": {
        "execution": {},
        "colab": {
          "base_uri": "https://localhost:8080/",
          "height": 431
        },
        "id": "dwwu0QQGQlY_",
        "outputId": "1f0d3c3e-3877-4d98-d795-80f5e0f4ace5"
      },
      "outputs": [
        {
          "output_type": "display_data",
          "data": {
            "text/plain": [
              "<Figure size 576x432 with 1 Axes>"
            ],
            "image/png": "[encoded data removed]"
          },
          "metadata": {
            "image/png": {
              "width": 558,
              "height": 414
            },
            "needs_background": "light"
          }
        }
      ],
      "source": [
        "def get_variance_explained(evals):\n",
        "  \"\"\"\n",
        "  Calculates variance explained from the eigenvalues.\n",
        "\n",
        "  Args:\n",
        "    evals (numpy array of floats) : Vector of eigenvalues\n",
        "\n",
        "  Returns:\n",
        "    (numpy array of floats)       : Vector of variance explained\n",
        "\n",
        "  \"\"\"\n",
        "\n",
        "  #################################################\n",
        "  ## TO DO for students: calculate the explained variance using the equation\n",
        "  ## from Section 2.\n",
        "  # Comment once you've filled in the function\n",
        "  #raise NotImplementedError(\"Student exercise: calculate explain variance!\")\n",
        "  #################################################\n",
        "\n",
        "  # Cumulatively sum the eigenvalues\n",
        "  csum = np.cumsum(evals)\n",
        "\n",
        "  # Normalize by the sum of eigenvalues\n",
        "  variance_explained = csum / csum[-1]\n",
        "\n",
        "  return variance_explained\n",
        "\n",
        "\n",
        "# Calculate the variance explained\n",
        "variance_explained = get_variance_explained(evals)\n",
        "\n",
        "# Visualize\n",
        "plot_variance_explained(variance_explained)"
      ]
    },
    {
      "cell_type": "markdown",
      "metadata": {
        "execution": {},
        "id": "wWNg-kALQlZA"
      },
      "source": [
        "[*Click for solution*](https://github.com/NeuromatchAcademy/course-content/tree/main//tutorials/W1D4_DimensionalityReduction/solutions/W1D4_Tutorial3_Solution_a4ac4c9c.py)\n",
        "\n",
        "*Example output:*\n",
        "\n",
        "<img alt='Solution hint' align='left' width=831.0 height=544.0 src=https://raw.githubusercontent.com/NeuromatchAcademy/course-content/main/tutorials/W1D4_DimensionalityReduction/static/W1D4_Tutorial3_Solution_a4ac4c9c_0.png>\n",
        "\n"
      ]
    },
    {
      "cell_type": "markdown",
      "metadata": {
        "execution": {},
        "id": "J9a648foQlZA"
      },
      "source": [
        "---\n",
        "# Section 3: Reconstruct data with different numbers of PCs\n",
        "\n",
        "*Estimated timing to here from start of tutorial: 25 min*\n",
        "\n"
      ]
    },
    {
      "cell_type": "code",
      "execution_count": 12,
      "metadata": {
        "cellView": "form",
        "execution": {},
        "colab": {
          "base_uri": "https://localhost:8080/",
          "height": 580,
          "referenced_widgets": [
            "642c80b4ca8049fbaba705524e554a5e",
            "687bf64dbbed424dae6d759a08d7dab1",
            "ac1373786a9b42829e4c805c194d6db2",
            "862913790ed7469eb10b4a1e5bec4251",
            "b88c6231a07a4f6fb8de5feefaac5887",
            "5cb19b352249425c9bb38144b9ffa4bf"
          ]
        },
        "id": "hFIhx5OyQlZB",
        "outputId": "330d3261-c9af-4d9d-ab04-9f3188abf29c"
      },
      "outputs": [
        {
          "output_type": "display_data",
          "data": {
            "text/plain": [
              "Tab(children=(Output(), Output()), _titles={'0': 'Youtube', '1': 'Bilibili'})"
            ],
            "application/vnd.jupyter.widget-view+json": {
              "version_major": 2,
              "version_minor": 0,
              "model_id": "642c80b4ca8049fbaba705524e554a5e"
            }
          },
          "metadata": {}
        }
      ],
      "source": [
        "# @title Video 2: Data Reconstruction\n",
        "from ipywidgets import widgets\n",
        "\n",
        "out2 = widgets.Output()\n",
        "with out2:\n",
        "  from IPython.display import IFrame\n",
        "  class BiliVideo(IFrame):\n",
        "      def __init__(self, id, page=1, width=400, height=300, **kwargs):\n",
        "          self.id=id\n",
        "          src = 'https://player.bilibili.com/player.html?bvid={0}&page={1}'.format(id, page)\n",
        "          super(BiliVideo, self).__init__(src, width, height, **kwargs)\n",
        "\n",
        "  video = BiliVideo(id=\"BV1XK4y1s7KF\", width=854, height=480, fs=1)\n",
        "  print('Video available at https://www.bilibili.com/video/{0}'.format(video.id))\n",
        "  display(video)\n",
        "\n",
        "out1 = widgets.Output()\n",
        "with out1:\n",
        "  from IPython.display import YouTubeVideo\n",
        "  video = YouTubeVideo(id=\"ZCUhW26AdBQ\", width=854, height=480, fs=1, rel=0)\n",
        "  print('Video available at https://youtube.com/watch?v=' + video.id)\n",
        "  display(video)\n",
        "\n",
        "out = widgets.Tab([out1, out2])\n",
        "out.set_title(0, 'Youtube')\n",
        "out.set_title(1, 'Bilibili')\n",
        "\n",
        "display(out)"
      ]
    },
    {
      "cell_type": "markdown",
      "metadata": {
        "execution": {},
        "id": "BsGipaLUQlZB"
      },
      "source": [
        "Now we have seen that the top 100 or so principal components of the data can explain most of the variance. We can use this fact to perform *dimensionality reduction*, i.e., by storing the data using only 100 components rather than the samples of all 784 pixels. Remarkably, we will be able to reconstruct much of the structure of the data using only the top 100 components. To see this, recall that to perform PCA we projected the data $\\bf X$ onto the eigenvectors of the covariance matrix:\n",
        "\n",
        "\\begin{equation}\n",
        "\\bf S = X W\n",
        "\\end{equation}\n",
        "\n",
        "Since $\\bf W$ is an orthogonal matrix, ${\\bf W}^{-1} = {\\bf W}^\\top$. So by multiplying by ${\\bf W}^\\top$ on each side we can rewrite this equation as  \n",
        "\n",
        "\\begin{equation}\n",
        "{\\bf X = S W}^\\top.\n",
        "\\end{equation}\n",
        "\n",
        "This now gives us a way to reconstruct the data matrix from the scores and loadings. To reconstruct the data from a low-dimensional approximation, we just have to truncate these matrices.  Let's denote ${\\bf S}_{1:K}$ and ${\\bf W}_{1:K}$ the matrices with only the first $K$ columns of $\\bf S$ and $\\bf W$, respectively. Then our reconstruction is:\n",
        "\n",
        "\\begin{equation}\n",
        "{\\bf \\hat X = S}_{1:K} ({\\bf W}_{1:K})^\\top.\n",
        "\\end{equation}"
      ]
    },
    {
      "cell_type": "markdown",
      "metadata": {
        "execution": {},
        "id": "O8S4ZmEyQlZC"
      },
      "source": [
        "## Coding Exercise 3: Data reconstruction\n",
        "\n",
        "Fill in the function below to reconstruct the data using different numbers of principal components. \n",
        "\n",
        "**Steps:**\n",
        "\n",
        "* Fill in the following function to reconstruct the data based on the weights and scores. Don't forget to add the mean!\n",
        "* Make sure your function works by reconstructing the data with all $K=784$ components. The two images should look identical."
      ]
    },
    {
      "cell_type": "code",
      "execution_count": 16,
      "metadata": {
        "execution": {},
        "colab": {
          "base_uri": "https://localhost:8080/",
          "height": 309
        },
        "id": "B9uAr368QlZC",
        "outputId": "953e51ff-b9eb-4e44-cbbc-041a1363fdd7"
      },
      "outputs": [
        {
          "output_type": "display_data",
          "data": {
            "text/plain": [
              "<Figure size 576x432 with 2 Axes>"
            ],
            "image/png": "[encoded data removed]"
          },
          "metadata": {
            "image/png": {
              "width": 558,
              "height": 292
            }
          }
        }
      ],
      "source": [
        "def reconstruct_data(score, evectors, X_mean, K):\n",
        "  \"\"\"\n",
        "  Reconstruct the data based on the top K components.\n",
        "\n",
        "  Args:\n",
        "    score (numpy array of floats)    : Score matrix\n",
        "    evectors (numpy array of floats) : Matrix of eigenvectors\n",
        "    X_mean (numpy array of floats)   : Vector corresponding to data mean\n",
        "    K (scalar)                       : Number of components to include\n",
        "\n",
        "  Returns:\n",
        "    (numpy array of floats)          : Matrix of reconstructed data\n",
        "\n",
        "  \"\"\"\n",
        "\n",
        "  #################################################\n",
        "  ## TO DO for students: Reconstruct the original data in X_reconstructed\n",
        "  # Comment once you've filled in the function\n",
        "  #raise NotImplementedError(\"Student exercise: reconstructing data function!\")\n",
        "  #################################################\n",
        "\n",
        "  # Reconstruct the data from the score and eigenvectors\n",
        "  # Don't forget to add the mean!!\n",
        "  X_reconstructed =  score[:,0:K] @ evectors[:,0:K].T + X_mean\n",
        "\n",
        "  return X_reconstructed\n",
        "\n",
        "\n",
        "K = 784\n",
        "\n",
        "# Reconstruct the data based on all components\n",
        "X_mean = np.mean(X, 0)\n",
        "X_reconstructed = reconstruct_data(score, evectors, X_mean, K)\n",
        "\n",
        "# Plot the data and reconstruction\n",
        "plot_MNIST_reconstruction(X, X_reconstructed)"
      ]
    },
    {
      "cell_type": "markdown",
      "metadata": {
        "execution": {},
        "id": "fQojdESrQlZD"
      },
      "source": [
        "[*Click for solution*](https://github.com/NeuromatchAcademy/course-content/tree/main//tutorials/W1D4_DimensionalityReduction/solutions/W1D4_Tutorial3_Solution_e3395916.py)\n",
        "\n",
        "*Example output:*\n",
        "\n",
        "<img alt='Solution hint' align='left' width=849.0 height=451.0 src=https://raw.githubusercontent.com/NeuromatchAcademy/course-content/main/tutorials/W1D4_DimensionalityReduction/static/W1D4_Tutorial3_Solution_e3395916_0.png>\n",
        "\n"
      ]
    },
    {
      "cell_type": "markdown",
      "metadata": {
        "execution": {},
        "id": "qP0YoCQ3QlZD"
      },
      "source": [
        "## Interactive Demo 3: Reconstruct the data matrix using different numbers of PCs\n",
        "\n",
        "Now run the code below and experiment with the slider to reconstruct the data matrix using different numbers of principal components.\n",
        "\n",
        "1.  How many principal components are necessary to reconstruct the numbers (by eye)? How does this relate to the intrinsic dimensionality of the data?\n",
        "2.  Do you see any information in the data with only a single principal component?"
      ]
    },
    {
      "cell_type": "code",
      "execution_count": 17,
      "metadata": {
        "cellView": "form",
        "execution": {},
        "colab": {
          "base_uri": "https://localhost:8080/",
          "height": 341,
          "referenced_widgets": [
            "171bbbddd7d6466cbc6cf1722d9c51ed",
            "eaf838c13a1447198f9e7c6a247f734a",
            "9b12aebdf61b45bc98ebddb2a1c16077",
            "98087cf0789c4e26aea88bdb7a7ddbde",
            "f7ce5f1679c34bd6abd6b944ddfdd156",
            "12588c937ce9471d994419e9e6f1e523",
            "dc5dca5e70014c4aa1209f57f094cfd6"
          ]
        },
        "id": "4hWV8CPPQlZD",
        "outputId": "0f66b6a8-6e5a-4c42-c29d-2bb86f5de296"
      },
      "outputs": [
        {
          "output_type": "display_data",
          "data": {
            "text/plain": [
              "interactive(children=(IntSlider(value=100, description='K', max=784, min=1, step=10), Output()), _dom_classes=…"
            ],
            "application/vnd.jupyter.widget-view+json": {
              "version_major": 2,
              "version_minor": 0,
              "model_id": "171bbbddd7d6466cbc6cf1722d9c51ed"
            }
          },
          "metadata": {}
        }
      ],
      "source": [
        "# @title\n",
        "\n",
        "# @markdown Make sure you execute this cell to enable the widget!\n",
        "\n",
        "\n",
        "def refresh(K=100):\n",
        "  X_reconstructed = reconstruct_data(score, evectors, X_mean, K)\n",
        "  plot_MNIST_reconstruction(X, X_reconstructed)\n",
        "  plt.title('Reconstructed, K={}'.format(K))\n",
        "\n",
        "\n",
        "_ = widgets.interact(refresh, K=(1, 784, 10))"
      ]
    },
    {
      "cell_type": "markdown",
      "metadata": {
        "execution": {},
        "id": "5baG5vcRQlZE"
      },
      "source": [
        "[*Click for solution*](https://github.com/NeuromatchAcademy/course-content/tree/main//tutorials/W1D4_DimensionalityReduction/solutions/W1D4_Tutorial3_Solution_f041ae81.py)\n",
        "\n"
      ]
    },
    {
      "cell_type": "markdown",
      "metadata": {
        "execution": {},
        "id": "mUHUc7_HQlZE"
      },
      "source": [
        "---\n",
        "# Section 4: Visualize PCA components\n",
        "\n",
        "*Estimated timing to here from start of tutorial: 40 min*"
      ]
    },
    {
      "cell_type": "markdown",
      "metadata": {
        "execution": {},
        "id": "PpcaEm6LQlZE"
      },
      "source": [
        "## Coding Exercise 4: Visualization of the weights\n",
        "\n",
        "Next, let's take a closer look at the first principal component by visualizing its corresponding weights. \n",
        "\n",
        "**Steps:**\n",
        "\n",
        "* Enter `plot_MNIST_weights` to visualize the weights of the first basis vector.\n",
        "* What structure do you see? Which pixels have a strong positive weighting? Which have a strong negative weighting? What kinds of images would this basis vector differentiate (hint: think about the last demo with 1 component)?\n",
        "* Try visualizing the second and third basis vectors. Do you see any structure? What about the 100th basis vector? 500th? 700th?"
      ]
    },
    {
      "cell_type": "code",
      "execution_count": 18,
      "metadata": {
        "execution": {},
        "colab": {
          "base_uri": "https://localhost:8080/"
        },
        "id": "pvW3pry-QlZG",
        "outputId": "cb2f7685-b280-47e3-cfc9-c772d06d8543"
      },
      "outputs": [
        {
          "output_type": "stream",
          "name": "stdout",
          "text": [
            "Help on function plot_MNIST_weights in module __main__:\n",
            "\n",
            "plot_MNIST_weights(weights)\n",
            "    Visualize PCA basis vector weights for MNIST. Red = positive weights,\n",
            "    blue = negative weights, white = zero weight.\n",
            "    \n",
            "    Args:\n",
            "       weights (numpy array of floats) : PCA basis vector\n",
            "    \n",
            "    Returns:\n",
            "       Nothing.\n",
            "\n"
          ]
        }
      ],
      "source": [
        "help(plot_MNIST_weights)"
      ]
    },
    {
      "cell_type": "code",
      "execution_count": 21,
      "metadata": {
        "execution": {},
        "colab": {
          "base_uri": "https://localhost:8080/",
          "height": 431
        },
        "id": "QYpMLUwqQlZG",
        "outputId": "7f3f2a50-6ba8-44eb-e757-9231270029c6"
      },
      "outputs": [
        {
          "output_type": "display_data",
          "data": {
            "text/plain": [
              "<Figure size 576x432 with 2 Axes>"
            ],
            "image/png": "[encoded data removed]"
          },
          "metadata": {
            "image/png": {
              "width": 500,
              "height": 414
            },
            "needs_background": "light"
          }
        }
      ],
      "source": [
        "################################################################\n",
        "# Comment once you've filled in the function\n",
        "#raise NotImplementedError(\"Student exercise: visualize PCA components\")\n",
        "################################################################\n",
        "\n",
        "# Plot the weights of the first principal component\n",
        "plot_MNIST_weights(evectors[:,0])"
      ]
    },
    {
      "cell_type": "markdown",
      "metadata": {
        "execution": {},
        "id": "72D2m6X-QlZI"
      },
      "source": [
        "[*Click for solution*](https://github.com/NeuromatchAcademy/course-content/tree/main//tutorials/W1D4_DimensionalityReduction/solutions/W1D4_Tutorial3_Solution_d27990ad.py)\n",
        "\n",
        "*Example output:*\n",
        "\n",
        "<img alt='Solution hint' align='left' width=682.0 height=544.0 src=https://raw.githubusercontent.com/NeuromatchAcademy/course-content/main/tutorials/W1D4_DimensionalityReduction/static/W1D4_Tutorial3_Solution_d27990ad_0.png>\n",
        "\n"
      ]
    },
    {
      "cell_type": "markdown",
      "metadata": {
        "execution": {},
        "id": "nAEdLnFNQlZI"
      },
      "source": [
        "---\n",
        "# Summary\n",
        "\n",
        "*Estimated timing of tutorial: 50 minutes*\n",
        "\n",
        "* In this tutorial, we learned how to use PCA for dimensionality reduction by selecting the top principal components. This can be useful as the intrinsic dimensionality ($K$) is often less than the extrinsic dimensionality ($N$) in neural data. $K$ can be inferred by choosing the number of eigenvalues necessary to capture some fraction of the variance.\n",
        "* We also learned how to reconstruct an approximation of the original data using the top $K$ principal components. In fact, an alternate formulation of PCA is to find the $K$ dimensional space that minimizes the reconstruction error.\n",
        "* Noise tends to inflate the apparent intrinsic dimensionality, however the higher components reflect noise rather than new structure in the data. PCA can be used for denoising data by removing noisy higher components.\n",
        "* In MNIST, the weights corresponding to the first principal component appear to discriminate between a 0 and 1. We will discuss the implications of this for data visualization in the following tutorial."
      ]
    },
    {
      "cell_type": "markdown",
      "metadata": {
        "execution": {},
        "id": "bSBD7vknQlZJ"
      },
      "source": [
        "---\n",
        "# Notation\n",
        "\n",
        "\\begin{align}\n",
        "K &\\quad \\text{selected number of principal components}\\\\\n",
        "N &\\quad \\text{total number of principal components}\\\\\n",
        "\\bf W &\\quad \\text{weights, loadings matrix}\\\\\n",
        "{\\bf X} &\\quad \\text{original data matrix}\\\\\n",
        "\\bf S &\\quad \\text{projected matrix, scores}\\\\\n",
        "{\\bf S}_{1:K} &\\quad \\text{first K columns of score matrix } \\bf S\\\\\n",
        "{\\bf W}_{1:K} &\\quad \\text{first K columns of weight matrix } \\bf W\\\\\n",
        "\\end{align}"
      ]
    },
    {
      "cell_type": "markdown",
      "metadata": {
        "execution": {},
        "id": "n3k5hbtJQlZJ"
      },
      "source": [
        "---\n",
        "# Bonus"
      ]
    },
    {
      "cell_type": "markdown",
      "metadata": {
        "execution": {},
        "id": "yff1JyrPQlZK"
      },
      "source": [
        "---\n",
        "## Bonus Section 1: Examine denoising using PCA\n",
        "\n",
        "In this lecture, we saw that PCA finds an optimal low-dimensional basis to minimize the reconstruction error. Because of this property, PCA can be useful for denoising corrupted samples of the data."
      ]
    },
    {
      "cell_type": "markdown",
      "metadata": {
        "execution": {},
        "id": "4YO5e-4vQlZK"
      },
      "source": [
        "### Bonus Coding Exercise 1: Add noise to the data\n",
        "In this exercise you will add salt-and-pepper noise to the original data and see how that affects the eigenvalues. \n",
        "\n",
        "**Steps:**\n",
        "- Use the function `add_noise` to add noise to 20% of the pixels.\n",
        "- Then, perform PCA and plot the variance explained. How many principal components are required to explain 90% of the variance? How does this compare to the original data? \n"
      ]
    },
    {
      "cell_type": "code",
      "execution_count": 22,
      "metadata": {
        "execution": {},
        "colab": {
          "base_uri": "https://localhost:8080/"
        },
        "id": "EowR1hPdQlZK",
        "outputId": "0b122a33-1ace-4280-f220-4cd513a80c41"
      },
      "outputs": [
        {
          "output_type": "stream",
          "name": "stdout",
          "text": [
            "Help on function add_noise in module __main__:\n",
            "\n",
            "add_noise(X, frac_noisy_pixels)\n",
            "    Randomly corrupts a fraction of the pixels by setting them to random values.\n",
            "    \n",
            "    Args:\n",
            "       X (numpy array of floats)  : Data matrix\n",
            "       frac_noisy_pixels (scalar) : Fraction of noisy pixels\n",
            "    \n",
            "    Returns:\n",
            "       (numpy array of floats)    : Data matrix + noise\n",
            "\n"
          ]
        }
      ],
      "source": [
        "help(add_noise)"
      ]
    },
    {
      "cell_type": "code",
      "execution_count": 24,
      "metadata": {
        "execution": {},
        "colab": {
          "base_uri": "https://localhost:8080/",
          "height": 843
        },
        "id": "JqJ4Q00XQlZL",
        "outputId": "a54f0478-db90-4727-f4ba-dcd986ecf1ec"
      },
      "outputs": [
        {
          "output_type": "display_data",
          "data": {
            "text/plain": [
              "<Figure size 576x432 with 1 Axes>"
            ],
            "image/png": "[encoded data removed]"
          },
          "metadata": {
            "image/png": {
              "width": 418,
              "height": 413
            }
          }
        },
        {
          "output_type": "display_data",
          "data": {
            "text/plain": [
              "<Figure size 576x432 with 1 Axes>"
            ],
            "image/png": "[encoded data removed]"
          },
          "metadata": {
            "image/png": {
              "width": 558,
              "height": 413
            },
            "needs_background": "light"
          }
        }
      ],
      "source": [
        "#################################################\n",
        "## TO DO for students\n",
        "# Comment once you've filled in the function\n",
        "#raise NotImplementedError(\"Student exercise: make MNIST noisy and compute PCA!\")\n",
        "#################################################\n",
        "\n",
        "np.random.seed(2020)  # set random seed\n",
        "\n",
        "# Add noise to data\n",
        "X_noisy = add_noise(X, 0.2)\n",
        "\n",
        "# Perform PCA on noisy data\n",
        "score_noisy, evectors_noisy, evals_noisy = pca(X_noisy)\n",
        "\n",
        "# Compute variance explained\n",
        "variance_explained_noisy = get_variance_explained(evals_noisy)\n",
        "\n",
        "# Visualize\n",
        "plot_MNIST_sample(X_noisy)\n",
        "plot_variance_explained(variance_explained_noisy)"
      ]
    },
    {
      "cell_type": "markdown",
      "metadata": {
        "execution": {},
        "id": "R-YsNZOXQlZM"
      },
      "source": [
        "[*Click for solution*](https://github.com/NeuromatchAcademy/course-content/tree/main//tutorials/W1D4_DimensionalityReduction/solutions/W1D4_Tutorial3_Solution_9615a6cd.py)\n",
        "\n"
      ]
    },
    {
      "cell_type": "markdown",
      "metadata": {
        "execution": {},
        "id": "T2mLRnPfQlZM"
      },
      "source": [
        "### Bonus Coding Exercise 2: Denoising\n",
        "\n",
        "Next, use PCA to perform denoising by projecting the noise-corrupted data onto the basis vectors found from the original dataset. By taking the top K components of this projection, we can reduce noise in dimensions orthogonal to the K-dimensional latent space. \n",
        "\n",
        "**Steps:**\n",
        "- Subtract the mean of the noise-corrupted data.\n",
        "- Project the data onto the basis found with the original dataset (`evectors`, not `evectors_noisy`) and take the top $K$ components. \n",
        "- Reconstruct the data as normal, using the top 50 components. \n",
        "- Play around with the amount of noise and K to build intuition.\n"
      ]
    },
    {
      "cell_type": "code",
      "execution_count": null,
      "metadata": {
        "execution": {},
        "id": "FSBOCEshQlZN"
      },
      "outputs": [],
      "source": [
        "#################################################\n",
        "## TO DO for students\n",
        "# Comment once you've filled in the function\n",
        "raise NotImplementedError(\"Student exercise: reconstruct noisy data from PCA\")\n",
        "#################################################\n",
        "\n",
        "np.random.seed(2020)  # set random seed\n",
        "\n",
        "# Add noise to data\n",
        "X_noisy = add_noise(X, 0.2)\n",
        "\n",
        "# Compute mean of noise-corrupted data\n",
        "X_noisy_mean = np.mean(X_noisy, axis=0) #compute mean across cols\n",
        "\n",
        "# Project onto the original basis vectors\n",
        "projX_noisy = X_noisy[@evectors\n",
        "\n",
        "# Reconstruct the data using the top 50 components\n",
        "X_reconstructed = ...\n",
        "\n",
        "# Visualize\n",
        "plot_MNIST_reconstruction(X_noisy, X_reconstructed)"
      ]
    },
    {
      "cell_type": "markdown",
      "metadata": {
        "execution": {},
        "id": "PQ0uXLa8QlZN"
      },
      "source": [
        "[*Click for solution*](https://github.com/NeuromatchAcademy/course-content/tree/main//tutorials/W1D4_DimensionalityReduction/solutions/W1D4_Tutorial3_Solution_38d38d89.py)\n",
        "\n",
        "*Example output:*\n",
        "\n",
        "<img alt='Solution hint' align='left' width=849.0 height=451.0 src=https://raw.githubusercontent.com/NeuromatchAcademy/course-content/main/tutorials/W1D4_DimensionalityReduction/static/W1D4_Tutorial3_Solution_38d38d89_0.png>\n",
        "\n"
      ]
    }
  ],
  "metadata": {
    "colab": {
      "collapsed_sections": [
        "NgVDJxt9fWm9",
        "KXKX7e8hfWnB"
      ],
      "name": "W1D4_Tutorial3",
      "provenance": [],
      "toc_visible": true,
      "include_colab_link": true
    },
    "kernel": {
      "display_name": "Python 3",
      "language": "python",
      "name": "python3"
    },
    "kernelspec": {
      "display_name": "Python 3",
      "language": "python",
      "name": "python3"
    },
    "language_info": {
      "codemirror_mode": {
        "name": "ipython",
        "version": 3
      },
      "file_extension": ".py",
      "mimetype": "text/x-python",
      "name": "python",
      "nbconvert_exporter": "python",
      "pygments_lexer": "ipython3",
      "version": "3.7.13"
    },
    "widgets": {
      "application/vnd.jupyter.widget-state+json": {
        "cb847daaae10452e8892382d0d338d15": {
          "model_module": "@jupyter-widgets/controls",
          "model_name": "TabModel",
          "model_module_version": "1.5.0",
          "state": {
            "_dom_classes": [],
            "_model_module": "@jupyter-widgets/controls",
            "_model_module_version": "1.5.0",
            "_model_name": "TabModel",
            "_titles": {
              "0": "Youtube",
              "1": "Bilibili"
            },
            "_view_count": null,
            "_view_module": "@jupyter-widgets/controls",
            "_view_module_version": "1.5.0",
            "_view_name": "TabView",
            "box_style": "",
            "children": [
              "IPY_MODEL_dc3135171495412f9ff35de37f06b22a",
              "IPY_MODEL_7f4b46a6443647b9b010dd846fd6e3d8"
            ],
            "layout": "IPY_MODEL_a4dd0711c61949ca81fa5ae0acd089d0",
            "selected_index": 0
          }
        },
        "dc3135171495412f9ff35de37f06b22a": {
          "model_module": "@jupyter-widgets/output",
          "model_name": "OutputModel",
          "model_module_version": "1.0.0",
          "state": {
            "_dom_classes": [],
            "_model_module": "@jupyter-widgets/output",
            "_model_module_version": "1.0.0",
            "_model_name": "OutputModel",
            "_view_count": null,
            "_view_module": "@jupyter-widgets/output",
            "_view_module_version": "1.0.0",
            "_view_name": "OutputView",
            "layout": "IPY_MODEL_68c69b3729b84ec08de3f027dc10ec58",
            "msg_id": "",
            "outputs": [
              {
                "output_type": "stream",
                "name": "stdout",
                "text": [
                  "Video available at https://youtube.com/watch?v=oO0bbInoO_0\n"
                ]
              },
              {
                "output_type": "display_data",
                "data": {
                  "text/plain": "<IPython.lib.display.YouTubeVideo at 0x7f493e41a310>",
                  "text/html": "\n        <iframe\n            width=\"854\"\n            height=\"480\"\n            src=\"https://www.youtube.com/embed/oO0bbInoO_0?fs=1&rel=0\"\n            frameborder=\"0\"\n            allowfullscreen\n        ></iframe>\n        ",
                  "image/jpeg": "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\n"
                },
                "metadata": {}
              }
            ]
          }
        },
        "7f4b46a6443647b9b010dd846fd6e3d8": {
          "model_module": "@jupyter-widgets/output",
          "model_name": "OutputModel",
          "model_module_version": "1.0.0",
          "state": {
            "_dom_classes": [],
            "_model_module": "@jupyter-widgets/output",
            "_model_module_version": "1.0.0",
            "_model_name": "OutputModel",
            "_view_count": null,
            "_view_module": "@jupyter-widgets/output",
            "_view_module_version": "1.0.0",
            "_view_name": "OutputView",
            "layout": "IPY_MODEL_cd8fd924b71b424a995aead9faff7da6",
            "msg_id": "",
            "outputs": [
              {
                "output_type": "stream",
                "name": "stdout",
                "text": [
                  "Video available at https://www.bilibili.com/video/BV1up4y1S7xs\n"
                ]
              },
              {
                "output_type": "display_data",
                "data": {
                  "text/plain": "<__main__.BiliVideo at 0x7f493e41a5d0>",
                  "text/html": "\n        <iframe\n            width=\"854\"\n            height=\"480\"\n            src=\"https://player.bilibili.com/player.html?bvid=BV1up4y1S7xs&page=1?fs=1\"\n            frameborder=\"0\"\n            allowfullscreen\n        ></iframe>\n        "
                },
                "metadata": {}
              }
            ]
          }
        },
        "a4dd0711c61949ca81fa5ae0acd089d0": {
          "model_module": "@jupyter-widgets/base",
          "model_name": "LayoutModel",
          "model_module_version": "1.2.0",
          "state": {
            "_model_module": "@jupyter-widgets/base",
            "_model_module_version": "1.2.0",
            "_model_name": "LayoutModel",
            "_view_count": null,
            "_view_module": "@jupyter-widgets/base",
            "_view_module_version": "1.2.0",
            "_view_name": "LayoutView",
            "align_content": null,
            "align_items": null,
            "align_self": null,
            "border": null,
            "bottom": null,
            "display": null,
            "flex": null,
            "flex_flow": null,
            "grid_area": null,
            "grid_auto_columns": null,
            "grid_auto_flow": null,
            "grid_auto_rows": null,
            "grid_column": null,
            "grid_gap": null,
            "grid_row": null,
            "grid_template_areas": null,
            "grid_template_columns": null,
            "grid_template_rows": null,
            "height": null,
            "justify_content": null,
            "justify_items": null,
            "left": null,
            "margin": null,
            "max_height": null,
            "max_width": null,
            "min_height": null,
            "min_width": null,
            "object_fit": null,
            "object_position": null,
            "order": null,
            "overflow": null,
            "overflow_x": null,
            "overflow_y": null,
            "padding": null,
            "right": null,
            "top": null,
            "visibility": null,
            "width": null
          }
        },
        "68c69b3729b84ec08de3f027dc10ec58": {
          "model_module": "@jupyter-widgets/base",
          "model_name": "LayoutModel",
          "model_module_version": "1.2.0",
          "state": {
            "_model_module": "@jupyter-widgets/base",
            "_model_module_version": "1.2.0",
            "_model_name": "LayoutModel",
            "_view_count": null,
            "_view_module": "@jupyter-widgets/base",
            "_view_module_version": "1.2.0",
            "_view_name": "LayoutView",
            "align_content": null,
            "align_items": null,
            "align_self": null,
            "border": null,
            "bottom": null,
            "display": null,
            "flex": null,
            "flex_flow": null,
            "grid_area": null,
            "grid_auto_columns": null,
            "grid_auto_flow": null,
            "grid_auto_rows": null,
            "grid_column": null,
            "grid_gap": null,
            "grid_row": null,
            "grid_template_areas": null,
            "grid_template_columns": null,
            "grid_template_rows": null,
            "height": null,
            "justify_content": null,
            "justify_items": null,
            "left": null,
            "margin": null,
            "max_height": null,
            "max_width": null,
            "min_height": null,
            "min_width": null,
            "object_fit": null,
            "object_position": null,
            "order": null,
            "overflow": null,
            "overflow_x": null,
            "overflow_y": null,
            "padding": null,
            "right": null,
            "top": null,
            "visibility": null,
            "width": null
          }
        },
        "cd8fd924b71b424a995aead9faff7da6": {
          "model_module": "@jupyter-widgets/base",
          "model_name": "LayoutModel",
          "model_module_version": "1.2.0",
          "state": {
            "_model_module": "@jupyter-widgets/base",
            "_model_module_version": "1.2.0",
            "_model_name": "LayoutModel",
            "_view_count": null,
            "_view_module": "@jupyter-widgets/base",
            "_view_module_version": "1.2.0",
            "_view_name": "LayoutView",
            "align_content": null,
            "align_items": null,
            "align_self": null,
            "border": null,
            "bottom": null,
            "display": null,
            "flex": null,
            "flex_flow": null,
            "grid_area": null,
            "grid_auto_columns": null,
            "grid_auto_flow": null,
            "grid_auto_rows": null,
            "grid_column": null,
            "grid_gap": null,
            "grid_row": null,
            "grid_template_areas": null,
            "grid_template_columns": null,
            "grid_template_rows": null,
            "height": null,
            "justify_content": null,
            "justify_items": null,
            "left": null,
            "margin": null,
            "max_height": null,
            "max_width": null,
            "min_height": null,
            "min_width": null,
            "object_fit": null,
            "object_position": null,
            "order": null,
            "overflow": null,
            "overflow_x": null,
            "overflow_y": null,
            "padding": null,
            "right": null,
            "top": null,
            "visibility": null,
            "width": null
          }
        },
        "642c80b4ca8049fbaba705524e554a5e": {
          "model_module": "@jupyter-widgets/controls",
          "model_name": "TabModel",
          "model_module_version": "1.5.0",
          "state": {
            "_dom_classes": [],
            "_model_module": "@jupyter-widgets/controls",
            "_model_module_version": "1.5.0",
            "_model_name": "TabModel",
            "_titles": {
              "0": "Youtube",
              "1": "Bilibili"
            },
            "_view_count": null,
            "_view_module": "@jupyter-widgets/controls",
            "_view_module_version": "1.5.0",
            "_view_name": "TabView",
            "box_style": "",
            "children": [
              "IPY_MODEL_687bf64dbbed424dae6d759a08d7dab1",
              "IPY_MODEL_ac1373786a9b42829e4c805c194d6db2"
            ],
            "layout": "IPY_MODEL_862913790ed7469eb10b4a1e5bec4251",
            "selected_index": 0
          }
        },
        "687bf64dbbed424dae6d759a08d7dab1": {
          "model_module": "@jupyter-widgets/output",
          "model_name": "OutputModel",
          "model_module_version": "1.0.0",
          "state": {
            "_dom_classes": [],
            "_model_module": "@jupyter-widgets/output",
            "_model_module_version": "1.0.0",
            "_model_name": "OutputModel",
            "_view_count": null,
            "_view_module": "@jupyter-widgets/output",
            "_view_module_version": "1.0.0",
            "_view_name": "OutputView",
            "layout": "IPY_MODEL_b88c6231a07a4f6fb8de5feefaac5887",
            "msg_id": "",
            "outputs": [
              {
                "output_type": "stream",
                "name": "stdout",
                "text": [
                  "Video available at https://youtube.com/watch?v=ZCUhW26AdBQ\n"
                ]
              },
              {
                "output_type": "display_data",
                "data": {
                  "text/plain": "<IPython.lib.display.YouTubeVideo at 0x7f49245234d0>",
                  "text/html": "\n        <iframe\n            width=\"854\"\n            height=\"480\"\n            src=\"https://www.youtube.com/embed/ZCUhW26AdBQ?fs=1&rel=0\"\n            frameborder=\"0\"\n            allowfullscreen\n        ></iframe>\n        ",
                  "image/jpeg": "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\n"
                },
                "metadata": {}
              }
            ]
          }
        },
        "ac1373786a9b42829e4c805c194d6db2": {
          "model_module": "@jupyter-widgets/output",
          "model_name": "OutputModel",
          "model_module_version": "1.0.0",
          "state": {
            "_dom_classes": [],
            "_model_module": "@jupyter-widgets/output",
            "_model_module_version": "1.0.0",
            "_model_name": "OutputModel",
            "_view_count": null,
            "_view_module": "@jupyter-widgets/output",
            "_view_module_version": "1.0.0",
            "_view_name": "OutputView",
            "layout": "IPY_MODEL_5cb19b352249425c9bb38144b9ffa4bf",
            "msg_id": "",
            "outputs": [
              {
                "output_type": "stream",
                "name": "stdout",
                "text": [
                  "Video available at https://www.bilibili.com/video/BV1XK4y1s7KF\n"
                ]
              },
              {
                "output_type": "display_data",
                "data": {
                  "text/plain": "<__main__.BiliVideo at 0x7f49404fe550>",
                  "text/html": "\n        <iframe\n            width=\"854\"\n            height=\"480\"\n            src=\"https://player.bilibili.com/player.html?bvid=BV1XK4y1s7KF&page=1?fs=1\"\n            frameborder=\"0\"\n            allowfullscreen\n        ></iframe>\n        "
                },
                "metadata": {}
              }
            ]
          }
        },
        "862913790ed7469eb10b4a1e5bec4251": {
          "model_module": "@jupyter-widgets/base",
          "model_name": "LayoutModel",
          "model_module_version": "1.2.0",
          "state": {
            "_model_module": "@jupyter-widgets/base",
            "_model_module_version": "1.2.0",
            "_model_name": "LayoutModel",
            "_view_count": null,
            "_view_module": "@jupyter-widgets/base",
            "_view_module_version": "1.2.0",
            "_view_name": "LayoutView",
            "align_content": null,
            "align_items": null,
            "align_self": null,
            "border": null,
            "bottom": null,
            "display": null,
            "flex": null,
            "flex_flow": null,
            "grid_area": null,
            "grid_auto_columns": null,
            "grid_auto_flow": null,
            "grid_auto_rows": null,
            "grid_column": null,
            "grid_gap": null,
            "grid_row": null,
            "grid_template_areas": null,
            "grid_template_columns": null,
            "grid_template_rows": null,
            "height": null,
            "justify_content": null,
            "justify_items": null,
            "left": null,
            "margin": null,
            "max_height": null,
            "max_width": null,
            "min_height": null,
            "min_width": null,
            "object_fit": null,
            "object_position": null,
            "order": null,
            "overflow": null,
            "overflow_x": null,
            "overflow_y": null,
            "padding": null,
            "right": null,
            "top": null,
            "visibility": null,
            "width": null
          }
        },
        "b88c6231a07a4f6fb8de5feefaac5887": {
          "model_module": "@jupyter-widgets/base",
          "model_name": "LayoutModel",
          "model_module_version": "1.2.0",
          "state": {
            "_model_module": "@jupyter-widgets/base",
            "_model_module_version": "1.2.0",
            "_model_name": "LayoutModel",
            "_view_count": null,
            "_view_module": "@jupyter-widgets/base",
            "_view_module_version": "1.2.0",
            "_view_name": "LayoutView",
            "align_content": null,
            "align_items": null,
            "align_self": null,
            "border": null,
            "bottom": null,
            "display": null,
            "flex": null,
            "flex_flow": null,
            "grid_area": null,
            "grid_auto_columns": null,
            "grid_auto_flow": null,
            "grid_auto_rows": null,
            "grid_column": null,
            "grid_gap": null,
            "grid_row": null,
            "grid_template_areas": null,
            "grid_template_columns": null,
            "grid_template_rows": null,
            "height": null,
            "justify_content": null,
            "justify_items": null,
            "left": null,
            "margin": null,
            "max_height": null,
            "max_width": null,
            "min_height": null,
            "min_width": null,
            "object_fit": null,
            "object_position": null,
            "order": null,
            "overflow": null,
            "overflow_x": null,
            "overflow_y": null,
            "padding": null,
            "right": null,
            "top": null,
            "visibility": null,
            "width": null
          }
        },
        "5cb19b352249425c9bb38144b9ffa4bf": {
          "model_module": "@jupyter-widgets/base",
          "model_name": "LayoutModel",
          "model_module_version": "1.2.0",
          "state": {
            "_model_module": "@jupyter-widgets/base",
            "_model_module_version": "1.2.0",
            "_model_name": "LayoutModel",
            "_view_count": null,
            "_view_module": "@jupyter-widgets/base",
            "_view_module_version": "1.2.0",
            "_view_name": "LayoutView",
            "align_content": null,
            "align_items": null,
            "align_self": null,
            "border": null,
            "bottom": null,
            "display": null,
            "flex": null,
            "flex_flow": null,
            "grid_area": null,
            "grid_auto_columns": null,
            "grid_auto_flow": null,
            "grid_auto_rows": null,
            "grid_column": null,
            "grid_gap": null,
            "grid_row": null,
            "grid_template_areas": null,
            "grid_template_columns": null,
            "grid_template_rows": null,
            "height": null,
            "justify_content": null,
            "justify_items": null,
            "left": null,
            "margin": null,
            "max_height": null,
            "max_width": null,
            "min_height": null,
            "min_width": null,
            "object_fit": null,
            "object_position": null,
            "order": null,
            "overflow": null,
            "overflow_x": null,
            "overflow_y": null,
            "padding": null,
            "right": null,
            "top": null,
            "visibility": null,
            "width": null
          }
        },
        "171bbbddd7d6466cbc6cf1722d9c51ed": {
          "model_module": "@jupyter-widgets/controls",
          "model_name": "VBoxModel",
          "model_module_version": "1.5.0",
          "state": {
            "_dom_classes": [
              "widget-interact"
            ],
            "_model_module": "@jupyter-widgets/controls",
            "_model_module_version": "1.5.0",
            "_model_name": "VBoxModel",
            "_view_count": null,
            "_view_module": "@jupyter-widgets/controls",
            "_view_module_version": "1.5.0",
            "_view_name": "VBoxView",
            "box_style": "",
            "children": [
              "IPY_MODEL_eaf838c13a1447198f9e7c6a247f734a",
              "IPY_MODEL_9b12aebdf61b45bc98ebddb2a1c16077"
            ],
            "layout": "IPY_MODEL_98087cf0789c4e26aea88bdb7a7ddbde"
          }
        },
        "eaf838c13a1447198f9e7c6a247f734a": {
          "model_module": "@jupyter-widgets/controls",
          "model_name": "IntSliderModel",
          "model_module_version": "1.5.0",
          "state": {
            "_dom_classes": [],
            "_model_module": "@jupyter-widgets/controls",
            "_model_module_version": "1.5.0",
            "_model_name": "IntSliderModel",
            "_view_count": null,
            "_view_module": "@jupyter-widgets/controls",
            "_view_module_version": "1.5.0",
            "_view_name": "IntSliderView",
            "continuous_update": true,
            "description": "K",
            "description_tooltip": null,
            "disabled": false,
            "layout": "IPY_MODEL_f7ce5f1679c34bd6abd6b944ddfdd156",
            "max": 784,
            "min": 1,
            "orientation": "horizontal",
            "readout": true,
            "readout_format": "d",
            "step": 10,
            "style": "IPY_MODEL_12588c937ce9471d994419e9e6f1e523",
            "value": 11
          }
        },
        "9b12aebdf61b45bc98ebddb2a1c16077": {
          "model_module": "@jupyter-widgets/output",
          "model_name": "OutputModel",
          "model_module_version": "1.0.0",
          "state": {
            "_dom_classes": [],
            "_model_module": "@jupyter-widgets/output",
            "_model_module_version": "1.0.0",
            "_model_name": "OutputModel",
            "_view_count": null,
            "_view_module": "@jupyter-widgets/output",
            "_view_module_version": "1.0.0",
            "_view_name": "OutputView",
            "layout": "IPY_MODEL_dc5dca5e70014c4aa1209f57f094cfd6",
            "msg_id": "",
            "outputs": [
              {
                "output_type": "display_data",
                "data": {
                  "text/plain": "<Figure size 576x432 with 2 Axes>",
                  "image/png": "iVBORw0KGgoAAAANSUhEUgAABFwAAAJJCAYAAACXsiPbAAAABHNCSVQICAgIfAhkiAAAAAlwSFlzAAAWJQAAFiUBSVIk8AAAADh0RVh0U29mdHdhcmUAbWF0cGxvdGxpYiB2ZXJzaW9uMy4yLjIsIGh0dHA6Ly9tYXRwbG90bGliLm9yZy+WH4yJAAAgAElEQVR4nOzdd7xcdZ3/8fdn5vaW5KYSIAkloXdQQBQLtvUnrl3XAth7F3XdXbtr3V0bdsSu69p2RVFQYFlEKdJLCEJCCSSk5/Yy398fZ+KdXD6fuXduzi1JXs/HYx65+cyZc74z850zZ75z5vu2lJIAAAAAAACQn8J0NwAAAAAAAGBPw4ALAAAAAABAzhhwAQAAAAAAyBkDLgAAAAAAADljwAUAAAAAACBnDLgAAAAAAADkjAEXAAAAAACAnDHgAgAAAAAAkDMGXAAAAAAAAHLGgAsAAAAAAEDOGHABAAAAAADIGQMuAAAAAAAAOWPABQAAAAAAIGcMuAAAAAAAJElmtszMUsVl2XS3CdhdMeACAACAcTOzD476MDb6UjKzbWZ2r5ldZGYfMrPl091uALsPZ9Dn7Bpu+yozG6647VYze+wkNrdmZtZiZqeY2ZvN7AIzu8XMhiravHomrhu1q5vuBgDIj5l9UNIHqiwyKKlP0kZJayWtlHStpMtSSrdNegMBAHsDk9Revuwv6amS/sXMvivprSmlzdPZOOy68ge2peX/npNSumD6WjOzlAcGvlX+75qU0rLpa83ex8zeLelTFaWHJT01pXT9NDXpEczsYklPkFTcndaNiWHABdi71Jcv7ZKWSTpV0jmSZGa3SfqipG+mlAamq4Fmlir++4SU0mXT1RYAwLj8dtT/TdJsSYdLaquov0zSEWb2+JTS9qlqHIC9g5l9XNL7Kkr3SnpySunOaWpSZLkmb0BkMteNCWDABdizjT4IrlN2EDxb2TdTlfuAwyWdJ+ntZvaylNKfp6aJAIDdWUrpaV7dzIqSniPpc5L2KZePl/RhSW+fmtYB2NOZWUHSlyS9rqK8Utlgy33T06px6ZV0o6TrypcXSHL3pzNs3agBAy7AHiw6CJYkM2tWduD7PGVnucwqX7Vc0v+a2TNSSpdMfisBAHuilNKwpJ+Y2Y2S/iKptXzV683sn1NKXdPXOgB7AjOrl/RtSS+uKP9F0tNSSg9PT6vG9A5Jd0m6tbyflCSZ2ekzfN2YACbNBfZSKaXelNKVKaW3K/uN/fcqrm6Q9FMzO3J6WgcA2FOUT+e/oKLUKOlx09MaAHuK8peHv9DOgy3/q+wn6TN1sEUppZ+llG6qHBDZHdaNiWHABYBSSttTSi+T9MmKcoekr01TkwAAe5b/HfX/A8ZzIzObY2ZvMrNfmdndZtZlZt1mdo+Z/ZeZvdzMaj5j28wazexlZvZdM7vDzDaa2aCZbTGzG83s22b2UjNrG3ttkpk93cy+bma3m9lmM+szs/vN7DIze6+Z7TP2Wh6RAHVZRf1AM/u4md1gZpvMrNfMVpvZ983sCTXe96eY2TfN7KZyW4fK61tnZteU7/trzWzhqNs9fkfbNDJhriR9K0qscra9enTqjJnVmdkLys/nKjPbXr7+Am/b3nqr3NfK9jx+nLeZUN8oP9dJIxPmStLS6LEpBx1Ua0fufd8yLzCzX1qWItZnZmvN7P/M7G1m1lnL+qaTmXUo++n831WUL1R2Zsu26WkV8Ej8pAhApfdLeoyk08r/P8XMnpJS+p23sJktUpY+8ThJRyk7gJ4laUDSJkm3SLpU0vkppY3RRm3nGf0rXWpm3k3cWf/NbHa5PadLOkbSQcrmq0nl9qyUdLmyiYHvj9oDAMjd6GSi2WPdwMzeLulfgmWXlS/PlfRPVsPcY2b2Mkn/Kmlf5+pZko4uX14uqcvM9ol+/mRmBys7e+cxztX7li+nl9v4kZTSJ53lxmrvmyV9WtmZQZWWli//YGZfl/T6at9qlwdQflxuz2hFSU2SFkg6Udl9/0j5/5PGzA6U9ENJj5rM7YxXnn1jF9uRe983s32VPdaj45H3KV8eI+lcM3uRsslmZywzm69ssOW4ivIPJJ2VUhqanlYBPgZcAPxNSmnYzD4sqXKA5fWj/i9JMrPzJZ0l/0y5emW/1d9f0tMlfcDM3p1S+nL+rf5bez4s6T3Kfg7lWVy+PEHS+83sXyV9MKU07m/KAAATNnfU/8NvoMvf2n9T2YfaSms08kFwuaRFFX9famZnjjX3mJn9u6S3jSr3SrpD2aBQm6SDJe34pr9NwfGymR0j6WJJ8yvKA8q+bNiu7EPxjjNBWiV9wsyWp5ReVa2No7bxXmUDAJLUX173Nkn7KbvfO7xa0gZJ/xisp1HS7yUdUVEeVPZFxI6fXswpr3PHXDuj3983aWQy/tOVDdCo3KYHxnufKnSW27Ss/P+HJP1VWcrV8uA2kyaHvnG1pD5lgzU7fpLdp+yLHs9dThsmpe+XB9v+IGlFRXlY2XO3WVl/OljZwMtFkl4YrWu6mdn+yl53h1SUz5P0Jo7pMBMx4AJgJymli83sbkkHlkunm1khpVQatejR2vlg7F5JayV1KTtYW6GRA+xWSeeZ2eyU0r/qkR7QyEHcUyvq1yg7wBttnVM7XDsPtjxUbtN2ZQeFB2okJaNe2TdHiyS91lkXACBfo+dsubnKsh/Vzh84vyXp4ymlnT6gln9K8yVJh0lqlvQDMzsmpfSgt1Ize5d2/kC9RtkAxc9SSn2jlj1c2YfO1wfrapP0U40MtpSU/Sz3UymlLRXLnSLpq8rOApWkV5rZDSmlLwb3vdJRyh633nI7v5ZS6qlY9/GSfqSRwYl3m9lXU0prnHW9TiODLYOS/knSl0fHc1t2WunRkp6tLGHqb1JKN6mccmJmqzUymPTZlNIF47g/o31QUruyvvAWSZfv+MBsWerM0vim+cqjb6SUzi1ff7ZGztpdVy3AwDEpfV/SN7TzYMsFkt6XUnqoYp1HKeurpygb9JlxzGyFpEuUfaG3w8dTSu+fpiYBY0spceHCZQ+5KDt4STsuu7Ceb1euR9IxzjJ/VHZq6nMlzQrWc4qyb3Z2rGdI0vFjbLtyu4+voc0/lvQ/kl4qaX6wzJHKDpArt3HmdD9vXLhw4bI7XWp9r1H2TXR3xW0ekFQXLHuyssGLHcu+eox1z5J0W8XyXwqWW6FsoGHHctdJmjeOtjdLKjr1j496L3ntGG28qWLZnmjbox9bZWfMnFZl3QcrO4tix/L/HCx3ScUyHxvn8/yI+11x3eqK9Z1dQ99ZPer+3SipYxy3e/xEjm/Gc0wxCX3j7Ip1ra6hrZPV9/9u1OPw+THu0x9HLZ8kLRvv/cjrouzMp8o2fE7ZF26VtXfuwvof79zPvC5uXxtHmy6YSN+Z7nVzqX5h0lwAnmtH/f8gZ5mnpJRenFL6aUppq7eSlNJVkp6kbBIzKfuN+Dvza+ZOXplSemZK6XspmJk+pXRLSum5yr7B2eE9k9QeANirmVnRzJ6nbC6vloqr3p3ieRbeq+wnJZL03ZTS16tto/z+U3mm4tlm1u4s+h6NnNndLel5KaUNY92HlCX67TQvipk1SXpNRek3KaWvKlBu4znKPuhI2Yfa8Z5d+emU0v9VWfddkn5WURo9P8cOlWcEXDGeDY++35PkNWn6JzjNrW/sosnq+2+s+HuNpHOrrLNX0iuUfUE207xFI3MKDSs77vvsNLYHGBd+UgTAM/pA4xGz1qdxThKXUhoqT/72jHLpTDMr5n0gN972lJ2rbP6ZJkmnmtnClJL3MyUAwBjM7KLRJWXfvh+u7CcjO5SU/YzhB8F6OiU9s6L0mfFsP6V0hZndo2zi9hZlZ1f+be6x8rwYL6i4yQUppXvGs+7A47TznDRjfuhLKV1nWerQjkShZ0v62Di2dd44lrlcI7G4RwTL9Fb8fZyyeTqm241pnBMdT5ZJ6BsTbcdk9f1W7fxT7a+nUT+RctZ5h5ldrGwOvplqq6Rd7TuVcxLlzfs5PPZSDLgA8IxOkxg92WFNUkqrzGxjeT1tyg7Cq/1+f1KllLaZ2a2STiiXHqXs50gAgNo9dexF9J/KfspyU5VlHquRucHWj7HsaDdqJGr6RO082fsJyt57KtuyK06p+LtL2Rk84/FLjQy4HGNmLaliThbH6pTSeCajrUzdi9KfrlGW3idlE9lvkPSdlFL/ONY/WUZHhU+HvPvGRE1m3y9W/P8341znhZp5Ay6V8wt2SvqDmT0xpXTrRFaWKuYkAiYTAy4APKOzmJO71I6FzY5TFid4uLI3wXbt/AYvjaQeSNls+JM24GJmhyhLUDhS2YSG7Xrk/u7Air/3m6y2AAAkSadKmjfGMkdX/N3knDlTzVEVf88fdd1ho/4/+meztTq44u9b0iMnlY9UfoiuUzYp7O1Vln+oynWVuiv+bgmW+ZyyyVgblMVLf03SZ8zst8oGPv4k6fop+hnRDndP4bYiefeNiZqsvl85UW6SNN7BiWn7UqyKjyqb52bHz/kWKEtoemJK6ZbpaxZQHQMuADyjvyHb6C1kZmdK+oQeecBS6/pzYWanKTsN99E13nRS2gMAe4OU0k6D9GY2R9ISSS9SluQyS9nA9oVm9vSU0mXBqirPpuzQ+M6c8cwa9f/Kn8V2j3FWyXjMqfjbnTMsMHrZOe5SI3I7+ySldIuZvUjSdzRyRkeHpOeXL5K0zcwuKS/z3ymlql+25GC6526R8u8bEzVZfb+yj3XVcEaTe9w3zZKytK1S+V8pG2D6g5k9KaU0EweJACbNBeBaMOr/j/gtqpl9VNnp0bUOtkjZt2u5MrPXKPuWrtbBFmkS2gMAe6uU0uaU0o0ppfcp+8nmjoGGJmXxtaO/hd+hNajXavTxbVPF31XnrxinyveMgRpuN/rDbpO71CRJKf1c2RkPn5a01lmkQ1kU9C8k/aUcfzyZxntm0GTKu29M1GT1/YaKv3elr84I5UHAN2jnuY12DLoc7d8KmF6c4QLAc9Ko/99V+R8ze5ak91eUHpD0TWUDHncrO7jeafZ+M1ut7PTp3JV/0vRljfwUapOkb0n6vaRVymIE+1JKgxW3uUzZz44AAJMkpXSnmb1EI/NK7KPszMhXOotvqfj7ppTSMc4yE1E5L9noMwAmorKdXipMpKPKeqZESulBZRPHn1seUDlN2fwhT5S0uGLRYyVdbmYnpJTunep25sHMRv+02ZN335ioyer7lWcR7UpfnTHKgy5vNLOkkQSmeRo50+XG8aynPEDzqUlq5rk1zsODPRgDLgA8j6n4e6Ok0b+N/eeKv6+R9OQoGrpCLW/0tXq/Rr7VWS3pMSkl79u7qWoPAKAspXSxmf1QI0k6Z5vZfzg/Aaics2Rhjk14sOLvOjM7MKW0K/OHrK/4+6Aabjd62fXuUlMkpXSbpNskfc3MTNn8GO/XSKrgPEn/pJ0jsKfLTmdnmFl95ZcogbF+siXl3zcmarL6fmUCY4OZLR7H8ZG08zx3M1JK6U1mVpL05nJprqTf1zDo0qmJ/3RrLJ+YpPViN8RPigDsxMyeJmlZRenyyt9xl08FP6Hi+veMNdhiZm2avHlbTDu/YX54nAcTTJQLAFPn/ZJ2fEAuKJsAc7Q/Vvy90MwOcJaZiKtG/f/xu7i+6yr+PtDMxvsB+dSKv9ellO4Pl5xiKXOVpDO1c3pQ9IG08udAoyfanwyj53vpdJfa2VFjL5J735Am9thMVt+/btT/x/uz64n8PHvKpZTeomxC6B12DLocO01NAh6BARcAf1M+/fafR5XPG/X/JaP+f/U4Vn2qxr+/qZykbzwHKp3aOdJxzPaY2Qo9cp4aAMAkSSndI+mCitKZZnbCqMWu0c6Tdb4qp22vk3RDRel10bLjdHnF3ybppWPdwMwalU0i7K1jxignLv2iorQoWLQyGal58lr0N/dq5+OD8czX8ZyxFpiEviFN7LGZrL7/V+0cG/7iaNkdzKxO0gvy2P5USCm9TdK/V5R2DLocN8btLksp2SRdLpvM+4zdCwMuACp9Ujt/A3dFSun3o5apn8B6vd/qR2o9UJns9gAA8vFR7fzTkA9XXplSGtLOH5zeNtaHphr8R8XfJ5nZm8Mlx1D+EHtpRel9ZjZW5PW52vmnIl+b6PYnonw26HhVfonxiEnzyyp/irO89hbVJqW0TdmcbDu8sNry5S9WXjHO1efWN8oqH5v5Zjbm3DCT3PcvqPj7uWY2ep6+0d6oR365FjKzs80sVVzOnkAbd0lK6R2SPltR6lQ26HL8VLcFGI0BFwAys3Yz+76kd1aUt8j/pmf0z3UeN8a6n6SRyMnxqPUgboN2PoAfqz2HS3pLDe0BAOSgPPnq+RWlvzOz0T9d+LxGPli3SLrYzJ6hMZjZbDN7vZn9LljkB9r55xX/YWZvN7PwWNjM2szsnWbmJch8WCNnXMxVFnntnjlpZi+X9MGKkvdlxmS7qfzBuGoajpkdqCwFZodLg0UrH8sXmtlU/Ez3vyr+PsvMnuAtZGYHS/qVsv4zHnn3jZs08vM5SXrHONsxWX3/ixqZlLcg6edmdmiwrmcpS7Ha7aSU3qWd2z5H0iXOmXTAlGLSXGAvZWbNko6X9DxJ52jn2fn7JT2nPKHeTlJK95rZXzUy+d9nzOzqlNLG0cua2eMl/VS1/b77Oo0MtLzCzL6TUtocLZxSGjKzKyQ9qVz6FzO7qHz6+uj2HCXp15riKE4AwN98TNl7zo5o5Y9IesqOK1NK28sf+q5U9oFprqRfmdk1kn6p7MPsZmX78bmSjlA22evjlZ3xuMbbaEpp0MxeIOnPyiaDLUj6N0mvNrMfSbq+vN42Ze9BpymbPLZVWQrf6PVdZmb/ppEvKh4l6TYz+3q57duVzYf2IklPq7jpFkkvH/NRyt+RytL7vmRmFyt7HG7XyBksi5V9YfEyjZzhMiDpX4P1/UDSe5S9v+8j6a9m9hdlKYV/m8MkpfT3Od6H8yS9SVmCTp2ki8zsG5IuUva4LpJ0hrLHt0nZmR1nj7XSSegbXWb2S2XHV1J2XPIKZRMU91Ys+qOU0o8qbjdZfX+dmb1NI2e67CvpejP7pqRLlPWB/SQ9VyM/w/qBpH+o9rjNRCmlc8sT6b6nXNox6PLklNK109i0nZjZyyR93bmq8qztpWbmRZX/b0rpKU590teNiWHABdiDmdlFo0pFZQMrsyUdIH8fcJ2ks1JKt1ZZ9Wc1MrfL4ZJuNrPzlB2sDCiLf36WpGcrOxj7tbKDvfGcovo9jfzO/WhJ95cP4jZp5NvE9SmlytSEz2pkwGWRpL+Y2VeUTfzXpexA8u+UHTzUKTt4GlR2gAwAmCIppfvLgxJvKpeebGanpZT+r2KZ283sUcrmEjmiXD6pfNmVbd9tZqcoO/vhkHL5MEkfmuAq363sffVt5f/PlfTeKss/KOlpKaXVE9xeHlqUvT8/a4zl+iS9xEmSkiSllG42sw9o5GdhDco+/E+alNIDZvYaSd9X9rg3KDsb5w3O4hdJeq3GMeBSXnfefePtkk7USAjBfnrkZP03jPr/ZPb9b5vZPhoZQGtS9tOhNzqL/1rSv2j8Ay6jJ40eVyzzZEkpvbc86PK+cmm2srOFnpJSumYam1apqJFB52q8ZRqmcd2YAH5SBOzZnjrqcoayN+3leuRgyx+V/d755DEGWyTpK8rOXNlhH2XfUv5O0mWSvq3sWxKT9BdJL9HOk92FUkoXaudvjFqUfZt0pkYOEp8y6ja/UfZt1A6zlR30/lrZoMuPlH3jVSfp7nLbKr9lAgBMnY8r+0C/w4dHL5BSukvZWZivk3THGOtLyj68fljZ+1y8YLbeYyW9SztPJupZqSxdqStYV0opvV3Ze1K1D3JdyuYJOTKldNMY25wsb1T2nrh9jOX6JP1Q0lEppZ9VWzCl9BFJj1X2M7FblSUJlardZlellH6s7AuUO4NFNij7oP2MlNJAsEy07jz7xv2SjlF2BtTvlQ22eWcURO2YjL7/CWVnW60MFtmoLAb8mZKGx9PWssqfcv9PSun6Gm47KVJK/6jsbLoddgy68EUbppxVpL0C2M2Z2QclfaDKIr3KDoi2SdoxM//1yn5PvqrK7bxtFSX9o7IDkw5nkc2SvirpAymlATNbrezMF0k6J6V0wRjrf4aygZoTlA3otGnkp0lrUkrLnNu8Xtnv5L3f0Xcr+1bs3SmlbWZ2maTTy9d9KKX0wWrtAQBMHzPbX9kZFAuUfXjqV/Y+c5ekm1NK0eSuY633SEnHSZqvbKL27cp+mnF9ec6ZWtv4GGVnWjYr+wC7StKVtX74nyzl9+7DJa1QdsZFm7IP15uVfRC/NqXkDiLMJOVJgE9UNjDRqewnRXdLujSvxzrPvrGL7ci975fnNdlx3zZJukfSZbU+duX+tEkjx4EnzaSf7gAzAQMuAHaJmbUp+3ZjhbIDkoclrZZ0eUppsMpNJ6s9jcrOiDlC2YHkRkn3KTuQ6Jnq9gAAAOyJygM3OwZYLkwp/b/pbA8wEzHgAgAAAACoiZlVxjE/agbNkQLMGMzhAgAAAACo1Y6fZl/EYAvg4wwXAAAAAACAnHGGCwAAAAAAQM4YcAEAAAAAAMgZAy4AAAAAAAA5Y8AFAAAAAAAgZwy4AAAAAAAA5IwBFwAAAAAAgJxN6oCLmX3fzL4/mdsAAADIE8cvAAAgD5ZSmryVm13XrtnHP9rOmLRtAACA3cfFpZ/YdLdhLBy/AACAShM9fuEnRQAAAAAAADljwAUAAAAAACBnDLgAAAAAAADkjAEXAAAAAACAnDHgAgAAAAAAkDMGXAAAAAAAAHLGgAsAAAAAAEDOGHABAAAAAADIGQMuAAAAAAAAOWPABQAAAAAAIGcMuAAAAAAAAOSsbrobAAAAAABTwiyo+99DWyFYvopUStEVQT1YHpgKhaJbnkjfj+zNrwnOcAEAAAAAAMgZAy4AAAAAAAA5Y8AFAAAAAAAgZwy4AAAAAAAA5IwBFwAAAAAAgJwx4AIAAAAAAJAzYqEBAAAA7B2iuNk07JeD1FpgRgoiniWp0NTo1q3Rr6suGCqI4qKH/deQJGlg0C2ngQG/PjTk16NtzOAYac5wAQAAAAAAyBkDLgAAAAAAADljwAUAAAAAACBnDLgAAAAAAADkjAEXAAAAAACAnJFSBABADYaeeIJbf/AN/W79xlO+7daPueost774Sw3htouX/mWM1gG7xoJUiijFwtpa/Xpri1svtTeH2x6c4183MMtvU6nOT8ooDPlpFfVdcYJGw8Zef12bt7v1tK3Lb1NPj798kMQxk5M1sJuyIEGmVvTNmSF4PusWLnDrw/vND1fVtcTfX/fO9c/BGGryt13s9/tG05a4z7Q86B8j1a/b5tZts19P3d1uvdTnr1+lKslJU4QzXAAAAAAAAHLGgAsAAAAAAEDOGHABAAAAAADIGQMuAAAAAAAAOWPABQAAAAAAIGekFE0xO+EIt15q8J+KBx7vzyZ965vPC7cxmKZvNuYn3fI8t976rAfdeqmvbzKbAwATUjr9uPC6z5//Rbd+cH2QpBKs5/pTvuXWV54Y78Pfvezk8DrsQYJUCisW/XqQIFToaA83UZo/2633LfZvs22p37+3Lw3Wv9R/f1+6cGPYpuM773DrR7Q84Nbn1/kpFvcNzHXrv374qHDbN9+6xK133jDLr9/mpxo13Offv9KmLX692081yq6c/nQNTA2r99PpCq1xqpeC/YFKQVLMsN+fUlQfGPTrQ349u5Jko7xF+/2hJX5K0YZj28J1bTk0SBda6u9LF3T4aWx9Q/77wYPr/PcVSWq6y+/Lc+7037/a7/aXLz602d/AVv8+zIR9LGe4AAAAAAAA5IwBFwAAAAAAgJwx4AIAAAAAAJAzBlwAAAAAAAByxoALAAAAAABAzkgp2kXplGPc+qqz/dnG//2JP3Tr9Tbk1s9o3u7WB1M8VlYKMzEm38VH/qdbP/a7r3DrB7x+rVsf3hCnGABAXgafcqJbP/e874a3WRGkSUT73rsH/USHrSV/Zv7j/LIkqf/pJ7n15ktv9ttEEtzMFqUR1dW79UKbn1youX4yRP9+c8JNbz3Q72hbVvjLdxzhvy+/ctn1bv0FHX79gPo4QSM3QarR62b7dUn66T4dbv1dzc9368V+P0Gjs9tfT6HHfy1aX3/YpkRK0ZSqW7TQraf24HUnKTX77wdDHU1ufbDDf22ngr8vqO/yPx9IUv1mPymrsN2vK0gdUv+AXy8E7x9V3lbCBCPSiybMDj3Yra8/3t+Xbjkq/hw4b9kmt37E3Ifc+uFt/ue0WUW/j61a6L+GJOn3nf6by4bmTreeCv796xj2+1JxKHitBMdgklTqDx6rnPsrZ7gAAAAAAADkjAEXAAAAAACAnDHgAgAAAAAAkDMGXAAAAAAAAHLGgAsAAAAAAEDOSCnaRemj/mzPdxz6syluycx2w6nnu/WnPvoNbr3xQlKKZrqBp/rpLmte4s/4/frjLw/X9bY5d9a07aO+8Wa33vKgP6v4llPjFIil3/fHnRt+e21NbcLMUOzwE0K6H3eoW3/7v//ArT+huavKVmr7ruKCzae69d+fd4pbv/KDnw/XdfE3vuLWD//em9z6ge+5aozWYTpZsejXG/wkE2ttcetDnX6aQ89CP0FFkroX+6koaX8/feLY+X5axdKGDW79tsF5bv3n2xeHbbqrd4FbX9y4xa2/rfMGt95W8BNiqnlu2za3/on5flrkUMvc2jYQJQ6l6UuW3FPULVvi1tc/cV+3vvkI/1hhuCN4job814okWSl4HTX4z6s1BtvY5r/m2+6J+/Kclf7HuOYH/PeoQneQlBWkpYV9tkrqS4pDlTCWRx3lltc8td2t27Fb3fqx89eHm2ipi587z/oB/5iqqdF/og9tfjBc1+C+/vvdRX3++9S27f79btzsJ8S1bAleK9urHc9NDc5wAQAAAAAAyBkDLgAAAAAAADljwAUAAAAAACBnDLgAAAAAAADkjAEXAAAAAACAnJFStIseuGx//wo/ECN0VV+jW3/Fr1/t3yCeMF3yJ18PnXy8nxDzrWW/q21F2CM9/Do/SeUL537JrZ8YzMBfqDK+eyOkJrQAACAASURBVNbqM9z6cbPudes3vupz4bpq3fapnS92652/rWkTmCHu/46fSnHNSX5/nQofXnCNW7+ozU8vOmf1U8J1fXvZJW6943CS3fYohWCfFaSJWMl/4y8MxQcERT+wRKXNfmLElfce4Nb/vHapW+9+qNWtz7nZT6qQpFn3+MkXN8z2b/PNM05z6z984lfd+slN8bYfHPKTLLp6/eOzjm5/PYUuP+Up9foPeBoOkmD2UlYXfzTpe/Jxbv3Ov/eXP/tkPx3xmBb/2OKybf7B++X3Hxy2qbvXf73Mn+33p6Xtm9362u5Zbv3+3n3Cbbfd7+8nmuv4Pn0mG3jaSW599XP95V9y0hVu/ZS2Vf56BuaH27504yFu/cZ1fnrcwID/epzT3uPWD+tcF267s97fae7b6actrZnvv4cMdPj78ebizO33M7dlAAAAAAAAuykGXAAAAAAAAHLGgAsAAAAAAEDOGHABAAAAAADIGQMuAAAAAAAAOWPABQAAAAAAIGfEQu+iJZ+41q0/+z/9qNmIDQy69eX3/LnmNtVqy7y5bv2SP7W79TOat9e8jSfe/EK33nHprW69VPMWMF5W70cY9p1xjFv/6fs+7dYX1/lRma9c82S3vuYzfhSdJLVeeINbv7RliVu//Ocr3PpPl/93uI3Ithv8/t9Z85owlYaeeIJb/+GxX3TrBfn9PnLOmieF1117yWFu/eZX+tu+tLfJrS+41o+PvWuzH00qSfUfv9StF/y0YMxwKYhztkH/mCD1+n2msKXerTc3xYd5pTq/XxYG/cjNobX+MUExiEc+6EY/Brl42dVhmyINQRx296JT3PpvTjrarZ/c5B9zSNIfev146/61fjRp60P+c6RNW9xyKXjulOLo7j1Zod3vT/2nxMcKa57rP1bfeMK33PqTmv3I7Qu2LXDrF6480q3X39YStqku2Pc+tMJ/HUWx0C31A+E2wm33+0fLhR5/XdFnDQX7Gw36Me1pmKP08eh/hh//fN+L/Mf1cyf/2K0/vcX/3HX9gP88/Hjro8I2XbdqmVtv/qt/jNTiJzZre3ubW7/soNnhtpctfditNxT81+lwm18fCt7XLHg/LQ35j/dU4gwXAAAAAACAnDHgAgAAAAAAkDMGXAAAAAAAAHLGgAsAAAAAAEDOGHABAAAAAADIGSlFuygN+jOBD6+8a4pbMnHrnuMnvhzV8MvgFn46TTVr1/qZL209d9e8LuyaB990olu/+l2fC27hP9/Pv+uZbn3ouf5s9y0b4sStKKNh7Wv8JJo/L4/a6vtNj5+GIEkHf/U+tz79c5pDkkqnH+fWP3++nwh0cL3/tlYKss/OvOPZbr34vCB6RdLsZ/g99vDvvsmtr/iS38cK913v1udcEW5agx/zZ+3/6dHnu/VXPOEtbr146V/ijWDqlPznsxSkj1iQDlII6g1V0kSs5KdJFIb89KL+Dv87usZt/jYa12x06xPZt9Yt9FNlehb5r8UVTQ+59fXD8ev65+vPcOsdf/Xvd9M9m9z68Ea/vtsJkqFqXk2Dn35i++/j1tcfHyfKPee4P7n1KI3owh6/L3/o8me59f1/49/n1tV+8pQkbT/IP75Yu8C/HyX52xgs+alG9d3x89C42T/esm1+P099/f6KghSXFNWH/cc7u3LPTN0qtPppZQOPjlMF732qv+945wmXuPUzW3vc+q0D/mfNf1v7DLd+9fXLwzZ13uS3ac4qP1WuYV2XWx+a3ezW13f5j5Mk3dvkfxbcZ14QhdTgv7cM1/gxNAVpW9mVU9NfOcMFAAAAAAAgZwy4AAAAAAAA5IwBFwAAAAAAgJwx4AIAAAAAAJAzBlwAAAAAAAByRkrRXuTh15/i1g996R1ufWGx9jSiyGHn3uPWq8xzjl2w6guPDq9b+ZwvuPUoy+Kwi1/n1g9912q3PrzBT6aYiNe9PkrKqs1HP3ZWeN2c+67KZRuYODvhiPC6De/odesr6v0EiOuCEIY/dB3u1jf+aH+3Pndz3C9mfc9PypgVLD8ViVfR/nrj2/zUgwWXTmZrsMuC5IQwGXGzXy9WSRMptvopE1rsJ7sMzPLTUgZm++kqVlrk1jvCFim83+ufuK9b3/f4B936EQ1r3frFPUvCTV9364Fu/aCb/PSO4VV7eMpilN5RY3pRodHfN/Ut9tN9ug/0k3ck6fQO/3j1yj7/COatV7/IrR/wE3/5+kuu8zfc5L8mJKmw7Gj/iln+nn/fJj/x6O4tc/1Nbwg3rfoN/v49dQVpXCk40isF+5to/xGtZ3cS9OPibD+9behQf9/x0KPjz0pHHuPvI05u/qtbv7LP/1j+6fv+3q3fcu0Bbn3eTfFrdM5Kv28U73rArUfH9MV2//Xbvsg/1pKkbVv947b+2f79tqLfL4cb/PuXisF5JDOgv3KGCwAAAAAAQM4YcAEAAAAAAMgZAy4AAAAAAAA5Y8AFAAAAAAAgZwy4AAAAAAAA5IyUot3U+jedGl531ut/7dZf2vEZt95e8GeNnoiPPHy8W0/9foICds1fP3uyW1/5nC+Ft9la8hMXnn/HP7j1Q958p1sf3r59jNbtrNDaGl638Xn+LP/Pavu0vy756RqH/uSNbv3gC0gimgkKLS1ufehT28Lb/OnQn7n1e4b8fco7/vGdbn3OFfe69QWt6936npKg9qh91rj11VPbDEyTUn8Q2yVJTf4hYNdiP3Vo21H+a659rp96cf9yP8WiY5mfOCRJKfgasPcEP43ldfv7iWHrh9vc+nn3nB5ue/6f/Ptdd9WNbj3I8Nnz1ZheZC3++3Xv/Hq33jovPrbYFDyv5699rFvvuMLfdtN1ftpRtN+3A+N0q83L/dfR4Uvuc+t1BT8x5eGH/Jy7JWvinDvb6CcehelChdoSpkJRH5iJojSiIGUnLfHT1TYd7h+/9B4S72MP63jIrV/T66cL/fRB/zPUmmv2c+vzb/Sfh/bV/v5SkurW+Mc8QzUmjJa6/W0UBqv0jSF/Bz9cCvplsKoUjV7U+fvwmdBfOcMFAAAAAAAgZwy4AAAAAAAA5IwBFwAAAAAAgJwx4AIAAAAAAJAzBlwAAAAAAAByRkrRLioecYhbv/OcOW799NNuyWW7v9r/C+F1JfkzoEu1pRHdNejPjP7CL/spIJK05Ofr/DZt/2tN28bOigsXuPVvP/s8tx73gTiNqOHJfppJvCZf4djD3fqR598e3uajCz8fXNPoVh9zw4vc+iEf9LexpyTO7O56Tz/Crf/2UL8fV/Oqt77drbf/wk8tiXMegD2XBQkdktTf2eTWu5b4e/3HH7HSrT+98ya3/ttFR7n1K+f5CR2SVCj4aRKvOuTPbv3U5rv9bXf770MPrvTfSyXpkGs3u/WqSU/4GysGCSFBStFgW5BqZHGiyFXbDnLrN93jp7gs2uyvKy3dx2/TCQe69QeP8Y9FJKl08la3ftIc/5jqz5uWufXWO/1j9Na7Ho63vc1PdLLGoL11wce+oT33HTLql9Y52613HeCnF233u4bmzI1Ttdb0dLr136w5zK0PXet/dlx8/aBbb7nH73t62N+XSdLQw3F/qkWh2X//GGqqkoRV9F+PwyX//I8UpBpZrR9MZgDOcAEAAAAAAMgZAy4AAAAAAAA5Y8AFAAAAAAAgZwy4AAAAAAAA5IwBFwAAAAAAgJyRUjQO6THHhted/a2fu/VntW6YrOaUTf5Y2VvueqFb3/eTfwxvQxrM5LAmf8b5Extrf8Sb3+LPhG9L93frq17nz/7/lDP+4tbfvuBrbn1JnZ9UIMVJSMPJn9HcfjzPX37LqnAbmH5Hf+QGt16osj87Z82T3HrzL67OpU27m3rzExcGg2CPYpXED+z5rDne7/bP8vvScKefWHJM+31u/YiGh9z6nS1+Esz9c/10EEma09Tj1k9vvcOtzw1SL7qG/QSNhq1xgoY9vCm8DmOzIAEnNdWWkNm9Ne6z19b5xympx+/L25f47y1bD/T7YM9SPw1m36V+H5ekZ+57s1sfTH6bVj6w0N/GSv91V7r73nDbKUgTLba3uXWrr/fXU9pzj96twe9/Q4v8PrBtf78fDywccOulIGFHkq5e5SeydfzFP6ZfckWQOnTbXW55eBoT1Kyt1a0PtsSPR6rz+1mUUqR+v17sC45rhmZuP+YMFwAAAAAAgJwx4AIAAAAAAJAzBlwAAAAAAAByxoALAAAAAABAzhhwAQAAAAAAyBkDLgAAAAAAADkjFnoXFeVHU1WLOc1DFA0qxfGgtbroMD/y+rEveWN4m1nf/1M+G8dOUp8f/fbnfj/i79GNfrShJP3ykh+59VIYzlybS3r9yOZVVTrmE5q73Pq1A36c3+zvXFV7wzBltrzsFLf+Tws/49ZLimNDr/vd4W59ieJ4+j3ZYPJjD6PX70W3+4/fcvmx7tizWGP82krFICJ52K/f2bPIrW8e8uNBf33fEW5940Y/slaSFszf5t9mob+NI81/r5tT1+3WS9WOeodnbqTobqEQHPcGUa1Nm/19VsMaPzJXkjZ3+09gYdDvs937+9tu3W+7W3/MwrVu/aj2B8I27dfgx4n/79YV/g3W+/ev5T6/TWkC0b9mcfy5qxQcn0X13Yg1+xHxPYv9+PGeff373NDux0Jv74pjzFtv85/rff7g95nSLXeE65px5vqx2gMdVfpenf+aH+j3X9d12/zPuo3b/OfI+vznaCbgDBcAAAAAAICcMeACAAAAAACQMwZcAAAAAAAAcsaACwAAAAAAQM4YcAEAAAAAAMgZKUXjYFfeEF73zb9/mlt/79lz3fqS3/ozKBd7h2pvWI1WvdJPtLnjaV+e9G1j1wyvW+/WP/D6V7n1z3zlvHBdRwehFd/btr9b/+jlZ7r1FRf0ufW6dVvd+oIf+rOyS9IT9v+DWz/rUv/+rdC14bow/YaCSftnFfzOd1VfnEpx4Hf81IjJ32NOvkJLi1u/4zNHVrnVdW71JXc/3a0f+tZ73Dp5LFOs1tSQVFs6iNUFh3NN8Wur2B+kcaz31/XblYe59bTVf113rPQTJub0xfdt3bGdbv2W/f33p5MaN7r1weRv26p1/KE9Ya8yfdKg//jZZj95qu0ePz1GilOsuhf4z+vALH/53n38J9zM74MP9/rbvrOwMGzThkH/Nvd1z3HrDVv877qLG/2Uoon0ytQfpLUM+qleURJS2p2Su4J9rAXvsz3z/edhcJ7/GM1r9Y95N6zrCJvU8mCwr7vnvvA2M03dPn463fblfkpR3/x4/271fkrR4Hb/PaRtg/+cNq8P+muXn043E3CGCwAAAAAAQM4YcAEAAAAAAMgZAy4AAAAAAAA5Y8AFAAAAAAAgZwy4AAAAAAAA5IyUol00fNudbv3Ac6e4IeNw2Kr5/hV+0BJ2Aw2/9dN6/vGAR+W2jRW6uqbltz/L3/aFS34Z3mYw+WO/zauDSCXsUTYOx6kUQ3evnrqGTJIojWjlJ45y63c864vhun7T48dxrP3SwW69ffOfxmgdpoIVg9ScxiBFqODvE63R3ydasx8NllqDyDBJdT1+AknbGn/bpbX+umat9lM9Wm/xE8ZKs1rDNvUu9FOK7uz2U2Jua2l36zdu91ONGrbGaVGlXj+FBOOTBv1knOGHH3brhW4/UWTWpuBYVVLzfn7/6Nrffx1ZkFbVE8Qa3dnm96fVc/ztStI+c/wUpo3d/n6/cYu/njwTVoa3BBux4Hv20m6URlSj1O4/D32dQQLObH8/0Nnc49Y31sXHL8Ghrawt2AcGr4k8Fef46VmlZYvd+uYV/mtiy8H+neufXyVXa8B/PTat9VN0O9b4/bLhAb9/l0gpAgAAAAAA2Hsw4AIAAAAAAJAzBlwAAAAAAAByxoALAAAAAABAzhhwAQAAAAAAyBkpRXuRdc/xUyyAPA01++O4gymeBb+kkls/4IJ7/W3U3izMYO+68vnhdSt03RS2ZNeUTj/Ora9/R69bv/1EP43oSTe/MNxG69PuduvtIo1o2lmcgGMNfrpQYc5st546/BSL4TY/jWW4xU95SMUqbUp+PUodanyoy62XbrrDrUf76UK7n3ohSXXdfhrM6i6//pvGo9361Q8sceutG4I7jSlX6vFTX0qr/fd9Saov+scXTS1z3fpQk/+6qOsJjlNa/Xpfj590I0n3D/nJK8Nd/kes+dumoA+mYBtVjsN2d1ESXKnR7wOlICCus83vl/u1+sk4azs6wjb1zm9y68MHLHLrxSF/r5m6/TZZq98v074LwjZtPdR/z4lSh3r3DfpMW5DqFiQRSVJjkEY053b/M0DH7Vvdelq7zq8HSWkzAWe4AAAAAAAA5IwBFwAAAAAAgJwx4AIAAAAAAJAzBlwAAAAAAAByxoALAAAAAABAzvbKlCJr9Kem3vJ8P2Fizi9vDddV2r49lzbl6cF3nurWf/mWTwW3CKbqBiag/UdBWspnp7YdmEZBMEohGOP/3Gk/DFf1Ja3Io0W5WvPhU9z6T1/+b259Rb2fUHP81We59cXPvm1iDcOMFR13lGb7iT29S/1690L/sG2g3X/RRUlEktS0yU+GmHVnt1uP0ohqZVXSnCKbe5rd+l9sf7fes95PeZrVGz8gxSAxaughPxEDkyRK2JGkrX5SVl33LLfeuNVPTCkM+u9FBT+gS6XG+Pvp/iCBrK7Lv02x379/VrdXfiSbfNFTF3Szpjo/Keiglofd+uCiuG9cscLfD63vaXPrszoPcuuFAX9f3T/H7zNbD4yTgnoO63frB+zn37/6gp9SdPd6PxmseLefzCRJ827219V+60a3Xlp9n1tP/f59mMk4wwUAAAAAACBnDLgAAAAAAADkjAEXAAAAAACAnDHgAgAAAAAAkDMGXAAAAAAAAHLGgAsAAAAAAEDO9ugMsr5nPsqtz3rXvW798oO/4Naffc2L442snNxY6Lp9Frn1B553YHibH7/5M259cV1t8c/rhv3YrfoqsYrA9hedHFxz3ZS2A9Mo2EWU5Ecbnt7sRwJK0tsuOMGtH/Qtf131D/n75HWnz3frnS+8362/ecnvwzY9vcXvy//dvdCtv/zmp7n1eV/1IyOxm7Iq32EFka+lNj9StnuBv/yWQ4JNL/GjnBsa/YhTSVq/1o8mLRX9+vx7/f5da2xy7ylx1HvXUv91vbS5z61v7fMjSItdUSxqfPxSmjfHX9ew36bU0+Ovp9dvq0p+JCrGb/jhILq204+FTnVB/PNw8HqsC2Kkq6TQFrv9bdT1+PHnhaGgP1WLw8aEFXr9rO+Grf7y24J9ysJ6/wbHzF8Tbnufk7a59YsX+TvyNes6/BUN+/2yfnavWz92vwfCNj2x8w633pfq3fp/3Xe8Wy+s9N8n9rlqINx2801+zHOt7yG7I85wAQAAAAAAyBkDLgAAAAAAADljwAUAAAAAACBnDLgAAAAAAADkjAEXAAAAAACAnO3RKUVP/djlbv2dc2+paT13/GMwa7QkdT26pnXV6kWnXuXWf7HgwvA2JfkzTUfOWv1Ut37Xt/xZtOf+zG8TIElbD2QcF7Vpsvit6PYnf8Wt/99j/SSBVf1+sts5s1bX3K7IW9c+1q1f9Mdj3fryt/4pt21jNxUk1Niwn0ySgpfE0Hw/ceMFh97o1l88+89hkx442k92+epRj3frtx57gFtvvf8gtz7U7G+3/1A/WUOSTjvoTrfe2eAnAl2x1k9srAs2UQge7+xG/nuXNfjHVKkvWL7oJ4qk5KfTiHSaXbfeT7qrb/Kfu+FGPyHOZvnPnQVPnSQVgwSjOr/Lqr47WFl/lSgkjCmV/NeRbe1y6+33+alkD9w7263fvM9+bv3kufeEbTp13h/d+tlz/PqqwXluvafkp8y2F/0d3exC0PkkrR70Ext/fO+Jbn3TFf4x1dKLg5Teq28Otx1n5u35+GQEAAAAAACQMwZcAAAAAAAAcsaACwAAAAAAQM4YcAEAAAAAAMgZAy4AAAAAAAA526NTivJy+xlfne4mOOKxsqv6/NmsX/3nl7v1g1+9yq3P7SaNCLXb93J/dvT6N/mz/0vSICENe5SFl6136+957Slu/ZOLat/XPK5pwK2f1rS6pvVc3+/vS198+WvC26w45zq3vlykEe3VohQaSanPTyApbOl2680bWtx6caOfurJ9yE/tOrbRPx6QpGPV59afsfwi/wbL/fLmYX+f3x08Hg1mYZvuHvTvxzcffpxb37TWT1rqfMBff/M6f78hSYWt/nOReoLIo0E/MSoN+4lUpBFNHmvxI7GGWhvc+mC7fzwy5L/slKp8PV0Y8PtzfZf/fNf1Bv3D+A58lwT7m9KWrW69fZWfQDt3tp9e9MtGP4Vw4Oj4o/SL5vrHBMvq/OSk5fUb3Pp9Q/5+7u6BBW79h1tODtt05R0Hu/W5V/rvLQf87l63PnTf/eE28Ei8ugEAAAAAAHLGgAsAAAAAAEDOGHABAAAAAADIGQMuAAAAAAAAOWPABQAAAAAAIGd7dErRH97yGLf+nTc8yq3f+JjzJ7M5VX1v2/5u/cHB2W79/L/4902SDv66PwP6gVfe4NbjXAWgdhb0swu2+bOpS9KL2/1IiZ4j9nHrDcyOPqMN3/lXt77q+cvc+uFvfnO4rtte8IU8mqRDf/0Gt37IeX7Cyorr/SQiIFQlhSb1+ylFtmGzW2+/00+MGG7wEzR+W/QTNF5+ip/SIkkf3/fXbn2/urbwNp45RT/apbHkJwJ9b/uycF3fXuOna6y/aaFbX3CLv57Zd/gpIHUPbAy3HaWZRM8daUSTw+rijybFff1jgoFl89x6175+SlfPAv/75sGg65ca4ue02OunFBX8EKuQtbX69S4/PUuS0mCcurXXCV53pV4/ja24eq1bXzDkfypq2urvey9dc3zYpIsOPtytz+3090+RTVv8vlG83091m7UyXteh1/v7udINt7n1oepNwzhxhgsAAAAAAEDOGHABAAAAAADIGQMuAAAAAAAAOWPABQAAAAAAIGcMuAAAAAAAAOTM0iTOpm5m17Vr9vGPtjMmbRsTUWjxZ9S/7y3+LP/ffu1/hOs6ssGfnfyJN7/QrW+9bJFbX/pjP6Vl6J414baB3clDbz81vO7qd33OrZ+z+ilufeM7/VQv/emmmtsFYGpdXPqJ/8Y5g0zV8UuUyGLNzW69MHuWWx/at9Otb1/mH+9I0tYD/O/cehf5KR2pI4hdSUFKyxb/vrU8FH/X177G33bbfb1uvX6tn/JU2hjUu/1UsuzKIHUIu8aC/hH18Vkd4apKC/1+3rOfHy/Uvajo1vs7/TYN+6FGsipRLQ3b/HrLer8/td7vp+bUr93k1kubtoTbTr3+6yINkS0zpqBfWoOf7FZoDyKs5vj7ZEkqzfL3v8PNfgqdDfv7v+I2PymtEKTcDa1bH7aJFLVdM9HjF85wAQAAAAAAyBkDLgAAAAAAADljwAUAAAAAACBnDLgAAAAAAADkjAEXAAAAAACAnO2VKUUApl5x3tzwuoaf+mkWPz74V2799Btf7NY7/+Fhtz68ZesYrQMwVUgpGlcDgrr/PZnVB2lHQeKGFCckKaoXanzaoqSUwThBJQ0MuPXSQJCQRLLQzFfwk4KiPhsliUqSdfhJMaXZfn2oo8mvt/rbLtUHyTXD8Welul6/D9Zt9/tyYUu3v6ItftxR6gqWF6+LSRGlFxWDfhztLyUpuI0KwfkOw/7zloJ6zctLpBTtIlKKAAAAAAAAZggGXAAAAAAAAHLGgAsAAAAAAEDOGHABAAAAAADIGQMuAAAAAAAAOWPABQAAAAAAIGdVsqwAID/DGzaG1w0814+MPuyzr3Xrt5/xVbd+5qGv9Dfwp5uqNw4AZpIoujMFMaD9Ub0/rxYBExNEFKco0bhKDLIF/dm2+pHK9Y2Nbr0hjD4PvoeuEqWbBoM7EkQ2R9HnKVq+asRvKb4OExM811Wfh8hwjc9PocbEYfP7q9XF51OE9yPqS8RI54IzXAAAAAAAAHLGgAsAAAAAAEDOGHABAAAAAADIGQMuAAAAAAAAOWPABQAAAAAAIGekFAGYdlGC0fKz/PqZOilYE2lEAADMeFF6UVCXpDToJ/yop8ZtW41pMBNBusueJUovGhqa4oZUmEg/pl9OC85wAQAAAAAAyBkDLgAAAAAAADljwAUAAAAAACBnDLgAAAAAAADkjElzAQAAAOwdmDgUewL68W6DM1wAAAAAAAByxoALAAAAAABAzhhwAQAAAAAAyBkDLgAAAAAAADljwAUAAAAAACBnDLgAAAAAAADkjAEXAAAAAACAnDHgAgAAAAAAkDMGXAAAAAAAAHLGgAsAAAAAAEDOGHABAAAAAADIWd10NwAAAABQoeiWrejXVTC/Xkp+PZXCTafh4eCKYF2YOSzoB+HytX3fbFE/m8C6au6zVcR9Nujn9OWpNcn9clqf5+i+VbsPVfa//vJ7Tn/lDBcAAAAAAICcMeACAAAAAACQMwZcAAAAAAAAcsaACwAAAAAAQM4YcAEAAAAAAMgZAy4AAAAAAAA5IxYaAAAA0y6K37WGer/e1OivKIjYTQMD8cb7+/3bEBc9tapE6Ybx4EHd6vyPOeF66oOPRcF6JMnq/b6pYo3faQ/5/SwNDIY3SX19wW38fp4Gh/wVlYI+jrFVi34OIpKrxozXIJWiPlYlfjlqU/QaCva9KkzgnI1Bvy+nYb+94b53N+yvnOECAAAAAACQMwZcAAAAAAAAcsaACwAAAAAAQM4YcAEAAAAAAMgZAy4AAAAAAAA5I6UIAAAAuSp2dLh165wd3iZFaURBgot6g5SW7h6/Xi3xJUrEiFRLJ3E3QKrRTqLHL0hRkVR7GlFDg19v9OtqbnLLpfbmsEmDHf5tBtv9vpzqgiSuYb9/1G8PkoUk1W/y+3lhy3a3Xtrm11NfkNA1FLxe9uS+XGO/tCjZSlKhMUhRi5J/ovSsIb8PpGD/jhJ2iAAAIABJREFUV+rx+0V2I38/F6URFTra/dW0tfjrrwvugyQFKVmF3qD/dXe79VK035/BKVyc4QIAAAAAAJAzBlwAAAAAAAByxoALAAAAAABAzhhwAQAAAAAAyBkDLgAAAAAAADkjpWiGsGAm656nH+PWj37/jeG6Vp3kz/YMzFTFuZ1u3Wb5KRf3PnexW++b58+cf/CH4tdL1dncgRmm+3mPduuf/NSX3fpHXvByt56uvSW3NmHvVly4wK0PHLafW9+2NEjukFQKwjtaH/JTJlpXbvDXs2GTW0+DA+G2w6SboK6C/51lmHYU1KumI+3JaTABi5JaqlwXphG1+OlCqdWvl2b5ySt98/0kIknqme/3j765ftrNYJu/Hgue6vrtwYtCUss6/7XUdp9//xrW+o9T2rzVrZe6/JSYML1Imnl9NkgdCvtS8HnMWoJUnlnBEyqpNLvVrQ83B89p8NjVbfc/1xXWbw42XArblIb966w9SCPqnOXW+xf593uwvUpKUaBhi58u1PCw3/+KG7e49SiFq9TbG298ivorZ7gAAAAAAADkjAEXAAAAAACAnDHgAgAAAAAAkDMGXAAAAAAAAHLGgAsAAAAAAEDOSCmaIYrz57n1S7/0Fbd+RV/81H36gGe69aF71tTeMKBGhSMPdeur3ufPmi9Jrzjqj279nXN/m0ubDlv4uvC65Wdfl8s29mS9z3qUX5/rz0bfef5Vk9mcvdr6E/3vST6y2t/vYzcVJGvI/OffCsHyVVRNx3EUZ89264PL/dS4dSf5yS5dh8RJQQruxuDNfrpK6z1+2ke1NKJI9HgUgrQ8FYKUk2Dbqc9PGkmlKikZqbbnaEaKUmKCZKFCkBIjSdbqJ8WkjiAxpdNPiemfFySDzvef07558eurv9N//gY7/OQVa/PrxTo/Paa3O04p6u/0PwsMN/jHW7OjJKSg79tA0JerJmvNrD4bphE1+49RocNP6ynN9/d/fQuD9CJJ/bNr+5jdst5/vAtbutz60LqH/RWVan8O0nY/4cdm+4/HcJP/XhS9hiRpuNF/HTUEyUbtwcuuYcBPybK+Pv8Gwb5X0pT1V85wAQAAAAAAyBkDLgAAAAAAADljwAUAAAAAACBnDLgAAAAAAADkjAEXAAAAAACAnJFStJt6bJM/y7kkfWxJp1svkFKECbCTjnLrd73dn1X8stO+6NbnF+PkgUIw9nthzxy3fnf/Arf+xjkr3fp3H/f1cNsfOekst56uuTm8zd5m7eP856floC3+Dc6fxMbsDYL0E0lKS3rd+pMW3OHWf2+n5tIkTJIowSVK1qgLDtvq/SQTK1b5Xi1Kx2kIkn8Wz3frW5b7aR9dh/qJGyesWB02aXO/n/ix9t79/BsEaRUTkoLHI3icrN5/bFMpeP0Wak+YSn5wzcwU7LcKTf57v7X6CUIKUlEkaWhOkDo0P0jE2sd/vfQs8h/z/nn+A15qjY+5FaQLFer9ekurn5gyr63bX7//spMk3dfiH+93DfivycZt/nNRt9lf3rb5SVLWH6e+TFufjVLDgjQsa/Hvc5rlJ171L/D3Tb3z4o/SpXq/n7Xd7+8b669d5daHggShPJWihJ9Vd7vlpjb/8euZH6S6Ser3g56kkv84DbX4z2lDXbCPnUCK31T1V85wAQAAAAAAyBkDLgAAAAAAADljwAUAAAAAACBnDLgAAAAAAADkjAEXAAAAAACAnJFStJsqBjMxA2MpzvenvL/zc/u69f859Ty3fmCQiiHFaUSRb23b363/4rmnufVSo7/tN/7KTyk6sXE43HbvQn+mdT/zYO/0of/3E7f+ydufMsUt2TsUD1oaXnfH6X4E1LFXv9StLyZta2bIKY3IgsQXNQZJMEEyjqQ4lSfYxuAsf1850OHft7pmP9mlvT5OOFnf4yfU1AUBLumBh8J15WY4fv+oZfkU1aO0qJkq6MuFIN0qTCOa46eZDM2PU4p6F/h9s3uh3897Fvvr6V/op1sVojSivjg5rrAluN9B+knXHH9dc1r8BLr92oI0QEnds/0Ens0d/hHMULP/3KUoQSvc8jQJ+p40gX1pkF403Brs/1r99UdJRJLUtNl/zTdde5e/7SlII8pLcbPfVhuOU4pK0ahD9DYVJQgNBq/TWvfVU4hP7QAAAAAAADljwAUAAAAAACBnDLgAAAAAAADkjAEXAAAAAACAnDHgAgAAAAAAkDMGXAAAAAAAAHJGLPRuajhFWVnSYIv/tNYe1os90QMvXe7Wbz39c8Etovjn2nwviH6WpF/8/alufXjlnW7djjsilzZhfOotiODDpKj7Rk/Nt+n9axzFiN1QFOdsQXxrEJeaSvGxggb8aNwo5LQw6Edu1vX6scZD2/33jr9unRc26cGNs9z63Af9+1Hqqf21UqsUxWcP+21KQV1R/HOV47kZKeiDqg/ikRuj+F0/uniwLf5oMtDmb3uwze+1w03RYx708vX+kXLbg/H3080P+9uIInC3HeQ/Tt3z/XpjMX7/rS8GMbhBlyoM+m21KE53d4oyLwTPaRAXrXr/CRpuCuqNQRz6UPxYtDzg75+Gt2wNb1OLKPK6MGdOeJvhDRv8K6L9XCC1+K/fgfY4Jrvk7wrCflm/PXiP6vYj1EsDA259JvRXznABAAAAAADIGQMuAAAAAAAAOWPABQAAAAAAIGcMuAAAAAAAAOSMARcAAAAAAICckVK0B1p/gj/T+f6/meKGYEba98zVuaznv7oWufV/u/NJbn3hufEs4cMrV9W07c1HkcgyGUqnHevWH9v0f1Pckr3bstaNNd9m/0uClAnMaFF6gkXpQlFqSL+fzlAtxSf19/vbbvSTWopzZ7v1hu0tbr1ui3+I+dCmeP9dWucnX3Ss7gtvM+mi52IoSI+JnqMoCabGdJDpZkEaTJSUpWLw3W6dX0/FOOUkUgieirouf1312/2+2fKQ/1zMvivuf/Wb/et6F7e69a4l/rZbG/xEluaiX5ekrj7/tVq/3b/fDdv8Pmg9/n0oRX18upK1ooSsaoL+lxr9z0pDLX6q0XCD/5gWB+LXb3Hjdn8b4S2C9XT4+8y0ZLF/g8F4C7Z5s7+u6LkO9C1u9+sL4tuU6oI0ou6gvsl//ypt3ebXg/e0mYAzXAAAAAAAAHLGgAsAAAAAAEDOGHABAAAA/n97dx5121nXCf7ZZ3jn+9459ya5mUi4gSQQEoIRFBFLHFoUBxQB17KqaScEuliKlrala3XZahXdtloCDoXQVi+xFRSHWoKiqChhEkIgMxnvvcmdx3d+zzm7/6DWau31+71wkv2O9/P587vP2Xufc569z36f96z9BYCGmXABAAAAaJgJFwAAAICGaSnaIOrl+C7kDyzHdw4/2I3v5F9KKfPXxG0FUEop5Qfiu9rf8KNvDPMr/iq+q/3k3UfDfM9jD4R5kx0qc/uGbzHgS3vs5eNhfkk7biHh6elcfWWYv3LXnw69rvFH4uYB3UUbRNpEE7d91P3hmnHq+fhaoV4e/nogay8qS/F1Snc+3tfOfHyJuXB+JN32+Mn4/4DdR4+H+bBtH09F+n5kslaji1VryDaiFb7eW/34OOokZVytpaSt50K8nu0Pz4d59+H4eueLG4/Hef8ZcYvL4t74rHzt9pPxeur8DblwLv7O3nkifn2jp+OxXCctRXXWdrNezVoNtiPV7biNaNCNx+sg+Yu5M5+/F3XW0JU0erX37Im3fWVc/ZOtv3MiHselDN9G1JqIr//OXRufxxf25esfPRG/52OnkyuVE/F1zUrtexuVX7gAAAAANMyECwAAAEDDTLgAAAAANMyECwAAAEDDTLgAAAAANExL0QbRPxbfgf9ND70qzD/wrD9Zzd1hC+t/4ZEwv+7NcZ5Zi3aIzPILLqzj1reuznXDva8L9+1YpT25OBz6lckw/6rRvInhnecPxAvOnm9il9jg6n7c5vBU2oiGljRrtBbjlo4qLjUq1WL+v75uUj4xOHV6xV1bTVmrRz1IXnfSfrLlteLxUXeSNphO0gbTzVt5quTU2ElKWVq9+Aljp+PPtHNm+PaT/v6dYX72uvh177kibiPa1Z0N87vOXp5uu/NE3Do5eSw+T7TOJ29Udv5osBVo1SXHYyppycrGX9ZS1BvPz2eLV+6KN713OswXtnXDPCuqylqnska5p2LpK58d5mdujMdGd0fe6tZ+PL7mGTsRt2QNzsQtRZuRX7gAAAAANMyECwAAAEDDTLgAAAAANMyECwAAAEDDTLgAAAAANExLEdCox3/2RWHem1jhDvJZKUHylO985h1D7dMbDn9tumz8A58eZtP8M5d8ahM1GDSovWd3mB/7roNhvut7Dof53x18Z7KFsXTb73jbt4f5Jcc+mj6HLSRpKVoTdXxWbC8l54HkX3p1Jz+7DuKSjtLasT1+/NG43WJNDJLPImnr2fKydqaR+EPtTcZ/gvTG8v8F90aHfG+Th/cm4n1dvHRbmPevisdfKaWcfWb8+uZvjhuBbtl9NMyPLcbNNQ8d2Ztue/uh+AWOnYxbh6qFuEEma9zacJJz0BeXNXM9krYRTcTv9VI+NMrCrrhFqm7FeZW8vLGT8YJWL2lKW2Gn2gvxObM+sC/MD33DSJjfdHPcbHp0Jj6GSillcT5uKWqdjRu6+klD3GbkFy4AAAAADTPhAgAAANAwEy4AAAAADTPhAgAAANAwEy4AAAAADdNStAVN7Zpb711gE2pPx3fIX/iKZ4Z596eOhfldz/rPQ2+7W8WNAcv1cI0cH56fCPPDP3hl+py6d+9Q2+D/M78rnrOP70P/1AxefEuY1+24MeDQ18d3/1+6bDnMWyPxGPvLF+fjuJs0Xxztx9v+9w9/R5ifHsStChOtfNzv+/iFMN8kHRM8TfU6thRV/aQFJBl8vcl4QWdH3KBSSinzl8TnlIUbD4R51ufVOxp/P62F9DOqtsj/OJPXUXXjtp7+RNxysrwt/t5f2Jk3ES1Pxsvq5K+ZukoenxQq1a3kWmQ6b8AZv/ZsmH/DgYfjx7fi8f+xE1eHeedw/L1SSimTx+Kx1j6XtHctxd+DqWzMJu9rKWXlJqH1kO1PkmfXFstT8WoW9uZjo56O3+/OaPy59ebjgbx4OD6GlqbjsTF6Lql7K6WMXhm3CJ26Id72TS96MMz/9aX/GOa/88SL020/UseNW9Ww43IT2iJnfwAAAICNw4QLAAAAQMNMuAAAAAA0zIQLAAAAQMNMuAAAAAA0zIQLAAAAQMPUQm9B77v1t8P8jeWr1nhPWC/VaF4juPSS54T5m9/+X8P8peN/HebH+oth/uH5nWH+sw+8It2n99z47jC/rJO/jshYK66We/h7dqTPecb9cbHoYCGpVdzCFhfiKsFB0vv6rp/+P8P8T9/wvMb26Sd3/5cwb5W4unG+jis3n0iqWn/9xNeG+dd/6N+m+7TjM3FF46V/GVfRVo8dDvMT946H+b52XpFYf/Jz6TI2obSyNKtgXv3K1dZYfE6sO3Flbm8iqdLdER9zV+89k277UL0rzM9eF+/T7oVLw7w9OxfmgwtxrTpfvqqd/K92LP6+Xt4Wny8XdsTrmd+bVw4v7YqPi8FUL8y7k/G5dGoy/n6fGo2/P67clo/ZW6cfD/NdnZkw/9xsXHF+8lzcOzx2Mn8/Rs/Gr7taiK/P6t6QtfKtFeqfN4tBcs7MTrHJSx5kTcvb8+/ry/fH4+aSifg89MTM9jA/thifF7M/4/tj+e8plqbiFzh7TTyWvmHPPWH+rJET6TYyrXgTpQw7Ljchv3ABAAAAaJgJFwAAAICGmXABAAAAaJgJFwAAAICGmXABAAAAaJiWog3u0D9cES941truBxtT1iZx6lW3pM/5yC/82lDbuPE9bwzzAx+O7yo++t8+Gea7L43v2F9KKe/54PPD/Md2f/5L7N2/dPtofLf4u/51/ppfeOhNYb7vdz8b5oO5uP1iK7ju+z4T5jf+4hvC/IoXHFnN3SmllPLh4wfD/MRfxE0Pu++Ox8DIB+JxWUr8+IPlU19y3/7/svvsH/nJF4X5C0bvCPPfn7l86G2ztdRZs8YaqJK2mdKNLxmXp5L/3Y3ElRTjnbzVYyQ5hy9Nx41ey9vi6pDu1GSYb8iWomqFJpg1aKVKZfvVjd/zeiK+HulNJi1WSVvK8vakPqaUUnbH7Tu7dsyG+aXb4s9731icb+vG7UVXjp5Od+mqkZNhvlzHr/t8Lx7LS7Nxm9PUbD4GOrPx8VItxG1L9SD+lqrXc5ytkyp5ze2lOO8mp47l01l9USlPtpPWofZ0mPdPx+feqcfisTR6Nt7Xzlz+edbt+LirenH++OLuMP90O74Ge+h0/PhSSpk8Gx/b9UXQCuoXLgAAAAANM+ECAAAA0DATLgAAAAANM+ECAAAA0DATLgAAAAAN01K0wU0dGv7O4duq5M7bN8RtH/17Hhh6G6ytajS+c/l9v/zcOH/FcE1EpZTyivu/PcwPvvXhMO8fOx7mnSviO5ff/KePp9t+y+57wvzcIL7T/u3v+7Ewv/RZ8T799XP+n3Tbd/z7+L161atfHuYnf+05YT52Km/eiLT/9tNDPX49XfNTcZvOerq05ONpo5n4mhNDPf5nPvxd6bKD5RNPd3fYDOoVmlpWe9PLcbtQNYj3qUp2tZqLmzVOzsUNQqWUsrQYN36MZ5dCWbvKurb7bJH/ZSavo0raEQcTccvO8kS8nkFW7rLCRzfoxetaWIpXdmp+IswX+/GfP1lLUbvkx+Noa7jv/lOL8T5lx0tnhWLE1nyy7V58DJek/azKGqmSvF5pjNdZX98qy/apneTJOWLkXPzeTT8Wr2biWP5eDDrxsdJejrc9fiLe9tiT58K86sfryZqISillaU98/p25PP474y8evyHM75i4JsznvxA3M5VSyt5jSXvWQtw+tpVskW8FAAAAgI3DhAsAAABAw0y4AAAAADTMhAsAAABAw0y4AAAAADRMS9EG10puNL6SdnJX8cF4dkt4NoqqEx+S9//KzWF+37e9LcwP9/I7fn/bb/5EmF/9Ow+FeS9pI1r++ueH+U3/8TNh/nOX/FO6T+86f1WY/9f/5VvD/Lo/+liYt/fsDvOvfdkb023Pviq++/sf3/LbYX7g1+I7uWf+fDbep986+Iyh1sPF46o/WceGFTaGdWzZGczOhnlnIW6Y6MzHDS6d83HrytnzcUtLKaX0Z+LvwHa86dKZixtR6oW4bWZNDNswtZ6NSiuouvFnUY3F34H95BozbSNKtJbyhpVBMj7m6vEwX5iPm5POjMQX1zu3xZVAU938muqSkQvxPg3ibT8xE7e4dM/G/wMfPZ+3/lTzSetLNqZayXtb5+/5ZlElbURVNx6A2VHXPR+/pyNn4zHQOhufL0sppZw9H8aDs/F1Z520S2VnlOxvhtZEfo4dnYuvSbfv3Rfmp6Z2hvlMN853PJhuuoycis/L6bkmeX3Z+7SR+YULAAAAQMNMuAAAAAA0zIQLAAAAQMNMuAAAAAA0zIQLAAAAQMO0FG1wO999R5j/xk/ErS6llPLD2x8L8wffHN8x/brvG36/WB2H3vIVYX7ft/1qmD+RtBF99y+9Jd3G1e9/OMxPf901YV5/37Ywf+9N8T7tbccNBjf+ft4UdPC3Tob5xP0fT58T6Z88FebT74nzLy6L81e+Pm5z2vfK+PhK/diOZMHdw60HYB3VM3GDS9YU1JmNLzHn5/Lammop/j9geyHuFOlciL8D++dn0m2sug3aOjSsqh23TJWkUWQwEn92g07cgFNn//JdqTAne2v7yTYGcZ6UeZZ2FW9gkO5sKY8txK0vD57fG+bHHtsV5rsej9c/djxvSKoWk/qu5AXWSetLGQw5Zodt4loLreQzGklaijpJq1HyXrQuxA079eEn010arHJbWtbW0z8ftyOVUkpJlm1P2sdKFV/D9sbiMTZxIm8Qqvrxd0U1ORnmreSz6M8kzVCDvNFrvfmFCwAAAEDDTLgAAAAANMyECwAAAEDDTLgAAAAANMyECwAAAEDDTLgAAAAANEwt9Cb1v3/sG9Nl3/SvfiXMD/7QA2G+AcvdLlrv+IG3D/X4pJWtfOsP/336nMvfdCbMv3/6z4badilJ/fPvvSnMr/upT6Zr6ifVduvpkrd/NMzr4T6iUsqRp70vbE3tKv6fx5mDeW3u/r9Yrb2BlQ3Ongvz1mJS9ZldXCRVvaWUUiX1vu2s/XYuqczdwPWgW1bSLJw1KtdJ6/Rghb9M6pFkI514sLWTvNuNrzl6g3hnv3B2T7pPZy5MhHn/UJzvvi8e47vunQ/z7pPxNVsppZSsFjqT1T8ndb31Zqo4z7q+s4rsbjwAB6PJAOzH17ytyfhzLqWUssq10E2qHn8izCd3jof5wt6RMK+zz6GU0p+K38NqId5GWYzP71Urq4FPN73u/MIFAAAAoGEmXAAAAAAaZsIFAAAAoGEmXAAAAAAaZsIFAAAAoGFairagfonv3jyY3zx3y75Y/f3Ms8L89tHPhfmudnzH75/ec+fQ2375fd8Z5o/fcSDMn/HeuLHiurv/KczrDdhEBOupn91S379C2IDq5awqKGmMSFpoSmuF5pPkkKiy0qFBdgxlFTjai75cddJckzXjtOfj7/jOfNy61lqOx01rhUuFwVIy1kr8efeS1qsLC/GfPxeW4pNv92w2mEuZOBJvY/sj8QuZfPhsvKJTcV4vLafbLu0hvyz68fGSftZZvhHbi7J9XY4/h6ofv4ZBN35PBzvi6+3uYF+6S63k767B3Fz6nPVSTW8L86Ud8fG7OB2/T+3FfGx05uPjrpM1GyXjdTNyWQcAAADQMBMuAAAAAA0z4QIAAADQMBMuAAAAAA0z4QIAAADQMC1FW9C1nfEwP/VvviLMd7/zjtXcHYbw0ZdeFua3v/brwvzczXFbQOdEfFfxUko5+BtH4uccPR7mVy8cCvOtc+9w2FjmXrDxGgygvXtXmC8kLRb9saStIimkKKWUKmmVqbJWlG58GdsaHwvzFdsaNRj9C3XS7lJfmAnzzsn4PZ+YiD+j/shIsuF8gLQX4raguh2Pj6oXb7u9GK9/7HS8nskn87ExcehCvO2jp8I8e/8yVecp/KmWNOCln2nSIlkPNmAbUSJ9Dcn7XY3HrUPtsfj97k3E57nlnfHfXKWU0r3uyngbT5wI8/7JeMw0qb13b5jP3RT//XHhQHzMDTrxcTrWy8dMqxePyyobl1nz1CbkFy4AAAAADTPhAgAAANAwEy4AAAAADTPhAgAAANAwEy4AAAAADdNStEm96yW/ky47M5gP8z13xXfq3jz3IN/6+qdOh/m+X/tonD+FbcT3AgfWWrvyPw82ntZY3DZT9sftFktT8ThuLcctFq2z+aXn6Jn4OSMXkraKpN2CBiStTVnTU+tE3LAymjRMtRa3h/nIbNweU0opC9vjsTZIihnbS/G2R8/FbSnjx+L6ou7Rc+k+lVNnw7heTKqQMu2kgSlr6CqllKW4qbIk7S51P2kvytpgNlFzV/Ya0vGafG6d5D1qTU/E6x/PW0HrkfhcV+3eGebtbAycOx/nyb6298SNcqWUsnTt/jCf351su4rPyd3Z4Y6tUkppn0/Ga/IZaSkCAAAAIGXCBQAAAKBhJlwAAAAAGmbCBQAAAKBhJlwAAAAAGqalaJN6y72vTJe98qrPhHlrNr5j+ta5BzTAxrP4objdpf+8/G7+0IhW3DxRSilVN2nQmJqMn9CLrxamnoivLTqLI2E+yHepjJ2O1zX65IX4CWfi9pi0IWYTta5sVHVvOcwHM/H5rEqaVEbmk0agM9vSbU/sGA/z3vgKgyrQmY/HQftc3JZSrdCGVXeS46hOzu+DuN0lbWRZoall6NahbJ9WakLaLJLXkI7XC/E5pUqan6oLcXtbZzRv1SpJw0+9HO9TPRe3zGafc9Ue/ncT7dl42xPH4mNo7Ey8jfZCvE/dM/ExVEop7dNJ29J88rp78XG3GduL/MIFAAAAoGEmXAAAAAAaZsIFAAAAoGEmXAAAAAAaZsIFAAAAoGFVvYp3pq6q6p+2lR233l59/aptAwDYPP5q8IdxdcMGcjFfv1RJ60prYiJ+/LapeEWjcUvRihbjhpB6djbMB/NxI0adtcpoKVo9SSNL1Y7bT6qk3aUaj9tgSimlGkuWJY1bqaRxq2TtMcm4LKWUOmm1ydqF0r+7sscnrUb/fWGSb4HWofWSNLtVreG/ttLPbh3PQ+3p6TCvppN2sE7SAJY1ZC0kDXGllHohOV8nz8kaptZzfD/V6xe/cAEAAABomAkXAAAAgIaZcAEAAABomAkXAAAAgIaZcAEAAABomAkXAAAAgIYN2aMGAMBWVffiSuXB3FyYV1ktblIHvKKsGjfZpzp5vFrcdZC85+lntJhVwSaV3qWUaiauBy+t5P/HSVV1Os6Sqtu0frms8PrSJxibG1pS2VzXT6ENeAN+1oP5uJq5yo677BjKjvfl/PjNz9dbv97cL1wAAAAAGmbCBQAAAKBhJlwAAAAAGmbCBQAAAKBhJlwAAAAAGqalCACAFaVNQSu0ykDaZpKNmxXG09bpLGHT2YiNOVmD0Arq3nKcD9sglG5gA75PG4BfuAAAAAA0zIQLAAAAQMNMuAAAAAA0zIQLAAAAQMNMuAAAAAA0TEsRAAAAbBZNNgLVSUsRjfALFwAAAICGmXABAAAAaJgJFwAAAICGmXABAAAAaJgJFwAAAICGmXABAAAAaJgJFwAAAICGmXABAAAAaJgJFwAAAICGmXABAAAAaJgJFwAAAICGddZ7BwAA2CCqasjHx/+7q1rJepLHl1JKSZ5TtdvD7VOi7vfzhcmy9Dl13cAesaEkY3/F8ZcsS5+THV/JeFppzNbLvWTBYKhtAKvLL1wAAAAAGmbCBQAAAKBhJlwAAAAAGmbCBQAAAKBhJlwAAAAAGmbCBQCCKrO6AAAeX0lEQVQAAKBhaqEBAPiioatj4wraepDURXfz2unW6Gi8YHwsXldnuMvYemk5X7i4GMaDJFfJu0qGrSV/SttIxmZS5dxKxl8pJR+bIyPx49vJ/7p7SS35/Hy66Xp2LswH2TivV6hF56lZabwOOc6qbGy04jyrDK+XlvJ9Ws/zUGuFevXIFjqX+oULAAAAQMNMuAAAAAA0zIQLAAAAQMNMuAAAAAA0zIQLAAAAQMO0FLGuDnxsKsxbVXwH6sdvn13N3WEID7zr+WH+yDe+M8x/+fQz0nV96HtuC/P+PQ8Mv2MArJ2sMSJpRKkX86aUftII1E5aPcrEeLyN8aTtaCVJs0t7PmkpmovbY7JWmbQ5ZnCRNsck7S5Zg8sXF2YtLsm6kqag1vbpMO/v3RHmC3vjcVZKKf2ReJ868/Hn2j29EObtE2fDvJ6PH19KKYOFfBkNy9qIsjFZSqm68Z/Z2bhMW9ey8Z20FGXNWaWUUo3HY3mQjP3l3RNh3h9NmpZ6SbNQKWXkbHJ+P3EuzOszcT5Ijom6l7VzrX+rkV+4AAAAADTMhAsAAABAw0y4AAAAADTMhAsAAABAw0y4AAAAADRMSxFr4sF3x402f3rFb4T5c//hdWF+dbmrsX3iy9O+8fow/5OXvi3Ml+tumP/ozvvTbbz3ud8Q5tvu+RI7B5vYQ299YZjf+5pfT5/TreJmgK95/Q+G+fj7PzH8jrH+hm1wSfIVG18GcZvEujaftJLXMRq3etQTcRvH0t7JON+eX/bW7fg978zF79PoqaRt5uT5MK9OnQnz/swK7YtbocGoobG80nOqrJVl5/Ywnn/G7jA/eVM8zmauXuFzSP51Pfl43JS199Px48cOL4X5YG4u3zZrJ2u6ScqLnpKkdaieT8ZGcq6uRvOWtuqqy8L8+O1xS9GZG+PXXU/2wrx7Mj6GSill+gvxsp33xeflkUG87Sr7LJKvrrS9qJQ1azDyCxcAAACAhplwAQAAAGiYCRcAAACAhplwAQAAAGiYCRcAAACAhmkpolEP/OYLwvy+l709zC8M4jtvT/5t3DDAOjhyNIzf9MD3hvlf3fi+1dwb2HSOvvlFYf63r/pPYb5c53f5T63NjfZpWtbKk7WxjMXtE9VI3A5XOitc5i0lzQ2r3FLUmsy/36sDl4Z5fyp+3f2p+FiZ25+0zVye/5+xNxHnndn4s5g6EufbktaSTvJ+V4uL6T7Vi5uopShrI+rEY7PqxmNzxYaVZPzX01NhPn913Lxy/NZ4fIy+8FSY/9A1SbVQKeV0Lx7PfzB2W5jvujceN/0TJ9JtrJvkM13RGrW+bBgrNImlx2/SRjRI8mHf03qFc0ppxefA2QPxw2+4+bEwf/Z0/LfBhw7FzaallDI3syvMp47E54juePJ9N5d83y3H59i6v8LvS+q1Ocf6hQsAAABAw0y4AAAAADTMhAsAAABAw0y4AAAAADTMhAsAAABAw7QU0ahvvvVzYT5axXeU/oHD/yrM977jjsb2iaenf/ZcmD92+JnxE25cxZ2BTWjmikGY72o9hTYiLgpVO/5/WJW0DlUj8ViqB/HYK6WU/rnzw+/YEDrPuDrMZ264JH1OfyxuRRk/Fjcatud68YrquN1iYW/e9tHbH2+jzMTveasXt82MnYm33TmRtPWs0CRVLyX7tJ5NMEO2EbXGx+LHT4zH68/yUspgW7xscV/cFHTmYHxczF8ft7i89uo743z7Z9J9+uzSnjD/48mbw7zqb6Lz/sXWOLRG6l5y3lpHy9PxZ/2iXQ+H+a0Tj4b5vdv3p9t4qB23FJWsDCv7Hky+78py/L5WK4zjein5jmx47PuFCwAAAEDDTLgAAAAANMyECwAAAEDDTLgAAAAANMyECwAAAEDDtBRtEPPf/hVhfuAtD4b5uVfGd8EvpZTek0cb2afM8Te8KF329kv+U5j/wczlYf7kv7s2zFslvyM8a6u9L26UePGzH1jjPYGNbea7bw/z933HrybPiG/N/xtnn5Vu40Pfc1uYTz52d5jnHTVsJfXycpgPLszkTxr0G9l2ddtNYX74q6bDfGlHvq6pQ3EzxPTnLoT54NFDYT45cUOYH+/k107bd86G+blqIszrdtxSVPWSdovN1viStRFlr3sseW+TlqKsjShrIiqllN6OeF2L2+N96ie7VPfj13bf7L4w/4fRK9J9+szcVWHeOx3v68iZhXRdsNp62+ODot4VN6LdNB6fY7e15sP85FzcGFZKKaNn4rx7Pv7+Kr3kOyo5B5Vu0uKXtb2VUtbqrOwXLgAAAAANM+ECAAAA0DATLgAAAAANM+ECAAAA0DATLgAAAAANM+ECAAAA0DC10BvE6//jH4b5926LO7RectsPpusa+7PVrYV+w4/+Ubrs2u5UmL/qf31NmO/+uzsa2SdW0ba44u1/2PXJxjZx/PlxReOOuw6Gef8eldSsn4WXf0WY/9wv/k6YH+zG4zvzf/32N6XL9t/z0aHWxRZTx0Xf9WIvyReb2/QLbw7zx18Wf0csXB5XfXZP55eek8fi19G//wtfYu/+pdZ8sp6pbvqcbWPxe3V2Pq63Hj0dF4qOnI7rUuv5pA6430w9d+Oq5H+yWT6spCa7Ws7fj/ZMXO861o73aZCcewcjI2H+j6PXhvnx+W3pPp2Yjcf/2BNxdW3nxPkw36CjgNXQSmqNB6s/Cs5eF9dC33TVI2H+lWMnwvxjC3vD/Njhnem2r3wkPi+PHEn6oheS76/k3JGdS+vs8WvIL1wAAAAAGmbCBQAAAKBhJlwAAAAAGmbCBQAAAKBhJlwAAAAAGqalaIM4tLwrWRLfubk3vvpzZf2vvTXMXzH1n1d4Vny39v74cC0dbBz9L8R3Lv+ZP3tVmH/Xq9829Dbufs2vhfkt5/7nML9CSxHr6Mnvi9tGXjqetJCUuJHg+x/9+jDf/6uaiC4WVSv5bmwnLRaZ5bgR6KmobrspzA+/NGkjuiZukqhm40vM6YfzbU984tEwH7a748I18b7uveJU+pzRTtygMXo8/iy2PxS3EVWH4qbIwcxsvOGVWorWs10ja8TKdncpbhCqqniM19nrPn8h3aXWIH4/xqbiz7u9sDvM+yMTYb64O25weWw0u0YvZWEmbjzadTL57E6eTtfF1tKaiMdZNRqPs/6ZpK1nSNUtN6bLTt0aH3e/cPlfh/kl7fjY+siF68N8++fyJripTz8a5r0nj4V5ayx+n6qReBv1Uvw9WC/H5/YvLlybc6xfuAAAAAA0zIQLAAAAQMNMuAAAAAA0zIQLAAAAQMNMuAAAAAA0TEvRGnvwbbeH+Qd3/WaYv/Pc/jDfccfhdBsr3Is51N6xPczP/+S5MN+T3LG6lFLecvSWMN/32/8U5ut4/32epmt//GPxglev7X7AaugcuDxddveL3xXmy0l9x71Jgczjv3wwzCfLx1feObaOKvm/V2vI/4clrUatbdvSp9TXXxXmT3zNdJjPXRu30JT5eNvT98f5nk/F1xallNI/cSJdFmnvuyTMj35NfHXxvZfdn67rg4efFebb4qK+0r3/SJj3Tw3ZQpO0+Ky7rL0jOc/VS3Gr0SBpI6rPD3u1uoKzZ8O4M520Fy2Nx+tJXvLy8gqtYQvxsrEz8cr6Z/Pxz+ZTdeOWqlJKaU3H59+6Hx8r6bkgORbbO3eG+ZGXxH/XlVLK1976uTD/hon4QmWxjvP3fjZusn323+RNcL0jT6TLIoO5uTBvVfFxnTafJY1ra8kvXAAAAAAaZsIFAAAAoGEmXAAAAAAaZsIFAAAAoGEmXAAAAAAapqVolbSvvy7M3/8tvxrmi3V8l/N3//QrwnziUHMtFg/9ZtxUcP/Nvxvmf7+Qr+uuW7PeocUh94rNqlvFY3lZJRUbUPvG68P8tt/7fGPbeNUfvSnMr31f0vTF1pO1T7SSfDBci0Vr21SY9w/sTXfp+AviBo0LN8ZtRN2kxaJ1ZCLMtx2OGyPaZy6k+5T11rR37wrzx/7H+Frru154R5gfHD+abvs9R+MWyesenA/zYRuVUlkb0GaTvI6612Ab0ZDbHozEf+b0u/FxNOjG6+lU+Wc0GMTrGjmfNKawpbSm43NvKaWUbjfOe/E5perEj29tj8/VM199bZgPXhK3dpVSypv3/1WyZCxMX3/opWF++Z8nx9bdeRNcY7Jz5iBrVlv/c6xfuAAAAAA0zIQLAAAAQMNMuAAAAAA0zIQLAAAAQMNMuAAAAAA0TEvR0zT46ueF+Y+8671h/tyR+C7Qz/jL14X5M/+4uTaiR37hhWF+71e/LXlGPB/3I7/9+nQbB8pHh90ttpjlOr4z/6AkrRuwjh77tt1h/t7dn1nhWXET12se+tYwP/hLD4W5DgtS/WR0jI2G8eCSnWF+5oa43aKUUs48N97GwavjJp8zC+NxPhq3FM3via8h6tsuTfdpcPtlYX76xrgJ5sXf+Nkw/4Hd/xDmf3Du+em2R5+IG0K6R0+GueN3E+jEYzAtHerEC0ZG86al5XbSkNSJx2x7ejrM++fPp9tYN1m72gZofVlrrbH477dqZGSFJyXvX6K9J25jm3/OgTA/9E3xen7u2R9Kt5H9Hfr7F+LvkI+//7lhfvn71uDvvWz8bUJ+4QIAAADQMBMuAAAAAA0z4QIAAADQMBMuAAAAAA0z4QIAAADQMC1F/0zVje80/cSbbkufc9ePvb2Rbb/meZ8I899/61eH+TN/Lr4zfymltPZfEuav/pa/D/N2Fc+73fSx14b5gV/URARsLqf/TdzS9sc//NbkGXFjSSml/PChl4T58vfHDTL9E4+vuG9cxAZx20ed/DusNZE0Al0WtxGdf0be8nD1dcfC/Bv33RPmRxZ3hPnf9OLWrtOXxvtatfKGk6mphTD/piseDPMf2h1f13RLvI07z8VtH6WUMnomzquZufQ5bAzZ9Xum1UuOu27cprhnajZdV68XH6znr4yPydGbrgnz9qfvD/PBQnxMsEpa8fmsShriSmuF3y4k5/dqajLMl66KWxOPvCS+Hnndiz4c5q+YfDTdpU8sxuv6qb/57jC/4fcPh3ne29Wcqh1/Fql647ah+oULAAAAQMNMuAAAAAA0zIQLAAAAQMNMuAAAAAA0zIQLAAAAQMNMuAAAAAA0TC30P/Pk6+P656aqn0sp5Q9mtof5z1/yuTh/bZz/zMuek27jm6f/Icy/aiyeX7tzcTHML//Ou9NtAGxE7RuvD/OP/vyvJ88YG3obdxy+OsyvePTzQ68LIlUV1znXE/F4XdwR12cu7uqn27hiKu5BPjByKsxbVVy5+ew9cb10a29ciXr1RLz+Ukq5cjRetr9zNsyP9afC/JPzcfXuXUcuS7e940xSFTw3nz6HjaF9yZ4wX5yKK3CXpuLja3RHXMF8/Y54jJdSSrcdH2OPXhmPzZGZuC5997mr4g3cHddFr4kq+7/8CvW7dV77vpFUnfhP4Go0qX9OHl8GK7wXSWX0YEc8Nk49Oz6/X/PCx8P81ds/FeazK3wEP/FgXP98xQfix/cejbe9JrLxt9J7vkH5hQsAAABAw0y4AAAAADTMhAsAAABAw0y4AAAAADTMhAsAAABAwy7KlqLjr39RmH/2J+M2osV6OV3XvUvxnZLf8ONvCvOxU/G6PvhLD4T5O6+MG4eyVqMvGm4e7XnJHbl/9uFPx9v+jtem6xp89t6hts3W063itozlp3Dj+ukXHX+ae8PF5oGfjhsgluu8rWVYV/5SnG+ObgbWRdr2kWjH59HSittVWskJtns+3+5njh4I8+Pz2+J8Jm7WmFsYCfOrdsctSLdvfyTdp+lW3Aj0jzMHw/zO0/FreOT47jBvPTCZbnvb4bixsX/+fPoc1lbVjcda74q4pWh+T9xStLgrPo7GR+Nr9KVB/udStxV/t/R2xPnc/nhdE1dMh/nYo/mYHczOpsuG0orPN1VyHlrx67TB79pGZK8t+dunGk+aC5NzeL1CY07Vjp+zeEl8nXLu+vg8/rr9d4V5v8Tj+HfP3pru0/G/i5varvmnx8K8l65p/dTDNmElrX//fWVPb2e+TH7hAgAAANAwEy4AAAAADTPhAgAAANAwEy4AAAAADTPhAgAAANCwi7Kl6Lbv/2yY/7e5+M7U/+43X5+u67K3fjTMJ8vHh9qnQ2++Ocx/7Nfnwvz/uDRuEGrSGz73mjC/RBMRK8jaYAYlv5N75u9ufk+Yf9tXvi5+wsfiO7mz9QxeckuY//xt729k/S/7/Pemy6Y+9flGtgFVN7kMa8X/D6vm4yadiaNxvvPepHGjlDJ7fkeYP96N805cIFRa43F+6Jak/WF/ukvlC4v7wvxPHnxO/IR740alyRPxw6eO5A0qY/c9GeYbsaXjYtW+LB4fc9uT9qLx4f6vfPZ03Ah0dycftK0qHufVRDxyFnfGrTmLO+J8YtfOdNtNtRSl56HMBisiKqWkTTRZ01I1lrQUjWUtRSs03SQG03Eb0cxlcXvWyIGZMJ9sxef3j8xdG+bv/GzcxltKKVffEa+rd/hI+px1k7TyVclnUadtgOs/YP3CBQAAAKBhJlwAAAAAGmbCBQAAAKBhJlwAAAAAGmbCBQAAAKBhF2VL0Uc+EDcCHfm9S8P8svvjJqImLeyL75b95r1/nzxjKl3Xrf/hR8J8z51x41Hm0gcPh/n63+uZjexZf/M/hfk9X/dbjW3jgR+MGwkOfqyxTbDB/W/vjsfTTd2kGSXx409+TZhvf/WZ9DnOgQwrbcoYidsqSvL4shA3THSfiMfrznNJhVApZfqR+Lqj7sb/i+uNx5eMp26IX8P0VHzNsa2d1B2VUv7i+I1h3v1U3Ea0/454Xd2TcdtHOXE63Xbv5Kl0GWuolYz9UkqdHC9JUVBpL8ULRpNhsHwkvrY41c2vuXfvTJplti2E+exk/Br6I/FxV48m54inoOrEx3B2fiqDpF0yaY8ppZR6+ELKVVW1k8a3kfizrifjc2Y9Gr939Uj+p/T8pXFL0YWr4vdv/47zYf7EUtxU9dfHrw/z7R/N2+lGPhY39a7nx1Z1488iG6+perjrv7XkFy4AAAAADTPhAgAAANAwEy4AAAAADTPhAgAAANAwEy4AAAAADbsoW4qu+rm4dWgtmifae/eG+RPfvRzmBzrxndHfNzOdbmPvO+4YfscCmjh4KkYfSFoxvm5t94Ot7Zak0WG5Hu7Mdce7bg3zS86sfjsdF5Gs1SNrZ8jaixL1XNzWU52/kD6nczTep2o6bgTqHYyvX+b3x80Qt+88FuZfWNiX7tP9n7kyzK//85Nh3r/ngThPt8BmVi0shXnnQnwNPZocd61e/P2xuDNu6+nnpTzlsqm4WebcUtwUMzeIr987C/FxVC330m1nLS51PzkCsjaiRJ20vtSDDdgGUyW/Iche82h87h1Mx9ewS9vjxy/szs/VF65Mxtk1cdvc7rHZML/rwuVh/uhdl4X5wY/kLYuDueEaa5tUjcbNeK0kz6TjewPzCxcAAACAhplwAQAAAGiYCRcAAACAhplwAQAAAGiYCRcAAACAhplwAQAAAGjYRVkLvZ4efMt1Yf6Fl74jzO9cjKvD3vnyl62wlYeG3S1ozBX/Ia7Tfc9r41q7Ukp57bYnh9rGI9/0X8L8m29+dZgPPnvvUOtn4zj03pvCvFvd2cj6L/3bpG62kbXDF1VVUsHciStL6/GkJjOpOM2qY+tzcWVtKStUSU9OhPni9njbvZ3xtk8sTIX5X993fbpP1/5xfM2T1T+zBQ3ys2//+Ikwz4p523NxxXm5NB6bg5F4jO/bfS7dp+un4/rzT5y8KsxHzsb/6x47GY/9enb4Gt9q2PrnrGY3y+vBkHu0+qqkAry0hvttQX80fu/m98ajLKt+LqWU2WvjuvKrL4+vO1pVXLf9mcMHwnzvp+PtDj5/X7pPTWlPx/XmZSSvyS5JzXjJasbT8TfkejYAv3ABAAAAaJgJFwAAAICGmXABAAAAaJgJFwAAAICGmXABAAAAaJiWolXSvuFgmP/Kd75rqPV855+/Kcyf+cDHh94nWE/vfvxF6bJX3/iHQ61reePeiJynYPCSW9Jlv/K8/zvMl+v47vXnBgth/oK/+Ldh/qzH7vkSewdPX92PWz3qXtLCkLSMDLaNDbXdVje/zGvNxi1Fg51xs8vyZNK0NBfv6113XR3ml/9Nukul9ZH1u7ZpTU7GC5JGjHppKc57cWsTT1+dNHf2Dh0O8/b87jCv9sZNXEvT8Wd9zfTpdJ+6VXwMP3kmbnGZfDLexuixmTDP2sRKKaVOWlnSxp6s9SVb/7AtMesofS/SBqbhmpb6o/F7urgrfy92XRq3Wz1j26kwP7YQn3v7j8fnpp2fj9ffZIdUe8f2MK+m4qavssL5r14c8pyZfHb5uExe+QYYr37hAgAAANAwEy4AAAAADTPhAgAAANAwEy4AAAAADTPhAgAAANAwLUWr5HXv/0CYf8tE3KDx3E+8Osyf+UZtRGwNi+/eny9869rtBxvPwq6RdNlXj80mS+JmlA/OXRnmB3/wk2He5N38IZO1KtRzc2HemhyPV5S0FPWm4mOonh5dYa/i9omlHfGlYW8ibukYPxrn04/GR9fkn30q3aPV7pLo7N+XL6zi11HPxy0xaVPGJmp22er6p7J2oavDtO7Gn9Fcr5tu486zB8J8+UjcLDN5NB4f1bm4pWiQtGF9cWFyXqmTlqJhbaYxmzTU1MtxA069EDdetWeX43wxPvdWg/y97vXj65TZfny+fvJC3FI0ejppiJuN/6ZsVCf+PqiX4/epJE1ipZRSL8XPSc+lSfPU0C1FG4BfuAAAAAA0zIQLAAAAQMNMuAAAAAA0zIQLAAAAQMNMuAAAAAA0TEvRKvnJP3ltmH/Xa98R5iN/vmM1dwfW3c47s7aAUt525vow/9Gd96/W7gCsnaxNJGl0qM9dCPNWN75sa43G+fwleUvRws74f24Lu+JGjH5c0lFGz8b51OHktfXi1pAmtffsjheM5o1oJWnQyJoy0pwNo+rE7UJ1Jx77ndl47H/+iUvTbSzPxGNq+yPxNsaOJ61Xs3FjWdrIspLN1C7UlOQ1pw1xC3HDT/tMfO6dOBafABcfz88p57txE9zHT0yFefdkfB6/5MFkDJxOTr4NqueHa0Ja8fyefRbDjvFNOL79wgUAAACgYSZcAAAAABpmwgUAAACgYSZcAAAAABpmwgUAAACgYVqKVsm1b7kjzL/xLc8L890lfjxsFf17HkiXffCm6TgvLxhyK/cO+Xg2guk7j6bL3nj468L8N674u9XaHVgzWTvDYGY2zFutuEWlU8X5yGg73fbSVNyu0UoKI6q4RKWMnR7E+3QubmOJH92senEpXtBfYetZg8ZSsq56LV4JT0tyvIweiwfz7s9tC/PFxyfTTXRn48aUqcNxu0v3yTNhPkgayzZjI8uGkjXEzSfnp1PxasZ68Xr2nYzHTCml7P78eLztTjwuu6dnwrx65EiY98+fT7fdmOy8mI3LFRqH0jaii2CM+4ULAAAAQMNMuAAAAAA0zIQLAAAAQMNMuAAAAAA0zIQLAAAAQMO0FAGwrnqPPJYuO/yVcf7y8vxV2htYQ0k7Q9bmUM/G7SpV0lI0usKmO3Nx80rviW6Yt5biVp7uybhZo34sbtZYC4MLF+IFrby1qUoabepB0qCRtRRdBI0bm0WdNP+0D8XNeDsWl8N8MBofE6WUUi3Hx2rrQtw0Vp9PjpflXrKBeFx+8UnG2lOVNuZk7UXJ46uZ+PMspZRuFf+uIW1IWoibrdbTYCk+JlIrtbddxOPVL1wAAAAAGmbCBQAAAKBhJlwAAAAAGmbCBQAAAKBhJlwAAAAAGmbCBQAAAKBhaqEBADaSQVxBOliKH96aiStoq15SNVtKaZ85H+addlJlmqyrTra9EStOs/e1lJXbTNlaBhfiKt9WMsZb7bxOvCR1zoPseFmKD+K0pvgirtJdVcn7mn0O9UJcMV4ln2cpK1TKr3Ae2nA2075uYH7hAgAAANAwEy4AAAAADTPhAgAAANAwEy4AAAAADTPhAgAAANAwLUUAAJtB1l60kDRJbMSmIFhn9WLcONNP8lJVK6xMi9CWkn2eddJepN2ML4NfuAAAAAA0zIQLAAAAQMNMuAAAAAA0zIQLAAAAQMOqehVv9lRV1alWae+aLNtWbRsAwOZxoZz9vbquX7ve+7ES1y8AwD/3VK9fVrul6Pyg9MuFcvbRVd4OAEBTXL8AAE/bqv7CBQAAAOBi5B4uAAAAAA0z4QIAAADQMBMuAAAAAA0z4QIAAADQMBMuAAAAAA0z4QIAAADQMBMuAAAAAA0z4QIAAADQMBMuAAAAAA0z4QIAAADQMBMuAAAAAA0z4QIAAADQsP8X413y3a7on2UAAAAASUVORK5CYII=\n"
                },
                "metadata": {
                  "image/png": {
                    "width": 558,
                    "height": 292
                  }
                }
              }
            ]
          }
        },
        "98087cf0789c4e26aea88bdb7a7ddbde": {
          "model_module": "@jupyter-widgets/base",
          "model_name": "LayoutModel",
          "model_module_version": "1.2.0",
          "state": {
            "_model_module": "@jupyter-widgets/base",
            "_model_module_version": "1.2.0",
            "_model_name": "LayoutModel",
            "_view_count": null,
            "_view_module": "@jupyter-widgets/base",
            "_view_module_version": "1.2.0",
            "_view_name": "LayoutView",
            "align_content": null,
            "align_items": null,
            "align_self": null,
            "border": null,
            "bottom": null,
            "display": null,
            "flex": null,
            "flex_flow": null,
            "grid_area": null,
            "grid_auto_columns": null,
            "grid_auto_flow": null,
            "grid_auto_rows": null,
            "grid_column": null,
            "grid_gap": null,
            "grid_row": null,
            "grid_template_areas": null,
            "grid_template_columns": null,
            "grid_template_rows": null,
            "height": null,
            "justify_content": null,
            "justify_items": null,
            "left": null,
            "margin": null,
            "max_height": null,
            "max_width": null,
            "min_height": null,
            "min_width": null,
            "object_fit": null,
            "object_position": null,
            "order": null,
            "overflow": null,
            "overflow_x": null,
            "overflow_y": null,
            "padding": null,
            "right": null,
            "top": null,
            "visibility": null,
            "width": null
          }
        },
        "f7ce5f1679c34bd6abd6b944ddfdd156": {
          "model_module": "@jupyter-widgets/base",
          "model_name": "LayoutModel",
          "model_module_version": "1.2.0",
          "state": {
            "_model_module": "@jupyter-widgets/base",
            "_model_module_version": "1.2.0",
            "_model_name": "LayoutModel",
            "_view_count": null,
            "_view_module": "@jupyter-widgets/base",
            "_view_module_version": "1.2.0",
            "_view_name": "LayoutView",
            "align_content": null,
            "align_items": null,
            "align_self": null,
            "border": null,
            "bottom": null,
            "display": null,
            "flex": null,
            "flex_flow": null,
            "grid_area": null,
            "grid_auto_columns": null,
            "grid_auto_flow": null,
            "grid_auto_rows": null,
            "grid_column": null,
            "grid_gap": null,
            "grid_row": null,
            "grid_template_areas": null,
            "grid_template_columns": null,
            "grid_template_rows": null,
            "height": null,
            "justify_content": null,
            "justify_items": null,
            "left": null,
            "margin": null,
            "max_height": null,
            "max_width": null,
            "min_height": null,
            "min_width": null,
            "object_fit": null,
            "object_position": null,
            "order": null,
            "overflow": null,
            "overflow_x": null,
            "overflow_y": null,
            "padding": null,
            "right": null,
            "top": null,
            "visibility": null,
            "width": null
          }
        },
        "12588c937ce9471d994419e9e6f1e523": {
          "model_module": "@jupyter-widgets/controls",
          "model_name": "SliderStyleModel",
          "model_module_version": "1.5.0",
          "state": {
            "_model_module": "@jupyter-widgets/controls",
            "_model_module_version": "1.5.0",
            "_model_name": "SliderStyleModel",
            "_view_count": null,
            "_view_module": "@jupyter-widgets/base",
            "_view_module_version": "1.2.0",
            "_view_name": "StyleView",
            "description_width": "",
            "handle_color": null
          }
        },
        "dc5dca5e70014c4aa1209f57f094cfd6": {
          "model_module": "@jupyter-widgets/base",
          "model_name": "LayoutModel",
          "model_module_version": "1.2.0",
          "state": {
            "_model_module": "@jupyter-widgets/base",
            "_model_module_version": "1.2.0",
            "_model_name": "LayoutModel",
            "_view_count": null,
            "_view_module": "@jupyter-widgets/base",
            "_view_module_version": "1.2.0",
            "_view_name": "LayoutView",
            "align_content": null,
            "align_items": null,
            "align_self": null,
            "border": null,
            "bottom": null,
            "display": null,
            "flex": null,
            "flex_flow": null,
            "grid_area": null,
            "grid_auto_columns": null,
            "grid_auto_flow": null,
            "grid_auto_rows": null,
            "grid_column": null,
            "grid_gap": null,
            "grid_row": null,
            "grid_template_areas": null,
            "grid_template_columns": null,
            "grid_template_rows": null,
            "height": null,
            "justify_content": null,
            "justify_items": null,
            "left": null,
            "margin": null,
            "max_height": null,
            "max_width": null,
            "min_height": null,
            "min_width": null,
            "object_fit": null,
            "object_position": null,
            "order": null,
            "overflow": null,
            "overflow_x": null,
            "overflow_y": null,
            "padding": null,
            "right": null,
            "top": null,
            "visibility": null,
            "width": null
          }
        }
      }
    }
  },
  "nbformat": 4,
  "nbformat_minor": 0
}