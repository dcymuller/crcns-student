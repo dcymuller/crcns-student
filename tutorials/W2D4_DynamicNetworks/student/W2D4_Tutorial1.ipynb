{
  "cells": [
    {
      "cell_type": "markdown",
      "metadata": {
        "id": "view-in-github",
        "colab_type": "text"
      },
      "source": [
        "<a href=\"https://colab.research.google.com/github/dcymuller/crcns-student/blob/master/tutorials/W2D4_DynamicNetworks/student/W2D4_Tutorial1.ipynb\" target=\"_parent\"><img src=\"https://colab.research.google.com/assets/colab-badge.svg\" alt=\"Open In Colab\"/></a>"
      ]
    },
    {
      "cell_type": "markdown",
      "metadata": {
        "execution": {},
        "id": "v_m-eBm8u-rK"
      },
      "source": [
        "# Tutorial 1: Neural Rate Models\n",
        "**Week 2, Day 4: Dynamic Networks**\n",
        "\n",
        "**By Neuromatch Academy**\n",
        "\n",
        "__Content creators:__ Qinglong Gu, Songtin Li, Arvind Kumar, John Murray, Julijana Gjorgjieva \n",
        "\n",
        "__Content reviewers:__  Maryam Vaziri-Pashkam, Ella Batty, Lorenzo Fontolan, Richard Gao, Spiros Chavlis, Michael Waskom, Siddharth Suresh\n",
        "\n",
        "__Post-production team:__ Gagana B, Spiros Chavlis"
      ]
    },
    {
      "cell_type": "markdown",
      "metadata": {
        "execution": {},
        "id": "ogEaZFBCu-rQ"
      },
      "source": [
        "<p align='center'><img src='https://github.com/NeuromatchAcademy/widgets/blob/master/sponsors.png?raw=True'/></p>"
      ]
    },
    {
      "cell_type": "markdown",
      "metadata": {
        "execution": {},
        "id": "crpxTbpUu-rR"
      },
      "source": [
        "---\n",
        "# Tutorial Objectives\n",
        "\n",
        "*Estimated timing of tutorial: 1 hour, 25 minutes*\n",
        "\n",
        "The brain is a complex system, not because it is composed of a large number of diverse types of neurons, but mainly because of how neurons are connected to each other. The brain is indeed a network of highly specialized neuronal networks. \n",
        "\n",
        "The activity of a neural network constantly evolves in time. For this reason, neurons can be modeled as dynamical systems. The dynamical system approach is only one of the many modeling approaches that computational neuroscientists have developed (other points of view include information processing,  statistical models, etc.). \n",
        "\n",
        "How the dynamics of neuronal networks affect the representation and processing of information in the brain is an open question. However, signatures of altered brain dynamics present in many brain diseases (e.g., in epilepsy or Parkinson's disease) tell us that it is crucial to study network activity dynamics if we want to understand the brain.\n",
        "\n",
        "In this tutorial, we will simulate and study one of the simplest models of biological neuronal networks. Instead of modeling and simulating individual excitatory neurons (e.g., LIF models that you implemented yesterday), we will treat them as a single homogeneous population and approximate their dynamics using a single one-dimensional equation describing the evolution of their average spiking rate in time.\n",
        "\n",
        "In this tutorial, we will learn how to build a firing rate model of a single population of excitatory neurons. \n",
        "\n",
        "<br>\n",
        "\n",
        "**Steps:**\n",
        "- Write the equation for the firing rate dynamics of a 1D excitatory population.\n",
        "- Visualize the response of the population as a function of parameters such as threshold level and gain, using the frequency-current (F-I) curve.\n",
        "- Numerically simulate the dynamics of the excitatory population and find the fixed points of the system."
      ]
    },
    {
      "cell_type": "code",
      "execution_count": null,
      "metadata": {
        "cellView": "form",
        "execution": {},
        "id": "DrbJbFRou-rS"
      },
      "outputs": [],
      "source": [
        "# @title Tutorial slides\n",
        "\n",
        "# @markdown These are the slides for the videos in all tutorials today\n",
        "from IPython.display import IFrame\n",
        "IFrame(src=f\"https://mfr.ca-1.osf.io/render?url=https://osf.io/nvuty/?direct%26mode=render%26action=download%26mode=render\", width=854, height=480)"
      ]
    },
    {
      "cell_type": "markdown",
      "metadata": {
        "execution": {},
        "id": "NqA9j8aGu-rU"
      },
      "source": [
        "---\n",
        "# Setup"
      ]
    },
    {
      "cell_type": "code",
      "execution_count": 1,
      "metadata": {
        "cellView": "both",
        "execution": {},
        "id": "6Yr4oFK5u-rV"
      },
      "outputs": [],
      "source": [
        "# Imports\n",
        "import matplotlib.pyplot as plt\n",
        "import numpy as np\n",
        "import scipy.optimize as opt  # root-finding algorithm"
      ]
    },
    {
      "cell_type": "code",
      "execution_count": 2,
      "metadata": {
        "cellView": "form",
        "execution": {},
        "id": "65hJX7rwu-rV"
      },
      "outputs": [],
      "source": [
        "# @title Figure Settings\n",
        "import ipywidgets as widgets       # interactive display\n",
        "%config InlineBackend.figure_format = 'retina'\n",
        "plt.style.use(\"https://raw.githubusercontent.com/NeuromatchAcademy/course-content/main/nma.mplstyle\")"
      ]
    },
    {
      "cell_type": "code",
      "execution_count": 3,
      "metadata": {
        "cellView": "form",
        "execution": {},
        "id": "t3ZVx4wsu-rW"
      },
      "outputs": [],
      "source": [
        "# @title Plotting Functions\n",
        "\n",
        "\n",
        "def plot_fI(x, f):\n",
        "  plt.figure(figsize=(6, 4))  # plot the figure\n",
        "  plt.plot(x, f, 'k')\n",
        "  plt.xlabel('x (a.u.)', fontsize=14)\n",
        "  plt.ylabel('F(x)', fontsize=14)\n",
        "  plt.show()\n",
        "\n",
        "\n",
        "def plot_dr_r(r, drdt, x_fps=None):\n",
        "  plt.figure()\n",
        "  plt.plot(r, drdt, 'k')\n",
        "  plt.plot(r, 0. * r, 'k--')\n",
        "  if x_fps is not None:\n",
        "    plt.plot(x_fps, np.zeros_like(x_fps), \"ko\", ms=12)\n",
        "  plt.xlabel(r'$r$')\n",
        "  plt.ylabel(r'$\\frac{dr}{dt}$', fontsize=20)\n",
        "  plt.ylim(-0.1, 0.1)\n",
        "\n",
        "\n",
        "def plot_dFdt(x, dFdt):\n",
        "  plt.figure()\n",
        "  plt.plot(x, dFdt, 'r')\n",
        "  plt.xlabel('x (a.u.)', fontsize=14)\n",
        "  plt.ylabel('dF(x)', fontsize=14)\n",
        "  plt.show()"
      ]
    },
    {
      "cell_type": "markdown",
      "metadata": {
        "execution": {},
        "id": "u_nfawZtu-rX"
      },
      "source": [
        "---\n",
        "# Section 1: Neuronal network dynamics"
      ]
    },
    {
      "cell_type": "code",
      "execution_count": 4,
      "metadata": {
        "cellView": "form",
        "execution": {},
        "id": "Q5-UMkBBu-rX",
        "outputId": "477d10db-b8f2-42c9-f3a1-f42a487e8d3b",
        "colab": {
          "base_uri": "https://localhost:8080/",
          "height": 580,
          "referenced_widgets": [
            "35c1add30e414483ae55d0131d37b8c2",
            "337fed2c7fa546bb953c1d338b442afe",
            "8e015950ebdf487f98ed2faa898d55d8",
            "71593b3d8ca144aba12349deec73bca3",
            "ba81b506d3ef45618895b0677ae836b1",
            "cd82ee57ece64da1a5036c85d93d7b37"
          ]
        }
      },
      "outputs": [
        {
          "output_type": "display_data",
          "data": {
            "text/plain": [
              "Tab(children=(Output(), Output()), _titles={'0': 'Youtube', '1': 'Bilibili'})"
            ],
            "application/vnd.jupyter.widget-view+json": {
              "version_major": 2,
              "version_minor": 0,
              "model_id": "35c1add30e414483ae55d0131d37b8c2"
            }
          },
          "metadata": {}
        }
      ],
      "source": [
        "# @title Video 1: Dynamic networks\n",
        "from ipywidgets import widgets\n",
        "\n",
        "out2 = widgets.Output()\n",
        "with out2:\n",
        "  from IPython.display import IFrame\n",
        "  class BiliVideo(IFrame):\n",
        "      def __init__(self, id, page=1, width=400, height=300, **kwargs):\n",
        "          self.id=id\n",
        "          src = 'https://player.bilibili.com/player.html?bvid={0}&page={1}'.format(id, page)\n",
        "          super(BiliVideo, self).__init__(src, width, height, **kwargs)\n",
        "\n",
        "  video = BiliVideo(id=\"BV1dh411o7qJ\", width=854, height=480, fs=1)\n",
        "  print('Video available at https://www.bilibili.com/video/{0}'.format(video.id))\n",
        "  display(video)\n",
        "\n",
        "out1 = widgets.Output()\n",
        "with out1:\n",
        "  from IPython.display import YouTubeVideo\n",
        "  video = YouTubeVideo(id=\"p848349hPyw\", width=854, height=480, fs=1, rel=0)\n",
        "  print('Video available at https://youtube.com/watch?v=' + video.id)\n",
        "  display(video)\n",
        "\n",
        "out = widgets.Tab([out1, out2])\n",
        "out.set_title(0, 'Youtube')\n",
        "out.set_title(1, 'Bilibili')\n",
        "\n",
        "display(out)"
      ]
    },
    {
      "cell_type": "markdown",
      "metadata": {
        "execution": {},
        "id": "r2dG4Rzeu-rY"
      },
      "source": [
        "This video covers how to model a network with a single population of neurons and introduces neural rate-based models. It overviews feedforward networks and defines the F-I (firing rate vs. input) curve."
      ]
    },
    {
      "cell_type": "markdown",
      "metadata": {
        "execution": {},
        "id": "ASyGYDuyu-rY"
      },
      "source": [
        "## Section 1.1: Dynamics of a single excitatory population\n",
        "\n",
        "\n",
        "<details>\n",
        "<summary> <font color='blue'>Click here for text recap of relevant part of video </font></summary>\n",
        "\n",
        "Individual neurons respond by spiking. When we average the spikes of neurons in a population, we can define the average firing activity of the population. In this model, we are interested in how the population-averaged firing varies as a function of time and network parameters. Mathematically, we can describe the firing rate dynamic of a feed-forward network as:\n",
        "\n",
        "\\begin{equation}\n",
        "\\tau \\frac{dr}{dt} = -r + F(I_{\\text{ext}})  \\quad\\qquad (1)\n",
        "\\end{equation}\n",
        "\n",
        "$r(t)$ represents the average firing rate of the excitatory population at time $t$, $\\tau$ controls the timescale of the evolution of the average firing rate, $I_{\\text{ext}}$ represents the external input, and the transfer function $F(\\cdot)$ (which can be related to f-I curve of individual neurons described in the next sections) represents the population activation function in response to all received inputs.\n",
        "\n",
        "</details>\n",
        "\n",
        "To start building the model, please execute the cell below to initialize the simulation parameters."
      ]
    },
    {
      "cell_type": "code",
      "execution_count": 5,
      "metadata": {
        "cellView": "form",
        "execution": {},
        "id": "bh8Pf_78u-rZ",
        "outputId": "f4dfb645-fc4e-43d4-8e70-c677f8d27cbb",
        "colab": {
          "base_uri": "https://localhost:8080/"
        }
      },
      "outputs": [
        {
          "output_type": "stream",
          "name": "stdout",
          "text": [
            "{'tau': 1.0, 'a': 1.2, 'theta': 2.8, 'w': 0.0, 'I_ext': 0.0, 'T': 20.0, 'dt': 0.1, 'r_init': 0.2, 'range_t': array([ 0. ,  0.1,  0.2,  0.3,  0.4,  0.5,  0.6,  0.7,  0.8,  0.9,  1. ,\n",
            "        1.1,  1.2,  1.3,  1.4,  1.5,  1.6,  1.7,  1.8,  1.9,  2. ,  2.1,\n",
            "        2.2,  2.3,  2.4,  2.5,  2.6,  2.7,  2.8,  2.9,  3. ,  3.1,  3.2,\n",
            "        3.3,  3.4,  3.5,  3.6,  3.7,  3.8,  3.9,  4. ,  4.1,  4.2,  4.3,\n",
            "        4.4,  4.5,  4.6,  4.7,  4.8,  4.9,  5. ,  5.1,  5.2,  5.3,  5.4,\n",
            "        5.5,  5.6,  5.7,  5.8,  5.9,  6. ,  6.1,  6.2,  6.3,  6.4,  6.5,\n",
            "        6.6,  6.7,  6.8,  6.9,  7. ,  7.1,  7.2,  7.3,  7.4,  7.5,  7.6,\n",
            "        7.7,  7.8,  7.9,  8. ,  8.1,  8.2,  8.3,  8.4,  8.5,  8.6,  8.7,\n",
            "        8.8,  8.9,  9. ,  9.1,  9.2,  9.3,  9.4,  9.5,  9.6,  9.7,  9.8,\n",
            "        9.9, 10. , 10.1, 10.2, 10.3, 10.4, 10.5, 10.6, 10.7, 10.8, 10.9,\n",
            "       11. , 11.1, 11.2, 11.3, 11.4, 11.5, 11.6, 11.7, 11.8, 11.9, 12. ,\n",
            "       12.1, 12.2, 12.3, 12.4, 12.5, 12.6, 12.7, 12.8, 12.9, 13. , 13.1,\n",
            "       13.2, 13.3, 13.4, 13.5, 13.6, 13.7, 13.8, 13.9, 14. , 14.1, 14.2,\n",
            "       14.3, 14.4, 14.5, 14.6, 14.7, 14.8, 14.9, 15. , 15.1, 15.2, 15.3,\n",
            "       15.4, 15.5, 15.6, 15.7, 15.8, 15.9, 16. , 16.1, 16.2, 16.3, 16.4,\n",
            "       16.5, 16.6, 16.7, 16.8, 16.9, 17. , 17.1, 17.2, 17.3, 17.4, 17.5,\n",
            "       17.6, 17.7, 17.8, 17.9, 18. , 18.1, 18.2, 18.3, 18.4, 18.5, 18.6,\n",
            "       18.7, 18.8, 18.9, 19. , 19.1, 19.2, 19.3, 19.4, 19.5, 19.6, 19.7,\n",
            "       19.8, 19.9])}\n"
          ]
        }
      ],
      "source": [
        "# @markdown *Execute this cell to set default parameters for a single excitatory population model*\n",
        "\n",
        "\n",
        "def default_pars_single(**kwargs):\n",
        "  pars = {}\n",
        "\n",
        "  # Excitatory parameters\n",
        "  pars['tau'] = 1.     # Timescale of the E population [ms]\n",
        "  pars['a'] = 1.2      # Gain of the E population\n",
        "  pars['theta'] = 2.8  # Threshold of the E population\n",
        "\n",
        "  # Connection strength\n",
        "  pars['w'] = 0.  # E to E, we first set it to 0\n",
        "\n",
        "  # External input\n",
        "  pars['I_ext'] = 0.\n",
        "\n",
        "  # simulation parameters\n",
        "  pars['T'] = 20.       # Total duration of simulation [ms]\n",
        "  pars['dt'] = .1       # Simulation time step [ms]\n",
        "  pars['r_init'] = 0.2  # Initial value of E\n",
        "\n",
        "  # External parameters if any\n",
        "  pars.update(kwargs)\n",
        "\n",
        "  # Vector of discretized time points [ms]\n",
        "  pars['range_t'] = np.arange(0, pars['T'], pars['dt'])\n",
        "\n",
        "  return pars\n",
        "\n",
        "pars = default_pars_single()\n",
        "print(pars)"
      ]
    },
    {
      "cell_type": "markdown",
      "metadata": {
        "execution": {},
        "id": "VIQKXvyUu-rZ"
      },
      "source": [
        "You can now use:\n",
        "- `pars = default_pars_single()` to get all the parameters. \n",
        "- `pars = default_pars_single(T=T_sim, dt=time_step)` to set new simulation time and time step\n",
        "- To update an existing parameter dictionary, use `pars['New_para'] = value`\n",
        "\n",
        "Because `pars` is a dictionary, it can be passed to a function that requires individual parameters as arguments using `my_func(**pars)` syntax."
      ]
    },
    {
      "cell_type": "markdown",
      "metadata": {
        "execution": {},
        "id": "W1PEhNmWu-ra"
      },
      "source": [
        "## Section 1.2: F-I curves\n",
        "\n",
        "*Estimated timing to here from start of tutorial: 17 min*\n",
        "\n",
        "<details>\n",
        "<summary> <font color='blue'>Click here for text recap of relevant part of video </font></summary>\n",
        "\n",
        "In electrophysiology, a neuron is often characterized by its spike rate output in response to input currents. This is often called the **F-I** curve, denoting the output spike frequency (**F**) in response to different injected currents (**I**). We estimated this for an LIF neuron in yesterday's tutorial.\n",
        "\n",
        "The transfer function $F(\\cdot)$ in Equation $1$ represents the gain of the population as a function of the total input. The gain is often modeled as a sigmoidal function, i.e., more input drive leads to a nonlinear increase in the population firing rate. The output firing rate will eventually saturate for high input values. \n",
        "\n",
        "A sigmoidal $F(\\cdot)$ is parameterized by its gain $a$ and threshold $\\theta$.\n",
        "\n",
        "$$ F(x;a,\\theta) = \\frac{1}{1+\\text{e}^{-a(x-\\theta)}} - \\frac{1}{1+\\text{e}^{a\\theta}}  \\quad(2)$$\n",
        "\n",
        "The argument $x$ represents the input to the population. Note that the second term is chosen so that $F(0;a,\\theta)=0$.\n",
        "\n",
        "Many other transfer functions (generally monotonic) can be also used. Examples are the rectified linear function $ReLU(x)$ or the hyperbolic tangent $tanh(x)$."
      ]
    },
    {
      "cell_type": "markdown",
      "metadata": {
        "execution": {},
        "id": "CNwtlA_Nu-rb"
      },
      "source": [
        "### Coding Exercise 1.2: Implement F-I curve \n",
        "\n",
        "Let's first investigate the activation functions before simulating the dynamics of the entire population. \n",
        "\n",
        "In this exercise, you will implement a sigmoidal **F-I** curve or transfer function $F(x)$, with gain $a$ and threshold level $\\theta$ as parameters:\n",
        "\n",
        "\\begin{equation}\n",
        "F(x;a,\\theta) = \\frac{1}{1+\\text{e}^{-a(x-\\theta)}} - \\frac{1}{1+\\text{e}^{a\\theta}}\n",
        "\\end{equation}"
      ]
    },
    {
      "cell_type": "code",
      "execution_count": 15,
      "metadata": {
        "execution": {},
        "id": "Rdwvd2fDu-rc",
        "outputId": "2f1ce4ee-bc55-4485-bcf4-5bcd81815d2a",
        "colab": {
          "base_uri": "https://localhost:8080/",
          "height": 287
        }
      },
      "outputs": [
        {
          "output_type": "display_data",
          "data": {
            "text/plain": [
              "<Figure size 432x288 with 1 Axes>"
            ],
            "image/png": "[encoded data removed]"
          },
          "metadata": {
            "image/png": {
              "width": 413,
              "height": 270
            },
            "needs_background": "light"
          }
        }
      ],
      "source": [
        "def F(x, a, theta):\n",
        "  \"\"\"\n",
        "  Population activation function.\n",
        "\n",
        "  Args:\n",
        "    x (float): the population input\n",
        "    a (float): the gain of the function\n",
        "    theta (float): the threshold of the function\n",
        "\n",
        "  Returns:\n",
        "    float: the population activation response F(x) for input x\n",
        "  \"\"\"\n",
        "  #################################################\n",
        "  ## TODO for students: compute f = F(x) ##\n",
        "  # Fill out function and remove\n",
        "  #raise NotImplementedError(\"Student exercise: implement the f-I function\")\n",
        "  #################################################\n",
        "\n",
        "  # Define the sigmoidal transfer function f = F(x)\n",
        "  f = 1/(1 + np.exp(-a*(x-theta))) - 1/(1 + np.exp(a*theta))\n",
        "\n",
        "  return f\n",
        "\n",
        "\n",
        "# Set parameters\n",
        "pars = default_pars_single()  # get default parameters\n",
        "x = np.arange(0, 10, .1)      # set the range of input\n",
        "\n",
        "# Compute transfer function\n",
        "f = F(x, pars['a'], pars['theta'])\n",
        "\n",
        "# Visualize\n",
        "plot_fI(x, f)"
      ]
    },
    {
      "cell_type": "markdown",
      "metadata": {
        "cellView": "both",
        "execution": {},
        "id": "9PDM2ZpDu-rc"
      },
      "source": [
        "[*Click for solution*](https://github.com/NeuromatchAcademy/course-content/tree/main//tutorials/W2D4_DynamicNetworks/solutions/W2D4_Tutorial1_Solution_04e84428.py)\n",
        "\n",
        "*Example output:*\n",
        "\n",
        "<img alt='Solution hint' align='left' width=849.0 height=561.0 src=https://raw.githubusercontent.com/NeuromatchAcademy/course-content/main/tutorials/W2D4_DynamicNetworks/static/W2D4_Tutorial1_Solution_04e84428_0.png>\n",
        "\n"
      ]
    },
    {
      "cell_type": "markdown",
      "metadata": {
        "execution": {},
        "id": "oJqGGDfGu-rd"
      },
      "source": [
        "### Interactive Demo 1.2 : Parameter exploration of F-I curve\n",
        "\n",
        "Here's an interactive demo that shows how the F-I curve changes for different values of the gain and threshold parameters. \n",
        "\n",
        "1. How does the gain parameter ($a$) affect the F-I curve?\n",
        "2. How does the threshold parameter ($\\theta$) affect the F-I curve?"
      ]
    },
    {
      "cell_type": "code",
      "execution_count": 29,
      "metadata": {
        "cellView": "form",
        "execution": {},
        "id": "RHsUMv-Fu-rd",
        "outputId": "c567459c-1e5b-4b96-fa6d-10a636d280f0",
        "colab": {
          "base_uri": "https://localhost:8080/",
          "height": 494,
          "referenced_widgets": [
            "2fd54cf69c1b41d081b3e08c26d05ec1",
            "55d278f34fb948af96e00965584de509",
            "c023731f8eb845e48d598f0c701fc82d",
            "aeb807fa3edf4ee3abcb80cef181e561",
            "c813d8945f4541c28ee3078adadebda5",
            "49a84e97b3bb466ea207cdeb8d0e5032",
            "a5403e91569549ab98147f1fd2ee6c3a",
            "95476c6957d748dc87495c95754b1465",
            "0bfd30835ae344f6bbd31324ac789820",
            "43c458d80ee246e9b9fd4fa9953b2fb3"
          ]
        }
      },
      "outputs": [
        {
          "output_type": "display_data",
          "data": {
            "text/plain": [
              "interactive(children=(FloatSlider(value=1.5, description='a', max=3.0, min=0.3, step=0.3), FloatSlider(value=3…"
            ],
            "application/vnd.jupyter.widget-view+json": {
              "version_major": 2,
              "version_minor": 0,
              "model_id": "2fd54cf69c1b41d081b3e08c26d05ec1"
            }
          },
          "metadata": {}
        }
      ],
      "source": [
        "# @title\n",
        "\n",
        "# @markdown Make sure you execute this cell to enable the widget!\n",
        "\n",
        "\n",
        "def interactive_plot_FI(a, theta):\n",
        "  \"\"\"\n",
        "  Population activation function.\n",
        "\n",
        "  Expecxts:\n",
        "    a     : the gain of the function\n",
        "    theta : the threshold of the function\n",
        "\n",
        "  Returns:\n",
        "    plot the F-I curve with give parameters\n",
        "  \"\"\"\n",
        "\n",
        "  # set the range of input\n",
        "  x = np.arange(0, 10, .1)\n",
        "  plt.figure()\n",
        "  plt.plot(x, F(x, a, theta), 'k')\n",
        "  plt.xlabel('x (a.u.)', fontsize=14)\n",
        "  plt.ylabel('F(x)', fontsize=14)\n",
        "  plt.show()\n",
        "\n",
        "\n",
        "_ = widgets.interact(interactive_plot_FI, a=(0.3, 3, 0.3), theta=(2, 4, 0.2))"
      ]
    },
    {
      "cell_type": "markdown",
      "metadata": {
        "execution": {},
        "id": "93M65V4Yu-re"
      },
      "source": [
        "[*Click for solution*](https://github.com/NeuromatchAcademy/course-content/tree/main//tutorials/W2D4_DynamicNetworks/solutions/W2D4_Tutorial1_Solution_89e4146a.py)\n",
        "\n"
      ]
    },
    {
      "cell_type": "markdown",
      "metadata": {
        "execution": {},
        "id": "Pwg2usOtu-re"
      },
      "source": [
        "## Section 1.3: Simulation scheme of E dynamics\n",
        "\n",
        "*Estimated timing to here from start of tutorial: 27 min*\n",
        "\n",
        "Because $F(\\cdot)$ is a nonlinear function, the exact solution of our differential equation of population activity can not be determined via analytical methods. As we have seen before, we can use numerical methods, specifically the Euler method, to find the solution (that is, simulate the population activity)."
      ]
    },
    {
      "cell_type": "code",
      "execution_count": 8,
      "metadata": {
        "cellView": "form",
        "execution": {},
        "id": "03nC95cuu-rf",
        "outputId": "48050886-f382-4157-a52a-07b88a67a2cf",
        "colab": {
          "base_uri": "https://localhost:8080/"
        }
      },
      "outputs": [
        {
          "output_type": "stream",
          "name": "stdout",
          "text": [
            "Help on function simulate_single in module __main__:\n",
            "\n",
            "simulate_single(pars)\n",
            "    Simulate an excitatory population of neurons\n",
            "    \n",
            "    Args:\n",
            "      pars   : Parameter dictionary\n",
            "    \n",
            "    Returns:\n",
            "      rE     : Activity of excitatory population (array)\n",
            "    \n",
            "    Example:\n",
            "      pars = default_pars_single()\n",
            "      r = simulate_single(pars)\n",
            "\n"
          ]
        }
      ],
      "source": [
        "# @markdown *Execute this cell to enable the single population rate model simulator: `simulate_single`*\n",
        "\n",
        "\n",
        "def simulate_single(pars):\n",
        "  \"\"\"\n",
        "  Simulate an excitatory population of neurons\n",
        "\n",
        "  Args:\n",
        "    pars   : Parameter dictionary\n",
        "\n",
        "  Returns:\n",
        "    rE     : Activity of excitatory population (array)\n",
        "\n",
        "  Example:\n",
        "    pars = default_pars_single()\n",
        "    r = simulate_single(pars)\n",
        "  \"\"\"\n",
        "\n",
        "  # Set parameters\n",
        "  tau, a, theta = pars['tau'], pars['a'], pars['theta']\n",
        "  w = pars['w']\n",
        "  I_ext = pars['I_ext']\n",
        "  r_init = pars['r_init']\n",
        "  dt, range_t = pars['dt'], pars['range_t']\n",
        "  Lt = range_t.size\n",
        "\n",
        "  # Initialize activity\n",
        "  r = np.zeros(Lt)\n",
        "  r[0] = r_init\n",
        "  I_ext = I_ext * np.ones(Lt)\n",
        "\n",
        "  # Update the E activity\n",
        "  for k in range(Lt - 1):\n",
        "      dr = dt / tau * (-r[k] + F(w * r[k] + I_ext[k], a, theta))\n",
        "      r[k+1] = r[k] + dr\n",
        "\n",
        "  return r\n",
        "\n",
        "help(simulate_single)"
      ]
    },
    {
      "cell_type": "markdown",
      "metadata": {
        "execution": {},
        "id": "refpAA2iu-rf"
      },
      "source": [
        "### Interactive Demo 1.3: Parameter Exploration of single population dynamics\n",
        "\n",
        "Explore these dynamics of the population activity in this interactive demo.\n",
        "\n",
        "1.  How does $r_{\\text{sim}}(t)$ change with different $I_{\\text{ext}}$ values? \n",
        "2.  How does it change with different $\\tau$ values? \n",
        "\n",
        "<br>\n",
        "\n",
        "Note that, $r_{\\rm ana}(t)$ denotes the analytical solution - you will learn how this is computed in the next section."
      ]
    },
    {
      "cell_type": "code",
      "execution_count": 12,
      "metadata": {
        "cellView": "form",
        "execution": {},
        "id": "gTd-3tdDu-rg",
        "outputId": "db29af8c-8e3f-4f34-93dc-4b7593377731",
        "colab": {
          "base_uri": "https://localhost:8080/",
          "height": 494,
          "referenced_widgets": [
            "54cd764a92074ac4a1fde1aea2de18ec",
            "8f8989329a8941b19b97b35eee3499d2",
            "c9b24f5408d24f1dabade2eab26abd26",
            "814ccbd08ced4b4abc66596b093aaa67",
            "82afe5855fb14f20bf0e262477824226",
            "9ffeff5994da4ebdb189401f7c00e6fc",
            "01f217023b3449e79fe7003283c1d95a",
            "015730d5c40b4f3a95fd899578d014fe",
            "22278068ef12405085f62f9efac4ebb5",
            "2e2b5311688e445093d5da157615fa77"
          ]
        }
      },
      "outputs": [
        {
          "output_type": "display_data",
          "data": {
            "text/plain": [
              "interactive(children=(FloatSlider(value=5.0, description='I_ext', max=10.0, step=1.0), FloatSlider(value=3.0, …"
            ],
            "application/vnd.jupyter.widget-view+json": {
              "version_major": 2,
              "version_minor": 0,
              "model_id": "54cd764a92074ac4a1fde1aea2de18ec"
            }
          },
          "metadata": {}
        }
      ],
      "source": [
        "# @title\n",
        "\n",
        "# @markdown Make sure you execute this cell to enable the widget!\n",
        "\n",
        "# get default parameters\n",
        "pars = default_pars_single(T=20.)\n",
        "\n",
        "\n",
        "def Myplot_E_diffI_difftau(I_ext, tau):\n",
        "  # set external input and time constant\n",
        "  pars['I_ext'] = I_ext\n",
        "  pars['tau'] = tau\n",
        "\n",
        "  # simulation\n",
        "  r = simulate_single(pars)\n",
        "\n",
        "  # Analytical Solution\n",
        "  r_ana = (pars['r_init']\n",
        "           + (F(I_ext, pars['a'], pars['theta'])\n",
        "           - pars['r_init']) * (1. - np.exp(-pars['range_t'] / pars['tau'])))\n",
        "\n",
        "  # plot\n",
        "  plt.figure()\n",
        "  plt.plot(pars['range_t'], r, 'b', label=r'$r_{\\mathrm{sim}}$(t)', alpha=0.5,\n",
        "           zorder=1)\n",
        "  plt.plot(pars['range_t'], r_ana, 'b--', lw=5, dashes=(2, 2),\n",
        "           label=r'$r_{\\mathrm{ana}}$(t)', zorder=2)\n",
        "  plt.plot(pars['range_t'],\n",
        "           F(I_ext, pars['a'], pars['theta']) * np.ones(pars['range_t'].size),\n",
        "           'k--', label=r'$F(I_{\\mathrm{ext}})$')\n",
        "  plt.xlabel('t (ms)', fontsize=16.)\n",
        "  plt.ylabel('Activity r(t)', fontsize=16.)\n",
        "  plt.legend(loc='best', fontsize=14.)\n",
        "  plt.show()\n",
        "\n",
        "\n",
        "_ = widgets.interact(Myplot_E_diffI_difftau, I_ext=(0.0, 10., 1.),\n",
        "                     tau=(1., 5., 0.2))"
      ]
    },
    {
      "cell_type": "markdown",
      "metadata": {
        "execution": {},
        "id": "AzV7l6NZu-rg"
      },
      "source": [
        "[*Click for solution*](https://github.com/NeuromatchAcademy/course-content/tree/main//tutorials/W2D4_DynamicNetworks/solutions/W2D4_Tutorial1_Solution_44a82c10.py)\n",
        "\n"
      ]
    },
    {
      "cell_type": "markdown",
      "metadata": {
        "execution": {},
        "id": "rtUUymh-u-rh"
      },
      "source": [
        "## Think! 1.3: Finite activities\n",
        "\n",
        "Above, we have numerically solved a system driven by a positive input. Yet, $r_E(t)$ either decays to zero or reaches a fixed non-zero value.\n",
        "\n",
        "1. Why doesn't the solution of the system \"explode\" in a finite time? In other words, what guarantees that $r_E$(t) stays finite? \n",
        "2. Which parameter would you change in order to increase the maximum value of the response? "
      ]
    },
    {
      "cell_type": "markdown",
      "metadata": {
        "execution": {},
        "id": "POPkDboou-rh"
      },
      "source": [
        "[*Click for solution*](https://github.com/NeuromatchAcademy/course-content/tree/main//tutorials/W2D4_DynamicNetworks/solutions/W2D4_Tutorial1_Solution_86ae968b.py)\n",
        "\n"
      ]
    },
    {
      "cell_type": "markdown",
      "metadata": {
        "execution": {},
        "id": "qxoSuGrvu-ri"
      },
      "source": [
        "---\n",
        "# Section 2: Fixed points of the single population system\n",
        "\n",
        "*Estimated timing to here from start of tutorial: 45 min*\n"
      ]
    },
    {
      "cell_type": "markdown",
      "metadata": {
        "execution": {},
        "id": "kuVBLLpEu-ri"
      },
      "source": [
        "## Section 2.1: Finding fixed points"
      ]
    },
    {
      "cell_type": "code",
      "execution_count": 13,
      "metadata": {
        "cellView": "form",
        "execution": {},
        "id": "1yS-Ba-Ou-ri",
        "outputId": "dffdce6f-fb24-4333-8757-34573a3c5cc8",
        "colab": {
          "base_uri": "https://localhost:8080/",
          "height": 580,
          "referenced_widgets": [
            "f5f20d6188184c04a733029ab9a12713",
            "5a562d71cbea4d16a906fe67c71c2c6d",
            "65fa84aa6ba2426193b8577a8a13e45a",
            "d9260fb3bde44d059af7b5933c461642",
            "ab873942925849e2998d0c9eb5b02c29",
            "9dc801b40b5b4b40850b7acc0699f287"
          ]
        }
      },
      "outputs": [
        {
          "output_type": "display_data",
          "data": {
            "text/plain": [
              "Tab(children=(Output(), Output()), _titles={'0': 'Youtube', '1': 'Bilibili'})"
            ],
            "application/vnd.jupyter.widget-view+json": {
              "version_major": 2,
              "version_minor": 0,
              "model_id": "f5f20d6188184c04a733029ab9a12713"
            }
          },
          "metadata": {}
        }
      ],
      "source": [
        "# @title Video 2: Fixed point\n",
        "from ipywidgets import widgets\n",
        "\n",
        "out2 = widgets.Output()\n",
        "with out2:\n",
        "  from IPython.display import IFrame\n",
        "  class BiliVideo(IFrame):\n",
        "      def __init__(self, id, page=1, width=400, height=300, **kwargs):\n",
        "          self.id=id\n",
        "          src = 'https://player.bilibili.com/player.html?bvid={0}&page={1}'.format(id, page)\n",
        "          super(BiliVideo, self).__init__(src, width, height, **kwargs)\n",
        "\n",
        "  video = BiliVideo(id=\"BV1v54y1v7Gr\", width=854, height=480, fs=1)\n",
        "  print('Video available at https://www.bilibili.com/video/{0}'.format(video.id))\n",
        "  display(video)\n",
        "\n",
        "out1 = widgets.Output()\n",
        "with out1:\n",
        "  from IPython.display import YouTubeVideo\n",
        "  video = YouTubeVideo(id=\"Ox3ELd1UFyo\", width=854, height=480, fs=1, rel=0)\n",
        "  print('Video available at https://youtube.com/watch?v=' + video.id)\n",
        "  display(video)\n",
        "\n",
        "out = widgets.Tab([out1, out2])\n",
        "out.set_title(0, 'Youtube')\n",
        "out.set_title(1, 'Bilibili')\n",
        "\n",
        "display(out)"
      ]
    },
    {
      "cell_type": "markdown",
      "metadata": {
        "execution": {},
        "id": "kDzExqxcu-rj"
      },
      "source": [
        "This video introduces recurrent networks and how to derive their fixed points. It also introduces vector fields and phase planes in one dimension.\n",
        "\n",
        "<details>\n",
        "<summary> <font color='blue'>Click here for text recap of video </font></summary>\n",
        "\n",
        "We can now extend our feed-forward network to a recurrent network, governed by the equation:\n",
        "\n",
        "\\begin{align}\n",
        "\\tau \\frac{dr}{dt} &= -r + F(w\\cdot r + I_{\\text{ext}})  \\quad\\qquad (3)\n",
        "\\end{align}\n",
        "\n",
        "where as before, $r(t)$ represents the average firing rate of the excitatory population at time $t$, $\\tau$ controls the timescale of the evolution of the average firing rate, $I_{\\text{ext}}$ represents the external input, and the transfer function $F(\\cdot)$ (which can be related to f-I curve of individual neurons described in the next sections) represents the population activation function in response to all received inputs. Now we also have $w$ which denotes the strength (synaptic weight) of the recurrent input to the population.\n",
        "\n",
        "As you varied the two parameters in the last Interactive Demo, you noticed that, while at first the system output quickly changes, with time, it reaches its maximum/minimum value and does not change anymore. The value eventually reached by the system is called the **steady state** of the system, or the **fixed point**. Essentially, in the steady states the derivative with respect to time of the activity ($r$) is zero, i.e. $\\displaystyle \\frac{dr}{dt}=0$. \n",
        "\n",
        "We can find that the steady state of the Equation. (1) by setting $\\displaystyle{\\frac{dr}{dt}=0}$ and solve for $r$:\n",
        "\n",
        "\\begin{equation}\n",
        "-r_{\\text{steady}} + F(w\\cdot r_{\\text{steady}} + I_{\\text{ext}};a,\\theta) = 0 \\qquad (4)\n",
        "\\end{equation}\n",
        "\n",
        "When it exists, the solution of Equation. (4) defines a **fixed point** of the dynamical system in Equation (3). Note that if $F(x)$ is nonlinear, it is not always possible to find an analytical solution, but the solution can be found via numerical simulations, as we will do later.\n",
        "\n",
        "From the Interactive Demo, one could also notice that the value of $\\tau$ influences how quickly the activity will converge to the steady state from its initial value. \n",
        "\n",
        "In the specific case of $w=0$, we can also analytically compute  the solution of Equation (1) (i.e., the thick blue dashed line) and deduce the role of $\\tau$ in determining the convergence to the fixed point: \n",
        "\n",
        "\\begin{equation}\n",
        "\\displaystyle{r(t) = \\big{[}F(I_{\\text{ext}};a,\\theta) -r(t=0)\\big{]} (1-\\text{e}^{-\\frac{t}{\\tau}})} + r(t=0)\n",
        "\\end{equation}\n",
        "\n",
        "<br>\n",
        "\n",
        "We can now numerically calculate the fixed point with a root finding algorithm."
      ]
    },
    {
      "cell_type": "markdown",
      "metadata": {
        "execution": {},
        "id": "Hh1DU9tfu-rk"
      },
      "source": [
        "### Coding Exercise 2.1.1: Visualization of the fixed points\n",
        "\n",
        "When it is not possible to find the solution for Equation (3) analytically, a graphical approach can be taken. To that end, it is useful to plot $\\displaystyle{\\frac{dr}{dt}}$ as a function of $r$. The values of $r$ for which the plotted function crosses zero on the y axis correspond to fixed points. \n",
        "\n",
        "Here, let us, for example, set $w=5.0$ and $I^{\\text{ext}}=0.5$. From Equation (3), you can obtain\n",
        "\n",
        "\\begin{equation}\n",
        "\\frac{dr}{dt} = [-r + F(w\\cdot r + I^{\\text{ext}})]\\,/\\,\\tau\n",
        "\\end{equation}\n",
        "\n",
        "Then, plot the $dr/dt$ as a function of $r$, and check for the presence of fixed points."
      ]
    },
    {
      "cell_type": "code",
      "execution_count": 16,
      "metadata": {
        "execution": {},
        "id": "TPhFenrQu-rm",
        "outputId": "0ae4fbdd-68ca-4287-94fc-609bf0b83957",
        "colab": {
          "base_uri": "https://localhost:8080/",
          "height": 430
        }
      },
      "outputs": [
        {
          "output_type": "display_data",
          "data": {
            "text/plain": [
              "<Figure size 576x432 with 1 Axes>"
            ],
            "image/png": "[encoded data removed]"
          },
          "metadata": {
            "image/png": {
              "width": 558,
              "height": 413
            },
            "needs_background": "light"
          }
        }
      ],
      "source": [
        "def compute_drdt(r, I_ext, w, a, theta, tau, **other_pars):\n",
        "  \"\"\"Given parameters, compute dr/dt as a function of r.\n",
        "\n",
        "  Args:\n",
        "    r (1D array) : Average firing rate of the excitatory population\n",
        "    I_ext, w, a, theta, tau (numbers): Simulation parameters to use\n",
        "    other_pars : Other simulation parameters are unused by this function\n",
        "\n",
        "  Returns\n",
        "    drdt function for each value of r\n",
        "  \"\"\"\n",
        "  #########################################################################\n",
        "  # TODO compute drdt and disable the error\n",
        "  #raise NotImplementedError(\"Finish the compute_drdt function\")\n",
        "  #########################################################################\n",
        "\n",
        "  # Calculate drdt\n",
        "  drdt = (-r + F(w*r + I_ext, a, theta)) / tau\n",
        "\n",
        "  return drdt\n",
        "\n",
        "\n",
        "# Define a vector of r values and the simulation parameters\n",
        "r = np.linspace(0, 1, 1000)\n",
        "pars = default_pars_single(I_ext=0.5, w=5)\n",
        "\n",
        "# Compute dr/dt\n",
        "drdt = compute_drdt(r, **pars)\n",
        "\n",
        "# Visualize\n",
        "plot_dr_r(r, drdt)"
      ]
    },
    {
      "cell_type": "markdown",
      "metadata": {
        "execution": {},
        "id": "LTmjiAyNu-rn"
      },
      "source": [
        "[*Click for solution*](https://github.com/NeuromatchAcademy/course-content/tree/main//tutorials/W2D4_DynamicNetworks/solutions/W2D4_Tutorial1_Solution_c4108be6.py)\n",
        "\n",
        "*Example output:*\n",
        "\n",
        "<img alt='Solution hint' align='left' width=775.0 height=575.0 src=https://raw.githubusercontent.com/NeuromatchAcademy/course-content/main/tutorials/W2D4_DynamicNetworks/static/W2D4_Tutorial1_Solution_c4108be6_0.png>\n",
        "\n"
      ]
    },
    {
      "cell_type": "markdown",
      "metadata": {
        "execution": {},
        "id": "9wLKYZHEu-ro"
      },
      "source": [
        "### Coding Exercise 2.1.2: Numerical calculation of fixed points\n",
        "\n",
        "We will now find the fixed points numerically. To do so, we need to specify initial values ($r_{\\text{guess}}$) for the root-finding algorithm to start from. From the line $\\displaystyle{\\frac{dr}{dt}}$ plotted above in the last exercise, initial values can be chosen as a set of values close to where the line crosses zero on the y axis (real fixed point).\n",
        "\n",
        "The next cell defines three helper functions that we will use:\n",
        "\n",
        "- `my_fp_single(r_guess, **pars)` uses a root-finding algorithm to locate a fixed point near a given initial value\n",
        "- `check_fp_single(x_fp, **pars)` verifies that the values of $r_{\\rm fp}$ for which $\\displaystyle{\\frac{dr}{dt}} = 0$ are the true fixed points\n",
        "- `my_fp_finder(r_guess_vector, **pars)` accepts an array of initial values and finds the same number of fixed points, using the above two functions"
      ]
    },
    {
      "cell_type": "code",
      "execution_count": 17,
      "metadata": {
        "cellView": "form",
        "execution": {},
        "id": "h4AOHvR-u-rp",
        "outputId": "c4eea9c4-649b-4d64-893e-6d57cecc6fec",
        "colab": {
          "base_uri": "https://localhost:8080/"
        }
      },
      "outputs": [
        {
          "output_type": "stream",
          "name": "stdout",
          "text": [
            "Help on function my_fp_finder in module __main__:\n",
            "\n",
            "my_fp_finder(pars, r_guess_vector, mytol=0.0001)\n",
            "    Calculate the fixed point(s) through drE/dt=0\n",
            "    \n",
            "    Args:\n",
            "      pars    : Parameter dictionary\n",
            "      r_guess_vector  : Initial values used for scipy.optimize function\n",
            "      mytol   : tolerance for checking fixed point, default as 10^{-4}\n",
            "    \n",
            "    Returns:\n",
            "      x_fps   : values of fixed points\n",
            "\n"
          ]
        }
      ],
      "source": [
        "# @markdown *Execute this cell to enable the fixed point functions*\n",
        "\n",
        "def my_fp_single(r_guess, a, theta, w, I_ext, **other_pars):\n",
        "  \"\"\"\n",
        "  Calculate the fixed point through drE/dt=0\n",
        "\n",
        "  Args:\n",
        "    r_guess  : Initial value used for scipy.optimize function\n",
        "    a, theta, w, I_ext : simulation parameters\n",
        "\n",
        "  Returns:\n",
        "    x_fp    : value of fixed point\n",
        "  \"\"\"\n",
        "  # define the right hand of E dynamics\n",
        "  def my_WCr(x):\n",
        "    r = x\n",
        "    drdt = (-r + F(w * r + I_ext, a, theta))\n",
        "    y = np.array(drdt)\n",
        "\n",
        "    return y\n",
        "\n",
        "  x0 = np.array(r_guess)\n",
        "  x_fp = opt.root(my_WCr, x0).x.item()\n",
        "\n",
        "  return x_fp\n",
        "\n",
        "\n",
        "def check_fp_single(x_fp, a, theta, w, I_ext, mytol=1e-4, **other_pars):\n",
        "  \"\"\"\n",
        "   Verify |dr/dt| < mytol\n",
        "\n",
        "  Args:\n",
        "    fp      : value of fixed point\n",
        "    a, theta, w, I_ext: simulation parameters\n",
        "    mytol   : tolerance, default as 10^{-4}\n",
        "\n",
        "  Returns :\n",
        "    Whether it is a correct fixed point: True/False\n",
        "  \"\"\"\n",
        "  # calculate Equation(3)\n",
        "  y = x_fp - F(w * x_fp + I_ext, a, theta)\n",
        "\n",
        "  # Here we set tolerance as 10^{-4}\n",
        "  return np.abs(y) < mytol\n",
        "\n",
        "\n",
        "def my_fp_finder(pars, r_guess_vector, mytol=1e-4):\n",
        "  \"\"\"\n",
        "  Calculate the fixed point(s) through drE/dt=0\n",
        "\n",
        "  Args:\n",
        "    pars    : Parameter dictionary\n",
        "    r_guess_vector  : Initial values used for scipy.optimize function\n",
        "    mytol   : tolerance for checking fixed point, default as 10^{-4}\n",
        "\n",
        "  Returns:\n",
        "    x_fps   : values of fixed points\n",
        "\n",
        "  \"\"\"\n",
        "  x_fps = []\n",
        "  correct_fps = []\n",
        "  for r_guess in r_guess_vector:\n",
        "    x_fp = my_fp_single(r_guess, **pars)\n",
        "    if check_fp_single(x_fp, **pars, mytol=mytol):\n",
        "      x_fps.append(x_fp)\n",
        "\n",
        "  return x_fps\n",
        "\n",
        "help(my_fp_finder)"
      ]
    },
    {
      "cell_type": "code",
      "execution_count": 22,
      "metadata": {
        "execution": {},
        "id": "A7YqJNvdu-rp",
        "outputId": "5c2f2962-c19a-4265-b51d-3a0ac36c36ca",
        "colab": {
          "base_uri": "https://localhost:8080/",
          "height": 430
        }
      },
      "outputs": [
        {
          "output_type": "display_data",
          "data": {
            "text/plain": [
              "<Figure size 576x432 with 1 Axes>"
            ],
            "image/png": "[encoded data removed]"
          },
          "metadata": {
            "image/png": {
              "width": 558,
              "height": 413
            },
            "needs_background": "light"
          }
        }
      ],
      "source": [
        "# Set parameters\n",
        "r = np.linspace(0, 1, 1000)\n",
        "pars = default_pars_single(I_ext=0.5, w=5)\n",
        "\n",
        "# Compute dr/dt\n",
        "drdt = compute_drdt(r, **pars)\n",
        "\n",
        "#############################################################################\n",
        "# TODO for students:\n",
        "# Define initial values close to the intersections of drdt and y=0\n",
        "# (How many initial values? Hint: How many times do the two lines intersect?)\n",
        "# Calculate the fixed point with these initial values and plot them\n",
        "#raise NotImplementedError('student_exercise: find fixed points numerically')\n",
        "#############################################################################\n",
        "\n",
        "# Initial guesses for fixed points\n",
        "r_guess_vector = [0.4]\n",
        "\n",
        "# Find fixed point numerically\n",
        "x_fps = my_fp_finder(pars, r_guess_vector)\n",
        "\n",
        "# Visualize\n",
        "plot_dr_r(r, drdt, x_fps)"
      ]
    },
    {
      "cell_type": "markdown",
      "metadata": {
        "execution": {},
        "id": "neVLjNO0u-rq"
      },
      "source": [
        "[*Click for solution*](https://github.com/NeuromatchAcademy/course-content/tree/main//tutorials/W2D4_DynamicNetworks/solutions/W2D4_Tutorial1_Solution_1c599fac.py)\n",
        "\n",
        "*Example output:*\n",
        "\n",
        "<img alt='Solution hint' align='left' width=775.0 height=575.0 src=https://raw.githubusercontent.com/NeuromatchAcademy/course-content/main/tutorials/W2D4_DynamicNetworks/static/W2D4_Tutorial1_Solution_1c599fac_0.png>\n",
        "\n"
      ]
    },
    {
      "cell_type": "markdown",
      "metadata": {
        "execution": {},
        "id": "TJEH3FKcu-rr"
      },
      "source": [
        "### Interactive Demo 2.1: fixed points as a function of recurrent and external inputs.\n",
        "\n",
        "You can now explore how the previous plot changes when the recurrent coupling $w$ and the external input $I_{\\text{ext}}$ take different values. How does the number of fixed points change?"
      ]
    },
    {
      "cell_type": "code",
      "execution_count": 30,
      "metadata": {
        "execution": {},
        "id": "XN79bXEMu-rr",
        "outputId": "93ef6194-c72e-4f0b-c92a-94ab48fc5f9f",
        "colab": {
          "base_uri": "https://localhost:8080/",
          "height": 494,
          "referenced_widgets": [
            "3f5e6256435043b88bc71ee7e64acbf0",
            "8548df34bb2d4c898b95f501a6faf05e",
            "56c25ae4a57c41078b777e56d9e3b770",
            "721ec11ce1c04067a5623c07b8e573dd",
            "1de18d8b350a44439f492bf0361f5640",
            "b65cc53cc1164a8eb0f8af50dabb7210",
            "4ec31c6ad62240ecb1e9f0f57ade2bad",
            "9daad7e409514d1ba9baf01005eef283",
            "18e9c14a09af478a8b2e1031053fbd5e",
            "e370072b8bb34fcf9fee26585201c025"
          ]
        }
      },
      "outputs": [
        {
          "output_type": "display_data",
          "data": {
            "text/plain": [
              "interactive(children=(FloatSlider(value=0.0, description='w', max=7.0, min=-7.0, step=0.2), FloatSlider(value=…"
            ],
            "application/vnd.jupyter.widget-view+json": {
              "version_major": 2,
              "version_minor": 0,
              "model_id": "3f5e6256435043b88bc71ee7e64acbf0"
            }
          },
          "metadata": {}
        }
      ],
      "source": [
        "# @title\n",
        "\n",
        "# @markdown Make sure you execute this cell to enable the widget!\n",
        "\n",
        "\n",
        "def plot_intersection_single(w, I_ext):\n",
        "  # set your parameters\n",
        "  pars = default_pars_single(w=w, I_ext=I_ext)\n",
        "\n",
        "  # find fixed points\n",
        "  r_init_vector = [0, .4, .9]\n",
        "  x_fps = my_fp_finder(pars, r_init_vector)\n",
        "\n",
        "  # plot\n",
        "  r = np.linspace(0, 1., 1000)\n",
        "  drdt = (-r + F(w * r + I_ext, pars['a'], pars['theta'])) / pars['tau']\n",
        "\n",
        "  plot_dr_r(r, drdt, x_fps)\n",
        "\n",
        "_ = widgets.interact(plot_intersection_single, w=(-7, 7, 0.2),\n",
        "                     I_ext=(0, 3, 0.1))"
      ]
    },
    {
      "cell_type": "markdown",
      "metadata": {
        "execution": {},
        "id": "qJexgUXmu-rs"
      },
      "source": [
        "[*Click for solution*](https://github.com/NeuromatchAcademy/course-content/tree/main//tutorials/W2D4_DynamicNetworks/solutions/W2D4_Tutorial1_Solution_7b60d4a8.py)\n",
        "\n"
      ]
    },
    {
      "cell_type": "markdown",
      "metadata": {
        "execution": {},
        "id": "pYPAq8LIu-rt"
      },
      "source": [
        "## Section 2.2: Relationship between trajectories & fixed points\n",
        "\n",
        "Let's examine the relationship between the population activity over time and the fixed points.\n",
        "\n",
        "Here, let us first set $w=5.0$ and $I_{\\text{ext}}=0.5$, and investigate the dynamics of $r(t)$ starting with different initial values $r(0) \\equiv r_{\\text{init}}$. "
      ]
    },
    {
      "cell_type": "code",
      "execution_count": 24,
      "metadata": {
        "cellView": "form",
        "execution": {},
        "id": "0bjF-xLUu-ru",
        "outputId": "f8229602-4f7d-4f55-e02f-16ec110b5f49",
        "colab": {
          "base_uri": "https://localhost:8080/",
          "height": 430
        }
      },
      "outputs": [
        {
          "output_type": "display_data",
          "data": {
            "text/plain": [
              "<Figure size 576x432 with 1 Axes>"
            ],
            "image/png": "[encoded data removed]"
          },
          "metadata": {
            "image/png": {
              "width": 558,
              "height": 413
            },
            "needs_background": "light"
          }
        }
      ],
      "source": [
        "# @markdown Execute to visualize dr/dt\n",
        "\n",
        "def plot_intersection_single(w, I_ext):\n",
        "  # set your parameters\n",
        "  pars = default_pars_single(w=w, I_ext=I_ext)\n",
        "\n",
        "  # find fixed points\n",
        "  r_init_vector = [0, .4, .9]\n",
        "  x_fps = my_fp_finder(pars, r_init_vector)\n",
        "\n",
        "  # plot\n",
        "  r = np.linspace(0, 1., 1000)\n",
        "  drdt = (-r + F(w * r + I_ext, pars['a'], pars['theta'])) / pars['tau']\n",
        "\n",
        "  plot_dr_r(r, drdt, x_fps)\n",
        "\n",
        "plot_intersection_single(w = 5.0, I_ext = 0.5)"
      ]
    },
    {
      "cell_type": "markdown",
      "metadata": {
        "execution": {},
        "id": "K0Hig1QWu-ru"
      },
      "source": [
        "### Interactive Demo 2.2: dynamics as a function of the initial value\n",
        "\n",
        "Let's now set $r_{\\rm init}$ to a value of your choice in this demo. How does the solution change? What do you observe? How does that relate to the previous plot of $\\frac{dr}{dt}$?"
      ]
    },
    {
      "cell_type": "code",
      "execution_count": 25,
      "metadata": {
        "cellView": "form",
        "execution": {},
        "id": "jM41vBuQu-rv",
        "outputId": "7c03df7e-367c-447b-bb7a-34200b4a0076",
        "colab": {
          "base_uri": "https://localhost:8080/",
          "height": 462,
          "referenced_widgets": [
            "672a683beb2a4fa6a3917573e8b1f63a",
            "fe278382ab0a4d7ba1f52ee7b52ab5c6",
            "dde47ef55d4148a093150216ec5d39d2",
            "dc229bb8cbdd45b5ab03ba3819825bec",
            "6262553731f2480d8a4fc0b61607016a",
            "d02276ff102f43018020ebd15316cea4",
            "dd382cf98cfc4c948fabbbd173be6fa5"
          ]
        }
      },
      "outputs": [
        {
          "output_type": "display_data",
          "data": {
            "text/plain": [
              "interactive(children=(FloatSlider(value=0.0, description='r_init', max=1.0, step=0.02), Output()), _dom_classe…"
            ],
            "application/vnd.jupyter.widget-view+json": {
              "version_major": 2,
              "version_minor": 0,
              "model_id": "672a683beb2a4fa6a3917573e8b1f63a"
            }
          },
          "metadata": {}
        }
      ],
      "source": [
        "# @markdown Make sure you execute this cell to enable the widget!\n",
        "\n",
        "pars = default_pars_single(w=5.0, I_ext=0.5)\n",
        "\n",
        "def plot_single_diffEinit(r_init):\n",
        "  pars['r_init'] = r_init\n",
        "  r = simulate_single(pars)\n",
        "\n",
        "  plt.figure()\n",
        "  plt.plot(pars['range_t'], r, 'b', zorder=1)\n",
        "  plt.plot(0, r[0], 'bo', alpha=0.7, zorder=2)\n",
        "  plt.xlabel('t (ms)', fontsize=16)\n",
        "  plt.ylabel(r'$r(t)$', fontsize=16)\n",
        "  plt.ylim(0, 1.0)\n",
        "  plt.show()\n",
        "\n",
        "\n",
        "_ = widgets.interact(plot_single_diffEinit, r_init=(0, 1, 0.02))"
      ]
    },
    {
      "cell_type": "markdown",
      "metadata": {
        "execution": {},
        "id": "XIWBOqLfu-rv"
      },
      "source": [
        "[*Click for solution*](https://github.com/NeuromatchAcademy/course-content/tree/main//tutorials/W2D4_DynamicNetworks/solutions/W2D4_Tutorial1_Solution_c73e9caf.py)\n",
        "\n"
      ]
    },
    {
      "cell_type": "markdown",
      "metadata": {
        "execution": {},
        "id": "tFj1RCqpu-rv"
      },
      "source": [
        "We will plot the trajectories of $r(t)$ with $r_{\\text{init}} = 0.0, 0.1, 0.2,..., 0.9$."
      ]
    },
    {
      "cell_type": "code",
      "execution_count": 26,
      "metadata": {
        "cellView": "form",
        "execution": {},
        "id": "Vpr2uStlu-rw",
        "outputId": "bec47ac3-57fb-4b00-9cb7-a18984f8c3ee",
        "colab": {
          "base_uri": "https://localhost:8080/",
          "height": 358
        }
      },
      "outputs": [
        {
          "output_type": "display_data",
          "data": {
            "text/plain": [
              "<Figure size 576x360 with 1 Axes>"
            ],
            "image/png": "[encoded data removed]"
          },
          "metadata": {
            "image/png": {
              "width": 557,
              "height": 341
            },
            "needs_background": "light"
          }
        }
      ],
      "source": [
        "# @markdown Execute this cell to see the trajectories!\n",
        "\n",
        "pars = default_pars_single()\n",
        "pars['w'] = 5.0\n",
        "pars['I_ext'] = 0.5\n",
        "\n",
        "plt.figure(figsize=(8, 5))\n",
        "for ie in range(10):\n",
        "  pars['r_init'] = 0.1 * ie  # set the initial value\n",
        "  r = simulate_single(pars)  # run the simulation\n",
        "\n",
        "  # plot the activity with given initial\n",
        "  plt.plot(pars['range_t'], r, 'b', alpha=0.1 + 0.1 * ie,\n",
        "           label=r'r$_{\\mathrm{init}}$=%.1f' % (0.1 * ie))\n",
        "\n",
        "plt.xlabel('t (ms)')\n",
        "plt.title('Two steady states?')\n",
        "plt.ylabel(r'$r$(t)')\n",
        "plt.legend(loc=[1.01, -0.06], fontsize=14)\n",
        "plt.show()"
      ]
    },
    {
      "cell_type": "markdown",
      "metadata": {
        "execution": {},
        "id": "fDXsfH_au-rw"
      },
      "source": [
        "We have three fixed points but only two steady states showing up - what's happening? \n",
        "\n",
        "It turns out that the stability of the fixed points matters. If a fixed point is stable, a trajectory starting near that fixed point will stay close to that fixed point and converge to it (the steady state will equal the fixed point). If a fixed point is unstable, any trajectories starting close to it will diverge and go towards stable fixed points. In fact, the only way for a trajectory to reach a stable state at an unstable fixed point is if the initial value **exactly** equals the value of the fixed point."
      ]
    },
    {
      "cell_type": "markdown",
      "metadata": {
        "execution": {},
        "id": "VJFXSo3cu-rx"
      },
      "source": [
        "### Think! 2.2: Stable vs unstable fixed points\n",
        "\n",
        "Which of the fixed points for the model we've been examining in this section are stable vs unstable?"
      ]
    },
    {
      "cell_type": "code",
      "execution_count": 27,
      "metadata": {
        "cellView": "form",
        "execution": {},
        "id": "v777PgVpu-rx",
        "outputId": "0b694423-f58e-4169-8843-a6aaf41d0874",
        "colab": {
          "base_uri": "https://localhost:8080/"
        }
      },
      "outputs": [
        {
          "output_type": "stream",
          "name": "stdout",
          "text": [
            "Our fixed points are [0.04153669901331739, 0.4471192240898344, 0.8997171538560865]\n"
          ]
        }
      ],
      "source": [
        "# @markdown Execute to print fixed point values\n",
        "\n",
        "# Initial guesses for fixed points\n",
        "r_guess_vector = [0, .4, .9]\n",
        "\n",
        "# Find fixed point numerically\n",
        "x_fps = my_fp_finder(pars, r_guess_vector)\n",
        "\n",
        "print(f'Our fixed points are {x_fps}')"
      ]
    },
    {
      "cell_type": "markdown",
      "metadata": {
        "execution": {},
        "id": "--PksJp3u-rx"
      },
      "source": [
        "[*Click for solution*](https://github.com/NeuromatchAcademy/course-content/tree/main//tutorials/W2D4_DynamicNetworks/solutions/W2D4_Tutorial1_Solution_3d44c9a3.py)\n",
        "\n"
      ]
    },
    {
      "cell_type": "markdown",
      "metadata": {
        "execution": {},
        "id": "6WAn8XIdu-rx"
      },
      "source": [
        "We can simulate the trajectory if we start at the unstable fixed point: you can see that it remains at that fixed point (the red line below)."
      ]
    },
    {
      "cell_type": "code",
      "execution_count": 28,
      "metadata": {
        "cellView": "form",
        "execution": {},
        "id": "1XTAP6-lu-ry",
        "outputId": "9176cf46-47d2-44f8-cfe4-1a42624d77ce",
        "colab": {
          "base_uri": "https://localhost:8080/",
          "height": 358
        }
      },
      "outputs": [
        {
          "output_type": "display_data",
          "data": {
            "text/plain": [
              "<Figure size 576x360 with 1 Axes>"
            ],
            "image/png": "[encoded data removed]"
          },
          "metadata": {
            "image/png": {
              "width": 557,
              "height": 341
            },
            "needs_background": "light"
          }
        }
      ],
      "source": [
        "# @markdown Execute to visualize trajectory starting at unstable fixed point\n",
        "pars = default_pars_single()\n",
        "pars['w'] = 5.0\n",
        "pars['I_ext'] = 0.5\n",
        "\n",
        "plt.figure(figsize=(8, 5))\n",
        "for ie in range(10):\n",
        "  pars['r_init'] = 0.1 * ie  # set the initial value\n",
        "  r = simulate_single(pars)  # run the simulation\n",
        "\n",
        "  # plot the activity with given initial\n",
        "  plt.plot(pars['range_t'], r, 'b', alpha=0.1 + 0.1 * ie,\n",
        "           label=r'r$_{\\mathrm{init}}$=%.1f' % (0.1 * ie))\n",
        "\n",
        "pars['r_init'] = x_fps[1]  # set the initial value\n",
        "r = simulate_single(pars)  # run the simulation\n",
        "\n",
        "# plot the activity with given initial\n",
        "plt.plot(pars['range_t'], r, 'r', alpha=0.1 + 0.1 * ie,\n",
        "          label=r'r$_{\\mathrm{init}}$=%.4f' % (x_fps[1]))\n",
        "\n",
        "plt.xlabel('t (ms)')\n",
        "plt.title('Two steady states?')\n",
        "plt.ylabel(r'$r$(t)')\n",
        "plt.legend(loc=[1.01, -0.06], fontsize=14)\n",
        "plt.show()"
      ]
    },
    {
      "cell_type": "markdown",
      "metadata": {
        "execution": {},
        "id": "pm2Ze2JVu-ry"
      },
      "source": [
        "See Bonus Section 1 to cover how to determine the stability of fixed points in a quantitative way."
      ]
    },
    {
      "cell_type": "markdown",
      "metadata": {
        "execution": {},
        "id": "2Zuln8yxu-rz"
      },
      "source": [
        "## Think! 2: Inhibitory populations\n",
        "\n",
        "Throughout the tutorial, we have assumed $w> 0 $, i.e., we considered a single population of **excitatory** neurons. What do you think will be the behavior of a population of inhibitory neurons, i.e., where $w> 0$ is replaced by $w< 0$? "
      ]
    },
    {
      "cell_type": "markdown",
      "metadata": {
        "execution": {},
        "id": "5H_tBH4Qu-rz"
      },
      "source": [
        "[*Click for solution*](https://github.com/NeuromatchAcademy/course-content/tree/main//tutorials/W2D4_DynamicNetworks/solutions/W2D4_Tutorial1_Solution_f3418e5f.py)\n",
        "\n"
      ]
    },
    {
      "cell_type": "markdown",
      "metadata": {
        "execution": {},
        "id": "sYbAnZUyu-rz"
      },
      "source": [
        "---\n",
        "# Summary\n",
        "\n",
        "*Estimated timing of tutorial: 1 hour, 25 minutes*\n",
        "\n",
        "In this tutorial, we have investigated the dynamics of a rate-based single population of neurons.\n",
        "\n",
        "We learned about:\n",
        "- The effect of the input parameters and the time constant of the network on the dynamics of the population.\n",
        "- How to find the fixed point(s) of the system.\n",
        "\n",
        "We build on these concepts in the bonus material - check it out if you have time. You will learn:\n",
        "\n",
        "- How to determine the stability of a fixed point by linearizing the system.\n",
        "- How to add realistic inputs to our model."
      ]
    },
    {
      "cell_type": "markdown",
      "metadata": {
        "execution": {},
        "id": "-it7O-MWu-rz"
      },
      "source": [
        "---\n",
        "# Bonus"
      ]
    },
    {
      "cell_type": "markdown",
      "metadata": {
        "execution": {},
        "id": "EX2b4kJYu-r0"
      },
      "source": [
        "---\n",
        "## Bonus Section 1: Stability analysis via linearization of the dynamics"
      ]
    },
    {
      "cell_type": "code",
      "execution_count": null,
      "metadata": {
        "cellView": "form",
        "execution": {},
        "id": "A4zK1MJXu-r0"
      },
      "outputs": [],
      "source": [
        "# @title Video 3: Stability of fixed points\n",
        "from ipywidgets import widgets\n",
        "\n",
        "out2 = widgets.Output()\n",
        "with out2:\n",
        "  from IPython.display import IFrame\n",
        "  class BiliVideo(IFrame):\n",
        "      def __init__(self, id, page=1, width=400, height=300, **kwargs):\n",
        "          self.id=id\n",
        "          src = 'https://player.bilibili.com/player.html?bvid={0}&page={1}'.format(id, page)\n",
        "          super(BiliVideo, self).__init__(src, width, height, **kwargs)\n",
        "\n",
        "  video = BiliVideo(id=\"BV1oA411e7eg\", width=854, height=480, fs=1)\n",
        "  print('Video available at https://www.bilibili.com/video/{0}'.format(video.id))\n",
        "  display(video)\n",
        "\n",
        "out1 = widgets.Output()\n",
        "with out1:\n",
        "  from IPython.display import YouTubeVideo\n",
        "  video = YouTubeVideo(id=\"KKMlWWU83Jg\", width=854, height=480, fs=1, rel=0)\n",
        "  print('Video available at https://youtube.com/watch?v=' + video.id)\n",
        "  display(video)\n",
        "\n",
        "out = widgets.Tab([out1, out2])\n",
        "out.set_title(0, 'Youtube')\n",
        "out.set_title(1, 'Bilibili')\n",
        "\n",
        "display(out)"
      ]
    },
    {
      "cell_type": "markdown",
      "metadata": {
        "execution": {},
        "id": "Uy6ZOya6u-r0"
      },
      "source": [
        "Here we will dive into the math of how to figure out the stability of a fixed point.\n",
        "\n",
        "\n",
        "Just like in our equation for the feedforward network, a generic linear system \n",
        "$\\frac{dx}{dt} = \\lambda (x - b)$, has a fixed point for $x=b$. The analytical solution of such a system can be found to be:\n",
        "\n",
        "\\begin{equation}\n",
        "x(t) = b + \\big{(} x(0) - b \\big{)} \\text{e}^{\\lambda t}.\n",
        "\\end{equation}\n",
        "\n",
        "Now consider a small perturbation of the activity around the fixed point: $x(0) = b + \\epsilon$, where $|\\epsilon| \\ll 1$. Will the perturbation $\\epsilon(t)$ grow with time or will it decay to the fixed point? The evolution of the perturbation with time can be written, using the analytical solution for $x(t)$, as:\n",
        "\n",
        "\\begin{equation}\n",
        "\\epsilon (t) = x(t) - b = \\epsilon \\text{e}^{\\lambda t}\n",
        "\\end{equation}\n",
        "\n",
        "<br>\n",
        "\n",
        "- if $\\lambda < 0$, $\\epsilon(t)$ decays to zero, $x(t)$ will still converge to $b$ and the fixed point is \"**stable**\".\n",
        "\n",
        "- if $\\lambda > 0$, $\\epsilon(t)$ grows with time, $x(t)$ will leave the fixed point $b$ exponentially, and the fixed point is, therefore, \"**unstable**\" ."
      ]
    },
    {
      "cell_type": "markdown",
      "metadata": {
        "execution": {},
        "id": "cehVXsMiu-r1"
      },
      "source": [
        "Similar to what we did in the linear system above, in order to determine the stability of a fixed point $r^{*}$ of the excitatory population dynamics, we perturb Equation (1) around $r^{*}$ by $\\epsilon$, i.e. $r = r^{*} + \\epsilon$. We can plug in Equation (1) and obtain the equation determining the time evolution of the perturbation $\\epsilon(t)$:\n",
        "\n",
        "\\begin{equation}\n",
        "\\tau \\frac{d\\epsilon}{dt} \\approx -\\epsilon + w F'(w\\cdot r^{*} + I_{\\text{ext}};a,\\theta) \\epsilon \n",
        "\\end{equation}\n",
        "\n",
        "where $F'(\\cdot)$ is the derivative of the transfer function $F(\\cdot)$. We can rewrite the above equation as:\n",
        "\n",
        "\\begin{equation}\n",
        "\\frac{d\\epsilon}{dt} \\approx \\frac{\\epsilon}{\\tau }[-1 + w F'(w\\cdot r^* + I_{\\text{ext}};a,\\theta)] \n",
        "\\end{equation}\n",
        "\n",
        "That is, as in the linear system above, the value of\n",
        "\n",
        "\\begin{equation}\n",
        "\\lambda = [-1+ wF'(w\\cdot r^* + I_{\\text{ext}};a,\\theta)]/\\tau \\qquad (4)\n",
        "\\end{equation}\n",
        "\n",
        "determines whether the perturbation will grow or decay to zero, i.e., $\\lambda$ defines the stability of the fixed point. This value is called the **eigenvalue** of the dynamical system."
      ]
    },
    {
      "cell_type": "markdown",
      "metadata": {
        "execution": {},
        "id": "19Lvplb2u-r1"
      },
      "source": [
        "The derivative of the sigmoid transfer function is:\n",
        "\n",
        "\\begin{align} \n",
        "\\frac{dF}{dx} & = \\frac{d}{dx} (1+\\exp\\{-a(x-\\theta)\\})^{-1}  \\\\\n",
        "& = a\\exp\\{-a(x-\\theta)\\} (1+\\exp\\{-a(x-\\theta)\\})^{-2}. \\qquad (5)\n",
        "\\end{align}\n",
        "\n",
        "We provide a helper function `dF` which computes this derivative."
      ]
    },
    {
      "cell_type": "code",
      "execution_count": null,
      "metadata": {
        "cellView": "form",
        "execution": {},
        "id": "Zsw_j7_ou-r1"
      },
      "outputs": [],
      "source": [
        "# @markdown Execute this cell to enable helper function `dF` and visualize derivative\n",
        "\n",
        "def dF(x, a, theta):\n",
        "  \"\"\"\n",
        "  Population activation function.\n",
        "\n",
        "  Args:\n",
        "    x     : the population input\n",
        "    a     : the gain of the function\n",
        "    theta : the threshold of the function\n",
        "\n",
        "  Returns:\n",
        "    dFdx  : the population activation response F(x) for input x\n",
        "  \"\"\"\n",
        "\n",
        "  # Calculate the population activation\n",
        "  dFdx = a * np.exp(-a * (x - theta)) * (1 + np.exp(-a * (x - theta)))**-2\n",
        "\n",
        "  return dFdx\n",
        "\n",
        "# Set parameters\n",
        "pars = default_pars_single()  # get default parameters\n",
        "x = np.arange(0, 10, .1)      # set the range of input\n",
        "\n",
        "# Compute derivative of transfer function\n",
        "df = dF(x, pars['a'], pars['theta'])\n",
        "\n",
        "# Visualize\n",
        "plot_dFdt(x, df)"
      ]
    },
    {
      "cell_type": "markdown",
      "metadata": {
        "execution": {},
        "id": "lu0aG9u9u-r2"
      },
      "source": [
        "### Bonus Coding Exercise 1: Compute eigenvalues\n",
        "\n",
        "As discussed above, for the case with $w=5.0$ and $I_{\\text{ext}}=0.5$, the system displays **three** fixed points. However, when we simulated the dynamics and varied the initial conditions $r_{\\rm init}$, we could only obtain **two** steady states. In this exercise, we will now check the stability of each of the three fixed points by calculating the corresponding eigenvalues with the function `eig_single`. Check the sign of each eigenvalue (i.e., stability of each fixed point). How many of the fixed points are stable?\n",
        "\n",
        "Note that the expression of the eigenvalue at fixed point $r^*$:\n",
        "\n",
        "\\begin{equation}\n",
        "\\lambda = [-1+ wF'(w\\cdot r^* + I_{\\text{ext}};a,\\theta)]/\\tau\n",
        "\\end{equation}"
      ]
    },
    {
      "cell_type": "code",
      "execution_count": null,
      "metadata": {
        "execution": {},
        "id": "g7h_fNx8u-r2"
      },
      "outputs": [],
      "source": [
        "def eig_single(fp, tau, a, theta, w, I_ext, **other_pars):\n",
        "  \"\"\"\n",
        "  Args:\n",
        "    fp   : fixed point r_fp\n",
        "    tau, a, theta, w, I_ext : Simulation parameters\n",
        "\n",
        "  Returns:\n",
        "    eig : eigenvalue of the linearized system\n",
        "  \"\"\"\n",
        "  #####################################################################\n",
        "  ## TODO for students: compute eigenvalue and disable the error\n",
        "  raise NotImplementedError(\"Student exercise: compute the eigenvalue\")\n",
        "  ######################################################################\n",
        "  # Compute the eigenvalue\n",
        "  eig = ...\n",
        "\n",
        "  return eig\n",
        "\n",
        "\n",
        "# Find the eigenvalues for all fixed points\n",
        "pars = default_pars_single(w=5, I_ext=.5)\n",
        "r_guess_vector = [0, .4, .9]\n",
        "x_fp = my_fp_finder(pars, r_guess_vector)\n",
        "\n",
        "\n",
        "for fp in x_fp:\n",
        "  eig_fp = eig_single(fp, **pars)\n",
        "  print(f'Fixed point1 at {fp:.3f} with Eigenvalue={eig_fp:.3f}')"
      ]
    },
    {
      "cell_type": "markdown",
      "metadata": {
        "execution": {},
        "id": "GL3qAc3Fu-r2"
      },
      "source": [
        "[*Click for solution*](https://github.com/NeuromatchAcademy/course-content/tree/main//tutorials/W2D4_DynamicNetworks/solutions/W2D4_Tutorial1_Solution_12b2b44c.py)\n",
        "\n"
      ]
    },
    {
      "cell_type": "markdown",
      "metadata": {
        "execution": {},
        "id": "s_RYDjBeu-r3"
      },
      "source": [
        "**SAMPLE OUTPUT**\n",
        "\n",
        "```\n",
        "Fixed point1 at 0.042 with Eigenvalue=-0.583\n",
        "Fixed point2 at 0.447 with Eigenvalue=0.498\n",
        "Fixed point3 at 0.900 with Eigenvalue=-0.626\n",
        "```"
      ]
    },
    {
      "cell_type": "markdown",
      "metadata": {
        "execution": {},
        "id": "iODR3J4Mu-r3"
      },
      "source": [
        "We can see that the first and third fixed points are stable (negative eigenvalues) and the second is unstable (positive eigenvalue) - as we expected!"
      ]
    },
    {
      "cell_type": "markdown",
      "metadata": {
        "execution": {},
        "id": "s4n0ut0ou-r3"
      },
      "source": [
        "---\n",
        "## Bonus Section 2: Noisy input drives the transition between two stable states"
      ]
    },
    {
      "cell_type": "markdown",
      "metadata": {
        "execution": {},
        "id": "ttkEIi1Mu-r3"
      },
      "source": [
        "As discussed in several previous tutorials, the Ornstein-Uhlenbeck (OU) process is usually used to generate a noisy input into the neuron. The OU input $\\eta(t)$ follows: \n",
        "\n",
        "\\begin{equation}\n",
        "\\tau_\\eta \\frac{d}{dt}\\eta(t) = -\\eta (t) + \\sigma_\\eta\\sqrt{2\\tau_\\eta}\\xi(t)\n",
        "\\end{equation}\n",
        "\n",
        "Execute the following function `my_OU(pars, sig, myseed=False)` to generate an OU process."
      ]
    },
    {
      "cell_type": "code",
      "execution_count": null,
      "metadata": {
        "cellView": "form",
        "execution": {},
        "id": "vVlb8h43u-r3"
      },
      "outputs": [],
      "source": [
        "# @markdown Execute to get helper function `my_OU` and visualize OU process\n",
        "\n",
        "\n",
        "def my_OU(pars, sig, myseed=False):\n",
        "  \"\"\"\n",
        "  A functions that generates Ornstein-Uhlenback process\n",
        "\n",
        "  Args:\n",
        "    pars       : parameter dictionary\n",
        "    sig        : noise amplitute\n",
        "    myseed     : random seed. int or boolean\n",
        "\n",
        "  Returns:\n",
        "    I          : Ornstein-Uhlenbeck input current\n",
        "  \"\"\"\n",
        "\n",
        "  # Retrieve simulation parameters\n",
        "  dt, range_t = pars['dt'], pars['range_t']\n",
        "  Lt = range_t.size\n",
        "  tau_ou = pars['tau_ou']  # [ms]\n",
        "\n",
        "  # set random seed\n",
        "  if myseed:\n",
        "      np.random.seed(seed=myseed)\n",
        "  else:\n",
        "      np.random.seed()\n",
        "\n",
        "  # Initialize\n",
        "  noise = np.random.randn(Lt)\n",
        "  I_ou = np.zeros(Lt)\n",
        "  I_ou[0] = noise[0] * sig\n",
        "\n",
        "  # generate OU\n",
        "  for it in range(Lt - 1):\n",
        "    I_ou[it + 1] = (I_ou[it]\n",
        "                    + dt / tau_ou * (0. - I_ou[it])\n",
        "                    + np.sqrt(2 * dt / tau_ou) * sig * noise[it + 1])\n",
        "\n",
        "  return I_ou\n",
        "\n",
        "\n",
        "pars = default_pars_single(T=100)\n",
        "pars['tau_ou'] = 1.  # [ms]\n",
        "sig_ou = 0.1\n",
        "I_ou = my_OU(pars, sig=sig_ou, myseed=2020)\n",
        "plt.figure(figsize=(10, 4))\n",
        "plt.plot(pars['range_t'], I_ou, 'r')\n",
        "plt.xlabel('t (ms)')\n",
        "plt.ylabel(r'$I_{\\mathrm{OU}}$')\n",
        "plt.show()"
      ]
    },
    {
      "cell_type": "markdown",
      "metadata": {
        "execution": {},
        "id": "xbusNz5_u-r4"
      },
      "source": [
        "In the presence of two or more fixed points, noisy inputs can drive a transition between the fixed points! Here, we stimulate an E population for 1,000 ms applying OU inputs."
      ]
    },
    {
      "cell_type": "code",
      "execution_count": null,
      "metadata": {
        "cellView": "form",
        "execution": {},
        "id": "DzAqH4KMu-r4"
      },
      "outputs": [],
      "source": [
        "# @markdown Execute this cell to simulate E population with OU inputs\n",
        "\n",
        "pars = default_pars_single(T=1000)\n",
        "pars['w'] = 5.0\n",
        "sig_ou = 0.7\n",
        "pars['tau_ou'] = 1.  # [ms]\n",
        "pars['I_ext'] = 0.56 + my_OU(pars, sig=sig_ou, myseed=2020)\n",
        "\n",
        "r = simulate_single(pars)\n",
        "\n",
        "plt.figure(figsize=(10, 4))\n",
        "plt.plot(pars['range_t'], r, 'b', alpha=0.8)\n",
        "plt.xlabel('t (ms)')\n",
        "plt.ylabel(r'$r(t)$')\n",
        "plt.show()"
      ]
    },
    {
      "cell_type": "markdown",
      "metadata": {
        "execution": {},
        "id": "a1RE9m5Pu-r4"
      },
      "source": [
        "You can see that the population activity is changing between fixed points (it goes up and down)!"
      ]
    }
  ],
  "metadata": {
    "colab": {
      "collapsed_sections": [],
      "name": "W2D4_Tutorial1",
      "provenance": [],
      "toc_visible": true,
      "include_colab_link": true
    },
    "kernel": {
      "display_name": "Python 3",
      "language": "python",
      "name": "python3"
    },
    "kernelspec": {
      "display_name": "Python 3",
      "name": "python3"
    },
    "language_info": {
      "codemirror_mode": {
        "name": "ipython",
        "version": 3
      },
      "file_extension": ".py",
      "mimetype": "text/x-python",
      "name": "python",
      "nbconvert_exporter": "python",
      "pygments_lexer": "ipython3",
      "version": "3.7.13"
    },
    "widgets": {
      "application/vnd.jupyter.widget-state+json": {
        "35c1add30e414483ae55d0131d37b8c2": {
          "model_module": "@jupyter-widgets/controls",
          "model_name": "TabModel",
          "model_module_version": "1.5.0",
          "state": {
            "_dom_classes": [],
            "_model_module": "@jupyter-widgets/controls",
            "_model_module_version": "1.5.0",
            "_model_name": "TabModel",
            "_titles": {
              "0": "Youtube",
              "1": "Bilibili"
            },
            "_view_count": null,
            "_view_module": "@jupyter-widgets/controls",
            "_view_module_version": "1.5.0",
            "_view_name": "TabView",
            "box_style": "",
            "children": [
              "IPY_MODEL_337fed2c7fa546bb953c1d338b442afe",
              "IPY_MODEL_8e015950ebdf487f98ed2faa898d55d8"
            ],
            "layout": "IPY_MODEL_71593b3d8ca144aba12349deec73bca3",
            "selected_index": 0
          }
        },
        "337fed2c7fa546bb953c1d338b442afe": {
          "model_module": "@jupyter-widgets/output",
          "model_name": "OutputModel",
          "model_module_version": "1.0.0",
          "state": {
            "_dom_classes": [],
            "_model_module": "@jupyter-widgets/output",
            "_model_module_version": "1.0.0",
            "_model_name": "OutputModel",
            "_view_count": null,
            "_view_module": "@jupyter-widgets/output",
            "_view_module_version": "1.0.0",
            "_view_name": "OutputView",
            "layout": "IPY_MODEL_ba81b506d3ef45618895b0677ae836b1",
            "msg_id": "",
            "outputs": [
              {
                "output_type": "stream",
                "name": "stdout",
                "text": [
                  "Video available at https://youtube.com/watch?v=p848349hPyw\n"
                ]
              },
              {
                "output_type": "display_data",
                "data": {
                  "text/plain": "<IPython.lib.display.YouTubeVideo at 0x7f0978847d90>",
                  "text/html": "\n        <iframe\n            width=\"854\"\n            height=\"480\"\n            src=\"https://www.youtube.com/embed/p848349hPyw?fs=1&rel=0\"\n            frameborder=\"0\"\n            allowfullscreen\n        ></iframe>\n        ",
                  "image/jpeg": "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\n"
                },
                "metadata": {}
              }
            ]
          }
        },
        "8e015950ebdf487f98ed2faa898d55d8": {
          "model_module": "@jupyter-widgets/output",
          "model_name": "OutputModel",
          "model_module_version": "1.0.0",
          "state": {
            "_dom_classes": [],
            "_model_module": "@jupyter-widgets/output",
            "_model_module_version": "1.0.0",
            "_model_name": "OutputModel",
            "_view_count": null,
            "_view_module": "@jupyter-widgets/output",
            "_view_module_version": "1.0.0",
            "_view_name": "OutputView",
            "layout": "IPY_MODEL_cd82ee57ece64da1a5036c85d93d7b37",
            "msg_id": "",
            "outputs": [
              {
                "output_type": "stream",
                "name": "stdout",
                "text": [
                  "Video available at https://www.bilibili.com/video/BV1dh411o7qJ\n"
                ]
              },
              {
                "output_type": "display_data",
                "data": {
                  "text/plain": "<__main__.BiliVideo at 0x7f097bcbb550>",
                  "text/html": "\n        <iframe\n            width=\"854\"\n            height=\"480\"\n            src=\"https://player.bilibili.com/player.html?bvid=BV1dh411o7qJ&page=1?fs=1\"\n            frameborder=\"0\"\n            allowfullscreen\n        ></iframe>\n        "
                },
                "metadata": {}
              }
            ]
          }
        },
        "71593b3d8ca144aba12349deec73bca3": {
          "model_module": "@jupyter-widgets/base",
          "model_name": "LayoutModel",
          "model_module_version": "1.2.0",
          "state": {
            "_model_module": "@jupyter-widgets/base",
            "_model_module_version": "1.2.0",
            "_model_name": "LayoutModel",
            "_view_count": null,
            "_view_module": "@jupyter-widgets/base",
            "_view_module_version": "1.2.0",
            "_view_name": "LayoutView",
            "align_content": null,
            "align_items": null,
            "align_self": null,
            "border": null,
            "bottom": null,
            "display": null,
            "flex": null,
            "flex_flow": null,
            "grid_area": null,
            "grid_auto_columns": null,
            "grid_auto_flow": null,
            "grid_auto_rows": null,
            "grid_column": null,
            "grid_gap": null,
            "grid_row": null,
            "grid_template_areas": null,
            "grid_template_columns": null,
            "grid_template_rows": null,
            "height": null,
            "justify_content": null,
            "justify_items": null,
            "left": null,
            "margin": null,
            "max_height": null,
            "max_width": null,
            "min_height": null,
            "min_width": null,
            "object_fit": null,
            "object_position": null,
            "order": null,
            "overflow": null,
            "overflow_x": null,
            "overflow_y": null,
            "padding": null,
            "right": null,
            "top": null,
            "visibility": null,
            "width": null
          }
        },
        "ba81b506d3ef45618895b0677ae836b1": {
          "model_module": "@jupyter-widgets/base",
          "model_name": "LayoutModel",
          "model_module_version": "1.2.0",
          "state": {
            "_model_module": "@jupyter-widgets/base",
            "_model_module_version": "1.2.0",
            "_model_name": "LayoutModel",
            "_view_count": null,
            "_view_module": "@jupyter-widgets/base",
            "_view_module_version": "1.2.0",
            "_view_name": "LayoutView",
            "align_content": null,
            "align_items": null,
            "align_self": null,
            "border": null,
            "bottom": null,
            "display": null,
            "flex": null,
            "flex_flow": null,
            "grid_area": null,
            "grid_auto_columns": null,
            "grid_auto_flow": null,
            "grid_auto_rows": null,
            "grid_column": null,
            "grid_gap": null,
            "grid_row": null,
            "grid_template_areas": null,
            "grid_template_columns": null,
            "grid_template_rows": null,
            "height": null,
            "justify_content": null,
            "justify_items": null,
            "left": null,
            "margin": null,
            "max_height": null,
            "max_width": null,
            "min_height": null,
            "min_width": null,
            "object_fit": null,
            "object_position": null,
            "order": null,
            "overflow": null,
            "overflow_x": null,
            "overflow_y": null,
            "padding": null,
            "right": null,
            "top": null,
            "visibility": null,
            "width": null
          }
        },
        "cd82ee57ece64da1a5036c85d93d7b37": {
          "model_module": "@jupyter-widgets/base",
          "model_name": "LayoutModel",
          "model_module_version": "1.2.0",
          "state": {
            "_model_module": "@jupyter-widgets/base",
            "_model_module_version": "1.2.0",
            "_model_name": "LayoutModel",
            "_view_count": null,
            "_view_module": "@jupyter-widgets/base",
            "_view_module_version": "1.2.0",
            "_view_name": "LayoutView",
            "align_content": null,
            "align_items": null,
            "align_self": null,
            "border": null,
            "bottom": null,
            "display": null,
            "flex": null,
            "flex_flow": null,
            "grid_area": null,
            "grid_auto_columns": null,
            "grid_auto_flow": null,
            "grid_auto_rows": null,
            "grid_column": null,
            "grid_gap": null,
            "grid_row": null,
            "grid_template_areas": null,
            "grid_template_columns": null,
            "grid_template_rows": null,
            "height": null,
            "justify_content": null,
            "justify_items": null,
            "left": null,
            "margin": null,
            "max_height": null,
            "max_width": null,
            "min_height": null,
            "min_width": null,
            "object_fit": null,
            "object_position": null,
            "order": null,
            "overflow": null,
            "overflow_x": null,
            "overflow_y": null,
            "padding": null,
            "right": null,
            "top": null,
            "visibility": null,
            "width": null
          }
        },
        "2fd54cf69c1b41d081b3e08c26d05ec1": {
          "model_module": "@jupyter-widgets/controls",
          "model_name": "VBoxModel",
          "model_module_version": "1.5.0",
          "state": {
            "_dom_classes": [
              "widget-interact"
            ],
            "_model_module": "@jupyter-widgets/controls",
            "_model_module_version": "1.5.0",
            "_model_name": "VBoxModel",
            "_view_count": null,
            "_view_module": "@jupyter-widgets/controls",
            "_view_module_version": "1.5.0",
            "_view_name": "VBoxView",
            "box_style": "",
            "children": [
              "IPY_MODEL_55d278f34fb948af96e00965584de509",
              "IPY_MODEL_c023731f8eb845e48d598f0c701fc82d",
              "IPY_MODEL_aeb807fa3edf4ee3abcb80cef181e561"
            ],
            "layout": "IPY_MODEL_c813d8945f4541c28ee3078adadebda5"
          }
        },
        "55d278f34fb948af96e00965584de509": {
          "model_module": "@jupyter-widgets/controls",
          "model_name": "FloatSliderModel",
          "model_module_version": "1.5.0",
          "state": {
            "_dom_classes": [],
            "_model_module": "@jupyter-widgets/controls",
            "_model_module_version": "1.5.0",
            "_model_name": "FloatSliderModel",
            "_view_count": null,
            "_view_module": "@jupyter-widgets/controls",
            "_view_module_version": "1.5.0",
            "_view_name": "FloatSliderView",
            "continuous_update": true,
            "description": "a",
            "description_tooltip": null,
            "disabled": false,
            "layout": "IPY_MODEL_49a84e97b3bb466ea207cdeb8d0e5032",
            "max": 3,
            "min": 0.3,
            "orientation": "horizontal",
            "readout": true,
            "readout_format": ".2f",
            "step": 0.3,
            "style": "IPY_MODEL_a5403e91569549ab98147f1fd2ee6c3a",
            "value": 1.5
          }
        },
        "c023731f8eb845e48d598f0c701fc82d": {
          "model_module": "@jupyter-widgets/controls",
          "model_name": "FloatSliderModel",
          "model_module_version": "1.5.0",
          "state": {
            "_dom_classes": [],
            "_model_module": "@jupyter-widgets/controls",
            "_model_module_version": "1.5.0",
            "_model_name": "FloatSliderModel",
            "_view_count": null,
            "_view_module": "@jupyter-widgets/controls",
            "_view_module_version": "1.5.0",
            "_view_name": "FloatSliderView",
            "continuous_update": true,
            "description": "theta",
            "description_tooltip": null,
            "disabled": false,
            "layout": "IPY_MODEL_95476c6957d748dc87495c95754b1465",
            "max": 4,
            "min": 2,
            "orientation": "horizontal",
            "readout": true,
            "readout_format": ".2f",
            "step": 0.2,
            "style": "IPY_MODEL_0bfd30835ae344f6bbd31324ac789820",
            "value": 3
          }
        },
        "aeb807fa3edf4ee3abcb80cef181e561": {
          "model_module": "@jupyter-widgets/output",
          "model_name": "OutputModel",
          "model_module_version": "1.0.0",
          "state": {
            "_dom_classes": [],
            "_model_module": "@jupyter-widgets/output",
            "_model_module_version": "1.0.0",
            "_model_name": "OutputModel",
            "_view_count": null,
            "_view_module": "@jupyter-widgets/output",
            "_view_module_version": "1.0.0",
            "_view_name": "OutputView",
            "layout": "IPY_MODEL_43c458d80ee246e9b9fd4fa9953b2fb3",
            "msg_id": "",
            "outputs": [
              {
                "output_type": "display_data",
                "data": {
                  "text/plain": "<Figure size 576x432 with 1 Axes>",
                  "image/png": "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\n"
                },
                "metadata": {
                  "image/png": {
                    "width": 558,
                    "height": 413
                  },
                  "needs_background": "light"
                }
              }
            ]
          }
        },
        "c813d8945f4541c28ee3078adadebda5": {
          "model_module": "@jupyter-widgets/base",
          "model_name": "LayoutModel",
          "model_module_version": "1.2.0",
          "state": {
            "_model_module": "@jupyter-widgets/base",
            "_model_module_version": "1.2.0",
            "_model_name": "LayoutModel",
            "_view_count": null,
            "_view_module": "@jupyter-widgets/base",
            "_view_module_version": "1.2.0",
            "_view_name": "LayoutView",
            "align_content": null,
            "align_items": null,
            "align_self": null,
            "border": null,
            "bottom": null,
            "display": null,
            "flex": null,
            "flex_flow": null,
            "grid_area": null,
            "grid_auto_columns": null,
            "grid_auto_flow": null,
            "grid_auto_rows": null,
            "grid_column": null,
            "grid_gap": null,
            "grid_row": null,
            "grid_template_areas": null,
            "grid_template_columns": null,
            "grid_template_rows": null,
            "height": null,
            "justify_content": null,
            "justify_items": null,
            "left": null,
            "margin": null,
            "max_height": null,
            "max_width": null,
            "min_height": null,
            "min_width": null,
            "object_fit": null,
            "object_position": null,
            "order": null,
            "overflow": null,
            "overflow_x": null,
            "overflow_y": null,
            "padding": null,
            "right": null,
            "top": null,
            "visibility": null,
            "width": null
          }
        },
        "49a84e97b3bb466ea207cdeb8d0e5032": {
          "model_module": "@jupyter-widgets/base",
          "model_name": "LayoutModel",
          "model_module_version": "1.2.0",
          "state": {
            "_model_module": "@jupyter-widgets/base",
            "_model_module_version": "1.2.0",
            "_model_name": "LayoutModel",
            "_view_count": null,
            "_view_module": "@jupyter-widgets/base",
            "_view_module_version": "1.2.0",
            "_view_name": "LayoutView",
            "align_content": null,
            "align_items": null,
            "align_self": null,
            "border": null,
            "bottom": null,
            "display": null,
            "flex": null,
            "flex_flow": null,
            "grid_area": null,
            "grid_auto_columns": null,
            "grid_auto_flow": null,
            "grid_auto_rows": null,
            "grid_column": null,
            "grid_gap": null,
            "grid_row": null,
            "grid_template_areas": null,
            "grid_template_columns": null,
            "grid_template_rows": null,
            "height": null,
            "justify_content": null,
            "justify_items": null,
            "left": null,
            "margin": null,
            "max_height": null,
            "max_width": null,
            "min_height": null,
            "min_width": null,
            "object_fit": null,
            "object_position": null,
            "order": null,
            "overflow": null,
            "overflow_x": null,
            "overflow_y": null,
            "padding": null,
            "right": null,
            "top": null,
            "visibility": null,
            "width": null
          }
        },
        "a5403e91569549ab98147f1fd2ee6c3a": {
          "model_module": "@jupyter-widgets/controls",
          "model_name": "SliderStyleModel",
          "model_module_version": "1.5.0",
          "state": {
            "_model_module": "@jupyter-widgets/controls",
            "_model_module_version": "1.5.0",
            "_model_name": "SliderStyleModel",
            "_view_count": null,
            "_view_module": "@jupyter-widgets/base",
            "_view_module_version": "1.2.0",
            "_view_name": "StyleView",
            "description_width": "",
            "handle_color": null
          }
        },
        "95476c6957d748dc87495c95754b1465": {
          "model_module": "@jupyter-widgets/base",
          "model_name": "LayoutModel",
          "model_module_version": "1.2.0",
          "state": {
            "_model_module": "@jupyter-widgets/base",
            "_model_module_version": "1.2.0",
            "_model_name": "LayoutModel",
            "_view_count": null,
            "_view_module": "@jupyter-widgets/base",
            "_view_module_version": "1.2.0",
            "_view_name": "LayoutView",
            "align_content": null,
            "align_items": null,
            "align_self": null,
            "border": null,
            "bottom": null,
            "display": null,
            "flex": null,
            "flex_flow": null,
            "grid_area": null,
            "grid_auto_columns": null,
            "grid_auto_flow": null,
            "grid_auto_rows": null,
            "grid_column": null,
            "grid_gap": null,
            "grid_row": null,
            "grid_template_areas": null,
            "grid_template_columns": null,
            "grid_template_rows": null,
            "height": null,
            "justify_content": null,
            "justify_items": null,
            "left": null,
            "margin": null,
            "max_height": null,
            "max_width": null,
            "min_height": null,
            "min_width": null,
            "object_fit": null,
            "object_position": null,
            "order": null,
            "overflow": null,
            "overflow_x": null,
            "overflow_y": null,
            "padding": null,
            "right": null,
            "top": null,
            "visibility": null,
            "width": null
          }
        },
        "0bfd30835ae344f6bbd31324ac789820": {
          "model_module": "@jupyter-widgets/controls",
          "model_name": "SliderStyleModel",
          "model_module_version": "1.5.0",
          "state": {
            "_model_module": "@jupyter-widgets/controls",
            "_model_module_version": "1.5.0",
            "_model_name": "SliderStyleModel",
            "_view_count": null,
            "_view_module": "@jupyter-widgets/base",
            "_view_module_version": "1.2.0",
            "_view_name": "StyleView",
            "description_width": "",
            "handle_color": null
          }
        },
        "43c458d80ee246e9b9fd4fa9953b2fb3": {
          "model_module": "@jupyter-widgets/base",
          "model_name": "LayoutModel",
          "model_module_version": "1.2.0",
          "state": {
            "_model_module": "@jupyter-widgets/base",
            "_model_module_version": "1.2.0",
            "_model_name": "LayoutModel",
            "_view_count": null,
            "_view_module": "@jupyter-widgets/base",
            "_view_module_version": "1.2.0",
            "_view_name": "LayoutView",
            "align_content": null,
            "align_items": null,
            "align_self": null,
            "border": null,
            "bottom": null,
            "display": null,
            "flex": null,
            "flex_flow": null,
            "grid_area": null,
            "grid_auto_columns": null,
            "grid_auto_flow": null,
            "grid_auto_rows": null,
            "grid_column": null,
            "grid_gap": null,
            "grid_row": null,
            "grid_template_areas": null,
            "grid_template_columns": null,
            "grid_template_rows": null,
            "height": null,
            "justify_content": null,
            "justify_items": null,
            "left": null,
            "margin": null,
            "max_height": null,
            "max_width": null,
            "min_height": null,
            "min_width": null,
            "object_fit": null,
            "object_position": null,
            "order": null,
            "overflow": null,
            "overflow_x": null,
            "overflow_y": null,
            "padding": null,
            "right": null,
            "top": null,
            "visibility": null,
            "width": null
          }
        },
        "54cd764a92074ac4a1fde1aea2de18ec": {
          "model_module": "@jupyter-widgets/controls",
          "model_name": "VBoxModel",
          "model_module_version": "1.5.0",
          "state": {
            "_dom_classes": [
              "widget-interact"
            ],
            "_model_module": "@jupyter-widgets/controls",
            "_model_module_version": "1.5.0",
            "_model_name": "VBoxModel",
            "_view_count": null,
            "_view_module": "@jupyter-widgets/controls",
            "_view_module_version": "1.5.0",
            "_view_name": "VBoxView",
            "box_style": "",
            "children": [
              "IPY_MODEL_8f8989329a8941b19b97b35eee3499d2",
              "IPY_MODEL_c9b24f5408d24f1dabade2eab26abd26",
              "IPY_MODEL_814ccbd08ced4b4abc66596b093aaa67"
            ],
            "layout": "IPY_MODEL_82afe5855fb14f20bf0e262477824226"
          }
        },
        "8f8989329a8941b19b97b35eee3499d2": {
          "model_module": "@jupyter-widgets/controls",
          "model_name": "FloatSliderModel",
          "model_module_version": "1.5.0",
          "state": {
            "_dom_classes": [],
            "_model_module": "@jupyter-widgets/controls",
            "_model_module_version": "1.5.0",
            "_model_name": "FloatSliderModel",
            "_view_count": null,
            "_view_module": "@jupyter-widgets/controls",
            "_view_module_version": "1.5.0",
            "_view_name": "FloatSliderView",
            "continuous_update": true,
            "description": "I_ext",
            "description_tooltip": null,
            "disabled": false,
            "layout": "IPY_MODEL_9ffeff5994da4ebdb189401f7c00e6fc",
            "max": 10,
            "min": 0,
            "orientation": "horizontal",
            "readout": true,
            "readout_format": ".2f",
            "step": 1,
            "style": "IPY_MODEL_01f217023b3449e79fe7003283c1d95a",
            "value": 6
          }
        },
        "c9b24f5408d24f1dabade2eab26abd26": {
          "model_module": "@jupyter-widgets/controls",
          "model_name": "FloatSliderModel",
          "model_module_version": "1.5.0",
          "state": {
            "_dom_classes": [],
            "_model_module": "@jupyter-widgets/controls",
            "_model_module_version": "1.5.0",
            "_model_name": "FloatSliderModel",
            "_view_count": null,
            "_view_module": "@jupyter-widgets/controls",
            "_view_module_version": "1.5.0",
            "_view_name": "FloatSliderView",
            "continuous_update": true,
            "description": "tau",
            "description_tooltip": null,
            "disabled": false,
            "layout": "IPY_MODEL_015730d5c40b4f3a95fd899578d014fe",
            "max": 5,
            "min": 1,
            "orientation": "horizontal",
            "readout": true,
            "readout_format": ".2f",
            "step": 0.2,
            "style": "IPY_MODEL_22278068ef12405085f62f9efac4ebb5",
            "value": 3
          }
        },
        "814ccbd08ced4b4abc66596b093aaa67": {
          "model_module": "@jupyter-widgets/output",
          "model_name": "OutputModel",
          "model_module_version": "1.0.0",
          "state": {
            "_dom_classes": [],
            "_model_module": "@jupyter-widgets/output",
            "_model_module_version": "1.0.0",
            "_model_name": "OutputModel",
            "_view_count": null,
            "_view_module": "@jupyter-widgets/output",
            "_view_module_version": "1.0.0",
            "_view_name": "OutputView",
            "layout": "IPY_MODEL_2e2b5311688e445093d5da157615fa77",
            "msg_id": "",
            "outputs": [
              {
                "output_type": "display_data",
                "data": {
                  "text/plain": "<Figure size 576x432 with 1 Axes>",
                  "image/png": "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\n"
                },
                "metadata": {
                  "image/png": {
                    "width": 558,
                    "height": 413
                  },
                  "needs_background": "light"
                }
              }
            ]
          }
        },
        "82afe5855fb14f20bf0e262477824226": {
          "model_module": "@jupyter-widgets/base",
          "model_name": "LayoutModel",
          "model_module_version": "1.2.0",
          "state": {
            "_model_module": "@jupyter-widgets/base",
            "_model_module_version": "1.2.0",
            "_model_name": "LayoutModel",
            "_view_count": null,
            "_view_module": "@jupyter-widgets/base",
            "_view_module_version": "1.2.0",
            "_view_name": "LayoutView",
            "align_content": null,
            "align_items": null,
            "align_self": null,
            "border": null,
            "bottom": null,
            "display": null,
            "flex": null,
            "flex_flow": null,
            "grid_area": null,
            "grid_auto_columns": null,
            "grid_auto_flow": null,
            "grid_auto_rows": null,
            "grid_column": null,
            "grid_gap": null,
            "grid_row": null,
            "grid_template_areas": null,
            "grid_template_columns": null,
            "grid_template_rows": null,
            "height": null,
            "justify_content": null,
            "justify_items": null,
            "left": null,
            "margin": null,
            "max_height": null,
            "max_width": null,
            "min_height": null,
            "min_width": null,
            "object_fit": null,
            "object_position": null,
            "order": null,
            "overflow": null,
            "overflow_x": null,
            "overflow_y": null,
            "padding": null,
            "right": null,
            "top": null,
            "visibility": null,
            "width": null
          }
        },
        "9ffeff5994da4ebdb189401f7c00e6fc": {
          "model_module": "@jupyter-widgets/base",
          "model_name": "LayoutModel",
          "model_module_version": "1.2.0",
          "state": {
            "_model_module": "@jupyter-widgets/base",
            "_model_module_version": "1.2.0",
            "_model_name": "LayoutModel",
            "_view_count": null,
            "_view_module": "@jupyter-widgets/base",
            "_view_module_version": "1.2.0",
            "_view_name": "LayoutView",
            "align_content": null,
            "align_items": null,
            "align_self": null,
            "border": null,
            "bottom": null,
            "display": null,
            "flex": null,
            "flex_flow": null,
            "grid_area": null,
            "grid_auto_columns": null,
            "grid_auto_flow": null,
            "grid_auto_rows": null,
            "grid_column": null,
            "grid_gap": null,
            "grid_row": null,
            "grid_template_areas": null,
            "grid_template_columns": null,
            "grid_template_rows": null,
            "height": null,
            "justify_content": null,
            "justify_items": null,
            "left": null,
            "margin": null,
            "max_height": null,
            "max_width": null,
            "min_height": null,
            "min_width": null,
            "object_fit": null,
            "object_position": null,
            "order": null,
            "overflow": null,
            "overflow_x": null,
            "overflow_y": null,
            "padding": null,
            "right": null,
            "top": null,
            "visibility": null,
            "width": null
          }
        },
        "01f217023b3449e79fe7003283c1d95a": {
          "model_module": "@jupyter-widgets/controls",
          "model_name": "SliderStyleModel",
          "model_module_version": "1.5.0",
          "state": {
            "_model_module": "@jupyter-widgets/controls",
            "_model_module_version": "1.5.0",
            "_model_name": "SliderStyleModel",
            "_view_count": null,
            "_view_module": "@jupyter-widgets/base",
            "_view_module_version": "1.2.0",
            "_view_name": "StyleView",
            "description_width": "",
            "handle_color": null
          }
        },
        "015730d5c40b4f3a95fd899578d014fe": {
          "model_module": "@jupyter-widgets/base",
          "model_name": "LayoutModel",
          "model_module_version": "1.2.0",
          "state": {
            "_model_module": "@jupyter-widgets/base",
            "_model_module_version": "1.2.0",
            "_model_name": "LayoutModel",
            "_view_count": null,
            "_view_module": "@jupyter-widgets/base",
            "_view_module_version": "1.2.0",
            "_view_name": "LayoutView",
            "align_content": null,
            "align_items": null,
            "align_self": null,
            "border": null,
            "bottom": null,
            "display": null,
            "flex": null,
            "flex_flow": null,
            "grid_area": null,
            "grid_auto_columns": null,
            "grid_auto_flow": null,
            "grid_auto_rows": null,
            "grid_column": null,
            "grid_gap": null,
            "grid_row": null,
            "grid_template_areas": null,
            "grid_template_columns": null,
            "grid_template_rows": null,
            "height": null,
            "justify_content": null,
            "justify_items": null,
            "left": null,
            "margin": null,
            "max_height": null,
            "max_width": null,
            "min_height": null,
            "min_width": null,
            "object_fit": null,
            "object_position": null,
            "order": null,
            "overflow": null,
            "overflow_x": null,
            "overflow_y": null,
            "padding": null,
            "right": null,
            "top": null,
            "visibility": null,
            "width": null
          }
        },
        "22278068ef12405085f62f9efac4ebb5": {
          "model_module": "@jupyter-widgets/controls",
          "model_name": "SliderStyleModel",
          "model_module_version": "1.5.0",
          "state": {
            "_model_module": "@jupyter-widgets/controls",
            "_model_module_version": "1.5.0",
            "_model_name": "SliderStyleModel",
            "_view_count": null,
            "_view_module": "@jupyter-widgets/base",
            "_view_module_version": "1.2.0",
            "_view_name": "StyleView",
            "description_width": "",
            "handle_color": null
          }
        },
        "2e2b5311688e445093d5da157615fa77": {
          "model_module": "@jupyter-widgets/base",
          "model_name": "LayoutModel",
          "model_module_version": "1.2.0",
          "state": {
            "_model_module": "@jupyter-widgets/base",
            "_model_module_version": "1.2.0",
            "_model_name": "LayoutModel",
            "_view_count": null,
            "_view_module": "@jupyter-widgets/base",
            "_view_module_version": "1.2.0",
            "_view_name": "LayoutView",
            "align_content": null,
            "align_items": null,
            "align_self": null,
            "border": null,
            "bottom": null,
            "display": null,
            "flex": null,
            "flex_flow": null,
            "grid_area": null,
            "grid_auto_columns": null,
            "grid_auto_flow": null,
            "grid_auto_rows": null,
            "grid_column": null,
            "grid_gap": null,
            "grid_row": null,
            "grid_template_areas": null,
            "grid_template_columns": null,
            "grid_template_rows": null,
            "height": null,
            "justify_content": null,
            "justify_items": null,
            "left": null,
            "margin": null,
            "max_height": null,
            "max_width": null,
            "min_height": null,
            "min_width": null,
            "object_fit": null,
            "object_position": null,
            "order": null,
            "overflow": null,
            "overflow_x": null,
            "overflow_y": null,
            "padding": null,
            "right": null,
            "top": null,
            "visibility": null,
            "width": null
          }
        },
        "f5f20d6188184c04a733029ab9a12713": {
          "model_module": "@jupyter-widgets/controls",
          "model_name": "TabModel",
          "model_module_version": "1.5.0",
          "state": {
            "_dom_classes": [],
            "_model_module": "@jupyter-widgets/controls",
            "_model_module_version": "1.5.0",
            "_model_name": "TabModel",
            "_titles": {
              "0": "Youtube",
              "1": "Bilibili"
            },
            "_view_count": null,
            "_view_module": "@jupyter-widgets/controls",
            "_view_module_version": "1.5.0",
            "_view_name": "TabView",
            "box_style": "",
            "children": [
              "IPY_MODEL_5a562d71cbea4d16a906fe67c71c2c6d",
              "IPY_MODEL_65fa84aa6ba2426193b8577a8a13e45a"
            ],
            "layout": "IPY_MODEL_d9260fb3bde44d059af7b5933c461642",
            "selected_index": 0
          }
        },
        "5a562d71cbea4d16a906fe67c71c2c6d": {
          "model_module": "@jupyter-widgets/output",
          "model_name": "OutputModel",
          "model_module_version": "1.0.0",
          "state": {
            "_dom_classes": [],
            "_model_module": "@jupyter-widgets/output",
            "_model_module_version": "1.0.0",
            "_model_name": "OutputModel",
            "_view_count": null,
            "_view_module": "@jupyter-widgets/output",
            "_view_module_version": "1.0.0",
            "_view_name": "OutputView",
            "layout": "IPY_MODEL_ab873942925849e2998d0c9eb5b02c29",
            "msg_id": "",
            "outputs": [
              {
                "output_type": "stream",
                "name": "stdout",
                "text": [
                  "Video available at https://youtube.com/watch?v=Ox3ELd1UFyo\n"
                ]
              },
              {
                "output_type": "display_data",
                "data": {
                  "text/plain": "<IPython.lib.display.YouTubeVideo at 0x7f096a495290>",
                  "text/html": "\n        <iframe\n            width=\"854\"\n            height=\"480\"\n            src=\"https://www.youtube.com/embed/Ox3ELd1UFyo?fs=1&rel=0\"\n            frameborder=\"0\"\n            allowfullscreen\n        ></iframe>\n        ",
                  "image/jpeg": "/9j/4AAQSkZJRgABAQAAAQABAAD/2wCEAAUDBAkICAoICggICAgICAgKCggICwgKCAgICAgICgoICAgIChALCAgOCggIDRUNDhERExMTCAsWGBYSGBASExIBBQUFCAcIDwkJDhINDw0SEhISEhISEhISEhISEhISEhISEhISEhISEhISEhISEhISEhISEhISEhISEhISEhISEv/AABEIAWgB4AMBIgACEQEDEQH/xAAdAAEAAgMBAQEBAAAAAAAAAAAABQYEBwgDAgEJ/8QAXRAAAQQBAQMGBwcODAUDAQkAAQACAwQRBQYSIQcTMUFRkRQWIlJhcdIIMlOBkqHRFRgjMzZCVFVyk5Sx4vA0YnN1doKys7S1weEJJDdD8WN0wiU1REaDlaKj09T/xAAZAQEAAwEBAAAAAAAAAAAAAAAAAQMEAgX/xAAuEQEAAgIBAwEGBAcAAAAAAAAAARECAyEEEjFRFCIyQXGhE1JhgSMzkbHB0eH/2gAMAwEAAhEDEQA/AOMkREBERAREQEREBERAREQEREBERAREQEREBERAREQEREBERAREQEREBERAREQEREBERAREQEREBERAREQEREBERAREQEREBERAREQEREBERAREQEREBERAREQEREBERAREQEREBERAREQEREBERAREQEREBERAREQEREBERAREQEREBERAREQEREBERAREQEREBERAREQEU/4qT+fD3v8AYTxUn8+Hvf7CCART/ipP58Pe/wBhPFSfz4e9/sIIBFP+Kk/nw97/AGE8VJ/Ph73+wggEU/4qT+fD3v8AYTxUn8+Hvf7CCART/ipP58Pe/wBhPFSfz4e9/sIIBFP+Kk/nw97/AGE8VJ/Ph73+wggEU/4qT+fD3v8AYTxUn8+Hvf7CCART/ipP58Pe/wBhPFSfz4e9/sIIBFP+Kk/nw97/AGE8VJ/Ph73+wggEU/4qT+fD3v8AYTxUn8+Hvf7CCART/ipP58Pe/wBhPFSfz4e9/sIIBFP+Kk/nw97/AGE8VJ/Ph73+wggEU/4qT+fD3v8AYTxUn8+Hvf7CCART/ipP58Pe/wBhPFSfz4e9/sIIBFP+Kk/nw97/AGE8VJ/Ph73+wggEU/4qT+fD3v8AYTxUn8+Hvf7CCART/ipP58Pe/wBhPFSfz4e9/sIIBFP+Kk/nw97/AGE8VJ/Ph73+wggEU/4qT+fD3v8AYTxUn8+Hvf7CCART/ipP58Pe/wBhPFSfz4e9/sIIBFP+Kk/nw97/AGE8VJ/Ph73+wggEU/4qT+fD3v8AYTxUn8+Hvf7CCART/ipP58Pe/wBhPFSfz4e9/sIIBFP+Kk/nw97/AGE8VJ/Ph73+wggEU/4qT+fD3v8AYTxUn8+Hvf7CCART/ipP58Pe/wBhPFSfz4e9/sIIBFP+Kk/nw97/AGE8VJ/Ph73+wggEU/4qT+fD3v8AYTxUn8+Hvf7CCART/ipP58Pe/wBhPFSfz4e9/sIIBFP+Kk/nw97/AGE8VJ/Ph73+wguaIi6ciIiAiIgIiICIiAiIgIiICIiAiIgIiICIiAiIgIiICIiAiIgIiICIiAiIgIiICIiAiIgIiICIiAiIgIiICIiAiIgIiICIiAiIgIiICIq1LtWGuLeYJ3SRnnOw48xQlZUVX8bh+Dn85+wnjcPwc/nP2EKWhFV/G4fg5/OfsJ43D8HP5z9hCloRVfxuH4Ofzn7CeNw/Bz+c/YQpaEVX8bh+Dn85+wnjcPwc/nP2EKWhFV/G4fg5/OfsJ43D8HP5z9hCloRVfxuH4Ofzn7CeNw/Bz+c/YQpaEVX8bh+Dn85+wnjcPwc/nP2EKWhFV/G4fg5/OfsJ43D8HP5z9hCloRVfxuH4Ofzn7CeNw/Bz+c/YQpaEVX8bh+Dn85+wnjcPwc/nP2EKWhFV/G4fg5/OfsJ43D8HP5z9hCloRVfxuH4Ofzn7CeNw/Bz+c/YQpaEVX8bh+Dn85+wnjcPwc/nP2EKWhFV/G4fg5/OfsJ43D8HP5z9hCloRVfxuH4Ofzn7CeNw/Bz+c/YQpaEVcp7UCSRkfMEb72Nzv5xvOAzjc49KsaAiIpQIiICIiAiIgIiICIiAiIgIiICIiAiIgIiICIiAiIgBayt/bH/lu/tFbNC1lb+2P/Ld/aKiUw8kRFCRERAREQEREBERAREQEREBERAREQEREBERAREQEREBERAREQZej/wAJh/l4v7xq2OtcaP8AwmH+Xi/vGrY6mESIiKUCIiAiIgIiICIiAiIgIiICIiAiIgIiICIiAiIgIiIAWsrf2x/5bv7RWzQtZW/tj/y3f2iolMOg9ofctS6dM2tc2s2Uo2ZGNeyvcuOrzPje5zGvbFNGHuYXse0EAgljh1Kq8pvud9d0Kj9VHeBanpobvPu6TM6xFCzIAfI2SNknNk58trXNGDkjhm9f8Rr7qqn8wVP8w1Rev/D52im+rFzQZTz2l6np9iSWpJ5cPPxc0wybjstbvwPkjfgeWBFnO41QlzEi6S0nkq0fUdm9p4qtU+MWy2pW92wJrTja0yvYkc0ug5wwmQw17jBuMyTBFx8sqse5n2D027X1rXtZrOs6NoWnOfzAkng8KvyZdDDHPC9hL92Jzd0OHlWYM8DxDSiLpTkL5M9m9T2L1LXNX3qLqOtOY7UIZLBkioxRaXKadau6UwyTyunlhY57HuBsNPlboCk9P2b2N2p2d1+fSdEuaLc2covuRWZrM0z7UTYbUwbMx872Zf4JI1zSDuc4wtdjIQcsIr3yU6vs7Sbbl1rSLmszFsAo1YLL6dXP2fnzbsQvEzT/AAfd3GvH2zI6FtbbPZjZzXdh7m1el6M/QLuk6hDWnqtsz2oJ2yy0ohuumwMbt6J+81jDvRyA7ww4hzci6N5BeTLZ7VNjNV1jV3vpyUNUiYdTjfOZYKcf1NkkrwVhJzElmYSzQMc+N+H2WHDt0BWnYXYvYnbPStWFHTLOzMmhshmOqWLM9nNN4nkfPZifO6PgyrNvM+9yzdfjIAckq7cjnJ3NtNdnpQ3KdJ1ejLbMt1z2xOZFLBGYmljSecJsAjh0McugeSbZfYTaya7s5p2jahWsVtPlsVtes2ZXWLD4XwwGxJXEnNxkvnieItzcI3/JjcAFrT3HWwum7Qa1dqalV8KrwaHbtRsEtiHcsxW6EbJN+tIxzsMmlG6SR5XRwGA0mi3N7lnknq7SWrtvUrLquiaHWbZvPY4MfIHCV7I+cIPNQc3WsPe8eUGxgDBeHNyNq9uth5YblOnsXPWHg1tlDU3alcdZZafE4V57FN0hYWNlLXFjpZAA3GD0INTbH6I/U9Rp6bG9kcuoXatSOSTe5tklueOFr37oJ3A6QE4BOAVaeW/kp1DZK+yldMUongbNBar84a87c7r2sdIxpErHjDmEZAcw9D2k4nIT91Wg/wBING/zGsuzeU1tXbqTX9j5uai1zQbPhekTuw3nonwRu3HObx3A+XmJOGN2Wu/D3MJAcdbG8mdnVND1XXY7FeOvonM89DJzvPTc90czusLeH8YhURdL8i1KWtsFtvXmjfDPBJVilikBa+KWJ7mPje08Wva5pBHaCoHkb5OdLg2bt7Ya3Ts6nWjseCado9eWSDw6xlrXSzWIPsjIQ8uHDoFeYlr/ACWkNDLPj0W26q682pZdSjeGPuCKU1WSEgCN9gN5tryXN4E58odq31t9sXoutbI2NqtJ0efZ+3pN1kF/THTT2YJoZnwMZYgfOA5uPCITlrWABk4LThrzsjYnXdn4+Sx88+gzT6dDfqw3aQu2WPu6kxtBst9k7X71dj5i1/MtIaN3GOKDi5F0Lp+x2ga/sjtFq2maU6jqWjXo7EMRtXJnxaRI2FxjmEsxjkIbHqJD93P2Boz0lWP3OvITpmtbJWrtuAP1nURqn1Fdz1lm6KMLY2yCGJ7Y5sXC8OD2u8lo7Sg5XRbi5FNidPm2f2j2i1SsbFfS6TK9BjpJ44n6vcduxPd4LIyR/NPdVBaTu7tok5xltp0LYTZ/ZnZejtHr9CfW7+tvDtP0hliSpXirBvONnnmgO+4GPm3k4eP+Zhbue+cg50RdF6vsPs9tTsxqGv6BQm0PUtBJl1DSX2ZbleWo5r5DPFNOd9n2OOZzSAwf8tMzc4tePfkF5N9mr2xWo69rLZYHafrG467BJPz3gkUWlyeBQVxIIHzTvnkha5zSQbIOfJGA1FyG7HRbQbQUdHmllghuyTNfLDuGVgjrTSgsDwW5JiA4jrKieUfQ2aXrOo6bG98kWn6leqskkxzj2VbMsTXv3RjfIYCccMlb15G9d0K9t/s+dE0eXR60JuRyRzTSTyWH+C3XNmc+SR5a7cIBGTjHSeCyYeSyrb2i2l2m15zq2y2ma9rW/wAXMm1W03ULDW0qhYWvLN8hrntIJcQxpyXuiDmJFtHkp2a07anbKtp7K50nSb9qwW1YZZZZIatarNO2AWbT3vfNIK4aXk43pXFrQN1oufLNqGy2mT6loXiLa061Wbcio6nLf1Dn3zBz2QXn1JsNmqPc3fB5yRpbjGQeAaG0f+Ew/wAvF/eNWx1rjR/4TD/Lxf3jVsdTCJERFKBERAREQERfcMTnuaxrXPe8hrWNBLnOPQ1rRxJ9CD4QBbV2Q5HJ52iS5I6uDg+DxAOmAPwrz5ER9HErZWhbEafR3ebrwFzfv3jnps9pe4YB9WFmz6nHHxyux05T+jnbT9mb9hu9FSsyN85sbt3vIwpSPk71d3HwCUflFg/W5dGXdSazgHbvDo3o28PUOIHxqEt600/fOd2Yy74utVe1Zeiz8CPVoa5sPqcTS51GbA6Szdf8zCSoW5RmhOJIZYjjOJGObw7fKC3jqesnJaJHjr4tDf7WMqCuazJ7x5bNE7I3ZGtcOjrByDxVmO7KfMOMtUerUwjOM4Xwtv6VXoagTG+mIngZ3ovIb08cjoCiNp+TZ0YL6z3SDiRHIACR2NeOGfXhWxtj58OJ1y1ui9LELo3mN7Sx7DhzXDDmnsIK81Y4ERFKBERAREQEREALWVv7Y/8ALd/aK2aFrK39sf8Alu/tFRKYdi+7i5Ldd1zaOta07S7N2uzRq0Lpoub3GzNu6g90ZL3jyg2WM/1wsLkK2Mdyc1ru1e0JiqXH05KunaQJYZLVmSR8b3EiEuAe4xQtG647jHzOeG4C5wPKftCf/wAQ65/+oX//AO5V3V9UsXJTPZsT2piADNZkkllIHQDJK4uI4nr61CW5vcjcoj6G2MctqTeh1+SWnc3gSx01+UPhkcz3v8L5tpceDWTS9AJV891ZTq7H7OVdjaMoLtS1K7qlst9+6k208Uopw4lzuDKzN/PlO0onhnC0NyHs0z6v0ZNWttp6ZWsNsWJHMmk5wVjzjK4ZBG955yRsbDwGGuecggLN90Tt54ybR3tTa4uqmXmKed4Yo1vscLg14DozIAZi0jg6d4QbR2F/6O6//SSv/a2eXx7kX7ndu/6NSf4HWFoCHXbjKj6DblplCaQSyUmzTCpLKObxLJWDubfJ9ii8ogn7GzsCaVrlypHPFXuWq0VuMxWY680sUdqEte0xWGRuAmj3ZHjdfkYe7tKDpb3MGzZZsfq2vaVplTVtqq98QVmWY47D6dYMqF0tWtIQDYMc9pwcOLubDfK3XMdftWobWapyb63V1iGe1rc1mlNWosiqC6NOZd06QHwKgwGPLq19wa5oeeadw4ALjLZjajUNLe6ShqF3T5JGhr30p567pGA5DZDC8b7QTnBzxWXp+3ms17E1uHWdVht293wizFctssWdwEN8ImbIHzFoPDeJx1YQbv5Of+kO03890f8AFaAv33In3Nbef0bd/gNaXPtfXbkdSSgy5ajo2HtfNTZNM2pPI0xlr5q7Xc3I8GKIguBI5tnYE0rXblSOeGvctVorkfNWYq800UdqIte3mrDI3Bs8e7JIN1+Rh7u0oOg/+HT91dn+Yrf+N01fH/D2+6PUf6NX/wDHaWuf9A125p8pnp3LVGZzDGZqc00Ero3FrjGZIXNcWEsad3OMtHYmg65coSOlp3LVKWSN0T5Kk0sEj4XOa50T3wuaXRlzGEtPAljewIOjPcQ6nXuVNodlJbEdWxtBpr2U3v4b0ngtyCZo4/ZHtZPFIIxxLYpj1Fat1bkH2oqvstl0S21lGKaaayebFPmK7HyPljtueIpRuMc7da4uPAYycLXEEzo3tkY5zHsc1zXsJa9j2nLXNcOLXAgEEdGFZ9T5SdetQurz69rNiu9hY+Ca9dkhkY7ILJI3ylr2kOIwQeHDoQZHIT91Wg/0g0b/ADGsr7y+bU2tE5R9Q1Wm8R26WoRSRlwJY4GnC18UjQQXRSRufG4AglsjhkdK0rRtSQSsnikkhmhkZJHNE5zJYpY3BzJI5GEOZI1wBDgQQQCvTVdRntzPsWJ5rNiU5knsPfLNI4ADMkshLnnAAyT1BB31yiW9L1XYXX9ptOBjGv6dUfbg4fYrtKQQyCQY8mcAtjdjyXcwx4zvlzqN7nHarU72wM2k7PXWVdpdEtSzNrObTe+7RnsPlcGNuxvj3SZ5GhwAIfBGCWiQZ5HpbQ3oKstGK9chpWHF01OKeZlWdxDAXTV2PEcrsRsGXA+8b2BY+kalYpzMs1rE1WxESY568kkU0ZILSY5YiHsO6SOB6CUG/NvNqeUu7pF+PVI9RZpMcQF03NO06nGYudjA3JXVI5JRzm5xhJPxKf5MdHsaxyTarQowyXLsGuNldUgG/YfG06dKTFC3ypDzYeQAMu5p4GSMLn/aDlB1vUITXua1q1yAhoMFq5bmhdukEF0Ukha45AOSM5GVg7L7U6jpT3SUNQu6fJI0Ne+lPNA6RrSSGyGF432gknByg3p7iud1TaW7s3qMEsEeuaZco2KVmN0bxPHE6UMnjlaHRu8H8MZuuA4zAdiu+0W1TNmttdkNn2StdX2cpVdPtvjyxj7euRNjtzvaXfaiH1LO6c4PaQFyd9X7vhn1Q8Nt+HmQyG9z03hhlIwZfCd7necI++3srw1LU7Fmd1qexPYsyODn2J5JJJ3uaAA580ji9zgGtGSeoIOpfdk1YNm9Gq7MVXMB1TWtW1u1zXkfYX2ZW0oZGffNEUkceTwLtOBHUB58p2hWNsNg9mbukQyX7Gztd+nXaFYCS3ERWqQul8HYS+TjQhcGsBcW22uxgOLeZNoNduahKJ7ly3emawME1yaaeURtc5wjEkznODA57zjOMuPavXZraW/pkjpaN+7p8rwA6SlPPXe9oOQ17oXtL256jwQdL8lWz9nZDYXae/rET9Pl2hqN06jRsjm7ksjqt6EPMDzvtybz3bjgHBtSRxGCCYbYH/o7tD/SKt/ebPLQO0u02oanI2W9qF3UJGAhj7s89hzGk5LWOne4sbkDgOHBeUGuXI6klBly0yjNIJJaTJpm1JZRzeJJawdzckg5qLyiCfsbOwINle47+7fR/wCXs/4C2t/artHQ22tazsLqsrKWpUde1d+h6gwNjjkfFctiOvPEzDJJ2se9hyMyscTwlbvv4w0nUp6kzLNaearYiJMc9eR8U0ZLS0lksZDmEtc4cD0EpNqM77BtunmdadMZnWXPebDrBfvmd0xO+Zi/yt/Oc8c5QXSnyba/V2i+okFaaLXqr3ywthlbDITWY6dtmpZc9gI5uMyMe1wJwMceC6p5Obmt7R6Xqmnbb6IItN07T55o9cv1vArVezHkF8Re0MleIt94nga0AQFr+cEwC40ubYapNaiuy6pqMt2u3dhtyWrL7UDDv+TDYdIZI2/ZH8Gke/d2lZO0W3+tajD4Pd1nVb1fLTzFu3amhJactc6OWQtc4HjvEZ6EELo/8Jh/l4v7xq2OtcaP/CYf5eL+8atjqYRIiIpQIiICIvqKMvcGtGXOIAA6yVAy9F0ua5MyCFhfI8gADoGes9g+hdB7C7C1NIjE0mJLW75c7sZYSOLIj/229XDyj2joWDyd7OR6NW56XBtTAbx6XMBxiFn8biMn1DsWbqmscece4A9EbAC7dz8G3755z77u4ZJw7d05z2x4bNevt5nynb+uEAMYGsHU3d8r4o+GPW4j1FQljVXPBDnOf/FyO/GA0D0huFXrOpPJOBg9DiTnd6/skuMNOMncYC7HZheEOoSO8msxp3ffWp8CJh6y0dZ9JJPoVXbSy0tO4gEvMcbRxIAaXAfx3zHcb8QasI3S/hE18g7RvPb6fKmc1mfyWlQb9Sqxuy98moTjJy/ArM7S1p8kD0gfGF5XdctzcGuFaEDi5hDPJxnDc+W4ek8OK7jFz3Ji6JGjyzFGOyRzA7Hq3Aom4YXgtc6M4zxaeg9uWgEFQBBkfiNpldnjKc49ZfIS4nHUMepfLaEodneA44/il3Zns4qyMXEytmy8ghkcIw8mRo4xuAJ3eok7pyeJ9OFIWNo3sfukuLeHB2A7GT9BHXxWLpOjGINe527K3dfuOBwR1EO4bzcHq7eK8NoImSZcDukE738Un0dTeHpHxJPI8NqdHi1KMvYQLLW/Y5OADwP+3J2jsPUfQtVyMLXFrgWuaSC08CHA4II7QVsejadE7B6RjI84Hrb28FC8omlgObcZxbNgSY6A/Hku9RAx62+lWasqntn9lezH5wqCIi0qBERAREQEREALWVv7Y/8ALd/aK2aFrK39sf8Alu/tFRKYeSIihIiIgIiICIiD3oVXzyxwRt35ZpGRxsyBvSSODWty4gDLiBknHFbc+tg2z/ETv0zSf/8AYtOtcQQQSCDkEdII6weordnuNtTsSbcaQx9ieRhffy18kjmnGl3iMhxweKDAue5p2xhjfM/Q3NjiY+R7vC9KO6yNpc44bbJOADwHFahV85bNVst2l1xgszhg1zWGhgkkDQ36oWBuhodjGOpTvKFya0tP2Q0LaCKW265rMtlliKV8JrRiF0wbzDGQtkaTzbc7z3daDUyLa2u8m9KDYOhtQ2W2dQu61JRkhc+E02wMZqDg+OMQiUS5qR8TIRxdw4jG8Nt62xbdg9AksR7Tt0l9y94I+q3RRq75hYuiTw9zxzDot4S7m5x3RHnjlBxyi3PyQ8lmnTaHa2r1+1cq6JVmFeCtp4j8P1G3luWxOnBjZEC4M/jES5dGI8uk9T5Mtn9d0PUtb2Zn1WGfQ2ia9pOseDOd4HzbnGzVmr8N0MhneQ5zieZeMN8jeDQqsXJ9sTqOv3PANNq+F2xE+XmucrxfYoy0Ofv2ZGM4F7eGc8VtnkX5HtF1XZW3tFqeqWtMbp+rmvNKwxOg8CjgoylkVcwGWS9K+06JmH4Bew7jt0tdJ8huyWha5teKWi3dpdL05ujyvNltivW1V1qGWNr8zQNkj8Ge10bt0AcR0NxhBziit/JhV0GSad+uWdSgqxV96GLSmQut2rBkYOaa+y0wxNDC9xL8Zx09R2dtnydbN39k7e1OgP1er9Srletao6qaz+cbPJXjEkLoMlrt65Ccl5GI3jdHAkNcU+Ta3Ls1PtQJqoo1tQbRfAXTeFumc2Ah7GiLmzH/AMwzpeDwdw6M0ldF7P8A/R/Uf6Ux/wB1pq50QEREBERAREQEREGXo/8ACYf5eL+8atjrXGj/AMJh/l4v7xq2OphEiIilAiIgLY3I3s81z3apOAIKxIiDuiSZoBL+PS1mR8Z9C17WhdI9sbRl8j2saO1zyAPnIW59Ve2vFX02LhFBE0yHta3pLh2vfkntyVm6jOYjtj5/2X6cImbn5MzVNaLy6d44cRHH1hrujDeGXuJ+f1qLkl3MyzOcZHcNxuS9ufvQR730gcT2hY1i2GkOIJcODB0lhI6h8JjuyVHXdTEeegydBLuLYyeOCM+U/wDi96y44+jTLPuWhgGUADH2Oq3h5OeDpD0MZnjngPRnioq7bks+RkBjeG6wODGjzWNA4u+ft6FHmTey+RzvLOe2R+Osk/H6B35TW+hgG41w8iJnlPf6fyfSeB6h1q2IcTLNMkcIAx0j3rPKkeePEu6M+rOOPELxYx87xHwaD960nDQegyydLj0dHT6crwggc44GDI7pdwLIx6Xffkd3Z2qf0unugNaDxyS93vnHrcT044/P385ZxinHCcn0yu2KPcAGCP6zscOgdAJz0Y6erhj8ELmlri5x44PHgB2ehuOGB61NR6fw3iP/AB2D0L8u0SG+kBZ/aGj8Cni6+TGI9/ea0DDHEB8fVmNxIy09gUdZe7g45x0B5BHTjDJOGcdHldWV8XoyBx6ugev/AEUOLRY4tPFpJBYevtb9HUfiV0Zd3hTONM6aMDyejrb2g9gA6BnqXvVjFiCWm/HlxncPYekY9TsFYrMOblpJHEsz0jHTG70jhg9mOsL2ru6Hj3zSCPSOsfGCD83UV3bimtpGFri0jDmkgjsLTgjvC+VO7c1RHbL2jDLDRIPWeDvjyM/1lBLbjNxbHMVNCIi6QIiICIiAFrK39sf+W7+0Vs0LWVv7Y/8ALd/aKiUw8kRFCRERAREQEREBbi9xb93Okfl6h/lV5adWVpWoz1Jm2K881aePO5PXe+KZm80tO5JGQ5uWucDg9DiOtBZuW/7p9c/n7WP8wsLfm0Wx2obR8muzEelVX6hLTuXY54oCznIXOntsy9rnDdaCG5J6BIw9ByuWLdh80j5ZHvllle58kkjnPkkke4uc973El7y4kkniSSpbZ7a7U9OY+KlqeoUI5jmSOnZs12SnGMyMgkaHnHDjlB0ly7bIy6FyX6Tpk80EtuDaUGw2u4SR17EtTWJH1DK07r5Yt8McRwDg4DOMnD2j2ZvazyWbODTqdjUZKOpaiLEFKN09iLft6iATBCHSEeXGeA4CVhOAcrm2xrVuSuKb7dl9RkpmbVfLK6u2d2/mZsDnbglPOSeUBny3dpWZs5tdqemsfHR1TUaDJjmRlK1ZrslOMZkbBI0POOHFB0Fsppsm1PJgNG05vP6ts9rJuSUGFnhNmtN4XiWFhOXjdvy4HSTUe0AktDs3kG0G5sjsvtPrWsVpdMZf07wCjVvMfDZt25I7bGs8FkAlawySxcS33glf71hK5i0XVrNGYWKtmxUsMBDZ6sskMzQekNlicHAH0FZO0m02oam5r72oXtQfGCGPu2J7Dow7G8GOne4tB3W5x2BBvPZH/pBrH9Kof7nRV+/8Pf7r3fzTd/vaq0HHrFptV1Jtqy2nJJzr6jZZRVfMAwc6+AO5t0mI2eURnyG9gTRdYtUZefq2rNObdLeeqyywy7jsZbzkTg7dOBwz1BBvz3I+xVW9p2vao3TKeu6zpleEafpN5okrF8rZi6eWu9wbazuANYccYnAEF7S3aWoaZtLqPJ5tBW1HTGxanPY06eppVGrUgsNoR3aLy/wGk3nQCatwjnQXnmH44ALjPQNcuafN4RTuWqNjdLefpzSwTbjsZZzsLmu3TgcM9QWfT221eGxNbi1fVIrVtobYsx27bLFlrQAG2JmyB8zQABhxPQEG7Nn/APo/qP8ASmP+701c6LOZrFptV1IWrIpvk511QSyiq6XDRzroA7m3SYY3yiM+SOxYKAiIgIiICIiAiIgy9H/hMP8ALxf3jVsda40f+Ew/y8X941bHUwiRERSgREQWnkxrNde59/COnFJO4+kDdb8eXE/1VY2XXPL5jjfmkJA4+S0e9B6sNHzkKu7LyiHT7L/v5poogO1sbd/HqLntz8akZLQjiHDLg0YcelrRwz6STnv9Cxbecp/o16uMXpq18RDdacynr6dwfxeHviev6FFVYy4ggb8n/wDHGCenH3x9P615U2mVxe7o6R0BrWec7s4f6dqzhKX4jiBDevcHlP6skn3reP79C58OvLymbhxAcJZz7554xxD0Do4di99PqZ4jJ3vfSHjJJ2ho4brf34KZ0bZOaUDLN1vpHp7OG8fWrrpWzDYgMjJ7SqNm+I8cr8NN+VW0vSTw8nA7Or+t2n5vWrLR00N6f3wpqKgG9STRYWHPZMtUREeGEGAnHUOn/QLztMBB4fvhZO7j9/1rxcCVVbqle1OoCD6lTdbrlpLvV8y2TYgDvSq1tFS8gnHRx9a1aNnNKduNwqmk3SDkE9IBH8btx6fnyVNsLd4FvvJOrPRnPR6nZGP4yqRdzcm8ODXOw4dh6MH5vnU1Vmy3c6AeId2E8M46vK3SvQmGKJfG3Fbeqsl++gl3D/JyDp+U1vylSVsbUGeEUpRjyzE4kfx4sO78tIWuVo0TxXoo3RzYiIr1IiIgIiIAWsrf2x/5bv7RWzQtZW/tj/y3f2iolMPJERQkREQEREBERAREQEREBERAREQEREBERAREQEREBERAREQEREGXo/8ACYf5eL+8atjrXGjfwmH+Xi/vGrY6mESIiKUCIiCeY8sp12jpkmfJgfl7g+PyF92HGV4jByBxce3H/wAer1BYuqv3Yqw82BpHoLiTnvcVPcnOl+H2mRAZBJLx/wCmzq4dAPR3rHnxy1Yea+iR2e2ZsXSBGwiHI8rqcR1/xsdy2xs7sNBWaC9u87AJJ7fpUqaclaINY+OEBuA1rc4A6s5ACq+qavcZkCcHp9B9YHH9aw55Tk24RGK3OjibwAHq4cFhSSAAkd3T+tVCtq8xPlEnoyenuPd86lY5y5vz+pUTEtETCTL2gcehYdi2wffAes44Yyo25acGkA5x1Ku2XPk98/d48PVnoXMY2iZpaTehz9sZ3hfhvQnA325PZ1/GqtUhibxPl+viMj0d6k4qsD8ZYAfRkd3HjwUzrxhHdKcZE1wyCD6lG6xUBYQs2lp4b5cZcw46N4kH0FpJWXLDvt6uniFxOPbzBbRe0cXMzFh96/t6M/v+oL00+UEbpPH3p7QSMZz6vnaFN8q+llrRIB0OVR0uxvAO6yMEdpbw/UW/P2L1dU92ESwbI7cqW7SrJHT17pcO7fHx4eqFqEHNTSRfByPZ8TXEA9wCtlOxuvBJ4b4yP5QNzj5b/nUHtfDuW3/xw13xkYPztKv0zU0p28wiERFpZxERAREQF8cy3zG9w+hfaIleeQnk9g2k1Y6bLM6qwUp7HOxMje/ehlrsDN1/DB54nP8AFC3v9aJQ/G9v9HqrXnuKfuod/NF3/EUV2yoS5p+tEofje3+j1U+tEofje3+j1V0sigc0/WiUPxvb/R6qfWiUPxvb/R6q6K1rVa1KB1m1ZgqVo9zfsWpI4YIzI9sbA+WVwY3ee9jRk8S9o6SsqGRr2h7XNex7Q5rmkFrmuGQ5rhwLSCDkdqDmv60Sh+N7f6PVT60Sh+N7f6PVXSyIOafrRKH43t/o9VPrRKH43t/o9VdLIg5p+tEofje3+j1U+tEofje3+j1V0siDmn60Sh+N7f6PVT60Sh+N7f6PVXSyIOafrRKH43t/o9VPrRKH43t/o9VdLZRBzT9aJQ/G9v8AR6qfWiUPxvb/AEequlkQc0/WiUPxvb/R6qfWiUPxvb/R6q6WRBzT9aJQ/G9v9Hqp9aJQ/G9v9HqrpZEHNP1olD8b2/0eqn1olD8b2/0equlkQc0/WiUPxvb/AEeqn1olD8b2/wBHqrpZEHNP1olD8b2/0eqn1olD8b2/0equlkQc0/WiUPxvb/R6q515W9kIdE1u7pMbzYZSdWAmkYxr5Ofo1bJLmsGBg2C3h1NC/pAuA/dS/dlq/wDKad/k2mqYRLWQiaPvW9wX2iKUCIiAiL8KCZ2kZuthHZXi+do+kLZnuXqGTdtEZETYo2+guL3E9wb3Ki7Z1/Ihdj30LB8bWhvHuat3e5f0pv1IsPdwEt17c46o4YgcdvFzvnXnbc/4f1bcMKzRW3+2sddzm7xJ81vTw/Utc7Q7XWowJHVt1kgy3ePlbva4dWVuvbHZDTmlzjVEjnZJLsl3HpIJ61q/afZ2tIA0ts7rDhrCXHGfvc9OM9uVl1Trj4rls2Y5z8HCF2e2wEjsOaY35Aw73p9APUVtvZuuLMBlHZx7QtU6VsU2WQNbDKQHNJ3nOGMdBOOhb02Y0416rm9YAHxnp4dQUbe2/ddYY5VWSl62zmwfR8/78VrvaHWnR5PZwB6srZ20sfOZAOO7h8faqFrOhGTHkNeB29I9Sp1TF8rM8ZrhT9Uu2o6zbIsEc44gMHUB24++PZ6+lfmg7QXcl3OmUtDCIy3JeD0jI96R05KtlXR4x0wRnHUT/oetWDSaDeG5XaOPV0D/AMLXnvwiK7WbHRn3X3PjZjap78NlifET0Eg4J9Y6CrvTk5wDgcHjxBHZ2rApUWDi5rc/Fw+bgpaowZwOzo6v3wvPnK544aZwpAbd6UJqrxjjg960VBCYnu4cMj4nN/0Iz3LpbWIxzLwcZLSfmXPltoFmRnU8vGOw8SD3rf0k1EwxdRF1Lz5zyy3o4s+dpC9NvW5dXl+Eg+drv2lgyv3ZTnqkj/suGfnCk9suNWoesc83ucP9ltx4yj92bKPdlVURFrZhERAREQEREG7fcU/dQ7+aLv8AiKK675RnFujakQSCNMvkEEggirLggjiCuRPcU/dQ7+aLv+IorrrlJ/8AsXUv5rv/AOElUS6ah9zftlHpfJrT1m86zPFUi1KSZzPstl7RrV1g3edeN8jLRxcOAW159t6jNB8Yt2c0PqU3U9wNZ4SarqoshvNl4bz3NkeTvYz19a5w2T/6Iv8A/Y6n/n1tXvabVq9TkoidPPHC2fY2lWi3zgy2bOjxRwwxjpfI57hwHQA4nABIgfPup9oIdV5NLupQNkbXvVtHsRNmDWyiObVtOc0SNa5wa/BGQCfWpTlosabHstpbtSm1aCsbGjBj9HdC20bDoCI2SGfyfBj5W8Bx6FQ+U3/ovF/M2zv+Y6Ypb3V/3F6R/OWz/wDdOQXr3RlnTY4tH+qE2rQtftFp7Kx0l0DXSXXNn5qO7z/vqBAfvhvlcG4Vh5TOUWtoRrxvparqVq6LDoKOj1JLluWOqa4nk3GlrGRsNqDJc4e/GMrW/uzP4Ps3/TPR/wCxaVj5UOUXUYteo7LaPBRdqd6m+9Nd1N0vgdKjHJIzLa9dzZbdhxhmAaHN3S1mctc5zAk+SvlgobQW7WnMralpmqUGMkn0zV4G1rogeI8TtibI/MX2aIcSD9lYcYc0nA2o5etF07UNQ0uYXnX9MdTZ4LBC2WfUJ70Imig02GOUyWJNxw3t5rGtOMniCaByeV70XKlbZfuVbtrxQG9LUruqRBh1CiWxmB9iV2+Bx3i7iHN4BZ3JXp0EnKbtbZfCx89atozYZXAF8In0+uJebJ96XCNgJHHAI6CchsPkl5XKG0cturDX1HT7+nGPwjTtWgFa5HHKMsl5psjxzZ6OneHDIAc0uitsuXGrp1izAzQ9p9UZRdI2zb0zTnS0oHQ/bWmzLLG1xZxyW5A3XceBVY2RaByr6zgAb2zFQnH3xE2ngE9pwAM9gWVslt5r21R1Gzpc2j6Toun3LNFk92Cxev2pqrWukmfEyzDDVgLJYyGu3nDJzkcUG19gdrKeuadBqlGUy1LTXFjnNcx4LHujkjkY7i2RkjHtI6Mt4EjBOj+VLVL+1O2I2LqX7WmaVptJtzWbFJxit2TK2F0dSKfdOGbtmqMA4PPTFwfzbWqX9wj9xNP/AN1qH+MlVf0a+3ROVjUWXHNgh2m0up4BM8kNlsQxVIxXLyA1r3Pq22gZ4u5kDjIAgtE/uWdlA0GvUu6fZaDuXqd6+LcbiMc4wzyyRB/E/eY49Cz/AHTh0upsy1uqWtahpRWKUfhGjvhbqLpWtc1hc+cbhY7BLuGTlTPulNtLez2zN3VqYhNqq6mGCdpfFie9WgfvMa5pPkSuxx6cLWnu3LTp9gYp3435rGkyP3Rhu/IxznYHUMk8EG6uUnbvT9nqXh1+YxROkbFFHG10lizYfncgrws8qSU4PoABJIAyqbs3y86dYvV9PuaZr+z8954jpu1+iacN2Y4xBBMJHt53ymDDt0Eva0ElwCqnuhAwbb7EutBvgIt6iGGTHNDUCyv4Nne4CXnxV3OvLeHQvX3ehj8VA3puO1XTxRDMmc3N9/8ABw3yud5nnx5PHj6UGxeU3lW0vZyzRr6i+WAamLro7Iaw14W0I4pJTYcXh4yJmBoY15ceAGSM+Wy/KxQuaZc1iavqWkafp5JfPq9Z1bn4Axr22asQc580L94NbgbznENDcnC1z7oSiyztdsJDZjjmBtaw58bwHRulig02RpLeggSMa7s8kL1930yY7HvMe9zDdSoG3u9Pgu/IB6B/zDqvTwzhBJs90rpTaz782k7TVNNET3wanZ05zKF7AzGyrYbKW783/b5zca4nBIPBS3K9tJpeobES6rak1arpF2pp1kyacYY9VjisWqj4RHvl0THl74mvGSN0vGV4e6M2m0uHYi/ILlRlW/pMsOn7j2Flp08GK8dNjPtuQWkboIa1pccBpIofKZ/0ai/mDZ7/ABGmILby9W9Hj2NqSX7OuwaXjS+bn0x9duqneh+w86+Uc3xb7/HX0LY/KRt1Q2fpi5dkeGySshgggY6W1csyZ5utVgbxlmdg4HADGSQOK0L7rj/prR/J0L/DhZXur2WhtTsg+K3DQYbOoxwXbUPhFSvflbWEXOwlzWl7jzbWkuGCC4e9KDZ3J7yx0dX1A6S+jq+jan4ObMVHXKppz2qwODNWxI9sgBBy0kO8iTAIY4ib5OuUCnrrr8ddtiGbSNQmo2oLTY2Ssnh6XtbHI8GBxDw12RkxP4cONAh5Kdes69pOt6ltBRtnRH2zHFV081XyR3YealjdKLLsjAGMg4y7tVZ2512HYrbuXVbD+a0fajRp32DkBo1XRYd9pDet74RHG0DJfJfPDrQbhq8o1GXVtR0hjbLptEqRWb1kMaakAmjEkcG+H84+wYt5+61hGI3jORhUTUPdI6bVLJbWi7U0dNklZGNYt6ZJFpvl+9kL3S86YyOjEZccHDTgqI5Ebx0HY/UNsdRidJd1mS1rlljMb7o5z/yNSJ5zuwGN0bm5zueFO6hhUvl/1TaPVeT+zrF6xo1TTr8OlWYtLqV7Mto1rV6jJWEmozWQ1tgB8b3BkJBDXDhnIDrZjg4BwIIIBBHEEHoII6QuBPdS/dlq/wDKad/k2mrurZX+AVP/AGlb+5YuFfdS/dlq/wDKad/k2mqYRLWqIilAiIgL9Y3JA7SB3nC/Fk6WzeniHbLH3bwUT4TC9baxBrYRwwY+3OCGt6fjK3Z7nchuz8I63WLhJ/jGw/8A0AWl9vo8RtA6Wtc3uLR+/qWy/c4amHabPWyN6vbe7HXzc8bCD8pkq8rZzh+709ce9y2nfia/g4ZHbw7lWtT0uufvWjJ6fn4n0rK1XVMA9GOrH+v79Sp+r6yRnyuPHo6B/vhYpypvxwWSnHAzDGloc44w0dPbx9SnL0LYoCMjLsHHV6BjrK19sBcbJbke8jDIS4Z7d5o6/We5Tmu6+xzeDs9IHHox8y6uvKezmkFqzQHZGO0+tQUs8e8B0Hq7Dx4qQdaaRxOc9p6fWoPaItDBji5zsADOTnr4dHrVMYxK6k5Vijd0gHB6cDu/fsUixjW+9AAA4cMdwVT0e6WjGTkcD28e3KnWW849Xx5UZRPzcVDO3SekjPRkdXRw6OBWTTGMfqPUsOCXPD1KTgcM/F+59SnGFecvDX5MRO/JK501SfN0Eec7Ppyf/C33tnYDKsrz0Brj3Bc7yTNks77TkY/f/Veh0seZefv8QyLxy5x9LD39XepLafjSqu/9SYd4jI+YKLsnIf6A3/Tj84Upqw39Njd8HP8AM5rh9C2R5j6ss+JVlERa2YREQEREBERBu33FP3UO/mi7/iKK3nyyaztbO7UdF03ZiKepcr+DV9dk1GnFHEy3UYyeeSi/7KXQySzgDOTzTSGuBwdFe4teG7TuJIaPqTd4kgDPhFHrPqXavhUfwkfym/Sol0pHJpya1tM2Wr7M2Ay5XbSlgtDyxHO+4+WW1uHIe2Myzy7pGHAbuMEcKro3uaNna7JInjULsbq9qvAy9afNHp0NxhZM3T4y0MrvLTweQ5wOCDnitw+FR/CR/Kb9KeFR/CR/Kb9KgVLWOTPTbWzzdmJWTHSmQVIAxshE3NU5YZYhzwGch8EeT1gHtXttvyeafrGnQaZabM6rUlqyxiOQsk5ym0tiLngeUADxHWrP4VH8JH8pv0p4VH8JH8pv0oOaeV3atu2FvZ/StN07WBYqbR0b97wyjZqs06rTEolNqWdojD8SkgNc4Es3Qd5zQ7bnKlyRaXtDYrXbBuVNQogtg1HTZ3VbscRcXGHnmtOY8ufjIy3nH7pbvOzevCo/hI/lN+lPCo/hI/lN+lBrDTeQPRKmoUtUqHUqV2iSXz17k4k1Pen597dWkkLpLrXyZ3gXDeaQw5Y1rW2/QthqVLVr+tRNlF7V21m2nOeXRuFSJscXNx4xHhrRnHSrB4VH8JH8pv0p4VH8JH8pv0oK9R2Fow65Y2hY2X6o26bKcrjITCa8boXNDYehrsws8r19qpT/AHPGgG/YuAajHDemdPa0qK5Yj0m3O55eXz1GEGRpe5x5ou5sAloaG8FtbwqP4SP5TfpTwqP4SP5TfpQU7kv5MaGzj7ngEl1le/Pz3gEsxfRpvJcSKFfdArtdvYPFxIYwZw0AZPKhyb6TtLWbV1Omyy2JznQygujsV3PADjBPGQ9gdusy3O67cbvA7oxaPCo/hI/lN+lPCo/hI/lN+lBpeX3NemzM5i3ru1mpUeH/ANOv6o6Sj5Lg5g5qOFjvJLRjyuGO3iqV7ovWotpdPr7H6Zp+rC8NXqwSNnp244aVOm6SJ1yS1K0xSV8Bjg8POWnJx0Hp3wqP4SP5TfpTwqP4SP5TfpQQXKLsPp20FI6fqNZtmuXtkb5T2SwzMzuTQTRkPilAc4ZB4hzmnLXEGn7N8hGkVb1fUZ59X1m1QeX0n63dnusov4EOrRPwwOaWtILg7dcxjhhzWkbN8Kj+Ej+U36U8Kj+Ej+U36UFf2n2HpajqOm6pO2U29FfZfUcx5axrrbImS84wDEgLYWYz0cV68pNqvDpNyS1p8+qVWwOE2n1YBantRPIa6KOsSBKcOzgkYDScjGVN+FR/CR/Kb9KeFR/CR/Kb9KDjHaTSNlRRtVNl9ltXt6/qcD6MXP1dW3dOZc+xTTST6o4xVMRPkbzrTw3sOc1heVbOWXVWt2QOwVWnqtvXYaujacxkdG0K1l1OWg6W5FaI5kVHNgkIcXcC4ZAAJHUXhUfwkfym/SnhUfwkfym/Sgpe03JnS1jQauh6iJJIK8VIP5iR0ZdLUhDAQ8DO7nJx6lNcoOxena/Sdp+o1WW6rnNeGu3mvilYHBs0ErCHwzAOeN5pBw97TkOIM14VH8JH8pv0p4VH8JH8pv0oNcbIci1HTrUNr6p7Q3jUfv1q+o6lZnqVyGFrRHX8ljg0E4D97GfQFN8rPJppm1FWKnqUUkkUFgTxmGR0UjZBHJH9sbx3C2Q5b0Ehp6grZ4VH8JH8pv0p4VH8JH8pv0oMPVtAqW6MmmzV2SUZqzqz63FrDXdHzfNtLCHMAbwBaQRgEEEArVem+5q2eiryVJfqlfrOjmZXr37k00GmiYEOdp8GBHBKN4kSFrnA9fE53B4VH8JH8pv0p4VH8JH8pv0oIfk/2Xj0XToNNis3bUNVpZHNqE3P2dzJLY3S7rRzbBhrWgANa1oAAAXEPupfuy1f+U07/JtNXe3hUfwkfym/SuCPdRuB2x1cgggyafgjiD/9G07oPWphEtbIiKUCIiApDZqLfuQN7ZWfr4lR6svJlVEupRZGWxh73egNbjPo4uC4zmsZl1hFzC2bfR+9HoI49PlvByR6gvPkO1Z1bVRCThl2KSIjq52NrpIzx6/Jc3/8xe23R3nxjp33Z+LBd3eUqZUtuqy1rQzmC1HL6xHIHEeo8QvNw5wr1ejPGVt+65cOTx4fv1KmXrLpX7jeJzxIJwP91eNcpCXecziHeU0jrDm5bjvB+NUerKyvnfDiQ52Q1rnO4HhwHox3rFHlvxy4WTZ3T9yM5GQ4cenr9IUNqdcV94NMjmucThznOx6t4nCz6e1sJaQ2OY7pwd6N8YB7PLAWJa1yGT/tDh2OaT6cjKs7J9FmPKHmHOYDujzePT25ysqCs0YxknHSSSfi7AsK1qUW8d1h6e0AZ60j1ljRxAHre3/VROOXyh1dMuxAQd4DB+dZNG1g7ruB9fSoK5tKA4NbXmkJ6mgY49eXEcF7RW3yFmY90ucBjIJ6eIOOHaoyxmuVU5crdUmwc4Pr7P8AZS1SXOOrt/0/WoiozA9Q7z/4WfR6fR9CotzPKB5X7Yj094zxfhg/rcP1LQ+lN4ud6/1FbT5a9Q3ubgB6Mvd+oZ+dayosw1w7Gkk+kkBen00Vh9Xn7+c2U88Xelre7ipmPD9LlaelrmuA/Idx+ZQ+Mud+Rw9HEf7qV0/BpuHRvCUD1lr+HzK+Z8fVT6/RWERFtZBERAREQEREHy9gcMEAjsIBHzr48Gj+DZ8lv0L1RB5eDR/Bs+S36E8Gj+DZ8lv0L1RB5eDR/Bs+S36E8Gj+DZ8lv0L1RB5eDR/Bs+S36E8Gj+DZ8lv0L1RB5eDR/Bs+S36E8Gj+DZ8lv0L1RB5eDR/Bs+S36E8Gj+DZ8lv0L1RB5eDR/Bs+S36E8Gj+DZ8lv0L1RB5eDR/Bs+S36E8Gj+DZ8lv0L1RB5eDR/Bs+S36E8Gj+DZ8lv0L1RB5eDR/Bs+S36E8Gj+DZ8lv0L1RB5eDR/Bs+S36E8Gj+DZ8lv0L1RB5eDR/Bs+S36E8Gj+DZ8lv0L1RB5eDR/Bs+S36E8Gj+DZ8lv0L1RB5eDR/Bs+S36E8Gj+DZ8lv0L1RB5eDR/Bs+S36F9saAMAADsHAdwX0iAiIgIiICuvJQzEs0mOiINB6hk9Hpz/8AFUpXrkmJJsjOA2OMgfxnvIJP9UKjqP5crtHxwndqBvW4mAElkTzj+oQP1HuVK1it5LGjscM+tzQPmCvmrNBsOfk7+JGD0YDRnPT98fjKqluZrHMJAw2Rg9QcG8T8ZJWDXdxDdnVW29yV6yy5p7Yi7M1M+DPHXuxjEUnxxgDPa1y99T00NsCRrQ5uRvjtGR5Q9IWpNitVdptmxa4mFhZHKwffsdKcPA63tAJHrI61vXRbUVhrZGPa+KRm81w4hzSM5WbdrrK/Vfp2XDzNWNo3gAFW9oXVT5LoI3O6yWjJ+NWbUxg4HQQf3/WqtqNORzj5Ocfv0JGzKOGrGaVZ2m1QTiEZOc5OR09QPoXvT0xvUxjR6GjhlSElR7eluPiX7GHDpymWyVmWU+j4ZRY3jgEnrX5BWzMHY4NBx61kxgk9PQs1kYA4dCz5ZTKvLiH23H7/ABL0sW2wxl7jjAJ/ftWFLOG8cgAKs7Q6mZcsB8kfOfoCYRcqZU3bS6ZpJJT0nOB2D/wq9UGGPPoH62f7qV2mIDD6cN+UQFHMGIvW5v8Aa4/qXq6vhYNnxPVnS49oePi6c/OpGgf+T49TmnveRx+UFG1vKB7fKH/7QpjTB/yEvXgHPb5L4nf6Fd5f5hX/AKVYjCL6kHlH8o/rXyt0MgiIpQIiICIiAiIgIiICIiAiIgIiICIiAiIgIiICIiAiIgIiICIiAiIgIiICIiAiIgIiICvvJH0XPOEcTvTgOeP9VQla+S3UBDf5tzt1lqKSHPUHuBMZP9YY/rKnfjeEwt1TWcSvep8bOR1te7HaHEH4+OAqLrEDy9rQx2HYc4Y7C7APDzmgK77QtOQ8ENcIi3HaHhrgSB1hw+ZRm0MrPsUzXeQ6FxcCc8YsyMB6yQXY9YWLHib/AEhsy5hCVIeE0TuPOgPyMf8Aajm3ujoO8QvzYfbKXSn827L6ucuYPfRlxB5yPv4t61g7G2i+Uxkk53nD1PG64erGPnUVtQ1sc8jGnLRI9jT/ABWkgfMAu88Oe2XGOfHdDpWjqsVuBk8b2vY4ZDh0dPRjpB6eHoXnPa3W5ceHAADpK15yKWN6m6PPvZXj9T//AJK1aq6QeTukDHAtPDI+dedPGUw9PXneMW+71pu7wPADq6SfV1rAMm91jj1LBkLvTjHR/r618sl3el2fi9HUFFLu6KScZHqWPfvhvWo+xcPQAsJzC48Tn1qurVZZW/bdp0nDOG/rUdbjO6ccOHD6VJNhwsTURhh9R+ccF3jNOJUbahp5tg86aPPqz/4UdqTiIY+0uB+cn/VTu0TAcDsIx/V/8KA1/wAmOIfv70cPnK9HTNxEMG6KmZZWncS70SfNk/6frVg2dbmtO3pG6/h6Cx3+yrOlyZGevDXesxkZ/f0q07HvAlfGegnBz2OGAT8WO9NvhGFSqFpuHuH8YrzUltFS5idzeoHGfV0fNhRq9DGbi2GYqRERdIEREBFP7D7Os1OWzCbkdSSvp165E18Ukrrj6MLpnVImxkFsjoo53b3lECF2Gu6BjaDsxqOoM5ynpuoXY+P2WpWszxAt4Ec7DGWbwPVnPBBEosjUaM1aUwzwT1p2gEw2Y5IZmgkgF0UzQ8AkHiR1FY6AiIgIiICIiAiIgIiICImUBEWRVoTzMlkjgnljrsD55Io5Hx143HAknexpbCwngHOIGUGOiIgIiICIiAiIgIiICIiAiIgIiICIiAv1jiCCCQQQQR0gg5BHpyvuvA+Q7rGOe7sYCT8eOhS8GzzwN6aRsI80YfJ3A7rfjKC0Uta8Kj53yQ8RhkjT07zQTvfR+X6Fg1bIMjGyNG6+PBbnhxDuzoyMg/kpp0EVeN4YHDfaQXuOXv4HGMDDRk9SjnVZDWEoIO6924PvuByRjp3evjwWHZjUtmubjllwV69Bjp2yOfNukA4wxgIHve0+k9ypV60ZZOs5OfVxUjrmo+EEE+RgDLR0B3WcKI8IY3yW5c9xxk9X0BdRE+Z5lzMx4jw2lyIWC3whnUHxOHrc1wd/ZatsSt3m59HetXcktIxtdngXtac9pz/utnVJOG7/AOcLxuom85mHpaorCEJqFbGTjCi5YcK1X2N/2UFcaM9Krt2iyz0I1i9zHnoQs3V0PIjqUbqXRj08fiKz5X/v/soq7JwJ4qcYRKqbQyBufRn9Srutv368bx1O4/1gpPa6TDXH0KArz70AaeIGWn0Hpae7h8S9Xp8fdiXn7srmYe2i2Qx2DxHScdhGCe79StFN/NStlbxb5OcHgWO4gjtHT8lUeGTdPpHX1H0FS+k6sGeS8F0RzjHvoicEj8jPH0FW7Ncyqw2Uve2WnCWv4W0+9YN7zXtyMYPU8dnZ8aoKstbaXFSes17XRzxlu68cchwIc3q3wesHtVaVnTRMY1LjdU5XAiItCkREQb75INvfAq1TVdVl0+7VoBmj6ZSr1aUuvVX4YDYbIGslipNqmRrsvcZCWDd3nAvwuX3atj7mpVZRr+m6pStwwUq0d0O0U04pP4W2qxkbqxmrbsjQ3fyZIvKADgqZsLWju6JrNFlStLqUAp6lWm5oOvuq1Zdy/DXm98AyJ0cojbxcHT8DwxUecs6habvST3bluWGJr5pHyz2JpCyKJhmmcS9xJjYN49G6OACJXbYra1+ovi0PWJ5bun25GwwW7BM17R7c7tyG5UtSZlMHOOjbJC9xYWZwBgh1F1qhJTsT1ZgBPUnnglaM4EteR8bw0kAlu8w4PWMLaGznJdqJpWWs0W+zaPS9W057HWCxlCSlK2Tgwy/8taEc9fee5riNyZhBIDmmo8sdhk+s3J2ajU1Y2CyR92jA6tUlmdCwPbBE6STLGloG+Hv3+LskkoLdrvJTp2lGo7U9pIqcV+lWsRNio2bFjflaTLzkUMhENWMmPEzjmQl4DW7hJjrnI/dZtAdBbYrvDawuu1F2WVmaZu5dekZvFzAHfY9wE+WQN7dO+Pb3Td6Gzd010M0U7W7LaUwuheyRrZBJfcYyWEgP3XsO704e3tW0tS22oVdqhzl2rHV1LY2pQ8P+w2K1Sy988sTrIdvRGHdxvNeC37JHvYaSUQ0/d2E0+xSuW9I1z6rP0qAWLdaWlPRkNTeLX3ajppHCaJnS5hw5rcEnJa10TyhbHHSINMmNgWPqtpFfUN0R834OZ2h3MZ33c6Ggt8vyc8fJC2TtFFrtKhdfa1nZSpXnoWoN3T49HNrVY5o8Op0xTpNmLJRw3yWbvkuIGMt+dstn27SaRoVqpqekQM0zRIaGoC/aZXfRmrMja58kbmlzoziQjoJAYW7wfkEoWryMuk12nog1Eb13RI9T8IFckRmRs48GERnG/wCXB9s3m8H+94ccXTeSyC5bj06nrtW3dibNLqjm17LNO0qtXa3nZm6hIQy+GyuEY5sN3i4E7gDiNuVtboN270yaO/VfTZshDE20ZYmxkt8Pe1r3F2I5TEWv3DxAcOC0z7nnW6ld9/TrthlKvrmiWdP8Nk4R1J5Y8RvmceDIiHSAuJABDM4GSCGRJybULlW3No2vN1exptd1ixSkpWaU0taM/ZLFIzPdz7W+YBni3jlzQ76h5MqUOladrOoa8yhT1OOZ3Nsp2LVpsscmGRQRQPJmYYw575SGhhDG4eXjFm5PdC8T3XdX1G/pT3u0q1VpUqFplqa/YsuhIcxrGgtqt5puXuHASZIbu8azypXIX7M7JwxzRSSV6ertlYx7HPiJsUmgSsacxkmN+N7Gdx3Ygzte5JNP0uaP6o7TVq1K62N+n2IKdmxLbgkYxxszwRv3aNdhkYN9z3B3EjdwcR7ORy59X7WhvswRR0K5t2NUka4VY9P5tjxaMe9kOPOBvNlww5knlbrS9fvuirsU9bQRFNFMY9k9PY8RPa8xyBjxzbwwnckyD5JweC2ptftLp0202tadJqFWCvr+zlajFqPOMfVgtcxKY2zysdusjc2wSSSB5LB9+EGudn+SjTtWNl2mbSMtx0aVieZs1CzWsh8bcxc3FPIBLVkcHgyA5jIYC12+CJ2pstoT9imPfrcUTHa61ztW+pNx80dh1AB2mcw13Pvja0l3Oh3NnHRlZXI1siNn7eoy6jqmjssS6DqEUFatcimdIxxiklsSOw0RRjmIwwOw5+/Id0c2VXeT+qzWNj5dCht0oNUg1xl5te7PHX8IqmnHCXQPk4Pc15fkdW4M43m5JQ2mcnVOHT6+p6trTdKrag6bwCGOnPcuXIIiAbboIng16/FruOeEkfEFzQbvyT7MwR1dqqEGr0LdWbRdOeNVbvxVYoZTqBe+3G7L68kTWvc+PLiAG9ZwMLXtGbtRpGjMpXtNi1DQqJ027QuWYoH4r81Gy3Wfksnrv5gu32ktIkbxy0hY+x1GvpOnbWUXapp1yR+h0QJKcwdA+y591slSvI/d8KfG58TS5gxmVowDkAhXNW5PKT9Is6tpWtjVmaY+Bt6CSlYoyxMsO3WWIW2Hl0kWSeBA4RyccsLVrpbP5J70MWzu1cck0Uck1LSREx72NfM4WLgIiY45kIL2ZDc4329q1ggIiICIiAiIgIiICIiAiIgIiICntmaFd7HSzZduv3Q3OG+9ByccT09qgV7QSvxzbc4cc/qH+iC3nVGgc3C1rGDzAAPm6V4sIPluO+7qbngPX2n0KMdiJgaPfEcSvnSZ3OcYz1nIJ7ESn4qznsdKc9GG+n1epQ+p3mwxCFhyQ0hzh68kA9nSpC7dPN8209WC89nYwdiqWonJwBw/fiquzm5d93FQhL0mXE9pWXsrS5+w0EcN4LFuM446z1K9clWjmSYHHX09ip359uC3Rh3ZfRtXZWkIwAOHk4+f5+hWfmxnq4dXr7V4aZQwpcw+TnHR3rwZ5esjrsAI+JQU1Xj/AOOKnrRA4LFFfe4qBDmEAZKwLbuzpU7dh4dHeoObpOBkqbEdZdkKG1J+BjrVglgJHQoDU4OPR09f79Cuwhzkou2TsRjtc7HdxP6vnVXhfgFvU79YUzttY3rHNjoiaG/1nDed+to+JQeF7OjGsYeRuyvOX1lfTeC+QvoK5UyabvKHpUio2r78etSS6hAiIugREQZejanPSsRW60z69qvIJIZ4yA+N4BGRkEEFpc0tcC1zXOaQQSDcpdqdEuu5+7oc9W4XB8ljQbbasM8ucl/gFqCWKq4nBJhcASScAqhIg3/yU8rjxZOkU21tIp2oNRc2/rV61emi1E05HVrU1q29sEcRmiiDoGxbpMjiCXE72n9rdo2346zPqbpVGWq2dss+mV46ovOlewiSeOECPLAzDd0AfZH4wCGiAREvwBAF+oiH4GgdQCFo6cDK/UQfmB2L9REH4GgdAA9SYX6iCa0rZPULVc2oKcssA54h7ebDpeYbvTGCJzhJa3B74xNdu4OcYXm3Zi8aZ1AVJfAxG6QzeR9obJzbrAi3uddWEh3TMG7gIILuBV75O9ptLpN06SWWOGSqLjLQkoOuXHSWZLTWTU7kjiyjTbDPAXMgDJd6GfyZDLvKD1K/p01eCZ166yetoVXSzRqxuifO+pXbULnW35i+pk8TTK+Jw3yZHs3eO8ghNU2O1CpC2aahNFG58TOhjnslnaXQxzQRuMteV4B3WSNa52OAKkNU5P79an4RPXljmdqVShFUDGyyTzWoLsha10Mjt2yx1RkZrlu/myzO7wDr0NuNKqyWJ4JIZWnVtG1CvVj090M74NM1EzurXtSmc+e5qBikH2SV7ot6F7g/Mm6IvZrafS9HdG6K3Z1LGvwX3g1nxFtP6m6xTc7E78Sagx2oRvcODHFjA154loU2xsTqTZ4qrqEzp7DJ3wxx83LzwrMc+cRPhc5kkkbWkuYDvNyAQC4A+t/YTVYInzyUJWwwwundKHQOYYI270k8JjkPhETG8Xui3gwZ3t1WkbXU60bKsU1d8ba+vOL9O0/6n1W2dQ0ObT6wbE7M8k7nlnOSHdY1oiA390uUZo201WJ2mFznhtLZ/XKMuGE7trUPGDmWsH3zD9UauXDgMuz71BV7WgW4pLEb60jJKMTJbLXbv/LxSOgax7znG642a4GCc863GVHLY+22o83oVBj45odS1StTZcbM1zHSafoMlqDT5y2TD92w2SA75HlfUppBIIzrhAREQEREBERAREQEREBERAREQFI6KweU/GSOju/3Ucs/TpCGEDo3s/MEHvYYSS5xDQejPSfiCyKkYHlAeV1HsWIwZOSs6N2BhEvmcHB9SiLjg0H1KUtP4KvavNgKJIfuhUfCHTSHe3Y2gDdBPlvcAN7hwbje4+pdCckWgsZW5wgbxwPmytecnmg7ulyTSEw86+PcO80eEOcT9ic0jOABn0kehb12G07m6g6sn9XBeR1eXdNPT6SKxtIx1QOGPjXpJBgZws5sWOBX3IzqwsNNaoXq5LvjXtWpcFOWKYLs/qX3BXAHRlRGIqGtQbreA4noCh4tJJy53R2dfetiSUW+/fjPUOxRdyBqdsinWaOBwCq2vwthjkmf72JjnH0ho6B6SeHxrZMsIcFqjl3vCGvFVbwdYeXvx8FERgH1vLfkFW6MJyziHGzKMcZlpi5KZHukPvnuc4+txyf1rxwvtwXyV7zxH6wr6XnlfEs2728UQzqp8tvrUmoChYLpWDHAn/QqfXWKRERdIEVM8a5/Mh7n+2njXP5kPc/21CaXNFTPGufzIe5/tp41z+ZD3P8AbQpc0VM8a5/Mh7n+2njXP5kPc/20KXNFTPGufzIe5/tp41z+ZD3P9tClzRUzxrn8yHuf7aeNc/mQ9z/bQpc0VM8a5/Mh7n+2njXP5kPc/wBtClzRUzxrn8yHuf7aeNc/mQ9z/bQpc0VM8a5/Mh7n+2njXP5kPc/20KXNFTPGufzIe5/tp41z+ZD3P9tClzRUzxrn8yHuf7aeNc/mQ9z/AG0KXRxJOSSTgDJ4nAAAGT1AAD1AL8VM8a5/Mh7n+2njXP5kPc/20KXNFTPGufzIe5/tp41z+ZD3P9tClzRUzxrn8yHuf7aeNc/mQ9z/AG0KXNFTPGufzIe5/tp41z+ZD3P9tClzRUzxrn8yHuf7aeNc/mQ9z/bQpc0VM8a5/Mh7n+2njXP5kPc/20KXNFTPGufzIe5/tp41z+ZD3P8AbQpc0VM8a5/Mh7n+2njXP5kPc/20KXNZdJ3kkZ++/wBAqD41z+ZD3P8AbTxrn8yHuf7aFNkxkdo7wsgSNx74d4WrvGqfzIfkv9tPGufzIe5/toU2PdlGOBHBQXMmedsfQC7i53BoHWSeoKq+Nc/mQ/Jf7aeNc/mQ9z/bUTA7I2X06tX0KYOkrRP3Y8l0sJ594bE0PjYHktbnyQDg8OhX/Tp6sULGeE1uDRn7LF09f33av57eNE3wcHyX+2njPN8FX+S/21l2dLGU3f2aNe+cIqn9EDqNbP8ACa352L2l4v1Gsf8A7zX/ADsXtL+evjPN8FX+S/208Z5vg6/yX+2q/YI/N9lvtk+n3f0DfqNf8Jr/AJ2L2l8s1Kv+E1+H/qxe0v5/eNE3wcHyX+2njRN8HB8l/tqPYI/N9k+2z6ff/jvW/qkH4VB6hLH+veUXPqcJ/wC/B+cj/VvLh7xom+Dg+S/208aJvg4Pkv8AbT2CPzfYnrZ9Pu7Xfbh4nn4fVzkftLnfla1PwvU5nA70cOIWFvEER53iD15kc/5lrHxom+Dg+S/21++Nc/mQ9z/bVunpY1zd2q3dROyKqk25p7D3FebmO7D3FRHjXP5kPyX+2njXP5kPc/21ppmpKmN3mnuK+hET0tPxgqI8a5/Mh7n+2njXY8yHuf7aUUm6lXdka4dGeg54cD14UwqZ41z+ZD8l/tp41z+ZD3P9tTBS5oqZ41z+ZD3P9tPGufzIe5/tqSkAiIoSIiICIiAiIgIiICIiAiIgIiICIiAiIgIiICIiAiIgIiICIiAiIgIiICIiAiIgIiICIiAiIgIiICIiAiIgIiICIiAiIgIiICIiAiIgIiICIiAiIgIiICIiAiIgIiICIiAiIgIiICIiAiIgIiICIiAiIgIiICIiAiIgIiICIiAiIgIiICIiAiIgIiICIiAiIgIiICIiAiIgIiICIiAiIgIiICIiAiIgIiICIiAiIgIiICIiAiIgIiICIiAiIgIiICIiAiIgIiICIiAiIgIiICIiAiIgIiICIiAiIgIiICIiD//Z\n"
                },
                "metadata": {}
              }
            ]
          }
        },
        "65fa84aa6ba2426193b8577a8a13e45a": {
          "model_module": "@jupyter-widgets/output",
          "model_name": "OutputModel",
          "model_module_version": "1.0.0",
          "state": {
            "_dom_classes": [],
            "_model_module": "@jupyter-widgets/output",
            "_model_module_version": "1.0.0",
            "_model_name": "OutputModel",
            "_view_count": null,
            "_view_module": "@jupyter-widgets/output",
            "_view_module_version": "1.0.0",
            "_view_name": "OutputView",
            "layout": "IPY_MODEL_9dc801b40b5b4b40850b7acc0699f287",
            "msg_id": "",
            "outputs": [
              {
                "output_type": "stream",
                "name": "stdout",
                "text": [
                  "Video available at https://www.bilibili.com/video/BV1v54y1v7Gr\n"
                ]
              },
              {
                "output_type": "display_data",
                "data": {
                  "text/plain": "<__main__.BiliVideo at 0x7f097bdb3290>",
                  "text/html": "\n        <iframe\n            width=\"854\"\n            height=\"480\"\n            src=\"https://player.bilibili.com/player.html?bvid=BV1v54y1v7Gr&page=1?fs=1\"\n            frameborder=\"0\"\n            allowfullscreen\n        ></iframe>\n        "
                },
                "metadata": {}
              }
            ]
          }
        },
        "d9260fb3bde44d059af7b5933c461642": {
          "model_module": "@jupyter-widgets/base",
          "model_name": "LayoutModel",
          "model_module_version": "1.2.0",
          "state": {
            "_model_module": "@jupyter-widgets/base",
            "_model_module_version": "1.2.0",
            "_model_name": "LayoutModel",
            "_view_count": null,
            "_view_module": "@jupyter-widgets/base",
            "_view_module_version": "1.2.0",
            "_view_name": "LayoutView",
            "align_content": null,
            "align_items": null,
            "align_self": null,
            "border": null,
            "bottom": null,
            "display": null,
            "flex": null,
            "flex_flow": null,
            "grid_area": null,
            "grid_auto_columns": null,
            "grid_auto_flow": null,
            "grid_auto_rows": null,
            "grid_column": null,
            "grid_gap": null,
            "grid_row": null,
            "grid_template_areas": null,
            "grid_template_columns": null,
            "grid_template_rows": null,
            "height": null,
            "justify_content": null,
            "justify_items": null,
            "left": null,
            "margin": null,
            "max_height": null,
            "max_width": null,
            "min_height": null,
            "min_width": null,
            "object_fit": null,
            "object_position": null,
            "order": null,
            "overflow": null,
            "overflow_x": null,
            "overflow_y": null,
            "padding": null,
            "right": null,
            "top": null,
            "visibility": null,
            "width": null
          }
        },
        "ab873942925849e2998d0c9eb5b02c29": {
          "model_module": "@jupyter-widgets/base",
          "model_name": "LayoutModel",
          "model_module_version": "1.2.0",
          "state": {
            "_model_module": "@jupyter-widgets/base",
            "_model_module_version": "1.2.0",
            "_model_name": "LayoutModel",
            "_view_count": null,
            "_view_module": "@jupyter-widgets/base",
            "_view_module_version": "1.2.0",
            "_view_name": "LayoutView",
            "align_content": null,
            "align_items": null,
            "align_self": null,
            "border": null,
            "bottom": null,
            "display": null,
            "flex": null,
            "flex_flow": null,
            "grid_area": null,
            "grid_auto_columns": null,
            "grid_auto_flow": null,
            "grid_auto_rows": null,
            "grid_column": null,
            "grid_gap": null,
            "grid_row": null,
            "grid_template_areas": null,
            "grid_template_columns": null,
            "grid_template_rows": null,
            "height": null,
            "justify_content": null,
            "justify_items": null,
            "left": null,
            "margin": null,
            "max_height": null,
            "max_width": null,
            "min_height": null,
            "min_width": null,
            "object_fit": null,
            "object_position": null,
            "order": null,
            "overflow": null,
            "overflow_x": null,
            "overflow_y": null,
            "padding": null,
            "right": null,
            "top": null,
            "visibility": null,
            "width": null
          }
        },
        "9dc801b40b5b4b40850b7acc0699f287": {
          "model_module": "@jupyter-widgets/base",
          "model_name": "LayoutModel",
          "model_module_version": "1.2.0",
          "state": {
            "_model_module": "@jupyter-widgets/base",
            "_model_module_version": "1.2.0",
            "_model_name": "LayoutModel",
            "_view_count": null,
            "_view_module": "@jupyter-widgets/base",
            "_view_module_version": "1.2.0",
            "_view_name": "LayoutView",
            "align_content": null,
            "align_items": null,
            "align_self": null,
            "border": null,
            "bottom": null,
            "display": null,
            "flex": null,
            "flex_flow": null,
            "grid_area": null,
            "grid_auto_columns": null,
            "grid_auto_flow": null,
            "grid_auto_rows": null,
            "grid_column": null,
            "grid_gap": null,
            "grid_row": null,
            "grid_template_areas": null,
            "grid_template_columns": null,
            "grid_template_rows": null,
            "height": null,
            "justify_content": null,
            "justify_items": null,
            "left": null,
            "margin": null,
            "max_height": null,
            "max_width": null,
            "min_height": null,
            "min_width": null,
            "object_fit": null,
            "object_position": null,
            "order": null,
            "overflow": null,
            "overflow_x": null,
            "overflow_y": null,
            "padding": null,
            "right": null,
            "top": null,
            "visibility": null,
            "width": null
          }
        },
        "3f5e6256435043b88bc71ee7e64acbf0": {
          "model_module": "@jupyter-widgets/controls",
          "model_name": "VBoxModel",
          "model_module_version": "1.5.0",
          "state": {
            "_dom_classes": [
              "widget-interact"
            ],
            "_model_module": "@jupyter-widgets/controls",
            "_model_module_version": "1.5.0",
            "_model_name": "VBoxModel",
            "_view_count": null,
            "_view_module": "@jupyter-widgets/controls",
            "_view_module_version": "1.5.0",
            "_view_name": "VBoxView",
            "box_style": "",
            "children": [
              "IPY_MODEL_8548df34bb2d4c898b95f501a6faf05e",
              "IPY_MODEL_56c25ae4a57c41078b777e56d9e3b770",
              "IPY_MODEL_721ec11ce1c04067a5623c07b8e573dd"
            ],
            "layout": "IPY_MODEL_1de18d8b350a44439f492bf0361f5640"
          }
        },
        "8548df34bb2d4c898b95f501a6faf05e": {
          "model_module": "@jupyter-widgets/controls",
          "model_name": "FloatSliderModel",
          "model_module_version": "1.5.0",
          "state": {
            "_dom_classes": [],
            "_model_module": "@jupyter-widgets/controls",
            "_model_module_version": "1.5.0",
            "_model_name": "FloatSliderModel",
            "_view_count": null,
            "_view_module": "@jupyter-widgets/controls",
            "_view_module_version": "1.5.0",
            "_view_name": "FloatSliderView",
            "continuous_update": true,
            "description": "w",
            "description_tooltip": null,
            "disabled": false,
            "layout": "IPY_MODEL_b65cc53cc1164a8eb0f8af50dabb7210",
            "max": 7,
            "min": -7,
            "orientation": "horizontal",
            "readout": true,
            "readout_format": ".2f",
            "step": 0.2,
            "style": "IPY_MODEL_4ec31c6ad62240ecb1e9f0f57ade2bad",
            "value": -7
          }
        },
        "56c25ae4a57c41078b777e56d9e3b770": {
          "model_module": "@jupyter-widgets/controls",
          "model_name": "FloatSliderModel",
          "model_module_version": "1.5.0",
          "state": {
            "_dom_classes": [],
            "_model_module": "@jupyter-widgets/controls",
            "_model_module_version": "1.5.0",
            "_model_name": "FloatSliderModel",
            "_view_count": null,
            "_view_module": "@jupyter-widgets/controls",
            "_view_module_version": "1.5.0",
            "_view_name": "FloatSliderView",
            "continuous_update": true,
            "description": "I_ext",
            "description_tooltip": null,
            "disabled": false,
            "layout": "IPY_MODEL_9daad7e409514d1ba9baf01005eef283",
            "max": 3,
            "min": 0,
            "orientation": "horizontal",
            "readout": true,
            "readout_format": ".2f",
            "step": 0.1,
            "style": "IPY_MODEL_18e9c14a09af478a8b2e1031053fbd5e",
            "value": 1
          }
        },
        "721ec11ce1c04067a5623c07b8e573dd": {
          "model_module": "@jupyter-widgets/output",
          "model_name": "OutputModel",
          "model_module_version": "1.0.0",
          "state": {
            "_dom_classes": [],
            "_model_module": "@jupyter-widgets/output",
            "_model_module_version": "1.0.0",
            "_model_name": "OutputModel",
            "_view_count": null,
            "_view_module": "@jupyter-widgets/output",
            "_view_module_version": "1.0.0",
            "_view_name": "OutputView",
            "layout": "IPY_MODEL_e370072b8bb34fcf9fee26585201c025",
            "msg_id": "",
            "outputs": [
              {
                "output_type": "display_data",
                "data": {
                  "text/plain": "<Figure size 576x432 with 1 Axes>",
                  "image/png": "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\n"
                },
                "metadata": {
                  "image/png": {
                    "width": 558,
                    "height": 413
                  },
                  "needs_background": "light"
                }
              }
            ]
          }
        },
        "1de18d8b350a44439f492bf0361f5640": {
          "model_module": "@jupyter-widgets/base",
          "model_name": "LayoutModel",
          "model_module_version": "1.2.0",
          "state": {
            "_model_module": "@jupyter-widgets/base",
            "_model_module_version": "1.2.0",
            "_model_name": "LayoutModel",
            "_view_count": null,
            "_view_module": "@jupyter-widgets/base",
            "_view_module_version": "1.2.0",
            "_view_name": "LayoutView",
            "align_content": null,
            "align_items": null,
            "align_self": null,
            "border": null,
            "bottom": null,
            "display": null,
            "flex": null,
            "flex_flow": null,
            "grid_area": null,
            "grid_auto_columns": null,
            "grid_auto_flow": null,
            "grid_auto_rows": null,
            "grid_column": null,
            "grid_gap": null,
            "grid_row": null,
            "grid_template_areas": null,
            "grid_template_columns": null,
            "grid_template_rows": null,
            "height": null,
            "justify_content": null,
            "justify_items": null,
            "left": null,
            "margin": null,
            "max_height": null,
            "max_width": null,
            "min_height": null,
            "min_width": null,
            "object_fit": null,
            "object_position": null,
            "order": null,
            "overflow": null,
            "overflow_x": null,
            "overflow_y": null,
            "padding": null,
            "right": null,
            "top": null,
            "visibility": null,
            "width": null
          }
        },
        "b65cc53cc1164a8eb0f8af50dabb7210": {
          "model_module": "@jupyter-widgets/base",
          "model_name": "LayoutModel",
          "model_module_version": "1.2.0",
          "state": {
            "_model_module": "@jupyter-widgets/base",
            "_model_module_version": "1.2.0",
            "_model_name": "LayoutModel",
            "_view_count": null,
            "_view_module": "@jupyter-widgets/base",
            "_view_module_version": "1.2.0",
            "_view_name": "LayoutView",
            "align_content": null,
            "align_items": null,
            "align_self": null,
            "border": null,
            "bottom": null,
            "display": null,
            "flex": null,
            "flex_flow": null,
            "grid_area": null,
            "grid_auto_columns": null,
            "grid_auto_flow": null,
            "grid_auto_rows": null,
            "grid_column": null,
            "grid_gap": null,
            "grid_row": null,
            "grid_template_areas": null,
            "grid_template_columns": null,
            "grid_template_rows": null,
            "height": null,
            "justify_content": null,
            "justify_items": null,
            "left": null,
            "margin": null,
            "max_height": null,
            "max_width": null,
            "min_height": null,
            "min_width": null,
            "object_fit": null,
            "object_position": null,
            "order": null,
            "overflow": null,
            "overflow_x": null,
            "overflow_y": null,
            "padding": null,
            "right": null,
            "top": null,
            "visibility": null,
            "width": null
          }
        },
        "4ec31c6ad62240ecb1e9f0f57ade2bad": {
          "model_module": "@jupyter-widgets/controls",
          "model_name": "SliderStyleModel",
          "model_module_version": "1.5.0",
          "state": {
            "_model_module": "@jupyter-widgets/controls",
            "_model_module_version": "1.5.0",
            "_model_name": "SliderStyleModel",
            "_view_count": null,
            "_view_module": "@jupyter-widgets/base",
            "_view_module_version": "1.2.0",
            "_view_name": "StyleView",
            "description_width": "",
            "handle_color": null
          }
        },
        "9daad7e409514d1ba9baf01005eef283": {
          "model_module": "@jupyter-widgets/base",
          "model_name": "LayoutModel",
          "model_module_version": "1.2.0",
          "state": {
            "_model_module": "@jupyter-widgets/base",
            "_model_module_version": "1.2.0",
            "_model_name": "LayoutModel",
            "_view_count": null,
            "_view_module": "@jupyter-widgets/base",
            "_view_module_version": "1.2.0",
            "_view_name": "LayoutView",
            "align_content": null,
            "align_items": null,
            "align_self": null,
            "border": null,
            "bottom": null,
            "display": null,
            "flex": null,
            "flex_flow": null,
            "grid_area": null,
            "grid_auto_columns": null,
            "grid_auto_flow": null,
            "grid_auto_rows": null,
            "grid_column": null,
            "grid_gap": null,
            "grid_row": null,
            "grid_template_areas": null,
            "grid_template_columns": null,
            "grid_template_rows": null,
            "height": null,
            "justify_content": null,
            "justify_items": null,
            "left": null,
            "margin": null,
            "max_height": null,
            "max_width": null,
            "min_height": null,
            "min_width": null,
            "object_fit": null,
            "object_position": null,
            "order": null,
            "overflow": null,
            "overflow_x": null,
            "overflow_y": null,
            "padding": null,
            "right": null,
            "top": null,
            "visibility": null,
            "width": null
          }
        },
        "18e9c14a09af478a8b2e1031053fbd5e": {
          "model_module": "@jupyter-widgets/controls",
          "model_name": "SliderStyleModel",
          "model_module_version": "1.5.0",
          "state": {
            "_model_module": "@jupyter-widgets/controls",
            "_model_module_version": "1.5.0",
            "_model_name": "SliderStyleModel",
            "_view_count": null,
            "_view_module": "@jupyter-widgets/base",
            "_view_module_version": "1.2.0",
            "_view_name": "StyleView",
            "description_width": "",
            "handle_color": null
          }
        },
        "e370072b8bb34fcf9fee26585201c025": {
          "model_module": "@jupyter-widgets/base",
          "model_name": "LayoutModel",
          "model_module_version": "1.2.0",
          "state": {
            "_model_module": "@jupyter-widgets/base",
            "_model_module_version": "1.2.0",
            "_model_name": "LayoutModel",
            "_view_count": null,
            "_view_module": "@jupyter-widgets/base",
            "_view_module_version": "1.2.0",
            "_view_name": "LayoutView",
            "align_content": null,
            "align_items": null,
            "align_self": null,
            "border": null,
            "bottom": null,
            "display": null,
            "flex": null,
            "flex_flow": null,
            "grid_area": null,
            "grid_auto_columns": null,
            "grid_auto_flow": null,
            "grid_auto_rows": null,
            "grid_column": null,
            "grid_gap": null,
            "grid_row": null,
            "grid_template_areas": null,
            "grid_template_columns": null,
            "grid_template_rows": null,
            "height": null,
            "justify_content": null,
            "justify_items": null,
            "left": null,
            "margin": null,
            "max_height": null,
            "max_width": null,
            "min_height": null,
            "min_width": null,
            "object_fit": null,
            "object_position": null,
            "order": null,
            "overflow": null,
            "overflow_x": null,
            "overflow_y": null,
            "padding": null,
            "right": null,
            "top": null,
            "visibility": null,
            "width": null
          }
        },
        "672a683beb2a4fa6a3917573e8b1f63a": {
          "model_module": "@jupyter-widgets/controls",
          "model_name": "VBoxModel",
          "model_module_version": "1.5.0",
          "state": {
            "_dom_classes": [
              "widget-interact"
            ],
            "_model_module": "@jupyter-widgets/controls",
            "_model_module_version": "1.5.0",
            "_model_name": "VBoxModel",
            "_view_count": null,
            "_view_module": "@jupyter-widgets/controls",
            "_view_module_version": "1.5.0",
            "_view_name": "VBoxView",
            "box_style": "",
            "children": [
              "IPY_MODEL_fe278382ab0a4d7ba1f52ee7b52ab5c6",
              "IPY_MODEL_dde47ef55d4148a093150216ec5d39d2"
            ],
            "layout": "IPY_MODEL_dc229bb8cbdd45b5ab03ba3819825bec"
          }
        },
        "fe278382ab0a4d7ba1f52ee7b52ab5c6": {
          "model_module": "@jupyter-widgets/controls",
          "model_name": "FloatSliderModel",
          "model_module_version": "1.5.0",
          "state": {
            "_dom_classes": [],
            "_model_module": "@jupyter-widgets/controls",
            "_model_module_version": "1.5.0",
            "_model_name": "FloatSliderModel",
            "_view_count": null,
            "_view_module": "@jupyter-widgets/controls",
            "_view_module_version": "1.5.0",
            "_view_name": "FloatSliderView",
            "continuous_update": true,
            "description": "r_init",
            "description_tooltip": null,
            "disabled": false,
            "layout": "IPY_MODEL_6262553731f2480d8a4fc0b61607016a",
            "max": 1,
            "min": 0,
            "orientation": "horizontal",
            "readout": true,
            "readout_format": ".2f",
            "step": 0.02,
            "style": "IPY_MODEL_d02276ff102f43018020ebd15316cea4",
            "value": 0.44
          }
        },
        "dde47ef55d4148a093150216ec5d39d2": {
          "model_module": "@jupyter-widgets/output",
          "model_name": "OutputModel",
          "model_module_version": "1.0.0",
          "state": {
            "_dom_classes": [],
            "_model_module": "@jupyter-widgets/output",
            "_model_module_version": "1.0.0",
            "_model_name": "OutputModel",
            "_view_count": null,
            "_view_module": "@jupyter-widgets/output",
            "_view_module_version": "1.0.0",
            "_view_name": "OutputView",
            "layout": "IPY_MODEL_dd382cf98cfc4c948fabbbd173be6fa5",
            "msg_id": "",
            "outputs": [
              {
                "output_type": "display_data",
                "data": {
                  "text/plain": "<Figure size 576x432 with 1 Axes>",
                  "image/png": "iVBORw0KGgoAAAANSUhEUgAABFwAAAM7CAYAAAB3L4SlAAAABHNCSVQICAgIfAhkiAAAAAlwSFlzAAAWJQAAFiUBSVIk8AAAADh0RVh0U29mdHdhcmUAbWF0cGxvdGxpYiB2ZXJzaW9uMy4yLjIsIGh0dHA6Ly9tYXRwbG90bGliLm9yZy+WH4yJAAAgAElEQVR4nOzdebRedWHv/883CQlTCIMyy+TEDDmoIKiVchH1itpaBKXir/5668+hg9apdtALtmpbhV7Un9Vbe1X0oreTaAUVFEW0gBEhiIrKpAQUDSSEMGT43j/2c3pOYnI4yfk+Z3per7X2evb07Od7YMlyvdfe311qrQEAAACgnTlTPQAAAACA2UZwAQAAAGhMcAEAAABoTHABAAAAaExwAQAAAGhMcAEAAABoTHABAAAAaExwAQAAAGhMcAEAAABoTHABAAAAaExwAQAAAGhMcAEAAABoTHABAAAAaExwAQAAAGhsIIJLKWX7UspzSil/Vkr5l1LKbaWU2lve3ug39iilvKeU8oNSygOllOWllCtKKb9bSiktfgMAAACYGeZN9QAmyVOSfL5fFy+lHJPkC0l26+1alWRhkqf1lt8qpTy/1vpwv8YAAAAATB8DcYdLzz1JLkvyN0lekuSuFhctpSxK8rl0seX7SZ5ca12YZIckr02yJskpSc5r8XsAAADA9Dcod7hcUWvddfSOUsq7Gl37DUn2TPJAkufWWm9Jkt7dLO8vpeyU5K+S/F4p5bxa602NfhcAAACYpgbiDpda67o+Xv6s3ueFw7FlI+ene8RobpIz+zgOAAAAYJoYiODSL6WUJybZr7d58abOqbWuSnJFb/NZkzEuAAAAYGoJLhNz+Kj1G8Y4b/jYoX0cCwAAADBNDMocLv2y96j1O8Y4b/jYTqWUHXt3vWxWKWXJOH77gCSX1Fo9pgQAAADTjOAyMQtHra8e47zRxxamm9NlorYdGhp6aZKXNrgWAAAAsGlla74kuExDtdZjHumc3l0wQ5MwHAAAAGALmcNlYu4btb79GOeNPnbfZs8CAAAAZgXBZWKWjVrfZ4zzho+tfKT5WwAAAICZT3CZmNFvJjp8s2eNHLuxj2MBAAAApgnBZWJuSnJ7b/3ZmzqhlLJDkqf3Nr84GYMCAAAAppbgMgG11prkY73NM0opB2zitNck2THJuiSfmJyRAQAAAFNpYIJLKWWXUsqjhpeM/O3bj95fStlxo++9vZRSe8sBm7j03ya5K93EuP9eSjmm9735pZRXJTmnd96Haq039eNvAwAAAKaXgQkuSa5Ncveo5TG9/W/caP/7tuSitdYVSZ6X5JdJDk3yrVLKyiSrknwgyfx0jxK9buJ/AgAAADATDFJw6Zta65IkhyU5N8kPk2yT5P4kX0/y35I8p9b60NSNEAAAAJhMpZuGhJmmlLJkaGhoaMmSJVM9FAAAAJjNytZ8yR0uAAAAAI0JLgAAAACNCS4AAAAAjQkuAAAAAI0JLgAAAACNCS4AAAAAjQkuAAAAAI0JLgAAAACNCS4AAAAAjQkuAAAAAI0JLgAAAACNCS4AAAAAjQkuAAAAAI0JLgAAAACNCS4AAAAAjQkuAAAAAI0JLgAAAACNCS4AAAAAjQkuAAAAAI0JLgAAAACNCS4AAAAAjQkuAAAAAI0JLgAAAACNCS4AAAAAjQkuAAAAAI0JLgAAAACNCS4AAAAAjQkuAAAAAI0JLgAAAACNCS4AAAAAjQkuAAAAAI0JLgAAAACNCS4AAAAAjQkuAAAAAI0JLgAAAACNCS4AAAAAjQkuAAAAAI0JLgAAAACNCS4AAAAAjQkuAAAAAI0JLgAAAACNCS4AAAAAjQkuAAAAAI0JLgAAAACNCS4AAAAAjQkuAAAAAI0JLgAAAACNCS4AAAAAjQkuAAAAAI0JLgAAAACNCS4AAAAAjQkuAAAAAI0JLgAAAACNCS4AAAAAjQkuAAAAAI0JLgAAAACNCS4AAAAAjQkuAAAAAI0JLgAAAACNCS4AAAAAjQkuAAAAAI0JLgAAAACNCS4AAAAAjQkuAAAAAI0JLgAAAACNCS4AAAAAjQkuAAAAAI0JLgAAAACNCS4AAAAAjQkuAAAAAI0JLgAAAACNCS4AAAAAjQkuAAAAAI0JLgAAAACNCS4AAAAAjQkuAAAAAI0JLgAAAACNCS4AAAAAjQkuAAAAAI0JLgAAAACNCS4AAAAAjQkuAAAAAI0JLgAAAACNCS4AAAAAjQkuAAAAAI0JLgAAAACNCS4AAAAAjQkuAAAAAI0JLgAAAACNCS4AAAAAjQkuAAAAAI0JLgAAAACNCS4AAAAAjQkuAAAAAI0JLgAAAACNCS4AAAAAjQkuAAAAAI0JLgAAAACNCS4AAAAAjQkuAAAAAI0JLgAAAACNCS4AAAAAjQkuAAAAAI0JLgAAAACNCS4AAAAAjQkuAAAAAI0JLgAAAACNCS4AAAAAjQkuAAAAAI0JLgAAAACNCS4AAAAAjQkuAAAAAI0JLgAAAACNCS4AAAAAjQkuAAAAAI0JLgAAAACNCS4AAAAAjQkuAAAAAI0JLgAAAACNCS4AAAAAjQkuAAAAAI0JLgAAAACNCS4AAAAAjQ1UcCmlLCylvL2UsrSUsqqUsqKUck0p5Y9LKfMneO3fKqV8tpSyrJTycCnl/lLKD0opHy6lHN3qbwAAAACmv3lTPYDJUkrZP8nlSQ7o7VqdZEGSJ/WWM0spJ9Va79nC6y5I8n+SnDpq96ok85M8obe8opTyhlrruRP5GwAAAICZYSDucCmlzEvy2XSx5c4kJ9dad0iyfZIzktyXZHGSC7bi8m/NSGz5QJJ9a60Lk2yXLuR8Pd0/5/eUUo6ZwJ8BAAAAzBADEVySvDzJEb31F9VaL02SWuv6Wuunkryyd+y5pZSTtvDaZ/U+v1prfU2t9Y5R116S5Hnp7ngpSX5rIn8EAAAAMDMMUnBJkq/UWr+5ieMXJrmlt37WJo6PZa/e57c2dbDWuiLJTb3NHbfw2gAAAMAMNOuDSyll+yQn9DYv3tQ5tdaa5JLe5rO28Cdu7n1u8nGhUsqidPO4JJuJMgAAAMDsMuuDS5JDMvJ33jDGecPH9iyl7LoF1///e5/PLKW8v5SyT5KUzlCSz6W7s+Wb2bo5YgAAAIAZZhDeUrT3qPU7xjhv9LG9kywf5/Xfn2TfJG9I8uokry6lDL+laH6Su5K8K8nZtdZ147lgKWXJOE47eJzjAwAAACbZINzhsnDU+uoxzht9bOFmz9pIrXV9kj9J8op0k+Mm3R0t83vr2yZZlGSH8V4TAAAAmNkG4Q6XviqlPCrJ/0nyzCRfSvLf0z2etF2SpyZ5d5JXJTmllPKM4bcYjaXW+oivj+7dBTO09SMHAAAA+mUQ7nC5b9T69mOcN/rYfZs961d9NF1s+WqSU2qtV9ZaV9Ra76q1/muSpyX5RZKD0j1aBAAAAMxygxBclo1a32eM80YfW7bZs0YppRyS5Lm9zff03na0gVrrz5N8rLf5m6WUMp5rAwAAADPXIASX7yVZ31s/fIzzho/dVWsd74S5h45a//EY5/2w97l9kt3HeW0AAABghpr1waXWujrJlb3NZ2/qnN5dJ6f0Nr+4BZdfP2p9/zHO22PU+qrNngUAAADMCrM+uPR8tPd5Yinl2E0cPy3dHCvJyOM/4/HtUeuv2tQJpZQdkpzV27y+1nr/FlwfAAAAmIEGKbgsTVKS/HMp5aQkKaXMKaWcluTDvfMurrVeNvqLpZS3l1Jqbzlg9LFa621JPtvbPLWU8vFSymNLZ5tSyvFJLs9IzHlPH/42AAAAYJoZiNdC11rXllKen+QrSQ5IcmkpZXW64LRt77Rrk5y5FZd/RZJLkhyT5Ld7y+ok87PhP9+/qbVuyd0zAAAAwAw1KHe4pNZ6a5Ijk5yd5IYkNcmaJEuSvCHJcbXWe7biur9IclyS303yhSQ/S7JNkrVJbk5yQZKn11rfNPG/AgAAAJgJyibeZMwMUEpZMjQ0NLRkyZKpHgoAAADMZmVrvjQwd7gAAAAATBbBBQAAAKAxwQUAAACgMcEFAAAAoDHBBQAAAKAxwQUAAACgMcEFAAAAoDHBBQAAAKAxwQUAAACgMcEFAAAAoDHBBQAAAKAxwQUAAACgMcEFAAAAoDHBBQAAAKAxwQUAAACgMcEFAAAAoDHBBQAAAKAxwQUAAACgMcEFAAAAoDHBBQAAAKAxwQUAAACgMcEFAAAAoDHBBQAAAKAxwQUAAACgMcEFAAAAoDHBBQAAAKAxwQUAAACgMcEFAAAAoDHBBQAAAKAxwQUAAACgMcEFAAAAoDHBBQAAAKAxwQUAAACgMcEFAAAAoDHBBQAAAKAxwQUAAACgMcEFAAAAoDHBBQAAAKAxwQUAAACgMcEFAAAAoDHBBQAAAKAxwQUAAACgMcEFAAAAoDHBBQAAAKAxwQUAAACgMcEFAAAAoDHBBQAAAKAxwQUAAACgMcEFAAAAoDHBBQAAAKAxwQUAAACgMcEFAAAAoDHBBQAAAKAxwQUAAACgMcEFAAAAoDHBBQAAAKAxwQUAAACgMcEFAAAAoDHBBQAAAKAxwQUAAACgMcEFAAAAoDHBBQAAAKAxwQUAAACgMcEFAAAAoDHBBQAAAKAxwQUAAACgMcEFAAAAoDHBBQAAAKAxwQUAAACgMcEFAAAAoDHBBQAAAKAxwQUAAACgMcEFAAAAoDHBBQAAAKAxwQUAAACgMcEFAAAAoDHBBQAAAKAxwQUAAACgMcEFAAAAoDHBBQAAAKAxwQUAAACgMcEFAAAAoDHBBQAAAKAxwQUAAACgMcEFAAAAoDHBBQAAAKAxwQUAAACgMcEFAAAAoDHBBQAAAKAxwQUAAACgMcEFAAAAoDHBBQAAAKAxwQUAAACgMcEFAAAAoDHBBQAAAKAxwQUAAACgMcEFAAAAoDHBBQAAAKAxwQUAAACgMcEFAAAAoDHBBQAAAKAxwQUAAACgMcEFAAAAoDHBBQAAAKAxwQUAAACgMcEFAAAAoDHBBQAAAKAxwQUAAACgMcEFAAAAoDHBBQAAAKAxwQUAAACgMcEFAAAAoDHBBQAAAKAxwQUAAACgMcEFAAAAoDHBBQAAAKAxwQUAAACgMcEFAAAAoDHBBQAAAKAxwQUAAACgMcEFAAAAoDHBBQAAAKAxwQUAAACgsYEKLqWUhaWUt5dSlpZSVpVSVpRSriml/HEpZX6D6+9ZSjmnlLKklLK8lPJAKeW2UsolpZS3lFK2afF3AAAAANPbvKkewGQppeyf5PIkB/R2rU6yIMmTesuZpZSTaq33bOX1T0/yoSQ79XY9mOThJPv1llOSfDDJvVv3FwAAAAAzxUDc4VJKmZfks+liy51JTq617pBk+yRnJLkvyeIkF2zl9U9L8sl0seVDSQ6rtW5Xa13U2/eMJOcmWTOxvwQAAACYCQblDpeXJzmit/6iWus3k6TWuj7Jp0opc9IFk+f27nK5bLwXLqXsleTv08WrP661vnf08VrrfUmu6C0AAADAABiIO1zSBZck+cpwbNnIhUlu6a2ftYXX/oMkuyS5Nt1dLAAAAMCAm/XBpZSyfZITepsXb+qcWmtNcklv81lb+BPDgeaC3nUAAACAATfrg0uSQzLyd94wxnnDx/Yspew6nguXUg5Msndvc0kp5YhSyidLKXeWUh4qpfy0lPKpUsoJY10HAAAAmF0GYQ6XvUet3zHGeaOP7Z1k+Tiu/YRR6yckeVuS+UkeSPeWon2SvDjJaaWUt9VazxnPgEspS8Zx2sHjuRYAAAAw+QbhDpeFo9ZXj3He6GMLN3vWhnYZtX5OkmVJTk6yY+8NRYelexV1SXJ2KeU3x3ldAAAAYAYbhDtc+ml0sCrp3oD07eEdtdYbSymnJvlhkj3T3QHzL4900VrrMY90Tu8umKEtHjEAAADQd4Nwh8t9o9a3H+O80cfu2+xZm7/2ZaNjy7Ba66ok7+9tHllK2WOc1wYAAABmqEEILstGre8zxnmjjy3b7FkbGj3vy/fGOO/GUev7j/PaAAAAwAw1CMHle0nW99YPH+O84WN31VrHM2Fu0oWUdeM4r4xa9+poAAAAmOVmfXCpta5OcmVv89mbOqeUUpKc0tv84hZc+8EkX+ttHjLGqYcOfyXJreO9PgAAADAzzfrg0vPR3ueJpZRjN3H8tCQH9dY/toXX/sfe50mllF+ZxLaUsmOSV/c2r6q13r2F1wcAAABmmEEKLkvTPdrzz6WUk5KklDKnlHJakg/3zru41nrZ6C+WUt5eSqm95YBNXPsTSa4efe1Sypzedw9JclG6NxStT/Knzf8yAAAAYNoZiNdC11rXllKen+QrSQ5IcmkpZXW64LRt77Rrk5y5FddeX0p5QZLL0j06dGmS1aWUNUkW9U5bk+Q1tdYvT+gPAQAAAGaEQbnDJbXWW5McmeTsJDekm09lTZIlSd6Q5Lha6z1bee27kgz1rnNN77rbpZuv5SNJhmqtH97sBQAAAIBZpdTqpTkzUSllydDQ0NCSJUumeigAAAAwm5VHPuVXDcwdLgAAAACTRXABAAAAaExwAQAAAGhMcAEAAABoTHABAAAAaExwAQAAAGhMcAEAAABoTHABAAAAaExwAQAAAGhMcAEAAABoTHABAAAAaExwAQAAAGhMcAEAAABoTHABAAAAaExwAQAAAGhMcAEAAABoTHABAAAAaExwAQAAAGhMcAEAAABoTHABAAAAaExwAQAAAGhMcAEAAABoTHABAAAAaExwAQAAAGhMcAEAAABoTHABAAAAaExwAQAAAGhMcAEAAABoTHABAAAAaExwAQAAAGhMcAEAAABoTHABAAAAaExwAQAAAGhMcAEAAABoTHABAAAAaExwAQAAAGhMcAEAAABoTHABAAAAaGxev3+glLJXkicneXySxyRZmGSbJPcnuTvJrUmuS3J9rXVNv8cDAAAA0G99CS6llOOTnJ7kuUkOGufXHiylfDXJRUk+VWu9px9jAwAAAOi3Zo8UlVK2K6W8ppTygyRXJHltuthSxrlsl+SUJO9PsqyUckEpZajV+AAAAAAmy4TvcCmlbJPk1Un+JMmjh3f3PtcnuSnJ9UluS3JnukeJ1qYLLLsm2SfJwUmOTLJz73sLkrwkyUtKKZ9P8qe11usnOlYAAACAyTCh4FJKeW6Sv8vInSxJ8osk/5bks0m+VmtdsQXXOzLJSUl+M8nxvWs+N8mzSykfThdePGoEAAAATGsTvcPlc6PWv5Tkg0kuqrWu25qL9e5iuT7JuaWU/ZL8tyS/l+7OmVcmuSvJ2RMaMQAAAECftZjD5TNJjqm1nlJr/detjS0bq7XeXmv98yT7J/nDJD9vcV0AAACAfpvoHS5Pq7V+o8lINqPW+mCS80spH8n433gEAAAAMGUmFFz6HVs2+q37kyydrN8DAAAA2FrNXgs9WinlD0spJ5ZSFvbj+gAAAADTWV+CS5Jzk1yabtJbAAAAgIHSr+ACAAAAMLAmOmluc6WUFyZ5epIltdZPTvV4AAAAALbUtAsuSR6b5HVJ1icRXAAAAIAZZ8LBpZTy4iRHJLk6ydW11p9NeFS9Sze6DgAAAMCkanGHyyFJ3jq8UUr56ahjh5ZSnlBrvWkLrrdt77M2GBsAAADApGv1SNHou1H2HbX+O0l+p5Ryf5Lrklw7armh1rp2E9c6svd5X6OxAQAAAEyqFsHl75P8MMmxveXoJNv0jg2HmB2THN9bhq0ppXw3XXxZmmRZkqEkv5nu7pbvNRgbAAAAwKSbcHCptd6VbnLbTyZJKWVBkgfSRZOvJ7k/yeIku2/01fnp4szRG+0vve9+eqJjAwAAAJgKzd9SVGt9qJT/fMLo32qt702SUspe6cLL4nR3sixOcsBmLnNZkve1HhsAAADAZOjXa6E/lG4ulvuHd9Ra70xyZ5LPD+8rpeyc7g6XI5Lsk+ThJN+stV7cp3EBAAAA9F1fgkut9f8b53n3Jrm8twAAAADMCnOmegAAAAAAs43gAgAAANCY4AIAAADQ2ISCSynlf5VS9mk1mEf4rZeUUv6fyfgtAAAAgImY6B0uZyX5YSnl/FLKARMfzoZKKXN6oeU7SS5Isl/r3wAAAABobaLB5eYk2yZ5dbrwclEp5TdKKQsmctFSyuNLKW9Pclu60HJkkprklgmOFwAAAKDvJvpa6MOSvCnJG5PsmOS/9pb7SylfTve652uSLK21rtzUBUopJcnjkhyV5GlJ/kuSQ4YP9z6/keQPaq3fnuB4AQAAAPpuQsGl1vpQknNKKR9M8tYkv5tkh3Tx5dTekiQppaxMcmeS1UnWprszZtckeyaZu9Glh0PLt5KcXWv93ETGCQAAADCZJnqHS5Kk1np3kteVUv57uujy8nR3v4y2KMlOm/h62Wj7gST/muTva61XtBgfAAAAwGRqElyG1VrvTfK3Sf62lHJYkucm+bUkT0qye341riTJmiTfTXJVki8m+WKt9f6W4wIAAACYTE2Dy2i11u+mCyl/kySllJ2S7JvuLpd56R4tujvJHbXW9f0aBwAAAMBk60twKaV8Psl3klxVa/1MkvQmzb2xH78HAAAAMJ1M9LXQm/PsJG9Ocmafrg8AAAAwbfUruAy/Anppn64PAAAAMG31K7jc3vvs2xwxAAAAANNVv4LLJeneSDTUp+sDAAAATFv9Ci7/M93rnk8upTy2T78BAAAAMC31JbjUWm9K8tdJ5ie5oJSybT9+BwAAAGA66ktwKaX8ZpKPJ/lYkmOTXFZK2bsfvwUAAAAw3fRrUtt/SlKTPNDbfmqSH5RSzk/ykVrrj/r0uwAAAABTrl9zuCTdpLnbpQsvNckOSd6cLrzcXEr5ZCnlDaWUXy+l7NzHcQAAAABMqn7d4fLeJEf3ll1H7S+9z/17y+n/eaCU25J8e/RSa/15n8YHAAAA0Dd9CS611jcMr5dSHpNkcW85uve53ya+NhxhfmP4Mv0aHwAAAEA/9T1o1Fp/kuQnSS4a3ldK2SUj8WU4xBycZG6/xwMAAADQb1NyB0mt9Z4kX+ktSZLeq6OPyIYhBgAAAGDGmTaP7NRaH0xyTW8BAAAAmLH6+ZYiAAAAgIEkuAAAAAA0JrgAAAAANCa4AAAAADQmuAAAAAA0JrgAAAAANCa4AAAAADQmuAAAAAA0JrgAAAAANDZvqgfAYLj99uS665LVq5Ptt0+OOirZb7+pHhUAAAD0h+BCX113XXLhhcm11yb33JOsXZvMm5fsskuyeHFyxhldfAEAAIDZRHChb770peS9701uvTVZuTLZeedk/vxk1arkpz9Nbrst+c53kte/Pjn55KkeLQAAALQjuNAX113XxZYbb0x23TU58MBk7tyR4+vWJXfe2R1/73uT3Xd3pwsAAACzh0lz6YsLL+zubNl112TffTeMLUm3ve++3fFbb+3OBwAAgNlCcKG522/v5mxZuTLZa69u37p13Rwuq1YlDz7YbSfd8ZUru/Nvv33qxgwAAAAteaSI5q67rosrO+88cmfL6tXJlVdueF4p3QS6SXLFFcnznpc89rHJokXdsvPOI+sbb++8czfx7jbbTO7fBgAAAOMhuNDc6tXd24jmzx/Zt3btr55Xa7JmTbe+Zk2ydGm3bImdduoeS9ptt81/brxvdAgCAACAfhBcaG777bs7V1atGtlXShc61qzplrVrk/XrJ/5bK1d2y623jv87w2MZDjC77z728qhHuZMGAACALSO40NxRR3WP+/z0p91cLXPndoHjaU/b8Lz167v5XG64ITnooOT3fz9ZsCBZsSK5997uc+P14e177+0eW6p1y8dXa/fde+4Z/3d23TV59KNHIswee3Tzz+y9d/c5vP6oRyVzzIwEAAAw8AQXmttvv2Tx4uS227pXP++776bPmzMnWb68ixnPfGby0pdu2e+sX9+Fl+XLk1/+8lc/N7Vv+fIu2myp5cu75Qc/GPu8efM2H2P22qv7Z/GYx3R/cylbPg4AAABmBsGFvjjjjOQ730luvLHb3muvDedNWbeuizHLlyeHHtqdv6XmzOnCxa67Jo973Pi/t3Ztd3fLcJS5++7k5z//1WV4/y9+Mf7Hn9auTe64o1vGsv32XXjZeNlvv5H1HXcc/98EAADA9FLq1jyTwZQrpSwZGhoaWrJkyVQPZbO+9KXkve/t5ldZubJ7rGj+/OThh7s7U3baKTnggOT1r09OPnmqR7t569Z1YWh0jLnrri4Y3XlnsmzZyPry5e1+d+edRyLMQQd1y4EHjnwKMgAAAJNiq55PEFxmqJkQXJLuFdEXXphce213V8natd1jN7vs0j12dMYZ3Zwvs8WDD24+xtxxRzevze23bzih8NZ69KNHQszoGHPQQd2jS97EBAAA0ITgMkhmSnAZdvvtXXxZvbp7nOaoo7o7NwZRrd08Mj/5yYbL7bdvuP3ww1v/G/PmdQHmiU/81WX33c0fAwAAsAUEl0Ey04ILW2b9+m4OmZ/8pHsk65ZbuuXmm7vl1lu712tvjUWLuvDyhCdsGGIe//hku+1a/hUAAACzguAySASXwbZuXfe40nCAufnmDYPMz3625dcspbvr6PDDkyOO6JbDD08OPribewcAAGBACS6DRHBhLKtWJT/6Ufca642XLZ0/Zt687g6Y4QAzHGP23797UxQAAMAst1XBxWuhYRbaccfk6KO7ZbRauwl8b7rpV0PMLbds+vXXa9cm3/1ut2z8G4cd1sWXo45Khoa6zx126N/fBQAAMFO4w2WGcocLrT30UPLDHyZLlyY33NB9Ll3azRczXnPmdI8gHXNMF2COOaaLPgsX9m3YAAAA/eaRokEiuDBZVq7s7m7ZOMT88pfj+34p3YS8T3pScuyxyXHHdXfCLFjQ33EDAAA0IrgMEsGFqVRrctddI/Hl2muTb387+f73u2OPZP78ZPHiLr4ce2y3HHig11UDAADTkuAySAQXpqNVq5Lrruviy5Il3eeNN3ZvVXokj350F2Ce9rTk6U/vHkfydiQAAGAaEFwGieDCTPHAA8n11ydXX538x38kV12V/PjHj/y97bbr7nwZDjBPfaq5YAAAgCkhuAwSwYWZ7O67uwBz1VUjy4oVY4iY5zIAACAASURBVH9nzpxuAt5nPCP59V9Pfu3Xkp12mpzxAgAAA01wGSSCC7PJ+vXdq6mvvDL5+teTK65Ibr557O/MndtNxHvSSV2AOf747q4YAACAxgSXQSK4MNstWzYSX664onssaaz/XC1Y0EWXk07qlic/uYsyAAAAEyS4DBLBhUGzYkXyjW8kX/lKctll3ZuRxvrP1667Js96VvKc5ySnnJLsscfkjRUAAJhVBJdHUkpZmOSPk7woyYFJ1iW5KcmFSc6vtT7c8Lc+mOSVvc3baq0HtLp27/qCCwNt+fLk8suTL3+5CzDf//7Y5x9zTBdfnvOcbjJed78AAADjJLiMpZSyf5LLkxzQ27U6ydwkC3rb1yY5qdZ6T4PfOjHJZRn5lyK4QJ8tWzYSX77wheTOOzd/7i67dHe9vOAFXYBZtGjyxgkAAMw4gsvmlFLmJfl2kiOS3JnkrFrrpaWUOUlOS/LhJAuTfL7W+l8n+FvbJ7k+yX5JrkvypAguMKlq7eZ8ufjibrnyymTduk2fu802yYknJi98YfL85yf77DO5YwUAAKY9wWVzSin/b5L/2ds8vtb6zY2OvyTJJ3ub/6XWetkEfuvcJH+U5C+T7Jvk5RFcYErde29y6aXJJZd0AWbZss2f+5SndPHlhS9MDj44KVv1n1YAAGAWEVw2p5TytSRPT/KVWuuvb+J4SfLjdPO6fKzW+vKt/J3jklyZ5EdJjkrywQguMK0M3/3y2c8m//ZvyVj/E3rCE5IXvzg5/fTk8MMnb4wAAMC0slXBZU7rUUw3vUd8TuhtXrypc2pXnS7pbT5rK39nQZKPpPsX8Xu11ge35jpAf5WSHHVU8md/lnzrW8lttyXnn9+9SnrjiXRvuil5xzuSI47ogss553T7AAAAHsmsDy5JDsnI33nDGOcNH9uzlLLrVvzOX/R+6x9qrV/diu8DU2C//ZLXvrZ75OjnP08+/vHkRS9Kdthhw/O++93kL/4ieeITk6Gh5N3vTm69dUqGDAAAzACz/pGiUsqpSS7qbR5Va71+M+e9IMm/9TaPqLWOFWc2/u7iJFcn+WWSg2ut9/b2/69sxSNFpZTxPCd08NDQ0PYeKYL+eOCBbs6XCy/sHj964IFNn3fsscnLXpaccUay226TO0YAAGBSeKRoMxaOWl89xnmjjy3c7Fkb6b0B6SNJ5iX5g+HYAsxs222X/MZvJJ/6VHfny//+391EugsWbHjeVVd1d8jstVfyW7/VxZk1a6ZmzAAAwPQxb6oHMAu8JcnRST5Xa/10iwvWWo95pHN6d8EMtfg9YGw77tjdwXLGGcmKFclnPtOFmC9+MVm7tjtnzZrkn/+5W3bfPTnzzOTlL+/miwEAAAbPINzhct+o9e3HOG/0sfs2e9YopZRDk/x5klVJXr3lQwNmmkWLkrPOSv7935O77ko+8IHuVdKj/fznybnnJkcfnSxenJx3XvLLX07NeAEAgKkxCMFl2aj1fcY4b/SxZZs9a0PvTzI/yV8muaeUsuPoJSN3EJVR+7cZ98iBaW233ZJXvap7rOjGG5M3vznZe+8Nz/nOd5LXvS7ZZ58u1HzjG92rqQEAgNltEILL95Ks760fPsZ5w8fuqrUuH+e1D+x9vjPdXTEbL2f2ju83at9rxnltYAY55JDkXe9Kbr+9m2z3JS9Jtt125PhDD3VvQDrhhO4xow98IFm5curGCwAA9NesDy611tVJruxtPntT55RSSpJTeptfnIxxAbPT3LnJKackn/xk98jR3/998qQnbXjO0qXJa17T3Q3zylcm1147NWMFAAD6Z9YHl56P9j5PLKUcu4njpyU5qLf+sfFetNZ6QK21bG4Z9bu3jdp/3tb/GcBMsmhR8nu/l1xzTbf87u8m24+aLer++5MPfSgZGupeL33BBcnDD0/deAEAgHYGKbgsTffu7H8upZyUJKWUOaWU05J8uHfexbXWy0Z/sZTy9lJK7S0HTOKYgVnkSU9KPvzhZNmy5H3vSw47bMPjV1+dvOxlyYEHJu98Z7J8vA82AgAA09JABJda69okz09ya7rJcS8tpdyf5P4kn06yU5JrMzLnCkBfLFrUPU60dGny9a8nv/3byfz5I8eXLUve+tZk3327CXl/8IOpGysAALD1BiK4JEmt9dYkRyY5O8kNSWqSNUmWJHlDkuNqrfdM2QCBgVJKN4Huxz+e3HFH8o53JHvuOXL8gQeSD34wOfjg5HnPSy67zNuNAABgJinV/4OfkUopS4aGhoaWLFky1UMBGnnooeRTn0rOPbd7nfTGjjwyedObktNPT+bN+9XjAABAX5St+dLA3OECMN0tWJCcdVby7W8nX/lKcuqpGx6//vruEaQnPrGbD+ahh6ZmnAAAwCMTXACmmVKSZz4zueiibg6XV796w7cb3Xxz9/ajxz0u+R//I1m9esqGCgAAbIbgAjCNPeEJyfvfn/zkJ8nb357sssvIsZ/+NPnDP0wOOCB597uTlSunapQAAMDGBBeAGWDXXZO3vS257bbkr/862WOPkWN335285S3J/vt353ilNAAATD3BBWAGWbgweeMbk1tuSc4/P3nMY0aO3XtvcvbZyUEHdW89uu++qRsnAAAMOsEFYAbabrvkta9NfvSj5B/+oZvPZdiKFcmf/3ny2Mcm552XPPjg1I0TAAAGleACMIPNn5+84hXJ97+ffPKT3RuMht19d/K61yWPf3z3VqM1a6ZunAAAMGgEF4BZYO7c5CUvSW64IfnIR5L99hs59tOfdm81OuSQLsqsXz914wQAgEEhuADMIvPmJb/zO8lNN3VzvIyeXPfHP07OPDM56qjkc59Lap26cQIAwGwnuADMQgsWdHO8/PjHyTvfmey888ixG25ITj01edazkuuvn7oxAgDAbCa4AMxiO+zQvTL6lluSP/uzbnvYpZcmixd3jxv97GdTN0YAAJiNBBeAAbDzzsk55yQ335y86lXJnN5//dev7ybUfdzjujthvNEIAADaEFwABsjuuycf+ED3KNEpp4zsX7Uqeetbk4MPTi680PwuAAAwUYILwAA67LDkkkuSiy9ODj10ZP9tt3VvOzr++OTqq6dufAAAMNMJLgAD7NnPTq67rrvr5VGPGtn/H/+RHHdc8spXJsuXT934AABgphJcAAbcvHndvC4/+lHypjcl8+d3+2tNPvSh5IlPTP7xH7v5XgAAgPERXABIkixalLz73cn3vpc873kj+3/xi+QVr0ie8QyvkQYAgPESXADYwEEHJZ/9bPKZzyT77Tey/8ork6Gh5PWvT+67b+rGBwAAM4HgAsAmPf/5yY03Jn/yJ8k223T71q1Lzj23e5vRpz/tbUYAALA5ggsAm7XDDslf/VU3se6JJ47sX7YsOf305DnP6d5sBAAAbEhwAeARHXJIctllySc+keyxx8j+L3whOfzw7i1HJtUFAIARggsA41JK8tKXJj/4QfLa13bbSbJqVfKa13R3wPzwh1M7RgAAmC4EFwC2yKJFyfnnd5PoHnzwyP6vfS058sjkb/+2m+sFAAAGmeACwFZ56lOTa69N3vrWZO7cbt+DDyZvfGNy/PHJd787teMDAICpJLgAsNW23Tb5y79MrrkmOeqokf1XX50sXpycfXby8MNTNz4AAJgqggsAE7Z4cRdd3vGOZP78bt+aNcnb3pY85SnudgEAYPAILgA0sc02yZ/+afeY0bHHjuy/7rrkmGOS887zJiMAAAaH4AJAU4ce2k2o+573JAsWdPseeih53euSU05J7rhjascHAACTQXABoLm5c5PXvz5ZsiQ5+uiR/ZdemhxxRPLpT0/d2AAAYDIILgD0zWGHJVddlbz5zUkp3b577klOPz152cuSFSumdnwAANAvggsAfTV/fvKudyWXX57sv//I/gsuSI48MvnqV6dsaAAA0DeCCwCT4hnP6CbQfdnLRvbdfnty4onJW97SvdUIAABmC8EFgEmzaFHysY91c7jssku3r9bk3e9Ofu3XugADAACzgeACwKQ77bRk6dLk5JNH9n3zm90EuxddNHXjAgCAVgQXAKbEPvskl1zS3d0yd2637557khe8oHuF9MMPT+34AABgIgQXAKbMnDnJm96UfO1ryWMeM7L/vPOSpz0tueWWqRsbAABMhOACwJQ7/vjk2muTU08d2XfNNcnixcm//MvUjQsAALaW4ALAtLDbbslnPpO85z3JvHndvhUrkhe9KPn9308eemhqxwcAAFtCcAFg2iglef3rk69/Pdl//5H973tfcsIJyW23Td3YAABgSwguAEw7xx7bPWL0wheO7FuyJDnmmOTSS6duXAAAMF6CCwDT0i67dPO3/N3fJdts0+375S+TU05J/vqvk1qndnwAADAWwQWAaauU5A/+ILn88mSvvbp969cnb35z8uIXJ/fdN6XDAwCAzRJcAJj2jj++e6TohBNG9v3TPyXHHZfcdNPUjQsAADZHcAFgRthrr+TLX05e+9qRfTfemDz5yclFF03duAAAYFMEFwBmjPnzk/PPTz760WTbbbt9K1cmL3hB8hd/kaxbN7XjAwCAYYILADPOWWcl3/hGcsABI/vOOSc59dRkxYopGxYAAPwnwQWAGWnx4uRb30qe9ayRfRdfnDz1qcmPfzx14wIAgERwAWAG22235POfT97ylpF93/te8pSndG82AgCAqSK4ADCjzZ2bvPOdySc+kSxY0O1bvjw5+eTkQx+a2rEBADC4BBcAZoWXvjT56leTPffstteuTV75yuSP/qhbBwCAySS4ADBrHHtscs013fwuw/7u75LnPc9kugAATC7BBYBZZd99kyuuSF70opF9X/hCctxxyY9+NHXjAgBgsAgu8H/bu+94Sao67+Of30QmERWQIYwgSUBhEEFAGHIQEEmCgCsKiqCrPujqLq4Ouuo+5rQiIihJQZLkOIIkWXFGdMhxAMnCMDnPef441U83w83dfev27c/79apXV506dfp099Ttru9UnZI06IwZA7/7HXz5y9Wyhx7KZ8Dcckt5/ZIkSVL7MHCRJA1KQ4bA17/+xsF0994bfv3rUrsmSZKkNmDgIkka1DoaTPe44+C00yClcvsmSZKkwcvARZI06FUG033HO6plkyfDRz8KixeX1i1JkiQNYgYukqS2UBlMd6+9qmW//jXsv793MJIkSVLjGbhIktrGyivDNdfkM1sqpkyBnXeGZ54pr1+SJEkafAxcJEltZfhw+OUv4Wtfq5bdd1++bfS995bXL0mSJA0uBi6SpLYTAf/5n3DuuTmAAXjuOXjve+H668vtmyRJkgYHAxdJUts69tgcsKyySl6eOxcOOCCfASNJkiTVw8BFktTWdt8d7rwT1lsvLy9bBiec4G2jJUmSVB8DF0lS29tiC7j7bthmm2rZ5Mlw8sk5gJEkSZJ6y8BFkiRgnXXgj3+Evfeulp1+Onzwg7BwYXn9kiRJUmsycJEkqTBuHFx1FRx1VLXs0kthv/1g1qzy+iVJkqTWY+AiSVKNESPg/PPhM5+plt16K0yaBC+8UFavJEmS1GoMXCRJWsGQIfCDH8C3vlUtu/de2GkneOyx8volSZKk1mHgIklSByLgS1+Cs8+GoUNz2RNP5NBl2rRy+yZJkqSBz8BFkqQuHHccXH45rLRSXn7pJdh1V5gypdx+SZIkaWAzcJEkqRsHHgg33wyrrpqX587NA+leemm5/ZIkSdLAZeAiSVIP7LQT3HEHjB+fl5csgSOOgF/9qtx+SZIkaWAycJEkqYe22ALuugs22SQvL18OH/0o/OhH5fZLkiRJA4+BiyRJvbD++nDbbfDOd1bLPvtZOO00SKm8fkmSJGlgMXCRJKmX1loLbr0VdtyxWjZ5Mvyf/5PPepEkSZIMXCRJ6oNVV4Ubb4S9966W/fCHcPzxsHRpef2SJEnSwGDgIklSH40ZA1deCYceWi371a/gyCNh0aLy+iVJkqTyGbhIklSHkSPhwgvhuOOqZZdeCgcdBPPmldcvSZIklcvARZKkOg0bBr/8ZR48t6JyudFrr5XXL0mSJJXHwEWSpAYYMgS+//18t6KKu+6CPfaAV14pr1+SJEkqh4GLJEkNEgFf+UoePLdi2jTYbTd48cXy+iVJkqT+Z+AiSVKDfeYzcOaZOYABmD4dJk2CZ58ttVuSJEnqRwYukiQ1wfHHw7nn5kuNAB56CHbZBZ56qtx+SZIkqX8YuEiS1CTHHAMXXZQH1QV44okcujz2WLn9kiRJUvMZuEiS1ESHHQaXXQYjRuTlp5/OocuDD5bbL0mSJDWXgYskSU124IFw1VUwalRefv552HVX+Pvfy+2XJEmSmsfARZKkfrD33nDddTBmTF5++eV896K//KXcfkmSJKk5DFwkSeonu+4KN90EK6+cl199FfbYA+66q9x+SZIkqfEMXCRJ6kfveQ/84Q+w+up5efbsfPbLrbeW2i1JkiQ1mIGLJEn9bNtt4ZZbYM018/K8ebDffnDDDeX2S5IkSY1j4CJJUgne8Q744x9hnXXy8sKFcNBBcOWV5fZLkiRJjWHgIklSSTbbDG67DdZfPy8vXgyHHgoXX1xuvyRJklQ/AxdJkkq00UY5dNloo7y8dCkceSRccEG5/ZIkSVJ9DFwkSSrZBhvk0GWzzfLy8uVw7LFwzjnl9kuSJEl9Z+AiSdIAsM46+U5FW26Zl1OC446DM88stVuSJEnqIwMXSZIGiLXWyncv2nrrvJwSfPzj8LOfldsvSZIk9Z6BiyRJA8ib3gRTpuRbR1ecfDL88Ifl9UmSJEm9Z+AiSdIAs/rqcPPNsP321bLPfQ6+853y+iRJkqTeMXCRJGkAWnVVuPFG2Gmnatm//Rt84xvl9UmSJEk9Z+AiSdIAtfLKcP31sOuu1bIvfxm++tU8voskSZIGLgMXSZIGsLFj4dprYc89q2Vf+xqceqqhiyRJ0kBm4CJJ0gA3ejRceSXsu2+17Fvfgi98wdBFkiRpoDJwkSSpBYwaBb//PRx4YLXse9+Dz37W0EWSJGkgMnCRJKlFjBwJl1wCH/hAtezHP863jV6+vLx+SZIk6Y0MXCRJaiEjRsBFF8ERR1TLTj8dPv5xQxdJkqSBxMBFkqQWM3w4XHABHH10teyss+C442DZsvL6JUmSpCoDF0mSWtCwYXDOOfCRj1TLzj0Xjj0Wli4trVuSJEkqGLhIktSihg7NZ7Ycf3y17Le/haOOgiVLyuuXJEmSDFwkSWppQ4bAGWfASSdVyy65BA4/HBYtKq9fkiRJ7c7ARZKkFjdkCPz0p/CZz1TLrrgCDj0UFi4sr1+SJEntzMBFkqRBIAJ+8AP4wheqZddcA+9/PyxYUF6/JEmS2pWBiyRJg0QE/N//C6eeWi278UY44ACYN6+8fkmSJLUjAxdJkgaRCPiv/4LTTquW/eEPsN9+MGdOef2SJElqNwYukiQNQl/5Cnzzm9Xl22+HffaBWbPK65MkSVI7MXCRJGmQ+vd/h+9+t7r8pz/B3nvDzJnl9UmSJKldGLhIkjSInXIK/PjH1eU//xn23BNeeaW8PkmSJLUDAxdJkga5T38aTj+9ujxtGuy+O7z8cnl9kiRJGuwMXCRJagMnnghnnZUH1QX4+99h0iR44YVSuyVJkjRoGbhIktQmPvpROOccGFJ8+z/wQA5dnnuu1G5JkiQNSgYukiS1kWOPhfPPh6FD8/LDD8Ouu8Izz5TbL0mSpMHGwEWSpDZz1FFw4YUwbFhefuyxHLrMmFFqtyRJkgYVAxdJktrQYYfBJZfA8OF5+cknc+jy+OPl9kuSJGmwMHCRJKlNvf/98Pvfw8iRefnpp3Po8sgj5fZLkiRpMDBwkSSpje2/P1x5Jay0Ul5+9tkcujz4YLn9kiRJanVtFbhExLiImBwR0yNibkTMioh7IuKUiBjRxzbHR8RJEXFxRDwWEQuK6cmI+G1E7N7o1yFJUiPtvTdccw2MHp2XX3ghhy7Tp5fbL0mSpFYWKaWy+9AvImID4FZgQlE0HxgKFCdS81dgj5TSzF60uR7wFBA1xfOL5VE1ZWcDH08pLetL3zt57qkTJ06cOHXq1EY1KUlqc7ffns94mTs3L6+xBtx8M2y9dbn9kiRJKll0X+WN2uIMl4gYBlxFDlueB/ZKKY0BRgNHAnOAbYDze9n0UPIbPwX4F2B80e5YYAvgiqLeR4HJdb0ISZKa7L3vhRtugJVXzsuvvAK77w5/+Uu5/ZIkSWpFbRG4kMOQrYr5Q1NKNwOklJanlC4CPlGs2z8i9uhFuzOBbVNKe6aUzk0pPVfT7gPAB4Dri7qfjYiV6n4lkiQ10Y47wk03waqr5uWZM2GPPeDOO8vtlyRJUqtpp8AF4JaU0p86WH8h8GQx/+GeNppSmpVSmtbF+kS+nAjyWS+b97RtSZLK8u53w5QpsPrqeXn27DzOy003ldsvSZKkVjLoA5eIGA3sVCxe11GdIhipnImyd4O7sLBmfmiD25YkqSkmToRbboE118zL8+fDAQfA5ZeX2y9JkqRWMegDF/JZJZXXeV8X9Srr1o6I1Rv4/JOKx8XAIw1sV5KkpnrHO/JAuuutl5cXL4bDD4fzziu3X5IkSa1gWNkd6Afr1Mw/20W92nXrAK/W+8QR8VbgxGLxopTS7B5u15NbD23W545JktRDm2wCd9wBe+4Jjz4Ky5bBhz8Mc+bASSeV3TtJkqSBqx3OcBlXMz+/i3q168Z1WquHImIUcDH5Tkj/BL5Ub5uSJJVh/fXzmS5bbVUtO/lk+O//Lq9PkiRJA107nOHS74rbUP8G2BZYAhxduYNRT6SUtu3Bc0wFJva5k5Ik9cJaa8Gtt8L++8P//m8u+/d/h1mz4JvfhIhSuydJkjTgtMMZLnNq5kd3Ua923ZxOa3UjIoYCFwAHA0uBD6WUbuxre5IkDRSrr57vVLTbbtWy//5v+NSnYPny8volSZI0ELVD4FJ7Zsn4LurVruvx2Si1irDlfOAIYBlwTErpkr60JUnSQDRuHFx7bb5jUcXPfgYf+QgsWVJatyRJkgacdghcHgQq/++2ZRf1KuteSCn1esDcmjNbjqQatlzU23YkSRroVloJLrsMjjyyWnbeeXDIIfn20ZIkSWqDwCWlNB+4s1jct6M6ERHAPsViry//KcKW3wAfpBq2XNj73kqS1BqGD4fzz4cTTqiWXX017LMPzJxZXr8kSZIGikEfuBTOKR53i4jtO1h/OLBhMX9ubxquObPlCPKYLUcbtkiS2sHQoXDGGXnw3Io77oBdd4Xn+nRxriRJ0uDRToHLdCCASyNiD4CIGBIRhwNnFvWuSylNqd0wIiZHRCqmCSusq4zZ8kGqA+R6GZEkqW1E5LsUff/71bLp02GnneDRR8vrlyRJUtnaInBJKS0FDgJmkAfHvTki5gHzgN8BKwN/BY7uZdM7kcdsAUjATyLihS6mDzbi9UiSNNB87nNw7rn5rBeAGTNy6DJtWqndkiRJKk1bBC4AKaUZwDuArwH3kQOSJcBU4PPADiml3l51Xvv+DQfW6mYa1fdXIEnSwHbssXDFFTCq+LZ7+WWYNAluuaXUbkmSJJUiUkpl90F9EBFTJ06cOHHq1Klld0WSpNe56y543/vgtdfy8ogR8Nvf5rsYSZIktaDoy0Ztc4aLJEnqHzvuCLffDuusk5cXL4bDD4df/KLcfkmSJPUnAxdJktRwW24Jd94JG2+cl5cvh098AiZPBk+ulSRJ7cDARZIkNcWECfk20dtuWy077TT42MdgyZLSuiVJktQvDFwkSVLTrLlmHjR3772rZb/6FRxwAMyeXV6/JEmSms3ARZIkNdW4cXD11XDccdWyG2+EXXeF554rr1+SJEnNZOAiSZKabvhwOOusPIZLxb33wnveA/ffX1q3JEmSmsbARZIk9YsI+OpXc/AydGgue/pp2GknuPXWUrsmSZLUcAYukiSpX330o/kSo7Fj8/KsWbDPPnDhheX2S5IkqZEMXCRJUr/bd1+47TZYe+28vHgxHHUUfPvb3jZakiQNDgYukiSpFNtsA3ffDZtvXi374hfhE5/IAYwkSVIrM3CRJEml2WADuPNO2GWXatmZZ+ZLjF59tbx+SZIk1cvARZIklWq11fJtoo85plp2662www7wyCOldUuSJKkuBi6SJKl0I0fCuefCN75RLXv0Udh+e5gypbx+SZIk9ZWBiyRJGhAi4D/+Ay65BEaNymWvvZYvLzrjjHL7JkmS1FsGLpIkaUA59FC4/XZYZ528vGwZnHgifPazeV6SJKkVGLhIkqQBZ9tt4c9/hokTq2U/+hEceCDMnl1evyRJknrKwEWSJA1I48fDbbfBIYdUy667DnbcER5/vLx+SZIk9YSBiyRJGrDGjIGLL85ju1Tcfz+8611w/fXl9UuSJKk7Bi6SJGlAGzIk373o3HNhxIhc9tprsP/+8M1vQkrl9k+SJKkjBi6SJKklHHtsHkx3/Pi8nBKceiocdhjMmVNu3yRJklZk4CJJklrGu98NU6fCLrtUyy67DHbYAR59tLx+SZIkrcjARZIktZS11oKbb4Z//ddq2QMPwHbbwTXXlNcvSZKkWgYukiSp5Qwfnm8Tfc45sNJKuWzWrHzb6K99DZYvL7d/kiRJBi6SJKllffjDcMcdsP76eTkl+OpX862kX3ut3L5JkqT2ZuAiSZJa2rbbwl/+ArvvXi274gqYODGXS5IklcHARZIktbw3vxluuAFOOaVa9uSTsOOO8JOfeOtoSZLU/wxcJEnSoDBsGHz3u3DxxbDyyrlsyZI8uO5hh3mJkSRJ6l8GLpIkaVA57DCYNi1fUlRx2WVeYiRJkvqXgYskSRp0NtoI7roLPvWpapmXGEmSpP5k4CJJkgalkSNzuPK738G4cbnMS4wkSVJ/MXCRJEmD2uGH50uMttmmWla5xOjuu8vrlyRJigfq5gAAIABJREFUGtwMXCRJ0qD3trflS4xOPrla9uSTsPPOMHkyLF1aWtckSdIgZeAiSZLawkorwU9/mi8xqtzFaNkyOO20HLw8+mi5/ZMkSYOLgYskSWorhx8Of/sbvPe91bL//d98ydEvf+mAupIkqTEMXCRJUtuZMAFuuQW+9S0YPjyXzZsHJ5wABx8ML79cavckSdIgYOAiSZLa0tCh8KUv5YFzN9+8Wn7llbDVVnDtteX1TZIktT4DF0mS1NYmToSpU+HTn66WvfgivO99cNJJ+cwXSZKk3jJwkSRJbW/UKPjxj+G662Dttavlp5+ez3aZMqW8vkmSpNZk4CJJklTYd1+YPh0+8IFq2ZNPwp57wsc/DrNmldc3SZLUWgxcJEmSarzpTXDppXDOObDaatXyM8+ELbaAq68ur2+SJKl1GLhIkiStIAI+/GF44AE45JBq+bPPwoEHwjHHwCuvlNc/SZI08Bm4SJIkdWLttfPZLhdfDGuuWS2/4AJ4+9tzeUrl9U+SJA1cBi6SJEndOOywfLbLMcdUy156CY44Ag49NJ/5IkmSVMvARZIkqQfWWAPOOy+P4TJ+fLX88sths83ge9+DJUvK658kSRpYDFwkSZJ64X3vg/vvhxNOqJbNnQuf/zxMnAi33VZe3yRJ0sBh4CJJktRLq6wCv/gF3HJLHsul4r77YNdd84C7L75YXv8kSVL5DFwkSZL6aNIkuPde+Pa3YcyYavl558Gmm8JPfwrLlpXWPUmSVCIDF0mSpDoMHw5f+AI89FAeXLdi1iz49Kdhu+3g7rvL658kSSqHgYskSVIDrLtuvk30DTfAxhtXy//6V3jPe/JlRs88U17/JElS/zJwkSRJaqC994bp0+G//gtWWqlaft55sMkmcOqpMGdOef2TJEn9w8BFkiSpwUaOzMHKgw/CwQdXyxcuhG9+E972NjjjDFi6tLw+SpKk5jJwkSRJapIJE+Dyy/PdjCZOrJa/9BKceCJsvTVcdx2kVFoXJUlSkxi4SJIkNdmkSXDPPXDuuXmsl4r774f994d99oG//7207kmSpCYwcJEkSeoHQ4bAscfCww/n8V3Gjq2uu+mmfLbLscfCY4+V10dJktQ4Bi6SJEn9aPToPL7LY4/BJz6RgxjIlxWdfz5sthl87GMwY0ap3ZQkSXUycJEkSSrBWmvBz3+eLyXaf/9q+bJlcPbZ+Y5Gn/wk/OMf5fVRkiT1nYGLJElSibbYAq65Bu68E/bYo1q+ZEkOZN72NvjMZ+CFF8rroyRJ6j0DF0mSpAFgxx3h5pvzHY123rlavmgR/PjHsOGG8IUvwIsvltdHSZLUcwYukiRJA8ikSXDbbXDDDfDud1fLFyyA734332r65JPhiSfK6qEkSeoJAxdJkqQBJgL23hvuvhuuugq22aa6buFC+NnPYOON4UMfgr/9rbx+SpKkzhm4SJIkDVARcMAB8Je/wKWXwrbbVtctXw6//W2+nfT+++ezYlIqr6+SJOn1DFwkSZIGuCFD4JBD4J578jgve+75+vXXXQe77go77QRXXJHDGEmSVC4DF0mSpBYRke9kdNNNOXw57LBcVvGnP8HBB8Omm8KPfgSzZpXXV0mS2p2BiyRJUgt617vg4ovhoYfg+ONh+PDqusceg89+FsaPzwPsPvhgef2UJKldGbhIkiS1sE02gTPPhCefhM9/HlZZpbpu3rw8wO7b354H4b3qKli2rLy+SpLUTgxcJEmSBoHx4+E734F//ANOPz2HLLVuugkOOigHNN//Prz6ajn9lCSpXRi4SJIkDSJjx8KJJ8J998GUKfD+979+nJcnnoBTToG3vAWOOioPwusgu5IkNZ6BiyRJ0iAUAbvvDr//PTz+eL7caLXVqusXL4YLL4S99oKNNoKvfx2eeaa8/kqSNNgYuEiSJA1yb31r9XKjX/wiD7hba8YM+MpXYIMNYL/94NJLcyAjSZL6zsBFkiSpTYweDSeckG8pfe+98OlPv/6sl5Tg+uvz7abXXRf+9V/h7rtzuSRJ6p1IfoO2pIiYOnHixIlTp04tuyuSJKmFLVwIl18OZ52Vx3zpyIYb5vFejj4aNt+8f/snSdIAEN1X6WAjA5fWZOAiSZIa7Ykn4Fe/ytOzz3ZcZ+ut4UMfgiOPhPXW69/+SZJUEgOXdmLgIkmSmmXZMrj1VvjNb/J4LrNmdVxvl13g8MPh4IPzJUiSJA1SBi7txMBFkiT1h4UL4brrcvhy1VWwaFHH9bbbDg45BD7wAdh00/7toyRJTWbg0k4MXCRJUn+bPTuP9/Kb38DNN8Py5R3X23zzHLwccghMnJhvUS1JUgszcGknBi6SJKlML76Yw5fLLoNbboGlSzuut/76cMABsP/+sNtu+U5JkiS1GAOXdmLgIkmSBoqZM+Hqq3MAc/31sGBBx/VGjoRJk2C//XIAs/HG/dpNSZL6ysClnRi4SJKkgWj+fLjhhnzmy9VXw2uvdV53o42q4csuu8CYMf3XT0mSesHApZ0YuEiSpIFuyRK4/fY86O6118IDD3Red/hw2GEH2GMP2H132H57GDGi//oqSVIXDFzaiYGLJElqNU89lS85uvZamDIF5s3rvO6oUfDe9+bwZffd8+C7Q4f2X18lSaph4NJODFwkSVIrW7QI7rgjhy833AD33991/VVWgZ12ytPOO+fbUI8a1T99lSS1PQOXdmLgIkmSBpMXX8x3O/rDH/L0+ONd1x8+PJ/1svPO1SBmzTX7p6+SpLZj4NJODFwkSdJg9tRT1QBmyhR47rnut9l44zwOzHbbwbvfDe98J6y0UvP7Kkka9Axc2omBiyRJahcpwWOPwZ135umOO+Chh7rfbvhw2GqrHL5st12e3v52x4KRJPWagUs7MXCRJEnt7JVX4K67cvhy551wzz2weHH3240Zk8982Xrr6rTllo4HI0nqkoFLOzFwkSRJqlq4EKZNy8HLPffAn/8Mjz7as22HDIFNN319CLPVVrD22hB9+oktSRpkDFzaiYGLJElS12bOhKlTc/hSCWKefbbn26+2Wr4EaYst8lSZN4iRpLZj4NJODFwkSZJ67/nn4d574W9/y4/33guPPJLHiempShCz2WawySZ5sN6NN4aNNvLSJEkapAxc2omBiyRJUmPMmwfTp78+hLn/fpgzp3ftRMB661UDmI03rgYyb30rjBjRnP5LkprOwKWdGLhIkiQ1T0rwj3/k4OWBB/JjZb63QQzkcWImTMjhy4QJedpgg+rj2mvnOpKkAalPgcuwRvdCkiRJanWVs1XWWw/23bdaXhvEPPpovhzp0UfzNGMGLF/ecXvLl8MTT+SpIyNGwPrr5/ClNoipPI4fD8P85S5JLcUzXFqUZ7hIkiQNLIsX50ClEsDUTk8/XV/bEbDWWrDOOjl86ehxnXVgjTUc0FeSmsAzXCRJkqSyjBiRB9LdbLM3rluwAB5/PE9PPZXPhql9fOWVrttOCV54IU/TpnXdh9oQZq21YM01q4+182PHGs5IUjMZuEiSJElNNmoUbLllnjoyd24OXmpDmNr5F1/s2Z2UFi/O28yY0X3dlVbqOIx505vymTKVafXV8+Nqq3lZkyT1hn8yJUmSpJKNHQtbbJGnjixZks9uefZZeO65zh9nz+75cy5cmC916s3lTqus8sYgpjK/6qp5WmWVPNXOr7IKDB/e8+eRpMHAwEWSJEka4IYPrw7i25W5c18fwLz00hunF1/M08KFve/HrFl56mzw366MHv36AGbFQKayPG5cDqAqjytOo0Z5KZSk1mDgIkmSJA0SY8fCJpvkqSspwbx5rw9hKo///Ce8+moeV+aVV6rzM2f27LKmzsyfn6fnn+97G5DDlo6CmBWnMWNyOFM7jR7ds+Xhww11JNXPwEWSJElqM7WhxYYb9mybZcvgtdc6DmNeeaV69strr3U839kts3srJZgzJ0/NMmRI14HMyJF5gOKRI5s/P3w4DB3avNcqqXkMXCRJkiR1a+jQ6pgtG2/cu21Typc7VcKXroKZuXOr05w5r1+eO7dvl0L11vLl+QygefOa/1w9EZEHLB4+vPPHrtb1ps6KdYcOzQHU0KG9n5qx3ZAheYp447xnJWmgMXCRJEmS1FQReUyWceNg3XXra2vp0hyErBjErBjULFiQL2FasKA6dbdcKVu6tDGvu1FSygMnL1lSdk8Gvo6CmIE2H/H6qdLv3pa18nannprPsBvsDFwkSZIktYxhw6oD7TbL0qVdhzKLFuVp8eLq/IrLnc33pt6iRbkv9Yyd025Sype/LVtWdk/Ulc99zsBFkiRJktrOsGHVM3IGguXLq2e4LF3as8dG1V22LD9/JcTozdSM7VLK65cvf+O8Wke7XP5l4CJJkiRJA9iQIdXBdNW5SgDTVSgzUOZTqoZElfnelLXKdp21NWZM4z73gczARZIkSZLU8iK8o5MGliFld0CSJEmSJGmwMXCRJEmSJElqMAMXSZIkSZKkBjNwkSRJkiRJajADF0mSJEmSpAYzcJEkSZIkSWowAxdJkiRJkqQGM3CRJEmSJElqMAMXSZIkSZKkBjNwkSRJkiRJajADF0mSJEmSpAYzcJEkSZIkSWowAxdJkiRJkqQGM3CRJEmSJElqMAMXSZIkSZKkBjNwkSRJkiRJajADF0mSJEmSpAYzcJEkSZIkSWowAxdJkiRJkqQGa6vAJSLGRcTkiJgeEXMjYlZE3BMRp0TEiDrbXisivhcRD0fEgoh4NSJuj4jjIyIa9RokSZIkSdLAN6zsDvSXiNgAuBWYUBTNB0YC7yqmoyNij5TSzD60vS1wA7BGUTQXGAfsXEyHRcRBKaXF9bwGSZIkSZLUGtriDJeIGAZcRQ5bngf2SimNAUYDRwJzgG2A8/vQ9irA1eSw5SFgu5TSOGAM8ClgCbAP8MO6X4gkSZIkSWoJbRG4AP8CbFXMH5pSuhkgpbQ8pXQR8Ili3f4RsUcv2/48sDawANg/pfSXou3FKaX/Ab5a1Pt4RGxSz4uQJEmSJEmtoZ0CF4BbUkp/6mD9hcCTxfyHe9l2pf6FKaUnO1j/E/IlRkOBo3vZtiRJkiRJakGDPnCJiNHATsXidR3VSSkl4Ppice9etL0psH43bc8Fbu9t25IkSZIkqXUN+sAF2Jzq67yvi3qVdWtHxOo9bHvLDrbvqu2397BdSZIkSZLUwtrhLkXr1Mw/20W92nXrAK82oe2VI2JscdZLpyJiag+e+50PPvgg2267bQ+qSpIkSZKkvpg2bdoFKaVeDxHSDoHLuJr5+V3Uq103rtNajWm7y8Clh5YtWLBg1rRp02Y0oK3+slnx+FCpvVA9/Axbn5/h4ODn2Pr8DFufn2Hr8zNsfX6GrW9Qf4btELi0nJTSoDxtpXLmzmB9fe3Az7D1+RkODn6Orc/PsPX5GbY+P8PW52fY+gb7Z9gOY7jMqZkf3UW92nVzOq3Vf21LkiRJkqQW1Q6By3M18+O7qFe77rlOa9XX9uzuxm+RJEmSJEmtrx0ClweB5cX8ll3Uq6x7IaXUkwFz4fV3JupJ2w/0sF1JkiRJktTCBn3gklKaD9xZLO7bUZ2ICGCfYvHGXjT/CPB0N22PAd7bh7YlSZIkSVKLGvSBS+Gc4nG3iNi+g/WHAxsW8+f2tNGUUqqpf2RETOig2snAWGAZcEFP25YkSZIkSa2rnQKX6UAAl0bEHgARMSQiDgfOLOpdl1KaUrthREyOiFRMEzpo+7vAC+SBca+JiG2L7UZExCeBrxf1fpFSeqTBr0uSJEmSJA1AbXFb6JTS0og4CLgFmADcHBHzyYHTSkW1vwJH96HtWRFxAHAD8HbgLxExp2h3eFHtRuBzdb0ISZIkSZLUMtrlDBdSSjOAdwBfIw92m4AlwFTg88AOKaWZfWx7KrAF8APgUXLQMg+4AzgB2C+ltKjOlyBJkiRJklpE5GFIJEmSJEmS1Chtc4aLJEmSJElSfzFwkSRJkiRJajADF0mSJEmSpAYzcJEkSZIkSWowAxdJkiRJkqQGM3CRJEmSJElqMAMXSZIkSZKkBjNwkSRJkiRJajADF/VaRIyLiMkRMT0i5kbErIi4JyJOiYgRdba9VkR8LyIejogFEfFqRNweEcdHRDTqNbSriFgjIo6LiPMj4oGImBcRiyLiHxHx+4j4QB1tfyQiUg+mPRv5mtpRf7zXEbFRRJwREU9GxMKIeDkiboiIQxv5WtpRDz+7ynRLH9qf3MO239aM1zdYRMToiNgvIr4cEZdFxFM1793kHrbR1O8099Ou1fMZRsT4iDgpIi6OiMeKz29B8V7/NiJ2r7Nv7qc9UOdn2C/vcURMjPy76h+Rf1M9HxGX1/tvZLDo62cYERN6+X35qz707dc9bHtYXW9Ci4sGHD9EE48fi/YH7DFkW//jUe9FxAbArcCEomg+MBJ4VzEdHRF7pJRm9qHtbYEbgDWKornAOGDnYjosIg5KKS2u5zW0uRd4/X6/EFgCjC+m90fEdcBhKaX5fXyO5cDLXaxf1Md29UZNea8jYn/gYmB0UTQbWB3YG9i7+FHzsZRS6kv74sVu1g8nv98A99TxPEuAV7tYv7SOttvBu4Fr+7pxs7/T3E97pE+fYUSsBzwF1P5In18sTyimIyPibODjKaVldfTR/bRrde2Hhaa9xxFxPHA61d9Ws4C1gIOBgyPitJTS5L62P0j09TNcRvfflysBqxTz9XxfLiR/dp1p57+jUOfxQzOPH4v2B/QxpGe4qMeKdPcq8s7yPLBXSmkM+cfekcAcYBvg/D60vQpwNXlHeQjYLqU0DhgDfIq8U+8D/LDuF9LehgF/Bk4CNkopjUopjQXeCpxV1NkPOKOO53gmpbR2F9Pt9b0E1Wj4ex0RbwV+R96v7wQ2TSmtQv5B87Wi2nHAFxr1ItpNN5/Z2sA3a6qf1Vk7PXBXN881o75X0hZmAlOA7wBHkX90dqvZ32nup73Sl89wKDlcmQL8CzC++L0zFtgCuKKo91Fgcp39cz/tXp/2wxpNeY8j4j3Az8m/rX4PrJdSWhV4M9XfUV+NiCP60v4g0+vPMKXU3W+ctYHziuoLgN/U0b+LunmuekLVwaDPxw/NPH4s2h/4x5ApJSenHk3Ax8gJbwLe08H6o2rW79HLtr9ebDcfeGsH6/+9WL8U2KTs96JVJ2C3btb/vOYzXK+XbX+k2G5G2a9zsE/NfK/JP14S+Utx1Q7Wn1GsnwWsVvZ7MRgn4IHiPb69j9tPLra/tezX0soTMLSDshnFezu5m22b+p3mftrcz5AcXE3sYn0A1xXtzAFW6kPf3E+b+Bn2x3sM3F60/3dgeAfrry/WP9nR62iXqZ7PsJt2VyKfuZSA8/rYxq+L7X9d9vs0kKd6jh9o4vFjsf2AP4b0DBf1xr8Uj7eklP7UwfoLyV8qAB/uZduV+hemlJ7sYP1PyKeHDQWO7mXbKqSUuhsPovZ/09/VzL5o4ImIMUBl7IfTU0qvdVDtW8XjyuRTptVAEbEjsHmx+Msy+9LuUn3/o9m07zT3057r62eYUpqVUprWxfoEnF0sjqW6z6rB6twPmyYiNiRfqgDw3ZTSkg6qVfbDCcAu/dGvgaiJn+EhwGrFvN+XTVTn8UMzjx9rtxmwx5AGLuqRiBgN7FQsXtdRneIHyPXF4t69aHtTYP1u2p5L/p+EXrWtXltYMz+0tF6oLDsDo4r5zvbFGcCDxaL7YuN9rHicRR6fQy2mH77T3E8HBr8v29teNfPXd1LnDvIZUOB+2AyV78tHU0p/LLUn6vDvYTOPH4v2W+IY0sBFPbU51X8v93VRr7Ju7YhYvYt6tbbsYPuu2n57D9tV702qmZ/exzbeHBFTixHIF0TEE8Wo5pO63VK91ej3urf74hZ9fB51ICLGApVr/X+b+j5wdcUWEXFfRMwv/o08HBFnRsQ2dbarrjX7O839dGCYVDwuBh6pox330+Zrxntc2Q9fSim91FGF4syOhyp9qOO5tILiDKPdisV6xjqr2CMiHol8t7fZxZ10fhgRGzeg7XYwqWa+9vihmceP0CLHkAYu6ql1auaf7aJe7bp1Oq1VX9srFwcmaqCIWJV8nSPksSMe7mNTo4GJ5B+hQ8gDah0N3BIRZ7f7rfUarNHvdWVfnJlSWtBFvcq+2NN9XD1zJPnyBGjM6dFvIv/YWUC+G8AmwPHA1Ij4rwa0r441+zvN/bRkxaDFJxaLF6WUZtfRnPtp8zXjPa7sV13t47Xr3Q8b66PksZSWAuc0oL11gQ3J44CMJh/Ifwa4LyI+2YD2B61ujh+aefzYl/ZLOYY0cFFPjauZ7+p/XWvXjeu0Vv+1rR6IiCHkQRjfQj4t8FN9aOY54DTgneQBBFcnf2ntBNxc1DkO+EHdHVaz3uvKftXdmRWV9e6HjXV88fi3lNLUOtp5FPg3YFPyv481yKP17wNMJf9IPTUiTqmns+pUs7/T3E9LFBGjqN6O+5/Al/rYlPtp8zXzPXY/LElEDCXfPADgmpRSb+9aVWsa+TfvBGBk8XtqZfI4WY8DI4CfRcShnbbQxnpw/NBf34fNar8hDFwkAfwIOKCYPzml9PfeNpBSujGlNDml9PeU0qKibFlK6S7yj5vKbTRP8hTN+vheDz4RsQWwfbFY19ktKaULUkrfSSk9UhnIMaW0OKV0I3n8j3uKqpOL2ylK6oHirMHfANuSbzV6dErpub605X7afL7Hg9a+wPhivt7vyx+nlP4npfRUZXDflNL8lNJl5O/kyiCs34uIqOe5Bqm6jx/agYGLempOzfzoLurVrpvTaa3+a1vdiIjvUk2kP5dSOrur+n2RUloOfL5YHAIc2OjnUFbne13Zr7raD2vXux82TuXsloXA+c16kpTSQuA/isWxwB7Neq421uzvNPfTEhT/q34B+a5PS4EPFQfuDed+2nwNeI/dD8tT+b58lk4GSm2ElNIrwDeLxQ0Ax1Wq0cPjh/76PmxW+w1h4KKeqv0fnPGd1nr9up7+r09v255djDitOkXEt4HKqbSfTyn9sFnPlVJ6jHz6NeTrZNUkdbzXlX1xteK0+c5U9sU+/c+uXi8iRgDHFIuXdnKb30aqvS2j+2LjNfs7zf20nxVhy/nkQa2XAceklC5p8tO6nzZfPe9xZb/qah+vXe9+2AARsRbVMyp+3Q+3DXc/7EAvjh+aefzYl/ZLOYY0cFFPPQgsL+a37KJeZd0LKaVXe9h27ajSPWn7gR62qy5ExHeALxSL/5ZS+l6Z/dGA0Nt98f4m9qWdvJ88qCM0ZrBclavZ32nup/2o5syWI6mGLReV2ysNAJX9cM2IeHNHFYp/O5sVi+6HjfFhYBiQgIafka3u9fL4oZnHj9Aix5AGLuqR4vakdxaL+3ZUp7i2cZ9isTen2T4CPN1N22OA9/ahbXWgOA2wctnJv6WUvtMPz7kR1YPKJ7uqq/rU8V7fQb6LA3S+L25AvtsDuC82SuX06MeAP/bD8+1QM+++2HjN/k5zP+0nxQHzb4APUg1bLuynp3c/bb563uObauY73A/JA9lXBuh0P2yMjxWPt6SUnuiH53M/rNHb44cmHz9CixxDGrioNyq3XdstIrbvYP3hVE+3O7enjaaUUk39IyNiQgfVTiZfY7uM/D9N6qPij2XtaYB1hy3dDSRWrK88z3Lg6nqfs101871OKc0DLi0WP9nJIIJfLB7nAL/vadvqWESsD+xZLJ5d/D2sp73u/n2MBL5RLM4DptTzfHqjZn+nuZ/2j5ozW44gj9lydKPCFvfT5mv2e1wc7N9RLJ4SEcM7qFa5g9VTwG29aV9vFBE7k+84BQ04G7QH/0ZWpzrOzzPAX+t9zlZWx/FDU44foYWOIVNKTk49msin8P2dfBrfP4A9ivIh5J1lVrHu2g62nVysS8CEDtavAjxfrL8f2LYoHwF8ElhUrPtZ2e9DK0/At2s+h8/1ctuP1Gw7aYV1E4A/A58g/9GMmn8bOwDX12zrZ1jfZ1jXew38urK+k/bfCswt6twGbFyUjwG+Qg5xEvl/Nkp/P1p9qvnbuAR4Sy+3ecPfU2BX8q3BjwXWrSkfTh4U8s812/oZdv9er0Y+W6wyPV28d99eoXzsCtvV9Z3mflruZwgMBX5bs28e3ofndT8t9zOs+z0Gbi3Wz+hk/Y7kMC6RQ9DxRfnqwM9q2j+i7Pew7Kmvf0tXaKPyd/EV8i2ce/K8nf4tLf5tXEa+BfSaNeWjyINjP1zzGX6w7Pew5M+vnuOHPh8/FvU6/VtarB/wx5Clf4BOrTWRD/aerPmHP498anNleRqwWgfbdbmzFHW2JQ/0Wak3G1hcs3xDT//AOnX4/q5f814uA17oZvr8Ctt/pGb7SR38u0g100Lg5eKxtvxsYFjZ70UrT/W+13RzIFfU2b/YtyttvUb1R2Wl7Sj7vWj1qfix8VTxnl7Ri+06/XsKTFrh38H84t9H7d/SZcA3yn79rTABM1Z4Pzubft3Btn3+TnM/LfczBHapKV9M99+XbzgYcz8t/TOs+z2mm8ClqHM8OZSrtDmTauCZgMllv38DYarnb2mx/co1f+9+1Ivn7fRvKa//XZvIIfY/V/g7uhA4qez3r+TPrq7jh6KNCfTh+LHYttO/pTV1BvQx5DCkXkgpzYiId5Cv3zuE/L9sS8iJ4m+Bn6SUFvex7akRsQX5VOgDgPXIO+R95NPRzk75lrfqmyErzK/VTf2xvWj7ReDTwHuArYE3k/83YyH5D+xd5M/vzk5bUE81/b1OKV1b7OdfBPYC3kL+EflX4IyU0qVdba8e25P8QwYaN1judPLf5/cAW5H/x3BV8sHGA8DtwC9SStMb9HzqRLO/09xPm6r2+3I43X9fdnW3qI64nzZfv7zHKaVfRsQ08qUWu5K/k18i393mJymlP9TTvv6/I6ne2rdR35e3AKeS/41sDqxBPltiNnkfPhHzAAAIBElEQVRMtT+Q/5Y+2aDna1V1Hz808/ixaH9AH0NWTkWXJEmSJElSgzhoriRJkiRJUoMZuEiSJEmSJDWYgYskSZIkSVKDGbhIkiRJkiQ1mIGLJEmSJElSgxm4SJIkSZIkNZiBiyRJkiRJUoMZuEiSJEmSJDWYgYskSZIkSVKDGbhIkiRJkiQ1mIGLJEmSJElSgxm4SJIkSZIkNZiBiyRJUjciYq+ISMW0e9n9abSIeGtELCpe36fK7o8kSYNBpJTK7oMkSVKfRMTkYva1lNIPm/Qcw4HpwKbAdSml/ZvxPGWLiB8CnwFeAzZJKb1ccpckSWppBi6SJKllRUTlh8xTKaUJTXqOk4D/KRa3Tyn9uRnPU7aIeAvwJDAS+HFK6TMld0mSpJbmJUWSJEmdiIiVgC8Xi7cO1rAFIKX0PHBusXhiRKxXZn8kSWp1Bi6SJEmd+zDwlmL+Z2V2pJ/8vHgcAXy2zI5IktTqvKRIkiS1rGZfUhQR9wFbAK8Ca6eUljT6OQaaiPgrsDUwG3hLSml+yV2SJKkleYaLJElqKRExoXLHoJriDWruIlQ73VrH82xHDlsArugubKl5zhk1ZUdExDUR8UxELIyIxyPi3IjYvIPtN4yI70XE9IiYHRGzIuKuiDghIrr9zRYRq0XEKRExJSKeL+46tDgiXomIaRFxRkQcFhGrdtPUJcXjysAh3T2vJEnqmGe4SJKklhIRE8iDu/bEH1NKk/r4PN8FTikWD00pXdZN/f9/tg05qPkNcFAn1ZcAh6WUriy2PRH4EflSno5cUdRf2slz70oOSt7UVR8L30spfb6zlRHxDuBvxeLVKaUDe9CmJElawbCyOyBJktRLrwJfKOa/UzzOBL7ZQd1n6nieyu2fE/DHXm57FjlseZkclswAVgUOBt4GDAcujojNgB2B04FlwLXAVHIgs0NNH94PfBH4xopPFBHrAlcB44qifwA3Fs+5BFgF2AR4D9XxaLoyHXgFWAPYPSJGppQW9fSFS5KkzDNcJElSy2rWGC4R8WbgpWLxiZTSRr3oS8VFwPEppbk1dYYDlwEHFEVXAbsCs4ADU0p/q20gIo4BzisWXyOPqbJwhTpfA/6zWDwTOKmjM2EiIsghzhoppau7eS3XA/sUizunlO7sqr4kSXojx3CRJEl6o3fVzE/vw/b3AMfUhi0AxTgwJwHLi6IDgdHAQSuGLUX984E/FIurArt38Fzb1Mz/e2eXHaXsT92FLYW/18xv14P6kiRpBQYukiRJb7RJzfxTfdj+610EH8/w+kDjipTSvV20dVXN/DYdrB9aMz+6513sUu1r3rhBbUqS1FYMXCRJkt5o3Zr553u57TJgSjd1nqiZv7Gbuo/XzK/dwfraM2POioh1ummvJ2pf83oNaE+SpLZj4CJJkvRGK9fMz+/ltv9MKXW3Te2lRk/3ou6YDtb/HJhdzO8FPBURf4iI/4yIvSJiXAfbdGdezXxftpckqe0ZuEiSJL1R7Z0cO7w0qAsLu69C7QC73dWvrfuG324ppafIA9xWzoQZBuwGfI189szMiLg9Ik6IiM5uO72i2tc8vIfbSJKkGgYukiRJb1R7hspKpfWih1JKdwObAYcAv+b1lywNBXYGfgHcFxGb96DJUTXz8zqtJUmSOmXgIkmS9EYv18yvXloveiGltDSldHlK6bjiNtbjgaOA3wCLimobA1dHxMhumqt9zS93WkuSJHXKwEWSJOmNnqyZX7fTWgNYSum5lNKFKaWjgXcCrxarNgT262bz8TXzM5rQPUmSBj0DF0mS1MoqY40M7bJW79XetnnTBrfd71JKDwO/qynq7jVtVjP/t05rSZKkThm4SJKkVjareFytwe3eT3Xski0jYrD9ZlrQzfqta+b/t5kdkSRpsBpsPx4kSVJ7ebh4HBMR725UoymlpcAfisWxvD6AGFCKW0B/LiLW7qLOzsAxNUW3dVF3NWDLYvHhlFJ3t62WJEkdGNZ9FUmSpAHrGmDHYv6qiLgAeApYVpQ9m1K6vI9t/x44sJjfE5jW514214bA94HvRsRfgb8CzwKLgTWB7YEdaupflFK6t4v2dqP6n3JXNr67kiS1BwMXSZLUyn4CHEsec2RN4HMrrP8j0NfA5RLgp+RbJB8CfLuP7TTb4uJxCLBtMXXmXODj3bR3SM38eXX0S5KktuYlRZIkqWWllOaQz+D4MvAn8p14lna5Uc/bng1cWCy+OyLe1oh2m2Br4CDyWS5/BP4BLCS/DzOBqeRgaruU0r+klBZ11lBEjCnaArg7pTS9mR2XJGkwi5RS2X2QJEkakCJiS6ASOnw7pfTFMvvTbBHxMeCXxeLhKaVLyuyPJEmtzMBFkiSpCxFxKfkym5nA+imluSV3qSkiIsi3w94SuA94Z0ppebm9kiSpdXlJkSRJUte+TB6EdzXgxJL70kwHUL070amGLZIk1cczXCRJkroRET8C/hX4J7BRMb7LoBERQ4B7ga2AG1JK+5bcJUmSWp53KZIkSereV8gD8gbwNgbuLaL7al3gsmLyzkSSJDWAZ7hIkiRJkiQ1mGO4SJIkSZIkNZiBiyRJkiRJUoMZuEiSJEmSJDWYgYskSZIkSVKDGbhIkiRJkiQ1mIGLJEmSJElSgxm4SJIkSZIkNZiBiyRJkiRJUoMZuEiSJEmSJDWYgYskSZIkSVKDGbhIkiRJkiQ1mIGLJEmSJElSgxm4SJIkSZIkNZiBiyRJkiRJUoP9Pxl7AOY/6ijLAAAAAElFTkSuQmCC\n"
                },
                "metadata": {
                  "image/png": {
                    "width": 558,
                    "height": 413
                  },
                  "needs_background": "light"
                }
              }
            ]
          }
        },
        "dc229bb8cbdd45b5ab03ba3819825bec": {
          "model_module": "@jupyter-widgets/base",
          "model_name": "LayoutModel",
          "model_module_version": "1.2.0",
          "state": {
            "_model_module": "@jupyter-widgets/base",
            "_model_module_version": "1.2.0",
            "_model_name": "LayoutModel",
            "_view_count": null,
            "_view_module": "@jupyter-widgets/base",
            "_view_module_version": "1.2.0",
            "_view_name": "LayoutView",
            "align_content": null,
            "align_items": null,
            "align_self": null,
            "border": null,
            "bottom": null,
            "display": null,
            "flex": null,
            "flex_flow": null,
            "grid_area": null,
            "grid_auto_columns": null,
            "grid_auto_flow": null,
            "grid_auto_rows": null,
            "grid_column": null,
            "grid_gap": null,
            "grid_row": null,
            "grid_template_areas": null,
            "grid_template_columns": null,
            "grid_template_rows": null,
            "height": null,
            "justify_content": null,
            "justify_items": null,
            "left": null,
            "margin": null,
            "max_height": null,
            "max_width": null,
            "min_height": null,
            "min_width": null,
            "object_fit": null,
            "object_position": null,
            "order": null,
            "overflow": null,
            "overflow_x": null,
            "overflow_y": null,
            "padding": null,
            "right": null,
            "top": null,
            "visibility": null,
            "width": null
          }
        },
        "6262553731f2480d8a4fc0b61607016a": {
          "model_module": "@jupyter-widgets/base",
          "model_name": "LayoutModel",
          "model_module_version": "1.2.0",
          "state": {
            "_model_module": "@jupyter-widgets/base",
            "_model_module_version": "1.2.0",
            "_model_name": "LayoutModel",
            "_view_count": null,
            "_view_module": "@jupyter-widgets/base",
            "_view_module_version": "1.2.0",
            "_view_name": "LayoutView",
            "align_content": null,
            "align_items": null,
            "align_self": null,
            "border": null,
            "bottom": null,
            "display": null,
            "flex": null,
            "flex_flow": null,
            "grid_area": null,
            "grid_auto_columns": null,
            "grid_auto_flow": null,
            "grid_auto_rows": null,
            "grid_column": null,
            "grid_gap": null,
            "grid_row": null,
            "grid_template_areas": null,
            "grid_template_columns": null,
            "grid_template_rows": null,
            "height": null,
            "justify_content": null,
            "justify_items": null,
            "left": null,
            "margin": null,
            "max_height": null,
            "max_width": null,
            "min_height": null,
            "min_width": null,
            "object_fit": null,
            "object_position": null,
            "order": null,
            "overflow": null,
            "overflow_x": null,
            "overflow_y": null,
            "padding": null,
            "right": null,
            "top": null,
            "visibility": null,
            "width": null
          }
        },
        "d02276ff102f43018020ebd15316cea4": {
          "model_module": "@jupyter-widgets/controls",
          "model_name": "SliderStyleModel",
          "model_module_version": "1.5.0",
          "state": {
            "_model_module": "@jupyter-widgets/controls",
            "_model_module_version": "1.5.0",
            "_model_name": "SliderStyleModel",
            "_view_count": null,
            "_view_module": "@jupyter-widgets/base",
            "_view_module_version": "1.2.0",
            "_view_name": "StyleView",
            "description_width": "",
            "handle_color": null
          }
        },
        "dd382cf98cfc4c948fabbbd173be6fa5": {
          "model_module": "@jupyter-widgets/base",
          "model_name": "LayoutModel",
          "model_module_version": "1.2.0",
          "state": {
            "_model_module": "@jupyter-widgets/base",
            "_model_module_version": "1.2.0",
            "_model_name": "LayoutModel",
            "_view_count": null,
            "_view_module": "@jupyter-widgets/base",
            "_view_module_version": "1.2.0",
            "_view_name": "LayoutView",
            "align_content": null,
            "align_items": null,
            "align_self": null,
            "border": null,
            "bottom": null,
            "display": null,
            "flex": null,
            "flex_flow": null,
            "grid_area": null,
            "grid_auto_columns": null,
            "grid_auto_flow": null,
            "grid_auto_rows": null,
            "grid_column": null,
            "grid_gap": null,
            "grid_row": null,
            "grid_template_areas": null,
            "grid_template_columns": null,
            "grid_template_rows": null,
            "height": null,
            "justify_content": null,
            "justify_items": null,
            "left": null,
            "margin": null,
            "max_height": null,
            "max_width": null,
            "min_height": null,
            "min_width": null,
            "object_fit": null,
            "object_position": null,
            "order": null,
            "overflow": null,
            "overflow_x": null,
            "overflow_y": null,
            "padding": null,
            "right": null,
            "top": null,
            "visibility": null,
            "width": null
          }
        }
      }
    }
  },
  "nbformat": 4,
  "nbformat_minor": 0
}