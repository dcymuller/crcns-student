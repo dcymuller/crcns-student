{
  "cells": [
    {
      "cell_type": "markdown",
      "metadata": {
        "id": "view-in-github",
        "colab_type": "text"
      },
      "source": [
        "<a href=\"https://colab.research.google.com/github/dcymuller/crcns-student/blob/master/tutorials/W2D3_BiologicalNeuronModels/student/W2D3_Tutorial1.ipynb\" target=\"_parent\"><img src=\"https://colab.research.google.com/assets/colab-badge.svg\" alt=\"Open In Colab\"/></a>"
      ]
    },
    {
      "cell_type": "markdown",
      "metadata": {
        "execution": {},
        "id": "lk69kKmelgeM"
      },
      "source": [
        "# Tutorial 1: The Leaky Integrate-and-Fire (LIF) Neuron Model\n",
        "**Week 2, Day 3: Biological Neuron Models**\n",
        "\n",
        "**By Neuromatch Academy**\n",
        "\n",
        "__Content creators:__ Qinglong Gu, Songtin Li, John Murray, Richard Naud, Arvind Kumar\n",
        "\n",
        "__Content reviewers:__  Maryam Vaziri-Pashkam, Ella Batty, Lorenzo Fontolan, Richard Gao, Matthew Krause, Spiros Chavlis, Michael Waskom, Ethan Cheng\n",
        "\n",
        "**Post-Production Team:** Gagana B, Spiros Chavlis"
      ]
    },
    {
      "cell_type": "markdown",
      "metadata": {
        "execution": {},
        "id": "oFNFhBhSlgeR"
      },
      "source": [
        "<p align='center'><img src='https://github.com/NeuromatchAcademy/widgets/blob/master/sponsors.png?raw=True'/></p>"
      ]
    },
    {
      "cell_type": "markdown",
      "metadata": {
        "execution": {},
        "id": "MhtPWmyolgeS"
      },
      "source": [
        "---\n",
        "# Tutorial Objectives\n",
        "\n",
        "*Estimated timing of tutorial: 1 hour, 10 min*\n",
        "\n",
        "This is Tutorial 1 of a series on implementing realistic neuron models. In this tutorial, we will build up a leaky integrate-and-fire (LIF) neuron model and study its dynamics in response to various types of inputs. In particular, we are going to write a few lines of code to:\n",
        "\n",
        "- simulate the LIF neuron model\n",
        "\n",
        "- drive the LIF neuron with external inputs, such as direct currents, Gaussian white noise, and Poisson spike trains, etc.\n",
        "\n",
        "- study how different inputs affect the  LIF neuron's output (firing rate and spike time irregularity)\n",
        "\n",
        "Here, we will especially emphasize identifying conditions (input statistics) under which a neuron can spike at low firing rates and in an irregular manner. The reason for focusing on this is that in most cases, neocortical neurons spike in an irregular manner."
      ]
    },
    {
      "cell_type": "code",
      "execution_count": null,
      "metadata": {
        "cellView": "form",
        "execution": {},
        "id": "FBaqLDkGlgeS"
      },
      "outputs": [],
      "source": [
        "# @title Tutorial slides\n",
        "\n",
        "# @markdown These are the slides for the videos in all tutorials today\n",
        "from IPython.display import IFrame\n",
        "IFrame(src=f\"https://mfr.ca-1.osf.io/render?url=https://osf.io/8djsm/?direct%26mode=render%26action=download%26mode=render\", width=854, height=480)"
      ]
    },
    {
      "cell_type": "markdown",
      "metadata": {
        "execution": {},
        "id": "bgsygzaalgeU"
      },
      "source": [
        "---\n",
        "# Setup"
      ]
    },
    {
      "cell_type": "code",
      "execution_count": 1,
      "metadata": {
        "cellView": "both",
        "execution": {},
        "id": "8f5VMDZvlgeV"
      },
      "outputs": [],
      "source": [
        "# Imports\n",
        "import numpy as np\n",
        "import matplotlib.pyplot as plt"
      ]
    },
    {
      "cell_type": "code",
      "execution_count": 2,
      "metadata": {
        "cellView": "form",
        "execution": {},
        "id": "uD6ivsB2lgeW"
      },
      "outputs": [],
      "source": [
        "# @title Figure Settings\n",
        "import ipywidgets as widgets  # interactive display\n",
        "%config InlineBackend.figure_format = 'retina'\n",
        "# use NMA plot style\n",
        "plt.style.use(\"https://raw.githubusercontent.com/NeuromatchAcademy/course-content/main/nma.mplstyle\")\n",
        "my_layout = widgets.Layout()"
      ]
    },
    {
      "cell_type": "code",
      "execution_count": 3,
      "metadata": {
        "cellView": "form",
        "execution": {},
        "id": "fordH0E0lgeW"
      },
      "outputs": [],
      "source": [
        "# @title Plotting Functions\n",
        "\n",
        "def plot_volt_trace(pars, v, sp):\n",
        "  \"\"\"\n",
        "  Plot trajetory of membrane potential for a single neuron\n",
        "\n",
        "  Expects:\n",
        "  pars   : parameter dictionary\n",
        "  v      : volt trajetory\n",
        "  sp     : spike train\n",
        "\n",
        "  Returns:\n",
        "  figure of the membrane potential trajetory for a single neuron\n",
        "  \"\"\"\n",
        "\n",
        "  V_th = pars['V_th']\n",
        "  dt, range_t = pars['dt'], pars['range_t']\n",
        "  if sp.size:\n",
        "    sp_num = (sp / dt).astype(int) - 1\n",
        "    v[sp_num] += 20  # draw nicer spikes\n",
        "\n",
        "  plt.plot(pars['range_t'], v, 'b')\n",
        "  plt.axhline(V_th, 0, 1, color='k', ls='--')\n",
        "  plt.xlabel('Time (ms)')\n",
        "  plt.ylabel('V (mV)')\n",
        "  plt.legend(['Membrane\\npotential', r'Threshold V$_{\\mathrm{th}}$'],\n",
        "             loc=[1.05, 0.75])\n",
        "  plt.ylim([-80, -40])\n",
        "\n",
        "\n",
        "def plot_GWN(pars, I_GWN):\n",
        "  \"\"\"\n",
        "  Args:\n",
        "    pars  : parameter dictionary\n",
        "    I_GWN : Gaussian white noise input\n",
        "\n",
        "  Returns:\n",
        "    figure of the gaussian white noise input\n",
        "  \"\"\"\n",
        "\n",
        "  plt.figure(figsize=(12, 4))\n",
        "  plt.subplot(121)\n",
        "  plt.plot(pars['range_t'][::3], I_GWN[::3], 'b')\n",
        "  plt.xlabel('Time (ms)')\n",
        "  plt.ylabel(r'$I_{GWN}$ (pA)')\n",
        "  plt.subplot(122)\n",
        "  plot_volt_trace(pars, v, sp)\n",
        "  plt.tight_layout()\n",
        "\n",
        "\n",
        "def my_hists(isi1, isi2, cv1, cv2, sigma1, sigma2):\n",
        "  \"\"\"\n",
        "  Args:\n",
        "    isi1 : vector with inter-spike intervals\n",
        "    isi2 : vector with inter-spike intervals\n",
        "    cv1  : coefficient of variation for isi1\n",
        "    cv2  : coefficient of variation for isi2\n",
        "\n",
        "  Returns:\n",
        "    figure with two histograms, isi1, isi2\n",
        "\n",
        "  \"\"\"\n",
        "  plt.figure(figsize=(11, 4))\n",
        "  my_bins = np.linspace(10, 30, 20)\n",
        "  plt.subplot(121)\n",
        "  plt.hist(isi1, bins=my_bins, color='b', alpha=0.5)\n",
        "  plt.xlabel('ISI (ms)')\n",
        "  plt.ylabel('count')\n",
        "  plt.title(r'$\\sigma_{GWN}=$%.1f, CV$_{\\mathrm{isi}}$=%.3f' % (sigma1, cv1))\n",
        "\n",
        "  plt.subplot(122)\n",
        "  plt.hist(isi2, bins=my_bins, color='b', alpha=0.5)\n",
        "  plt.xlabel('ISI (ms)')\n",
        "  plt.ylabel('count')\n",
        "  plt.title(r'$\\sigma_{GWN}=$%.1f, CV$_{\\mathrm{isi}}$=%.3f' % (sigma2, cv2))\n",
        "  plt.tight_layout()\n",
        "  plt.show()"
      ]
    },
    {
      "cell_type": "markdown",
      "metadata": {
        "execution": {},
        "id": "SvzhXRGBlgeY"
      },
      "source": [
        "---\n",
        "# Section 1: The Leaky Integrate-and-Fire (LIF) model"
      ]
    },
    {
      "cell_type": "code",
      "execution_count": 4,
      "metadata": {
        "cellView": "form",
        "execution": {},
        "id": "rhvarWC2lgeY",
        "outputId": "9c9e41da-022d-4280-cf41-b3b433f0adf9",
        "colab": {
          "base_uri": "https://localhost:8080/",
          "height": 580,
          "referenced_widgets": [
            "a2f17e00f9014d71b07af2ef9a500bbd",
            "ce2171c199aa4bb1bed12e1657be1615",
            "8bc1eb9c84da4cbe9200a1cb31825b6b",
            "e83d7a2fd8444712ba973dc92ffbc8a1",
            "92c8252b2779494d8ce659f986e98ccc",
            "a9029c91b77245858847063239ea08d5"
          ]
        }
      },
      "outputs": [
        {
          "output_type": "display_data",
          "data": {
            "text/plain": [
              "Tab(children=(Output(), Output()), _titles={'0': 'Youtube', '1': 'Bilibili'})"
            ],
            "application/vnd.jupyter.widget-view+json": {
              "version_major": 2,
              "version_minor": 0,
              "model_id": "a2f17e00f9014d71b07af2ef9a500bbd"
            }
          },
          "metadata": {}
        }
      ],
      "source": [
        "# @title Video 1: Reduced Neuron Models\n",
        "from ipywidgets import widgets\n",
        "\n",
        "out2 = widgets.Output()\n",
        "with out2:\n",
        "  from IPython.display import IFrame\n",
        "  class BiliVideo(IFrame):\n",
        "      def __init__(self, id, page=1, width=400, height=300, **kwargs):\n",
        "          self.id=id\n",
        "          src = 'https://player.bilibili.com/player.html?bvid={0}&page={1}'.format(id, page)\n",
        "          super(BiliVideo, self).__init__(src, width, height, **kwargs)\n",
        "\n",
        "  video = BiliVideo(id=\"av456396195\", width=854, height=480, fs=1)\n",
        "  print('Video available at https://www.bilibili.com/video/{0}'.format(video.id))\n",
        "  display(video)\n",
        "\n",
        "out1 = widgets.Output()\n",
        "with out1:\n",
        "  from IPython.display import YouTubeVideo\n",
        "  video = YouTubeVideo(id=\"rSExvwCVRYg\", width=854, height=480, fs=1, rel=0)\n",
        "  print('Video available at https://youtube.com/watch?v=' + video.id)\n",
        "  display(video)\n",
        "\n",
        "out = widgets.Tab([out1, out2])\n",
        "out.set_title(0, 'Youtube')\n",
        "out.set_title(1, 'Bilibili')\n",
        "\n",
        "display(out)"
      ]
    },
    {
      "cell_type": "markdown",
      "metadata": {
        "execution": {},
        "id": "1ZA9GsnIlgeZ"
      },
      "source": [
        "This video introduces the reduction of a biological neuron to a simple leaky-integrate-fire (LIF) neuron model.\n",
        "\n",
        "<details>\n",
        "<summary> <font color='blue'>Click here for text recap of video </font></summary>\n",
        "\n",
        "Now, it's your turn to implement one of the simplest mathematical model of a neuron: the leaky integrate-and-fire (LIF) model. The basic idea of LIF neuron was proposed in 1907 by Louis Édouard Lapicque, long before we understood the electrophysiology of a neuron (see a translation of [Lapicque's paper](https://pubmed.ncbi.nlm.nih.gov/17968583/) ). More details of the model can be found in the book [**Theoretical neuroscience**](http://www.gatsby.ucl.ac.uk/~dayan/book/) by Peter Dayan and Laurence F. Abbott.\n",
        "\n",
        "The subthreshold membrane potential dynamics of a LIF neuron is described by\n",
        "\n",
        "\\begin{eqnarray}\n",
        "C_m\\frac{dV}{dt} = -g_L(V-E_L) + I,\\quad (1)\n",
        "\\end{eqnarray}\n",
        "\n",
        "where $C_m$ is the membrane capacitance, $V$ is the membrane potential, $g_L$ is the leak conductance ($g_L = 1/R$, the inverse of the leak resistance $R$ mentioned in previous tutorials), $E_L$ is the resting potential, and $I$ is the external input current. \n",
        "\n",
        "Dividing both sides of the above equation by $g_L$ gives\n",
        "\n",
        "\\begin{align}\n",
        "\\tau_m\\frac{dV}{dt} = -(V-E_L) + \\frac{I}{g_L}\\,,\\quad (2)\n",
        "\\end{align}\n",
        "\n",
        "where the $\\tau_m$ is membrane time constant and is defined as $\\tau_m=C_m/g_L$. \n",
        "\n",
        "Note that dividing capacitance by conductance gives units of time! \n",
        "\n",
        "Below, we will use Eqn.(2) to simulate LIF neuron dynamics. \n",
        "\n",
        "If $I$ is sufficiently strong such that $V$ reaches a certain threshold value $V_{\\rm th}$, $V$ is reset to a reset potential $V_{\\rm reset}< V_{\\rm th}$, and voltage is clamped to $V_{\\rm reset}$ for $\\tau_{\\rm ref}$ ms, mimicking the refractoriness of the neuron during an action potential:\n",
        "\n",
        "\\begin{eqnarray}\n",
        "\\mathrm{if}\\quad V(t_{\\text{sp}})\\geq V_{\\rm th}&:& V(t)=V_{\\rm reset} \\text{  for } t\\in(t_{\\text{sp}}, t_{\\text{sp}} + \\tau_{\\text{ref}}]\n",
        "\\end{eqnarray}\n",
        "where $t_{\\rm sp}$ is the spike time when $V(t)$ just exceeded $V_{\\rm th}$.\n",
        "\n",
        "(**Note:** in the lecture slides, $\\theta$ corresponds to the threshold voltage $V_{th}$, and $\\Delta$ corresponds to the refractory time $\\tau_{\\rm ref}$.)\n",
        "\n",
        "</details>\n",
        "\n",
        "Note that you have seen the LIF model before if you looked at the pre-reqs Python or Calculus days!\n",
        "\n",
        "The LIF model captures the facts that a neuron:\n",
        "- performs spatial and temporal integration of synaptic inputs\n",
        "- generates a spike when the voltage reaches a certain threshold\n",
        "- goes refractory during the action potential\n",
        "- has a leaky membrane\n",
        "\n",
        "The LIF model assumes that the spatial and temporal integration of inputs is linear. Also, membrane potential dynamics close to the spike threshold are much slower in LIF neurons than in real neurons."
      ]
    },
    {
      "cell_type": "markdown",
      "metadata": {
        "execution": {},
        "id": "KZGrO3Qelgea"
      },
      "source": [
        "## Coding Exercise 1: Python code to simulate the LIF neuron\n",
        "\n",
        "We now write Python code to calculate our equation for the LIF neuron and simulate the LIF neuron dynamics. We will use the Euler method, which you saw in the linear systems case yesterday  to numerically integrate this equation:\n",
        "\n",
        "\\begin{equation}\n",
        "\\tau_m\\frac{dV}{dt} = -(V-E_L) + \\frac{I}{g_L}\\,\n",
        "\\end{equation}\n",
        "\n",
        "where $V$ is the membrane potential, $g_L$ is the leak conductance, $E_L$ is the resting potential, $I$ is the external input current, and $\\tau_m$ is membrane time constant.\n",
        "\n",
        "The cell below initializes a dictionary that stores parameters of the LIF neuron model and the simulation scheme. You can use `pars=default_pars(T=simulation_time, dt=time_step)` to get the parameters. Note that, `simulation_time` and `time_step` have the unit `ms`. In addition, you can add the value to a new parameter by `pars['New_param'] = value`."
      ]
    },
    {
      "cell_type": "code",
      "execution_count": 5,
      "metadata": {
        "cellView": "form",
        "execution": {},
        "id": "HVsZk2yDlgea",
        "outputId": "82777c7c-c68c-45a4-d013-484dc8e3ab6a",
        "colab": {
          "base_uri": "https://localhost:8080/"
        }
      },
      "outputs": [
        {
          "output_type": "stream",
          "name": "stdout",
          "text": [
            "{'V_th': -55.0, 'V_reset': -75.0, 'tau_m': 10.0, 'g_L': 10.0, 'V_init': -75.0, 'E_L': -75.0, 'tref': 2.0, 'T': 400.0, 'dt': 0.1, 'range_t': array([0.000e+00, 1.000e-01, 2.000e-01, ..., 3.997e+02, 3.998e+02,\n",
            "       3.999e+02])}\n"
          ]
        }
      ],
      "source": [
        "# @markdown Execute this code to initialize the default parameters\n",
        "\n",
        "\n",
        "def default_pars(**kwargs):\n",
        "  pars = {}\n",
        "\n",
        "  # typical neuron parameters#\n",
        "  pars['V_th'] = -55.     # spike threshold [mV]\n",
        "  pars['V_reset'] = -75.  # reset potential [mV]\n",
        "  pars['tau_m'] = 10.     # membrane time constant [ms]\n",
        "  pars['g_L'] = 10.       # leak conductance [nS]\n",
        "  pars['V_init'] = -75.   # initial potential [mV]\n",
        "  pars['E_L'] = -75.      # leak reversal potential [mV]\n",
        "  pars['tref'] = 2.       # refractory time (ms)\n",
        "\n",
        "  # simulation parameters #\n",
        "  pars['T'] = 400.  # Total duration of simulation [ms]\n",
        "  pars['dt'] = .1   # Simulation time step [ms]\n",
        "\n",
        "  # external parameters if any #\n",
        "  for k in kwargs:\n",
        "    pars[k] = kwargs[k]\n",
        "\n",
        "  pars['range_t'] = np.arange(0, pars['T'], pars['dt'])  # Vector of discretized time points [ms]\n",
        "\n",
        "  return pars\n",
        "\n",
        "\n",
        "pars = default_pars()\n",
        "print(pars)"
      ]
    },
    {
      "cell_type": "markdown",
      "metadata": {
        "execution": {},
        "id": "nkuOdcz5lgeb"
      },
      "source": [
        "Complete the function below to simulate the LIF neuron when receiving external current inputs. You can use `v, sp = run_LIF(pars, Iinj)` to get the membrane potential (`v`) and spike train (`sp`) given the dictionary `pars` and input current `Iinj`. "
      ]
    },
    {
      "cell_type": "code",
      "execution_count": 6,
      "metadata": {
        "cellView": "both",
        "execution": {},
        "id": "IgoXWSHflgeb",
        "outputId": "4317283e-7a60-4996-c049-e5b7aa8503fc",
        "colab": {
          "base_uri": "https://localhost:8080/",
          "height": 431
        }
      },
      "outputs": [
        {
          "output_type": "display_data",
          "data": {
            "text/plain": [
              "<Figure size 576x432 with 1 Axes>"
            ],
            "image/png": "[encoded data removed]"
          },
          "metadata": {
            "image/png": {
              "width": 558,
              "height": 414
            },
            "needs_background": "light"
          }
        }
      ],
      "source": [
        "def run_LIF(pars, Iinj, stop=False):\n",
        "  \"\"\"\n",
        "  Simulate the LIF dynamics with external input current\n",
        "\n",
        "  Args:\n",
        "    pars       : parameter dictionary\n",
        "    Iinj       : input current [pA]. The injected current here can be a value\n",
        "                 or an array\n",
        "    stop       : boolean. If True, use a current pulse\n",
        "\n",
        "  Returns:\n",
        "    rec_v      : membrane potential\n",
        "    rec_sp     : spike times\n",
        "  \"\"\"\n",
        "\n",
        "  # Set parameters\n",
        "  V_th, V_reset = pars['V_th'], pars['V_reset']\n",
        "  tau_m, g_L = pars['tau_m'], pars['g_L']\n",
        "  V_init, E_L = pars['V_init'], pars['E_L']\n",
        "  dt, range_t = pars['dt'], pars['range_t']\n",
        "  Lt = range_t.size\n",
        "  tref = pars['tref']\n",
        "\n",
        "  # Initialize voltage\n",
        "  v = np.zeros(Lt)\n",
        "  v[0] = V_init\n",
        "\n",
        "  # Set current time course\n",
        "  Iinj = Iinj * np.ones(Lt)\n",
        "\n",
        "  # If current pulse, set beginning and end to 0\n",
        "  if stop:\n",
        "    Iinj[:int(len(Iinj) / 2) - 1000] = 0\n",
        "    Iinj[int(len(Iinj) / 2) + 1000:] = 0\n",
        "\n",
        "  # Loop over time\n",
        "  rec_spikes = []  # record spike times\n",
        "  tr = 0.  # the count for refractory duration\n",
        "\n",
        "  for it in range(Lt - 1):\n",
        "\n",
        "    if tr > 0:  # check if in refractory period\n",
        "      v[it] = V_reset  # set voltage to reset\n",
        "      tr = tr - 1 # reduce running counter of refractory period\n",
        "\n",
        "    elif v[it] >= V_th:  # if voltage over threshold\n",
        "      rec_spikes.append(it)  # record spike event\n",
        "      v[it] = V_reset  # reset voltage\n",
        "      tr = tref / dt  # set refractory time\n",
        "\n",
        "    ########################################################################\n",
        "    ## TODO for students: compute the membrane potential v, spike train sp #\n",
        "    # Fill out function and remove\n",
        "    #raise NotImplementedError('Student Exercise: calculate the dv/dt and the update step!')\n",
        "    ########################################################################\n",
        "\n",
        "    # Calculate the increment of the membrane potential\n",
        "    dv = (-(v[it] - E_L) + (Iinj[it]/g_L))* dt / tau_m\n",
        "\n",
        "    # Update the membrane potential\n",
        "    v[it + 1] = v[it] + dv\n",
        "\n",
        "  # Get spike times in ms\n",
        "  rec_spikes = np.array(rec_spikes) * dt\n",
        "\n",
        "  return v, rec_spikes\n",
        "\n",
        "\n",
        "# Get parameters\n",
        "pars = default_pars(T=500)\n",
        "\n",
        "# Simulate LIF model\n",
        "v, sp = run_LIF(pars, Iinj=100, stop=True)\n",
        "\n",
        "# Visualize\n",
        "plot_volt_trace(pars, v, sp)"
      ]
    },
    {
      "cell_type": "markdown",
      "metadata": {
        "execution": {},
        "id": "M62Gpxy5lgec"
      },
      "source": [
        "[*Click for solution*](https://github.com/NeuromatchAcademy/course-content/tree/main//tutorials/W2D3_BiologicalNeuronModels/solutions/W2D3_Tutorial1_Solution_60a1e954.py)\n",
        "\n",
        "*Example output:*\n",
        "\n",
        "<img alt='Solution hint' align='left' width=820.0 height=539.0 src=https://raw.githubusercontent.com/NeuromatchAcademy/course-content/main/tutorials/W2D3_BiologicalNeuronModels/static/W2D3_Tutorial1_Solution_60a1e954_0.png>\n",
        "\n"
      ]
    },
    {
      "cell_type": "markdown",
      "metadata": {
        "execution": {},
        "id": "amBKAZbilged"
      },
      "source": [
        "---\n",
        "# Section 2: Response of an LIF model to different types of input currents\n",
        "\n",
        "*Estimated timing to here from start of tutorial: 20 min*\n",
        "\n",
        "In the following section, we will learn how to inject direct current and white noise to study the response of an LIF neuron."
      ]
    },
    {
      "cell_type": "code",
      "execution_count": 7,
      "metadata": {
        "cellView": "form",
        "execution": {},
        "id": "lP9wfjlqlged",
        "outputId": "a6f742aa-5ea9-4130-ae39-eef52b908ef2",
        "colab": {
          "base_uri": "https://localhost:8080/",
          "height": 580,
          "referenced_widgets": [
            "d784c804df08472c8f0eabd1b1923899",
            "bf068091b44846fabd4e12f16b775084",
            "5160820aafd84e079ba1db554f823aca",
            "39aa7f392dc0472b8593c6f8cec6c34e",
            "da797043275244cab0202da6eb0ad059",
            "974ca319e0ab44648f61e1c57d8c24d2"
          ]
        }
      },
      "outputs": [
        {
          "output_type": "display_data",
          "data": {
            "text/plain": [
              "Tab(children=(Output(), Output()), _titles={'0': 'Youtube', '1': 'Bilibili'})"
            ],
            "application/vnd.jupyter.widget-view+json": {
              "version_major": 2,
              "version_minor": 0,
              "model_id": "d784c804df08472c8f0eabd1b1923899"
            }
          },
          "metadata": {}
        }
      ],
      "source": [
        "# @title Video 2: Response of the LIF neuron to different inputs\n",
        "from ipywidgets import widgets\n",
        "\n",
        "out2 = widgets.Output()\n",
        "with out2:\n",
        "  from IPython.display import IFrame\n",
        "  class BiliVideo(IFrame):\n",
        "      def __init__(self, id, page=1, width=400, height=300, **kwargs):\n",
        "          self.id=id\n",
        "          src = 'https://player.bilibili.com/player.html?bvid={0}&page={1}'.format(id, page)\n",
        "          super(BiliVideo, self).__init__(src, width, height, **kwargs)\n",
        "\n",
        "  video = BiliVideo(id=\"av541417171\", width=854, height=480, fs=1)\n",
        "  print('Video available at https://www.bilibili.com/video/{0}'.format(video.id))\n",
        "  display(video)\n",
        "\n",
        "out1 = widgets.Output()\n",
        "with out1:\n",
        "  from IPython.display import YouTubeVideo\n",
        "  video = YouTubeVideo(id=\"preNGdab7Kk\", width=854, height=480, fs=1, rel=0)\n",
        "  print('Video available at https://youtube.com/watch?v=' + video.id)\n",
        "  display(video)\n",
        "\n",
        "out = widgets.Tab([out1, out2])\n",
        "out.set_title(0, 'Youtube')\n",
        "out.set_title(1, 'Bilibili')\n",
        "\n",
        "display(out)"
      ]
    },
    {
      "cell_type": "markdown",
      "metadata": {
        "execution": {},
        "id": "k93l8FAtlgee"
      },
      "source": [
        "## Section 2.1: Direct current (DC)\n",
        "\n",
        "*Estimated timing to here from start of tutorial: 30 min*\n"
      ]
    },
    {
      "cell_type": "markdown",
      "metadata": {
        "execution": {},
        "id": "w3aAh18tlgee"
      },
      "source": [
        "### Interactive Demo 2.1: Parameter exploration of DC input amplitude \n",
        "Here's an interactive demo that shows how the LIF neuron behavior changes for DC input (constant current) with different amplitudes. We plot the membrane potential of an LIF neuron. You may notice that the neuron generates a spike. But this is just a cosmetic spike only for illustration purposes. In an LIF neuron, we only need to keep track of times when the neuron hits the threshold so the postsynaptic neurons can be informed of the spike. \n",
        "\n",
        "How much DC is needed to reach the threshold (rheobase current)? How does the membrane time constant affect the frequency of the neuron?"
      ]
    },
    {
      "cell_type": "code",
      "execution_count": 8,
      "metadata": {
        "cellView": "form",
        "execution": {},
        "id": "Xeo1F28ulgee",
        "outputId": "ef0abdcc-d041-4215-97c3-d517f99d5f5c",
        "colab": {
          "base_uri": "https://localhost:8080/",
          "height": 495,
          "referenced_widgets": [
            "02a87e20f62e455294a7b377a793a8e5",
            "69384122e7dc4faaa4ac221cba9e6201",
            "3007bf359bbb4c51a683391ada44973a",
            "cf1760617d934376b1eebfeb95ae10da",
            "318f7b1d5952471eaa7f9c285aaec7ee",
            "bb9b7f072ab947f7b07652a4bc1c3bcb",
            "c244800341a24dc591869d2b2eb06631",
            "4df9d3d0fbf6499a857e8df1efbcd796",
            "f23ed0559a334aae9170a1c0012dcae0"
          ]
        }
      },
      "outputs": [
        {
          "output_type": "display_data",
          "data": {
            "text/plain": [
              "interactive(children=(FloatSlider(value=50.0, description='I_dc', layout=Layout(width='450px'), max=300.0, ste…"
            ],
            "application/vnd.jupyter.widget-view+json": {
              "version_major": 2,
              "version_minor": 0,
              "model_id": "02a87e20f62e455294a7b377a793a8e5"
            }
          },
          "metadata": {}
        }
      ],
      "source": [
        "# @title\n",
        "# @markdown Make sure you execute this cell to enable the widget!\n",
        "my_layout.width = '450px'\n",
        "@widgets.interact(\n",
        "    I_dc=widgets.FloatSlider(50., min=0., max=300., step=10.,\n",
        "                               layout=my_layout),\n",
        "    tau_m=widgets.FloatSlider(10., min=2., max=20., step=2.,\n",
        "                                layout=my_layout)\n",
        ")\n",
        "\n",
        "def diff_DC(I_dc=200., tau_m=10.):\n",
        "  pars = default_pars(T=100.)\n",
        "  pars['tau_m'] = tau_m\n",
        "  v, sp = run_LIF(pars, Iinj=I_dc)\n",
        "  plot_volt_trace(pars, v, sp)\n",
        "  plt.show()"
      ]
    },
    {
      "cell_type": "markdown",
      "metadata": {
        "execution": {},
        "id": "QudfOanHlgef"
      },
      "source": [
        "[*Click for solution*](https://github.com/NeuromatchAcademy/course-content/tree/main//tutorials/W2D3_BiologicalNeuronModels/solutions/W2D3_Tutorial1_Solution_1058324c.py)\n",
        "\n"
      ]
    },
    {
      "cell_type": "markdown",
      "metadata": {
        "execution": {},
        "id": "p65HrcOQlgef"
      },
      "source": [
        "## Section 2.2: Gaussian white noise (GWN) current \n",
        "\n",
        "*Estimated timing to here from start of tutorial: 38 min*\n",
        "\n",
        "Given the noisy nature of neuronal activity _in vivo_, neurons usually receive complex, time-varying inputs.\n",
        "\n",
        "To mimic this, we will now investigate the neuronal response when the LIF neuron receives Gaussian white noise $\\xi(t)$ with mean 0 ($\\mu = 0$) and some standard deviation $\\sigma$.\n",
        "\n",
        "Note that the GWN has zero mean, that is, it describes only the fluctuations of the input received by a neuron. We can thus modify our definition of GWN to have a nonzero mean value $\\mu$ that equals the DC input, since this is the average input into the cell. The cell below defines the modified gaussian white noise currents with nonzero mean $\\mu$."
      ]
    },
    {
      "cell_type": "markdown",
      "metadata": {
        "execution": {},
        "id": "ZtXxRQG9lgeg"
      },
      "source": [
        "### Interactive Demo 2.2: LIF neuron Explorer for noisy input\n",
        "\n",
        "\n",
        "The mean of the Gaussian white noise (GWN) is the amplitude of DC. Indeed, when $\\sigma = 0$, GWN is just a DC.\n",
        "\n",
        "So the question arises how does $\\sigma$ of the GWN affect the spiking behavior of the neuron. For instance we may want to know\n",
        "1.  how does the minimum input (i.e., $\\mu$) needed to make a neuron spike change with increase in $\\sigma$\n",
        "2.  how does the spike regularity change with increase in $\\sigma$\n",
        "\n",
        "To get an intuition about these questions you can use the following interactive demo that shows how the LIF neuron behavior changes for noisy input with different amplitudes (the mean $\\mu$) and fluctuation sizes ($\\sigma$). We use a helper function to generate this noisy input current: `my_GWN(pars, mu, sig, myseed=False)`.  Note that fixing the value of the random seed (e.g., `myseed=2020`) will allow you to obtain the same result every time you run this. We then use our `run_LIF` function to simulate the LIF model.\n"
      ]
    },
    {
      "cell_type": "code",
      "execution_count": 9,
      "metadata": {
        "cellView": "form",
        "execution": {},
        "id": "kZW2Kqoylgeg",
        "outputId": "a76951cb-e26d-49be-b33d-e58b90fd35d1",
        "colab": {
          "base_uri": "https://localhost:8080/"
        }
      },
      "outputs": [
        {
          "output_type": "stream",
          "name": "stdout",
          "text": [
            "Help on function my_GWN in module __main__:\n",
            "\n",
            "my_GWN(pars, mu, sig, myseed=False)\n",
            "    Function that generates Gaussian white noise input\n",
            "    \n",
            "    Args:\n",
            "      pars       : parameter dictionary\n",
            "      mu         : noise baseline (mean)\n",
            "      sig        : noise amplitute (standard deviation)\n",
            "      myseed     : random seed. int or boolean\n",
            "                   the same seed will give the same\n",
            "                   random number sequence\n",
            "    \n",
            "    Returns:\n",
            "      I          : Gaussian white noise input\n",
            "\n"
          ]
        }
      ],
      "source": [
        "# @markdown Execute to enable helper function `my_GWN`\n",
        "\n",
        "def my_GWN(pars, mu, sig, myseed=False):\n",
        "  \"\"\"\n",
        "  Function that generates Gaussian white noise input\n",
        "\n",
        "  Args:\n",
        "    pars       : parameter dictionary\n",
        "    mu         : noise baseline (mean)\n",
        "    sig        : noise amplitute (standard deviation)\n",
        "    myseed     : random seed. int or boolean\n",
        "                 the same seed will give the same\n",
        "                 random number sequence\n",
        "\n",
        "  Returns:\n",
        "    I          : Gaussian white noise input\n",
        "  \"\"\"\n",
        "\n",
        "  # Retrieve simulation parameters\n",
        "  dt, range_t = pars['dt'], pars['range_t']\n",
        "  Lt = range_t.size\n",
        "\n",
        "  # Set random seed\n",
        "  if myseed:\n",
        "      np.random.seed(seed=myseed)\n",
        "  else:\n",
        "      np.random.seed()\n",
        "\n",
        "  # Generate GWN\n",
        "  # we divide here by 1000 to convert units to sec.\n",
        "  I_gwn = mu + sig * np.random.randn(Lt) / np.sqrt(dt / 1000.)\n",
        "\n",
        "  return I_gwn\n",
        "\n",
        "help(my_GWN)"
      ]
    },
    {
      "cell_type": "code",
      "execution_count": 10,
      "metadata": {
        "cellView": "form",
        "execution": {},
        "id": "eVHmxBrDlgeh",
        "outputId": "182daaa7-7381-4b52-a073-a5d88748b05f",
        "colab": {
          "base_uri": "https://localhost:8080/",
          "height": 351,
          "referenced_widgets": [
            "b7cd21d230054556a520c10cd5868ff3",
            "c103a77991ce42a78365b9bbe99fcc31",
            "02062f382f154baabf22c18757e685ba",
            "fc4f0a425b2a44a7908e307b9f3f1fd1",
            "e3b6c46ab226455fb675bee3ea7c3530",
            "bb9b7f072ab947f7b07652a4bc1c3bcb",
            "b5d0ad968c2d4fb78af1d500795a8844",
            "d3a6616d3e0c430c8930f4719e0a3738",
            "46c1ac754dd64db08fe033f401e2aa7a"
          ]
        }
      },
      "outputs": [
        {
          "output_type": "display_data",
          "data": {
            "text/plain": [
              "interactive(children=(FloatSlider(value=200.0, description='mu_gwn', layout=Layout(width='450px'), max=300.0, …"
            ],
            "application/vnd.jupyter.widget-view+json": {
              "version_major": 2,
              "version_minor": 0,
              "model_id": "b7cd21d230054556a520c10cd5868ff3"
            }
          },
          "metadata": {}
        }
      ],
      "source": [
        "# @title\n",
        "\n",
        "# @markdown Make sure you execute this cell to enable the widget!\n",
        "\n",
        "my_layout.width = '450px'\n",
        "@widgets.interact(\n",
        "    mu_gwn=widgets.FloatSlider(200., min=100., max=300., step=5.,\n",
        "                               layout=my_layout),\n",
        "    sig_gwn=widgets.FloatSlider(2.5, min=0., max=5., step=.5,\n",
        "                                layout=my_layout)\n",
        ")\n",
        "\n",
        "\n",
        "def diff_GWN_to_LIF(mu_gwn, sig_gwn):\n",
        "  pars = default_pars(T=100.)\n",
        "  I_GWN = my_GWN(pars, mu=mu_gwn, sig=sig_gwn)\n",
        "  v, sp = run_LIF(pars, Iinj=I_GWN)\n",
        "  plt.figure(figsize=(12, 4))\n",
        "  plt.subplot(121)\n",
        "  plt.plot(pars['range_t'][::3], I_GWN[::3], 'b')\n",
        "  plt.xlabel('Time (ms)')\n",
        "  plt.ylabel(r'$I_{GWN}$ (pA)')\n",
        "  plt.subplot(122)\n",
        "  plot_volt_trace(pars, v, sp)\n",
        "  plt.tight_layout()\n",
        "  plt.show()"
      ]
    },
    {
      "cell_type": "markdown",
      "metadata": {
        "execution": {},
        "id": "s3y225DSlgeh"
      },
      "source": [
        "[*Click for solution*](https://github.com/NeuromatchAcademy/course-content/tree/main//tutorials/W2D3_BiologicalNeuronModels/solutions/W2D3_Tutorial1_Solution_2de5d8a9.py)\n",
        "\n"
      ]
    },
    {
      "cell_type": "markdown",
      "metadata": {
        "execution": {},
        "id": "jdiAJe5klgeh"
      },
      "source": [
        "### Think! 2.2: Analyzing GWN Effects on Spiking\n",
        "- As we increase the input average ($\\mu$) or the input fluctuation ($\\sigma$), the spike count changes. How much can we increase the spike count, and what might be the relationship between GWN mean/std or DC value and spike count? \n",
        "\n",
        "- We have seen above that when we inject DC, the neuron spikes in a regular manner (clock-like), and this regularity is reduced when GWN is injected. The question is, how irregular can we make the neurons spiking by changing the parameters of the GWN? \n",
        "\n",
        "We will see the answers to these questions in the next section but discuss first!\n"
      ]
    },
    {
      "cell_type": "markdown",
      "metadata": {
        "execution": {},
        "id": "TyhhyR1qlgei"
      },
      "source": [
        "---\n",
        "# Section 3: Firing rate and spike time irregularity\n",
        "\n",
        "*Estimated timing to here from start of tutorial: 48 min*\n",
        "\n",
        "When we plot the output firing rate as a function of GWN mean or DC value, it is called the input-output transfer function of the neuron (so simply F-I curve).\n",
        "\n",
        "Spike regularity can be quantified as the **coefficient of variation (CV) of the interspike interval (ISI)**:\n",
        "\n",
        "\\begin{equation}\n",
        "\\text{CV}_{\\text{ISI}} = \\frac{std(\\text{ISI})}{mean(\\text{ISI})}\n",
        "\\end{equation}\n",
        "\n",
        "A Poisson train is an example of high irregularity, in which $\\textbf{CV}_{\\textbf{ISI}} \\textbf{= 1}$. And for a clocklike (regular) process we have $\\textbf{CV}_{\\textbf{ISI}} \\textbf{= 0}$ because of **std(ISI)=0**."
      ]
    },
    {
      "cell_type": "markdown",
      "metadata": {
        "execution": {},
        "id": "NVEUxDFelgei"
      },
      "source": [
        "## Interactive Demo 3A: F-I Explorer for different `sig_gwn`\n",
        "\n",
        "How does the F-I curve of the LIF neuron change as we increase the $\\sigma$ of the GWN? We can already expect that the F-I curve will be stochastic and the results will vary from one trial to another. But will there be any other change compared to the F-I curved measured using DC?\n",
        "\n",
        "Here's an interactive demo that shows how the F-I curve of a LIF neuron changes for different levels of fluctuation $\\sigma$.\n"
      ]
    },
    {
      "cell_type": "code",
      "execution_count": 11,
      "metadata": {
        "cellView": "form",
        "execution": {},
        "id": "rdQ8xMi8lgei",
        "outputId": "9e397b1e-3f39-4136-d584-df01e2beeb94",
        "colab": {
          "base_uri": "https://localhost:8080/",
          "height": 463,
          "referenced_widgets": [
            "54a7c5bdae584767b3b0191db782e500",
            "30b57d4df63d4cd9941885b08da459a3",
            "3fbadc951df949a3971b41c87d091ee8",
            "cc4b53ccb96a4d75baf3644872e42fb1",
            "bb9b7f072ab947f7b07652a4bc1c3bcb",
            "7e05207af86b42c78f9e37635bb13dd5",
            "0a2657d180fa4ae48ab3d147fac7995b"
          ]
        }
      },
      "outputs": [
        {
          "output_type": "display_data",
          "data": {
            "text/plain": [
              "interactive(children=(FloatSlider(value=3.0, description='sig_gwn', layout=Layout(width='450px'), max=6.0, ste…"
            ],
            "application/vnd.jupyter.widget-view+json": {
              "version_major": 2,
              "version_minor": 0,
              "model_id": "54a7c5bdae584767b3b0191db782e500"
            }
          },
          "metadata": {}
        }
      ],
      "source": [
        "# @title\n",
        "\n",
        "# @markdown Make sure you execute this cell to enable the widget!\n",
        "\n",
        "\n",
        "my_layout.width = '450px'\n",
        "@widgets.interact(\n",
        "    sig_gwn=widgets.FloatSlider(3.0, min=0., max=6., step=0.5,\n",
        "                                layout=my_layout)\n",
        ")\n",
        "\n",
        "\n",
        "def diff_std_affect_fI(sig_gwn):\n",
        "  pars = default_pars(T=1000.)\n",
        "  I_mean = np.arange(100., 400., 10.)\n",
        "  spk_count = np.zeros(len(I_mean))\n",
        "  spk_count_dc = np.zeros(len(I_mean))\n",
        "\n",
        "  for idx in range(len(I_mean)):\n",
        "      I_GWN = my_GWN(pars, mu=I_mean[idx], sig=sig_gwn, myseed=2020)\n",
        "      v, rec_spikes = run_LIF(pars, Iinj=I_GWN)\n",
        "      v_dc, rec_sp_dc = run_LIF(pars, Iinj=I_mean[idx])\n",
        "      spk_count[idx] = len(rec_spikes)\n",
        "      spk_count_dc[idx] = len(rec_sp_dc)\n",
        "\n",
        "  # Plot the F-I curve i.e. Output firing rate as a function of input mean.\n",
        "  plt.figure()\n",
        "  plt.plot(I_mean, spk_count, 'k',\n",
        "           label=r'$\\sigma_{\\mathrm{GWN}}=%.2f$' % sig_gwn)\n",
        "  plt.plot(I_mean, spk_count_dc, 'k--', alpha=0.5, lw=4, dashes=(2, 2),\n",
        "           label='DC input')\n",
        "  plt.ylabel('Spike count')\n",
        "  plt.xlabel('Average injected current (pA)')\n",
        "  plt.legend(loc='best')\n",
        "  plt.show()"
      ]
    },
    {
      "cell_type": "markdown",
      "metadata": {
        "execution": {},
        "id": "0TrFDsXglgej"
      },
      "source": [
        "[*Click for solution*](https://github.com/NeuromatchAcademy/course-content/tree/main//tutorials/W2D3_BiologicalNeuronModels/solutions/W2D3_Tutorial1_Solution_5aa4e3b0.py)\n",
        "\n"
      ]
    },
    {
      "cell_type": "markdown",
      "metadata": {
        "execution": {},
        "id": "0WW0sh9algek"
      },
      "source": [
        "## Coding Exercise 3: Compute $CV_{ISI}$ values\n",
        "\n",
        "As shown above, the F-I curve becomes smoother while increasing the amplitude of the fluctuation ($\\sigma$). In addition, the fluctuation can also change the irregularity of the spikes. Let's investigate the effect of $\\mu=250$ with $\\sigma=0.5$ vs $\\sigma=3$. \n",
        "\n",
        "Fill in the code below to compute ISI, then plot the histogram of the ISI and compute the $CV_{ISI}$. Note that, you can use `np.diff` to calculate ISI."
      ]
    },
    {
      "cell_type": "code",
      "execution_count": 12,
      "metadata": {
        "execution": {},
        "id": "ZCb-RbEOlgel",
        "outputId": "f7bc02d8-b4f0-4611-b020-4b520e606827",
        "colab": {
          "base_uri": "https://localhost:8080/",
          "height": 286
        }
      },
      "outputs": [
        {
          "output_type": "display_data",
          "data": {
            "text/plain": [
              "<Figure size 792x288 with 2 Axes>"
            ],
            "image/png": "[encoded data removed]"
          },
          "metadata": {
            "image/png": {
              "width": 773,
              "height": 269
            },
            "needs_background": "light"
          }
        }
      ],
      "source": [
        "def isi_cv_LIF(spike_times):\n",
        "  \"\"\"\n",
        "  Calculates the interspike intervals (isi) and\n",
        "  the coefficient of variation (cv) for a given spike_train\n",
        "\n",
        "  Args:\n",
        "    spike_times : (n, ) vector with the spike times (ndarray)\n",
        "\n",
        "  Returns:\n",
        "    isi         : (n-1,) vector with the inter-spike intervals (ms)\n",
        "    cv          : coefficient of variation of isi (float)\n",
        "\n",
        "  \"\"\"\n",
        "  ########################################################################\n",
        "  ## TODO for students: compute the membrane potential v, spike train sp #\n",
        "  # Fill out function and remove\n",
        "  #raise NotImplementedError('Student Exercise: calculate the isi and the cv!')\n",
        "  ########################################################################\n",
        "  if len(spike_times) >= 2:\n",
        "    # Compute isi\n",
        "    isi = np.diff(spike_times)\n",
        "    # Compute cv\n",
        "    cv = np.std(isi) / np.mean(isi)\n",
        "  else:\n",
        "    isi = np.nan\n",
        "    cv = np.nan\n",
        "\n",
        "  return isi, cv\n",
        "\n",
        "\n",
        "# Set parameters\n",
        "pars = default_pars(T=1000.)\n",
        "mu_gwn = 250\n",
        "sig_gwn1 = 0.5\n",
        "sig_gwn2 = 3.0\n",
        "\n",
        "# Run LIF model for sigma = 0.5\n",
        "I_GWN1 = my_GWN(pars, mu=mu_gwn, sig=sig_gwn1, myseed=2020)\n",
        "_, sp1 = run_LIF(pars, Iinj=I_GWN1)\n",
        "\n",
        "# Run LIF model for sigma = 3\n",
        "I_GWN2 = my_GWN(pars, mu=mu_gwn, sig=sig_gwn2, myseed=2020)\n",
        "_, sp2 = run_LIF(pars, Iinj=I_GWN2)\n",
        "\n",
        "# Compute ISIs/CV\n",
        "isi1, cv1 = isi_cv_LIF(sp1)\n",
        "isi2, cv2 = isi_cv_LIF(sp2)\n",
        "\n",
        "# Visualize\n",
        "my_hists(isi1, isi2, cv1, cv2, sig_gwn1, sig_gwn2)"
      ]
    },
    {
      "cell_type": "markdown",
      "metadata": {
        "execution": {},
        "id": "nVpnzXC1lgem"
      },
      "source": [
        "[*Click for solution*](https://github.com/NeuromatchAcademy/course-content/tree/main//tutorials/W2D3_BiologicalNeuronModels/solutions/W2D3_Tutorial1_Solution_27d69c89.py)\n",
        "\n",
        "*Example output:*\n",
        "\n",
        "<img alt='Solution hint' align='left' width=1078.0 height=378.0 src=https://raw.githubusercontent.com/NeuromatchAcademy/course-content/main/tutorials/W2D3_BiologicalNeuronModels/static/W2D3_Tutorial1_Solution_27d69c89_0.png>\n",
        "\n"
      ]
    },
    {
      "cell_type": "markdown",
      "metadata": {
        "execution": {},
        "id": "2pq0JCM1lgen"
      },
      "source": [
        "## Interactive Demo 3B: Spike irregularity explorer for different `sig_gwn`\n",
        "\n",
        "In the above illustration, we see that the CV of inter-spike-interval (ISI) distribution depends on $\\sigma$ of GWN. What about the mean of GWN, should that also affect the CV$_{\\rm ISI}$? If yes, how? Does the efficacy of $\\sigma$ in increasing the CV$_{\\rm ISI}$ depend on $\\mu$?\n",
        "\n",
        "In the following interactive demo, you will examine how different levels of fluctuation $\\sigma$ affect the CVs for different average injected currents ($\\mu$).\n",
        "\n",
        "1. Does the standard deviation of the injected current affect the F-I curve in any qualitative manner?\n",
        "2. Why does increasing the mean of GWN reduce the CV$_{\\rm ISI}$?\n",
        "3.  If you plot spike count (or rate) vs. CV$_{\\rm ISI}$, should there be a relationship between the two? Try out yourself."
      ]
    },
    {
      "cell_type": "code",
      "execution_count": 13,
      "metadata": {
        "cellView": "form",
        "execution": {},
        "id": "0PbgG2d5lgen",
        "outputId": "d6ab6453-dce9-45d1-a63c-2bda4a917474",
        "colab": {
          "base_uri": "https://localhost:8080/",
          "height": 462,
          "referenced_widgets": [
            "0c75a87cb9774a6dba88cfa7d057f7bf",
            "f3f6f068be074ce189108d2fbd1a73b2",
            "34d40772fd6c4d0bbce4ff56385427c1",
            "9aff3b2176c343279f8b0712dd2e297b",
            "bb9b7f072ab947f7b07652a4bc1c3bcb",
            "9206ba5e146e46bf8ae48eb5b68ee3bc",
            "806271d86ad540ccb2874f8a4afd378b"
          ]
        }
      },
      "outputs": [
        {
          "output_type": "display_data",
          "data": {
            "text/plain": [
              "interactive(children=(FloatSlider(value=0.0, description='sig_gwn', layout=Layout(width='450px'), max=10.0, st…"
            ],
            "application/vnd.jupyter.widget-view+json": {
              "version_major": 2,
              "version_minor": 0,
              "model_id": "0c75a87cb9774a6dba88cfa7d057f7bf"
            }
          },
          "metadata": {}
        }
      ],
      "source": [
        "#@title\n",
        "\n",
        "#@markdown Make sure you execute this cell to enable the widget!\n",
        "\n",
        "my_layout.width = '450px'\n",
        "@widgets.interact(\n",
        "    sig_gwn=widgets.FloatSlider(0.0, min=0., max=10.,\n",
        "                                step=0.5, layout=my_layout)\n",
        ")\n",
        "\n",
        "\n",
        "def diff_std_affect_fI(sig_gwn):\n",
        "  pars = default_pars(T=1000.)\n",
        "  I_mean = np.arange(100., 400., 20)\n",
        "  spk_count = np.zeros(len(I_mean))\n",
        "  cv_isi = np.empty(len(I_mean))\n",
        "\n",
        "  for idx in range(len(I_mean)):\n",
        "    I_GWN = my_GWN(pars, mu=I_mean[idx], sig=sig_gwn)\n",
        "    v, rec_spikes = run_LIF(pars, Iinj=I_GWN)\n",
        "    spk_count[idx] = len(rec_spikes)\n",
        "    if len(rec_spikes) > 3:\n",
        "      isi = np.diff(rec_spikes)\n",
        "      cv_isi[idx] = np.std(isi) / np.mean(isi)\n",
        "\n",
        "  # Plot the F-I curve i.e. Output firing rate as a function of input mean.\n",
        "  plt.figure()\n",
        "  plt.plot(I_mean[spk_count > 5], cv_isi[spk_count > 5], 'bo', alpha=0.5)\n",
        "  plt.xlabel('Average injected current (pA)')\n",
        "  plt.ylabel(r'Spike irregularity ($\\mathrm{CV}_\\mathrm{ISI}$)')\n",
        "  plt.ylim(-0.1, 1.5)\n",
        "  plt.grid(True)\n",
        "  plt.show()"
      ]
    },
    {
      "cell_type": "markdown",
      "metadata": {
        "execution": {},
        "id": "S7YAKuOSlgeo"
      },
      "source": [
        "[*Click for solution*](https://github.com/NeuromatchAcademy/course-content/tree/main//tutorials/W2D3_BiologicalNeuronModels/solutions/W2D3_Tutorial1_Solution_c6f1c4a2.py)\n",
        "\n"
      ]
    },
    {
      "cell_type": "markdown",
      "metadata": {
        "execution": {},
        "id": "BgyJb1FFlgep"
      },
      "source": [
        "---\n",
        "# Summary\n",
        "\n",
        "*Estimated timing of tutorial: 1 hour, 10 min*\n",
        "\n",
        "Congratulations! You've just built a leaky integrate-and-fire (LIF) neuron model from scratch, and studied its dynamics in response to various types of inputs, having:\n",
        "\n",
        "- simulated the LIF neuron model\n",
        "\n",
        "- driven the LIF neuron with external inputs, such as direct current and Gaussian white noise\n",
        "\n",
        "- studied how different inputs affect the  LIF neuron's output (firing rate and spike time irregularity),\n",
        "\n",
        "with a special focus on low rate and irregular firing regime to mimic real cortical neurons. The next tutorial will look at how spiking statistics may be influenced by a neuron's input statistics.\n",
        "\n",
        "If you have extra time, look at the bonus sections below to explore a different type of noise input and learn about extensions to integrate-and-fire models.\n"
      ]
    },
    {
      "cell_type": "markdown",
      "metadata": {
        "execution": {},
        "id": "eGoBE90klgep"
      },
      "source": [
        "---\n",
        "# Bonus"
      ]
    },
    {
      "cell_type": "markdown",
      "metadata": {
        "execution": {},
        "id": "OHhnBVBklgep"
      },
      "source": [
        "---\n",
        "## Bonus Section 1: Ornstein-Uhlenbeck Process\n",
        "\n",
        "When a neuron receives spiking input, the synaptic current is Shot Noise -- which is a kind of colored noise and the spectrum of the noise determined by the synaptic kernel time constant. That is, a neuron is driven by **colored noise** and not GWN.\n",
        "\n",
        "We can model colored noise using the Ornstein-Uhlenbeck process - filtered white noise. "
      ]
    },
    {
      "cell_type": "markdown",
      "metadata": {
        "execution": {},
        "id": "srDHIFUPlgeq"
      },
      "source": [
        "We next study if the input current is temporally correlated and is modeled as an Ornstein-Uhlenbeck process $\\eta(t)$, i.e., low-pass filtered GWN with a time constant $\\tau_{\\eta}$: \n",
        "\n",
        "\\begin{equation}\n",
        "\\tau_\\eta \\frac{d}{dt}\\eta(t) = \\mu-\\eta(t) + \\sigma_\\eta\\sqrt{2\\tau_\\eta}\\xi(t)\n",
        "\\end{equation}\n",
        "\n",
        "**Hint:** An OU process as defined above has\n",
        "\n",
        "\\begin{equation}\n",
        "\\mathbb{E}[\\eta(t)]=\\mu\n",
        "\\end{equation}\n",
        "\n",
        "and autocovariance \n",
        "\n",
        "\\begin{equation}\n",
        "[\\eta(t)\\eta(t+\\tau)]=\\sigma_\\eta^2e^{-|t-\\tau|/\\tau_\\eta}\n",
        "\\end{equation}\n",
        "\n",
        "which can be used to check your code. "
      ]
    },
    {
      "cell_type": "code",
      "execution_count": 14,
      "metadata": {
        "cellView": "form",
        "execution": {},
        "id": "LI8EiibZlger",
        "outputId": "6f12cac5-d36a-41fb-956d-4b6b5e69532b",
        "colab": {
          "base_uri": "https://localhost:8080/"
        }
      },
      "outputs": [
        {
          "output_type": "stream",
          "name": "stdout",
          "text": [
            "Help on function my_OU in module __main__:\n",
            "\n",
            "my_OU(pars, mu, sig, myseed=False)\n",
            "    Function that produces Ornstein-Uhlenbeck input\n",
            "    \n",
            "    Args:\n",
            "      pars       : parameter dictionary\n",
            "      sig        : noise amplitute\n",
            "      myseed     : random seed. int or boolean\n",
            "    \n",
            "    Returns:\n",
            "      I_ou       : Ornstein-Uhlenbeck input current\n",
            "\n"
          ]
        }
      ],
      "source": [
        "# @markdown Execute this cell to get helper function `my_OU`\n",
        "\n",
        "\n",
        "def my_OU(pars, mu, sig, myseed=False):\n",
        "  \"\"\"\n",
        "  Function that produces Ornstein-Uhlenbeck input\n",
        "\n",
        "  Args:\n",
        "    pars       : parameter dictionary\n",
        "    sig        : noise amplitute\n",
        "    myseed     : random seed. int or boolean\n",
        "\n",
        "  Returns:\n",
        "    I_ou       : Ornstein-Uhlenbeck input current\n",
        "  \"\"\"\n",
        "\n",
        "  # Retrieve simulation parameters\n",
        "  dt, range_t = pars['dt'], pars['range_t']\n",
        "  Lt = range_t.size\n",
        "  tau_ou = pars['tau_ou']  # [ms]\n",
        "\n",
        "  # set random seed\n",
        "  if myseed:\n",
        "    np.random.seed(seed=myseed)\n",
        "  else:\n",
        "    np.random.seed()\n",
        "\n",
        "  # Initialize\n",
        "  noise = np.random.randn(Lt)\n",
        "  I_ou = np.zeros(Lt)\n",
        "  I_ou[0] = noise[0] * sig\n",
        "\n",
        "  # generate OU\n",
        "  for it in range(Lt-1):\n",
        "    I_ou[it+1] = I_ou[it] + (dt / tau_ou) * (mu - I_ou[it]) + np.sqrt(2 * dt / tau_ou) * sig * noise[it + 1]\n",
        "\n",
        "  return I_ou\n",
        "\n",
        "\n",
        "help(my_OU)"
      ]
    },
    {
      "cell_type": "markdown",
      "metadata": {
        "execution": {},
        "id": "n-zmu1Z3lges"
      },
      "source": [
        "### Bonus Interactive Demo 1: LIF Explorer with OU input\n",
        "In the following, we will check how a neuron responds to a noisy current that follows the statistics of an OU process.\n",
        "\n",
        "-  How does the OU type input change neuron responsiveness? \n",
        "-  What do you think will happen to the spike pattern and rate if you increased or decreased the time constant of the OU process?"
      ]
    },
    {
      "cell_type": "code",
      "execution_count": 15,
      "metadata": {
        "cellView": "form",
        "execution": {},
        "id": "DSBpFUpxlges",
        "outputId": "5a989e6d-bccd-4502-f0a9-ca6024732397",
        "colab": {
          "base_uri": "https://localhost:8080/",
          "height": 383,
          "referenced_widgets": [
            "4ac955cc76ce46d78800c7d767ecaa0d",
            "be5c6d281d9048fab2672efcb7133f20",
            "d0d1b2787eef410c809effff6d7b226a",
            "5883cf3e05d64e3d80685331f9158795",
            "eb952c1725de47e597d3e1228f954d9e",
            "b94c5427d56a4f3b9869c12414bbe773",
            "bb9b7f072ab947f7b07652a4bc1c3bcb",
            "453b5729c57840a482a54962b590352a",
            "92508a9bd6494e1bb31133b28fc8e314",
            "27f1c43125fd454db0d888da87c2e7b5",
            "4a9db911a3d14582888255d11567cfea"
          ]
        }
      },
      "outputs": [
        {
          "output_type": "display_data",
          "data": {
            "text/plain": [
              "interactive(children=(FloatSlider(value=10.0, description='tau_ou', layout=Layout(width='450px'), max=20.0, mi…"
            ],
            "application/vnd.jupyter.widget-view+json": {
              "version_major": 2,
              "version_minor": 0,
              "model_id": "4ac955cc76ce46d78800c7d767ecaa0d"
            }
          },
          "metadata": {}
        }
      ],
      "source": [
        "# @title\n",
        "\n",
        "# @markdown Remember to enable the widget by running the cell!\n",
        "\n",
        "my_layout.width = '450px'\n",
        "@widgets.interact(\n",
        "  tau_ou=widgets.FloatSlider(10.0, min=5., max=20.,\n",
        "                             step=2.5, layout=my_layout),\n",
        "  sig_ou=widgets.FloatSlider(10.0, min=5., max=40.,\n",
        "                             step=2.5, layout=my_layout),\n",
        "  mu_ou=widgets.FloatSlider(190.0, min=180., max=220.,\n",
        "                            step=2.5, layout=my_layout)\n",
        ")\n",
        "\n",
        "\n",
        "def LIF_with_OU(tau_ou=10., sig_ou=40., mu_ou=200.):\n",
        "  pars = default_pars(T=1000.)\n",
        "  pars['tau_ou'] = tau_ou  # [ms]\n",
        "\n",
        "  I_ou = my_OU(pars, mu_ou, sig_ou)\n",
        "\n",
        "  v, sp = run_LIF(pars, Iinj=I_ou)\n",
        "\n",
        "  plt.figure(figsize=(12, 4))\n",
        "  plt.subplot(121)\n",
        "  plt.plot(pars['range_t'], I_ou, 'b', lw=1.0)\n",
        "  plt.xlabel('Time (ms)')\n",
        "  plt.ylabel(r'$I_{\\mathrm{OU}}$ (pA)')\n",
        "  plt.subplot(122)\n",
        "  plot_volt_trace(pars, v, sp)\n",
        "  plt.tight_layout()\n",
        "  plt.show()"
      ]
    },
    {
      "cell_type": "markdown",
      "metadata": {
        "execution": {},
        "id": "2VZ9I7O7lges"
      },
      "source": [
        "[*Click for solution*](https://github.com/NeuromatchAcademy/course-content/tree/main//tutorials/W2D3_BiologicalNeuronModels/solutions/W2D3_Tutorial1_Solution_a0f797af.py)\n",
        "\n"
      ]
    },
    {
      "cell_type": "markdown",
      "metadata": {
        "execution": {},
        "id": "LCELAKFilget"
      },
      "source": [
        "---\n",
        "## Bonus Section 2: Generalized Integrate-and-Fire models\n",
        "\n",
        "LIF model is not the only abstraction of real neurons. If you want to learn about more realistic types of neuronal models, watch the Bonus Video!"
      ]
    },
    {
      "cell_type": "code",
      "execution_count": 16,
      "metadata": {
        "cellView": "form",
        "execution": {},
        "id": "vrArf5EGlget",
        "outputId": "96de6973-d6bd-45c9-b7bc-8edcc976e51e",
        "colab": {
          "base_uri": "https://localhost:8080/",
          "height": 580,
          "referenced_widgets": [
            "5b96b76cdc624205a89d101ccbfedee0",
            "7067dcb0776c40f482abfb5da9d2d881",
            "33e39b4baada40aba06bff2139d5570c",
            "7cc7b06c47f04374883a970a31d6bd7f",
            "776837cd275c45758be0b77f60b91554",
            "bef8f55bffde478e9e94c34525072701"
          ]
        }
      },
      "outputs": [
        {
          "output_type": "display_data",
          "data": {
            "text/plain": [
              "Tab(children=(Output(), Output()), _titles={'0': 'Youtube', '1': 'Bilibili'})"
            ],
            "application/vnd.jupyter.widget-view+json": {
              "version_major": 2,
              "version_minor": 0,
              "model_id": "5b96b76cdc624205a89d101ccbfedee0"
            }
          },
          "metadata": {}
        }
      ],
      "source": [
        "# @title Video 3 (Bonus): Extensions to Integrate-and-Fire models\n",
        "from ipywidgets import widgets\n",
        "\n",
        "out2 = widgets.Output()\n",
        "with out2:\n",
        "  from IPython.display import IFrame\n",
        "  class BiliVideo(IFrame):\n",
        "      def __init__(self, id, page=1, width=400, height=300, **kwargs):\n",
        "          self.id=id\n",
        "          src = 'https://player.bilibili.com/player.html?bvid={0}&page={1}'.format(id, page)\n",
        "          super(BiliVideo, self).__init__(src, width, height, **kwargs)\n",
        "\n",
        "  video = BiliVideo(id=\"\", width=854, height=480, fs=1)\n",
        "  print('Video available at https://www.bilibili.com/video/{0}'.format(video.id))\n",
        "  display(video)\n",
        "\n",
        "out1 = widgets.Output()\n",
        "with out1:\n",
        "  from IPython.display import YouTubeVideo\n",
        "  video = YouTubeVideo(id=\"G0b6wLhuQxE\", width=854, height=480, fs=1, rel=0)\n",
        "  print('Video available at https://youtube.com/watch?v=' + video.id)\n",
        "  display(video)\n",
        "\n",
        "out = widgets.Tab([out1, out2])\n",
        "out.set_title(0, 'Youtube')\n",
        "out.set_title(1, 'Bilibili')\n",
        "\n",
        "display(out)"
      ]
    }
  ],
  "metadata": {
    "colab": {
      "collapsed_sections": [],
      "name": "W2D3_Tutorial1",
      "provenance": [],
      "toc_visible": true,
      "include_colab_link": true
    },
    "kernel": {
      "display_name": "Python 3",
      "language": "python",
      "name": "python3"
    },
    "kernelspec": {
      "display_name": "Python 3",
      "name": "python3"
    },
    "language_info": {
      "codemirror_mode": {
        "name": "ipython",
        "version": 3
      },
      "file_extension": ".py",
      "mimetype": "text/x-python",
      "name": "python",
      "nbconvert_exporter": "python",
      "pygments_lexer": "ipython3",
      "version": "3.7.13"
    },
    "widgets": {
      "application/vnd.jupyter.widget-state+json": {
        "a2f17e00f9014d71b07af2ef9a500bbd": {
          "model_module": "@jupyter-widgets/controls",
          "model_name": "TabModel",
          "model_module_version": "1.5.0",
          "state": {
            "_dom_classes": [],
            "_model_module": "@jupyter-widgets/controls",
            "_model_module_version": "1.5.0",
            "_model_name": "TabModel",
            "_titles": {
              "0": "Youtube",
              "1": "Bilibili"
            },
            "_view_count": null,
            "_view_module": "@jupyter-widgets/controls",
            "_view_module_version": "1.5.0",
            "_view_name": "TabView",
            "box_style": "",
            "children": [
              "IPY_MODEL_ce2171c199aa4bb1bed12e1657be1615",
              "IPY_MODEL_8bc1eb9c84da4cbe9200a1cb31825b6b"
            ],
            "layout": "IPY_MODEL_e83d7a2fd8444712ba973dc92ffbc8a1",
            "selected_index": 0
          }
        },
        "ce2171c199aa4bb1bed12e1657be1615": {
          "model_module": "@jupyter-widgets/output",
          "model_name": "OutputModel",
          "model_module_version": "1.0.0",
          "state": {
            "_dom_classes": [],
            "_model_module": "@jupyter-widgets/output",
            "_model_module_version": "1.0.0",
            "_model_name": "OutputModel",
            "_view_count": null,
            "_view_module": "@jupyter-widgets/output",
            "_view_module_version": "1.0.0",
            "_view_name": "OutputView",
            "layout": "IPY_MODEL_92c8252b2779494d8ce659f986e98ccc",
            "msg_id": "",
            "outputs": [
              {
                "output_type": "stream",
                "name": "stdout",
                "text": [
                  "Video available at https://youtube.com/watch?v=rSExvwCVRYg\n"
                ]
              },
              {
                "output_type": "display_data",
                "data": {
                  "text/plain": "<IPython.lib.display.YouTubeVideo at 0x7f95fbc2b390>",
                  "text/html": "\n        <iframe\n            width=\"854\"\n            height=\"480\"\n            src=\"https://www.youtube.com/embed/rSExvwCVRYg?fs=1&rel=0\"\n            frameborder=\"0\"\n            allowfullscreen\n        ></iframe>\n        ",
                  "image/jpeg": "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\n"
                },
                "metadata": {}
              }
            ]
          }
        },
        "8bc1eb9c84da4cbe9200a1cb31825b6b": {
          "model_module": "@jupyter-widgets/output",
          "model_name": "OutputModel",
          "model_module_version": "1.0.0",
          "state": {
            "_dom_classes": [],
            "_model_module": "@jupyter-widgets/output",
            "_model_module_version": "1.0.0",
            "_model_name": "OutputModel",
            "_view_count": null,
            "_view_module": "@jupyter-widgets/output",
            "_view_module_version": "1.0.0",
            "_view_name": "OutputView",
            "layout": "IPY_MODEL_a9029c91b77245858847063239ea08d5",
            "msg_id": "",
            "outputs": [
              {
                "output_type": "stream",
                "name": "stdout",
                "text": [
                  "Video available at https://www.bilibili.com/video/av456396195\n"
                ]
              },
              {
                "output_type": "display_data",
                "data": {
                  "text/plain": "<__main__.BiliVideo at 0x7f95f52bf810>",
                  "text/html": "\n        <iframe\n            width=\"854\"\n            height=\"480\"\n            src=\"https://player.bilibili.com/player.html?bvid=av456396195&page=1?fs=1\"\n            frameborder=\"0\"\n            allowfullscreen\n        ></iframe>\n        "
                },
                "metadata": {}
              }
            ]
          }
        },
        "e83d7a2fd8444712ba973dc92ffbc8a1": {
          "model_module": "@jupyter-widgets/base",
          "model_name": "LayoutModel",
          "model_module_version": "1.2.0",
          "state": {
            "_model_module": "@jupyter-widgets/base",
            "_model_module_version": "1.2.0",
            "_model_name": "LayoutModel",
            "_view_count": null,
            "_view_module": "@jupyter-widgets/base",
            "_view_module_version": "1.2.0",
            "_view_name": "LayoutView",
            "align_content": null,
            "align_items": null,
            "align_self": null,
            "border": null,
            "bottom": null,
            "display": null,
            "flex": null,
            "flex_flow": null,
            "grid_area": null,
            "grid_auto_columns": null,
            "grid_auto_flow": null,
            "grid_auto_rows": null,
            "grid_column": null,
            "grid_gap": null,
            "grid_row": null,
            "grid_template_areas": null,
            "grid_template_columns": null,
            "grid_template_rows": null,
            "height": null,
            "justify_content": null,
            "justify_items": null,
            "left": null,
            "margin": null,
            "max_height": null,
            "max_width": null,
            "min_height": null,
            "min_width": null,
            "object_fit": null,
            "object_position": null,
            "order": null,
            "overflow": null,
            "overflow_x": null,
            "overflow_y": null,
            "padding": null,
            "right": null,
            "top": null,
            "visibility": null,
            "width": null
          }
        },
        "92c8252b2779494d8ce659f986e98ccc": {
          "model_module": "@jupyter-widgets/base",
          "model_name": "LayoutModel",
          "model_module_version": "1.2.0",
          "state": {
            "_model_module": "@jupyter-widgets/base",
            "_model_module_version": "1.2.0",
            "_model_name": "LayoutModel",
            "_view_count": null,
            "_view_module": "@jupyter-widgets/base",
            "_view_module_version": "1.2.0",
            "_view_name": "LayoutView",
            "align_content": null,
            "align_items": null,
            "align_self": null,
            "border": null,
            "bottom": null,
            "display": null,
            "flex": null,
            "flex_flow": null,
            "grid_area": null,
            "grid_auto_columns": null,
            "grid_auto_flow": null,
            "grid_auto_rows": null,
            "grid_column": null,
            "grid_gap": null,
            "grid_row": null,
            "grid_template_areas": null,
            "grid_template_columns": null,
            "grid_template_rows": null,
            "height": null,
            "justify_content": null,
            "justify_items": null,
            "left": null,
            "margin": null,
            "max_height": null,
            "max_width": null,
            "min_height": null,
            "min_width": null,
            "object_fit": null,
            "object_position": null,
            "order": null,
            "overflow": null,
            "overflow_x": null,
            "overflow_y": null,
            "padding": null,
            "right": null,
            "top": null,
            "visibility": null,
            "width": null
          }
        },
        "a9029c91b77245858847063239ea08d5": {
          "model_module": "@jupyter-widgets/base",
          "model_name": "LayoutModel",
          "model_module_version": "1.2.0",
          "state": {
            "_model_module": "@jupyter-widgets/base",
            "_model_module_version": "1.2.0",
            "_model_name": "LayoutModel",
            "_view_count": null,
            "_view_module": "@jupyter-widgets/base",
            "_view_module_version": "1.2.0",
            "_view_name": "LayoutView",
            "align_content": null,
            "align_items": null,
            "align_self": null,
            "border": null,
            "bottom": null,
            "display": null,
            "flex": null,
            "flex_flow": null,
            "grid_area": null,
            "grid_auto_columns": null,
            "grid_auto_flow": null,
            "grid_auto_rows": null,
            "grid_column": null,
            "grid_gap": null,
            "grid_row": null,
            "grid_template_areas": null,
            "grid_template_columns": null,
            "grid_template_rows": null,
            "height": null,
            "justify_content": null,
            "justify_items": null,
            "left": null,
            "margin": null,
            "max_height": null,
            "max_width": null,
            "min_height": null,
            "min_width": null,
            "object_fit": null,
            "object_position": null,
            "order": null,
            "overflow": null,
            "overflow_x": null,
            "overflow_y": null,
            "padding": null,
            "right": null,
            "top": null,
            "visibility": null,
            "width": null
          }
        },
        "d784c804df08472c8f0eabd1b1923899": {
          "model_module": "@jupyter-widgets/controls",
          "model_name": "TabModel",
          "model_module_version": "1.5.0",
          "state": {
            "_dom_classes": [],
            "_model_module": "@jupyter-widgets/controls",
            "_model_module_version": "1.5.0",
            "_model_name": "TabModel",
            "_titles": {
              "0": "Youtube",
              "1": "Bilibili"
            },
            "_view_count": null,
            "_view_module": "@jupyter-widgets/controls",
            "_view_module_version": "1.5.0",
            "_view_name": "TabView",
            "box_style": "",
            "children": [
              "IPY_MODEL_bf068091b44846fabd4e12f16b775084",
              "IPY_MODEL_5160820aafd84e079ba1db554f823aca"
            ],
            "layout": "IPY_MODEL_39aa7f392dc0472b8593c6f8cec6c34e",
            "selected_index": 0
          }
        },
        "bf068091b44846fabd4e12f16b775084": {
          "model_module": "@jupyter-widgets/output",
          "model_name": "OutputModel",
          "model_module_version": "1.0.0",
          "state": {
            "_dom_classes": [],
            "_model_module": "@jupyter-widgets/output",
            "_model_module_version": "1.0.0",
            "_model_name": "OutputModel",
            "_view_count": null,
            "_view_module": "@jupyter-widgets/output",
            "_view_module_version": "1.0.0",
            "_view_name": "OutputView",
            "layout": "IPY_MODEL_da797043275244cab0202da6eb0ad059",
            "msg_id": "",
            "outputs": [
              {
                "output_type": "stream",
                "name": "stdout",
                "text": [
                  "Video available at https://youtube.com/watch?v=preNGdab7Kk\n"
                ]
              },
              {
                "output_type": "display_data",
                "data": {
                  "text/plain": "<IPython.lib.display.YouTubeVideo at 0x7f95eb135a50>",
                  "text/html": "\n        <iframe\n            width=\"854\"\n            height=\"480\"\n            src=\"https://www.youtube.com/embed/preNGdab7Kk?fs=1&rel=0\"\n            frameborder=\"0\"\n            allowfullscreen\n        ></iframe>\n        ",
                  "image/jpeg": "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\n"
                },
                "metadata": {}
              }
            ]
          }
        },
        "5160820aafd84e079ba1db554f823aca": {
          "model_module": "@jupyter-widgets/output",
          "model_name": "OutputModel",
          "model_module_version": "1.0.0",
          "state": {
            "_dom_classes": [],
            "_model_module": "@jupyter-widgets/output",
            "_model_module_version": "1.0.0",
            "_model_name": "OutputModel",
            "_view_count": null,
            "_view_module": "@jupyter-widgets/output",
            "_view_module_version": "1.0.0",
            "_view_name": "OutputView",
            "layout": "IPY_MODEL_974ca319e0ab44648f61e1c57d8c24d2",
            "msg_id": "",
            "outputs": [
              {
                "output_type": "stream",
                "name": "stdout",
                "text": [
                  "Video available at https://www.bilibili.com/video/av541417171\n"
                ]
              },
              {
                "output_type": "display_data",
                "data": {
                  "text/plain": "<__main__.BiliVideo at 0x7f95eb0bc8d0>",
                  "text/html": "\n        <iframe\n            width=\"854\"\n            height=\"480\"\n            src=\"https://player.bilibili.com/player.html?bvid=av541417171&page=1?fs=1\"\n            frameborder=\"0\"\n            allowfullscreen\n        ></iframe>\n        "
                },
                "metadata": {}
              }
            ]
          }
        },
        "39aa7f392dc0472b8593c6f8cec6c34e": {
          "model_module": "@jupyter-widgets/base",
          "model_name": "LayoutModel",
          "model_module_version": "1.2.0",
          "state": {
            "_model_module": "@jupyter-widgets/base",
            "_model_module_version": "1.2.0",
            "_model_name": "LayoutModel",
            "_view_count": null,
            "_view_module": "@jupyter-widgets/base",
            "_view_module_version": "1.2.0",
            "_view_name": "LayoutView",
            "align_content": null,
            "align_items": null,
            "align_self": null,
            "border": null,
            "bottom": null,
            "display": null,
            "flex": null,
            "flex_flow": null,
            "grid_area": null,
            "grid_auto_columns": null,
            "grid_auto_flow": null,
            "grid_auto_rows": null,
            "grid_column": null,
            "grid_gap": null,
            "grid_row": null,
            "grid_template_areas": null,
            "grid_template_columns": null,
            "grid_template_rows": null,
            "height": null,
            "justify_content": null,
            "justify_items": null,
            "left": null,
            "margin": null,
            "max_height": null,
            "max_width": null,
            "min_height": null,
            "min_width": null,
            "object_fit": null,
            "object_position": null,
            "order": null,
            "overflow": null,
            "overflow_x": null,
            "overflow_y": null,
            "padding": null,
            "right": null,
            "top": null,
            "visibility": null,
            "width": null
          }
        },
        "da797043275244cab0202da6eb0ad059": {
          "model_module": "@jupyter-widgets/base",
          "model_name": "LayoutModel",
          "model_module_version": "1.2.0",
          "state": {
            "_model_module": "@jupyter-widgets/base",
            "_model_module_version": "1.2.0",
            "_model_name": "LayoutModel",
            "_view_count": null,
            "_view_module": "@jupyter-widgets/base",
            "_view_module_version": "1.2.0",
            "_view_name": "LayoutView",
            "align_content": null,
            "align_items": null,
            "align_self": null,
            "border": null,
            "bottom": null,
            "display": null,
            "flex": null,
            "flex_flow": null,
            "grid_area": null,
            "grid_auto_columns": null,
            "grid_auto_flow": null,
            "grid_auto_rows": null,
            "grid_column": null,
            "grid_gap": null,
            "grid_row": null,
            "grid_template_areas": null,
            "grid_template_columns": null,
            "grid_template_rows": null,
            "height": null,
            "justify_content": null,
            "justify_items": null,
            "left": null,
            "margin": null,
            "max_height": null,
            "max_width": null,
            "min_height": null,
            "min_width": null,
            "object_fit": null,
            "object_position": null,
            "order": null,
            "overflow": null,
            "overflow_x": null,
            "overflow_y": null,
            "padding": null,
            "right": null,
            "top": null,
            "visibility": null,
            "width": null
          }
        },
        "974ca319e0ab44648f61e1c57d8c24d2": {
          "model_module": "@jupyter-widgets/base",
          "model_name": "LayoutModel",
          "model_module_version": "1.2.0",
          "state": {
            "_model_module": "@jupyter-widgets/base",
            "_model_module_version": "1.2.0",
            "_model_name": "LayoutModel",
            "_view_count": null,
            "_view_module": "@jupyter-widgets/base",
            "_view_module_version": "1.2.0",
            "_view_name": "LayoutView",
            "align_content": null,
            "align_items": null,
            "align_self": null,
            "border": null,
            "bottom": null,
            "display": null,
            "flex": null,
            "flex_flow": null,
            "grid_area": null,
            "grid_auto_columns": null,
            "grid_auto_flow": null,
            "grid_auto_rows": null,
            "grid_column": null,
            "grid_gap": null,
            "grid_row": null,
            "grid_template_areas": null,
            "grid_template_columns": null,
            "grid_template_rows": null,
            "height": null,
            "justify_content": null,
            "justify_items": null,
            "left": null,
            "margin": null,
            "max_height": null,
            "max_width": null,
            "min_height": null,
            "min_width": null,
            "object_fit": null,
            "object_position": null,
            "order": null,
            "overflow": null,
            "overflow_x": null,
            "overflow_y": null,
            "padding": null,
            "right": null,
            "top": null,
            "visibility": null,
            "width": null
          }
        },
        "02a87e20f62e455294a7b377a793a8e5": {
          "model_module": "@jupyter-widgets/controls",
          "model_name": "VBoxModel",
          "model_module_version": "1.5.0",
          "state": {
            "_dom_classes": [
              "widget-interact"
            ],
            "_model_module": "@jupyter-widgets/controls",
            "_model_module_version": "1.5.0",
            "_model_name": "VBoxModel",
            "_view_count": null,
            "_view_module": "@jupyter-widgets/controls",
            "_view_module_version": "1.5.0",
            "_view_name": "VBoxView",
            "box_style": "",
            "children": [
              "IPY_MODEL_69384122e7dc4faaa4ac221cba9e6201",
              "IPY_MODEL_3007bf359bbb4c51a683391ada44973a",
              "IPY_MODEL_cf1760617d934376b1eebfeb95ae10da"
            ],
            "layout": "IPY_MODEL_318f7b1d5952471eaa7f9c285aaec7ee"
          }
        },
        "69384122e7dc4faaa4ac221cba9e6201": {
          "model_module": "@jupyter-widgets/controls",
          "model_name": "FloatSliderModel",
          "model_module_version": "1.5.0",
          "state": {
            "_dom_classes": [],
            "_model_module": "@jupyter-widgets/controls",
            "_model_module_version": "1.5.0",
            "_model_name": "FloatSliderModel",
            "_view_count": null,
            "_view_module": "@jupyter-widgets/controls",
            "_view_module_version": "1.5.0",
            "_view_name": "FloatSliderView",
            "continuous_update": true,
            "description": "I_dc",
            "description_tooltip": null,
            "disabled": false,
            "layout": "IPY_MODEL_bb9b7f072ab947f7b07652a4bc1c3bcb",
            "max": 300,
            "min": 0,
            "orientation": "horizontal",
            "readout": true,
            "readout_format": ".2f",
            "step": 10,
            "style": "IPY_MODEL_c244800341a24dc591869d2b2eb06631",
            "value": 200
          }
        },
        "3007bf359bbb4c51a683391ada44973a": {
          "model_module": "@jupyter-widgets/controls",
          "model_name": "FloatSliderModel",
          "model_module_version": "1.5.0",
          "state": {
            "_dom_classes": [],
            "_model_module": "@jupyter-widgets/controls",
            "_model_module_version": "1.5.0",
            "_model_name": "FloatSliderModel",
            "_view_count": null,
            "_view_module": "@jupyter-widgets/controls",
            "_view_module_version": "1.5.0",
            "_view_name": "FloatSliderView",
            "continuous_update": true,
            "description": "tau_m",
            "description_tooltip": null,
            "disabled": false,
            "layout": "IPY_MODEL_bb9b7f072ab947f7b07652a4bc1c3bcb",
            "max": 20,
            "min": 2,
            "orientation": "horizontal",
            "readout": true,
            "readout_format": ".2f",
            "step": 2,
            "style": "IPY_MODEL_4df9d3d0fbf6499a857e8df1efbcd796",
            "value": 4
          }
        },
        "cf1760617d934376b1eebfeb95ae10da": {
          "model_module": "@jupyter-widgets/output",
          "model_name": "OutputModel",
          "model_module_version": "1.0.0",
          "state": {
            "_dom_classes": [],
            "_model_module": "@jupyter-widgets/output",
            "_model_module_version": "1.0.0",
            "_model_name": "OutputModel",
            "_view_count": null,
            "_view_module": "@jupyter-widgets/output",
            "_view_module_version": "1.0.0",
            "_view_name": "OutputView",
            "layout": "IPY_MODEL_f23ed0559a334aae9170a1c0012dcae0",
            "msg_id": "",
            "outputs": [
              {
                "output_type": "display_data",
                "data": {
                  "text/plain": "<Figure size 576x432 with 1 Axes>",
                  "image/png": "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\n"
                },
                "metadata": {
                  "image/png": {
                    "width": 552,
                    "height": 414
                  },
                  "needs_background": "light"
                }
              }
            ]
          }
        },
        "318f7b1d5952471eaa7f9c285aaec7ee": {
          "model_module": "@jupyter-widgets/base",
          "model_name": "LayoutModel",
          "model_module_version": "1.2.0",
          "state": {
            "_model_module": "@jupyter-widgets/base",
            "_model_module_version": "1.2.0",
            "_model_name": "LayoutModel",
            "_view_count": null,
            "_view_module": "@jupyter-widgets/base",
            "_view_module_version": "1.2.0",
            "_view_name": "LayoutView",
            "align_content": null,
            "align_items": null,
            "align_self": null,
            "border": null,
            "bottom": null,
            "display": null,
            "flex": null,
            "flex_flow": null,
            "grid_area": null,
            "grid_auto_columns": null,
            "grid_auto_flow": null,
            "grid_auto_rows": null,
            "grid_column": null,
            "grid_gap": null,
            "grid_row": null,
            "grid_template_areas": null,
            "grid_template_columns": null,
            "grid_template_rows": null,
            "height": null,
            "justify_content": null,
            "justify_items": null,
            "left": null,
            "margin": null,
            "max_height": null,
            "max_width": null,
            "min_height": null,
            "min_width": null,
            "object_fit": null,
            "object_position": null,
            "order": null,
            "overflow": null,
            "overflow_x": null,
            "overflow_y": null,
            "padding": null,
            "right": null,
            "top": null,
            "visibility": null,
            "width": null
          }
        },
        "bb9b7f072ab947f7b07652a4bc1c3bcb": {
          "model_module": "@jupyter-widgets/base",
          "model_name": "LayoutModel",
          "model_module_version": "1.2.0",
          "state": {
            "_model_module": "@jupyter-widgets/base",
            "_model_module_version": "1.2.0",
            "_model_name": "LayoutModel",
            "_view_count": null,
            "_view_module": "@jupyter-widgets/base",
            "_view_module_version": "1.2.0",
            "_view_name": "LayoutView",
            "align_content": null,
            "align_items": null,
            "align_self": null,
            "border": null,
            "bottom": null,
            "display": null,
            "flex": null,
            "flex_flow": null,
            "grid_area": null,
            "grid_auto_columns": null,
            "grid_auto_flow": null,
            "grid_auto_rows": null,
            "grid_column": null,
            "grid_gap": null,
            "grid_row": null,
            "grid_template_areas": null,
            "grid_template_columns": null,
            "grid_template_rows": null,
            "height": null,
            "justify_content": null,
            "justify_items": null,
            "left": null,
            "margin": null,
            "max_height": null,
            "max_width": null,
            "min_height": null,
            "min_width": null,
            "object_fit": null,
            "object_position": null,
            "order": null,
            "overflow": null,
            "overflow_x": null,
            "overflow_y": null,
            "padding": null,
            "right": null,
            "top": null,
            "visibility": null,
            "width": "450px"
          }
        },
        "c244800341a24dc591869d2b2eb06631": {
          "model_module": "@jupyter-widgets/controls",
          "model_name": "SliderStyleModel",
          "model_module_version": "1.5.0",
          "state": {
            "_model_module": "@jupyter-widgets/controls",
            "_model_module_version": "1.5.0",
            "_model_name": "SliderStyleModel",
            "_view_count": null,
            "_view_module": "@jupyter-widgets/base",
            "_view_module_version": "1.2.0",
            "_view_name": "StyleView",
            "description_width": "",
            "handle_color": null
          }
        },
        "4df9d3d0fbf6499a857e8df1efbcd796": {
          "model_module": "@jupyter-widgets/controls",
          "model_name": "SliderStyleModel",
          "model_module_version": "1.5.0",
          "state": {
            "_model_module": "@jupyter-widgets/controls",
            "_model_module_version": "1.5.0",
            "_model_name": "SliderStyleModel",
            "_view_count": null,
            "_view_module": "@jupyter-widgets/base",
            "_view_module_version": "1.2.0",
            "_view_name": "StyleView",
            "description_width": "",
            "handle_color": null
          }
        },
        "f23ed0559a334aae9170a1c0012dcae0": {
          "model_module": "@jupyter-widgets/base",
          "model_name": "LayoutModel",
          "model_module_version": "1.2.0",
          "state": {
            "_model_module": "@jupyter-widgets/base",
            "_model_module_version": "1.2.0",
            "_model_name": "LayoutModel",
            "_view_count": null,
            "_view_module": "@jupyter-widgets/base",
            "_view_module_version": "1.2.0",
            "_view_name": "LayoutView",
            "align_content": null,
            "align_items": null,
            "align_self": null,
            "border": null,
            "bottom": null,
            "display": null,
            "flex": null,
            "flex_flow": null,
            "grid_area": null,
            "grid_auto_columns": null,
            "grid_auto_flow": null,
            "grid_auto_rows": null,
            "grid_column": null,
            "grid_gap": null,
            "grid_row": null,
            "grid_template_areas": null,
            "grid_template_columns": null,
            "grid_template_rows": null,
            "height": null,
            "justify_content": null,
            "justify_items": null,
            "left": null,
            "margin": null,
            "max_height": null,
            "max_width": null,
            "min_height": null,
            "min_width": null,
            "object_fit": null,
            "object_position": null,
            "order": null,
            "overflow": null,
            "overflow_x": null,
            "overflow_y": null,
            "padding": null,
            "right": null,
            "top": null,
            "visibility": null,
            "width": null
          }
        },
        "b7cd21d230054556a520c10cd5868ff3": {
          "model_module": "@jupyter-widgets/controls",
          "model_name": "VBoxModel",
          "model_module_version": "1.5.0",
          "state": {
            "_dom_classes": [
              "widget-interact"
            ],
            "_model_module": "@jupyter-widgets/controls",
            "_model_module_version": "1.5.0",
            "_model_name": "VBoxModel",
            "_view_count": null,
            "_view_module": "@jupyter-widgets/controls",
            "_view_module_version": "1.5.0",
            "_view_name": "VBoxView",
            "box_style": "",
            "children": [
              "IPY_MODEL_c103a77991ce42a78365b9bbe99fcc31",
              "IPY_MODEL_02062f382f154baabf22c18757e685ba",
              "IPY_MODEL_fc4f0a425b2a44a7908e307b9f3f1fd1"
            ],
            "layout": "IPY_MODEL_e3b6c46ab226455fb675bee3ea7c3530"
          }
        },
        "c103a77991ce42a78365b9bbe99fcc31": {
          "model_module": "@jupyter-widgets/controls",
          "model_name": "FloatSliderModel",
          "model_module_version": "1.5.0",
          "state": {
            "_dom_classes": [],
            "_model_module": "@jupyter-widgets/controls",
            "_model_module_version": "1.5.0",
            "_model_name": "FloatSliderModel",
            "_view_count": null,
            "_view_module": "@jupyter-widgets/controls",
            "_view_module_version": "1.5.0",
            "_view_name": "FloatSliderView",
            "continuous_update": true,
            "description": "mu_gwn",
            "description_tooltip": null,
            "disabled": false,
            "layout": "IPY_MODEL_bb9b7f072ab947f7b07652a4bc1c3bcb",
            "max": 300,
            "min": 100,
            "orientation": "horizontal",
            "readout": true,
            "readout_format": ".2f",
            "step": 5,
            "style": "IPY_MODEL_b5d0ad968c2d4fb78af1d500795a8844",
            "value": 125
          }
        },
        "02062f382f154baabf22c18757e685ba": {
          "model_module": "@jupyter-widgets/controls",
          "model_name": "FloatSliderModel",
          "model_module_version": "1.5.0",
          "state": {
            "_dom_classes": [],
            "_model_module": "@jupyter-widgets/controls",
            "_model_module_version": "1.5.0",
            "_model_name": "FloatSliderModel",
            "_view_count": null,
            "_view_module": "@jupyter-widgets/controls",
            "_view_module_version": "1.5.0",
            "_view_name": "FloatSliderView",
            "continuous_update": true,
            "description": "sig_gwn",
            "description_tooltip": null,
            "disabled": false,
            "layout": "IPY_MODEL_bb9b7f072ab947f7b07652a4bc1c3bcb",
            "max": 5,
            "min": 0,
            "orientation": "horizontal",
            "readout": true,
            "readout_format": ".2f",
            "step": 0.5,
            "style": "IPY_MODEL_d3a6616d3e0c430c8930f4719e0a3738",
            "value": 4
          }
        },
        "fc4f0a425b2a44a7908e307b9f3f1fd1": {
          "model_module": "@jupyter-widgets/output",
          "model_name": "OutputModel",
          "model_module_version": "1.0.0",
          "state": {
            "_dom_classes": [],
            "_model_module": "@jupyter-widgets/output",
            "_model_module_version": "1.0.0",
            "_model_name": "OutputModel",
            "_view_count": null,
            "_view_module": "@jupyter-widgets/output",
            "_view_module_version": "1.0.0",
            "_view_name": "OutputView",
            "layout": "IPY_MODEL_46c1ac754dd64db08fe033f401e2aa7a",
            "msg_id": "",
            "outputs": [
              {
                "output_type": "display_data",
                "data": {
                  "text/plain": "<Figure size 864x288 with 2 Axes>",
                  "image/png": "iVBORw0KGgoAAAANSUhEUgAABpwAAAIcCAYAAADrIg3/AAAABHNCSVQICAgIfAhkiAAAAAlwSFlzAAAWJQAAFiUBSVIk8AAAADh0RVh0U29mdHdhcmUAbWF0cGxvdGxpYiB2ZXJzaW9uMy4yLjIsIGh0dHA6Ly9tYXRwbG90bGliLm9yZy+WH4yJAAAgAElEQVR4nOzdd3yT1f4H8M9JOtO0dAIte4tFkVYLeK8DcYCgqDhB5IqynNAL6BUV5aooKiCKCxUZAqII/CwiolecgFj2nmV0AB20aZOOJOf3R1oI4UmaNEmTpp/365VXM855cvJ05Xk++Z4jpJQgIiIiIiIiIiIiIiIiqiuVrwdAREREREREREREREREDRsDJyIiIiIiIiIiIiIiInILAyciIiIiIiIiIiIiIiJyCwMnIiIiIiIiIiIiIiIicgsDJyIiIiIiIiIiIiIiInILAyciIiIiIiIiIiIiIiJyCwMnIiIiIiIiIiIiIiIicgsDJyIiIiIiIiIiIiIiInILAyciIiIiIiIiIiIiIiJyCwMnIiIiIiIiIiIiIiIicgsDJyIiIiIiIiIiIiIiInILAyciIiIiIiIiIiIiIiJyCwMnIiIiIiIiIiIiIiIicgsDJyIiIiIiIiIiIiIiInILAyciIiIiIvIJIcSzQghZc3GifaQQ4iUhxE4hRKkQolgIsVkI8W8hREh9jJmIiIiIiIiUCSlrPa4jIiIiIiLyKCFEFwDbAITV3CelFA7atwGwHkDb6rv0ANQAQqtvbwXQV0pZ5IXhEhERERERUS0YOBERERERUb0SQqgA/AbgagAbAPQG7AdOQoggAFsAXAYgF8BDUsofq7dzD4C5ACIBfCelHOD9V0BEREQU2DIzMzsCuBXA9QASAQT7dEBE5E1VsBxnrQfwXWpq6qG6boiBExERERER1SshxNMAZgH4AsAhAFMAh4HTIwA+qb55tZRyg83jDwBYXH3zRinlT94YNxEREVFjkJmZ+Q8AM4KCgpqq1eooIUQoALuV6ETU4EkpZYXJZCoxGo2nAaSnpqb+UZcNMXAiIiIiIqJ6I4RoB2AngHIAXQE8jtoDp18BXAPgZynlDQqPCwCHAbQDsEBKOdw7oyciIiIKbNWVTV+EhoZ2iIqKqoqNjS3SaDQGlUrFk8hEAcpsNgu9Xh9eWFgYU1JSElxRUXEYwJDU1NTDrm5L5YXxERERERER2TMXQASAdCnlmdoaCyE0AP5RfXONUhtp+RTd99U3b/bEIImIiIgaqVuDgoKaRkVFVbVq1Spbq9XqGTYRBTaVSiW1Wq2+VatW2VFRUVVBQUFNYZlS0/VteXhsREREREREioQQIwH0BfCjlHKBk9264vxxyy4H7Woeay6EiK3jEImIiIgau+vVanVUbGxskaWInIgaCyEEYmNji9RqdRSAPnXZBgMnIiIiIiLyOiFECwBvAjAAGO1C1ySr69kO2lk/lmS3FRERERE5kiiECNVoNAZfD4SI6p9GozFUr9vWvC79gzw8HiKHhBBfAICUcqivx0JERERE9eojAE0APCOlPOJCv0ir63oH7awfi7TbyooQItOJZm0BfM/3r0RERNRIBAMQnEaPqHESQkgAAkBIXfozcKL6dklKSkoKgCG+HggRERE1apwfxAEhxL8AzHNjE/2llDVrKkEI8SCAAQC2AZjh3ujqXVhKSsoQ8P0rETmQlwckJp6/nZsLNK/T54KJiOzi+1ci8jp3p9Jk4ERERERERF4jhGgGYBYAE4CRUkqji5vQWV3XOGhn/ZjObisrUsrU2tpUV0GlOLM9Imq8JOsAiIiIiBg4ERERERHRRZYAyHCjf7HV9dcBxAH4AMA+IYTWpu25qRqsHquUUlZWX8+xatsCwA47z9nC6nqOnTZERERERETkJQyciIiIiIjoAlLKCgAVHtpcu+qvY6svjtRUJr0DYFz19b0AzABUALoBWGOnb7fqr3lSysK6DZWIqG5sK5xY8URERESNkcrXAyAiIiIiIrJHSqkH8Ef1zX5KbYRlovFbqm/+UB/jIiIiIiKiC82ePTtOCJHaokWLy3w9FvINBk5EREREROQ1UsrrpZTC3gXAy1Zta+4fZ7OZ+dVf+wgheio8zT0A2ldfX+D5V0FE5BgrmoiISEl6enqSECK15vLxxx/H1Nbn+uuv72jdZ//+/SG19SHyFwyciIiIiIjI380HsBOAALBcCNEXAIQQKiHEPQDmVrdbI6X8yUdjJKJGjFPqERGRMxYsWBDv6PGsrKzg33//vUl9jYfI0xg4ERERERGRX5NSGgHcDiALQAsAPwohygCUAVgGIArAVgBDfTVGIiIiIiJ7oqOjjeHh4eYNGzZEHT58ONheu48//jjOZDIhKSmpsj7HR+QpDJyIiIiIiMjvSSmzAFwOYCqAXQAkgCoAmQAmAOglpSzy2QCJqFFjRRMRETmi0WjM/fv3LzKbzfjoo4/sVjktXrw4HgDuv//+/PobHZHnMHAiIiIiIiKfkVK+ZLWeU21tdVLKKVLKy6SUWilllJTySinl21JKfgqUiPwGAygiIrI1YsSIfABYunRpnNLja9eu1R47diy0ZcuWFddff31pbdtbunRpk1tuuaVD06ZNLw8JCUmJioq64sorr+zyxhtvJJSXlyu+t05LS+sihEhNT09Pqqqqwssvv9y0a9eul2o0mh6xsbHdb7zxxg4bNmwIr2mv0+lUkyZNSuzUqVNyeHh4j+jo6CsGDBjQfvfu3aHOvOYVK1ZEXXvttZ1iYmK6h4WFpXTs2DF50qRJiXq9XnF8NWtepaWldQGAzz//PPof//hHp9jY2O4qlSo1PT09qabt5s2bw9LT05N69erVuVWrVt3CwsJStFptj65du1761FNPJeXm5gbZG1eLFi0uE0Kkzp49O668vFy88MILzbp06XJpeHh4j8jIyCt69erV+euvv46q7fX98MMPEYMGDWqXlJR0WWhoaEpkZOQVl112WdfJkyc3Ly4ubpTZi92dTkREREREREREtWPAREREtenfv39pq1atKk6cOBG6Zs0abf/+/S8IlT799NM4ALj//vsLhLD/WazS0lJxzz33tPv+++9jau7TarWm0tJSdWZmpjYzM1O7ZMmSuHXr1h1MSEgwKW2jqqpKXHfddZ03bNgQGRwcLIOCgmRRUVHQTz/9FL1hw4aoNWvW7O/cuXPFDTfc0Hnv3r2a0NBQKYSQxcXF6u+++y5m48aNkRs3btzbqVMnux/6ev311xOee+651lJKREZGmoxGIw4fPhz25ptvJmVkZET/8ssvB+yNDwBGjhzZ8pNPPmkmhEBkZKRJpbowv7njjjs65eTkhABAaGioDAsLM5eUlKj37dsXvm/fvvAvv/wy/ocfftjfvXv3Cgf7UtWzZ88uO3bsiAgKCpIhISGytLRUvWnTpsh77703csaMGVnjxo0rsO1nMpnw6KOPtvr888+b1tyn0WjMBoNBvWvXLs2uXbs0ixcvjlu7du3Bzp07N6oPxjXKlI2IiIiIiIiIyFMYOBERUW1UKhXuv//+AgD45JNPLphWr6SkRLV69epYlUqF0aNHO5xO78EHH2z7/fffx7Rs2bLigw8+OFpQULBVp9NtKy0t3bJo0aJDLVu2rNi+fXvEkCFD2trbxvz58xP27t0b/tlnnx3R6XRbS0tLt65fv35vy5YtK/R6vWrcuHGtH3roobbFxcVBy5cvP1hWVraltLR068qVKw/ExMQYCwsLgyZMmNDC3vYLCwuDXnjhhVb9+vUrOnjw4I6SkpJtZ8+e3frGG28cDwkJkXv37tUMHTrU7vh2796t+eSTT5qNHTs27+TJk9uLi4u36XS6LWPGjDm3b3r27KmbPXt21oEDB3aWl5dvOXv27Da9Xr9l5cqVBy677LKy06dPBw8ZMqS9o335xhtvtMjLywtZuHDh4dLS0q1lZWVbt23btqt79+5lUkpMnjy5dUFBgdq2X3p6etLnn3/eNDY21jht2rTjeXl528rKyraWlZVt+fbbbw907dpVn5WVFXbnnXd2MJnsZmoBiYETEREREREREREREZGXjRo1Kl+lUmHNmjUx1lOuzZs3L0av16t69epV0rFjxyp7/b///nvtqlWrYmNjY40///zz/jFjxhTGxsaaAUCj0cihQ4cWr1+/fn94eLj5xx9/jP7zzz/Dlbaj0+nUS5cuPfzwww8XhYaGSpVKheuuu04/Z86cYwCwdevWiN9++y1q7dq1B+66664StVoNtVqNQYMG6V588cWTAPDDDz9EV1RUKJZilZeXq3r06FH27bffHql5PVqtVk6aNOnM66+/fhwA1q1bF/3LL79olPrr9XrVo48+eur999/PTkpKMgJAeHi4tK4W+uabb7KefPLJAusqq7CwMDlo0CDdb7/9diAuLs64Z88ezdq1a7X29md5ebnq+++/P/Dggw+eDQ0NlQDQvXv3iu++++5QaGio1Ov1qmXLljWx7rN///6QOXPmJIaFhZkzMjIOPPvss2eaNWtmAiyVVgMHDtT98ccf+5s1a1a1Z88ezeLFi6PtPX8gYuBEREREREREROQG2wonVjwREZGSjh07VvXu3bvEYDCo5s2bd25KvIULF8YDwPDhwx1WN82dOzceAO68884Ce8FUhw4dqnr16qUDgNWrVzdRapOSklJ6yy23XLRO1K233qoLCQmRANCvX7+ibt26XTQd3aBBg0oAS1iza9cuu2s5Pffcczlq9UXFQXjqqafymzVrVgUAixYtilXqq1Kp8NJLL+XZ23ZtmjRpYu7Zs6cOAH755Re7gVO/fv2KevToUW57f1JSkvGKK64oBYAdO3ZcENp99NFH8SaTCddcc01J7969DUrbjYmJMd9yyy1FAPD999/XuhZUIOEaTkRERERERERERERE9eChhx7K/+OPP6IWLlwYP27cuIJdu3aFZmZmaqOiokwPPvjgWUd9//77by0AfPnll/ErV66Ms9eutLRUDQDHjh0LUXo8JSWlTOn+oKAgREdHG0+fPh185ZVX6pXatGzZ8lzQpTTdHACo1WqpFGhVP4ZevXrpVq1aFbtt27YIpTatWrWqaNGihVHpMWtLlixpsmjRorjt27dHFBQUBJWXl19UYHPy5EnFfQAAaWlpivsBAGpCsaKiogsylI0bN0YAwO+//x4VHx/f3V5/vV6vqu35AxEDJyIiIiIiIiIiN7CiiYiInDVs2LCzEydONG3ZskW7c+fO0I8//jgeAG6//fZCjUbj8D/K6dOngwFLoFRaqpjnXMBgMCjOcBYZGWm21ycoKEhWt1FcfCg4OPjc9crKSsXtx8TEGMPDw+2+lqSkpEoAKCgoUMwn4uLi7E4rCAAmkwl33HFHu4yMjHMVUmq1WkZFRZmCg4MlYNlHFRUVoib4UWLvNQLn90NVVdUF0waePn06BLDsW3v715rBYFAM5QIVAyciIiIiIiIiIjdwSj0iInJWeHi4vP322wsXLVqU8P7778evWLEiDgBGjhzpcDo9ADCbzQIA3njjjeOTJk064+2x+orSVHzWZs2aFZ+RkRGrVqvx5JNP5j7yyCMFXbt2rbDud8cdd7RbtWpVrPTwP2WTyZJRjR07Nu/999/P9ujGAwDXcCKqJiXw99/AmYD9U01ERERERERERES+VhMuffrpp81OnToV3KlTJ8O1116rOIWdtfj4+CrA/lR5/qKoqCiovLxc2Hs8JycnBADi4uJqnTZPyddffx0LAPfee++ZmTNn5nTr1q3CNqQ6ffq0V4ptEhISjABw4sQJv/4e+AoDJ6Jqc+YAV10FtGsHFBX5ejRERERERETUULCiiYiIXHHttdfqO3XqZKiZrm3o0KG1VjcBQGpqaikArFu3rok3x+cuk8kk1q5dq1V6zGw2Y9OmTVoAuOKKK+yuoeRIbm5uCAD06NFDMaQrLi5W7dixQ/H53dWzZ89SwLKGk16vtxuqNVYMnIiqPfmk5WtZGTBtmm/HQkRERERERA0XAygiIqrNK6+8cnLkyJGnqi+FzvQZPXr0GQA4ePBg+BtvvJHgqG1JSYnKUZWRt02bNi2xZvo5a++9915cXl5eCAAMGTLEqddtS6vVmgBg+/btGqXHn3322cSysjKvZB9jxozJV6vV8uzZs0H//ve/kxy1LS8vF8XFxY0qg2lUL5bIWSUlvh4BERERERERNRQMmIiIyFX33ntvyccff3zy448/PpmUlOTU1HIDBgwovfvuuwsA4D//+U/rRx55pNWePXvOTe1mMBjETz/9FDFmzJiWbdq0uSw7O9sr08rVJiwszJyZmakdNGhQ+8OHDwcDgF6vF2+99Vb8pEmT2gBA3759z/bp06fWaQSV9O3btxgAli5dGv/WW2/F1wRrx48fD3rkkUdaffjhh82jo6PrNF1fbZKTkyvGjRuXCwAffvhh8zvvvLPt5s2bw2oer6qqwp9//hk+YcKExHbt2nXbuHGjYigWqHzyA0fk73iwQERERERERM7iMSQREdWXhQsXHlOr1fLLL7+M/+yzz5p+9tlnTTUajTkoKEiWlpaqzWbzubYqlW/qTWJjY41PPPFE3uTJk1uvXr06JioqyqTX61VGo1EAQJcuXQyLFi3Kquv2X3jhhVPffvttzNGjR8MmTpzY5plnnmkTERFhKi0tVUsp8cADD5ypqKhQffPNN3Eee1FWpk+fnms0GsXs2bMTV65cGbdy5cq4sLAwc1hYmFmn0wVZV3YJIRrVuwRWOBEp4MFC7fbvB6qqfD0KIiIiIiIiIiKixiMsLEwuXbr02Lp16/YNHjy4oFWrVhVmsxl6vV4VGxtblZaWphs3blzupk2b9rRr185nZ+/+85//nFm+fPnBa665pkSlUkmVSoV27dqVT5gwIefvv//e27x584vn23NSfHy8adOmTftGjBhxOikpqVKlUkm1Wi3T0tJ0H3300ZHFixcf9+RrsaVSqTBr1qycTZs27X7wwQfPtG/fvlylUkGn06kjIyONPXr0KBs9evSpdevW7bv55pvrtE5VQyUkz6xTPRJCZKakpKRkZmb6eigXEVYzmj76KDB3ru/G4u+efx549VXg8suBrVsBH31YgoiIyB1c3JWc4s/vX4nIfxw4AHTpcv52VhbQpo3PhkNEgale3r9mZmb+HRYW1jU5OXlvfTwfEfmf3bt3dy0vL9+bmpp6pat9eZqYiFz26quWrzt2AP/7n2/HQkRERERERERERES+x8CJSAEL/5xXWurrERAREREREfkWjyGJiIiIGDgRkZt4YEVERERERI2d7XERj5OIiIioMWLgRKSABwfOM5t9PQIiIiIiIiIiIiIi8jUGTkQKGDg5j/uKiIiIiIgaOx4XERERETFwIiI38cCKiIiIiIjoQjxOIiIiosYoyNcDaMiEEBoA1wFIBZBS/bV19cMvSylfcmIbzQBMAjCwuq8BwG4A8wF8KqXjt6lCiA7V/W8GkAhAB2ALgI+llMudeP4UAOkArgeQAKAQwEYA70op/1db/0DFgwMiIiIiIiJyFo8hiaixEQKpvh6Dp0mJTF+PgaihY+DknjQA39W1sxAiFcBaAHHVd5UCiATwz+rL3UKI26WUlXb63wrgKwCa6rtKAMTCEj7dLISYB+ARe6GVEOJRAB/g/M9BMYBmAO4AcIcQwqnQLBDxYMF53FdERERERERERERExCn13FcE4CcAbwJ4AECeM52EEE0AZMASNu0DcJWUMhJABIAnAFQBuAXALDv92wFYBkvY9AeALlLKJgCaAJha3exhABPt9O8N4ENYwqaVAFpJKaNhqXL6qLrZFCHEvc68nkDDEMV5ZnPtbUpLgSVLgBMnvD8eIiIiIiKi+sZjSCIiIu9IS0vrIoRITU9PT/LkdtPT05OEEKlpaWldPLndxo4VTu75TUoZa32HEOJ1J/tOANAclin0bpVSHgWA6mqmOUKIKACvARglhJglpTxg038qLOFUHoCBUsqz1f1LYQmKmgMYBWCyEGKulLLIpv90AGoAOwHcK6Wsqu5fAGCMEKItLIHXG0KI5VJKk5OvKyDwYMGzRo8GFi8GWrQAjh4FgoN9PSIiIv9XWAiMHQuo1cBHHwGRkb4eEREREdljewzJY0oiCnScfs6/LVy4MHrr1q2aHj166IcNG3bW1+NR0hDGSK5jhZMb3AxhHqr+urQmbLLxLixT7KkBDLV+QAgRAWBw9c0PasImG9Oqv0bBMkWedf/2sEzZBwBv1YRNdvq3BXCt/ZdBjZ0zB1KLF1u+ZmcDv/3m3fEQEQWKV14Bli2zVIg+84yvR0NEREREREQNxcqVK6NnzpyZuHLlymhfj8UeZ8fYokWLirZt25bHx8crncMmP8PAyQeEEF0AtK6+uUapTXWlUs2p+ZttHv4ngPBa+mcB2Gun/01W17+3M8zfAejs9A94/DSa81zdV9y3dOKEJYTU6WpvS9SYzZlz/voHH/huHERERFQ7HucQERF5x4oVK7KOHj26+7nnnjvj67FQ7Rg4+UY3q+u7HLSreexSN/sn2+l/Wkp5WqljdfXWPjv9Ax4PFpzHfUWuMBqBq68Ghg4FRo709WiI/FtsbO1tiIiIyD/xOImIiIgaIwZOvmG9wFm2g3Y1j0UJIbQK/YuklAYn+tsuqJZk87ir/QMeDw6cx31Frti4ETh50nL9yy99OxYif8fAiYiIqOHgcRERESlJS0vrIoRITU9PTyovLxfPPfdc886dO18aHh7eIyoq6oqrr76607Jly6IcbWP+/PnRffr06RgXF9c9ODg4JS4urnufPn06Lliw4KKp6DIyMiKFEKnffPNNHAB88803cUKIVOtLRkbGRSsEb968OeyBBx5o06ZNm27h4eE9NBpNj86dO1/65JNPtsjNzQ1SGld6enqSECI1LS2tCwCsWrUq8vrrr+8YExPTPTQ0NKV9+/bJ//73vxP1er1wZ4zW+9B2DMePHw969dVXm/bt27dD+/btkyMjI68ICwtLad26dbf77ruvzd9//x3maN+S5yn+sJDXWf9S6x20s34sEpY1naz7O+pr/bjtHxF3+ysSQjizWOAlzmyLGg4eWHnWzp2WNVvuvx9IDsDaQpM7K98RNTIMnIiIiBoOHhcREZEjlZWV4p///GfnzMxMrVqtlhqNxqzT6dQbNmyI2rBhQ9TGjRtzZ8yYkWPdp7y8XNx9993tVq9eHQMAKpUKWq3WdPbs2aD169c3Wb9+fZOvvvqq8Ouvv84KDQ2VABAaGmqOi4szlpaWqisqKkRoaKjUarUXnI0JDQ01W99+/vnnm02bNq2l2Wy5OywszGw0GsXBgwfDDx48GP7ll1/GrVix4uA//vEPu4UPL7zwQrNXX321JQBotVpTVVWVOHr0aNiMGTOS/vjjj8jff//9QFBQ0Lnnd3WM9owfP75lTXClVqulVqs1GwwGnDhxIvTEiROhK1eujPvoo4+O/Otf/zrrzPbIfaxwIiK38MDKc6S0TDf3yivANdf4ejRE5GsMnIiIiBouHicREZG1+fPnJ+zcuTNi+vTpx0pKSraWlJRsO3jw4I5+/foVAcDMmTMTv/jiiybWfZ566qkWq1evjhFC4Omnn849derUtuLi4m15eXnbnnjiiTwAyMjIiB0/fvy5yp+bbrqpLD8/f/uAAQMKAWDAgAGF+fn5260vN910U1lN+5kzZ8a/+uqrLcPCwszPPPNM9rFjx7YbDIater1+y6+//rq3V69eujNnzgQPHjy4U3FxsWKWsG/fvvDXXnut5WOPPZaXnZ29vaSkZFt+fv7WcePG5QLApk2bIt977724uo7RkQ4dOlS88MILJ//666/dBoNhy9mzZ7dVVFRs2bx58+7bb7+9sLKyUjz22GPtsrKygp39XpF7GDj5hs7qusZBO+vHdArXHfW1flxnc7+7/RVJKVNru+D8ulB+jQcH9tnuG+4rz6msBEqr6xiLigJz3wpRexsismDgRERE1HAE4nt3IiLynNLSUvUbb7xxbOLEifkajUYCQMeOHasyMjKOXHnllaUA8NJLL7WsaX/06NHgzz77rCkAPPbYY3mzZs3KiY+PNwFAQkKC6d13381+9NFHTwHA3Llzmx07dszlQKWoqEg1ZcqUlgCwYMGCw6+//npe69atjQAQFBSEa665Rv/rr78eSE5O1p86dSr4nXfeiVfajk6nUz/99NO57733XnZiYqIRAGJjY80zZ87Mufnmm88CwLJly7xyhDt9+vTcqVOnnrrqqqvKg4Mtu0CtVuPKK68sX7Vq1dHrr7++2GAwqN5//33FsZPnMXDyDevyyBYO2tU8ViKlLLW6v6Z/jBAi3In+OTb359g87mr/gMeDBfts9w2nSPMes1PFw0QUqCJtJrQtL/fNOIiIiIiIiMg9zZs3r3zqqacKbO9Xq9V47rnncgHg0KFDYX/99Vc4AHzxxRcxJpNJhIaGyqlTp+YqbfO1117LDQkJkUajUSxatCjG1TEtXLgwRqfTqbt27aofPHhwiVKb4OBgDB48uBAAfvzxxyZKbUJCQuSUKVPylB677bbbzgLA/v37ayt88Ip+/foVA8CGDRu0vnj+xohrOPnGLqvr3QDstdOuW/XXPbX031xL/912+jcVQiRIKc/YdhRCqHF+vSXb/gGPgZN9tiEIAyfPsd2XRiOgVvtmLN7CCici59n+LyooAFrU9lERIiIi8gkeQxIRkSO9evXSqVTKtR+33HKLTq1WS5PJJDZs2KBJS0szZGZmagCgW7duZbGxsYofSU5ISDB169atbMuWLdqa9q74888/tQBw5MiR8Pj4+O722lVUVAgAyM7ODlF6vGPHjoYmTZoojrFly5aVAFBcXOy1M1wbNmwInzNnTsJff/2lzcnJCdXr9Spp8485Ly9PcezkeQycfOMAgOMAWgPoB+Ar2wZCiAgANau4/GDz8O8ADADCq/tfFDgJIdoA6Gqn/zqr6/0ALFQY4z8A1Hy22rZ/wOPBgn22oQgDJ8+xDfOMRiA01Ddj8RYGTkTOs/2bkJ/PwImIiMhfcepxIiJyJCkpqcreYxqNRkZHR5sKCgqCTp8+HQwA+fn5wQCQmJhY6Wi7iYmJVdbtXd1yWGQAACAASURBVJGXlxcMWAKlioqKWnOC8vJyxcQsIiLC7hw9QUGWzZpMJq+cEXrttdcSXnjhhdbm6gNoIQS0Wq0pJCREApbXVlpaqtbr9ZzprZ5wR/uAtESsC6pv3i+EaKvQ7HEAWgAmAF/Y9C8DsLz65lghhFI54zPVX3UAVtr0PwJLaAUA/xZCKP1Berb66zEAv9p7LdT4KIUi5BmNoXqsMbxGIk9RCpyIAo0Q4lkhhKy5OGj3L+t2Di431uf4iYiIiIgaqpoQaMCAAUVSyszaLtnZ2Tt9PWZrW7ZsCXvxxRdbm81m9O/fv2j9+vV79Xr9lpKSkm35+fnb8/Pzt0+dOvWkr8fZ2DBwcpMQIkYIEV9zwfl9qrG+XwhhO0/kWwDyAGgArBZCpFZvL0QIMRbAf6vbfSylPKDw1C8CKAOQCOBbIUSn6v4RQogXAYypbveKlLJIof8zsIRZ3QEsFUK0qO4fK4R4H0D/6naTpJSN7pQwP41mHwMD72kMYZ7tawrE10jkKQycKNAJIboAmOJiNzOAUw4uFZ4cIxGRs3gMSUREjuTk5NitQDIYDOLs2bNqAGjatGkVAMTHx1dV93M4FVxubm6wdXtX1DzXyZMnG+R0c0uWLIkxmUxo3759+bfffnvkuuuu04eFhV3wHzkvL48zvNUzBk7u2wrgjNWlVfX9E23uf8+6k5SyGMBAAAUALgXwtxCiBEApgPcBhMAyld14pSeVUh4FcC8APSxT7x0QQpwFUAzgZQACwDwAb9rp/ycsoZQRwF0ATgohigDkAxhb3exlKeUy53dF4ODBgn1K6wy5glOq2efuvm0IbF9Tlctvh4gaDwZOFMiEECoAnwEIA7DBha4npJTNHVx+886IiYhcw2NKIiKytmnTpkiz7UFetbVr12prqo169+6tB4DU1FQ9AOzevTuioKBAcf2j/Px89a5duyIA4MorryyzfqxmvSjbtYysXX311aXVz6E5duyYy1PyucuZMTpSE5RdeumlerWdRdDXr18fVcfhUR0xcPIhKWUmgGQAMwEcBBAMS9XS7wBGAugvpbT7KU0p5XcALgcwF0AWLAfsRbCs0XS3lHKEdPAbK6X8BEBPAIsBZMNSbXUalin4+kopX3LvFTZcPDiwjxVO3tMYK5wYOBHZZ/s3oaDAN+Mg8pInAVwNy9TRjW69UCIKPDyGJCIiR3Jzc0Pee++9ONv7TSYTXn/99UQA6NChQ3laWpoBAIYOHVqkVqtlRUWFmDJlSnOlbT7//POJlZWVIigoSA4dOvSs9WORkZEmACguLlZOYgAMHz68KDIy0mQ0GsUTTzzR0l4gVjPO/Px8u9uqC2fG6EhUVJQJAPbt26dRGvuyZcui/vrrr0i3BkkuY+DkJillWymlcOLyLzv9T0kp06WUnaWU4VLKGCnlNVLKT6SU9n/Lz/c/LKUcJaVsJ6UMk1ImSClvllIur61vdf8tUsqhUsqWUsrQ6k+G3iml/J+LuyKg8GDBPtuAiYGT5zTGwCkQXyORp7DCiQKVEKIdgFdhqfRXrOYnImpoeAxJRESOaLVa06RJk9q8/fbb8Xq9XgDAoUOHgm+//fb2mzZtigSAF198Mbumfbt27apGjBhxGgDef//95uPHj0+qCXzy8/PVTz/9dNJHH33UDABGjhx5qk2bNhd8pLdbt24GAPj7778jt27dGqY0pvj4eNOrr756AgAyMjJi+/Tp0/F///tfhKn6ZJ/JZMKWLVvCpkyZ0qxTp07Jy5Yta+LJfeLMGB259dZbiwHg0KFDYQ899FDrU6dOqQGgpKRE9eabb8YPHz68Q3R0NM881TPOYUhELmkMoYivNIZ9ywonIucxcKIANhdABIDHpJRnBOfbJaIAxACKiIisDR8+/MyGDRu0EyZMaPPss8+21mg05pKSknOVPU899VTuQw89dEGV0uzZs7Ozs7NDvvvuu5hZs2Ylzp49O1Gr1ZpKS0vVNRU9AwcOLJw5c2aO7fMNGzas6JVXXmlRVFQUlJKSkhwdHW3UaDRmAFiwYMGRvn37lgHAk08+WWAwGFTPP/98q19//bVJ3759m4SEhEiNRmMqLS1VG43Gc2/WPf2+3dkx2jNo0CDdwIEDCzMyMmK/+OKLhC+++CIhMjLSpNfr1SaTCcnJyfohQ4bkT548ubVHB04OscKJiFzCKfW8pzFUj7HCich5DJwoEAkhRgLoC+BHKeWCOmwiQQiRKYQoFUIYhBBHhBCLhBDXe3akRESuYcBERESOhISEyD/++OPAs88+m92uXbvyyspKodVqTb1799YtXbr00DvvvHNRaBQWFiZXr159ZN68eYevvfba4iZNmhjLyspUTZo0MV577bXF8+fPP/ztt98eDQ0Nvei/UEJCgumnn37aP3DgwMKmTZtWlZaWqnNyckJycnJCDAbDBZnApEmTzuzcuXPXqFGjTnXp0sUQEhJi1ul0QRqNxpycnKwfPnz46RUrVhwYNWpUoSf3iStjtGflypVHp06deqJz586GkJAQaTabRadOnQz/+c9/sjdv3rxPq9XWOoMYeZao66JcRHUhhMhMSUlJyczM9PVQLmId0t95J/DNN74biz/LyQFatDh/+/nngf/+1357KQGV1b+IH38E+vb13vgasuPHgTZtzt/eswfo2tV34/GGxYuBoUPP3z50COjQwXfjIfJnQ4dafmdq9OgBbNniu/EEIJbV1DMhRAsAuwGEAOgmpTxSff9LAKYAgJRS8fsihPgXgHlWdxXBUiUVYnXfPACjpJQe/TiDP79/JSL/8ddfQM+e52/v2wd06eK78RBRQKqX96+ZmZl/h4WFdU1OTt5bH88X6NLS0rps3rxZO378+NwZM2ZcFCoR+aPdu3d3LS8v35uamnqlq305pR6RAuaw9rk67ZttewfrDzZ6jXFKvUB8jUSewgonCkAfAWgC4JmasMkFOQBeBvANgP1SygohhBpAz+r7bwTwMIAyAE86u1EhhDMp0iUujpWIGiEeQxIRERFxSj0iRTxYsM/Vad8YODmvMQZOXMOJyD7bvwlnzvhmHNQ4CSH+JYSQblz62WzvQQADAGwDMMPV8Ugpf5BSviSl3CGlrKi+zySl/BPALQBWVTd9TAjRyb1XT0TkOttjSB5TEhERUWPECicicomrazgxcHKe7b5k4ETUuNn+vSwvt5y88vA6rUReJ4RoBmAWABOAkZ6e8k5KaRZCTAAwCJYP1N0GJ0MtKWVqbW2qq6BS3BokERERERFRI8DAiUgBP41mH6fU857GWOEUiK+RyFOU/l4ajUBwcP2PhRqlJQAy3OhfbHX9dQBxAD4AsE8IobVpe24dJqvHKqWUlc4+mZTykBAiH0A8gPZ1GzIRUd3xGJKIiIiIgRORIh4s2Mcp9bzH1eqx4mJArQa0tqft/BgrnIicp/T3sqqKgRPVj+pp6yo8tLl21V/HVl8c0VV/fQfAOA89PxFRveMxJRERAcBff/2139djIKpPXMOJSAEPDuxzNRSx3ZcMnOxzpcIpMxNISrJcDh707rg8qbYKpz17gCuvBO68E6h0+nPtRIHJXuBERBcTQnSApboJAI76cixE1DjxGJKIiIiIgRORIh4s2OfqOkOscHKeK/t28GBArwd0OmD4cO+Oy5NsT5bb3r7zTkuYtnIlMMPlJeWJAgsDJwoUUsrrpZTC3gXAy1Zta+4/V90khOOVy6off7P6phnuTQVIRFQnPIYkIiIiYuBERC5ytcLJtj0PxOxzpcLp2LHz13ft8s54vKG2CqcDB85fX7fO++Mh8mdKgRMr/6iRaiOE+EsIMVoI0b4mgBJCqIQQvQCsAXBndduPpJSctoSIfI7HPURERNQYcQ0nInKJu4ETK5zscyVwstaQDmZdWcPJ2ddPFKhY4UR0gauqLwBQIYTQAYgEEGrVZh6Ap+p7YEREQMN6T05ERETkLQyciBTwYME+TqnnPY0xcHL0GmsLM4kCHQMnonNOAXgSQG8AVwBIABADoByW9Zr+BPCZlPIPn42QiIiIiIiIGDgRKWlIJ/DrmycrnPbvBz74ABg4ELjxRs+MryGra+DUkEI8VyqceGKdGjsGTtRYSClfAvCSg8cNAN6rvhAR+SUeQxIRERExcCJSxIMF+1wNRRwFTv36AVlZwDvvAEVFQHS0R4bYYNmGd85W+DSkn1dOqUfkPAZOREREDVdDeo9ORERE5CkqXw+AiBoWV0MRR4FTVtb56zt2uDWsgNAYK5w4pR6RfUq/25WV9T8OIiIiqh0DJiIiIiIGTkSKeLBgnyen1HPm/sakMQZOrHAiso8VTkRERA0HjyGJiIiIGDgRKeLBgn22AZM7U+o5c39jUtfAqSH9vLLCich5DJyIiIgarob0Hp2IiIjIU7iGE5ECHhzYxwon73E1zKvRkH5eXalw4ol1aqzy8gAhGDgRERE1JA3pPTkRERGRtzBwIlLAgwX7GDh5T2OcUs/Ra+SUetQY/f030Lu3JXBSqy9+nIETEREREREREfkrBk5E5BJOqec9roZ5DZErFU6B+PqJanPnned/T5R+Pxg4ERER+SfbDy3yQ4xERETUGHENJyIFPDiwz1sVTtznrlU4CeHdsXiLK4ETK5yoMTp50vHjlZX1Mw4iIiJyDY9niIjI09LS0roIIVLT09OTfD0WT/Ll6xo8eHBbIUTq4MGD2/qif2PAwImIXGIbMHFKPc+prXrMbAbWrAF+/DFwAidOqUfkGlY4ERERERER+T8hRGpdL7Nnz47z9fjJc+6///42QojU6OjoKwwGg9Nn9Nq0adNNCJF6ww03dPTm+DyNU+oRKeCn0+xzdZ0h2/b29i0Dp9r37apVwF131d94vIEVTkBJCbB4MXDFFUCvXr4eDTU0DJyIiIj8E48hiYjIWlxcnOJZDb1erzIYDCpHbcLDw3mWLICMHDky/8svv4wvLi5Wf/HFF9GPPvpoUW19Vq9erT1+/HgoAIwYMSLf+6P0HAZORAq8fbAgZcOtUOGUet5TW+DU0MMmwLUKp0Bdw+n554F33wVUKiA7G2je3NcjIl/LywPuuMO5/wsMnIiIiBoGHt8QETVu+fn525XuT09PT5o5c2aiozYUWPr27VvWoUOH8sOHD4ctWLAg3pnA6bPPPosHLKHkfffdd9b7o/QcTqlHVI/MZstJxRYtgLVrfT2auuGUet7javVYQ8QKJ0vYBFi+3x9+6NuxKAnUoM+fjR0LbNoEbNxYe1sGTkRERP6JARMRERHZ8+CDD+YDwB9//BF19OjRYEdti4qKVGvWrIkBgLvvvrsgONhhc7/DwIlIgbcOFr7+2jItWm4u0K+fd57D22xDEYMB+OEHoLDQufYMnOxzNcxriLiG04VUfvZfeNEiIDoauPtunjSpTytXOt+WgRMREZF/4nsnIiLyJrPZjLfffjv+8ssvv0Sr1faIiIjoccUVV1zy/vvvx9rrk5aW1kUIkZqenp5UUVEhpkyZ0qxbt25dIyMjrxBCpGZkZERat9+/f3/IiBEjWnXs2DFZo9H0CA8P79GuXbvkhx9+uNXBgwdD7D3P3LlzY6699tpOcXFx3YOCglIiIyOvaNOmTbcbbrih47Rp0xL0er3d+Tzq8rpqZGRkRPbv379906ZNLw8JCUmJiYnp3rt3787vvPNOnNGNk0offPBBbEpKyiURERE9IiMjr7j88ssveeutt+LNbpy8HDVqVEFQUJA0m8348MMPHa7RNW/evNiaaRdHjx7doKbTAzilHpEibx0s7N3rne3WJ9u/rQcOALfcArRqBRw5AgQFOW7PwMk+X1c4GY2WQLRJE6BvX+9M+8gKpwv5W+A0bJjl6/LlwPffA/37+3Y8dLHKSl+PgIiIiJzBAIqIiDzFZDLh5ptv7vDTTz9Fq9VqGR4ebi4rK1Nv37494vHHH2938ODBsJkzZ+bY619eXi569+7dZevWrRFqtVpGRESYhc1Jnw8++CB23LhxbSsrKwUAhISESJVKJbOyssI+//zzsK+++ip+wYIFh++6664S63733HNP26+//vpcgKLRaMxGo1EcP3489Pjx46E///xzk7vuuqu4S5cuFx3NuvO6Hn300ZaffvppMwAQQkCr1Zp0Ol3Qxo0bIzdu3Bi5dOnSuO++++5QTEyM02cczWYz7rvvvnOvRwiByMhI0+7duyMmTpwY8csvv0SGhITU6T98UlKSsW/fvmfXrl0bs3Tp0vg33ngjz17bRYsWxQNAjx49ynr06FFel+fzJT871UXkH7x1cOBvJ5frwl7VzYkTwM8/X3w/Ayfn+TpwWrjQUtly003Ahg3eeQ5XKpwaw0G6P/9NyMz09QhICSuciIiI/FNjeO9KRES+8fnnnzfdtGlT5OzZs7POnj27VafTbTt06NCOPn36FAPA7NmzE3fu3Blqr//8+fOb7t+/P/ydd97JOnv27Nbi4uJtOTk526666io9AKxYsSLqiSeeaGcymTBmzJi8ffv27TQYDFvKysq2btu2bVf//v2LysrKVMOHD29vXem0du1a7ddffx2nUqkwefLkk3l5edvKysq2GgyGrbm5uduWL19+8K677ioIDQ1V/C9Z19f12muvJdSETQ888EB+VlbW9pKSkm2FhYVbX3755RNqtVpu3LgxctiwYW1d2c+vvfZa05qw6aGHHjqdnZ29vbi4eNvp06e3paen56xevTp23bp10a5s09qIESPyAeD48eOha9as0Sq12b59e+jWrVsjqsdwpq7P5Ut+fKqLyHcYONnnKBhS2m8MnJzn68BpxIjz1ydO9M5z2J4st71tWyEXCEwm4NQp5cf8+W9CdravR0BKGDgRERERERE1LiUlJerFixcffvLJJwu0Wq0EgA4dOlStXr36cEJCQpXZbMaiRYti7PXX6/WquXPnHnnqqafO9W/evLmpWbNmJpPJhPHjx7c2m814/fXXj3/wwQfZXbp0qVSpVFCpVOjevXvFd999d+SGG244W1paqp42bVqzmu3+9ttvEQDQu3fvkldeeeVUs2bNzn1MvXnz5qa77rqrZPny5Vlt27ZVPJKty+sqLS0V06dPbwEAAwcOLFy8ePGx1q1bGwEgKirK/OKLL55++eWXTwLA6tWrY3777TeNM/tYr9eLt956KwkA7rjjjoL58+efSExMNAJAXFyc6e23384dO3Zsnk6nUzuzPSWDBw8uadasWRUAfPLJJ/FKbT788MN4wFIp9vDDDxfV9bl8yY9PdREFHn8+uewsR+sKqRX+5DobOPETgRfvW19OKRdid2Ze99Q2pV6gBU5VVcBllwFJScDcuRc/7s9/E06e9PUISAkDJyIiIv9kezzD4xsiIvKUlJSU0ttuu01ne394eLi87rrrSgBg165ddoOVjh07lg8ZMqRY6bE1a9ZEHjt2LDQ6Oto4fvx4u+sFDRs2rAAA1q9fH1VzX3R0tAkACgsLg+qyZlJdXteqVauiiouL1QDw6quvKk6398wzz5xOSEioAoAFCxbUuhYUYKnyqtnuf//731ylNlOnTs2zV63lDLVajfvuuy8fANasWRNTXFx8wVkho9GI5cuXxwHAgAEDCps0aeL0x/Nnz54dp7Quly/48akuIt9hhZN9jiqRlMICVjg5z9cVTtbiHC5fWHe1TamnFFo2ZAsWWNZuM5uBUaMuftyf/yawwsk/MXAiIiLyTwyYiKgxSk9PTxJCpDpzeeCBB9rY9n/ggQfaONs/PT09ybb/DTfc0NHZ/m+99dZFFSXJycld7W3bn6SkpJTZeywxMbESAIqKiuyeUbnqqqtK7T1WU6VUWlqqbtasWff4+HjFy9NPP90WAHJzc899RLl///660NBQuXfvXs1VV111ycyZM+P37dvn9EeY6/K6Nm/eHAEAzZs3r7z88ssrlPoGBQWhd+/eOgDYtm1bhDNjsd5ut27dFLcbFxdnSk5OtjtmZ4wePTpfCAGDwaD67LPPLgjDvvrqqyZnzpwJBoCRI0cqhn9//vlneHp6etKuXbvsTqHoa358qovIdxg42edq4GS7Lxk42We7DxxVk3lbfQVOgV7hVFto489/E1jh5J8qL1pmlYiIiIiIiAJZZGSk3bNmQdUnUoxGo90zDDXVPkpycnJCqvuLgoKCIHuXkpISNQCUl5efe57k5OSKmTNnZmk0GvO2bdsi0tPT23Tt2vWy2NjY7gMGDGi/aNGiaLODE351eV2nT58OAoCaqensadGiRSUAFBQUOHWmydntJiYmuvUx0EsvvbQyLS1NBwALFy68IASdN29ePAC0a9eu/KabblIMtv7++2/NzJkzE/ft28fAicif1df0B/58ctlZ3ppSj4GTexVO7u4/2595X1U4BVrgVNv30J//JpyxWZqSv6P+gRVORERE/okVTkRE5K/UDqaTMVWf6Lv88svLpJSZzlys+48dO7bwyJEjO6ZPn35swIABRc2bN68sKioK+u6772KGDRvWIS0trUthYaEfn/2of8OHD88HgK1bt0bs2LEjFABycnKCfv755yYAMHToULtTGzYE/GZTQPrvf4HevYH1651rz8DJeY5OOgtRe/uGGDh98AHQsiUwbZp3n8edNZzcPQmts5kxNyzMve3Z09gqnBpa4GQbNBoMlq9LlgAJCcBDD9X/mOhCDJyIiIgaBgZQRNQYzJgxI8fZkGLJkiXHbPsvWbLkmLP9Z8yYcdF6Pf/73/8OOdt/woQJF53E37179157224smjdvbgTOVzrVRbNmzUwTJ07Mz8jIOJKbm7tz165dux577LE8IQQyMzO1kyZN8tiUhU2bNjUCQF5ensPxZmdnhwBAXFycU2fXarZ76tSpYEftcnNzHT7ujOHDhxdFRkaaAODDDz+MB4C5c+fGGo1GoVar5ahRowqU+qWnpyfVTG14zz33dFKabtJkMmHChAmJiYmJl4WGhqYkJyd3XbNmjdbdMbvCz051Eblv+3bgxReBjRuBPn2c6+NsKOIufzu5XBeOKpyU9pu9fWt7AObL6eNq89hjlqnRnnvu4mDGk9ypcHJ3mq3Tpy+87a3vR6BXOFVWAitWAPv3W27Xth/9/W/CiROWr0OGAIWFwMKFwIYNvh1TY8fAiYiIyD8xYCIioobommuuKQWA/Pz84F9//VXjiW0mJydXzJkzJ/u2224rBIBff/01yhPbBYCrrrqqDLAEQzXVQbaMRiM2bNgQCQA9evRwas2lmu3m5eWF7N69W3G7hYWFqj179ri9jzQajRw0aFAhAHz99ddxRqMRX3zxRTwA9OnTp7hVq1aKZwTvu+++ogceeCAfAEaPHn1qzpw5R+fMmXP0vvvuK6ppM3ny5JZr166NHjNmzKn09PSc7Ozs0Hvvvbdjfn5+va2a7uenuohcl5lZextbzq4z5C5/P7nsDEf7xpnAqWZf+9N6Ra4oLPTetr0VOGVkAPffD/z6q/02vgqcAq3C6dVXgbvuArp3t0xJ19AqnGy/78ePX9zm6NH6GQspq6qqfW0wIiIiqn8MnIiIqCEaOHBgSevWrSsAYPz48a3Ky8sV5i8679SpU+eCC4PB4LBteHi4GQCE0pRIdTRo0KCS6OhoIwBMnjxZsXLqrbfeSjhz5kwwAAwbNsypM3mDBg0qiYqKMgHAiy++mKjU5qWXXmpuvYaVO0aPHp0PAGfOnAmeNGlS0sGDB8MB4OGHH7Y7nV7Pnj0NvXr1KgWAG2+8seSxxx4rfOyxxwp79uxpsG63ZcuWvVOmTDk9bdq0vHfffTertLRU/emnn8Z6YtzO8LNTXUTuKy93vQ8DJ+c52jdKIYW/VzgZjcDvv9v/ubEdp17vvbF4I3AyGIDbbgO+/BK47jr7/U+duvA2K5zqZupUy9eKCuDttxt+4HTsogkPPPOzUVgIHD7s/nYao/nzLVN8jhrl65EQERGRIwygiIioIQgODsbs2bOPqdVquWXLFm3Pnj27rFq1KrKiouJcSrRnz56Q6dOnJ3Tr1q3r22+/3bTm/ocffrj1rbfe2v7zzz+Pzs7OPndGp7i4WDV9+vSEb775Jg4AbrrppmJPjVer1cqJEyfmAEBGRkbskCFDWp84cSIIAHQ6neqVV15p+sILL7QCgAEDBhRdc801Tp3J02q1Mj09PQcAvvnmm7gRI0a0ysvLUwOWyqaJEycmvvfee4k1U+G565///Kf+kksuMQDAO++8kwgACQkJVffee69b++qRRx45Exx8fta/fv366QDg0KFDilVb3tDAT+0RXayiwvU+DJyc56kp9dwJVzxp6FBg2TLLml9//nnx47bj9OaUet5Yw8k2SLLHXyqcbNexlFJ5bbCGoKKi4QdOShVOJhNQWgpo6zgDcG4u0LGjJbz9+mtg8OC6baexmzsX+PhjX4+CiIiIajBgIiKihmrQoEG6efPmHRk7dmy7HTt2RNxxxx2dg4KCpFarNen1enVlZeW5MzMDBgw4N31bVVWVWLNmTcyaNWtiAECj0ZjVarXU6XTnzu6kpKSUvvbaa7meHO9zzz135siRI6GffvppsyVLliQsXbo0ITIy0lRWVqYymUwCAHr27KlbuHBhlivbff75509v27ZNs3Llyrh58+Y1nT9/flOtVmsqKytTm0wmDBw4sDAkJETWBGnuGjZs2JnJkye3NleffLznnnsKgtz8JHb79u0vODOekJBgAoCioqJ6y4H87FQXkfvqI3DKygL+7/9cXzfH304u10WgVTgtW2b5umEDkKOwRKRtIFJS4r2xuDPNoL2fRWd/Rv0lcLLVUKZaVGI2N/zASanC6d13gZgYoF+/up1Y+fe/z1cK3n236/3pPJ7YIiIiIiIiIk8YNmzY2f379+8cP3587mWXXVam0WjMOp0uKCQkxNylSxfDfffdl79gwYLDL7/88rmPNk+dOjX3lVdeOXHTTTedbdeuXblarZZ6vV4VGxtrvPrqYTJAiwAAIABJREFUq0tmzZqVtWnTpv1RUVEe/2j/J598cvL//u//Dtxyyy1FcXFxVXq9XhUREWHu2bOnbtasWVm///77gZiYGJeeV61WY8WKFVnvvffe0e7du5eFhoaaTSaT6Nq1q3769OnHVq1a5dFFBkaOHFkYGhp67sh+zJgxdqfTc5ba9pPc1WQ9nkBghRMFnLoETvZCESU6nWV9lpISYMIE4M03nX8eO7/zDYqnAid/XMNJ6bXZBgb1GTh5Ykq92gKdGr4KnGxv2+6DysqGO82e2Vz7fvT3wKmo6OI2W7ZYvq5dC/zxB/DPf7r2HHl5dRsbXcxsDoz/K0RERIHA9jwOPxhCRERKZsyYkTNjxgyFjzxf7K+//trvzvac6W+tRYsWxuptOTW+5OTkiuTk5NOTJ08+XXtr18blzH667bbbdLfddptLcxEtX748C0CWozaPP/544eOPP6649pMz/Z2VkJBgKi8v3+JKH0+uh+Utfnaqi8h93q5w+vTT86HDW2+59jye/pug0wGffw7s3u3Z7ToSaFPqWVM6+W87rmKPzTp7MUf7pLYDVnvBUkOrcFIKnBoqk6n2QM3f2H7fDQbldjUKnVp680IN4L1Rg+EPfzeJiIjIggETEREReVvNGlIFBQV++/Fsvx0YUV2Vl7vex5XASe/UUnPKPF3NMGGCZQ0PjcayLkpUlGe3ryTQptSzpnQivD6n1HO0hlNtwYunp9Tz1ons2iqcbH8unK3Q8kdKU+rVFrD5kpQX7//a/p7WpfqMJ2M8x2gEQutt2U8iIiIiIiIi8qWrr75ar1KpMGvWrObV0wiaevToUcvHhesXK5wo4Hi7wsmdE+C2gYa7J15rFozX64F169zblrO8VeHki8DJmZP9/jKlXm0/184GTvZ+5uqjwknKi7cbyBVOSoGTP1c8KX3Pa6twCg72zljIOaxwIiIi8h/8UA0RERF5W+fOnSvffvvtLIPBoJo4cWLr0aNHt1+yZEmsr8dljRVOFHC8HTi5c4JPqaqnruvT2FYexMfXbTuuCqQKJ9vnVDpI9Jcp9eoaONn2s7fmS30ETkrbrC2ACbQKp4YWOLHCyfvc2R8MnIiIiPwX3/MQERGRN4wbN65g3LhxBbb3P/XUUxfdBwBSykzvj+o8VjhRwKlL4GR70tfRwYE7J8Btt+vOycKjRy+8XV+VBo5OkDe0NZycOfnvywon6wCgtp9rez+XtoGBvddYYPMvyRuBk9L3ONArnBxNk1jTxl/UV+BEF3Lnd42BExERkf9gwERERETEwIkCkLfXcHIncPJkyHLwoONte4ujk6MNvcJJaQz+soZTXSucnAmciovr5/vhjcCpogJYuBD47Tf3xuYNJlPDr3DyxpR6SmulNWZ1+ZBEDQZORERERERERORPGDhRwKlLRQQDJ+d5ako9f1jDqS4VTr6aUq+2n2tnAyel/ezsfe5S+nm3vc/2d7G237d33gEeegi49lrgwAH3xudpnFJPGT/9eyEGTkRERIHB9j0O3/MQERFRY8TAiQKO7QlSZ97oOwqc9uwBbr0VePZZSzt3TvDZnlyeOBG44QZg61bXt3XokONte4ujIMKVKfU8Ob1gXdm+Fn+bUs+VCid3ptTzZeDkboXTM8+cv/6f/9RtXN4SCIFTbRVO5D53po1k4EQNjRDiX0II6cTlxlq200EI8ZEQ4qgQolwIcUYIsVYIMbi+XgsRkS0GTEREREQAV1+ggFNWduFtk6n2T+E7Cpxuuw04cgRYswa45hrPruH0ySeWrzffDJw549q2GmqFU80+YIXTxdwJnNyZUq++Aiel353avgeu/L7521RtgbKGk6OTJ/40/oaqMVY4lZVZ/v81bw7ce6///e5SvTADcPTOx+5vhhDiVgBfAdBU31UCIBbAzQBuFkLMA/CIlDz1S0REREREVN8YOFHAsQ2cjMbaAyd7VTiAJWyqsXatZyucauTnu74tX1U4OXoedyqc/DVwCrQ1nPxtSj13K5ys+dtJ60BYw0mpSssaT+e6rzFWOL39NjBliuV68+bAddf5djzkEyeklG1d7SSEaAdgGSxh0x8ARkgpDwghtAAmAngRwMMA9gGY7rnhEhHVjlPqEREREXFKPQpAev2Ft505ce7sGk5SenYNp7oqLweOH/fOtmvjaH+6s4aTP0yppzR+X06pZz0eb06p52zVk7uUvsf/z96Zx8tRlen/eW9u9pWEQCAIJCxuCIyRYVVxXFAwM6IOoCCyCcIo/gZ3cCACwyKiIyAoCijbKLggKLKDQkAdg8hOQhKSQHay77n3nt8f1WWfPn3OqVNbb/f5fj73c3up5XR1VXX3+9TzvErVrj9tDyedVhOcOiFSD/DH6rGQkp/+6HCKxSYAOOec5o2DtCXnAxgOYDGADyulZgKAUmqdUuo8ANdWpjtHRLZp0hgJIYQQQgghpG3JGxZBwYl0HDaHUxJpBKcyHE5pmTs3fMxF098cTjbBqaxt3emReq5jRxeV8jicWo1OEZzMfUgny/gpUtXSHx1OOq10DJDWRkSGA4h7NF2jlFplmeziyv9RAD7SkIERQkgFfschhHQQWwGovr6+FruskxDSCJRSAkAByFSxoOBEOo5WFpyK+hFiupuA9nc4tYvgpFT9PlYUjRCcWi1Sz3y8kyL1OkVwosOpXEIcTq59m4IT6WccAmBo5fbvbRMopV4B8ELl7gcaMCZCCPkH/F5ECOkgFimlNm/YsGFo8qSEkE5jw4YNQ5VSmxElS6SGghPpOEwxoBMj9WwFylZwOKURnMxt3gqReiE9nIDyYvUa0cMp1OFUxvuRxeHUzpF6vb3+9xRorWJ7FocTCyv5CRGcBg+2P94JghP3oX7LeBGZISLrRGSjiMwRkZtF5FDPPHtpt5/1TBc/99bcoySEkBzwM44Q0sY80tvbu2bFihXb5I3WIoS0F0oprFixYpve3t41AB7OsgwKTqSj2Lq1vkAdUpBziSKudWSlqOKy7TW1guCUJlKvXR1OALB6dTnj8Tmckpw+oT2cWtHhVFSkXqsJTp3icCo6Uo/UErKPDxxo3787QXDiPtRvGQbg7YgiGroATAJwLICHReR6Eem2zLNj5f9KpZTHe4nXjOkJIaQhsCZLCOkg7u7p6Vm6Zs2agQsWLJi4bt26YX19fULxiZDORCmFvr4+Wbdu3bAFCxZMXLNmzcCenp6lAO7OsjzbjzlC2pYNG+ofy+Jwcn2GtorDyTaGVo3Uc7nHWqGHk7nOUKdPWQ6nZvVwCnU95SUkUs/cL/Icb82mr69+/Ob9Viq2u96foiP1Wuk3yt13A5ddBpxwAvDpTzdnDCEOp66uSHQyj/NOEJxaaX8gDWEhgG8C+BWAl5RSm0VkAID9K4+/D8CJANYD+Lwx78jKf8u3vRri50d6p6ogIjMCJntTyLIIIYQQQjqBKVOmvDxjxoyzNm/e/J2VK1dut2bNmu1FZDCAFrvMkxBSIEoptbm3t3dNT0/PfABnTZkyZXaWBVFwIh2FrbdOJ/Zw6kSHU+h27e0FvvUt4PXXgW98AxgzJmw+GyFuk0ZG6vlcX42O1KPDKT99ffXjN9/HVhKc+mOk3hFHRP8feQT46EeBkUHl6WIJ2ce7uoBBgzpTcGqlY4DUIyInALghxyI+pJS6J76jlLoPwH36BEqpXgCPi8hhiISofwNwhohcoZSalWPdhBDSUEIvYiSEkHZgypQp02fMmPHJnp6ew3t6et4DYAKAQc0eFyGkNLYg6tn0MIC7s4pNAAUn0mEU5XBq9R5OrSo4penhlDVS7+c/B84+O7q9fj1wzTVh89lotUg9m+NKqUhISRKc2jlST3+8nQUnm2vPHL95v5WK7a733OdwyjL+Zr9PLpYvrwpOSgGzZwOTJ0diT5mkcTiZUHAinYRSqk9EvoRIcOoCMBXAd7RJ1lb+D0tYVPz8Wu9U1fVOSZqm4oJ6e8jyCCH9FwpMhJBOo1JwvrLyRwghQbCHE+koWt3h1AmCk0+ISONwyhqp9+1vV2//4Adh87gw1xkqODXK4QRUx9hfHU7tFKlnc+3R4VTMPI1AH9dppwF77AFMnVr+evMITs2IIi2aVt0fyD/4XwDjc/w9mGZlSqmXASyv3J1sPL2w8n8bERnqWcxEY3pCCCGEEEIIIQ2CDifSUWQVnMyi78aNwKGHAnvtVft4qzicmtnDqSyHU6iQZyu6ZiWrw6mRglNPD9Dd3dmCk6+HUzs5nMxttmVL/fvWaQ6nThULfvSj6P/ddwPLlgHjx5e3rtBIvW7LNzY6nEjZKKU2AwiQRRvCs9rtvQD8n2O6+Nvbc+UOhxBCamGkHiGEEEIIBSfSYdgEpyyRegDwhz9Ef+Z0toJxaORSpzuc0ghOWR1ORQpOIQ4nm7hXVqSeT/AqM1IvVITKS5LDSan6/SKNwNtswcl8fVu3dobDyRZVGtNJDicXZbvsOjlSb+vW5HN2u+0PpFxEZDcA21buzjWefgzARgBDAXwQFsFJRHYB8ObK3fvM5wkhhBBCCCGElAsj9UhHYSuMZonU85GnYFxUYa1VeziFROrF2yBrD6cyHU62Mdi29apVxY0hdP1JLoh2djjpgpNJuzucOqGHk09waqXxF4W5H5a9X4U6nAZZ2vO2suD0mc8Ao0YBV1zhn64T9yFiR8R/NFWev6xytw/Ab/XnlVLrAfyycvd0ERltWcxXK//XArgj+2gJISQ9vIiCEEIIIYSCE+kwinQ4uaYLcYy4YKSe2+HUTpF6K1cWN4ak9feHHk49PdHrsz2fRnBqNuY2swk17Sg42c6rMVkKK80WBl3Er8XcDmUXjzrR4TRnDvDjH0fnny98wT9tKx0DpHR2EZG/iMhpIjI5FqBEpEtEDgDwewBHVqb9oVLqJcsyzgWwHsAOAO4SkT0qyxguIucC+GxluguVUiV9WhNCiB0KToQQQgghjNQjHUbWHk5pBCezONgMwalVI/VCHE6uHk6h29F2lX9WQiL1bNt6xYrixhC6/qIEp1BxqZGC0yOPAIcfDowZU/9cO0Xqmdts3br6aRip1/rFGHOfK1vUCXU4tZPglOYc2er7Aymc/Sp/ALBZRNYCGAlgsDbNDQDOtM2slJorIkcBuB3AOwHMFJHVAEYAGKDNf5ltfkIIaST8jCOEEEJIf4SCE+kosjqcQou+reJwatVIvXbr4RTicLIJHq0oOIX2cGpFh9PZZ0f/bVGF7Ryp1ymC08aN7nlaafxF0WjBKdThFCqItwKhfQ2BztyHiJMlAD4P4EAA+wIYD2AbAJsQ9Wt6HMD1SqnpvoUope4Wkb0Rxee9H5HbaSWAvyFyRv3SNz8hhJQFBSZCCCGEEApOpMMou4dTXodTJ/RwKsvhFFo47XactdavB449Noq7u/FGYJddkpfVag4nXw+nMiP1QkWovGQpjreTw8l8fZ0iOBUdqdcqmGOP77eq4GQ7FlpVcEpzLLbSMUDKRSm1EcBVlb+8y5oN4NTcgyKEEEIIIYQQUijs4UQ6irIj9fr6WiNSrxN7OOV1OF1+OfCb3wB//CPwyU+GLcvcN3yCj04rOpzSROqFuPTKKGRnWWY793Cy0Y49nIqO1GsVXOemVo3Us42DghMhhBDSOrguZiGEEEII6U9QcGoiInKCiKiAv/d5lrGbiPxQROaKyCYRWSYi94rIxwLH8HYRuVlEXhWRzSKySER+LSL/UtwrbRxZI/VCfwzYiv6M1KuSRnAquofTXXdVbz/+eNiyQiL1XIJTGT8gi47U6+mp366f/jQwdCjwla9UH2t2pJ6PvJF6SgFr1qRfbxZCtlk7Opx8glOW8bdK8cV1DmpVh1OnCk6tsj8QQggheeFnGiGEEEIIBadWoQ9Rrr3rz1qOEpHDATyNKFJk18p0YwF8AMAvROR6EXfZR0ROAfBnAMcCmAhgI4DtAXwEwIMiMi3/S2ssZTucTGcIkK7g2gmCU1GReuY2Dy2cuhxOI0aEza8TEqnnEnJscWl5KdrhZNtfZ82K/l92WfV2owSnNPF4WeYxz3ZKAe9/PzBuHHDNNenXnRY6nNoL17nJfI/ocEoPHU6EEEIIIYQQQkj/hIJTa7BAKTXB8/eoOYOITAJwG4BhAKYDeKNSajSA0QDOr0x2IoAv21YoIgcC+AGiPl53AHiDUmoMogbOP6xMdp6IHFXg6ywdW2E0pAgcWvCyFfCb0cOpEyL1sjqcXILTqFG19zdtAlat8i8rq8MJiHpFFY1P+EkqSocKTjrf/W7yeouk0ZF6Dz0EPPhgtN4zzsi+nFA6yeGkCwaNFJxWrADmzy92mS5aJVKvE3s4mfj283YWLQkhhBAdRuoRQgghhFBwamfOBzAcwGIAH1ZKzQQApdQ6pdR5AK6tTHeOiGxjmf9bAAYAeAbAUUqpVyvzv66U+iyAeyvTXSoiA0p8HYVStsNp48b6xxip53+u6B5O3d325Y0cWfv4jjtGf9Onu5eVR3Aqo49T0ZF6SYLTDTcAy5fb16u/HwsXAkceCZx0Ulhx3EWW4vjcuW5xL2mfX7Qo/fryEPL62sXhNHx49XajBKdXXwV23hnYZRfgjjuKW66LVhGcOtHhlOaCglY6BgghhBBCCCGEEJIPCk5tiIgMBxD3aLpGKWXzcVxc+T8KUUSePv9kAIdU7n5bKWULrYrn3xXAu3INuIHsuy/wPqPjVZE9nPI6nIq6yrtVI/XyOJxCC6fmOmIBxBScVq6MBMKjPB49c1m28beL4JTF4bRpE/Cb3yQ7nE47LRIAbrgB+M53/Mv0kaU4/uyzwOTJdvEo6f1rdCG7UZF6y5aV89qyCE5FjuPyy6sXDRx5ZHHLdREqOJXh9tMJEXFF2ktwMreZb5wUnAghhHQKdDQRQgghhFBwalcOATC0cvv3tgmUUq8AeKFy9wPG0+/Xbt/jWMdjANY65m9Zpk0D7r8fOOaY6mNl93AKKUb+7GfAWWf5o6L0otuSJcDjj7uX3Z8dTuZ08XtiCk4xCxe6lxXicHL1EOoEwQkA1qxJFpx++9vq7ZtvTl6mi6zF8VWrgJ//PHl57SA45Y3Uu/ZaYMKESFwvWmzQx6/3RCva4eSaZ82a9MvKg8uF06qReu0kOKW5oIDFOUIIIZ0CP9MIIYQQQig4tQrjRWSGiKwTkY0iMkdEbhaRQx3T76Xdftaz3Pi5tzrmX6qUWmqbUSnVC+BFx/wtjx671myH0/PPA5/4RNQv5ze/cU8XL2f1amCPPYCDDwa+9S37tM3s4ZTX4RRv66w9nMzp4phD3ZERSohA0UiHk89hVZbg1NfXnB5Okyalmzekf41L3GwUjXA4nXZaNM8zz9hFuDy4HE62qNKYIgsr5j5hbk+lgBdfLE5kYaReedDhRAghhFCAIoQQQkj/hIJTazAMwNsBbEH0nkwCcCyAh0XkehExutZgx8r/lUopS1ehf/CaMb05/2vw45q/5RmgdZ0KKciFFryyCE633Ra27Hg5v/wlsLbiLTv7bPu0repwakakXvyeiITN71tnkuC03XbV263mcMrSwyleZ1IPJ50s2zlG35aTJ6ebd8iQ+seSIvXKjkIzCdmH8zqcdHzuvSxkcTgVcd6JizHDhtU+vmBB7f0zzwTe/GbgXe8qpoDTKoJTqMMpRHRtFdIITizGEUII6RT4mUYIIYQQQsGp2SwE8E0A+wAYopQai0h8OhjAA5VpTgTwXWO+ODzMUwased4MG8s7v5WKS8v7B+BNIcvKi+5wKjJSz1Z4TSpqhy47Xo4ZDWcrRraq4NTMSD3XuAYNci8rbaReMwSn+PUmFaVtz7eywymt4BRyHLRDpF4RPZzKIksPpyyFFZfr0RRUXnqpdpqrropuP/EEMHdu+vUmjSO+b75HreJwStNjrtmkuaCglY4BQgghhBBCCCGE5IOCUxNRSt2nlJqmlHpaKbW58livUupxAIcBiAPYzhCRPZo20DakrEg9W7RUUrEsreBkRsM9/3z9tLYr3Rt1RV3eSD2XwylU4DALl7Go4prfF7WXNlKvlR1OW7bU7wN5BCfXeIpyOO28c7pldYrgVKTDqehj3iU4+V5XljG4nGjmeW3mzOrt1ww/bhHvbbs5nGy4xrZ6NXDvvdXI0UbDSD1CCCH9EfN7ER1PhBBCCOmPUHBqUZRSfQC+VLnbBWCq9nQlcA1GAFEd8fNrjcfzzm9FKTUl6Q/VvlClkjZSr8weTmkFJ7P49ve/109Lh1OVuKDqGpdPcEoSLMxptt++eruRPZyUSnZBKOUW43z4BCffe3LxxVG8WWhkJFA7vqFDgR1ThHXaXks7Ck55HE5lFzH07alH6vnIso1d75NPcNLdTkCYSJOES/Ru1R5OO+9c/7htbGvXAgccAHzwg8BHP1r7XKMKXz6HU9aLDQghhBBCCCGEENL6UHBqYZRSLwNYXrmrB1DFnTu2EZGhnkVMNKY3558IP675W56yHE42ihaczOU99VT9tM0UnMpyOOXt4ZRFcErrcBo/vnq7kQ6nWHRKwizC5xWcXO/J4sVRf7EXXwSOPjp5HbbldXfbC+g6EyZUb9sEhqSeTa0oOOVxOJnvZxGii47L4eSjiEi9EIeTKTjF2+KJJ4A778wmWrSbw+m222o/2wD72E4/PTo2AeCee6L/zz8P7LJL1Attzz2BX/wi35iT8DmczDGb23vOHGDlynLGRQghhJQJHU2EEEIIIRSc2pVntdt7eaaLn3vOMf92IjIeFkRkAKr9lsz5W560Dqc8hemirs52CTF0OPmnSxKc9H3BpB16OPX02CMUbWQVnFzbzvaeiAALDQk69Me1vr0HDvQLTpMmAV/9avV+OzicQs41eRxOa9f67+dF337DkvyvFcqM1NNFJpvD6amngIMOAv7t34Cbbko/DnPsaQSnrVv9va3SECo47b8/MH8+8K1vucf2yCPALbfUz3/jjdG8W7YAs2YBX/xiriEn4hOczOf07f2rXwG77QbstFP9eYYQQghpdRipRwghhBBCwamlEZHdAGxbuau3SH8MQNyZ4YOOeXcB8ObK3fuMp+/XblvnB3AwgJGO+VuednY42QQncxk2AaIVBCfbtnAVdbPGKrki9Vzz+4q5IYJT2h5OTz8N/O1v7nX68DmcQija4eR63BQ6Vq9OXg+QzuHU1RW5MWKy9HAy75f9o7/sSL1GCk7d3bXb30WZkXrz51ePb93tBET7w6mnVu+feGL6cWR1OM2bF8VB7rST/YKAtIRG6gHADjvURlGaY4sdTTGx4L5sWe3j5v2i8TlYbcdtPP3HPhb937ABOOus8sZHCCGEEEIIIYSQcqDg1CRERAKev6xytw/Ab+PnlFLrAfyycvd0ERltWUTsDVgL4A79CaXUHESiFQB8UUQGWub/WuX/PAB/9I21FSmrh5ONpCJzaEHWJTitXAksWFD7WKtG6uV1OIW8D2kdTj7BKW2kXlIPp0ceAfbZB3j724H7Msi0tm3b29tagpMI8PrrtY8tX14/nQ29kN/dDbzhDe5pRYDBg6v3s0TqhQiKRVJ2pN66dbX316wJnzeELIJTmQ4npYClS6PbNodTqPPPRVbB6eSTo31+5cpa0SsroQ6nGN8FFeay4udNUbjsvklpHE6A/b1ctKjYMRFCCCFlQ0cTIYQQQggFp2ayi4j8RUROE5HJsQAlIl0icgCA3wM4sjLtD5VSRrkN5wJYD2AHAHeJyB6V+YeLyLkAPluZ7kKllK0bwlcB9ALYB8DPRGRiZf6xInI1gA9VpvuKUqrtWnrrBblmC055HU5AdKW/TqtG6uXp4ZS07BjztScJTj7RJckhY04zZkx139q4sb64+573VG9ffLF7vSbr1wP33hv9t62/lQQnoF5wCnVL6EXvkSNrezSZdHXVCk5ZIvVM50jZvXg6yeE0YAAw1NchsEIRPZxcQk88pk2bgFdeqX28iP5VLpel+R6Z7+uDD1Zv/+Uv+cagVDqHE+D/fLPt40oBq1YlT6c/Z3PWpiFNDyegua5dQgghhBBCCCGEFEd38iSkRPar/AHAZhFZiyjGTiuz4gYAZ5ozKqXmishRAG4H8E4AM0VkNYARAAZo815mzluZ/3ER+SyAawB8FMBHRWQVgNEAYvfVN5VSt+V4fU2jkZF6RRXFfIKTWZBsZnHOtz3TCE62bd7b6++5ZFtHLES4xuUTXUIcTvq2HjgQGDSoWjDdurVWFNFJI24ccQTwhz+4l9NKgpNIvaMp1OGkF7232cY/bRGRejbByfV+FUHZDqciBKe+vlrxQscUnJrtcAKi9+zll+vXs3lztC/mIavDSSdElPMR6uzMIzj19tY7nPr6ovXatuF73wv88Y9RTOH11yePzUaaSD2AghMhhJDOgD2cCCGEEELocGomSwB8HsCtAJ4HsAbAGABbAbwI4HoAhyilTlJKWctdSqm7AewN4EcAXgEwBMBKRD2aPl6Z1/k1Vyn1YwD7V8bwGoBhAJYiiuB7r1JqWu5X2STSRurlKWw1wuEU4tRoBYdTmki9pPg6F64eTkU4nJLG1N3tLvbOm1c73777utdrjs8lNsXryCo4ufpM6fT1ubddqMMpi+A0ZgxwyCFRHxwbpsOpKMGpTEKWn8fhZEbqpRWcbr8dGDcO+Pd/dwu+MaGCUxE9nHyCU29vfZweECamJlGE4DRmTL4xhMYChgpOrm1oOpzix03mz4/EJgC44YawsdkoIlKv7Ng/QgghpGgoMBFCCCGE0OHUNJRSGwFcVfnLs5zZADJ3kVBKPQng2DxjaEUa6XBqhOAUUgBtBcGpCIdTEml7OPX0uJ1TaQWngQPdxV5TNAp1X5gigm39vqJ0d3d1HKYoExL3VUSkXqjgtFIL9xwzJhI0pk8Hjj4a+NOfaqcNidRL6uHUipF6Ia46F3kdTkcdFf3/xS+Ae+4BPvSh2udNwak74BtCEQ6npEg9c38DyonUyyIW30m5AAAgAElEQVQ4jbZ1UExBSJwekM/h1NdX73ACom1rvseh40mCDidCCCGEEEIIIaR/QocT6UjSOpxaXXBqJYeT7/WGOJzi7WGbNo/g5JvXVZwOKf6HOpweecQ9n48Qwcm3rOHDq7f117l+PfDUU8nrb6TgZIvU23ln4FiL5C1STqRemWRxZDSrh9Ozz9Y/ZgpOrug9nSJ6OCVF6tm2a7Mi9Uzhc9iwfGMo2uHkitQLdTgVdWW2Twy2rdcmdFFwIoQQ0m4wUo8QQgghhIIT6VA6zeHUSj2cynQ4ZYnUS3I46dMkrS/JXWYKTvpYTIdTqLiRJBr09mYTnP7617B9P0sPJ1NwWrYsbD26y0J3htiEjRCHU38TnPJG6umsWVP/mCk4JfVTA5LHv2YN8Mor7vXoy3A5nFyCU15ChS99v3nttdrnNmzIN4aiHU62bbhunVvMMylLcKLDiRBCCCGEEEII6R9QcCIdSTs6nHy9jdolUi9vD6eQgr352pN6OAHhgpNt/Waknm3f6u0F5szxL9tFWQ6nJ54IW38RglOIw2nNmuqxMGJEbdHcJTgV7XAquydMox1O69dnf00hglNeh9OSJVGPrkmTgF/+0r4e/X6zBacQh9Orr9Y+l3T8JtEIh5Orl1uZDidG6hFCCOmP0NFECCGEEELBiXQovoKcjTyFrVaM1FMKmDHDXlTOi/5699vP/ZxtXPr9ons4+eZ1CU5FRerZtnNRgtPWrfkFJ30ak74+9/5fZKSeLU4vxuakMR1ONoGh1Xo4ZVm+bdvfdx9w6aX129nmaIr3n7QFDldPn5giBKevfa065o9/3L4e/X7eSL1/+Rdg332BmTOBb30L+OpX7a8zJovgZDqc2llwCrlwIetno8/hZHs/KTgRQgjpBBipRwghhBACBLQEJ6T96O+ReuedB1xwQeQumDkTGDo0bAwh6Ou5555o+QceGN1PIzgliTsuWilSL57f1h+lUZF6I0ZUb8eijFK1gtPBB0ciho20Diel6gvYIYLTypXV22PG1D7HSL0qc+cChx0W3X7uOeDGG6vP2cSNVauAY44B/v534OabI9ElhKIcTr7j7uWX7Y+njdSzvW82AfLhh6P/b3xj9bEhQ4BvftM+Dte5ybffmA6ntWujYyJrP6lGROqlcTjZxMCQ/SBpOUkOJ/ZwIoQQQgghhBBCOgM6nEhH0shIvaSiWDMcThdcEP1/9dXagnUR6IXErq7abd2ISL0sgpMrfqsoh5Muptjm85HkkDAL7gMH1j5vczitW1ftqzR4MPDWt7qX7xOcbK9h1ar67VSGw0mk+Ei9dhCcfvzj6u2bbqp9ziZOXnVVJPwuWgS8973h621EpJ7ruAvtnQS4HU6bNoWJPOef736uiEi93t588X6tFqlnjidrZKMvUo8OJ0IIIZ0KHU2EEEIIIRScSIfSaQ6nPD2cXnwxbP2h6Ovp6qothDYjUq/IHk5JgtPAgfZ9q2yHk/7+m241m+Ckr3vw4Noxm6R1OJkxb0AkuCUVzvVtlMXh1A6RekUITj4RxbavPPZY+nUCYYKTTQg08Z3f0kZZNruHk0v40tdvCk5Avli9oh1OeSP1QpYXQlqHk+u9J4QQQtoZClCEEEII6Y9QcCIdSSMdTkUVxYp0OOksWJBvXL71mEXpvA6nkPfKnMbWw+lnPwPe/e76aZKWpS/j2muBXXapdS91d9v3rTyCU1KxuqendlkhgpP+Orq7/U6VtD2cXAKZq6gNAIsX1/a+6dRIvaJ6OLmw7StJgqWLRkTqhQpOPodTIwWnLD2cgOzvgW1dLvIITjaRGLBv16RjKhSfwylUcKLDiRBCSLtBgYkQQgghhD2cSIeS1uGUp7BVtMPJtry0PZx0bFfk58GM1Gu2w8kWqTdgQG0cW1qnBQCcdlr99K3Qw2nYsNrndcEp3k/SCAd9fe59NE2xeflyYPvt6x+/5x5g6tTa1xASqWcKTlu21PfKaTXBqRkOp2YLTmU7nFyReqGC06hR7ueKiNQD8jmcsghOvgsq0vRwapbDiZF6hBBCOhUKToQQQgghdDiRDqWVHE5FR+q5BIJOcDgVJTh1dYUJTq5IPdc+U4bglLaHU1qHU1I0WtpIPReuPk4nnli/LUIcTiLR43rPKlNk6ETByUe7CU5F9HDK63AyxU3fOEIEJ5t4066ReiHCj215mzcn7+tpI/Vs24GCEyGEEEIIIYQQ0n40VHASkWEiMk5EhiVPTUh2WqmHU2jRLDRSz1U0d61n4cKw9YdSpsMpRBBw9XAyx5XU/8e2rHhsriK+KTjF8+uxezGNitQbMaJ629bDKcThVITgtGyZ/fHFi+sfMwUnl8MJ8L+PST2ckgSqoinb4WTbV7KKHevX1z/WiB5OSjVWcBo92v1cFsEpTcxkCI2I1MvjcDJf74wZwMSJwO67A0uXusfri9Sjw4kQQkinYn4vouOJEEIIIf2R0gQnEdlbRL4sIr8QkZkishHAWgBLAawVkY0i8pKI3C4iXxKRt5U1FtL/aCWHU9rlJAlOrgKlPp95Vf+GDfnG5lpPV1fttk4jOJXpcAqN1HM5nGwF5FhcC3U4he4XaSP1sjicGiE4ufrE2DD3T1cPJ6D2fUwSkMx9ql0cTs89FyYc2faVUMECqN1XAL9gV1YPJ58LMk2k3qZNfnEuxjxefGOJ1+Pbb2xjaSWHU5pIvZAeTub9ww+PjvVXXgHOOss53NQOJ5fYSAghhBBCCCGEkPaiUMFJRHYSkfNFZA6AvwG4BMCRAHYDMBiAaH+DAewO4KMALgXwlIjMFpFpIrJTkeMi/Q9fQc5GHsEp6Srs0GX7hBi9GBficDKXMXdu2BiSMF+L6XBKE6lXZg+nrJF68bJtcWPxPmUTM1s5Uq+7OzlSz7UPJ70f+nHmeh0TJ9Y/FhKpZ3M4me9j2ki9IgvYK1YAl1wC/Pa37vGE8NxzwF57RY6RDRvcIsrmzenEJRvmslevrr1fZKSeUvXbXyn7e1Cmw8kn6KR1ONncWUDjezg1MlLPnEZ3NT31lH25tvmyCE50OBFCCGk36GgihBBCCClIcBKRN4rIrQDmADgHwK6oFZc2AVgI4BkA0wE8W7m/2ZhuEoD/AjBHRG4RkTcWMT7S/0gbqZensNWIHk5pI/XMaYoSnMzYOiC9wyneHrbXGVKwN6eJRQhzbCGCU5pIvXifKrqHU5LDyYzUGzSo9nlb5Fwa4cBV0DeXY2Pbbau3XUX38ePrHzMdTr5IvTQOp0b2cDrvPODrXwemTgVmzbKvPw1LlgA/+IH7+TyiRow5PjMKMk0UY4zr/OZyYxXlcNq8Oczh5BOm0gpOrs+JtJF6SlW3WyN6OLnchyGRelmPGUbqEUII6Y8wUo8QQgghJKfgJCLbisiPEAlIRwPoRiQcPQXgu5XHdlVKDVdK7aSU2kcp9U6l1N6V+8MQiUzHVKZ/qjJ/d+WxZ0XkWhHZtn7thLhppUi9ZghOZvGuKMHJjK3T/5vP+x7TC646WRxOcQ+nIiP1bA6ngQOj/7Zib5k9nHp7a99PMxYtr+CUJ1JPdyq5Xodt24c4nGIxIU8PpzIFp6uuqt6+8kr7+mNGjgxb5rJlbhElT5+gmCTBqchIPZurZuPGxjucGiE4pREDX3sN2HdfYO+9gVdfrV2Xfm4xySM46fvOMK2DZkiknu8csHYtcM45wOWXu+MJbcu1jdEmvFFw6kxE5AQRUQF/73PM/5PA+T1HFCGEEEIIIYSQssj7Y2wmgNGIRKJ5AG4BcItS6oXQBSil5lXmvQ0ARORNAI4D8ElETqmTAXwMwLicYyX9iLQOpzIEp2efBf7+9/D+ST7BSS9KhvRwMqeZMydsDEmYsXX6fyDM4RQ/VlQPpy1b6pfX1VUvVPz1r8A11wBHHw184AP2ZaV1OMXzl+lwMiP1Ro6MnDVXXhkVe22CjOlUSYrU8wlOvmMjRHBav94/XzxGkzIi9crq4RTvN67tuPPOUXReElu31r5enWYITr79Jsa1f9hE2A0b6gVTfb1pBSfXtjKnc5FWcHK9v2nem698BXj66ej28ccDn/hE9bkhQ9zHUZ4eTjrjxlU/k/I6nObPBy66KLo9YQJw7LHV53yCEx1OpEIfgGWe55Nk5U0AVnuep6+AENJw6GgihBBCCMkfqTcGwCwAxwPYTSn1jTRikw2l1ItKqW8g6u90fGX5Y/xzEVJLiMNp2TJg+nS32yYUW/Fs2TJg//2B444Dbrop3XLyOpz6+upfzyuvhI0hiaRIvVCHk22MQJgg4Co+J0XqvfOdwPXXA4cdVnVFpXE4lRWpl7aHU3d3VORdtQr42teKdziZEYm+om9WwcmM1PP1cGrVSD2deF92CRJveEPYcrZudTucQl00vnNZGQ6nNIKTy+FUZqSey92orzfGJXwlCU5pHE733lu9/fDDtfuo7j4yyeNw0hk7tno7Sw8nF//937X3fY4n9nAiFRYopSZ4/h5NmP/nCfMX2LWPEEKyQQGKEEIIIf2RvILTpwC8RSl1s1Kq0NKAUqpPKXUzgLcgEp4ICSbJ4bR6NTBlCnDIIcBXv1q84HTlleHOJnM5eQUnW+Fu8eJ0Y3Fhi9RrtsMJiIrKpsPJFJz0wvOiRdF/l+BkcyzEkXo2MbORPZzMcSQJTt3dyYKTvu30HlGm2GWSVXAaMaL2frs7nOLzh2v5oYKTr5+Pvn1972dI5GZMmZF6LoeT67h3uelcDiefkKRThMMpXn8RgtPo0bX39XUNHeqeT38vTJFf325J+7gu9hbZwynpWEyK1KPgRAghpBOgwEQIIYQQklNwUkrdUrTQZFlHn1LqljLXQToPl8PpT3+K+k184xvAggXRY5ddlq+w5XI4ZV1OkuCUFKlne37JkvTjiVEK+K//Aj75ydpeUDaHk21b2H54uRxOIYKTrVi5cWO2Hk6uHkBpHE5bt9pFlZBCbV+ffV5zTKbDSSfE4ZQmUk8XnEyxyyRJcOrttRf8TWdKUT2cdLdiX1/24nkSrmKCa//VXSU+tmxxu3b0c4ApWrimSxqb2WcpjVAZ49oWth5OGza4RWnXea0ZPZxcQmURkXrme5fF4STiPu/6IvWGDasXlE3S9HDyzWdu2yyReqHrJoQQQloFCk6EEEIIIfl7OBHSkrhizw491F6ALNrh9Prr2ZeT1MMpycFge37x4ug1hkRQmTz6KHDhhdFtvchpczilidSzPZ4kCLjiD03ByXQ4maJOvJ40DieX4GRzN9mWbSPEBVeE4JQmUs8sSPuKvkmCk01Mi/tn6aSJ1Fu/PuqHtN9+9m3c2xttI1c8WxGY55BY0HRtq5BeSIBfLNCFiREj7A6ieDpbn6QsDqeiezi5IvV6e92vPW+k3pYt7nNfUT2c0jiczP5lWRxOQLSPx+Pp6ameF3z7eHd3svs3q0jrEu9ty7Et0yaU0uFECCGEEEIIIYS0H3kj9UpBRCY0ewykvbEV1WbNcl/tnkdwWrAg6suhF9FsV/cnUWak3saN6YqiOrETDADmzaveDnU4penhlHRFu+t50znR1VUrxKw22orHAkHeHk69vbWCky6OhBRqQ5wRpssoRHDSp08rOMWRfUD+SD1TcLr4YuC66+qnC43UW78e+Kd/ivqjnXWWW3AC7AXsogQnc/+I9y/b/rnnnmFOIcDfw0k/rs1IQh3XOc42tkb3cGqGw8k3bTN6OBUpOJnjM2+bmCJiSLRdWoeTUtFnhk9wCnU4UXDqeMaLyAwRWSciG0VkjojcLCKHBs7/XhGZKSKbRGSNiDwjIv8jInuUOWhCCPFhfi+i44kQQggh/ZGWEZxEpFtEPioidwGYlzgDIR5sRTVXQXOPPfL9GPjpT4EPfjCKnYsp2uGURnByPZ81Vk/fbnrh1iY45XU4+YqbTz4J3HOP/bmkSD3TheRypIT0cPI5nLbdtva5JEIK1ab7o5GRekU6nCZNAr72NWCnneqnC3U43X13JBwDwP/8j9stAzRWcIr3AX35++0XxVDeeWe4w8k25vjcpO8DI0emWwZQnOB05JG15zqXKGAT3Yt0OPX0hJ+3QwWnrA6nRkfqAXbBSSm/S848F5ThcDrsMGDnnaPj07Uc9nAiFYYBeDuALYh+j0wCcCyAh0XkehFJSmHYCcBkABsqy9oLwBcAPCsip5c2akIIIYQQQgghXpouOInIPiLyPwAWArgdwBFg1B/Jic3h5CvEFlHYuuSS6u0sDqd4DEmRell6OAHZBSd9u+m9kGyRemkcTmki9Z5+GpgyBZg61f58UqRekQ4nU8zMIziFFKrzRuol9eIx3wtTcMrjcNIjA20xbzGhDqfly2unaWWH0+c/D9xyC/DGN6ZzOLmiyfTXU5Tg5OuJ5RKcBgyodcGldTi5hOa0DifALSTp+7BvumZE6o0aVXtfP6fmdTglfY6ZkXq24yFPD6eXXgLuv9/9vG+ZFJz6FQsBfBPAPgCGKKXGIhKMDgbwQGWaEwF81zH/kwA+B2BXAIMr848C8DEAswEMAnC1iHwsdEAVp5X3D8CbFi1aBBEJ+jv11FPr1nPqqacGzz9t2rS6+adOnRo8/7XXXls3/5QpU4Lnv+uuu+rm33HHHYPnnzFjhm07B/8tXLiwZt6FCxemmt9kxowZwfPuuOOOdfPfddddwfNPmTKlbv5rr702eP6pli+706ZN477XJvue+b1o1izue9z3GrPvmfC817n7HiGEtANNEZxEZKyIfF5EnkT0w/HzALYFEJ89LeVeQsKxOZxchdg0V8qH4uqv4iMuwtmKcXkj9YDWczilidQ77TT/GE3nhCk4hTqc4vtZeziV4XDKEqnXig4nn+BkEzbi79JmpJ5OWsEptHiehClg2gQnW7+zJLZudTtMQh1OaSL1XJFygFtw6uqqfbyIHk5ZIvWAWrFG54orgIkTq/fLEJz09zSN4GT+Rly2rHo7r+CUdM4p0+HU02MX6m3LYQ+n9kJEThARlePvg/rylFL3KaWmKaWeVkptrjzWq5R6HMBhAH5TmfQMscTjKaWuUEp9Xyk1TynVW3lsg1LqVwD2BzC3MunlwqoMIaTJMFKPEEIIIf2RhjmJKj/6PoToqsWpAAaiKjABQA+A+wDchOqPTUIyYXM4+QqxRf8YSBOxpI8DyB6pF7+GRkfqFelwchWWTcHIJClSzxQIbL2O9LGG9nDq6aktrI8fX/tcElkcTrq7BAgTnNL0cErjcBo5MiqgKxUV/3t6ardPHsHJFqmXV3BqpMNJ3w6hDqctW9y9b0J7OKVxOLkEV8AtVIrUiiZpIvVcPZyyROoB7nP6gAH248LEPO+nEZxGj66+xjTne/O16OflRghOts9Gnaw9nJKcwozUIyEopfpE5EsA/g3RRXFTAXwnxfyvi8hFAH4EYBcA/4Towrak+eovzTaQyOX09tCxEEL6JxSYCCGEEEIaIDiJyJ6IRKZPAdghfrjyXwGYBeBqAP+rlFpWvwRC0pPkcDrgAOBPf4puFy04ZS2S+QQnV6TegAH18zXK4RRv46Qr5otwOLmK6DG2SD294Jw2Ui+0h1Nvb60YNm5c9XaRPZzSOpz06dMKTrqgleRwGjgwEj/i7bV+fW2PmlDBKTRSzxScWqWHU1EOpy1b3A6T0Ei9RjicdMHJde60ibZFO5xc5wVTcHI5oWyv39YHyRZZpwtO69dHz4UIi+Y6ixScfP2bgHoRMSRSL43DyXeuyBKpR1qG/wXw2xzzr06epIpS6mURWY4o+WByhvU9od2ejADBKZQddtihLvIoDddee601dicUW+ROGmxxT2nI89oBQOX4sr3jjjvmmn/KlCm55p86dWqu+U899VRr5FMo06ZNs0Y+hcJ9r3H73oQJtff32IP7Hve9bPC8x32PEELamVIEJxEZAeAYRELTAfpTlf+vAYgDb25VSl1RxjhI/8VWjNOLk3phr+hIvSxxekA2h9OgQVERV5+v0ZF6ZmCNUskOCKXS9XAKEZx8kXrm++uK1MvicNJfh+48aabglDZSL2sPp+7uWsFp3bpsgpPP4VRkpF5ZgtOWLVWHV4y+zfP0cLKJCb5t6TpWQhyFRUbq2USFRvVwMo//NJF6PhHGFGaHDIne99jhN2yYfT2+dernZd/8RTiczB5OIZF6aRxOoYKTz+GkX0RBWoNK7J3jKCKEEBLT01P/e4uOJ0IIIYT0RwoVnETkPYhEpo8CiEv6cel5PYBfA7gRwEOIIvQIKQVbUc0lOCVFAaUlq7CTRXAaPLhecCo6Uk9ft+4UiAvqIlExNF5/b2/t9m+Gw8mMjjLZtMk+Bp/DydazyhQrdbEmFnJ8YkNIFFdSDyd9nVu2ROMxo93KitSLBacYU0ArwuHUDpF6QOR0K7OHk/56Bg6Mjn2bkJImUi+Lwyk0Us+2PpfDqdGRen/+M3D11fXOJ5fTytXDaeBAt3jtotmReq3ucOrqouCkU4mjfiuAvRFFxG2D6Pv1RgArAMwD8DSA51Wey5BbCBHZDZG7Caj2Y0qDfqFblvkJISQTc3nGIYQQQggBUIDgJCK7ADgBwKcR/RgGqiJTHyJx6UYAv1RKbdDmy7tqQpwkRerpV5IXHam3dGm2+a6/Hli8GJg3r/45vQhqOpximuVwAqLtHa/f5howSdvDyVVYjjGdE6bDwWTTJnfhu6enKuLpxPuPrdAbEwtdeoHaJ/aEOpz098AUnLq6osJ3PI3ZByhtpJ5eqE9yLRQlOLmEDXM85vJbSXBavdotOBXdw2nQILfgVGSknksIDInUczmcskTqud43n8PJJzgdcACsuMYRj9ncPr5zgQvfxQ15HU5pI/WK7OFkCt0mSQ6n+HgNPVY6GREZDuDjiPoYvReAp2vbP1grIg8CuAPAr5RS65NmaAYiIj5hrCKwXVa52wcjyi9g/rEAzq7cXQDgb/lGTAgh4bzwQrNHQAghhBDSGhThcJpT+a8rSM8BuAnAzUopho+ShpPkcNILe0VH6mUVnGbPBq680v6cPnaz8BxjcziNHw8sq3RGK0JwMmPrbLddMXXmY7ZtnidSz9fDycSMP9PH5XIdxSJUGsGpp6e2J5LJhg3u52KSIvWAaD+I36fNm9NH6mV1OMU9nGJ8glOaYrr+mP4+mvuSTXBohOBk9gSLHzOdZTFpIvVcDhP9OIwdTjbSOJwaHalXtMMpbw8nk7QOp1DBadMmYNq0aH6fq7ERDqekMWd1OAF+wSs0Uq8/C04i8iYA/w/AcahPCUhiFICPVP6uEZGbAHxPKfVi4QPNxy4ichuA6wDcD2CuUkqJSBeAfwYwDcBhlWl/qJR6yZj/OBE5EsAtAB5VSi0FABEZWpnvUlT7Pn1ZKVWgf50QQvzMmtXsERBCCCGEtAZFCE4CQFX+bgHwHaXUUwUsl5DMJDmczEi9IgWnrMKOD18Ppxibw2mnnYoVnHRckWFlOJzy9nAy8QlONvdKPA/g74GS1vUQUghPitQDouJ6LO7YBKc0DiddIEuKyWp0pJ6JzYnWig6n0Eg9n8NJfz2DBrm3S9mReqbDKU2knquHU5LDydw/k5w8SQ4nFy7hK6/gdPnlwKWXJq8/jeBk+4wL6eGU5HDK2sMJ8J+n00Tq9TdEZDKACwAcBaALVZFJAXgBwJ8r/1cCeB3AGgCjAYyt/L0ZwP4A3liZdxiAUwF8RkR+BuBcpVR8cVgrsF/lDwA2i8haACMB6DL6DQDOtMw7AMCRlT+IyHoAmwCMqTwHRP2mzlJK/bz4oRNCiJvly+sf64ywU0IIIYSQdBTawwnRj+VRIvJTAL9VSiWUhQgph2Y5nPr6sjucfMRxRQMG1Pdw0tcN1BZMt902Kk5v2RKJARs2hDW213EVEctwOLmKm0lFT1sPJ59QYYoy+rjSOpz04ntIjxSdEMHJdBnZHFNmcV2fPkRw0rddM3o4hTqcTGzbr5mCk7ndYxrpcCoyUi+kh1PZDidTcBo2zO4w0zGPf32b+M4lZTmczjvPP96YRjucQgSnNMeMT9jT1+VzOIWKs52CiPw3gLMADEIkFm0CcBeiC7geUUo5LoGwLmsUgEMBfBLAVEQuqU8A+JiIXK6U+kaxo8/EEgCfB3AggH0BjEfUl2oTon5LjwO4Xik13TH/wwDOqcz/ZgDjEIlvawC8jCjG+4dKKXZSIYQ0nFWrmj0CQgghhJDWoAjB6QYA/44oY34Qoh+5UwGsqsRm3KSUeryA9RASTFqHk6+vRhq2bClHcIqXPXRouki9gQOB7bYDXn01ur9kCTBpUrr1pnU4hQpOtsezCgK2SL3u7ui/bT15HE7mvmX2sira4RQSqaeLD6ZLxnQ1mCRF6iU5nHQhqUiHUyxq0OEU/W9GpF6jejilidQbPjxZcPI5nHyiSFmCU6hLKK/glLaHk0/4iaHDqXS+Xvk/E8C3ANyulPIEL7qpiFN3ArhTREYi+m7+ZUTOp68DaLrgpJTaCOCqyl+W+ecBuKjQQRFCmopStd8r2hkKToQQQgghEbl/2iulTgYwAcCJAP5QeVgQXbF4KoBHReRlETlPRHbLuz5CQjB7jPT11RYazSJ2mqIa4C4MbtlSTqRevGwgXaReLDjFxPF6aXAVMV0Op9BIvTQOpyRskXoibrFi06biHE5Zi9DxOGyYy0gjOOWN1Gsnh1MrCU6rVuXv4WQTQl2Res1yOJXRwylNpF6IQ9Ps4aRvE5/I29fn32/yHOshpOlz1m4Op6QeTvF274eC00wAnwLwFqXU9VnFJhOl1Fql1PUA3grg+Mp6CCENQing0UeB+fObPZLWZd064MADgTe8Afi//2v2aIrBJjgxUo8QQggh/ZFCftorpTYopX6qlHoPgN0BXAhgPiLhSQBMAnAugJki8piIfLaI9RLiQqTedWMWbPMUC32C0+LF6ZYVik1wSorUGzgQ2Gab6v0sV96FCE5FOZzyCE5mpB7gF5xs73lvr8BiaN0AACAASURBVNvhZBOczGJ4UYKTHpuX1uFUtODUiB5OjRKcsu5fJmU5nGyCTFEOJ9dxqNOsHk4+YTOL4GQ6nPTjrCiHU1dXuvjMEBoRqZc05kb0cPI5q/qh4PQWpdQtSqmCfNa1KKX6lFI3IxKeCCEN4uKLgXe9C9hnH2DBgurjvb3ZLv7qRC66CPjTn4DXXgP+8z+bPZpiWLmy2SMghBBCCGkNCv9pr5Saq5Q6F5HI9H4AtyLKZo/FpwMBfF+bZVcR8ZQUCcmGWZAzBac8xUKf4LRoUbplhRIX5JIcTqY4MWZM9b5NcFq92n8FZtpIvTwOp6xFW7OQHRctXSKHL1LP5XCKi9Y+h1N3dzGCkyn66O9BFsEpTaSeT+wyMQUnXWAy76eN1IvfQ1+knm37xftBu/ZwMgURl+Dk2i5FRuo1qoeTKfToyzePsbwOp6Q+Q7bzXSyQ+8TlrVuj82ieK5nzOJyUSo7UM+M1m+VwYqRelbKEpmath5D+zqxZwM47A+ecE91ftQr44hej21u2RALUhAnAddc1b4ytws03V29Pd3VtazMYqUcIIYQQElHaT3sV8aBS6jgAOwA4HcBfUBWe4rLMpwEsFpEfi8ihZY2H9D9MJ4pPcEoq1Jm4BKdNm8p3OCX1cDIL0z7BacUKYPfdgV12AX76U/96TVyRekU7nHxXzcfYIvWAWjFExxep53I4xeM1hcoyHE76+5olUs8UPpIcTvp7wUi9ZGw9hIpwOAH127CRkXoh+02eSL3QHk66mJY1Uk9fRt4eTrZxmMf6ySdH59Gjj04enwufw8nsb6Gve+ZMYM89gUMO8S8/JFLPfP1pjhk6nLIhIhOaPQZCSH5WrIjOxbqjCQBuvx1YvjwSWJ57LvqsOeWU5oyxlSjr91KzWL8eeOml+scZqUcIIYSQ/khDftorpdYopX6olDoAUazH5QCWoio+jUbUA+pBEZknIhc3YlykszGFAV+kXlGC0+LFYQJJFkJ7OKVxON11V/QjGABOOMH+oyhtpF5fH/DHPwK33hqNOa/gZLpmbLgi9VwihynK6ONKWl+aHk5JcVSM1KuO0SQusLea4LR5s33ZPsEpTRHdJTjljdTL0sPJ5TzLGqkX6nDSxaIsDiczUi9NDyfX+a6np/4cox+Lf/1r9P/22+vfw1CyRup94QvAyy8nLz9LpN4ddwDHHgs88UTy8ulwysx8EblTRI4UEcsZnhDSDjz6qPu56dPtYkR/ZevW+s/bdo+ju+WWZo+AEEIIIaR1aPhPe6XUC0qpLwPYCcC/Avg1gK2oik9vAPCVRo+LdB4+h9Pgwfki9VxxVvPmpVtOGmyReiE9nHyCk1n4i4umtvWauArqzzwDvPvdUZHy+9/PH6nnEoB0ocMUnPI4nDZsqF8OAPzHf0T/0whORUXq6cvRxagYn+BkxmiZJAlOvtcwYED5DiefwNAMwcnlgDMFJ30/KEJwCnU4tUKknkuECnU46cKLKXr69qMYM1Lvz3+ORHClynM46WTdzwYPBq68Epg8ufa8DfgFp1BCBHFz7E88EV08cNBBycvP43CK95l+Kjh1AzgCwC8ALBSR74rIPk0eEyEkJQsXup979dWwCwOUAk46Cdhrr86JmbMxdWr9Yxdc0PhxFMkrrzR7BIQQQgghrUPTftorpXqVUr9VSn0MwEQAZwF4ulnjIZ1HksOpjEi9MgWnMiL1TCHi1lvr15vW4fSFL1Rvn3WWvfisVLjDyeUWMAWntJF6tqJnb2+t4HTBBcBnPwt8+tPA+edHj5kF2zyCk6v47RN9WsXhNGBAJDyU5XCKxzxqlHs+n4jSaMFp+fJyI/VCezhljdRTqlY8yhOp59pnXA6noiP1TIfTffdFIvhtt2UXnJLEZXM5WRg4EPjc54DZs4HPf772uSIEJ1N8DnE4pcEmANuWm0Zw6idRRGtRvehqHIAzATwpIk+KyOdEZGxTR0cISWTZMuCMM9zPf+5zwK9+VfuY7fw2fTpwww1R9N7hhxc7xlbi3nvrH5s5s/HjKJJ2d2gRQgghhBRJS1xLqpRarpT6H6XUvgDeAeD7zR4TaX+SejilEQZMXMXeMq9uyxqpt8021fvmjyGzKP+zn9UXhF1XrbscTmZBN43DKY/gZHM4uUQOl+BkOpzGjgWuuQb4yU+i20BjHE66iylLD6eQaLQYU3DyxfnpxOMo2+HkE5xsxK/FJiwULThtt1319qJF9T2QYtK4Ntaurb3fqEg9/fnYxeR6X5Ii9fRlDR5c3Vf6+uz7vCn06IJ+lkg9s4dTzDHH+AUn83NCJ43glPYChhj9fG4es0U5nPTlhvRwSoMvSjApUi/ej8zPhaziXZsxAVE/04cq92PxaR8A30PkerpNRA4XkZb43k4IqeXcc9PPo3/fvPlm4Mwzo1jWmDVrIhGr04QM13nd5xBrB1zvUz+5cIIQQgghpIaW++GqlHpSKXVms8dB2p9WdzgddFDUZD6UMiL1zNe9eDHw4ov+aWJcDiezYJumh5NNEHAVMUeOrN529XDKG6lnK26b+1WjI/VCBCdT+EhyOOnbLtThlCQ4KVW7LbMKToMGuQVeG2U7nHQXx667Vse5fHntc0U7nEIj9VyCSpIwZIsDDOnhlCQcDxhQexyZglo8fZkOJ508PZzKjtTTxV7zmCgjUi+twympaGZ7b23L9TmczHUUccy2OkqpjUqpm5RS7wOwK4DzAMxGVXgaBOBjAO4CsEBELhKRPZs1XkJIPT/4Qe39730P2G8//zyrVkXnvj/9CTj++ChS9Yoraqe55hrgKx0WNL9ihf3xThKc+mk8LCGEEELIP2jY1yER2U5EjhCRz4jIf1b+HyEi2yXPTUh6zMKaz+HUDMHp/vuBCy8Mnz7U4ZRGcLIV5ZNEqRiX4GRO7+rxEupwCunhtGFD+h5OIQ4nW3G70Q4nsxhfdqSevqw8DqdNm6rvsdkzzcT2nC5qpHE5lS046csdOrTW5bRkSfV2VoeTefw0w+EUjz1rDydzWfr50iYgm0JPXsHJ7OGkP96ISL2sLqFGCE5JDiffMeLr0QQkC06vvx7FrP7+9/XPuwQnl+DdqSilFiilLlBK7QHgXQBuQG3k3gQAXwXwgohMF5GTRWSke4mEkEagf+YMGRLFol56qX+eRYuAffYBDjzQL+j/+MfFjLFV0L8rTZ5c/U6xdGk+l22z0QWnsQxCJYQQQkg/p3TBSUSOFJHpABYBuBPADwB8u/L/TgCLROQxEflI2WMh/QszUk8vNJoOp7SFaJfglCZSr6srnfMhtIeT6YZJKziZPWpcP/5cBXVz+jQOJ1schcvhpDtmNm6sfd1FRep1guBk9m0x8fVwMl+fjk1w0ved0Dg9wO9wAoDRo/3z6zRScBo0CNhxx+p9vWCkv09pjnOTVhOc0vZwyuJw8kXquV63OUbbdOPGtbbgVHakXnd3/eeiie8Y8fVoApIj9aZNA777Xfvz8b5ofi70B4eTC6XUY0qpkxGJTCcAeLjyVCw+HQDgWkTfo38qIu9pykAJIZg8uXr7vvsiEWX77f3zXHQR8Oyz5Y6rFVm8uHp74sTqhTtKtbfLSf8No8eZM1KPEEIIIf2R0gQnERkkIrcB+AWiH8Xi+TsQwC9F5OciMsixSEJSkSZSryjBKakgpxMiOOkFSFukXl6Hk60wGio4hTqc0vRwmju3/jFXEXPQoNrXry8vKVLPFGVienvTCU6m+8ImOF15ZRSdaBZalXILTt3dtS4Sfd+1FZp1R4gZF5jkcOrtrd12aXs46fvX6tXV2/qx4Dpe9DGa6GNuJYeTeXztsIN9uqwOJxNXpJ4rZtAlqLj2d9vtJMEpTQ8nU3CyHc9pIvUGBXxDcDmcxo1r7Ug93z5ThsPJNk6fWKafG20kOZyuusr9PB1ObiqRezcqpd4LYBKAaaiN3BsG4DgAD4jIHBE5V0RSBPYSQvKiX2Sz007R/yTB6de/Dlu2/j2rE1i6tHp7++2BPbWA0Geeafx4imDxYuDll6v3dcGJEEIIIaQ/UqbD6ZeIMufjH8TPA7gKwP8D8JnK/6sAPKdN83FEAhUhuTGFgUZE6ukk/dgIEZz0wqstUs/Ww6loh5PLMVGGw2n27PqCoytSr7vb/T7EBXGX4LRsmT0TP4vDyeyXZO5XZ54JzJ8fRUnpxdOeHnfj5K6u2uXoIoKt0Kw7gFatSic46e+XSH3kVpLgNGxY9famTdWCvinM+NAFjJgyBKciitfmeSREcOokh1OWSD3d4WaeX+JxFO1wsglySQ4nU/jSMcdhHqM6WRxOgwbVbtcyHE7m+Smtwymv4OSDDqcwlFLzlVLnVyL33g3gpwDWofo9eldEPaBedi6EEFI4+nfV+LtnHtHhzjurt1et6qxzod7Dadw44J/+qXr/yScbP568/O53VZERiD7LKTgRQgghpL9TiuAkIscAOKJydyGADyml9lJKnamUukIpdV3l/5lKqbcB+CCA1xD9WD5CRI4uY1ykf5HG4VSG4PSGN/ifDxGc9OJqaKSeWZh2CQLmtDF5HU4hRX2Xw2nNmvpYPZfDyewNYxuXL8rtL3+xjytJcDL3K5/rwSzA6tvS57Qw9w19Wpt4o2fFr1hRL4L59jPftKa7RCd+nSJ2l5MpfPowRYz4sZg0kXqx4JbkcDr9dGDSJOCuu8KXDfgj9XTKdjiFCk4LFwLnnQfcc0/9tEmCk8t5ljZSL0lwapTDaezY1o3UM4/rZjmcmi040eEUjlLqUaXUiYgi905EFF2tEH2XZst6QhqILUY462f/EUcAU6fWihbmBWPtjBk9N2VK9f4dd7RXBN2TTwIf/nDtZ9XEie4EBkIIIYSQ/kJZP0hPrvxfD+DdSql7fRMrpe4DcCiiqzQB4JSSxkX6ET6H0+DB5UTqxQwZAmy7rX8a003iWk7MwoX1jpMQwcklCAD2orxPJNHRf0in/VHtcjgBwJw5tffTCk76NnU5nHzjKrKHk76tgdrtrYtI5uswBackh5MpOGV1ONkEpySHE2B30aURnOJ162R1OJ10ErDHHvY+APGYpk8HfvCDqOfav/5r+LKBcIeT/pqLEJxCHU6moHLyycD55wM/+lH9tEVF6m3eDHzgA1EszpNPpu/hZAo9PsEpyS0Xr9O2fYYMaYzglOVKdPN1leVwSro4oCzBKUk4cglOnXRVfxmIyM4AzgJwDiLhiRDSYHp7q9/pRNy/EfbaC/jzn/3L+vCHgW9/O7ptfrfrFEzB6cMfrv6e+dvfgNde88+/dSvw0EP2vq+N5PXXa8WymEmT7M59QgghhJD+RFmC0z6IrrK8Tik1O2SGynTXIboyc9+SxkX6EUkOpzyReq7+KTE77BAWI5ZGcPrSl6LYCV2oCInUA9yxenkcTnkiw1wOJyC/4KQXZpstOPl6Zunv48iRtdOZy0kjOK1cWTum7u58glOSwwlIFpxCRAKfoyONwwmIeoFNn17/eDym555LtzydLD2cmhmpZ3M2xWSJ1DMFJ6WA738fuP9+YNYs4P3v9zucbKKE6XDyReqFOJy6uuzbp68vXw8nfXsV7XAyX1eSwykkWtCku7v+/GXiG7sr3jTGJzi5LjAwnzeno8OpHhEZJiKfEpEHAcwB8E0Au6Eaq7cOwA1NHCIh/Qr93DhsWO1n5AknVG9ffTXwz/8MnHaae1l33QW86U3Rbf273SuvFDHS1sAUnMaOBd7ylupjixb55z/pJOC97wUOOijb521RTJtmf3zy5IYOgxBCCCGkJSlLcIrLvP+Xcr54ekuZl5B0mIU1X6Re0Q6nCRP8V6DHxcM0kXpA1Ez3N7+p3g9xOAG1goD+Qy+kh1NZgpNeWNQL0qbg5Cpy5o3Uc40rjeBkCjJZHU6mMGaKkfq2su1XeuyKzeHke386zeHkwybepKVVIvVcorfPwWOStYeTGan3xBPV+7b9Tz+OGhWpZ9s+vb3JDifX/p50rOs0IlIvqYm87Zgv2+GUJzYonpcOJzci8i4RuR7AYgA/QZQM0IVIZAKAPwA4AcAEpRSTAghpELY4vZgLL4x6ed5wA/DOd0aPxQ4mk733rr2vu2d+0UEdjk3BCQC226762LJl/vlvvjn6/+KLwB//WH1882bgvvsa5wa76ir747vv3pj1E0IIIYS0MmUJTnGYUdrruuPpLWFIhKTDF6lXtuA0alQxgpOraBqTJDjFY3DlwIcITrZpgNptkCVSTy8s6j/Omhmp19tbW1S1LT9PpJ7L4WSup7fXvW8UHamnY0b55XE42fbDpHW77qd1OLmIj/M0ooxJaKReqzicfCRF6rl6OJmReuZ5Kq3DyRep19NTe64I3Zds2ydJcPIJrLZj3fW+ZhFJTCEtKVIvSXCyvX7z/JRWcNq40b/OPNDhZEdEdhWR80RkNoCHAXwa0UVdsZtpPoALAOyulHqPUupGpVSCNEgIKRKf4DRxIvC979U6nUaMAF56qfb7w/jxwCWX1M77kY9Ubz//fGHDbTo2wWn8+OpjS5e65zUv6Hjhhert448HDjsMOPjg8i9W8F1gsffe9U5wQgghhJD+RlmC00OV/+9MOd87EUXxPZQ0ISFJlBmplyQ4DR/uL4zGP0SShACb4KQXJm2Cky3KrIxIPX1seR1Ou+1WvR0qOHV3Fx+pt3FjdVwDB9qj4Mz9Kk2knsvhZCvYu/afMgWnZjqczDHqP9aLdjiFiDLz59sL7OZ5ZPvt7Vn9eXqc6dgEp0GDihGciorUM8eiL6urq7YAF+Jw0o9r/fUkufX06bIITj6HU5oeTq3gcHIJTkkXWviKdEmRekn4jgP2cKpSicw7QUQeBvAygHMB7IqqyLQRwK0A3g9gklLqPKXU3GaNl5D+jk9wcrHnnpFY8uKL0flv8WLgQx+qnUYXpMwLmNqZPA6n5ctr7z/7bPRfKeC226LbL74IzJiRf5w+bH1CY972tnLXTQghhBDSDpQlOF0BYAuA40Vkv5AZROQdiK7c3FyZn5BcmFdy64VG0+FUtOA0YkQ5kXpAbdHT1sMpKVIvjcPJFIZcY0tbUFeqtrDoE5waGamni1u2OD3A73Aye6SEOpxsglMah9OoUVURYO3a2mWHFult0xbVw6nVIvWSRJmbbgJ22SVq/Gw6cszja+DA2itzgei16KJMXodTX1+92OESnMqO1Ovqqo/US3I46cdSWoeT/npC9+U8PZyKEJyyiCSm4JTX4WSLHuzuTo7U830WJkXqJeGLQ6TgBIjIe0TkJ4gi864D8C5UI/MEwF8AfBbADkqp45RSDyrFa+cJaTbnnFO9nXRu1hk9GnjjG+ujavXnY8wLmMri+eeBu+8u79yrFLBgQfV+/P1J/x6lC05KRXGEl1wSfX6bYtTrr0f/ze/bc0uW4F29QA8+GNh113LXTQghhBDSDpQiOCmlngXwGUQ/kO8XkVNExFqaEZEBInIygPsRuZtOUUrlaOlOSESSw6nMSL3hw+3umJgyI/Vshf40Die9IOwrPhbpcNIb7M6fX/safJF6NlEoj8NJX28WwalIh5Ntm5q9nWK6umpjE/UrQLu7m+9w8h0LMWVF6tmO8yTB6fjjo/9LlgDf/W7tc+Z5BKiP1UsSC9LQ01Mvcom4ezgVGann6uFkRur5HE5mpJ5N8PE5nEzBKWRbtpLDKVQOMMWYvA4n2/5hjjmtw6lMwSm+CKE/RuqJyDdFZC6ABwB8CrWReUsAfBvAW5VSByilrlVKWXyChJBmMG8e8LvfVe8ffHBxy9a/+zTC4TRjBvDWtwJHHAFcdlk565g/v+pwGjMG2Gmn6LZLcHr0UeCkk4Cvfx2YNq0+bi/+zvnqq7WPx86nstCj/E45Jfrcf+IJ4IEH6r8n8bIAQgghhPRHAq47T4+InFu5eT+AwwH8EMAlIvIooniQDQCGAdgdwCEA4kCouwHsrs1fh1Lq/DLGTDoPvbC2eXP1C3/cpyZPpJ6r2BszYoS/30UewUknqYdTXoeTr3itjy1LDye9sDh8eFS0X7QoKjAuWBC5S4B8PZzSOpx0QgQn0wGUtYdTaKSezyk0dmy1UbIuODUiUs/WI6xVHE7jx0dRNfqY0hzvZnHDJjjtuCPw979XHzdfS16HkxmnB7RPpJ4pOLnG4XI4ZYnU6+pyi/VFCk6u40p/LaEXMxTtcAqJ1DPFHJ+jFcgvOCUJz6bzFeg3Dqf/QnTBVXxkbQXwWwA3APi9UqofyG6EtCfz5tXe/9d/LW7ZI0dWb69d63e/h7J5c/Rd0bxQZvly4B3vqN4/++xI5Cka/bvSvvtWv0+4BKdf/7p6+9JLgX32qV2eS3C67Tbgggvskcd5USrqwRWzxx7R99wDDih+XYQQQggh7UopghOAaYh+PEP7PxaA7Wu4aNMcXvnzQcGJBKH/KNNj2eKCbdkOJz2j3CT+AdRswSmph1OZDie9sNjVFbmcFi2K7s+Zk11w0guzIc4aF810OPX12bdpkuAUo/9YTxOp19Xlf32usdj2L33fydvDKY/DySY4pRFlTFdGMxxO+jrjfbqISL24wC9iF5xcbjpTcEoTqWfDdDjljdRzuY96e/2Rej6B1Xasu9CXEbqvFe1wsrmJzO1iHttJbqK8PZyStoVN8OoPDqcKAuBpRCLTLUqp5QnTE0JaAFOIP+ig4pY9YEAkOsXJA2vXpovsM1m3DnjTm6Lv2jfeCBx7bPW5u++un74IgcvklVeqt9/85uptl+Ck93YCgOnTa+8/9VT0/7XXah+fNSt6LHZQFcUrrwDvfGetwBX/XiGEEEIIIVXK6uEEVONA4j/bY77HXdMSEoT+I0l3G8WF2jw9nEIcTkX0cMoiOKWJ1HM5nGIxKFRwyutwEqmN1dP7OLly67u7kwWnPLiK5KZQmdXhpBfSQyP1fPuU7jIyBacyHE66mKfvX7HQ2koOp5j4vUojypiFe5ugawpO5ustOlIPKMbhBFSPwzSRemYPJ982CnE4+SL1zGWFOpxc6ynK4WSKszr6mEM/W0xxPElwSjombJ8dZg8n87UmjTWvw8nn+gXqL0QA+o3D6SoAU5RS+yqlvkexiZD2QT8vfuQjxS+/yFi973wnEmH6+oDjjqt9To+IiymjD5IuDE2cWL3tEpzMz6WHHqq939MT9dA65ZT6dS1Zkn2cLj7+8Xo3la1nEyP1CCGEENLfKcvh9J6SlktIMHoxUC90xcXRPJF6zezhpKO/Bp/DSe9lpDuGbK+7ry/6AT18uH+76AXvohxOMbHgtGWL+6p6V5+Woq7GzOpw0tdvFgfS9HDKEqkXk6VIb5vWjAx0jSWph1MWh1NRPZz0q2OzOJzM49gVqadTdKSebZ0uwSkWTUK2eTz9gAHZI/VsrhT9HJM3Uk8njcPJtZ4iI/Vc69FfS+i+lrTPmO9Fd3ftle8mrnOjz+GUJO7kFZySlm8TnPqDw0kpdWazx0AIyYZ+Xkxy82Zh9OiqwJFXcNIv5tLZsgW45JL6x5cuBXbfPd86TXTBSf/u5BKczN8ANmHsoovs64oFp/Xrgd//Pro46KCDqt9hVq6M3j9d+Epixoz6x+hwIoQQQgippxTBSSn1hzKWS0gaXA6nRkTqFeVwchWVY/RiuM2VFI9BX45eAHUVQ9esSRac8kbqhTicfLGEIZF6eSiih5NJmh5OeSL1zHnK7uFUtuCk9zFIi17EcAlOcawcUC+emGMvKlJPJOyqV5fDySdGb9mSTnCK1xOTtoeTuY/oRbEskXqu82uoWy8e/7HHArfcUrsen4CRVnBybeMskXrmdEkOJyAqRLoEJ1eknu9zr2zBKQmbeNlPHE6EkDZF/31RhuBkc5BnxfV5dP/99sf1iO2iWLiwelsXekaPjr7fbN0aXbSyaVP0PSfP507cg/P444Ff/Sq6feutwCc+AcycGfWD2rIlihM87LDk5dm+P+yyCzBuXPYxEkIIIYR0KmU5nAhpOmkEpzIcTo2I1DPXYRZ/4+K0XnzUr/B3/fhcuzYqovuKpXkj9UIcTkUITr7C/uTJ0Vj0TPmYIno4maTp4WQrGIdG6unkjdQrwuEU0kvLJ9LkcQjZBCezj4/eM8ss4JvHgK2fUpLgZBv/4MH+fkL6mPXzU5LDKR5jaOErfn/T9HAyI/XMfUQvUjXD4RSP7yc/Ad7+duCLX4zum8KWbRw+wUkXQ3zHehaHk+m8ChEtx4ypj/aJcTmczONbpxmCk35+7q8OpyREZCCAfwbwFgDbAEj4ZhChlGLPU0JKpmyH0/bbV2/H/Siz4vo8cn2OFCk4bdoEHHkk8PDD1cd0h5MIsO221V6uX/5y9Hm1YEH2dS5ZEn2GxGITEN3+xCeAM86ofgf74AeB008Hrr7avzxbT9n3va/2IhxCCCGEEBJBwYl0LEmCkykcpCFvD6f4x0leh1MsJsSFULNwa+v3ov/gNKeN78c/Mlvd4WR7H8yxDBzo/pH98svRa7Rt5zIEJ5fDyVy/K1LPJ9y4HE5pIvW6uopzONmcdknr1inqB/y221Zvx/udWTjv6am+brPAYvadsYk/SZF6NrFgyJBwwckmcvnODbF4EeKgytLDyYzUM/eRtIKTKQQVFanX3Q28+9216/FF6pn7+6BB1W2fxs2YpYeTOa4Qh5OveXxIpF6jezjZ0M/PdDjVIiKDAZwD4D8AeN5tJxScCCkZ/byYdDFaFvTvF8ccAxx1VPbvR65zfCMEp9/9Drjnnur9wYPr4/rGj68KTldd5V/errvaLxbTeeAB4JOfrH1s3rzo/4MP1j5+zTXAeecBs2dHFx69//31n7u27fG2t9nXzR5OhBBCCOnvFBQ+RUjrUabDKamAHtrDKcl5ktRk3XSvmMXfeJy6W8YVqacX5tMKTkU4nCZMqC5zxYpIuFixwr2MAQPs29jW68SFiLuA7RKczEgqM4qsCIdTkZF6jXA4DR1afS82b45eW9pIvRCRmRQB6gAAIABJREFUJgtjx9bHIJqFc30/N3skmMegLVJvwoTaaczXa3svk0TrGFekXpLDKZ43CZ/DKWuknik4FRmpl8bhZN4O6eHkEr7KjtRrhODU3d16Dif9HG5zOPVXwUlEBgG4F5HgtA0ASflHCGkAZTuczAta/vzn7Muyfaf/yU+ACy+0T59FcNq6FTj6aGC//YBnn60+/uSTtdPtv3/99yDdkZ7EjTfWuqVsPPAAsPPOtY/Nnu2e/uabgYMPjhxP//u/9c/btgf7NxFCCCGE2MnlcBKRHZRSi4oaTLPXQzoLvbCm/yAsQnBKKnoW1cPp9deTx2EWVJOK03phU5923LjqlYUhgpO+zCIcTl1d0Q+3uCHw3Ll+h1N3t30bpxGcbNPHuAoHccHd1jOrFXs4uQQn3RmnT5vF4SQSFb/jRs+rVhXbwykPseAUj6enp74JtT5Ws6BgupBsgtOgQdHxEx+vIeJZkntRH5vNVeU75tIITmkdTmVF6unnpaIcTubtJIeTKdgPGVJ9LWkEp0ZG6rkIcTi1guCkj8c8HwH9OlLvPwG8q3J7I4CbATwGYAkAz15MCGkkZfdwMj8/H34YOOCAbMsyL6BZuBA48cTaxyZNir5/A9kEpyuvBG67Lbp91lnAffdFt83PtFNOqZ83jeD0lrdEn3O277I+B/mKFcAzz9if+9KXqrePOy7qA6lDwYkQQgghJJy8kXqzReSHAC5VSuVMlq5HRCYAOBvAyQASSlaE1FJmpF5SMbyoHk5m3IRJd3eY4BTicNKb3sY/qhrZwwmIYvVCBSeXw8ncpkliRxwRZl5Z7yscdHdXt7NeKG6mw8nVw8l0NcQMHGgvcmcRnIDWFZy22abelWaL1ItJ43DS978dd3QLTnkdTq51uojf1zIEp7Ii9cyi3YAB9WJDFoeTuT/7YgxtglNMVodTq0XqmceCTtL+Ygq1ReBzXAH91+EEIC51LgdwsFJqVjMHQwixU3ak3m671d5fuDD7shYZl25OnFg/ze67Zxec1q2r9kwEgPvvr97WEwtOOw341Kfq599uu/B1jR0bfRfZdddqDDcQOZ+uvRZ47DH3vHvvHbaOvj7g+uuj9/iMM+zbY9dd7fMyUo8QQggh/Z28Jb0hAM5EJDxdJSL7FzAmiMgBInINgNmIsusDS3OEVEkTqVd0UauoHk5HHRU1pHWRJVLP53CKKbuHk1L1Diegto/T+ecDr73mXoar4JvW4WSbB0gWnGLSCE6hDqe+PvtyinQ4ucS6LJF6QH0fJ30/DBFJyorU22abenHZJzhl6eEEADvsUL1dpsMpZFsWFalnO65DIvV00S7utebrOWH21Ro61L7ukHhIUxDL43DSi4f9weHUjB5O+uuynWv6scNpNwAKwBUUmwhpXcqO1DvssNr7L76YbTlbt/rj5GL22KN6O63g9NnPup/TExsOOcQ+TZrzffw5b373PfrodE4pH7/+NfCZzwBf+ELkfjK3x49+BIwcWcy6CCGEEEI6jbwlvY8CmA9gKIDTATwuIjNFZJqIvFtEglxJIjJCRA6tzDcTwHQAp1aW+0plPYSkwiU4xYW4PJF6SYT2cEoSagYOjK4QPPVU+/NZIvXK6OGUJVLP5XCK+fvfgUsvrd43HTx5ezjpxeQ8glM79HCyFftdYkIeh1NMEQ4nc8w33ZS8DBtmD6ciHU55BKesDid9nS7yOpzi7VVUDycR//G0dWt9pJ5tnwlxOJljTiM4mft7VodTEYJTI3o4pXU4lS042dbfjx1OsZ8sY3mZENIIyo7U6+4Gnnqqet93IZaP2bPDzqfveEf1dlrB6ZZb3M/pgpN+gZuOy6nvw/xsHDSoOBHouuuqt7/3PeCRR6r3TzzRHgtICCGEEEIicglOSqk7ALwJwJcQxX4IgN0B/BeAhwCsEpGnReR2EfmhiFwsImeLyCUicq2I/EJEngGwEsCDlfl2ryxnGYCzALxFKfWbPOMk/ZM0kXq23hF5GDasmEi9eDrXspIEJ5vDSS+A6tPqgtPatfXPm+gFzSyRejaH0+GHu3+wb7997f2sDqfYfXbvve55AH/hwPW+NbOH06hR7jGZ4k3cM8s2rSnOZHU42fZDH0kizXHHRbn7t96avCyd0aPrXR1m4Vwfa5LDySX+6I29zdebN1IvrcMpi+CkCx7x6wrp4dTXl9zDCfDH6ulRbUOHRvuny+GUdM707UfmtjQpI1KvWQ4nmzBpczDqNFtwosOphtjV5CjNEkJagbIj9YDa6LsXXojEjrQxbSHuJgCYMKF6O0sPJx3daRQiOLkurjO54ILqbdt2WLIkbDlJPPBA7f2rr67eHj3aPy8j9QghhPx/9s47XorqfOPPy72AIGABEZAAIoiKgigaK0LEWGIFMdZoBI0lmsQaFQtoir2bWIK911hj7D0WBBtYQEVUQLAgCALC+/vj7PzmzNkzM2dmZ2Z3732/n8/97PQ5uzs7d+Y88zyvIDR3Kg4tYuYlzHwRgJ5QLqe3oAQjAtAAoD+UQ2kMgJMAnA3gRKi6THsB2KC0nLfOZCh3U09mvoSZpTiykIokkXpZ0rat6kTLUnCKEjiiIvVsDie9YzOuhlPRDqd11w2PCzEFp8bGcBeEjh7xceCBwOefqxz7bbcNXwdwdziZ+87K4WTbTpTYEBbRZntvSQQnV4eTLnjNn59PDacNN7TXHIjbrr7/ZcvKa9FkUcMpqcPJRTjy2hYW4xeGd2wlidT77jt/midkuNRwcnE4AdG/p4UL/WFvubSCU5TDyfwuTczzp/6bMgUn0w2oo39fUedQ/ZjR3Z3e9qPGgWjBySZo2n7fOnFOX1fxLAlxglMzdjjdBHVN/KtqNyQviKgDEZ1MRC8T0VwiWkJEnxPRM6XEg9AjnIjal5Z5h4gWEtF8InqdiI4nIoezpCBkg/7/Lq94tY4dg9cMN9wAPP10sm1E1UT12Gmn8ms5V2yiii7G6SKQ/oCbzs9+Bnz4ofpfZRN0rrkGOOcc4I9/9KfZHhhcd93yaSNH2vfZujXQs6d9XtT/xLDtCYIgCIIgCIqMqmQAzPwjM1/NzIMADABwBoAXACyGLybZ/hYBeB7K3bQRM2/CzNeJ0FQcTfXGvVqCU7t26jWLGk5eZ1yYg8g1Us/mcDI7im2CU1QHo96hmZXDCVA3nL/9bfk6ZjFh10i9445TGey//jVwwQXqJta82a0kUs9sU1Y1nJI6nMI648PWydrhpHfOL1uWj+AEuAs1Ovr+Fy+OdnbkUcPJHG/Vyv38Y0bqubz/JIKT9zu0CU5pazgldTjpgpP3hHjaSL2ozz7OoZOVw8k1Uu/ee9U2WrYEbrklOC+PSL1KHU55EBep14wdTjcAmAjgV0T06yq3JXOIaBiADwH8HcCWADpA3Q+sBWAogDMB9ApZtyeAt0vLbAh1L9EawGAAFwD4HxGlCOcShOTookzUObkSiILXGAAwaZL7+j/9BBx0UPQyO+4I/OMfQcEpicPJJk798IPa9/33+1GADQ3qOj+Mvn3V/02bS+mww4DTTvPvswC74HTSSX79zscfB2bMAO65R9VcMrnpJjUvCXvtFV6HShAEQRAEQVA4dAMmh5nfBfAugHOIqAWA3lAOqNWhbgqXAPgGqj7TJ8yccaCZ4Erpxv1Z+Df2i+DfuA8GcAARbc/MDs/G1RZJIvWyxOtYrQWHk9cGvZN62TL7cvoNnOcAKdrh5LH22uXrpI3Ua91aPRUZRVGCU541nAB1bJsCSdh3ExaXZh4rrg6nqPVcRBKznba6U2HbIrI/XTt6dHlbbR0oWdRw6tPHH44TNFu2dBdpXSP1Ghr8znnv2HKpTed11uhPP3t1FFwi9Zgrj9RL4nCK+9yiBCfT2WaSVQ0n10i9wYNVJ9yKFcEYI7PdQHaRema8pE61BSdxOPkw8xIi2hXAowBuIaJtAFzFzFOr3LSKIaKtATwCVaf1PgB/AzCRmZmI2kIlI+wBoKwLm4gaATwEdc06C8BvmPnJ0r3GKADXAhgE4BY0YXeYUDvoD2vExaxVgnmNo19DxnHDDfHLPPKI+h8xY4Y/zVVwuuoq4Oij7fPmzwf23tsfX748/pqwRQt17d6mTbwzeZ99fPFt++3Va/fuwMyZ6v+vXhdqzBjgoYeABx9U488+CwwZoq4hZ86MFsJ0hg1zW04QBEEQBKE5k5nDKQxmXsHM05j5KWa+m5lvKb0+xczTRWyqHpYb9x2YeWUAbQHsC2AB/Bv3uiPsyfZKHU5/+Uv0fE+4ibqhinMumcslEZxsndM2IcHsOLc9+V50DSePXr3K17EJTrbPOM33amt/VBZ/lPMjqxpOtu3ECU5hrgaTqEi9PASnvB1OZv2qkSOBu+8GLrusfP9xglPaGk4bbwwcfzyw2WbAqacG17E5nNIKTvo+b75ZHTtDhgD77utPLzJSzxSvgaBo5xKpp8d8esuldThFHUdxtfqiHE7Ll2fvcGpoUM5NU2wy220bB5JH6jU2Bj8/83urtuAkDqcgzDwHwDZQUdNHAXiXiL4nok+J6OOYP8eKLcVSEpRughKbLmfmkcz8BrPqTmfmRcz8OjOPZeZPLJs4GMBGpeGRzPxkab0VzHwngN+V5u1CRNvn+24EoRiHEwD87nfB8dNPdz8/vvxycFyvreTh/W/Qr6c+/xw48kh1PRUGc7jYBADz5qWvk7v66vHL/PGPwIgRKiZbf7hs5ZWDYpPHnXcCjz0GzJ0LbLedfz3TvTswapRbu/r1i19GajgJgiAIgtDcyV1wEmqaJn3jrncG2gSnpA6n994D3n4bOOWU6OWq6XAyO0X1NpixeqYwZXvSPExwMpdP43DSb0DzdDi5kIXDyfsMqu1wCmuXSZjgZEamhXWYxwlO+rHj8ltzcXSY+/EwBad+/dQTtTbxwiY46W01HU7mU8RR8XYXXAC89hqw9dbB6eZ7SSo4he3zwANVIe5nnw0er2ki9ZI4nOIi9XRcHE46ntCbtoZTXJxhFFGCk+cM1bfr4nCKEu3DXHze9nVs34V53OukidRzccRlxaBB6ilzcTiFQ0QDoaLjNvEmAWgHoAfUg0Jxf7XIQVCpB7Oh6rom5eDS6zPM/Ipl/h0APKHqNym2LwjOrFgRvGaIOidXygknlF8rvvoq8Nxzqr7lkUeGCxvmufXss8tjqj3MOlT//Cew337A7Nn25T/8MLrdTz0VHB8/Pnp5nbDaSjorraTiaZ9/vrwWYtjyO+1kryN1663qOi6Ovn3jlxEEQRAEQWjuiODUvGnSN+5Z13Bq3x7YaKPoTkLAvyHMQnDy5rsKTnrHdENDsK16B+SSJZU5nMyb3rwj9Vq2LH9y1LWGkwtFCU5JHE5pBKcsHE5A8HMNi22JEpyWLi3W4WTG2JjuNFeH0zvvANMNX4BrDacozO8gy0i9tm3V96kfQ1nVcEobqaeTVHCKitQzHTo2zDZXIjjpx9GyZdk6nEynmInL78H29LZHmPisfx7mebgocadPH+DNN4HddhPBKYxS3PHTUOKMV/N0GZRQM8Ph77PiW+2Edy15NzMnCAX7f3eUJ+c/Zlum5JT6T2n0l6laKAiOLFzon0PbtcsvqhtQ13dffx2c9vnnwPDh6oG4f/4TeP314PypU1VU3hKjKnK7duGCU2Nj+fXv8uXARx/Zl588ObrdDzwQHD/hhOjldS691D6cFy1bKqd6jx7hywwa5CaECYIgCIIgNHdEcGqmNIcbd71jTe80Tys4uXYQex3CUTeeXkdj1g4n/abS7JiOcziZHZHecjZMgSTrSD2zOHLLluUdqI2N0cJPEmzr5O1w0r+rrCL1XB1OROEOEiB47ITl59dypF6U4GQrbP3TT8DVVwMDBgTrFwDqe9KP1bBIvSgqdTi5iFxpBSevk193OHmCU1R0pIctUk/HJVJPx/vu0kbqZelwylNwqiQa0KOxUbnbxowpjzSyRep5DyGEiTxFiTv6b1g/liRSL8CpADxJ8XEAWwFoy8zdmHltl7/qNd0OEXn1QQFgIhH1IKJriGgmES0lojlE9BARhdVeWh/+fcu7Ebvy5nUhIodQLkFIR1H1mzzatlXne4+pU4PnzXfe8YfvuAPYYANg111VjJzO0qXl19k6NqeWKXZ5zJ0b3eYnnvCHDz00Oq7aZPBg4OmngdtuUw6uotBrcgLAv/+troWffFI5ylyu3yRSTxAEQRCE5o4ITs2XJn/jHtahlzZSz7Xj0utMy7uGk9dxGCY4me/PFJxq2eFkji9aVP551mOkXpTDadw4f/ycc7JzOIWtE+ZeMddxdTjpx1cawcl8v2HujzQOJ33bYQ6n444Lb5v+GaQRnMz30tiYTaSeTpYOp6hIPdOZk3WkXpTDqdIaTnEsX56N4KRvI0xwimuXa8TkdtsB114LDB0anB51LtDbXQ3BSd+/OJxC2R4AA3iJmXdm5v8xc73Lb70AeGfN3lDXl4cB6Azgh9LrrgAeJqJricr+C3TThr+I2I8+r1voUoLgyL33AsceC3z8cXC6Xhspz/pNOrr7xnT9eNc3f/+7isELY801gZ139se7dw/OTyI4zZtXPm37kBB2U8hxYdgw9V6i7qmyxkxZ6NVLXWNtv3155KAgCIIgCIJgJ0fzv1DjpL1x/yaf5mRPWMek1xGXVCRJKji5ROrFESU4edPCIvXMmzMzUk8XfCoVnLJ2OAGq49lWe8sj70i9qKcwo76PtDWcTjhBzScCjjnGLoDE3XAncTjlGalnCk4uHQVFOZzGji1f/6efgseayeLFvhDiIv7EYToTo8jb4VRrkXpxNZySCjVJHU76Z51WcPr6a9VBOWxY+DnU9WED1+XNc3LUuUD/TLbYAjjzTGDPPYur4aT/buIEp2bscFqr9HpzVVuRLXoI5FgA3wEYBeDfzLyMiHoAuKA0bQyAqQAu0tbRu3ojztiBeU7dw0Q00WGx9Vy2JTQtZs5UNSEBFSv3mJYJcffd/nD//sW0p0sXf1h3JgPAF6U7tssuC1+/Rw9Vw2j4cOChh4ApU4Cbbgou07Fj+XqvvgqMHl0+XReiDjwQGDlS1TjacMPyZdMITtWgV6/guK2urFDfTJ+urnVtx7ogCIIgCNkgDqfmS+Y37kQ0Me4PBd6wxzmc8hKcXBxUeQlOWUXqxQlO5tPzWTucgPKnRYt2ONkiqTzycDi1baucTWefrTq600Tq1UoNp2XLgu81jcMpL8HJxrJlwDrrhM/3YgWXL/eP2xYt0sU3AskFpzwdTt57skXqhQlOeUbqeculjdTLsoaT3uYkgtP//qc6KHfcsbx2hmu7XH8PHuYxH3Uu0Ns9eTKw115quBqReuJwCsULqvoucqmcIaJDiIgr+NtJ21wLY3g0M9/DzMsAgJk/A7AvgLdKy5xKRPJgnFBVHnzQH/7Pf4Lz9LpG++9fTHt0wcnkiy+Ae+4BZs0KX2bKFHXebdVKxdXNmqUejtCxOZSuvdbuENcFp1/+Uj28YAo2HvUiOO2zj7qmIgIuuSSdq0ki9WqXa69Vx2LfvsCcOdVujSAIgiA0XURwEposWUfq5VHDyXWfaRxO5v5Nh5NLpF5eNZyY4x1OvXsHx10dTmlEAJubIOr7q7SGk9mx7VqLKqsaTkC04JQmUq+aNZziIvXi9v/TT+WRMjqe4JQmTs9GJQ6nPCL1Fi3yl11pJX9bLjWcso7Ui3M41UMNJ4833rDHDQH5O5yiBKewz6QWBadm7HB6vfS6blVbkS0LtOGPmPkBcwFmXgHlcgKAjgA2DVk/SsLW5y0IXSq4303j/gC877ItoWlhigX6+MyZ/vAWWxTTns03Dz+H33UXMGpU+LqtW5c//GG7/j7mGKBz5/Lpr71WPk3/H+e5RVZe2f4/f4MNwttWS6y7rhLvZs0C/vCHardGSMry5cBTTwHvW87YixcDhx+uhr/9VtXlEgRBEAQhH0Rwar5kfuNeazfs1XI4JanhFId3I1hrDqe8azgBwBVX+O//X/8qfz+Njdk5nMz2R7mbvH2HbcPF4WSKMbYb/qxqOFXqcArrhI4SnJYuLbaGk+lwMjtUXASnqM52m+BUST2BoiL1XCLSVqwIuptW00KvqlnDqRYcTlGCU5wo7WFGHoW10ySpw8lFcPLaW23BKayGk23/zdjhdBUAAnAIEVUgb1fM7QDWqODvKW1bekRz1LXgFG24pzb8pTa8FsLR530ZupQgOLDAuPOZP1+9LlzoR9G2bAmssUYx7VlzTeD3v7fP0x/kshF2vWnSuTPwySfAP/4RnP7xx8Ds2cH/hbrDqVMnf9h0SW21lf3/Uq2y+urqsxbqjyuvVJGRG26oovN0Jk8Ojpu/b0EQBEEQskMEp+ZLk79xr7bgVGmknt6xm4fg5OJwylNwinM4DRyoHAKPPw4cckixNZziboordTi5iDFZOZxs64QJTt40FzGlnhxOn30WvW9T1DHxBJxqOZzyjtSz1W8CmkYNJ1c3KaDeSxY1nHTCHE5JhbO8IvU8zPeeBL2IvQvicIqHmZ8CcD6AdQDcRURVKVXPzEuYeV4Ff8u0bX2D6JqhHvqvVveXTAXgXTlYKsT8P9682aV9CkJqzHi6Sy8Fjj4aeOEFf1r37umuPdNy/vnp1vvhB/dl27YFDj00OO13vwO6dlVuLu8afsYMf74e9zdhAnDuuWq4b1/1EJkgFIHnSlu+HDj55OC8adOC42FJHoIgCIIgVI4ITs2XJn/jXsuRei7b0pfJI1LPdDjZOv5cBaekN9ouDicA2GQTlQnfooV7DacsIvXiBKeo7yONw8lGmhpOeUTqhZFEcHIRsFw72G21k+JqONliNXRcHU4uTiMXai1STxec4hxOaWs4RUUW6ngOJ9dzXtgycdPC0M+heQpOtRapt2QJ8Pbb0fsIY/31ky0fJjiJw8mHiIYAeATAPQB2B/AhEZ1HRCOJaCgRDYn7q+47COW/pdeoo0YP3vrEG2DmRQBeKo3uBAtERAB2NPYlCKkxBaezzgKuugrYZRd/Ws+eKJSWLYHDDote5sQTgV/8orL9tGoFXHNN+fQ33gBefVW5RzyHU5s2wf/zHTsCJ52krvU//BAYNKiyttQbUsOpOpiOpXvvBT791B/X664BKlJaEARBEIR8EMGpmdIcbtxr2eHk8tR9GsGpKIeT2ZmZh8PJxOZwyipSz1wnr0i9vB1OeUTqhWG2Rf9+0jickkSIme2LE5zMp3RNzPY++qgSOj2yruHU2OguKFQSqecqOOmxb7rDKezYSROpZ9ZkCyMuUi+sXR5Rx7ULRTmcso7UM3/7SR1Ov/iFKqSdhoYGFT/kijicnHgWwDMARkK5fNYEcDyAu6Bi6p6J+Xu68Ba7cX3ptQ8R7WnOJKIWAE4ojX4B4E1jkRtLr8OI6OeW7Y8C4J1tbqqwrYIQGouqM2BA/u0w6d8/fN5jjwHnnVceCRd3LWTDjMbzeP99oE8ff7xfv2JdXoJg4+OPy6dddpk/bEbsJXH9CYIgCIKQjEIvDYnIMVRHKIgmfeMe1snodXblJTh166Zeq+Fw0gWnpA4nfR+eGBQWNVCUw0nH5nCqxUi9qOPE+8z1TtQkglOcEGSKEaY4oJO14GQ6nPTjK8tIPdv22hthU6bgdNxxwJAhwKabwoop6vToEdxGETWczLpTetuaQqRe9+5u59C4SL2weeYycdNc0D/TZcuCIrmr4KTXt0jSpqQOJ9v5MWyftnmvvBK9/SgaGoDnngPWigrn1UgiODVXh1MJ0v7McZe/moOZX4BybQHAdSXHViMAEFEPqJpRXvf9acxsVqW5EcA7UO/vXiLavrRuCyIaBcCTTR8rxRIKQkW41HgZODD/dpgcfjiw7rrq/9CttwJvvgnsuCMwfrx6Bcqvhf7+9+T76d0buO++8unHHx8cX2+95NsWhKz56qvyafq12+zZwXkiOAmCIAhCfiQMFauY+UQ0HcBbACZ7r8zskukuZM+NAP4AYCOoG/eDmfmp0hOmI1HnN+7ViNTr2hU45hg1HNUhXUSkXpzDyZxXazWcTFwdTmk6l811aqGGU5pIvSTOsyIj9dI4nKKOCfO4NI91s5Olf3/VIf7jj+XzgPJIvZYt4wWnrCP12rZVRchtbSvS4ZRXpF5joxLyPvkkfFkgH4dTWhHadO2ZDieXc43+EECSNiV1OLVrF70+4H+mSf/3xdHQoIpzz5ypYvk23jh6eX3/EqkXyrhqNyBHDgHQGcAQKPFpCREtAqCdfTCOmW80V2Tmn4hodygXVy8AT5bWbQHAOwtOAnBAbq0XmhXffx+/zNpr598OkzZtgClTgPnzfYfpf/4TXMb8v7HGGun2tfvu5dNM59fPbY8tNmMkUq86zJ1bPk0/7r8wepwkUk8QBEEQ8qNowWkJgL6lv5HeRCL6Gkp88oSoyQCmMnPzDVMpgKZ+4x7WGeh1dqV96t3GUUepp/26dvU7qqvtcCpScCrC4WR2tDc2qjYTJd+WSVGReklqOKWJ1LN9RjbCIvW8aS7uHXMZfXzp0uSCUxJHh3n8mp+VTVQCwr9XU3BqbLQLTlnVcLJF6hXpcGps9OeZNZxcHE5pIvUA1SkXJzjVisOpsbFcRE3jcAoj6xpObdsC48YBl18OnHZatKCc5f8+fXtEyc8dEqlnh5mbrODEzD8Q0TAAhwI4CKpWaHuoCL0XAFzOzC9HrP8pEQ2Ait4bAWBtAMsAvAflkLqcmaUUvJAJLg4n/UGNIomLM80q4q6hQQlKr74avswee2SzL0GoBJvg5F0TP/008MEHwXnicBIEQRCE/Cg6bbkdVKHg/QCcB1UXaA6ATgC2B3AclOvmLQALiWgiEf2LiI4hom0LbmuzgJk/hYovGQ/gXahaAcsATIS6md+CmR0SzGuPuI78sE63X/0KGDMGOOII9301NKjYCb2TOssaTrabRm/7YQ6nSiL1atHhFBYZZb5ko0umAAAgAElEQVTPIiL1ojq1zfasrAWJVlrDKa4z19XhlEcNp0odTkk62E2B0VVwAoDf/KZ8mukiamwMHuNFOZxsLF9e/lu1kURw0rexfHkyh5N57LhG6gFudZy8zyGt4FRpDScPm+CUpoZTGFlH6gHAGWeoOJk//jH955cGfXsun0mY4CQOp+YDM69g5uuYeTtm7sjMrZi5OzPvFyU2aesvYOYzmXkjZm7HzB2YeTAzXyhik5AlusNJrwWjUy3BKY6ttvKHzejhpFx0Ufi8G2+sjstLaJ4sXaqEI5tzzCY4eekBthpmIjgJgiAIQn4UKjix4gNmvpOZT2HmnZm5G1Qx5J0A/BnAnQDeh3JfDYKK3rgEyoUj5EBTvXGPcziFdYwddJAqnt63r/u+ogQh1+WjlsnD4WR2ntsEp7AaTkmi22xk4XAKE0fSdKZmWcPJnKd3sidxONmmrxxTBS/sM7JRZKSei4CVNELMo1Wr8pvOqP1ddBHw5z8HO4hs7a2VGk76/oFsIvX0tkc5nGzHT9pIPcCtQyrKIWo750XtL2paHHkLTllH6nl4302lv+8kxP2vMtE/V/1YEoeTIAi1xIoVwajbo44C/vSn8uVqVXA68EBgt92Anj2Bhx+ubFtbbaUctCYdOtgf5GnuSKRePixdCmyxhaoZ9uc/l8+3CU6eS3HGjPJ5IjgJgiAIQn4U7XCywsxzmfm/zHweM+/PzP2h4jUOBzADNVwAWahd0kbqubhtTHr2LJ9WaQ0nvX1pBKciHU5pIvVq2eGUJlIvTMjUO9krdTjFCU7VdDiZ9W5Mx1AcaRwdgHrP5nEadTx17Aj87W+q4LZHXKSeJ+BUw+EEBDPmkzicwn6/UYJT0hpOSSP14mguDqesI/VMoiI5i3Q42Y7rsBpONnFJHE6CIFSLH37wxYKVV1bnOlNcatGivIZerdDQADz4oIqyHTKk8u3ZhLVOnSrfriC48sADwKRJavi888rnv/hi+bSFC8MfoJQaToIgCIKQHzUhOHkQUQsiGkZEl0BlsV8NVVuIAbxRzbYJ9UelglOcCHLbbWpbffuqpx7D9mMjL4eT/qSWGSuWxuFUVKRe0s8D8DsBqhGpV4TDKY3glJXDqRqRemZbXYXfVq3CbySj0Ntri9TLs4aTTXCKigHUHU5ZROrpbTcj9eJqOBElE5z0bSRxOGVZwynNOaHakXppfw9R28/L4RQlONnOWVLDyYeIujal/QhCU0KP0+vQQb3q/yO98axqJeVFmgfpbAwdWj5tjTWy2bYguPDkk+Hz3n0XmDKlfPqCBcCHH9rXEYeTIAiCIORH1S+RiagdEY0iolsAzAXwJIBjAXQF8BiAIwB0Z+afV7GZQh2SNlLP9cZsv/2AWbOAqVPtAkU1BCfdqbDKKsHlTcGp2g6npJF6tm0A5R3wabZlfr5pHE5hnblpHU626XFP0ZrHYdQxHuZeiVovattF1nDSad06neCkt8l0OLlE6hXpcJo3zx82f9celUTqzZ/vj8cJTi1aBKevWJFPDaeo31g1HE4//RR8n97nkLYjL2+HU9TnEPd5nHJKsn0ldTglEZyagcNpOhFdTERd8tg4EXUhossATMtj+4LQlPGiuAC/BpLp8qnVOL08WGst4M47g9NWX706bRGaJ6+8EhzXrxvuvtsf7tzZH541C9hzT39cv+745pts2ycIgiAIgk9VBCciWouIjiSix6BEpjsA7A/gJwA3AhgBoBMz78rM1zDzrGq0U6hviojU69Qpfj9p9+EqOOnb0p0K3tOYHmakntl5buv4c4nkAtRNqE6cwMCcPFLPxFvf3FcRNZySuAd0wcnmcAprb54Opzwi9fR1li4tTnBq1SraHRRGlOAU5nDKs4ZT1Hf75Zf+sH4TraMfsz/+GO08MgUnPYpTF65cajglidRzeRI6D4dTmnNCy5bxDicgvVsorxpOYevr06I+j623Bv7612T70ttWieBkO46ausMJwEpQD1lNJ6IriCiTh6uIaAsi+geA6QCOLu1HEIQETJ3qD3vRcabDqbkJLvvsA5x8sj++007Va0stIzWcsmf2bOVi0tFdiO+84w/vt58/PGkSMH26Pz5+vD88Y0bwflQQBEEQhOwoVHAiotOJ6HUAnwG4EsCOAD4BcD6AbQB0YeZDmfkBZpZUXaEi0gpOWUVjVFrDqVKHkyk4JXE4eRffYc4Rsz1DhwKnnw4cfDDw3HPArbfa19O3X6nDyeuIzMLhlGeknik4mR301ajhBBQbqeeyvbQd7K1aAcOGAf37q/HTT3dbT2+/reZUnpF6jY3JIvX0m+GwegkNDf7nzFz+HeiYkXphzq2sazgRKUEDCHdquTicoo6NrAQnl0i9sHa6ENcmU4TPIlIvzt0LpBNSpYZTRYyAuiZuA+BIAC8T0YdEdBYRbUdEMWd9RSktYGhpvQ8BvARVB7UNgE9L+xEEIQGPPeYPe3FypqOpX7/CmlMz/O1vwGuvqXo5xxxT7dYIzYUnniifpt/36m4l757AxtChwWudww6ruGmCIAiCIFjIOMk/lnFQ9ZjeB3AdgIeYWWI+hFyoNFKv0szzqE7RaghOpsNJH09aw8lsf0ND8Imx+++3r+dh1nBy/ay7dFFPuAGqdhaQTw2nSiL1zG2ttZZa3us4tblpXPdRlMMpi0g9/TtN43ByPSZat1brvvkm8PHHwHrrua2nt2np0uDx2NBQW5F6HqutFi0IrLSS/5v98Ud3h5MpPnuE1XDSpzO7R+oBqvbdDTcAv/wlMHx4MD+/RQv/c03r0ImKikxC3oJTXJsaG4ENN1RP8268cTbbd/n8KhWczG1LDadomPmBktv/aAAnA1gDQB8Ap5f+VhDRVAAfAPim9LcAQAcAq5f++gFYD/5DZN7Z8ysAfwfwD2bWfIyCILgwTbtD3XZb9br++sFlunUrrj21AhGw2WbVboXQ3Hj++fJp+n3v11/7w5tuqmIw9VhMj402Cl73TpgA/Otf2bVTEARBEARF0YKTx3oATgKwIxFNAvAWgMkAPmAW47mQDUVE6qUlL8FJr8USV8PJ7DxPIjjFPZ0f12mZ1uH05JPANdeoLG6vI9PcVxGRelGCEwD86lfAI48Av/iFLxJ4nf+ucXN5OpzyiNTTj69ly6JjtmxU4nDyXl3FJiD4HvVIucZG9fkUHannIjiFxel5rLSSf3MdJTjp30elDqcVK9wdTgDQowdwxhn27bdp42+72pF6NsHJFCW95dIQd3wTqXPIgw8Ce+yRfPtE6k8/z7q0uQiHU5JIvWbgcEJJDLqIiK4CcDBU7dKBpdkNAPqX/qLQr1wmA7gKwM0iNAlCeubM8YfXXFO9rr66clU/84wal0g5wYZE6mWP/nv0CHM4deoEDB7s/051zAcyBUEQBEHIh6IFp4ugbqIHAlgTwC9Lf96l2GIiehe+ADUZwFsSryekoZYFpyxrOOURqZeH4NS6td+xf801wXmun3n//sCllwanZeFwMt9PpYLT/feruJHBg9V4q1bBWDb9qf0kglO7dtHtMl03UR3LUU6QLCL1ojqhXdrj+j3GfVdh6G3yvht9ei06nFwEJ48JE4ApU+zL6W2PcjjZfpem4BTnQEkiDumfQdRvLG1UZBJMwemnn4qN1AOUOPf736fbPlAuOHmfTdS+0xzXUeJy69bl7UjicGoOgpMHM/8I4GoAVxPRhgD2BLADgE0BRJ0hfgAwEcATAB5g5vfybqsgNFWmTFHnXbOjWq9B+M9/An/6k3JKeFF7giDki+5g8vDue5mD8zt2BHr3Lv8dX365ej3pJOC88/zpZvKHIAiCIAiVU6jgxMwneMNE1A3AxtrfQADrANi89Od1TzARTQcwiZn3LbK9Qn2TNlLP6wDLU3jSO9mGDgWefTZ6mTwi9Yp2OHXsCHz5pX35SupmVSNSL85F0bKlX6vGG/eoBYcTkH+knt7BnKfglFb4CROcvPehHwM//qhes6rhVITgdMop4cuZkXpRQlpDQ1AIaNEi2Pawc4S+vus8XeSrBYcTUfD96064vB1OWRD2VHWUSJh1pF5Dgzoubb8xIN7h1NQj9cJg5ncBvAvgHCJqAaA3gJ5QEXqtASyBitf7FMAnzCxlz4W65quvVA3GtdZSr0U8/GXjlFPsrghdcFp3XeVAFQShOHQHk8eIEcCiRep6x7tGa9VKXVOvvnpw2RYtgKOPVsOnnRYUnObNU+ceQRAEQRCyo1DBiYg2ZeaJAMDMXwL4EsCj2vyVAQyAL0BtDGBDAH2hMu1FcBKcCetkjOu0LDpS78YbgYsuAm69VV3w2paJKgAf1nGZhcNJ74jWyVpwquQzr8VIPRMzbi5NDSeieCEsqxpOWTicopa1UWmkXlL0NnmCkj5d//14dcPqyeEUhf5dLV8e7nACVDv1Tn8vqs0j7BzhkUT0zMvhlLaGE6A+D+/968eJS1uiKEJwCkMXf0wqFZzMczlzueCkf7ficIqnJCZNK/0JQpPkvPN893v//sDIkdVpx4MP2qeL+0FIgkTqZY9NcAKU43Dvvf3xjh3V528KTp06+d9Lhw5+nUxACd4iOAmCIAhCthTd5fE6Eb1ERPsSUVl3EjP/wMyvMPM/mPkIZt4CQHsAGwDYv+C2CnVOLUfq6Z1sPXoAl1wCHHBA+DKuDiedWnM49esXvnytOZyyFpyycDitvHL8sVmpw8lrZxrByawLpLtBXLZntifqvY4Y4Q+PGRO/bRtxkXrrreeLStOnA3Pn1kcNJxfMSL0oIc3mPNO/mzhBIA+HU9RvPEuHE1DuBjO3mfb/RVqhKglhnVyLIkKKKxWcTFasKD8vJYnUa64OJ0Foblx4oT983HHBeXEPNgiC0LRhDhecXnzRfzAM8N2IpuDUtWtwXHctzp1beRuFeB57DNh4Y+Cssyrf1vz56mHdGTMq35YgCIKQD0ULTp8D2BLArQA+I6IziGjNqBVY8T4z31lIC4UmQ9pIvWrVcIpyeKTpfF1lleB4nMPJ3I5Z20X/vDbf3L5PfXsmv/41cOSR9uWzdDgVEalnc7dk7XCyCU5xVOpwivptmNuyObD0aXpnt0vnehKH0+WXA6NHA2efHRSfkqAfN7pzxZveujWw6ab+9P/9r2k6nJYt84UUL0JOxyY4ZRWpF/UZpI3Uy7KGExAuwFQqGFXT4RQlOFVaw8nEczjpJInUE4eTIDRd5s9XEVfjxwen653H++6rHqC66qr82xMmcO+1V/77FgQhnAULwq8H7rsveF/ao4d6NQWnnXcOjuuCk60+lJA9u+wCvPUWMG6c+p4uuyz9tg49FDjwQGDbbeWhBEEQhFql6C6PXgBGAngGQBcAZwKYQUS3ENEWBbdFaOLERZXFOZyKquHkkbXgFOVwWrrU3nluPm2udyY/95wSjW64wb+YD8PWSdu1q+owGDSofF6WDqc0HcHmOnEOJ9v8rB1O5vR27aLbZGtXlKia1OFkCiK2bds6q02BIowkNZy6dQOuuw4YOzb97zQuUg8AttrKH3755exqODU21o7gpL93FyE1y0i9KIdT2ki9PB1Otm2mjcppqpF6JszRDif9WBKHkyA0L444Ql0XnnlmcPrSpcol/dZbwJ13quGjjwb69lWdy3kxZ459+sUX57dPoWlSrRpk9ca776oEjCFDgB9+CF8uiSD0s5+pV1Nw2mOP4Lj+YOb8+e7bF7Jh5kzgD38APvss3fre/4KZM4GJE7NrlyAIgpAdhXZ5MPMKZr6fmYcDWB/AVQB+hIrLe4mIXiOig4iogq48QVCkdTgV0RHoUmekUsGpffvguN6ZbEbqeR2AZqyevszmmwN33AEcfLB9fzq2TsvVVgufV2sOpzjBydaxX08OJyAfwcm2nkv9JiB9Dae0xEXqAcCWW/rDr7zSNB1OcYJTXKRenOASdQyanQFxkXpxDwt47UvShjDiBCdvP2kFpyIi9cIoMlLP5nCSGk6CIHzzjbqmDOODD4BZs4LTpk3Lt7bTY4+VTzv2WKBnz/z2KTR9pIZTOPvuC3z4IfDCC8FYTY9Zs5SLRY+d798/epurrqpezetqPbUAEMGpaG6/3T596tTk29IjroHgvYwgCIJQO1TtGVtm/oCZjwGwFoCjAUwFMBjADQBmEtHZRCTlG4XU1EsNJ48sHU5t25Z39EdF6nnz9P389JO9ZokLtk5Lr3PZJkDUWg2nuI77LB1OYeulEZxcazjFOZxs31HeglOSGk5ZECY46e9BF5xeey349GXSjvnjj1evDQ3AMcfEC0627echOMXV2ooTnOKI+l0ce2xwXG9Llg6nNOeErAUnXUxL26asiHI4pRFSkwpOUsNJEIQnn4ye/9574eK4TYjOIlLp3nvLp+mxW4IgZMt77/nDZ54JnHRS8P/+SSepOj2vvOJPW3994KKLwrfpJWlssgmwVqknafTo8us5EZyKZf+QauxpBFnz+/r22+TbEARBEPKnil0eCmb+gZn/wcwbAvgFgPsArAbgNACfENGdRLRtVRsp1CXNWXAy6zcBbpF6+n7Mjugkn0uRDqc8BKesI/VMd1maSL1qO5zMTuOo9eOmubSnSIdTWKRet27+k82LFwcjG5J2zJ91FnD11aq4cbdu8YLTDjuUb6NWHE5JvpuoY/C3vwX22ccf32ij6PXiXJ1x6yUh6reQZnsDBgTHa7WGUxqHU9R7WbEiOlJPajgJQvPkueei50+aBMyda583c6Y/vGIFsPvu6hrpggsqa9OUKcHxVVcFjjqqsm0KguDO+ecD//63P37LLeXL9OgBbL21ff1ddgF2200Nt2oFTJ4M/Oc/wBVXlC8rglNtECUWMQPvv19eL/abb4LjYf8rBEEQhOpSdcFJh5mfZeZRULWezgYwD8DeAJ4loknVbJtQf4R1CnodXFH1bYBgR2jWBYNtAovZaae3P0qgss0z6zcB5aKHfvFmi9TTO6KTdkKay7dt63c6Zu1wMveVpjO4SIfTdtsBp53mj2cZqVepwynK1eEisNRTpJ7e1rBIPQDYcEN/+OOP/eGkglO7dsDhhwNblKoVxglOw4aVb8OLCQnDVXDS2x73O7c5z7JyOBEBN92knmA96CDfBRa2novDqYhIPX17rk9muv42iyBKxCkiUs/V4dS7d3y9QEEQ6pPPP4+ef/75wKuv2ufp/4tfew146CF1XjvxROVkSPPE/JdfAjNmqOGGBuW8mDGjPPpVEFxIEj0sBLnmmuj5PXoo91KfPsHpb74JPPJI8JqjUydgxx3t18ciOBVHlAPVFI90jjtOOdq22CL4OxLBSRAEoT5w7ArMHiJaCUAHAKuUXvXhVQAsBXAXgH0BdAYwwL4lQbATVgPEuwmIczh16QI884yy8Y8enW3b8nY42QSnpA6nsJgxF8zl9Rv2pupwihJWTHHiq6/i1zO/83btottk20+UqJo0Ui9vwalWHE7me9C/az1Sr5IaTkC84LT66uocNHt2+DomeTicbOelrAQnQH2+555bPj3LSL08BScX9tuvvBZJ0Q4n1+8sTHQ08/J18qjhtNVWwEsvRbdVEIT6Zd68+GWuv94+XS8yr0dtAcCECeoBhqFD3dvywAPBB8v69AE22MB9fUEQkhP28It3LWq6Wjx69lTXEZMmAW+8oQToXr38KD1XalFwYlYPX73yCnDppap+clMg6nx/6aXAmDHl99Y//QRccokafvNN5XRaf301LoKTIAhCfVCo4ERE0+GLS2H7LiDQTGgORBWdD5sPBDvAhg5NdtPqSjUEp0ocTkk7181OSy9OzzYPyNbhlGZb5uebdaRelGCXZaReEhdF0kg9l2PAtkytOpzCajhF1T6Lq3eUBPP92Wr8bLhhUHCKo1LBybWGU1aReknXS+twyrqGk6vDaZdd1HauvBIYNaryNlWCq+Bk+w2vumr0E6hxglOaSL0iom0FQagelXQQfvmlemVWLlmTqVOTXbtPmBAc9zo1BUHIj7Dr24ceAu6/P1xA6ttXvbZrV9l9ei0KTk89BVx8sRr+7W+DNa7qmajz/Ucfqfd88snBaz/zvesP/ZnXpPpDCEUwZw5w993ATjuVO+0EQRAEn6IdTmsDYABLADwCFZn3felvgTYcNk0QnIl70j0uUi9PXDpFs67hpHckLl0arOPhdVTnFamnO5yyjtQzt1dEpJ5tvmsNJ5MsI/VcazjFOZyqEalni27LE71dumgQJTi5THfFfL/mfpmBo4/2C6vvuWf8Nouo4ZRlpF7S9erN4fTww/5nFRWZWjT33QeMGGGfZ3u/HTpUJjilidQTwUkQmibMqqO5EsFp7Fj1/3HuXFWjxSTJgxpAsCYUAKyxRvq2CQIgkXoufPBB+LwRI4CXX7bPW2edbPav3yt/910226yUBx/0h82acvWMeb7v2jXo/D/lFOCqq4B77wU220xNe/vt4Dr6d2Rek370kXLiF/Ew17x5wMYbq/8zffoo51U1r+kFQRBqmaJrON0DYDmAlQBsAeALAOcz83hmvpiZ/8XMdzPz48z8CjO/y8yfMfN3zBwR6CII5aR1OBXR0WXbR1KHk/de0kbq6U9zeRfdeQlOcQ6nSj7zLBxOWUTqZe1wSiM4JfkskkbqdeuWfP9h23JpT5EOJx3zPYQJS5U6nMzv1xxfvhzYYw/1xN/w4cC4cfHbdBWckjgZbd9LEYJT2ki9oms4RaF/TkU7+KLasueewIsvAr/+dfly3vu98kp/2jXXRJ9/ot7LihXpHE5Ffz7VhIi6VLsNglAEzMAOO6jrCa/z0OW3ftppwI03BqddeaXvdDKZMydZuxYuDI6vt16y9QVBSE6coDJxYvm0jh3dr3Xj6NTJH37nHeCYY6Ljg/Pmq6+Ayy8PTrvpJuCTT9RnUc/CpX5OHjUK+O9/y5eZORM46yx/fMGC4Hy938IUnN57D2jfHjjssPw/pzvv9B9qmDYtGJMvCIIgBCn0lp6Z9wHQC8BfS/s+E8AMIrqJiAYX2Rah6VMLgtMzz6gnsTbaKDi9FiL19Au3VVct30+WNZzyjNSrlRpOWTuczOkuNZzMY1d3DJjYPqeoTvZevYBTT1VPpf3rX/Zt2tZzPXaK7pAPa5erwynuGIkjzuH000/q+/z734EnngAGOFQxdL0J1/cdJyzbvpciIvWiBKeo/RftcHK9sa224KRDBGy9tf8UqY53vI8ZA1x3nbqxHj7c/j/FQxxOFfMZET1IRHsRUdVqqwpCHjADr70GTJ+u3EhPPRWc37GjulZu2xbo3h1Ya63g/A03BM45B1hzzeD0d94J7+hL4nCaO1d1Gnq0agUceqj7+oIgpOP996PnH3NMcJwIuOKK7PbfuXNw/IorVJxfUTCrGp89egCPP67usUwOPhjo3RsYPFjdD9QrM2b4wz16qPP68OHlyz36qKrNBQQj9AC/32LaNOCMM8rXXbRIXbfahMqsYAauvjo4zaUeoSAIQnOl8C4PZv6SmccC6AHgYABvAzgQwKtE9DIR7UtEYkwVKqYWBKehQ9WF0R13BKfnHakXJzgtW+YLSg0N/tPrSTqiozA/w/bt/WFbR3Iln3k1IvVq1eFkElaQN02kXuvWwF/+AnzxRXhnTFNwOJnTw767SiP1zGPe5nBKSqWCUy05nHSR2txWLdVwcqXakXq27yxKIG7VChg9GthnH7VuloKT/hsLE5yak8MJKt76V1ApAF8S0cVENLDKbRKETPjDH4Cf/1xFD9lclb16qWvlr74CPv5YRSvp7LyzejXPQXfeGYzC69/fH07icBo/Pjj+7bf+Q1iCkJZm9tBEKnSH4qBB0b+7oUNVbbZ9981u/61bl+/zrruy234c//2v6h+YOVPVAgp7mM/jn/8spl158Prr/nCvXur14Yfty26yCXDPPcHof0AJTldc4dfwCuOFF1I3M5ZnnlEPO+h8/XV++xMEQah3qnZLz8xLmflmZt4cwJYAbgewCYBboZ72HEtEkqItpCZOcArrdM+jo8ulMz1vhxNReH0O78YoSdRWEnTBKWuHUxaReubnWwsOpywEpzDRIk5wsrXJe89RN9GVCE5FO0AqjdSr9DdhksSdFobrOvpnvWSJP+zy2yyqhpP5NLu+rVqq4VQvDqekgpOJfg43ifp800bqNbPOugUAqPTXEcCxAN4kojeJ6PdEtHrk2oJQo8yYEYyI+uij8mVuu029rryyOje0bRuc77l7N964fN3jj/eHN9zQH05SH8p0TJj7F4RKqecotDzRHYqXXKIcT2H3X6NGAf36Zd+Gjh2D41nF9bkQ5/Ay+eyzfNqRN59+CjzwgD/uCU6tW6vUDBujRpULTscdV+56s2EKQlly0knl0559Nr/9CYIg1Ds18QwpM7/KzAdCuZ7OKk0eDyU83UBEm1atcULdEic4hS2TR0eXrdPWJEvBSS+EqmPrJNeXTdIRnQQ9Di7rGk5ZROqZ+89acIp6f9UQnIB0Dqc4bMdXWodT3h3Org6nvASnuA6INIKTmXceRqUOpyIi9bpYqtrUWw0nnaIdfC4kEZyiHE5x7yUqUk//nTfjSL0uUI7/p0vjnvg0EMClUK6nu4hoFyKqgSNHENx45ZX4ZXr3Do6bgo/38EGbNsrVFMa66/rD33/v1j5BEKqH7kRcc03198EH9mWHDcunDeZ1r1kbKE+S3tfZHsSqB8z6e336+MNjx6prwp/9rHw9U3ByJckDB0n5/PPyaePGAfffn98+BUEQ6pmaunFl5q+Y+Wwo4WlfAK8D+A2A14joxao2Tqg7XASnrOPdXNtSjUg9wC4a6HECYQ6nSgWnuEi9ajuczM79uA5l2xNwUevMmhU+z1X4KNLhlFZwaoqRennVcIorTJxGcHLtZEvyO08SqdemTfS+klArDqe481Vah1PRkXo2bN932PFeRA0n3eFUC4JcUTDz4pLjfzhUndMzAUyHLzy1AjASwMqulmcAACAASURBVEMAZhLRX4lo3bDtCUKt8MYb0fPbtSv/rZvXOroDYdddyx0JHuuv7w/PnRusQxqF97Q9AGy+uds6giBUju5w8uop9ewJbGo8ZnzkkcHfd5ZsvXVwPEzwyoOw+4iwqLlvvqlPt9zjj/vDrVsD663njx91lKrVNHly+XppHxzIWnDy7tc++CA8rvX667PdpyAIQlOh0Ft6ImpHRN2IaD0i2pyIhpeKJB9MRMcQ0WlEdC6AywHsDuA7AF9B3XBvWWRbhfrH1jFaKw6nakTqAckcTvrNej05nNJ05C5blmz5pA4nvViq63rmdP0zdEXvwNVvqnbZxX7cRHWypxWcXI+doiPHwtplTs+rhlMeDqdNNnFbLonDyfa9FCE4tWtX3vEYdc6L2p84nOzfme13XkSkXlgNJ12EbWYOp/+HmWcy89nM3BfAEADXIxi51wXAyQCmEtFLRDSaiCK+HUGoHlEP2wD2h3dMh1OnTsF5r71m39a22wbPLd27u7kV9HUmTIhfXhBc0P+H1aNIkDeLF/uu/Fatgg8/XnhhcNlx4/JrxymnAL/8pT8+dSowfXp++9OxieKXXw786lfApZequlW77+7PW7YsveunWixfHowOnDq1fJmWLe11W2+6Kd0+sxScLr5YHZsjRgC/+U34ck8/HV43WRAEoTlT9DOk8wHMBPAegFcAPA5VJHkCgEsAnA3gRABHANgfwK4AOhfcRqEJYXaENXfBySYahAlOedVwqkWHU1LByaVjXmf27PB5RUXq3XSTEiSGDAHOPTe5w8nlGGhODqe8Bac0Iu/ee6vc8zjCBKdKazhlKTgB5S6ntJF6aY6lrAWneq/hVITDST9fNSeHUxjM/CIzj4YSmQ4B8Explic+bQHgGgCziOhGIsopdEgQ0hH3hLrtf4Y5TRecABXBd/jhwWlrraUEJv169ptvgFtuiW/jwoX+sK3TUxCE7Jk3zx/u1Cl4jdLZ6PlZI8eK3r17KwfOLrv4014sKFPHJh4NGqRejz0WeOYZ4N//DkZMf/ttMW2rhO+/B4YPV99bY2OwzbqwqEOkhDZXGhuB7bcH9tijfF6WgtNxxylh9P77wx92AJRL67vvstuvIAhCU6HoW/rFAGYBeB/Aq1CC010ArgVwAYDTAPwewEFQDqchUBn2vQBI0WQhMXGCU9bih2s78o7UC3saPYnDKctIvY02it5WtWs4JRWciMo/y6hOV/NpPZ2iIvV69wYmTgSee051qtRapJ75+TX1Gk62SL3TT1ev7dsDhx2WfJstWgB33RUfCZJEWE5Swylrwcms41RkpF7Ub0HfXr1E6lUqOEU5nKLOuTaHk0ukXnN1ONkoRe7dxMzbA1gbqtapHrnXFsCBAJ4koo+J6Awi6lm1BgtCifnzo+fb/meY51TT8QQAG24YHN9zT/Vqnov0Tu0wfvjBH05znSUIQnJ0ode8vlh/fWCvvdR10vnnF9MePSHgkEPiY6+zQD/3AOpz2Gqr8uVW13rA6kFwGjsWeOop+/k36uGla6912/6BB6r79iefBM44o3z+ggXBOtRpiXpg4sUX1THSvbs/zfw+BUEQBMCxKzAbmDlFKJQgpCeuk69aDifbPrJ0OIXdNNs6lPOq4fTYY6oDfeRIoG/f8G1V+nlXI1IPUJ2oS5e67XfvvZXL6fjjy+cV5XAyiRKcsozUqzeHk/keinQ4nXmmigXq3z+6gz8OWyeeTpJIvWrVcAKyczjlGannKjhVO1LPRq3VcNLPVyI42WHmzwCMBzCeiLYFcChUfSfv+roXVA2o0wFU+KiIIFRGnMPJJia5xAf37x8cP/JI9Wo+2R537mcOdnyL4CRkhUTqRRMn9N53n1qmqN+kWSPqhReA7bbLd5+mw+nbb+3XPrrzsh4Ep8svt09v1y76nNy1q3KaPfpo9Pa3394fHjQI6Nev/EG7efOU87USZs60T99mGz+mXv9/pf8vEQRBEBQ10OUhCPnRVCL1opa3zbPdxANBN5NtWpY1nHbaCXj9deDPfw5ON7+DSj/vLCL1dOHIFVOAibqIbtVK2fL1nHCPPAWnqDzpPBxOts7qtA6nWonUCzv2XT6PKGwdEA0NwA47AN26VbbttIKTS3xcrUfqFV3DKa3DqVYFp6xrONkEp7AaTvr5qhY+n1qHmV9g5t9CRe79FipBgKFcT/IJClUnTnA6+ujyaQMGALvuqs4BF1xgX2+zzfyn/nfaqVyA8oir4bR4sX8OX2kl9+sVQRDS8/33wIkn+uNh9zdFCsAbbxwc//DD/PepC04XXRR+LaVff3l1r1y54gpgzJjoWsJZEuVqtfVBmMQ9ADp4MLD//v44EXDnneo9urbDlV/8wj5dd9jqgpM4nARBEMqRS2uhSZMmUq9aglPcMg0NwSfAvbYncTjZOrL1C8AkHdFpyUIg0qlGpB6QTHDySCLImNNdnvo1Sepwiupkz9vhZP7u8nY4hB3T1YzUywpbIXadMMGk1hxOYZF6Ub/xWq3hZDufF0mlkXpR5584wck8rsIEJ3E4JYeIegD4TemvS8ziglAoYZ1+BxygHij47W/t8x96SHWshgnd7dsDL7+sXAgjR4bvP05w0p9IT3ONJQhCci68EHj2WX+8FpyFG2wQHP/qq/z3qQsUYQ+KAsHzYBIXzWuvAccco4a//lrVIcqbd98Nn+ciOJk1+zw++EBdL/7sZ+XXlAMHqji+t9/26yzFPewQx5Il4cfAfvv5w+JwEgRBiKbwJyCJqDsRVdhVJwhu1IrDyeXp9qTxf2kcTjZ7uUsNp0o713WyjtQzt5emIzeNw8ns1HfZbxJBxlX4iCKtwynLSL0sxcosCfu+XCP1Kn1feUasxAlOYQKM7T2FCeG2363tvFOLDieXNjU1h5Or4BR2vEd1hkS9F+bo+mxhgpM4nMIhorZEdBARPQXgYwDjAKwDv6bTQgDXV7GJggDmYBH1iy5SEVX//S9wyy2q0znqXBwXK9uvn3qqXY+bGjs2uEyc4PTWW/6wCE5ClshDE+GMHx8crwXBCQjW2y1CcNIdTlHXWGlFjRtv9IcfeMB9vUr49NPweVHRzB5nnGH/7XTtCvTpE30vqm9/l12Ae+6J318YU6fap+++OzBkiD8ugpMgCEI0hd7SE1EbABMBzCeiwca8fYhoDBENJqIKw4oEQZFGcMqjo6vSGk62+WGCU8uW4Z3hNsEprIaTXnAzS9EgC0dS1tuLEmbCSONwSio4nXmmEgT/9rd0N69JHE4NDf4+asHhlDctWkS7vDzCXGmVHrd5Ck6NjdGfe1jbXR1OgP37KsrhVGkNJ5djslKHk3lzXy81nMLO9VEdQnEOJ9fvSz8PS2ddOUQ0hIgmAJgN4AYAQ6Gu471P6zkAhwDowsxjLJuoKYioAxGdTEQvE9FcIlpCRJ8T0TNEdBYRrWpZ5xAiYoe/4dV4T4KPV1Td409/Uq6GHXbIb58nnqji+DziBKcrrvCH4x7UEIS0SA2naGpF7O3c2R+OEpymTQP22gs47bTgdztjBvDgg8H75yh0wSnqGittpF41jjv9IQMTl/astx4weXL5/YhLXVv9AdpvvwUOOki9prnHf/tt+/TzzguO69+bROoJgiCUU3SXxygAawC4mpnfMObtDOBqAK8CWEBE7xLRLUR0AhH1KbidQhOhKUXqhQlQ5vSoi9a0Dqc8I/VqoYZTLUbqAcBZZ6kOE7MOlitJBCf9c2wOghNgb5tLDacsHH95RuoB0XWcXN1dtmW978n2O7N12NWiwylLwcm8gX7uOeCJJ9RTkFFtqFWHU9i5Purp26jvY8UK9whEidQrh4h6EdGZRDQdwDMADgbQDr6b6TMAZwPow8zDmPkmZl4UvsXagIiGAfgQwN8BbAmgA4BFANaCEtLOBNArYhMrAMyJ+HPs8hPy4rLLit9nhw7BDsE4wUnvvO3XL582CUJz4+yzgb59gdtuc1u+VhxOroLT6NHqoaK//hX4z3/UtO+/BwYNAvbYAzj55Ph9MauYOI88HE7mfcby5cDHH7sLYmmIEpz0zzeKAQOAO+7wx/fc020900H144/AwQerz0+Pb50zR30OUcyebZ/esWNwXBxOgiAI0RQtOO0GdZP495D5BOC90vAGAPYHcC4kGkRIST1H6qV1OEVduMfVcNL3sXixP1xPNZyKitQzBRiXTuw0gkwln09awSnLSL16E5xcIvVcPos48n7yMOpp7SQOp7DaWkVE6tWjw2nIEGD48PLPJ02sX97kJTgdcog/fMwx7m47/SnUWnCAVYtSZN4hRPQMgGkAzoASXzyRaTGA2wDsAGBtZj6TmT+pVnuTQkRbA3gEwJoA7gOwGYCVmHk1ACsD2BzAXwBElf2eycxdIv5eyPt9CEGuvlpF5nkdsHPm+PPWWae4dqy+uj8cJzjp8884I5/2CEJzYu5c9VuaNk3VanO51q03wen55/1hL7btrruUmwYALr00fl9vvw1MmaKGGxtVHaIwTFFj/Hhgt9389cOYNy84fsIJ6ly80krA5Zfn48iJEpzGjXPfzu67A7//PTBiRNCJGoXtHuahh5TAdsMNwHvvqeOyRw/1OTzySPi29IcRGhrUdzRmTHmNKRGcBEEQonHsCsyMTQFMYuaQ5wbAzDyAiFpCCU4DAYwBsDURDWLmSUU1VGga1Irg5OJwykpwiuoYrAWHUy1G6tWqw6lSktRw0tuR1uFU9PurFBeBzPaesnA45S04Rf1mkwhOYdjOk3k7nLx2J3U4RR3rYUQJTvr2tt7av2mN6jCodqSe7fuyfQ5hx0BU9r75Xi64QN2Ed+qkIk28Is5x6zZ3h1PJ9XMwgBFQwgvgx+UBwGsAJgC4g5krLIldHYioLYCbALQBcDkzH6vPL7mzXi/9CXXCV18BRxyhhp9/Xv1/058gf+yx4tqi13T65ptol6UuOOlClSBUiv4/rDlF6n3xRXD8s8+Anj398Y8+Kl+nFgUnXTCPwvueTaHl+eeDtX5M3n/fH95hB1WjKAw9Tu4///Frzy1b5gv8Nszv4pJL/OFjj1Vx7S+8kO0DAWGC0xNPKAeYKw0NShRLQtwDBm+8oSIPvYdMd901/Lepi0fnnQccdZT9HkcXnCRSTxAEoZyiuwLXBGBG6ZXBzMsAvAXgLSKaBuBFqBtwEZyERNRqpJ5tH64Reua4ua2kkXphNZx0wSmLDnaP5hypV4kDKA21EKmXpViZNS6RevUqOEUdV0ki9cIIEzAaGrITDkzx3Mu7j/qNFx2p989/Attso8RdPQIkrg21IDgl+b2utx6w8cYqW9/EfG8dOwY7CnQhbpNNwtulHzfNyeFEROMA/AZAD2+SNnsOgJsBXM/MIWWs64qDAPSGqkN1UpXbImSEHg0FqOvHL79Uwy1aBDuc86ZVK9UJuHChEpsWLAg+WKXjORIAEZwEIQtMZ9DEif7v/957gb33Ll8nKgK6SNZYwx+eN09dk8Td23nX8mZSxnbbAdOnA71729f79FN/OC7OUxc1PLEJAB5/PHq9GTOi58+apa7Pvvwy+qGiJIQJTnnHiAPlji6TN97w/y/FoTuc2rULT43Q+1yS1NcSBEFoLhR9S+/Fgdj41jaRmV8G8CmArXNqk9CESeNwyqOjq0iHU5Tg1LZtUGACql/DqV4dTubFZ1qHU9bRWgcf7A97TxzbkEi99JF69VDDKSuHU9j3YttGY2P258+dd1ava67p35TXUqRe9+6qU+HTT5Uo49queovUIwJefBF4+mngH/8Izot7L23bAi+/DIwdC9x9d3BeWKReM3M4nQ4lNnnXyMsA3A9gdwDdmfmkJiI2AUpYA4C7mfnHyCWFuuHrr4PjU6f6HbHdu2f70JILunj08MP2ZZYu9Z9ib2hwK0ovCEI0Zu2bzz7zh8MeyqmV317Llv65g7n8vAaU3y96D8rYav5cfXX4vj7RQnB79YpuV9Tnc++9wEUXlQs9M2cqQSmOH35Q13ZZMV8LwvWuJ9u1A37+8+z2EcZBB0XP/+KLoHgXhS4eRX3+pqNWEARBCFK0w2kO1JONZTDzcUQUlqD9NlSmuyAkolYcTi5Pt6d1OCWJ1APUxbR+YaoLJ9WI1Mva4ZSmI7cpOZwuvFDdALVpA5x4YvhyUYJTixbqTxdFmovgZE6zvad6dziFiUK29xr2vdimNzSovzS/pzAmTFAixfDh/ueeNFLP9n+AKPo7SFLDyeW3X+8OJ0A9zDBsWPDJXMDt/W+5pfozkUi9/4egrnWvB3ArM8c8q1t/EFFrAINLoxOJqAeAsQB2hkpA+BYqNvCfzBxRXQEAsAYRTQTQD0ADgFkAXgZwHTM/m0PzhQhmzgyOv6FlWYQ94Z8nusviwAOB++8HTjstGOmku5tWW61ZnnOEHGmukXpmFJ0uQMydW758Q4OKJq4VOnf2hQMvHnjMGL8GsilCeeM254ztwbJFi4B//UvVFPKIE5yiRBLPMTZ9OnDllf70vfaK3mZe6P0Ld9yhHj4YNizcZZolBx6oHm766ivgz38GdtwxKBzNnl1eG/bcc1WtUbPvRI/UixKcXOt+CYIgNFeKFpxeBzCSiHox86fmTGYOK7f3PYDVQuYJQihxjqamWMMpLgvbvHDV36++j8WL/eGm7nAaM8YvGL3//m7r1Krg1LEjcPPN8ctFCU6Aej/6zZKLyNIUBSfb+3YR3+KoZg2nsGO10hpOeTicunRRN4M6SR1OthpOcYKT9/m5CE4uNAXBySON4BZGmODUnCL1AFwBFZnX1GOjewHwzjK9AVwOoD2ApQB+ANAZwK4AdiWi6wAczhz6K20LYBMokWplAGuX/g4goutL60ZUMRSypNYEpx8N79y99yqnhV5PTo9fWk3uMAUhE6IEJ5so89ZbQP/++bYpCZ07+/WVzj9fvU6eDNx3nxo2Y9s8Z5NZLymM3/0OuOWW4DRPzApDj/oL46qrgK22AkaNUtdxEye6tQfINgpOF5w22AAYMSK7bcfRsiVw7bXBtkyb5qcjvPIKsMsuwXX+/Gd1vWk+oOnqcBLBSRAEIZqib+lvhXqK88KE660OIKIaiSDYSROpl0fHt8s2qyU4he0zrxpOeTuc0nRUHn+8Ep322y9YVDWKNIKT7XPMs4ZTFLZOeB2zm8/leyq6RlWluHS45xWpF+dErJSsHE5JtpGH4GQjC4dTHEkcTi7UQ6ReQ4Pb9+fyAIUr4nACmPnYZiA2AcEHx8ZCRQeOAtCOmVcD0BOAF7o4BsCfLNv4EsA4AAMBrMTMq0OJT1sDeLK0zG8BXJykYUQ0Me4PQERoZvPGFJxeftkfrobgtO225dNefz3YGfruu/7w2mvn3yZBqHeYfdFo9mzlrhk9GliyxF/GjBXzBCfmclGmc+faEpsAFQFqcv/9/rDp0poyRV272MQ0U4A44ohysQmIF5Rcz08HHqgElOnT3Zb3yEtwMiP8i6ZFC6Br1+C0Rx8tX+4kSzVJs4ZTGCI4CYIgRFO04PQggP8B2JOIzndZoRTBsSWAmNKHglBOrUTqmdie2U0aqee1PWmkXpQg1RRqOKXpyG3bVj0Vddttbk+SAbXrcHIlzuGUpsZQJYJaPTmcshCcfvc7/2bsnHMq355J3jWcwhxORQgpUecM1xpOccdb1oJTtR1ONsz35nqeF4dT84GIDiEiruBvJ21zLYzh0cx8DzMvAwBm/gzAvgC8suinElHgjMzM/2Xms5j5bWZeUpq2vFTvdUcA/y4tehQR9c3hIxEsmIJTtcWcv/7VPv3VV/1h3QGw6ab5tkdofjS1hyaYVU3NtdZSEcdduyrn4IQJyl3j8f33wfU8AeL771WcnM6ee+bb5jQMHGif7r0PU3BatAh47z274KTXUJoyJbymU9x952qruUfS3XabEtc9+vSJX8f8ztLCXFuCE+Bes8kkTaTeDOmpFARBKKPQW/pSNMb+UFnrxxHR40TUL2a1MwGsCuC/ebdPaHqkcThVq6OrFhxO+j70J9byFJwqvSnLIlIvDU3N4ZSF4JQ2oguoXcEprxpO7doBH30EvPQScOqplW/PJOq4CjtWs6jhVA8Op4aG4gWnLF1BaXCJ1HM9rvMSnH7SAtCaWmedAADQn6P+iJkfMBdg5hUALiiNdgTgLAWU1j2hNNoCwG4J1t007g/A+67ba26YgpNONRxO22yjBOzdjCPgk0/U69KlQafBZpsV1zah+dEUaji9+irw+ONq+KmngvOOO85/j6Z44TmcTHdT797AX/6SfTsrZcQI+/XZtGnABx8AF1u8sxdcELx+8Zg82b+X0kV4nbZt4+/bAXfhfs6coOC0774qZk/n44+BsWP9cc/N89xzqtbm6ae77ctk8WK/hmvr1sEa0dWCyO5ai8M1Um+VVfxr5+XLgSefDF9WEAShOVJ413qpdtMQKMfSDgDeI6IniOhPRLQtEfUjonWJaFciug/AyQAWAXAMuhIEn1qJ1HOhKMHpgAP84eHDw/eRVw2nrAWirB1TrpgX0k3N4ZSGWnp/LtjaVlSkHgB06qQy1/M452TlcEqyjaIcTlnVcIoib4dTLUbquZ4DsowHFIdTzXM7gDUq+NO7JvUuxyjxZoo23DNJY5l5GgCvykYVpI7mx/Ll0fVLqiE4AeocctNNwWmff65eJ03y3QdrrAHstBMEQYggriP9wlKxBBfBacstlYDTqVN27cuKPn2AG24on/7OO0qY/t//yufpdXPXW893LM2dq2pUnXEG8Otf2/fnmqqx1VZuywFBwWmzzVRUvPeQ5JlnKvGqQwd/mQULgNtvB4YOVe/vnHNUu5Oi1+uqBXeTh15TMAzdmbViBfD11/541HshCka42iL7BEEQmjNVuaVn5o8BDIASkVYA2B7qicZnoW40p0LFYuwJ4EcABzCzGFWFxDTlSL0wwSkuUm/ECJVXvNtuwRgE2z486snhVFRHblN3OOm4fqaVCE616nCyfWfmd1+LpKnhlERwCovUqweHUzUEp1p0OKVtU5bxgOJwqm2YeQkzz6vgb5m2rW8QFJ3C0L/9JuANaNpMmxYUi01cO1TzYNVVgWuu8cc9wemjj/xp224LtGlTbLsEod6Iqwt04onqVRcdAL8jXxec1l67tv/HH3SQcjPpPPaYW62jnj2B7bbzxydMAM4+O3x513PPmDHu11q6wNK3L9CtmxLZH3jAT1TQXTtz5wL77x/cRhrBqdbi9DzWXFN9BlF4UYkTJqgHd73r0VVWif+O9tjDH/7hh/TtFARBaIpU7RlSZl7IzMcBWAfKxfQK/KcSCSp2bwKAQcz8YHVaKdQ7cYJTkgipLLEJTkU5nIiAc88FHnxQXYhG7cMjK0cHkL0jqVoOp6ZWwymqHa6/iVp6fy64tDdPh1OehH3ubds27Ug9qeFkJ8v/a0XUcKrlziihIrx47PUjltlAG/4kycaJaB0A3nPzidYVksMM3HFH+Pzf/Kb6v2U9TmnqVPU6bZo/zbwOFoQs0I/7phCp99VXbsuZDqd5pZ4dXXCK6/yvBdZdV0UFesyZU76MTUzv0QPYaCN//Iorovez2mpu7Rk0CPj3v4Fx41TtrCj0GsxduqjX9ddXwoh3/6I7nEwnKJDuwTpdcHKtOVUUcbWsPEfT6NHBz69r1/ht6+KaWadMEAShuVP10BJmnsnM5zPzNsy8JoCVALRi5u7MPIaZP6x2G4X6pVYFJxtxnXhZCU5J2uCRZ6Se1HDKpj1JSeJwcv1Mm4LDyXwPtmXqUXAaNQrYYAPg6aebdqSeq8MpjijBKc05phYj9dKSV6Se3iknkXpNlutLr32IqKxkPBG1gF+H6QsAb2rzIv9LlOafXxpdAeDhilsrhDJpkupoO+us8GUmTCisOaH87Gf+8GuvAZddFnQviOAkCPG4CE4//lguOH33nXIG6XXe1lor27blhS4kfPxx+fzDDiuf1qMH0L+/+z7WXNN92V13VfF8eoRbFK1ahTuNOnaMXtd0qrlQqw4nwE1wsjl1XQQnPVlGBCdBEIQgFd/SE9G3RPQMEV1IRAcS0QZxN4VRMPMyZraUXhSE5MR1NNo6WIvo6KpmpF4U1YjUE4dTNu1JikTquUXqEbnVdao1zDbfdRfw3nvAz38e/hup1OFUVKRe1D4kUs+Oy+/L9TeYl8MpTVuE+oKZXwBwT2n0OiIaSUSNAEBEPaBqRg0ozT+NmVdoq/ckoteI6HdE1Nu71yCiFkS0BYDHAOxVWvZqZjZCkYQsue66YOdy69bBGqHXXlsbwnq/fsHxP/wBeOklf1x3IwiCYMdFcGrTBli4sHz6jBnA5Mn++LrrZteuPNHdR14cp8c99wD77Ve+To8ewDbbuO8jzfnHtfZVly7h11JDh0av++23iZqEb79Vgr6Hq3OrKEzBqVs3dT/k8fXXQcHMQwQnQRCEysiiq3MVAENKfx6LiegdqCcT3wQwCcA7epa7IBRBGsGpVhxOeUXqJWmDh9RwKqc5CU6uneO235P+dHGt4SI4Aep9LVsWHK91oo6rJNGZTSFSzxYf2dwi9Vxu/tMKTlnVcMpqm0LNcwiAzlD3DfcAWEJEiwDoR+k4Zr7Rsu5mpT+U1lsAoD0A/T/y9QCOzbrRQpAHjbDz7bYDLrxQnUc6dQIOOaQqzSqjZUtVr0Svv+K5Ldq1AzbZpDrtEpo2TSlSj9kuOB17rHIMxjF9elBw2myz8GVribDrprFjgZEjg/cFHpttplxL11wDHH64ff2LLlJxfR07An/8Y/J2Eam2xYlCXpyejdatgVNOAf72N/v8JILT3LnKKaq7oqL2XQ1MJ+svf6nO/6++qsa//hr45pvy9Xr2jN+2LjhJDSdBEIQgWdzSM1TNJf2vLYDNARwB4BoArwNYSESTiOhfRHQ0EW1FRBV4MQQhnrgnsZtjDacokjgf0pJ1BF69R+pV6wngIiL1Ghvdox821KAccwAAIABJREFU2CB+maxxidQDyr+3NNnmRZPm+0zyOw9zONVLpF61HU5FfE6PPuoP3357dtvN0uGURNAUmgbM/AOAYQAOA/A8gB8AtIOK0LsDwNbMfJZl1TkAjgFwG4ApAL4HsCqAZQDeh6r7ug0zHypJCfmyfHl5HZYFC1RH6803AxdfXFv1Gy++2D59881rq52CUIssXBisa+Nx4YWqtlAcDz4ILFmihnv2tNc+qkXCBCdvunl92KePqpUEAL/+dfh2//QnJcB99BGw+urp2jZhgoqt22mncNGoR4/obfTuHT4vieB0883lEXy1LjhtvHEwVnDuXLvgtPXW8dvWBafZs1WtLa8mlCAIQnMni8vs9gAGAtgEwKDSa38AZjdNS6iYjAFQTzcCwAoi+gjKAfX/bihmtphaBSE59eRwquVIvSwdHU0lUm+llYLj9e5wSuOIMTHf3xZbqCeLXejeXT0ReP/9wKmnuq1TKa7fRz1G6kV9n3nWcKpFh1MtCE7VcDjtvDPw5pvqXOV1gkTh+r8vrxpOadoi1CelqLzrSn+u6ywGcEXpT6gSr78O7LhjeYfkLrtUpz0ujB4NnHhieZs33rg67RGEeiIsTq+xEejQIX7966/3hwcPzqZNRRBWh0gXosaPV3WV2rQBnnjCn96hgxKTTBFj/Hj1OnBgZW3bc09g9939a6hhw9Q9l05cfbqoukaffureFluMXK0JTuZ77d9fOe88Hn64PAqxTZvkgtNHH6nvZuBAdf0tbn1BEJo7FZ8GmXkRM7/CzFcy8xhm3gTqScVNAYwBcBWAV6CeYDSdUA0A+gHYF8B5AJ4E8DURTS/fkyAkJ05wqieHU1gnX71F6tlq5GS5vWpF6rkIR7YO/VoRnPJwOG2/fbI2HXaYcmUkyT+vBJsYFhapFzVei6SpyZVFpF69OJziaCo1nAYNchObklBEDSe5SReE2mT06HLhpkcP4Oijq9MeVx56qHzagAHl0wQhC5rSQxOffFI+7bjj1Osqq9jX0cUO/Z63ngSnsPpKeg2lU05R9y2TJgG9egWXa9cuOD55sorjywr9OunnPy9/WC/KwQSUvz896vDJJ4EvvkjftloTnFZe2U/SWGkldRzutpt//frOO6rOrc7tt4eLjjq2B33feiuZaCcIgtBUyeWWnpmXMfMkZp7AzL9n5q0BdACwAYADAFwI4GkA36JchCIAvfJol9D8MDsWXRxO1eroShqp572XehOcmorDSWo4lWNuY/jwZG0qGtuNhEukXj0ITmkcTkkE+LBIvSJ+f1H7yKqGk/dZ5OVwqlaUZhYUUcOpKXXWCUJT4ZtvVMecTmOj6lirtSLxJltuWX5e6dy5Om0Rmhf1XMNp2TJghx388V12UULEhReq8TDBae+97dPXWSfb9uVJ+/bK0Wmiu14aG5WbvF+/8uV0AWfAAOV6yfPa5i9/AcaNU8Ndu0bH+gHBSDkAOPhg/4G/FSuAp592268tfq/WBCdAxRAecIAvJHXrppxOHm+95Q8ffTSwxx5u2w1LlpkyJX1bBUEQmgqFda2z4n1mvp2ZT2Tm4czcEcDaAEYCOAfAowBmFdUmoelTTw6nWo7Uy1NwytrhVMuCU706nFw7x02xc/PNk7WpaGyCU1NxOJ16qv/bMp96zCI6s1Yj9bKq4eStY/tdmLVLXKhGpF5eFBGpV8+fjyA0VcwnwAEl2tSDQNyiRfn/fNOBIAhCkDvvDI63bx+8BurZs3ydgQOBE06w/x+vN5F38GBg4v+xd99xc5Tl/se/Vyp50gMhDUJCb9ICgtJFkCYqIKIgQiiKR8+RJsejR0AB/QEKR0WkCCog7aAgCAIqKEV/CAjSElroJLSQnpBy/f6Y2d/Os89sn92Z2f28X6957ZT7nr1359l9Zuba674fLi5/7Wu1j7t04YXFANsRRyTftjj//d9BttWMGbV1af6VrwSPY8dKn/tcMCZUwV//WttzxgWcks6sT8L220tXXRV0eVcwaVJx/qGHivMTJtS+33L3XeL+XwJAt0l9qFR3f0nSS5J+W1hnZjk7HUFWZXUMp0a61Ks14NSKDKckb7AnHSBK68ZkUhlOaWU6tCLDady44KLq2muls8/OfmCm1oBT6XtTeuyzaMoU6Z57govOww7rva2eDKdyymU4pd2lXhJjOK21VvFvI+49mTatehurtSuLAZVa//e1o0u9PNzABrpN3C+2y2U4ZNGoUb1vjtY6xiRQr075H1YadCjtZu3LX5bOPLO4fPTR0mUVRuYbNy65trXLNttIs2cHY/5sv33t9caNk/71L+mtt+IDc61gVt/YdD/4QZC1tvnmQZbqzjsXt917b/X67kH3e1Ff+lI+rpOk3sHTmTOL89FAVDVDhsSvJ+AEAG3McKqHu5cZnhKoT1YznOI0GnAqbW+3ZTiVWrky2f2Vk0SGU//+6f29xXUzVmvZSn75S2nhQumkkxprVzt1cpd6krTLLtJxx/UNQpc7nkmM4dQJGU5nn13cHve52Hrr6m2s1oZO6lKPgBPQHWbM6LsuT5/V0m7/yHBCO+S5S73XX++9XPqDmwkTgqyRgq9+tTi/alXf/eUtw6lg3Djpwx+u/3ynp6d9waZGDBoUdAm49trB8gc/WLwWmDlTmjOncv2TT5ZeeaW4vOuu0jnntKatrVCux4J6ejKIu05YZx3ps59trE0A0EkyGXACkpLVDKc4jXapt3x57/XNBIfaEXAqfV1JX4jFXeC0wmqr9V5uJMMpre70pNZ0qVfLvrKkk7vUqyTueJqVXx8nq13q1ZrhVM6IEdLhhxeXS/+WN9igsV/05yHDqVZJvha61APyI24Q+TzdTKdLPaA+pQGnU07pW+Zzn5MeeEB64omgO71Ksj7WW7dbbbXeWVznnFP5uvqHP+y9fMEF+cocLdf1Xz0ZTpK0/vq9l6++OgjkAUC345IeHa2RgFNaN7oazXBaurR1bShoZQAh6YykdgWckuhSLy8Bp069+dutAae441nva8pTl3px2Xyl6/bdN+hK5NFHe7+20s/FNtvU19aCPIzhRJd6ACqZPbvvujwFnErHXiHgBFQWDTg9/3z8jXgz6UMfkjbbrPK+Nt6Y/+15sMsuxfkf/lD6n/+JL7dsWe/lddaRPvCB1rWrFQ4+OOhGu1S9Aad//KP38uTJjbcJADpJBm95AMnJapd6SY7htGRJcu3qhIBTub6Uk5ZEl3oEnNLV6V3qldOqgFO7utSr9Bzl2hUV16Xe738fjFUwdWrluo10pydV/z7Pglr/9yX5WshwAvLjjTf6risN4mRZaXdezXRBDVQS/X+ap6Bs1IoV0pvhIAdmxW7XanXRRcX54cOln/wkubahdT784d7LJ54YX+6ll3ov/+lP2Ty3rWTgwN5dAhbEXR9WMmqUtNtuwfxmm9UfsAKATsUlPTpatV9ip9WlXtzFR6Nd6iUZcKpnbJekJBFwOvXU4HH//aUpU5rfXy06LcOpUlvydgFRq1oznEqPW14Gwy0n7niWCzjWM4ZTFrrUq6V8tTGcokrLbbFFfc9drg15DqiUvifN/M8kwwnIj7gMpwsuaH87GlX6Pz/P38NAq739dvF6dfXV6//x4THHSNdfHwQi5s+X9tgj+TYieaXdw0nSX/7Stwv/558vzu++u7Teeq1tVyt96lPF+Ua6zZakG2+Ufv3r4O+d/y0AEODrEB0tqxlOcehSr3Hf/37Q7cPvftf8vmrVTRlOWR7wthlxFxV0qddbvWM4pd2lXi3l6wk4ldp228bqdVLAKUkEnIB8WLRIWrgwmB8wQLrlFun++6Xttku3XfVo9EYi0I3mzi3ON5LJOGCA9OlPSx/5SHJtQuvFXfPttluQ+bRiRXHdCy8U59ddt+XNaqkzzyxe//3qV43tY8wY6bOflcaNS65dAJB33PJAR2tkDCe61Osr6wEnSZowob03KZPIcEozc6hawOnOO4MygwdLF1/cvna1U9zNp27tUq/ez3iaXerV+7mJy+ar57vi6quDzKYf/1gaO7a+5y7XhixmDaYR5KFLPSAf3n67OD9uXJBRXtr1UtYRcEK7dEKXeu++W5zPU9eZaE65Xhweekj6+9+Ly9EMpzxnN0nSpptKL74ozZwpHXBA2q0BgM7BJT06WiMZTu240VVLl3rVugMsvJYku/cqdxO0lZk40V9L5UkjQbg8ZTjtuac0a5b02mv5/+VaOYMG9R3DoRsynOI+50mM4ZSnDKd6fO5z0mOPSV/5Sn31KrWBgEqgni4bAaQnmu0wenR67WjGPvsU53fcMb12AHnQCZ95NGb69Pj1Tz5ZnO+kDCcpGHdpww3TbgUAdBZueaCjZTXDKU7pDcjSdpQLQJ1wgjRkSDB/3nnNtSHuRm4z3U/VIqkMp3aLDqC7xhq1DT5d+veX5QwnSZo8Oei3vZONGNF7uZbxjfIecKonw6neLvXaEUip9zmS7FKvUdXG6OtWZDgB+dAJN58nT5auu0469ljpssvSbg2QbWQ4da8LLpC+/e2+6596qjg/a1ZxvhMCTgCA5KX4+3qg9fI0hlO15y0XcBozRnruueCXRs3+YjOJzId65TXgJEl33SVde6100EG13SAtPcZpdrMR181YNxo+vPdA6HGfw9LPQJJZhWmoZwyncvLUpV4WAk7VMla7FWM4AfnQCQEnSTrkkGACWqkT/ocRcOpew4dLZ5wh7bdf0MXcnDnB+mg3eq+8UpyfPLm97QMA5EOX3mJEt8hqhlMtgYbSMpVuWE6cGEzNqiW7I2l5DjhttJF02mmN11+1Krm21KuWDKduMHRo9TLd0KVevRlOcesHDsxml3px3ZWmHXDKYgZPlsZw6oSbdUAn6ZSAE9BueR3Dic88PvhB6cYbpZ12CpYLY/ktWlT8+xg4sPHxTQEAnY2AEzpaaYCpUwNOSSHg1F5pXoSWHutuDTgNG1a9TKcFnOrJcKq3S71jj5X+8Idg+cADG2tfNZW++8plXkXRpV68NdesrVyS3WzSpR6QD9x8BrrLG28U5zu9e22Ut8Yaxfn/+3+lr3+9GHiSgrGPOGcDAMTh30NKzOxIM/Mapo9W2c96Znaxmc0ys6Vm9paZ3WFmB9XYjm3M7Coze9XMlpnZG2b2WzP7SDKvNF2NdKmX1ZMmAk6dhwyn9NUScOqGMZyS6FJvwADpU5+Szj5b+uIXpQsvbKx91ZT77ltrLWmzzaqXT6P7yKx2qXf77cGjmfSLX9RWZ/x46VvfCm4yXH55c89PhhOQD++9V5wn4AR0viefLM5vtFF67UC6ogEnSTr3XOmKK4rLa63V3vYAAPKDDKf0rZL0VoXty8ptMLN9Jd0gqSdcNV/SGEl7SdrLzK6QdLR7fB6FmR0j6SIV/w7mSRon6ZOSPmlmZ7j76bW/lOzJUpd6Bxwg/e53wfxhh1UvX3rU4rqFSloSN6Lr1c0BpyyN4dStASe61AvUe/zLBZzMpG98o7F21aq0/b/8pbRwobTnnvHBJDKcytt772AQ6J4eaZ11aq/33e8GU7PIcALyITqeCwEnoLLoOUYeu9Rz7x1wivsxD7rDqFHBOVm5H0luuml72wMAyA8CTul7xd2n1FvJzKZKul5BsOl+SdPd/RkzGybpFEnflnSUpBmSzomp/yFJP5PUX9JNkr7q7q+a2eqSzpL0RUmnmdlT7n59Q68sAxrJcGrVjchLLpG23FKaNk3acMPq5UsvUErb1Yp2kuHUXlnKcEoj6yMLGgk4DR7cmra0Syu71GuH0uceP17aa6/y5bMQcMryGE6bbJLec5PhBORDYdB4qfbuNwHk07vvSvPmBfPDhgUZzehO/ftLY8b07kavYOpU6b//u/1tAgDkQ4ZueaBO35E0VNJsSfu7+zOS5O4L3f00SZeE5b5pZnG/RTxHQbDpcUmHuPurYf133P1Lku4Iy/0fM8tI5z/1q9aNUTsznMaNk77zHekTn2jN/pOQRsApj7/8SwoZTuljDKdAvQGnchlO7VBv8CYuuJp2hlNWutRLGwEnIPueflr6zW+Ky+PHp9cWAK33zjvF+TXX5H9ytyvtVk+SRo6UZs6kSz0AQHkEnHLIzIZKKozRdJG7vxdT7Hvh4wgFXeRF668raadw8Tx3X16h/hRJuzTV4BRlKcOpXmkEI9oVcOJmayBLGU7dGnCqJcOp08Zwivv8jRhR3z7yFHAiwym76FIPyLbly/tmkBJwAirLe5d60S40V189vXYgG+ICTrvv3r3XjgCA2nBJn087SRoSzt8eV8DdX5T0dLhY2tnQnpH5P5R5jvskLShTPzfqHcMpK8Emqe8FSjsuWNoVcOrW7ttKkeGUvloynDot4BR3M7/bAk7tRsApHhlOQLY9+6z06qu91xFwAjpbNOA0Zkx67UA2jB3bd109434CALoTtzzSN9bMHjazhWa2xMxeMLOrzGy3CnU2j8w/UaFcYVvpUJ+F+m+6+5txFd19pYLxn+Lq50a9GU7dfpMrLuDUipvrZDgFyHBKXy0Bp2pdc+ZNPQGnLI7hlMcMJ7rUi0eGE5Bt0RvPBfX+QAFAvkS71CPghJ6evuviglAAAERxSZ++HknbSHpfwfGYKukwSXeb2eVmFncLb2L4ONfdl1TY92sl5Uvrv6bKytXPjU7KcGoHutRrrywFnLo162xibr/dGldPl3r1jOHUriBB6fPkYQwnMpzikeEEZNvs2X3X8fkEKsvzZ2TpUum224rLdKmHuHsScUEoAACiuvQWYya8LukMSb+RNNPdl5lZf0nbh+s/KukoSYskfbWk7vDwcXGV5yhsH16yvtn6sczs4RqKbVzLvpJCwKk+BJzaiy710nfwwdLppwcD3551VnyZPPa/X0ncTf6RI+vbR+l3ZTuDOJ2Q4UTAKVBPQBNA+73xRu/lIUPiywGIl6dzyFWrpF13lR58sLiODCfE4X8BAKAabnnUyMyONDNvYto7uj93v9PdT3f3f7n7snDdSnd/QNLHJN0cFv2ymW3Q5pfbMehSrz4EnNorSxlO3RpwGjBA+te/pGeekf7rv+LL5OlmQS2SGMMpzQy5PAacOq1bxqTQpR6QbaUBp1q6oQWQT88/3zvYJJHhhPhz1q22an87AAD5wiV9Brn7Kkknh4v9JH28pMiC8LFaMnNh+4KS9c3Wj+Xu06pNKo4L1RbVAk6lN7XSDABkAQGn9iLDKRsGDZI26KKwvlnfgEuzXerlLeB0zDHF5c98Jpl2VUKGUzy61AOyrTTgdPDB6bQDQOs9/njfdVOntr8dyJb//M/ey//+79IOO6TTFgBAftClXu2ukXRrE/Xn1VPY3Z8zs7clrSFp3ZLNr4ePo81sSIVxnCaVlC+tP0mVlaufG9UCTqVWrmxdW+qVRjAi7uYfAafWIcMJaenXr/f3XbcFnE46SXr5ZWn+fOmCC5JtXy1tIOAUIMMJyLbSgNPZZ6fTDiBPoudIecmSX7FC+uY3+65fb732twXZsumm0q23Ss8+K02fXn+vCACA7kTAqUZht3fL0m5H6InI/OaS/lGm3Obh45Nl6q9pZmPd/a3SiuF4UoXxlkrr50YtAaf+/bMVaEpTXCCoFYOCEnAKZCnDqZ0BA6Sv1oBTpfpR7QxY1ts9Xdzf+uDB0s9+lmy7KqFLvXhkOAHZNnt2cf6hh6RRo9JrC4BkrVpV/D989dXSjJh+SMhwgiTtt1/aLQAA5A2/Ic0oM1tPQXaTJM0q2XyfpEJW096KYWbrSNokXLyzZPNdkfnY+pJ2lDS8TP3cKL2J3q4u45KQRjAi7v0ZOjT55yG4ESDDKR/y8uvUepR+1keOrK9+mhlO9XZPV2+mayvQpV48Ak5AtkUznMaPT68dAJJ1wgnBj42+//1gefr0vmW2314aMqS97QIAAJ2BWx4pMKt8KyXcfm64uEolXfm5+yJJN4aLx5tZ3K3CU8PHBZJuKqn/goKglSSdZGZxt5oLvfW+JOmvldqbZaXvdNzNrawGPzo54MSv+wNZynAi4FTeRhul3YLklR7/butSr93oUi8eXeoB2bVihfRW2AeCmTRuXLrtAfIi613qvfBC0J3wokXSN74hvf563x/BTZ8uXX99Ou0DAAD5xyV9OtYxswfN7Itmtm4hAGVm/cxsB0m3S/pUWPZid58Zs49vS1okaYKkW8xsg3AfQ83s25K+FJY7093nxtQ/VdJKSVtKutbMJoX1x5jZTyXtE5b7urvntsO5Wk7ysxpwSgMBp/Yi4JQPe+whHX64NHGidMstabcmGaXHf/jw+HLl1qfZJWO9wYgsBJxK28x3YIAMJyC75swpnqeMHcv5MtAJVq6Ujjqq97pJMaM6X3CBNHlye9oEAAA6D5cO6dkunCRpmZktUNCF3eBImSsk/XtcZXefZWaHSLpB0s6SnjGzeZKGSeofqX9umfoPmNmXJF0k6UBJB5rZe5JGSirc6jnD3Tv+t01ZvYAuDUa0IzhBwKm96FIvH8ykK68MPoOdciN86dLey4MGxZc788zgtS9fLl14YXF9mhlOpap9N5a2NY3vHzKc4pHhBGRXtDu9CRPSaweA5Fx9tfTXGvouKfeDIwAAgFpk9FZ7x5sj6auSPiRpK0ljJY2WtFTBeE0PSLrc3e+vtBN3v83MtlCQrbSngmynuZL+qSAz6sYq9S8zs0cknSRp17Adb0r6m6Qfu/ufG36FGVFLkCarN9rpUq/zpZnhlKWAQV50SrBJCrpKKqh07CdMkJ57TnrlFenDHy6uz9LfT70BpzSOIwGneGQ4AdlFwAloTJb/h516avUy55zT+nYAAIDOxi3GFLj7Ekk/Cadm9/W8pOOaqP+IpMOabUdW5TngtOaavZfJcOo8aWY4leKYdK9hwypvnzy5b7cqWQo41SuNG0F0qRePgFN3MbN6zmTucffdy+xnnKSvS9pf0mRJSyQ9KemXkn7unsVRU/Jn9uzi/Pjx6bUDyLOsfRtFP9flHNfwnQUAAIAAv7FFR8vbGE6XXBLcgNtkE+nzn2//8xNw6h4rczsyG5JWLeAUJ80xnErVezOHDKfsoEu9rjOnyvRupOw/4nZgZtMUBJdOlLShpBUKuqTeSdKlkm43szKdhKIeZDgBncVd6ukpLn/gA9KCBb0z2CVpxIj2tgsAAHQeLunR0fIWcDr2WOn116XHH8/GwPYSAaek/e53xfmbb06vHQScUNDIZzxLGU71BpzSCGaUPicBlQAZTt3F3cdXmiSdHSn+89L6ZjZS0q2SVpc0Q9J27j5c0lBJX5G0XNLHJF3Q8hfTBebMKc6T4QTk38yZ0uLFxeX77w9+dHTDDcUfH225Jf+DAQBA8zJ0qx1IXt4CTpI0blx6z02GU+vtt18QaHKX9t8/vXaMGZPecyNbGslwynPAKQsZTt38HRhV7lgQkOtaR4eP97n7zJjtJ0sar6ALvX3dfZYkufv7ki40sxEKglbHmdkF7v5MOxrdqd6N5Jutvnp67QDyJvq/LStd6q1YEQSTCqZOlYYPD+YnTpTuvlv67W+lL3whnfYBAIDOwiU9Olqex3BKAwGn1uvXTzrgAOkTn0j3purw4dIVV0i77Sbdemt67UD6Cjcc6pHnLvXSQIZTPDKcUGBmH5a0Sbh4WZliR4SP1xaCTSV+LGmhpP7q4PFJ2yUacOJHKkC+3X+/9P77xeWRI3tv33Zb6ayzpA03bG+7AABAZ+KWBzpaHjOc0tSugNPXvlacnz49+f2jNkceGfyicb/90m4J0pT3LvXqtfba7X/O0sAKAZUAASdEFLKb5km6oXSjmW0kaXK4eHvcDtx9oaR7w8W9km5gtyHgBOSXu/T228Xlu+7qvX358va2BwAAdBcCTuhonRRwGju29c/RroDTQQdJ554rnXiidM45ye8fQO3y2KXebrsFj2PGBINeV/O3v0mHHRaModbI621W6ftFhlOg3PvA+9NdzGyYpEPCxWvcfXFMsc0j809U2F1h26ZJtK2bzZ1bnB89Or12AHmThS71Dj00uHY84ghpyZJgfOCoZcvSaRcAAOgOObnVDrROXgJO//Ef0o9+FAzifOmlrXmOdgWczKSTT05+vwDq10gAJu0u9X79a+naa6WPfUwaNKh6+R12CKY0HXaYdPXV0qc/XVubuwEZTggdKqnwTVSuO72JkfnXKuyrsG2EmQ0Ls57QADKcgHx6+mnp+uuD+SuvlK66qm/gi4ATAABopZzcagca86lPSSNGSPPnlx8ENS9jOA0dKr3wgvTGG9J667XmOdoVcAKQHXnMcJowQTrhhPY+Z7OuvFI67TRp/fXTbkl2kOGE0DHh42Pu/nCZMtHR5uIyoOK2DVcwplNFZlbuOaM2rqFMx1i5UnrvveLyqFHptQVAfUrHZo3Lslpjjfa0BQAAdCcCTuhow4ZJ994bDJR66KHxZfIScJKknp7WBZukvgEnM2m11Vr3fADSl8eAUx6ZSRtskHYrsoUMp2wzsyMlXdHELvZx9z9UeY7NJG0fLpbLbkKb3XVX8Sb1iBF8xwP1SPt/2CuvVC/z4x+3vh0AAKB7cfmAjrfFFsFUDhfRRaUBp6FD079oAtBaBJyQFgJOUDG7aamkqyqUWxCZ75E0v0y5njJ1ynL3adXKhFlQ29Syv7xyD36gdfPN0nnnFddPmJBem4C8S2MMp2h2YpwHH5S22649bQEAAN2JW0ToetwoLSq9+Ud3ekDny+MYTugMdKmXeddIurVqqfLmVdpoZoMkHR4u3ujulW6Tvh6Zn6TyAadJ4eN8xm+q3eLFwTh3jz/ed9taa7W/PQAaN6/CN++eexJsAgAArcctInQ9bpQWxWU4Aeg8o0YVfwG788711y/NQMlT16TIDjKcss3dl0lq5dDyn5BUGEmkWnd6T0TmN5f0dJlym4ePTzXRrq5zySXxwSYpfnxPANlVKeB09tntawcAAOhe/IYUXY8bpUXgMr7TAAAgAElEQVSlNxV6euLLAci3O+6Q9tpLOvdcacst669Pl3pIQrnAEhlOXaPQnd5zkv5Spewzkl4O5/eOK2BmQyUVQuh3Nt26LnLRReW3vf12+9oBdILo/7Y0utQrF3C68UZp223b2xYAANCduKRH1+NGaVHpzb8hQ9JpB4DW+uAHg6DTySc3Vp8u9ZAEs/igExlOnc/MJkv6aLh4uXvl27Lh9l+Fi4ea2ZSYYv8maZiklZKuTqal+fCzn0lbbSVdeWVj9SdOLL/tlFMa2yeA9po7V9pxR+nRR+O3779/e9sDAAC6FwEndD0ynMpbbbW0WwAgi8hwQlLispkIOHWF6QquQ1ZI+kWNdc6TNFtSj6Tfm9k0KRgLysyOl/TdsNwl7v5Mss3NrqVLpeOPlx57TDriCGlZA50gDhoUv/7UU6WDD26ufQDa48QTpQceiN/2ox+V/5wDAAAkjVtE6HrcKC2PgBOAOASckJS44BJd6nU2M+sn6ahw8TZ3f6OWeu4+z8z2l3SHpE0lPWRmCyStJqnw86E7JZ2QcJMz7Y2Sd+/BB+sfmy+uC64HH5S2267xdgHdKo0u9ZYujc9wfP99flwJAADaj0t6dD1ulJZHwAlAHLrUQ1LIcOpKH5U0OZy/rJ6K7v6wpM0knS/pWQWBpkWS7pN0rKR93L2BHJ/8mj279/IVV9S/j9KA02qrSdOmNd4mAO310kvSypW91629NsEmAACQDgJO6HqciJdHwAlAHDKckJS4gBMZTp3N3e90dwunWxqoP8fdT3T3Dd19iLuPdved3f0yd1/VijZnzY9/LG26qfTzn/fNcLr22vqzKqIBpx12CMb443MI5McLL/Re/uQng+8HAACANHCLCF2PG6XlEXACEIeAE5JChhNQn0svlf7934P5Y44JxmaJWrIkGM9pq61q32c04HTnndLw4c23E+hWafwPmzWrOH/UUdLll7e/DQAAAAX8dg1djwyn8gg4AYhDl3pICgEnoHbLlknHHdd73T//2bfc1ltLjzxS2z7ff19avDiY79dPGjasuTYCKGp0DCf3INPwjjtqKx8NOK27bmPPCQAAkBQCTuh63Cgtj4ATgDhkOCEpdKkH1O655/quKzdm07RpQabTU0/1Hdsl6u9/L86PHUvAF8iC731P2nvvYLr55urlo13qTZ3aunYBAADUgkt6dD1ulJY3ZEjaLQCQRQSckBQynIDazZhRX/mttpI220w68sjyZW6JjKJ1wAENNQtARLP/w1aulL75zeLydddVLr9okfSb3xSXCTgBAIC0EXBC1+NGaXlkOAGIQ8AJSSHDCahdvQGngquukl56KX7b668X53fcsbH9A4jXSJd6b7/de/nPf5ZWrChf/he/6L1Ml3oAACBtXNKj6zGGU3kEnADEYQwnJIUMJ6B2L77YeN1ttum7btUq6c03i8vjxjW+fwDJmD279/KcOdI115Qv//TTvZf5HAMAgLQRcELX40ZpeQScAMQhwwlJIeAE1K5cllIt3ntPWr68uHzSSdKIEdIf/1hcx41qIH1z5vRdd9995bOcli4tzn/iE/wPBQAA6SPghK5HhlN5BJwAxCHghKTQpR5Qu5dfbrzuqlXF7vPefFP64Q+DsV+i1lyz8f0DCETPkRrpUq80w0mSLrkkGJtp1qy+2xYuLM5/5jP1Px8AAEDSuKRH1+NGaXkEnADEoUs9JIUMJ6A27s0FnCTplVeCx6eeit8+dmxz+wfQvDfeiF//6qvSl78czC9bJl13nXTjjdIDDxTLDBvW+vYBAABUwy0idL311ku7Bdm1zjpptwBAFpHhhKSQ4QTU5uWXpSVLKpe59VbpiSeCbvKiXeVF9yH1HfNFkiZOlAYNar6dAJpTaay2e+4JHg88ULrttr7bCTgBAIAs4JIeXW/vvYP+rocPrzwga7e49FJp8GDp4x+Xdt897dYAyCICTkhKXDYTGU5AX489VpwfNSq+zLbbSqeeKh10UPz2116T5s6Vzjmn9/pJk6Tzz0+mnUC3a/Z/2C23lN82aFCQ0RQXbJIIOAEAgGwg4ISuZybddJP07rvSoYem3Zr0HXNMMLD0737HTT8A8UozUBgLD42iSz2gNtGA0y67xJcZOjR4POIIacqUvtvfeUfaeefeGRQ33RR01XXIIUm1FEBBvWM4/elPQWC4nPnzpR13LL+dgBMAAMgCAk5AiF/oFzF2E4BKyHBCUuhSD6hNNOC0007xZXp6io/33iv94hfSGWcUt//lL9KTT/aus8kmiTYTQBMuvLD38rbb1lefgBMAAMgCLukBAEBdCDghKWQ4AbWJBpx23bXv9n79en+e1lpL+sIXpHXXLa77+9971xk0qPd2AM1r9H/YypXSHXcUl7/85aC7y3oQcAIAAFnALSIAAFAXAk5IChlOQHXvvy89/3ww36+ftMUW0j33SFddJY0bJ82YIR1/fHzdkSPL7/fkk/n+Blqpni71Xn5ZWrw4mB83Lsh2OvbY+p6v0K0mAABAmrjEAAAAdSkNCHDDEo0iwwmIt3x58FkYMEB6663ijeuxY4Ouj3fdNT7TqdSoUfHr77hD2muv5NoLoDnPPluc32CD4HHcuPr2MWhQcu0BAABoFL8hBQAAdSHDCUkh4AT09cwz0uTJwTRrlvTmm8Vta65Z377iAk4DBki77NJcGwEkKy7gdNBB1etNmCBtt53061+3pl0AAAD14hYRAACoCwEnJIUu9YC+vvQlafbsYL50jKUkAk7jxwdZUgCSFz1HqrdLvYLC537rrYOx13bYIb7OmDHS66/X30YAAIBW4pIeAADUhS71kBQynIC+7rmn/LbRo+vb15gxze8DQOsVgsxSkLVUsPHG5etceGHr2gMAANAoAk4AAKAuZDghKWQ4AUXvvitdf33lrIinn65vn0OHStOn914XF4QCkK45c4rz0bGbhg6NL/+jH0kHH9zaNgEAADSCS3oAAFAXAk5IChlOQMBd2mcf6TOfqVzuqKPq3/f55/dejutmD0AyGv0fVi7gNGCAdPjhvcu++qr01a9y/gUAALKJUxQAAFAXutRDUgg4AYElS6QHH6xe7gtfqH/fI0b0Xl68uP59AKhfrWM4rVolPfpocTkacJKkiy6SVl89+P945pnls54AAACygFtEAACgLmQ4ISl0qQcE3n23eplrrpHWWKP553r77eb3ASA5V17Ze3nNNXsvDxsmXXBB+9oDAADQDG4RAQCAuhBwQlLispnIcEI3mju3/Lazz5bGjpUOOSSZ50oiaAUgXiP/wx5/vDg/YYK02mrJtQcAAKDduEUEAADqQpd6SAoZTkCgXIbTaqtJ3/hG8/u/5Rbp4x8P5r/3veb3B6C6WrvUe+ut4vwZZ7SmLQAAAO3CLSIAAFAXMpyQFMZwAgLlMpz+/Odk9r/ffsEYMYMHSxtvnMw+ASQjGnAqHb8JAAAgb7hFBAAA6kLACUkh4AQEymU4rbdeMvs3k7bcMpl9AUhWdFy1sWPTawcAAEAS6LQEAADUhYATkkKXekCgXMBp2LD2tgNAc6LnSI10qUfACQAA5B2X9AAAoC6lAYGBA9NpB/KPDCcgUK5LvSFD2tsOAO0XDTitsUZ67QAAAEgCv0kGAAB1IcMJSSHDCQhEM5wmTpSWLZNOOYUALNDpli+XFi0K5vv1k0aOTLc9AAAAzeIWEQAAqAsBJySFDCcgEM1wOu886dBD+SwAeVTv53bhwuL8sGF87gEAQP7xG1IAAFCX0iABASc0ioATEIhmOI0ezecA6AS1jOG0YEFxfvjw1rUFAACgXQg4AQCAupDhhKTQpR4QiAacxoxJrx0A2ouAEwAA6DRc0gMAgKYQIECjyHACAtEu9UaPTq8dAJrTTJd6BJwAAEAn4BYRAACoy6pVvZcJEKBRZDh1FzPzOqa7Y+qfXmPd9dN4fc0gwwnoPHSpBwAAuhGd4AAAgLqsXJl2C9ApyHDqOnOqbB8oqRBu+UeFcsslvVth+4p6GpW2t96S3nsvmO/XTxo1Kt32AGifaMBp2LD02gEAAJAUAk4AAKAuBJyQlLjgEgGnzuXu4yttN7OTJJ0XLv68QtEH3H23pNqVtt/+tji/ww5S//7ptQVAe9GlHgAA6DR0WgIAAOpS2qUe0Ci61EOJo8PH+9x9ZqotaaMZM4rz++2XXjsANC/6owm61AMAAN2IS3oAAFAXMpyQFLrUQ4GZfVjSJuHiZWm2pd3mRDoanDQpvXYAaD8CTgAAoNMQcAIAAHUh4ISkkOGEiEJ20zxJN6TZkHaLBpzGjUuvHQDa75//LM7z+QcAAJ2AS3oAAFAXAk5IChlOkCQzGybpkHDxGndfXKXKZmb2hJktNrOFZjbTzC41s61b3NSWePPN4vyaa6bXDgDNq+d/mLt0553F5Y9+NPn2AAAAtNuAtBsAAADyhTGckBQCTggdKmlYOF9Ld3prSBoj6T1JIyRtGE5Hm9nZ7v6tlrSyRchwAjrTT38qXXdd+e1z5kiLFgXzI0ZIW2zRnnYBAAC0EgEnAABQFzKckBS61EPomPDxMXd/uEK5ZyV9XdLNkma5+3IzGyRpN0lnS5om6ZtmNtfdf1DLE5tZpecr2LiWfTVi5Urp7beLy2Q4Afk2eHBxft68YKrFeuvxgwsAANAZuKQHAAB1WbEi7RagU5DhlG1mdqSZeRPT3jU8x2aStg8XK2Y3ufvV7n6uuz/j7svDde+7+52SdpL0j7Do6WY2somX3jbvvFPMGh0zRho4MN32AGjOgQdK48fXX2/ZsuTbAgAAkAYynAAAQF3oUg9JIcMJKmY3LZV0VaM7cfelZvZfku5S0D3fHpJ+U0O9adXKhFlQ2zTatkrGjg0yIObMkebPb8UzAGinKVOkl18Opmo22URavjyY33ffljYLAACgbQg4AQCAutClHpIyZEjfdWQ4Zco1km5ton7FzqTC7vAODxdvdPf3mnguSfpbZH7dJvfVFmbB2C0jRqTdEgBJGTgw6CKvmkcflXbZJfihxfTprW8XAABAOxBwAgAAdSHghKQMG9Z3HQGn7HD3ZZJa2dHTJyStEc5X7E4PADrNppsG2Y0rVvQe+wkAACDPCDgBAIC60KUekhIXcKJLva5S6E7vOUl/SWB/O0TmZyWwPwBoqf79gwkAAKBTcEkPAADqQoYTkkKGU/cys8mSPhouXu7uXqV8xb8MMxss6axwcZGkPzXdSAAAAABAXQg4AQCAuhBwQlLIcOpq0xVci6yQ9Isayu9iZn80s8+b2VqFlWY20Mz2kHSvpO3D1d9JYDwoAAAAAECd6FIPAADUhYATkkKGU3cys36SjgoXb3P3N2qpJmmPcJKZLVGQyTRS0sCwzCpJ33f3c5JtMQAAAACgFvyGtEFm1mNm+5jZt8zsN2b2kpl5OJ1ex37GmdkPzGymmS0xs3fN7F4zO6Za1yFh/fXM7GIzm2VmS83sLTO7w8wOqvH5tzGzq8zsVTNbZmZvmNlvzewjtb4GAEB3YQwnJGX48L7rCDh1hY9KmhzOX1ZjncclnSzpRknPSFoiaVT4+Jikn0jayt2/mWxTAQAAAAC1IsOpcR+UdFszOzCzaZLukLR6uGqhpOGSdgqng83sAHd/v0z9fSXdIKknXDVf0hhJe0nay8yukHR0uT7xzewYSRep+HcwT9I4SZ+U9EkzO8PdT2/mNQIAOg8ZTkgKXep1J3e/U0HGUj113pH0g9a0CAAAAACQBC7pmzNXwYDE50r6rKTZtVY0s5GSblUQbJohaTt3Hy5pqKSvSFou6WOSLihTf6qk6xUEm+6XtJG7j1TQrch3wmJHSTqlTP0PSfqZgmDTTZLWdvdRksZKujgsdpqZHVLrawIAdAcCTkgKXeoBAAAAANA5CDg17l53H+PuH3X3r7v7tZKW1VH/ZEnjFXQDsq+7PyRJ7v6+u18o6bSw3HFmtmFM/e8oCE7NlrS/uz8T1l/o7qdJuiQs900zGx1T/xxJ/RV0T3KIu78a1n/H3b+kIPNKkv6PmfWv43UBADrcyJFptwCdojTgRLAJAAAAAID8IuDUIHdv9vfdR4SP17r7rJjtP1bQxV5/SYdFN5jZUEmFMZoucvf3Yup/L3wcoaCLvGj9dRV02SdJ57n78gr1p0japfzLAAB0m7POkgYPDuZ//vN024J8I+AEAAAAAEDnIOCUAjPbSMWBkm+PK+PuCyXdGy7uVbJ5J0lDqtR/UdLTZervGZn/Q5lm3idpQZn6AIAuNn689OKL0sMPS9Onp90a5BkBJwAAAAAAOgcBp3RsHpl/okK5wrZNm6y/WZn6b7r7m3EVwwyuGWXqAwC63Pjx0jbbpN0K5B0BJwAAAAAAOseAtBvQpSZG5l+rUK6wbYSZDQuznqL157r7khrqTyxZP7Fke6X628XUj2VmD9dQbONa9gUAADrfoEG9l1esSKcdAAAAAACgeWQ4pWN4ZH5xhXLRbcNj5ivVjW4fXrK+2foAAACJGDKkehkAAAAAAJB9XZPhZGZHSrqiiV3s4+7lxjuCJHefVq1MmAVFJ0wAAECS1NMjLamUrw0AAAAAAHKBDKd0LIjM91QoF922IGa+Ut3o9gUl65utDwAAkIihQ9NuAQAAAAAASELXZDhJukbSrU3Un5dUQyS9HpmfJGl+mXKTwsf5kfGbovVHm9mQCuM4TSopX1p/kiorVx8AACARBJwAAAAAAOgMXRNwcvdlkpal3Y7QE5H5zSU9Xabc5uHjU1Xq/6NK/SfL1F/TzMa6+1ulFc2sv6SNy9QHAABIBAEnAAAAAAA6A13qpeMZSS+H83vHFTCzoZJ2DhfvLNl8n6RCVlO5+utI2qRM/bsi87H1Je0oaXiZ+gAAAIkg4AQAAAAAQGcg4JQCd3dJvwoXDzWzKTHF/k3SMEkrJV1dUn+RpBvDxePNbGRM/VPDxwWSbiqp/4KCoJUknWRmA2Pq/2f4+JKkv5Z7LQAAAM3oqTaiJAAAAAAAyAUCTk0ws9FmtkZhUvH97ImuN7NhMdXPkzRbUo+k35vZtHCfg8zseEnfDctd4u7PxNT/tqRFkiZIusXMNgjrDzWzb0v6UljuTHefG1P/VAXBrC0lXWtmk8L6Y8zsp5L2Cct93d1X1vqeAAAA1IMMJwAAAAAAOgMBp+b8U9JbkWntcP0pJet/UlrR3edJ2l/SO5I2lfSQmc2XtFDSTyUNUtCV3QlxT+zusyQdImmxgq73njGz9yTNk3SGJJN0haRzy9R/QEFQaoWkAyW9amZzJb0t6fiw2Bnufn1tbwUAAED9CDgBAAAAANAZCDilyN0flrSZpPMlPStpoIKspfskHStpH3dfVqH+bZK2kHSppBclrSZproIxmg529+lh933l6l8maXtJv5b0moJsqzcVdMG3h7uf3twrBAAAqIwu9QAAAAAA6AwD0m5Anrn7lAT2MUfSieHUSP3nJR3XxPM/IumwRusDAAA0gwwnAAAAAAA6AxlOAAAASA0BJwAAAAAAOgMBJwAAAKSGgBMAAAAAAJ2BgBMAAABSQ8AJAAAAAIDOQMAJAAAAqenpSbsFAAAAAAAgCQScAAAAkBoynAAAAAAA6AwEnAAAAJAaAk4AAAAAAHQGAk4AAABIzQc+kHYLAAAAAABAEgg4AQAAIDVrry399KfSHntId9+ddmsAAAAAAECjBqTdAAAAAHS3448PJgAAAAAAkF9kOAEAAAAAAAAAAKApBJwAAAAAAAAAAADQFAJOAAAAAAAAAAAAaAoBJwAAAAAAAAAAADSFgBMAAAAAAAAAAACaQsAJAAAAAAAAAAAATSHgBAAAAAAAAAAAgKYQcAIAAAAAAAAAAEBTCDgBAAAAaAsz29PMrjezl8xsqZktMbMXzOxqM9u1hvrDzex0M3vczBaa2Twz+4eZnWRmg9rxGgAAAAAA8Qak3QAAAAAAnc3MTNJFkr4YWb0kfJwaTp8zs/Pd/cQy+1hH0j2SpoSrFksaLGnbcDrMzPZw97mJvwAAAAAAQFVkOAEAAABotSNVDDb9r6QN3b3H3XskbSzp5nDbCWb2qdLKZjZA0i0Kgk1vSNrT3YdK6pF0qKQFkraWdFULXwMAAAAAoAICTgAAAABa7Yjw8TlJn3X3Zwsb3H2mpE9LeiFcdUhM/S9I+kA4f5C7/zGsu8rdr1MxmLWvme2RdOMBAAAAANURcAIAAADQahPCx8fcfUXpRndfLunRcHFYTP0vhI93u/vfYrZfK2lWOH9EzHYAAAAAQIsRcAIAAADQaoXspS3D7vF6MbOBkrYKFx8q2dYjacdw8fa4nbu7S/pDuLhX060FAAAAANSNgBMAAACAVrsofFxf0jVmtn5hg5ltJOl6SetKel7S+SV1N1HxuuWJCs9R2DbezMY03WIAAAAAQF0IOAEAAABoKXe/RdIJkt6XdLCkZ81ssZktljRD0m4KglIfdPf5JdUnRuZfq/A00W0Ty5YCAAAAALREn+4sgBab8vTTT2vatGlptwMAAHSxRx555Gp3PyztdnQTd7/AzJ6VdLmkNSUNiWwepGDsppGS3i2pOjwyv7jCU0S3DS9bKsLMHq6h2JacvwIAgLRx/gogDwg4od3mL1myRI888siLLXyOjcPHGS18DtSO45EdHIts4XhkC8cjWzgeKTOzIyVd0cQu9nH3wphKhXGYrpB0iIIxmg6X9M9w89aSzpb0eUn7mNke7v6vJp47aSuXLFkyr4Xnr/y9ZwvHI1s4HtnC8cgWjke2cDwAQASc0GbuPrXVz1H4paq78zPUDOB4ZAfHIls4HtnC8cgWjkdHOldBsGmmpJ3dfWlk211mdp+kRyVtKOlCSTtHti+IzPdUeI7otgVlS0Vk4W+Mv/ds4XhkC8cjWzge2cLxyBaOBwAECDgBAAAAKHWNpFubqD+vMGNmwyUdFy5eWBJskiS5+xIz+4mkH0nayczWdPc3w82vR4pOklQu+2lSZP71MmUAAAAAAC1CwAkAAABAL+6+TNKyhHa3oYrXHc9XKPdsZH6qpELA6WlJqyT1k7S5pNvL1N88fJzt7qXjQAEAAAAAWqxf2g0AAAAA0NFWRebXqVBuXGT+/3eJ5+6LJd0fLu4dV9HMTNLHwsU7G2gjAAAAAKBJBJwAAAAAtNIMSUvC+WPMrE8vC2bWX8Vu9+YqGOsp6pfh4+5mtn3Mc3xa0rrh/K+aay4AAAAAoBEEnAAAAAC0jLsvkXRZuLiNpFvM7ANm1i+ctpB0m6QPh2UucPeVJbv5paTHJZmkG81sD0kK639a0qVhudvd/U+tfD0AAAAAgHiM4QQAAACg1U6VtIGCLvEKU2GMqMGRctdIOqu0sruvMLMDJN0taYqkP5rZYgU/oFstLPZPSYe1ovEAAAAAgOrIcAIAAADQUmGW074Kur67WdKrCrKVJOkVSTdK2t/dPxeT3VTYx4uStpD0HUlPSHJJyyU9LOlkSTu4+9wWvgwAAAAAQAVkOAEAAABoOXd3Sf8bTo3uY4Gk08IJAAAAAJAhFlz3AQAAAAAAAAAAAI2hSz0AAAAAAAAAAAA0hYATAAAAAAAAAAAAmkLACQAAAAAAAAAAAE0h4AQAAAAAAAAAAICmEHACAAAAAAAAAABAUwg4AQAAAAAAAAAAoCkEnAAAAAAAAAAAANAUAk7oGGY23MxON7PHzWyhmc0zs3+Y2UlmNijt9nUKM1vdzI4ys6vM7CkzW2Rmy8zsVTO7ycw+VcM+OFYtZGb/aWZemKqU5Vi0gJmNMLNTzewBM3sr8hm5O3y/R5Wpx/FImJntaWbXm9lLZrbUzJaY2QtmdrWZ7VqlLsejRmbWY2b7mNm3zOw34ftd+B46vcZ9jDOzH5jZzPA4vWtm95rZMWZmNdRfz8wuNrNZ4bF+y8zuMLODmn6BQAvwHdMenLtmH+eu2cD5a3Zw/tp6nLsCQOuYe8XzOSAXzGwdSfdImhKuWiypv6TB4fI/Je3h7nPb3rgOY2bLJQ2IrFoqaaWkoZF1t0s62N0Xx9TnWLWQmW0k6VFJqxXWuXvsyS7HojXMbHdJ10gaF656X8F7G71I39rdHy2px/FIUHiRd5GkL0ZWLwkfh0TWne/uJ8bU53jUwcx2k3R3mc1nuPvpVepPk3SHpNXDVQsVfI8V/t/cIekAd3+/TP19Jd0gqSdcNV/SMBV/XHWFpKOdE19kBN8x7cO5a7Zx7poNnL9mA+ev7cO5KwC0DhlOyD0zGyDpFgUnVW9I2tPdhyr4x32opAWStpZ0VVpt7DADJD0o6cuS1nP3Ie4+TNJUST8Py+wj6eLSihyr1jKzfpIuV3Ci+7cqZTkWLWBmO0r6vYKL9d9I2k7Sau4+WsGNrQ9KOkvSvJJ6HI/kHanixfr/StrQ3XvcvUfSxpJuDredUPrrdo5Hw+ZK+pOkcyV9VtLsWiqZ2UhJtyq4YJ8haTt3H67gM/MVScslfUzSBWXqT5V0vYLjc7+kjdx9pKSRkr4TFjtK0ikNvSogYXzHtB3nrhnFuWs2cP6aKUeK89d24twVAFrB3ZmYcj1JOlqSh9OHYrZ/NrJ9j7Tbm/dJ0u5Vtv8s8n6vzbFq67H5j/C9u0rS6YX3skxZjkXy73+PpOfD9+xHddbleCR/PO4O369nJQ2I2T4wcryu4Xg0/X73j1n3YvgenV6l7nfDcoslTY3Z/o1w+woFN15Kt18Zbn9D0qiY7ReH2+dJGp32e8XExHdM299vzl0zOnHumv7E+Wu2Js5f2/pec+7KxMTE1KKJDCd0gi+Ej3e7e9wv466VNCucP6I9Tepc7l4u7bzg55H5bUu2caxaJPyV1FmS3pF0Qg1VOBbJ+7ykdRX8Mu7rddbleCRvQvj4mLuvKN3o7ssVdOEjBd1XRHE86uTuK5uoXngPr3X3WTHbf6ygm5L+kg6LbjCzoZIK/dxf5O7vxdT/Xvg4QtInm2gnkBS+Y9qIc9ds4sSK6lUAABJOSURBVNw1Mzh/zRbOX9uEc1cAaB0CTsg1M+uRtGO4eHtcGXd3SX8IF/dqR7u63NLIfP/CDMeq5S5VkMJ/oru/Vakgx6JlChceN7j70oolIzgeLfNC+Lhl2MVIL2Y2UNJW4eJDkfUcjzYKx+6YHC6We78XSro3XCx9v3dScUyDcvVflPR0mfpAW/Edk0mcu6aDc9ds4Pw1Wzh/zTjOXQGgOgJOyLtNVPw7fqJCucK28WY2prVN6nq7ReYfj8xzrFrEzI6VtIekP7r7r2qowrFImJkNVvFX0Q+b2WQzu8TMXjGz981sjpndYmb7xVTneLTGReHj+pKuMbP1CxvCC8XrFfyi93lJ50fqcTzaa/PIfC3v96ZN1t+sxnYBrcJ3TPbsFpnn3LUNOHfNBs5fM4nz1+zj3BUAqiDghLybGJl/rUK56LaJZUuhKWY2SkF/xZJ0r7vPjGzmWLWAmU1SMMjpEhUHmK2GY5G8KZIGhfPrKrhAOFbSmpIWhY/7S7rVzC41M4vU5Xi0gLvfoqCLnvclHSzpWTNbbGaLFQzuu5uCi/oPuvv8SFWOR3vV+36PMLNoFzKF+nPdfUkN9TlWSBvfMRnCuWv7ce6aKVPE+WumcP6aC5y7AkAVBJyQd8Mj84srlItuG162FBpmZv0UDH45QUHXJF8pKcKxao2LJY1UMLDpC9UKhzgWyRsdmf+WpOWSPi1pmLuPlrSOpBvC7ceo91gFHI8WcfcLJB0o6c1w1RAVu7AYpKDv+5El1Tge7dXs+z08Znul+hwrpI3vmIzg3DU1nLtmB+evGcT5a+Zx7goAVRBwApCU/1HwCzhJ+jd3/1eajekGZna4pP0UDBz7w5Sb0+36lcwf7e7/Gw7sK3d/WdKhkh4Ly/xXXL/sSI6Z9ZjZdZJulfSygv7Px4bTXpKeUjBQ9oNmtkVqDQUApIVz1zbj3DVzOH/NGM5fAQCdgIAT8m5BZL6nQrnotgVlS6EhZnaeir8KPcHdL48pxrFKkJmNk3SBpJWSjnX3FXVU51gkL/r+POvuN5UWcPdVks4LF1eXNC2mLscjOedKOkTSTEk7u/td7v52ON0laRdJz0haQ9KFkXocj/Zq9v1eELO9Un2OFdLGd0wGcO7afpy7ZhLnr9nD+Wv2ce4KAFUQcELevR6Zn1ShXHTb62VLoW5mdo6kk8LFk8MuAOJwrJL1fQUXfZdImmFmw6KTiv2xK7K+sI5jkbxo/90zKpR7KjK/TvjI8UiYmQ2XdFy4eKG7Ly0tE/aZ/pNwcSczWzOc53i0V73v93x3XxhTf7SZDVF5hfocK6SN75iUce6aGs5ds4fz1wzh/DU3OHcFgCoIOCHvnpa0KpzfvEK5wrbZ7v5ua5vUPczsXEmnhItfd/cfVCjOsUrW1PDxeAW/eiqdvhEpW1h3TrjMsUhY+P5UGjS2IDrYsoePHI/kbSip0OXL8xXKPRuZL3ymOB7t9URkvpb3+6mS9fXWf7LGdgGtwndMijh3TRXnrhnD+WvmcP6aD5y7AkAVBJyQa+6+WNL94eLecWXMzCR9LFy8sx3t6gZhVyQnh4tfd/dzK5XnWGUHx6JlCu/TJhXKbBqZnyVxPFpkVWR+nbKlpHGR+QUSxyMFzygYo0Aq/34PlbRzuFj6ft8naUmV+uuo+LnkeCFVfMekh3PX/OJYtBTnr9nB+Ws+cO4KAFUQcEIn+GX4uLuZbR+z/dOS1g3nf9WeJnW28II92hVJxQv2CI5VQtx9N3e3cpOkMyJlC+u/FtkFxyJ5V4SP65vZJ0s3mlk/FW90vSbpkchmjkeyZqh4IXdM3ADXZtZfxW5L5iroK7+A49Em7u4qvoeHmtmUmGL/JmmYgnE/ri6pv0jSjeHi8WY2Mqb+qeHjAkl9xqcAUsB3TJtx7po+zl0zi/PX7OD8NQc4dwWAGrg7E1OuJwVp5/9SkN7/qqQ9wvX9FJxUzQu33ZZ2WzthUtC1hYfTCRyrbE6STi8cJ45FW9/3G8L37W1JB0kaEK6fLOm6yGfnCxyPlh+LH0Xe79slfSB8P/tJ2kLSHZHt3+Z4JPKej1YwiHVhejl8n84pWT+spN5ISW+EZZ+UNC1cP0hB10vLwm0/LfO8UyUtDMv8VdIG4fqhkr6t4BfDriCjIfX3iYmJ75i2v9+cu+ZgEueuab73nL9mZBLnr+1+vzl3ZWJiYmrBZO6FLniB/Ap/VXK3pCnhqsUKTqxWC5f/qeCEa26729ZJzGyypJfCxVWS3qpS5Tx3P69kH1PEsWo5Mztd0mlS8CvRMmWmiGORqLD7hNsk7RKuWqbgfR0dKXaGu58eU3eKOB6JCQfh/Y16d1WxLHwcHFl3jaTPu/vKkvpTxPGoi5m9qMpdwBT80t2PLKk7TcFNlNXDVQsUvNcDw+U7JR3g7ssUw8z2VXDDrCdcNU/BL0v7h8tXSDraOfFFRvAd0x6cu+YH567p4fw1Ozh/bS/OXQGgNehSDx3B3V9U8Iuf7ygYhNElLZf0sIIuAHbgpCoR/Urmx1WZhpXugGOVHRyL5HnQRcLuko5V8Gu1RQo+B69JulbSjnEX62HdF8XxSIy7L5G0r4JfdN6s4JeehRtYryjoymJ/d/9c6cV6WP9FcTzaxt0flrSZpPMVDIY9UMHn5z4Fn6d9yl2wh/VvU3C8LpX0ooIL/rmS7pJ0sLtP54IdWcJ3TNtw7tpBOBatwflrdnD+mh+cuwJAeWQ4AQAAAAAAAAAAoClkOAEAAAAAAAAAAKApBJwAAAAAAAAAAADQFAJOAAAAAAAAAAAAaAoBJwAAAAAAAAAAADSFgBMAAAAAAAAAAACaQsAJAAAAAAAAAAAATSHgBAAAAAAAAAAAgKYQcAIAAAAAAAAAAEBTCDgBAAAAAAAAAACgKQScAAAAAAAAAAAA0BQCTgAAAAAAAAAAAGgKAScAAAAAAAAAAAA0hYATAHQgM7vHzNzMPO22ZIWZTTOzleH7sm3a7UmCmV0Wvp4HzMzSbg8AAECjOH/ti/NXAACQNwScACADzGxK4QI7genItF9PRv1Ewf+9W9z9obQbk5CzJK2Q9CFJh6fcFgAA0EU4f20Lzl8BAECuEHACAHQ8MztQ0g7h4ukpNiVR7j5L0q/Cxe+a2aA02wMAAIBkcP4KAADyyNzJVgeAtJlZj6S9KhT5iKSvhvN3S/pRhbKPuPvLSbWtE5jZ45I2l/QHd98n7fYkyczWl/RsuHi8u/8szfYAAIDuwPlra3H+CgAA8mhA2g0AAEjuvljSTeW2m9moyOLL7l62LHozs48puFiXir+m7Bju/pyZPSDpw5K+ZmYXO78mAQAALcb5a+tw/goAAPKKLvUAAJ3u+PBxgaSb02xIC10dPm4kaY80GwIAAICmcf4KAAByiYATAHQgM7unMAhzme1Hlg7SbGbbmtkvzWyWmS0xs5fM7Boz27ykbn8z+5yZ/dnM3jCzpWb2jJl938xG1Ni+QWZ2tJn9zsxeCffxnpn9y8x+YGZTmnwLCs+zuqR9w8Wbwl/iliub2ntiZp8ws+vN7AUzWxzWf83MHjOzG8zsy+FrKec6BYMvS9Lnqz0fAAD/r727i5mjKgM4/n+spbalfbUIfoQKlWoU08YGqPbCSkgFDTUUolwogl6AMTZ4pYAKVhON4UajYtAYpaRK0BCiTVCQD4tWKcEEjF8FjG2T2tS2oNKCrbGPFzP1Hfbdnd19Z7vbbf+/ZDJnds6cc3Zu9nneM+8Z6Vhj/Pr/foxfJUnS2HJJPUkSEbEW+Aov/l14XbldGhGXZOa9ETGPIjlsXUf+DcB1wCURsTIz99T0dS7wQ2BRy6lZwJJyWxsR12bmt5p8L4pkfWZZfqifC4dxTyJiNvAj4OI2Q3htuS0F3gecBHy13Vgzc18U6/wvA1ZHxEsy83Dv31aSJGm8GL+2HafxqyRJGiknnCRJq4HLgD3Ad4DfA7PLzy6mSKTvjIhFwHqKxHQzRaK5CzgD+Hi5fxNFkntFu44iYgVwPzAHSOBe4D5gZ9nnCoonHOcAt0bEwcy8rcF3e1el/Ggf1w3rnnyJyWR9F7AB+AOwHzgZWExxT1b2MOZHKBL2BcB5wJY+vq8kSdI4MX6dyvhVkiSNXPheRkk69pVLZHyvPFyfmR/uUv8XwDsBMjO6tAdFMvvuzHy2pd63gavLw98C5wA3ZOaXW+qdBjwOvAb4L7AwM3e11JlHkYwuBP4BrMnMTW3Gthh4gOJJzAPAmZm5t+77dhIRW4E3Uqx///K6pyaHfU8iYgawD5gAtgPLM/PvHcZ2KnBKZv65ZvxXAbeVh5/IzK91qitJknS0Gb8av2L8KknSCcd3OEmSDgGXtyampc9TPMkJRWL609bEFKBMNL9RHs4AVrVp62qKZB3gynbJetnW08BHysO5wDW9fIlWETGLYlkQgKf6XKJjGPfkVIpkHeDHnZL1sq09dcl66U+V8tIudSVJksaZ8etUxq+SJGnknHCSJG3MzO3tTmTmTmBb5aNbatr5VaV8dpvzR14G/GRmbqwbUGY+CPytPLywrm6NhcCRp2Of6fPaYdyTF2rOTUf1jwtnDKA9SZKkY5Xx61TGr5IkaeR8h5Mkqdta6buZfEFy3TryuyvlV1RPRMQEk08t7o6INT2Ma3+5f3MPddtZUCn3m7Af9XuSmf+MiEeB5cCqiLgb+Drwy8z8T5/jhWJ5k7Z9SZIkHWeMX6cyfpUkSSPnhJMkaV+X8wd7rFut97KWcwuZ/K/ad5Rbr6abfM6qlJ/r89ph3BMoXsz8ADAfWFNuByJiC8XTpfcDm3tcTuVflfLsHupLkiSNK+PXqYxfJUnSyLmkniSp57Xh+1xHvmqie5WOZk7zumqyPL/Pa4dxT8jMx4C3ArczuUTJXOAC4CbgYeAvEfHBHpqr3uMXOtaSJEkaf8avUxm/SpKkkXPCSZI0DPsr5dszM/rZptlndRmSBR1rjVhm/jUzr6IY4wXAZ4GfMZl0nwlsiIhPd2mqyRIskiRJejHj1w6MXyVJUidOOEmShmFnpXz6kPrcweSTnsdswn5EZv47Mx/KzC9m5nuA04DrgCyr3BQRp9Q0Uf2ObV8YLUmSpJ4Zv3Zh/CpJklo54SRJOuoycy/wx/Lw7RHR7xIh0+nzEPBUebg4IsbqNy8z92fmzcBd5UezgPNqLqm+nPp3R21gkiRJJwDj1/4Zv0qSpLEKXiRJY219uZ8DXD+kPreU+3nA2UPqc9C2Vcovran3tkp5S8dakiRJ6pXx6/Rsq5SNXyVJOoE44SRJGpZbmFwq4/qI+GTdU5sRMRER10bEqgZ9/rxSXt6gnYGLiGURcWNEvKqmziuB95eHSf2Tn0cS9n3AY4MZpSRJ0gnN+LXC+FWSJHVT96SJJEkDk5kHImINsAmYD9wMfDQi7qJYrmR/+fnrKZLr84GTgA816PYe4FDZzvnAdxu0NWgTwBeAz0XEZuDXwJPAcxTr2S8BPsDk2vbfz8wd7Roq18ZfUh5uzMzD7epJkiSpd8avUxi/SpKkWk44SZKGJjMfj4jlwB3AMuAs4FM1lxwE9jbo75mIuAdYA1waEXMy8/nptjdgR16mPANYWW6d3AlcU3P+ciZ/0zc0H5okSZLA+LWF8askSarlhJMkaagyc2tEnAO8F7gMWAG8GphL8XTkduAJ4EHgJ5n5bMMuv0mRsJ9c7n/QsL2ByMxNEbEEuIjiHrwFOJ3iHQHPAzuAR4D1mflwl+auKPdbKe6bJEmSBsT4tWD8KkmSuonM7F5LkqQxFhFPAEuB+zLzolGPZ5Ai4izg6fLwY5l56yjHI0mSpOaMXyVJ0jjq+LJLSZKOI+vK/YXl06nHkxvK/XaOrTX+JUmSNH3ryr3xqyRJGhtOOEmSjnuZeTfwm/Jw3QiHMlARsQi4sjy8MTMPjXI8kiRJGgzjV0mSNI6ccJIknSjWAoeB1RFx7qgHMyCfAWZS/DHCly1LkiQdX4xfJUnSWPEdTpIkSZIkSZIkSWrE/3CSJEmSJEmSJElSI044SZIkSZIkSZIkqREnnCRJkiRJkiRJktSIE06SJEmSJEmSJElqxAknSZIkSZIkSZIkNeKEkyRJkiRJkiRJkhpxwkmSJEmSJEmSJEmNOOEkSZIkSZIkSZKkRpxwkiRJkiRJkiRJUiNOOEmSJEmSJEmSJKkRJ5wkSZIkSZIkSZLUiBNOkiRJkiRJkiRJasQJJ0mSJEmSJEmSJDXihJMkSZIkSZIkSZIaccJJkiRJkiRJkiRJjfwPRettD4fq0m4AAAAASUVORK5CYII=\n"
                },
                "metadata": {
                  "image/png": {
                    "width": 846,
                    "height": 270
                  },
                  "needs_background": "light"
                }
              }
            ]
          }
        },
        "e3b6c46ab226455fb675bee3ea7c3530": {
          "model_module": "@jupyter-widgets/base",
          "model_name": "LayoutModel",
          "model_module_version": "1.2.0",
          "state": {
            "_model_module": "@jupyter-widgets/base",
            "_model_module_version": "1.2.0",
            "_model_name": "LayoutModel",
            "_view_count": null,
            "_view_module": "@jupyter-widgets/base",
            "_view_module_version": "1.2.0",
            "_view_name": "LayoutView",
            "align_content": null,
            "align_items": null,
            "align_self": null,
            "border": null,
            "bottom": null,
            "display": null,
            "flex": null,
            "flex_flow": null,
            "grid_area": null,
            "grid_auto_columns": null,
            "grid_auto_flow": null,
            "grid_auto_rows": null,
            "grid_column": null,
            "grid_gap": null,
            "grid_row": null,
            "grid_template_areas": null,
            "grid_template_columns": null,
            "grid_template_rows": null,
            "height": null,
            "justify_content": null,
            "justify_items": null,
            "left": null,
            "margin": null,
            "max_height": null,
            "max_width": null,
            "min_height": null,
            "min_width": null,
            "object_fit": null,
            "object_position": null,
            "order": null,
            "overflow": null,
            "overflow_x": null,
            "overflow_y": null,
            "padding": null,
            "right": null,
            "top": null,
            "visibility": null,
            "width": null
          }
        },
        "b5d0ad968c2d4fb78af1d500795a8844": {
          "model_module": "@jupyter-widgets/controls",
          "model_name": "SliderStyleModel",
          "model_module_version": "1.5.0",
          "state": {
            "_model_module": "@jupyter-widgets/controls",
            "_model_module_version": "1.5.0",
            "_model_name": "SliderStyleModel",
            "_view_count": null,
            "_view_module": "@jupyter-widgets/base",
            "_view_module_version": "1.2.0",
            "_view_name": "StyleView",
            "description_width": "",
            "handle_color": null
          }
        },
        "d3a6616d3e0c430c8930f4719e0a3738": {
          "model_module": "@jupyter-widgets/controls",
          "model_name": "SliderStyleModel",
          "model_module_version": "1.5.0",
          "state": {
            "_model_module": "@jupyter-widgets/controls",
            "_model_module_version": "1.5.0",
            "_model_name": "SliderStyleModel",
            "_view_count": null,
            "_view_module": "@jupyter-widgets/base",
            "_view_module_version": "1.2.0",
            "_view_name": "StyleView",
            "description_width": "",
            "handle_color": null
          }
        },
        "46c1ac754dd64db08fe033f401e2aa7a": {
          "model_module": "@jupyter-widgets/base",
          "model_name": "LayoutModel",
          "model_module_version": "1.2.0",
          "state": {
            "_model_module": "@jupyter-widgets/base",
            "_model_module_version": "1.2.0",
            "_model_name": "LayoutModel",
            "_view_count": null,
            "_view_module": "@jupyter-widgets/base",
            "_view_module_version": "1.2.0",
            "_view_name": "LayoutView",
            "align_content": null,
            "align_items": null,
            "align_self": null,
            "border": null,
            "bottom": null,
            "display": null,
            "flex": null,
            "flex_flow": null,
            "grid_area": null,
            "grid_auto_columns": null,
            "grid_auto_flow": null,
            "grid_auto_rows": null,
            "grid_column": null,
            "grid_gap": null,
            "grid_row": null,
            "grid_template_areas": null,
            "grid_template_columns": null,
            "grid_template_rows": null,
            "height": null,
            "justify_content": null,
            "justify_items": null,
            "left": null,
            "margin": null,
            "max_height": null,
            "max_width": null,
            "min_height": null,
            "min_width": null,
            "object_fit": null,
            "object_position": null,
            "order": null,
            "overflow": null,
            "overflow_x": null,
            "overflow_y": null,
            "padding": null,
            "right": null,
            "top": null,
            "visibility": null,
            "width": null
          }
        },
        "54a7c5bdae584767b3b0191db782e500": {
          "model_module": "@jupyter-widgets/controls",
          "model_name": "VBoxModel",
          "model_module_version": "1.5.0",
          "state": {
            "_dom_classes": [
              "widget-interact"
            ],
            "_model_module": "@jupyter-widgets/controls",
            "_model_module_version": "1.5.0",
            "_model_name": "VBoxModel",
            "_view_count": null,
            "_view_module": "@jupyter-widgets/controls",
            "_view_module_version": "1.5.0",
            "_view_name": "VBoxView",
            "box_style": "",
            "children": [
              "IPY_MODEL_30b57d4df63d4cd9941885b08da459a3",
              "IPY_MODEL_3fbadc951df949a3971b41c87d091ee8"
            ],
            "layout": "IPY_MODEL_cc4b53ccb96a4d75baf3644872e42fb1"
          }
        },
        "30b57d4df63d4cd9941885b08da459a3": {
          "model_module": "@jupyter-widgets/controls",
          "model_name": "FloatSliderModel",
          "model_module_version": "1.5.0",
          "state": {
            "_dom_classes": [],
            "_model_module": "@jupyter-widgets/controls",
            "_model_module_version": "1.5.0",
            "_model_name": "FloatSliderModel",
            "_view_count": null,
            "_view_module": "@jupyter-widgets/controls",
            "_view_module_version": "1.5.0",
            "_view_name": "FloatSliderView",
            "continuous_update": true,
            "description": "sig_gwn",
            "description_tooltip": null,
            "disabled": false,
            "layout": "IPY_MODEL_bb9b7f072ab947f7b07652a4bc1c3bcb",
            "max": 6,
            "min": 0,
            "orientation": "horizontal",
            "readout": true,
            "readout_format": ".2f",
            "step": 0.5,
            "style": "IPY_MODEL_7e05207af86b42c78f9e37635bb13dd5",
            "value": 3
          }
        },
        "3fbadc951df949a3971b41c87d091ee8": {
          "model_module": "@jupyter-widgets/output",
          "model_name": "OutputModel",
          "model_module_version": "1.0.0",
          "state": {
            "_dom_classes": [],
            "_model_module": "@jupyter-widgets/output",
            "_model_module_version": "1.0.0",
            "_model_name": "OutputModel",
            "_view_count": null,
            "_view_module": "@jupyter-widgets/output",
            "_view_module_version": "1.0.0",
            "_view_name": "OutputView",
            "layout": "IPY_MODEL_0a2657d180fa4ae48ab3d147fac7995b",
            "msg_id": "",
            "outputs": [
              {
                "output_type": "display_data",
                "data": {
                  "text/plain": "<Figure size 576x432 with 1 Axes>",
                  "image/png": "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\n"
                },
                "metadata": {
                  "image/png": {
                    "width": 557,
                    "height": 414
                  },
                  "needs_background": "light"
                }
              }
            ]
          }
        },
        "cc4b53ccb96a4d75baf3644872e42fb1": {
          "model_module": "@jupyter-widgets/base",
          "model_name": "LayoutModel",
          "model_module_version": "1.2.0",
          "state": {
            "_model_module": "@jupyter-widgets/base",
            "_model_module_version": "1.2.0",
            "_model_name": "LayoutModel",
            "_view_count": null,
            "_view_module": "@jupyter-widgets/base",
            "_view_module_version": "1.2.0",
            "_view_name": "LayoutView",
            "align_content": null,
            "align_items": null,
            "align_self": null,
            "border": null,
            "bottom": null,
            "display": null,
            "flex": null,
            "flex_flow": null,
            "grid_area": null,
            "grid_auto_columns": null,
            "grid_auto_flow": null,
            "grid_auto_rows": null,
            "grid_column": null,
            "grid_gap": null,
            "grid_row": null,
            "grid_template_areas": null,
            "grid_template_columns": null,
            "grid_template_rows": null,
            "height": null,
            "justify_content": null,
            "justify_items": null,
            "left": null,
            "margin": null,
            "max_height": null,
            "max_width": null,
            "min_height": null,
            "min_width": null,
            "object_fit": null,
            "object_position": null,
            "order": null,
            "overflow": null,
            "overflow_x": null,
            "overflow_y": null,
            "padding": null,
            "right": null,
            "top": null,
            "visibility": null,
            "width": null
          }
        },
        "7e05207af86b42c78f9e37635bb13dd5": {
          "model_module": "@jupyter-widgets/controls",
          "model_name": "SliderStyleModel",
          "model_module_version": "1.5.0",
          "state": {
            "_model_module": "@jupyter-widgets/controls",
            "_model_module_version": "1.5.0",
            "_model_name": "SliderStyleModel",
            "_view_count": null,
            "_view_module": "@jupyter-widgets/base",
            "_view_module_version": "1.2.0",
            "_view_name": "StyleView",
            "description_width": "",
            "handle_color": null
          }
        },
        "0a2657d180fa4ae48ab3d147fac7995b": {
          "model_module": "@jupyter-widgets/base",
          "model_name": "LayoutModel",
          "model_module_version": "1.2.0",
          "state": {
            "_model_module": "@jupyter-widgets/base",
            "_model_module_version": "1.2.0",
            "_model_name": "LayoutModel",
            "_view_count": null,
            "_view_module": "@jupyter-widgets/base",
            "_view_module_version": "1.2.0",
            "_view_name": "LayoutView",
            "align_content": null,
            "align_items": null,
            "align_self": null,
            "border": null,
            "bottom": null,
            "display": null,
            "flex": null,
            "flex_flow": null,
            "grid_area": null,
            "grid_auto_columns": null,
            "grid_auto_flow": null,
            "grid_auto_rows": null,
            "grid_column": null,
            "grid_gap": null,
            "grid_row": null,
            "grid_template_areas": null,
            "grid_template_columns": null,
            "grid_template_rows": null,
            "height": null,
            "justify_content": null,
            "justify_items": null,
            "left": null,
            "margin": null,
            "max_height": null,
            "max_width": null,
            "min_height": null,
            "min_width": null,
            "object_fit": null,
            "object_position": null,
            "order": null,
            "overflow": null,
            "overflow_x": null,
            "overflow_y": null,
            "padding": null,
            "right": null,
            "top": null,
            "visibility": null,
            "width": null
          }
        },
        "0c75a87cb9774a6dba88cfa7d057f7bf": {
          "model_module": "@jupyter-widgets/controls",
          "model_name": "VBoxModel",
          "model_module_version": "1.5.0",
          "state": {
            "_dom_classes": [
              "widget-interact"
            ],
            "_model_module": "@jupyter-widgets/controls",
            "_model_module_version": "1.5.0",
            "_model_name": "VBoxModel",
            "_view_count": null,
            "_view_module": "@jupyter-widgets/controls",
            "_view_module_version": "1.5.0",
            "_view_name": "VBoxView",
            "box_style": "",
            "children": [
              "IPY_MODEL_f3f6f068be074ce189108d2fbd1a73b2",
              "IPY_MODEL_34d40772fd6c4d0bbce4ff56385427c1"
            ],
            "layout": "IPY_MODEL_9aff3b2176c343279f8b0712dd2e297b"
          }
        },
        "f3f6f068be074ce189108d2fbd1a73b2": {
          "model_module": "@jupyter-widgets/controls",
          "model_name": "FloatSliderModel",
          "model_module_version": "1.5.0",
          "state": {
            "_dom_classes": [],
            "_model_module": "@jupyter-widgets/controls",
            "_model_module_version": "1.5.0",
            "_model_name": "FloatSliderModel",
            "_view_count": null,
            "_view_module": "@jupyter-widgets/controls",
            "_view_module_version": "1.5.0",
            "_view_name": "FloatSliderView",
            "continuous_update": true,
            "description": "sig_gwn",
            "description_tooltip": null,
            "disabled": false,
            "layout": "IPY_MODEL_bb9b7f072ab947f7b07652a4bc1c3bcb",
            "max": 10,
            "min": 0,
            "orientation": "horizontal",
            "readout": true,
            "readout_format": ".2f",
            "step": 0.5,
            "style": "IPY_MODEL_9206ba5e146e46bf8ae48eb5b68ee3bc",
            "value": 9
          }
        },
        "34d40772fd6c4d0bbce4ff56385427c1": {
          "model_module": "@jupyter-widgets/output",
          "model_name": "OutputModel",
          "model_module_version": "1.0.0",
          "state": {
            "_dom_classes": [],
            "_model_module": "@jupyter-widgets/output",
            "_model_module_version": "1.0.0",
            "_model_name": "OutputModel",
            "_view_count": null,
            "_view_module": "@jupyter-widgets/output",
            "_view_module_version": "1.0.0",
            "_view_name": "OutputView",
            "layout": "IPY_MODEL_806271d86ad540ccb2874f8a4afd378b",
            "msg_id": "",
            "outputs": [
              {
                "output_type": "display_data",
                "data": {
                  "text/plain": "<Figure size 576x432 with 1 Axes>",
                  "image/png": "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\n"
                },
                "metadata": {
                  "image/png": {
                    "width": 558,
                    "height": 413
                  },
                  "needs_background": "light"
                }
              }
            ]
          }
        },
        "9aff3b2176c343279f8b0712dd2e297b": {
          "model_module": "@jupyter-widgets/base",
          "model_name": "LayoutModel",
          "model_module_version": "1.2.0",
          "state": {
            "_model_module": "@jupyter-widgets/base",
            "_model_module_version": "1.2.0",
            "_model_name": "LayoutModel",
            "_view_count": null,
            "_view_module": "@jupyter-widgets/base",
            "_view_module_version": "1.2.0",
            "_view_name": "LayoutView",
            "align_content": null,
            "align_items": null,
            "align_self": null,
            "border": null,
            "bottom": null,
            "display": null,
            "flex": null,
            "flex_flow": null,
            "grid_area": null,
            "grid_auto_columns": null,
            "grid_auto_flow": null,
            "grid_auto_rows": null,
            "grid_column": null,
            "grid_gap": null,
            "grid_row": null,
            "grid_template_areas": null,
            "grid_template_columns": null,
            "grid_template_rows": null,
            "height": null,
            "justify_content": null,
            "justify_items": null,
            "left": null,
            "margin": null,
            "max_height": null,
            "max_width": null,
            "min_height": null,
            "min_width": null,
            "object_fit": null,
            "object_position": null,
            "order": null,
            "overflow": null,
            "overflow_x": null,
            "overflow_y": null,
            "padding": null,
            "right": null,
            "top": null,
            "visibility": null,
            "width": null
          }
        },
        "9206ba5e146e46bf8ae48eb5b68ee3bc": {
          "model_module": "@jupyter-widgets/controls",
          "model_name": "SliderStyleModel",
          "model_module_version": "1.5.0",
          "state": {
            "_model_module": "@jupyter-widgets/controls",
            "_model_module_version": "1.5.0",
            "_model_name": "SliderStyleModel",
            "_view_count": null,
            "_view_module": "@jupyter-widgets/base",
            "_view_module_version": "1.2.0",
            "_view_name": "StyleView",
            "description_width": "",
            "handle_color": null
          }
        },
        "806271d86ad540ccb2874f8a4afd378b": {
          "model_module": "@jupyter-widgets/base",
          "model_name": "LayoutModel",
          "model_module_version": "1.2.0",
          "state": {
            "_model_module": "@jupyter-widgets/base",
            "_model_module_version": "1.2.0",
            "_model_name": "LayoutModel",
            "_view_count": null,
            "_view_module": "@jupyter-widgets/base",
            "_view_module_version": "1.2.0",
            "_view_name": "LayoutView",
            "align_content": null,
            "align_items": null,
            "align_self": null,
            "border": null,
            "bottom": null,
            "display": null,
            "flex": null,
            "flex_flow": null,
            "grid_area": null,
            "grid_auto_columns": null,
            "grid_auto_flow": null,
            "grid_auto_rows": null,
            "grid_column": null,
            "grid_gap": null,
            "grid_row": null,
            "grid_template_areas": null,
            "grid_template_columns": null,
            "grid_template_rows": null,
            "height": null,
            "justify_content": null,
            "justify_items": null,
            "left": null,
            "margin": null,
            "max_height": null,
            "max_width": null,
            "min_height": null,
            "min_width": null,
            "object_fit": null,
            "object_position": null,
            "order": null,
            "overflow": null,
            "overflow_x": null,
            "overflow_y": null,
            "padding": null,
            "right": null,
            "top": null,
            "visibility": null,
            "width": null
          }
        },
        "4ac955cc76ce46d78800c7d767ecaa0d": {
          "model_module": "@jupyter-widgets/controls",
          "model_name": "VBoxModel",
          "model_module_version": "1.5.0",
          "state": {
            "_dom_classes": [
              "widget-interact"
            ],
            "_model_module": "@jupyter-widgets/controls",
            "_model_module_version": "1.5.0",
            "_model_name": "VBoxModel",
            "_view_count": null,
            "_view_module": "@jupyter-widgets/controls",
            "_view_module_version": "1.5.0",
            "_view_name": "VBoxView",
            "box_style": "",
            "children": [
              "IPY_MODEL_be5c6d281d9048fab2672efcb7133f20",
              "IPY_MODEL_d0d1b2787eef410c809effff6d7b226a",
              "IPY_MODEL_5883cf3e05d64e3d80685331f9158795",
              "IPY_MODEL_eb952c1725de47e597d3e1228f954d9e"
            ],
            "layout": "IPY_MODEL_b94c5427d56a4f3b9869c12414bbe773"
          }
        },
        "be5c6d281d9048fab2672efcb7133f20": {
          "model_module": "@jupyter-widgets/controls",
          "model_name": "FloatSliderModel",
          "model_module_version": "1.5.0",
          "state": {
            "_dom_classes": [],
            "_model_module": "@jupyter-widgets/controls",
            "_model_module_version": "1.5.0",
            "_model_name": "FloatSliderModel",
            "_view_count": null,
            "_view_module": "@jupyter-widgets/controls",
            "_view_module_version": "1.5.0",
            "_view_name": "FloatSliderView",
            "continuous_update": true,
            "description": "tau_ou",
            "description_tooltip": null,
            "disabled": false,
            "layout": "IPY_MODEL_bb9b7f072ab947f7b07652a4bc1c3bcb",
            "max": 20,
            "min": 5,
            "orientation": "horizontal",
            "readout": true,
            "readout_format": ".2f",
            "step": 2.5,
            "style": "IPY_MODEL_453b5729c57840a482a54962b590352a",
            "value": 5
          }
        },
        "d0d1b2787eef410c809effff6d7b226a": {
          "model_module": "@jupyter-widgets/controls",
          "model_name": "FloatSliderModel",
          "model_module_version": "1.5.0",
          "state": {
            "_dom_classes": [],
            "_model_module": "@jupyter-widgets/controls",
            "_model_module_version": "1.5.0",
            "_model_name": "FloatSliderModel",
            "_view_count": null,
            "_view_module": "@jupyter-widgets/controls",
            "_view_module_version": "1.5.0",
            "_view_name": "FloatSliderView",
            "continuous_update": true,
            "description": "sig_ou",
            "description_tooltip": null,
            "disabled": false,
            "layout": "IPY_MODEL_bb9b7f072ab947f7b07652a4bc1c3bcb",
            "max": 40,
            "min": 5,
            "orientation": "horizontal",
            "readout": true,
            "readout_format": ".2f",
            "step": 2.5,
            "style": "IPY_MODEL_92508a9bd6494e1bb31133b28fc8e314",
            "value": 30
          }
        },
        "5883cf3e05d64e3d80685331f9158795": {
          "model_module": "@jupyter-widgets/controls",
          "model_name": "FloatSliderModel",
          "model_module_version": "1.5.0",
          "state": {
            "_dom_classes": [],
            "_model_module": "@jupyter-widgets/controls",
            "_model_module_version": "1.5.0",
            "_model_name": "FloatSliderModel",
            "_view_count": null,
            "_view_module": "@jupyter-widgets/controls",
            "_view_module_version": "1.5.0",
            "_view_name": "FloatSliderView",
            "continuous_update": true,
            "description": "mu_ou",
            "description_tooltip": null,
            "disabled": false,
            "layout": "IPY_MODEL_bb9b7f072ab947f7b07652a4bc1c3bcb",
            "max": 220,
            "min": 180,
            "orientation": "horizontal",
            "readout": true,
            "readout_format": ".2f",
            "step": 2.5,
            "style": "IPY_MODEL_27f1c43125fd454db0d888da87c2e7b5",
            "value": 202.5
          }
        },
        "eb952c1725de47e597d3e1228f954d9e": {
          "model_module": "@jupyter-widgets/output",
          "model_name": "OutputModel",
          "model_module_version": "1.0.0",
          "state": {
            "_dom_classes": [],
            "_model_module": "@jupyter-widgets/output",
            "_model_module_version": "1.0.0",
            "_model_name": "OutputModel",
            "_view_count": null,
            "_view_module": "@jupyter-widgets/output",
            "_view_module_version": "1.0.0",
            "_view_name": "OutputView",
            "layout": "IPY_MODEL_4a9db911a3d14582888255d11567cfea",
            "msg_id": "",
            "outputs": [
              {
                "output_type": "display_data",
                "data": {
                  "text/plain": "<Figure size 864x288 with 2 Axes>",
                  "image/png": "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\n"
                },
                "metadata": {
                  "image/png": {
                    "width": 846,
                    "height": 270
                  },
                  "needs_background": "light"
                }
              }
            ]
          }
        },
        "b94c5427d56a4f3b9869c12414bbe773": {
          "model_module": "@jupyter-widgets/base",
          "model_name": "LayoutModel",
          "model_module_version": "1.2.0",
          "state": {
            "_model_module": "@jupyter-widgets/base",
            "_model_module_version": "1.2.0",
            "_model_name": "LayoutModel",
            "_view_count": null,
            "_view_module": "@jupyter-widgets/base",
            "_view_module_version": "1.2.0",
            "_view_name": "LayoutView",
            "align_content": null,
            "align_items": null,
            "align_self": null,
            "border": null,
            "bottom": null,
            "display": null,
            "flex": null,
            "flex_flow": null,
            "grid_area": null,
            "grid_auto_columns": null,
            "grid_auto_flow": null,
            "grid_auto_rows": null,
            "grid_column": null,
            "grid_gap": null,
            "grid_row": null,
            "grid_template_areas": null,
            "grid_template_columns": null,
            "grid_template_rows": null,
            "height": null,
            "justify_content": null,
            "justify_items": null,
            "left": null,
            "margin": null,
            "max_height": null,
            "max_width": null,
            "min_height": null,
            "min_width": null,
            "object_fit": null,
            "object_position": null,
            "order": null,
            "overflow": null,
            "overflow_x": null,
            "overflow_y": null,
            "padding": null,
            "right": null,
            "top": null,
            "visibility": null,
            "width": null
          }
        },
        "453b5729c57840a482a54962b590352a": {
          "model_module": "@jupyter-widgets/controls",
          "model_name": "SliderStyleModel",
          "model_module_version": "1.5.0",
          "state": {
            "_model_module": "@jupyter-widgets/controls",
            "_model_module_version": "1.5.0",
            "_model_name": "SliderStyleModel",
            "_view_count": null,
            "_view_module": "@jupyter-widgets/base",
            "_view_module_version": "1.2.0",
            "_view_name": "StyleView",
            "description_width": "",
            "handle_color": null
          }
        },
        "92508a9bd6494e1bb31133b28fc8e314": {
          "model_module": "@jupyter-widgets/controls",
          "model_name": "SliderStyleModel",
          "model_module_version": "1.5.0",
          "state": {
            "_model_module": "@jupyter-widgets/controls",
            "_model_module_version": "1.5.0",
            "_model_name": "SliderStyleModel",
            "_view_count": null,
            "_view_module": "@jupyter-widgets/base",
            "_view_module_version": "1.2.0",
            "_view_name": "StyleView",
            "description_width": "",
            "handle_color": null
          }
        },
        "27f1c43125fd454db0d888da87c2e7b5": {
          "model_module": "@jupyter-widgets/controls",
          "model_name": "SliderStyleModel",
          "model_module_version": "1.5.0",
          "state": {
            "_model_module": "@jupyter-widgets/controls",
            "_model_module_version": "1.5.0",
            "_model_name": "SliderStyleModel",
            "_view_count": null,
            "_view_module": "@jupyter-widgets/base",
            "_view_module_version": "1.2.0",
            "_view_name": "StyleView",
            "description_width": "",
            "handle_color": null
          }
        },
        "4a9db911a3d14582888255d11567cfea": {
          "model_module": "@jupyter-widgets/base",
          "model_name": "LayoutModel",
          "model_module_version": "1.2.0",
          "state": {
            "_model_module": "@jupyter-widgets/base",
            "_model_module_version": "1.2.0",
            "_model_name": "LayoutModel",
            "_view_count": null,
            "_view_module": "@jupyter-widgets/base",
            "_view_module_version": "1.2.0",
            "_view_name": "LayoutView",
            "align_content": null,
            "align_items": null,
            "align_self": null,
            "border": null,
            "bottom": null,
            "display": null,
            "flex": null,
            "flex_flow": null,
            "grid_area": null,
            "grid_auto_columns": null,
            "grid_auto_flow": null,
            "grid_auto_rows": null,
            "grid_column": null,
            "grid_gap": null,
            "grid_row": null,
            "grid_template_areas": null,
            "grid_template_columns": null,
            "grid_template_rows": null,
            "height": null,
            "justify_content": null,
            "justify_items": null,
            "left": null,
            "margin": null,
            "max_height": null,
            "max_width": null,
            "min_height": null,
            "min_width": null,
            "object_fit": null,
            "object_position": null,
            "order": null,
            "overflow": null,
            "overflow_x": null,
            "overflow_y": null,
            "padding": null,
            "right": null,
            "top": null,
            "visibility": null,
            "width": null
          }
        },
        "5b96b76cdc624205a89d101ccbfedee0": {
          "model_module": "@jupyter-widgets/controls",
          "model_name": "TabModel",
          "model_module_version": "1.5.0",
          "state": {
            "_dom_classes": [],
            "_model_module": "@jupyter-widgets/controls",
            "_model_module_version": "1.5.0",
            "_model_name": "TabModel",
            "_titles": {
              "0": "Youtube",
              "1": "Bilibili"
            },
            "_view_count": null,
            "_view_module": "@jupyter-widgets/controls",
            "_view_module_version": "1.5.0",
            "_view_name": "TabView",
            "box_style": "",
            "children": [
              "IPY_MODEL_7067dcb0776c40f482abfb5da9d2d881",
              "IPY_MODEL_33e39b4baada40aba06bff2139d5570c"
            ],
            "layout": "IPY_MODEL_7cc7b06c47f04374883a970a31d6bd7f",
            "selected_index": 0
          }
        },
        "7067dcb0776c40f482abfb5da9d2d881": {
          "model_module": "@jupyter-widgets/output",
          "model_name": "OutputModel",
          "model_module_version": "1.0.0",
          "state": {
            "_dom_classes": [],
            "_model_module": "@jupyter-widgets/output",
            "_model_module_version": "1.0.0",
            "_model_name": "OutputModel",
            "_view_count": null,
            "_view_module": "@jupyter-widgets/output",
            "_view_module_version": "1.0.0",
            "_view_name": "OutputView",
            "layout": "IPY_MODEL_776837cd275c45758be0b77f60b91554",
            "msg_id": "",
            "outputs": [
              {
                "output_type": "stream",
                "name": "stdout",
                "text": [
                  "Video available at https://youtube.com/watch?v=G0b6wLhuQxE\n"
                ]
              },
              {
                "output_type": "display_data",
                "data": {
                  "text/plain": "<IPython.lib.display.YouTubeVideo at 0x7f95ea9d3410>",
                  "text/html": "\n        <iframe\n            width=\"854\"\n            height=\"480\"\n            src=\"https://www.youtube.com/embed/G0b6wLhuQxE?fs=1&rel=0\"\n            frameborder=\"0\"\n            allowfullscreen\n        ></iframe>\n        ",
                  "image/jpeg": "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\n"
                },
                "metadata": {}
              }
            ]
          }
        },
        "33e39b4baada40aba06bff2139d5570c": {
          "model_module": "@jupyter-widgets/output",
          "model_name": "OutputModel",
          "model_module_version": "1.0.0",
          "state": {
            "_dom_classes": [],
            "_model_module": "@jupyter-widgets/output",
            "_model_module_version": "1.0.0",
            "_model_name": "OutputModel",
            "_view_count": null,
            "_view_module": "@jupyter-widgets/output",
            "_view_module_version": "1.0.0",
            "_view_name": "OutputView",
            "layout": "IPY_MODEL_bef8f55bffde478e9e94c34525072701",
            "msg_id": "",
            "outputs": [
              {
                "output_type": "stream",
                "name": "stdout",
                "text": [
                  "Video available at https://www.bilibili.com/video/\n"
                ]
              },
              {
                "output_type": "display_data",
                "data": {
                  "text/plain": "<__main__.BiliVideo at 0x7f95ea7c1ad0>",
                  "text/html": "\n        <iframe\n            width=\"854\"\n            height=\"480\"\n            src=\"https://player.bilibili.com/player.html?bvid=&page=1?fs=1\"\n            frameborder=\"0\"\n            allowfullscreen\n        ></iframe>\n        "
                },
                "metadata": {}
              }
            ]
          }
        },
        "7cc7b06c47f04374883a970a31d6bd7f": {
          "model_module": "@jupyter-widgets/base",
          "model_name": "LayoutModel",
          "model_module_version": "1.2.0",
          "state": {
            "_model_module": "@jupyter-widgets/base",
            "_model_module_version": "1.2.0",
            "_model_name": "LayoutModel",
            "_view_count": null,
            "_view_module": "@jupyter-widgets/base",
            "_view_module_version": "1.2.0",
            "_view_name": "LayoutView",
            "align_content": null,
            "align_items": null,
            "align_self": null,
            "border": null,
            "bottom": null,
            "display": null,
            "flex": null,
            "flex_flow": null,
            "grid_area": null,
            "grid_auto_columns": null,
            "grid_auto_flow": null,
            "grid_auto_rows": null,
            "grid_column": null,
            "grid_gap": null,
            "grid_row": null,
            "grid_template_areas": null,
            "grid_template_columns": null,
            "grid_template_rows": null,
            "height": null,
            "justify_content": null,
            "justify_items": null,
            "left": null,
            "margin": null,
            "max_height": null,
            "max_width": null,
            "min_height": null,
            "min_width": null,
            "object_fit": null,
            "object_position": null,
            "order": null,
            "overflow": null,
            "overflow_x": null,
            "overflow_y": null,
            "padding": null,
            "right": null,
            "top": null,
            "visibility": null,
            "width": null
          }
        },
        "776837cd275c45758be0b77f60b91554": {
          "model_module": "@jupyter-widgets/base",
          "model_name": "LayoutModel",
          "model_module_version": "1.2.0",
          "state": {
            "_model_module": "@jupyter-widgets/base",
            "_model_module_version": "1.2.0",
            "_model_name": "LayoutModel",
            "_view_count": null,
            "_view_module": "@jupyter-widgets/base",
            "_view_module_version": "1.2.0",
            "_view_name": "LayoutView",
            "align_content": null,
            "align_items": null,
            "align_self": null,
            "border": null,
            "bottom": null,
            "display": null,
            "flex": null,
            "flex_flow": null,
            "grid_area": null,
            "grid_auto_columns": null,
            "grid_auto_flow": null,
            "grid_auto_rows": null,
            "grid_column": null,
            "grid_gap": null,
            "grid_row": null,
            "grid_template_areas": null,
            "grid_template_columns": null,
            "grid_template_rows": null,
            "height": null,
            "justify_content": null,
            "justify_items": null,
            "left": null,
            "margin": null,
            "max_height": null,
            "max_width": null,
            "min_height": null,
            "min_width": null,
            "object_fit": null,
            "object_position": null,
            "order": null,
            "overflow": null,
            "overflow_x": null,
            "overflow_y": null,
            "padding": null,
            "right": null,
            "top": null,
            "visibility": null,
            "width": null
          }
        },
        "bef8f55bffde478e9e94c34525072701": {
          "model_module": "@jupyter-widgets/base",
          "model_name": "LayoutModel",
          "model_module_version": "1.2.0",
          "state": {
            "_model_module": "@jupyter-widgets/base",
            "_model_module_version": "1.2.0",
            "_model_name": "LayoutModel",
            "_view_count": null,
            "_view_module": "@jupyter-widgets/base",
            "_view_module_version": "1.2.0",
            "_view_name": "LayoutView",
            "align_content": null,
            "align_items": null,
            "align_self": null,
            "border": null,
            "bottom": null,
            "display": null,
            "flex": null,
            "flex_flow": null,
            "grid_area": null,
            "grid_auto_columns": null,
            "grid_auto_flow": null,
            "grid_auto_rows": null,
            "grid_column": null,
            "grid_gap": null,
            "grid_row": null,
            "grid_template_areas": null,
            "grid_template_columns": null,
            "grid_template_rows": null,
            "height": null,
            "justify_content": null,
            "justify_items": null,
            "left": null,
            "margin": null,
            "max_height": null,
            "max_width": null,
            "min_height": null,
            "min_width": null,
            "object_fit": null,
            "object_position": null,
            "order": null,
            "overflow": null,
            "overflow_x": null,
            "overflow_y": null,
            "padding": null,
            "right": null,
            "top": null,
            "visibility": null,
            "width": null
          }
        }
      }
    }
  },
  "nbformat": 4,
  "nbformat_minor": 0
}