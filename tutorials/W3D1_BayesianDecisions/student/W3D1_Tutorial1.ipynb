{
  "cells": [
    {
      "cell_type": "markdown",
      "metadata": {
        "id": "view-in-github",
        "colab_type": "text"
      },
      "source": [
        "<a href=\"https://colab.research.google.com/github/dcymuller/crcns-student/blob/master/tutorials/W3D1_BayesianDecisions/student/W3D1_Tutorial1.ipynb\" target=\"_parent\"><img src=\"https://colab.research.google.com/assets/colab-badge.svg\" alt=\"Open In Colab\"/></a>"
      ]
    },
    {
      "cell_type": "markdown",
      "metadata": {
        "execution": {},
        "id": "_UurtHlgVaxd"
      },
      "source": [
        "# Tutorial 1: Bayes with a binary hidden state\n",
        "**Week 3, Day 1: Bayesian Decisions**\n",
        "\n",
        "**By Neuromatch Academy**\n",
        "\n",
        "__Content creators:__ Eric DeWitt, Xaq Pitkow, Ella Batty, Saeed Salehi\n",
        "\n",
        "__Content reviewers:__ Hyosub Kim, Zahra Arjmandi, Anoop Kulkarni\n",
        "\n",
        "__Production editor:__ Ella Batty\n",
        "\n",
        "__Post-Production team:__ Gagana B, Spiros Chavlis"
      ]
    },
    {
      "cell_type": "markdown",
      "metadata": {
        "execution": {},
        "id": "UscNtKTYVaxl"
      },
      "source": [
        "<p align='center'><img src='https://github.com/NeuromatchAcademy/widgets/blob/master/sponsors.png?raw=True'/></p>"
      ]
    },
    {
      "cell_type": "markdown",
      "metadata": {
        "execution": {},
        "id": "QQmGbVRKVaxl"
      },
      "source": [
        "# Tutorial Objectives\n",
        "\n",
        "*Estimated timing of tutorial: 1 hour, 30 minutes*\n",
        "\n",
        "This is the first of two core tutorials on Bayesian statistics. In these tutorials, we will explore the fundamental concepts of the Bayesian approach. In this tutorial you will work through an example of Bayesian inference and decision making using a binary hidden state. The second tutorial extends these concepts to a continuous hidden state. In the related NMA days, each of these basic ideas will be extended. In Hidden Dynamics, we consider these ideas through time as you explore what happens when we infer a hidden state using repeated observations and when the hidden state changes across time. On the Optimal Control day, we will introduce the notion of how to use inference and decisions to select actions for optimal control.\n",
        "\n",
        "This notebook will introduce the fundamental building blocks for Bayesian statistics: \n",
        "\n",
        "1. How do we combine the possible loss (or gain) for making a decision with our probabilistic knowledge?\n",
        "2. How do we use probability distributions to represent hidden states?\n",
        "3. How does marginalization work and how can we use it?\n",
        "4. How do we combine new information with our prior knowledge? "
      ]
    },
    {
      "cell_type": "code",
      "execution_count": null,
      "metadata": {
        "cellView": "form",
        "execution": {},
        "id": "mR7c6IVFVaxo"
      },
      "outputs": [],
      "source": [
        "# @title Tutorial slides\n",
        "\n",
        "# @markdown These are the slides for the videos in this tutorial\n",
        "from IPython.display import IFrame\n",
        "IFrame(src=f\"https://mfr.ca-1.osf.io/render?url=https://osf.io/dx7jt/?direct%26mode=render%26action=download%26mode=render\", width=854, height=480)"
      ]
    },
    {
      "cell_type": "code",
      "execution_count": 1,
      "metadata": {
        "cellView": "form",
        "execution": {},
        "id": "ruv9EzdNVaxr",
        "outputId": "7b3c0a67-7514-43b5-e6f1-a52ea0680752",
        "colab": {
          "base_uri": "https://localhost:8080/",
          "height": 580,
          "referenced_widgets": [
            "44f1484554e2413196b4eda864f633df",
            "ecf9d6eef03e4f028e08398820dc46ea",
            "b9fb0dac79fe44f5b58060d78312590a",
            "2f8075db0161496eaba43d56e1355ccb",
            "3f83375a83954fb0af0635323704a642",
            "b3bb344e69184afe9c78f203ca036625"
          ]
        }
      },
      "outputs": [
        {
          "output_type": "display_data",
          "data": {
            "text/plain": [
              "Tab(children=(Output(), Output()), _titles={'0': 'Youtube', '1': 'Bilibili'})"
            ],
            "application/vnd.jupyter.widget-view+json": {
              "version_major": 2,
              "version_minor": 0,
              "model_id": "44f1484554e2413196b4eda864f633df"
            }
          },
          "metadata": {}
        }
      ],
      "source": [
        "# @title Video 1: Introduction to Bayesian Statistics and Decisions\n",
        "from ipywidgets import widgets\n",
        "\n",
        "out2 = widgets.Output()\n",
        "with out2:\n",
        "  from IPython.display import IFrame\n",
        "  class BiliVideo(IFrame):\n",
        "      def __init__(self, id, page=1, width=400, height=300, **kwargs):\n",
        "          self.id=id\n",
        "          src = 'https://player.bilibili.com/player.html?bvid={0}&page={1}'.format(id, page)\n",
        "          super(BiliVideo, self).__init__(src, width, height, **kwargs)\n",
        "\n",
        "  video = BiliVideo(id=\"BV1Ch41167jN\", width=854, height=480, fs=1)\n",
        "  print('Video available at https://www.bilibili.com/video/{0}'.format(video.id))\n",
        "  display(video)\n",
        "\n",
        "out1 = widgets.Output()\n",
        "with out1:\n",
        "  from IPython.display import YouTubeVideo\n",
        "  video = YouTubeVideo(id=\"Hcx2_JTpf2M\", width=854, height=480, fs=1, rel=0)\n",
        "  print('Video available at https://youtube.com/watch?v=' + video.id)\n",
        "  display(video)\n",
        "\n",
        "out = widgets.Tab([out1, out2])\n",
        "out.set_title(0, 'Youtube')\n",
        "out.set_title(1, 'Bilibili')\n",
        "\n",
        "display(out)"
      ]
    },
    {
      "cell_type": "markdown",
      "metadata": {
        "execution": {},
        "id": "gzeD1_25Vaxv"
      },
      "source": [
        "# Setup  \n"
      ]
    },
    {
      "cell_type": "code",
      "execution_count": 2,
      "metadata": {
        "execution": {},
        "id": "ZWy3c3DwVaxv"
      },
      "outputs": [],
      "source": [
        "# Imports\n",
        "import numpy as np\n",
        "import matplotlib.pyplot as plt\n",
        "from matplotlib import patches, transforms, gridspec\n",
        "from scipy.optimize import fsolve\n",
        "from collections import namedtuple"
      ]
    },
    {
      "cell_type": "code",
      "execution_count": 3,
      "metadata": {
        "cellView": "form",
        "execution": {},
        "id": "HVw-KPFyVaxw"
      },
      "outputs": [],
      "source": [
        "#@title Figure Settings\n",
        "import ipywidgets as widgets       # interactive display\n",
        "from ipywidgets import GridspecLayout, HBox, VBox, FloatSlider, Layout, ToggleButtons\n",
        "from ipywidgets import interactive, interactive_output, Checkbox, Select\n",
        "from IPython.display import clear_output\n",
        "%config InlineBackend.figure_format = 'retina'\n",
        "plt.style.use(\"https://raw.githubusercontent.com/NeuromatchAcademy/course-content/main/nma.mplstyle\")\n",
        "\n",
        "import warnings\n",
        "warnings.filterwarnings(\"ignore\")"
      ]
    },
    {
      "cell_type": "code",
      "execution_count": 4,
      "metadata": {
        "cellView": "form",
        "execution": {},
        "id": "OADvCI0WVaxy"
      },
      "outputs": [],
      "source": [
        "# @title Plotting Functions\n",
        "\n",
        "def plot_joint_probs(P, ):\n",
        "    assert np.all(P >= 0), \"probabilities should be >= 0\"\n",
        "    # normalize if not\n",
        "    P = P / np.sum(P)\n",
        "    marginal_y = np.sum(P,axis=1)\n",
        "    marginal_x = np.sum(P,axis=0)\n",
        "\n",
        "    # definitions for the axes\n",
        "    left, width = 0.1, 0.65\n",
        "    bottom, height = 0.1, 0.65\n",
        "    spacing = 0.005\n",
        "\n",
        "    # start with a square Figure\n",
        "    fig = plt.figure(figsize=(5, 5))\n",
        "\n",
        "    joint_prob = [left, bottom, width, height]\n",
        "    rect_histx = [left, bottom + height + spacing, width, 0.2]\n",
        "    rect_histy = [left + width + spacing, bottom, 0.2, height]\n",
        "\n",
        "    rect_x_cmap = plt.cm.Blues\n",
        "    rect_y_cmap = plt.cm.Reds\n",
        "\n",
        "    # Show joint probs and marginals\n",
        "    ax = fig.add_axes(joint_prob)\n",
        "    ax_x = fig.add_axes(rect_histx, sharex=ax)\n",
        "    ax_y = fig.add_axes(rect_histy, sharey=ax)\n",
        "\n",
        "    # Show joint probs and marginals\n",
        "    ax.matshow(P,vmin=0., vmax=1., cmap='Greys')\n",
        "    ax_x.bar(0, marginal_x[0], facecolor=rect_x_cmap(marginal_x[0]))\n",
        "    ax_x.bar(1, marginal_x[1], facecolor=rect_x_cmap(marginal_x[1]))\n",
        "    ax_y.barh(0, marginal_y[0], facecolor=rect_y_cmap(marginal_y[0]))\n",
        "    ax_y.barh(1, marginal_y[1], facecolor=rect_y_cmap(marginal_y[1]))\n",
        "    # set limits\n",
        "    ax_x.set_ylim([0,1])\n",
        "    ax_y.set_xlim([0,1])\n",
        "\n",
        "    # show values\n",
        "    ind = np.arange(2)\n",
        "    x,y = np.meshgrid(ind,ind)\n",
        "    for i,j in zip(x.flatten(), y.flatten()):\n",
        "        c = f\"{P[i,j]:.2f}\"\n",
        "        ax.text(j,i, c, va='center', ha='center', color='black')\n",
        "    for i in ind:\n",
        "        v = marginal_x[i]\n",
        "        c = f\"{v:.2f}\"\n",
        "        ax_x.text(i, v +0.1, c, va='center', ha='center', color='black')\n",
        "        v = marginal_y[i]\n",
        "        c = f\"{v:.2f}\"\n",
        "        ax_y.text(v+0.2, i, c, va='center', ha='center', color='black')\n",
        "\n",
        "    # set up labels\n",
        "    ax.xaxis.tick_bottom()\n",
        "    ax.yaxis.tick_left()\n",
        "    ax.set_xticks([0,1])\n",
        "    ax.set_yticks([0,1])\n",
        "    ax.set_xticklabels(['Silver','Gold'])\n",
        "    ax.set_yticklabels(['Small', 'Large'])\n",
        "    ax.set_xlabel('color')\n",
        "    ax.set_ylabel('size')\n",
        "    ax_x.axis('off')\n",
        "    ax_y.axis('off')\n",
        "    return fig\n",
        "\n",
        "\n",
        "def plot_prior_likelihood_posterior(prior, likelihood, posterior):\n",
        "\n",
        "    # definitions for the axes\n",
        "    left, width = 0.05, 0.3\n",
        "    bottom, height = 0.05, 0.9\n",
        "    padding = 0.12\n",
        "    small_width = 0.1\n",
        "    left_space = left + small_width + padding\n",
        "    added_space = padding + width\n",
        "\n",
        "    fig = plt.figure(figsize=(12, 4))\n",
        "\n",
        "    rect_prior = [left, bottom, small_width, height]\n",
        "    rect_likelihood = [left_space , bottom , width, height]\n",
        "    rect_posterior = [left_space +  added_space, bottom , width, height]\n",
        "\n",
        "    ax_prior = fig.add_axes(rect_prior)\n",
        "    ax_likelihood = fig.add_axes(rect_likelihood, sharey=ax_prior)\n",
        "    ax_posterior = fig.add_axes(rect_posterior, sharey = ax_prior)\n",
        "\n",
        "    rect_colormap = plt.cm.Blues\n",
        "\n",
        "    # Show posterior probs and marginals\n",
        "    ax_prior.barh(0, prior[0], facecolor = rect_colormap(prior[0, 0]))\n",
        "    ax_prior.barh(1, prior[1], facecolor = rect_colormap(prior[1, 0]))\n",
        "    ax_likelihood.matshow(likelihood, vmin=0., vmax=1., cmap='Reds')\n",
        "    ax_posterior.matshow(posterior, vmin=0., vmax=1., cmap='Greens')\n",
        "\n",
        "\n",
        "    # Probabilities plot details\n",
        "    # ax_prior.set(xlim = [1, 0], yticks = [0, 1], yticklabels = ['left', 'right'],\n",
        "    #              ylabel = 'state (s)', title = \"Prior p(s)\")\n",
        "    ax_prior.set(xlim = [1, 0], xticks = [], yticks = [0, 1], yticklabels = ['left', 'right'],\n",
        "                 title = \"Prior p(s)\")\n",
        "    ax_prior.yaxis.tick_right()\n",
        "    ax_prior.spines['left'].set_visible(False)\n",
        "    ax_prior.spines['bottom'].set_visible(False)\n",
        "\n",
        "    # Likelihood plot details\n",
        "    ax_likelihood.set(xticks = [0, 1], xticklabels = ['fish', 'no fish'],\n",
        "                  yticks = [0, 1], yticklabels = ['left', 'right'],\n",
        "                   ylabel = 'state (s)', xlabel = 'measurement (m)',\n",
        "                   title = 'Likelihood p(m (left) | s)')\n",
        "    ax_likelihood.xaxis.set_ticks_position('bottom')\n",
        "    ax_likelihood.spines['left'].set_visible(False)\n",
        "    ax_likelihood.spines['bottom'].set_visible(False)\n",
        "\n",
        "    # Posterior plot details\n",
        "\n",
        "    ax_posterior.set(xticks = [0, 1], xticklabels = ['fish', 'no fish'],\n",
        "                  yticks = [0, 1], yticklabels = ['left', 'right'],\n",
        "                   ylabel = 'state (s)', xlabel = 'measurement (m)',\n",
        "                   title = 'Posterior p(s | m)')\n",
        "    ax_posterior.xaxis.set_ticks_position('bottom')\n",
        "    ax_posterior.spines['left'].set_visible(False)\n",
        "    ax_posterior.spines['bottom'].set_visible(False)\n",
        "\n",
        "\n",
        "    # show values\n",
        "    ind = np.arange(2)\n",
        "    x,y = np.meshgrid(ind,ind)\n",
        "    for i,j in zip(x.flatten(), y.flatten()):\n",
        "        c = f\"{posterior[i,j]:.2f}\"\n",
        "        ax_posterior.text(j,i, c, va='center', ha='center', color='black')\n",
        "    for i,j in zip(x.flatten(), y.flatten()):\n",
        "        c = f\"{likelihood[i,j]:.2f}\"\n",
        "        ax_likelihood.text(j,i, c, va='center', ha='center', color='black')\n",
        "    for i in ind:\n",
        "        v = prior[i, 0]\n",
        "        c = f\"{v:.2f}\"\n",
        "        ax_prior.text(v+0.2, i, c, va='center', ha='center', color='black')\n",
        "\n",
        "\n",
        "def plot_prior_likelihood(ps, p_a_s1, p_a_s0, measurement):\n",
        "    likelihood = np.asarray([[p_a_s1, 1-p_a_s1],[p_a_s0, 1-p_a_s0]])\n",
        "    assert 0.0 <= ps <= 1.0\n",
        "    prior = np.asarray([ps, 1 - ps])\n",
        "    if measurement == \"Fish\":\n",
        "        posterior = likelihood[:, 0] * prior\n",
        "    else:\n",
        "        posterior = (likelihood[:, 1] * prior).reshape(-1)\n",
        "    posterior /= np.sum(posterior)\n",
        "\n",
        "    # definitions for the axes\n",
        "    left, width = 0.05, 0.3\n",
        "    bottom, height = 0.05, 0.9\n",
        "    padding = 0.12\n",
        "    small_width = 0.2\n",
        "    left_space = left + small_width + padding\n",
        "    small_padding = 0.05\n",
        "\n",
        "    fig = plt.figure(figsize=(12, 4))\n",
        "\n",
        "    rect_prior = [left, bottom, small_width, height]\n",
        "    rect_likelihood = [left_space , bottom , width, height]\n",
        "    rect_posterior = [left_space + width + small_padding, bottom , small_width, height]\n",
        "\n",
        "    ax_prior = fig.add_axes(rect_prior)\n",
        "    ax_likelihood = fig.add_axes(rect_likelihood, sharey=ax_prior)\n",
        "    ax_posterior = fig.add_axes(rect_posterior, sharey=ax_prior)\n",
        "\n",
        "    prior_colormap = plt.cm.Blues\n",
        "    posterior_colormap = plt.cm.Greens\n",
        "\n",
        "    # Show posterior probs and marginals\n",
        "    ax_prior.barh(0, prior[0], facecolor = prior_colormap(prior[0]))\n",
        "    ax_prior.barh(1, prior[1], facecolor = prior_colormap(prior[1]))\n",
        "    ax_likelihood.matshow(likelihood, vmin=0., vmax=1., cmap='Reds')\n",
        "    # ax_posterior.matshow(posterior, vmin=0., vmax=1., cmap='')\n",
        "    ax_posterior.barh(0, posterior[0], facecolor = posterior_colormap(posterior[0]))\n",
        "    ax_posterior.barh(1, posterior[1], facecolor = posterior_colormap(posterior[1]))\n",
        "\n",
        "    # Probabilities plot details\n",
        "    ax_prior.set(xlim = [1, 0], yticks = [0, 1], yticklabels = ['left', 'right'],\n",
        "                 title = \"Prior p(s)\", xticks = [])\n",
        "    ax_prior.yaxis.tick_right()\n",
        "    ax_prior.spines['left'].set_visible(False)\n",
        "    ax_prior.spines['bottom'].set_visible(False)\n",
        "\n",
        "    # Likelihood plot details\n",
        "    ax_likelihood.set(xticks = [0, 1], xticklabels = ['fish', 'no fish'],\n",
        "                  yticks = [0, 1], yticklabels = ['left', 'right'],\n",
        "                   ylabel = 'state (s)', xlabel = 'measurement (m)',\n",
        "                   title = 'Likelihood p(m | s)')\n",
        "    ax_likelihood.xaxis.set_ticks_position('bottom')\n",
        "    ax_likelihood.spines['left'].set_visible(False)\n",
        "    ax_likelihood.spines['bottom'].set_visible(False)\n",
        "\n",
        "    # Posterior plot details\n",
        "    ax_posterior.set(xlim = [0, 1], xticks = [], yticks = [0, 1],\n",
        "                     yticklabels = ['left', 'right'], title = \"Posterior p(s | m)\")\n",
        "    ax_posterior.spines['left'].set_visible(False)\n",
        "    ax_posterior.spines['bottom'].set_visible(False)\n",
        "\n",
        "    # show values\n",
        "    ind = np.arange(2)\n",
        "    x,y = np.meshgrid(ind,ind)\n",
        "    # for i,j in zip(x.flatten(), y.flatten()):\n",
        "    #     c = f\"{posterior[i,j]:.2f}\"\n",
        "    #     ax_posterior.text(j,i, c, va='center', ha='center', color='black')\n",
        "    for i in ind:\n",
        "        v = posterior[i]\n",
        "        c = f\"{v:.2f}\"\n",
        "        ax_posterior.text(v+0.2, i, c, va='center', ha='center', color='black')\n",
        "    for i,j in zip(x.flatten(), y.flatten()):\n",
        "        c = f\"{likelihood[i,j]:.2f}\"\n",
        "        ax_likelihood.text(j,i, c, va='center', ha='center', color='black')\n",
        "    for i in ind:\n",
        "        v = prior[i]\n",
        "        c = f\"{v:.2f}\"\n",
        "        ax_prior.text(v+0.2, i, c, va='center', ha='center', color='black')\n",
        "    return fig\n",
        "\n",
        "\n",
        "from matplotlib import colors\n",
        "def plot_utility(ps):\n",
        "    prior = np.asarray([ps, 1 - ps])\n",
        "\n",
        "    utility = np.array([[2, -3], [-2, 1]])\n",
        "\n",
        "    expected = prior @ utility\n",
        "\n",
        "    # definitions for the axes\n",
        "    left, width = 0.05, 0.16\n",
        "    bottom, height = 0.05, 0.9\n",
        "    padding = 0.02\n",
        "    small_width = 0.1\n",
        "    left_space = left + small_width + padding\n",
        "    added_space = padding + width\n",
        "\n",
        "    fig = plt.figure(figsize=(17, 3))\n",
        "\n",
        "    rect_prior = [left, bottom, small_width, height]\n",
        "    rect_utility = [left + added_space , bottom , width, height]\n",
        "    rect_expected = [left + 2* added_space, bottom , width, height]\n",
        "\n",
        "    ax_prior = fig.add_axes(rect_prior)\n",
        "    ax_utility = fig.add_axes(rect_utility, sharey=ax_prior)\n",
        "    ax_expected = fig.add_axes(rect_expected)\n",
        "\n",
        "    rect_colormap = plt.cm.Blues\n",
        "\n",
        "    # Data of plots\n",
        "    ax_prior.barh(0, prior[0], facecolor = rect_colormap(prior[0]))\n",
        "    ax_prior.barh(1, prior[1], facecolor = rect_colormap(prior[1]))\n",
        "    ax_utility.matshow(utility, cmap='cool')\n",
        "    norm = colors.Normalize(vmin=-3, vmax=3)\n",
        "    ax_expected.bar(0, expected[0], facecolor = rect_colormap(norm(expected[0])))\n",
        "    ax_expected.bar(1, expected[1], facecolor = rect_colormap(norm(expected[1])))\n",
        "\n",
        "    # Probabilities plot details\n",
        "    ax_prior.set(xlim = [1, 0], xticks = [], yticks = [0, 1], yticklabels = ['left', 'right'],\n",
        "                 title = \"Probability of state\")\n",
        "    ax_prior.yaxis.tick_right()\n",
        "    ax_prior.spines['left'].set_visible(False)\n",
        "    ax_prior.spines['bottom'].set_visible(False)\n",
        "\n",
        "    # Utility plot details\n",
        "    ax_utility.set(xticks = [0, 1], xticklabels = ['left', 'right'],\n",
        "                  yticks = [0, 1], yticklabels = ['left', 'right'],\n",
        "                   ylabel = 'state (s)', xlabel = 'action (a)',\n",
        "                   title = 'Utility')\n",
        "    ax_utility.xaxis.set_ticks_position('bottom')\n",
        "    ax_utility.spines['left'].set_visible(False)\n",
        "    ax_utility.spines['bottom'].set_visible(False)\n",
        "\n",
        "    # Expected utility plot details\n",
        "    ax_expected.set(title = 'Expected utility', ylim = [-3, 3],\n",
        "                    xticks = [0, 1], xticklabels = ['left', 'right'],\n",
        "                    xlabel = 'action (a)',\n",
        "                    yticks = [])\n",
        "    ax_expected.xaxis.set_ticks_position('bottom')\n",
        "    ax_expected.spines['left'].set_visible(False)\n",
        "    ax_expected.spines['bottom'].set_visible(False)\n",
        "\n",
        "    # show values\n",
        "    ind = np.arange(2)\n",
        "    x,y = np.meshgrid(ind,ind)\n",
        "\n",
        "    for i,j in zip(x.flatten(), y.flatten()):\n",
        "        c = f\"{utility[i,j]:.2f}\"\n",
        "        ax_utility.text(j,i, c, va='center', ha='center', color='black')\n",
        "    for i in ind:\n",
        "        v = prior[i]\n",
        "        c = f\"{v:.2f}\"\n",
        "        ax_prior.text(v+0.2, i, c, va='center', ha='center', color='black')\n",
        "    for i in ind:\n",
        "        v = expected[i]\n",
        "        c = f\"{v:.2f}\"\n",
        "        ax_expected.text(i, 2.5, c, va='center', ha='center', color='black')\n",
        "\n",
        "    return fig\n",
        "\n",
        "\n",
        "def plot_prior_likelihood_utility(ps, p_a_s1, p_a_s0, measurement):\n",
        "    assert 0.0 <= ps <= 1.0\n",
        "    assert 0.0 <= p_a_s1 <= 1.0\n",
        "    assert 0.0 <= p_a_s0 <= 1.0\n",
        "    prior = np.asarray([ps, 1 - ps])\n",
        "    likelihood = np.asarray([[p_a_s1, 1-p_a_s1],[p_a_s0, 1-p_a_s0]])\n",
        "    utility = np.array([[2.0, -3.0], [-2.0, 1.0]])\n",
        "    # expected = np.zeros_like(utility)\n",
        "\n",
        "    if measurement == \"Fish\":\n",
        "        posterior = likelihood[:, 0] * prior\n",
        "    else:\n",
        "        posterior = (likelihood[:, 1] * prior).reshape(-1)\n",
        "    posterior /= np.sum(posterior)\n",
        "    # expected[:, 0] = utility[:, 0] * posterior\n",
        "    # expected[:, 1] = utility[:, 1] * posterior\n",
        "    expected = posterior @ utility\n",
        "\n",
        "    # definitions for the axes\n",
        "    left, width = 0.05, 0.3\n",
        "    bottom, height = 0.05, 0.3\n",
        "    padding = 0.12\n",
        "    small_width = 0.2\n",
        "    left_space = left + small_width + padding\n",
        "    small_padding = 0.05\n",
        "\n",
        "    fig = plt.figure(figsize=(10, 9))\n",
        "\n",
        "    rect_prior = [left, bottom + height + padding, small_width, height]\n",
        "    rect_likelihood = [left_space , bottom + height + padding , width, height]\n",
        "    rect_posterior = [left_space + width + small_padding, bottom + height + padding , small_width, height]\n",
        "\n",
        "    rect_utility = [padding, bottom, width, height]\n",
        "    rect_expected = [padding + width + padding + left, bottom, width, height]\n",
        "\n",
        "    ax_likelihood = fig.add_axes(rect_likelihood)\n",
        "    ax_prior = fig.add_axes(rect_prior, sharey=ax_likelihood)\n",
        "    ax_posterior = fig.add_axes(rect_posterior, sharey=ax_likelihood)\n",
        "    ax_utility = fig.add_axes(rect_utility)\n",
        "    ax_expected = fig.add_axes(rect_expected)\n",
        "\n",
        "    prior_colormap = plt.cm.Blues\n",
        "    posterior_colormap = plt.cm.Greens\n",
        "    expected_colormap = plt.cm.Wistia\n",
        "\n",
        "    # Show posterior probs and marginals\n",
        "    ax_prior.barh(0, prior[0], facecolor = prior_colormap(prior[0]))\n",
        "    ax_prior.barh(1, prior[1], facecolor = prior_colormap(prior[1]))\n",
        "    ax_likelihood.matshow(likelihood, vmin=0., vmax=1., cmap='Reds')\n",
        "    ax_posterior.barh(0, posterior[0], facecolor = posterior_colormap(posterior[0]))\n",
        "    ax_posterior.barh(1, posterior[1], facecolor = posterior_colormap(posterior[1]))\n",
        "    ax_utility.matshow(utility, vmin=0., vmax=1., cmap='cool')\n",
        "    # ax_expected.matshow(expected, vmin=0., vmax=1., cmap='Wistia')\n",
        "    ax_expected.bar(0, expected[0], facecolor = expected_colormap(expected[0]))\n",
        "    ax_expected.bar(1, expected[1], facecolor = expected_colormap(expected[1]))\n",
        "\n",
        "    # Probabilities plot details\n",
        "    ax_prior.set(xlim = [1, 0], yticks = [0, 1], yticklabels = ['left', 'right'],\n",
        "                 title = \"Prior p(s)\", xticks = [])\n",
        "    ax_prior.yaxis.tick_right()\n",
        "    ax_prior.spines['left'].set_visible(False)\n",
        "    ax_prior.spines['bottom'].set_visible(False)\n",
        "\n",
        "    # Likelihood plot details\n",
        "    ax_likelihood.set(xticks = [0, 1], xticklabels = ['fish', 'no fish'],\n",
        "                  yticks = [0, 1], yticklabels = ['left', 'right'],\n",
        "                   ylabel = 'state (s)', xlabel = 'measurement (m)',\n",
        "                   title = 'Likelihood p(m | s)')\n",
        "    ax_likelihood.xaxis.set_ticks_position('bottom')\n",
        "    ax_likelihood.spines['left'].set_visible(False)\n",
        "    ax_likelihood.spines['bottom'].set_visible(False)\n",
        "\n",
        "    # Posterior plot details\n",
        "    ax_posterior.set(xlim = [0, 1], xticks = [], yticks = [0, 1],\n",
        "                     yticklabels = ['left', 'right'], title = \"Posterior p(s | m)\")\n",
        "    ax_posterior.spines['left'].set_visible(False)\n",
        "    ax_posterior.spines['bottom'].set_visible(False)\n",
        "\n",
        "    # Utility plot details\n",
        "    ax_utility.set(xticks = [0, 1], xticklabels = ['left', 'right'],\n",
        "                   xlabel = 'action (a)', yticks = [0, 1], yticklabels = ['left', 'right'],\n",
        "                   title = 'Utility', ylabel = 'state (s)')\n",
        "    ax_utility.xaxis.set_ticks_position('bottom')\n",
        "    ax_utility.spines['left'].set_visible(False)\n",
        "    ax_utility.spines['bottom'].set_visible(False)\n",
        "\n",
        "    # Expected Utility plot details\n",
        "    ax_expected.set(ylim = [-2, 2], xticks = [0, 1], xticklabels = ['left', 'right'],\n",
        "                 xlabel = 'action (a)', title = 'Expected utility', yticks=[])\n",
        "    # ax_expected.axis('off')\n",
        "    ax_expected.spines['left'].set_visible(False)\n",
        "    # ax_expected.set(xticks = [0, 1], xticklabels = ['left', 'right'],\n",
        "    #                 xlabel = 'action (a)',\n",
        "    #                title = 'Expected utility')\n",
        "    # ax_expected.xaxis.set_ticks_position('bottom')\n",
        "    # ax_expected.spines['left'].set_visible(False)\n",
        "    # ax_expected.spines['bottom'].set_visible(False)\n",
        "\n",
        "    # show values\n",
        "    ind = np.arange(2)\n",
        "    x,y = np.meshgrid(ind,ind)\n",
        "    for i in ind:\n",
        "        v = posterior[i]\n",
        "        c = f\"{v:.2f}\"\n",
        "        ax_posterior.text(v+0.2, i, c, va='center', ha='center', color='black')\n",
        "    for i,j in zip(x.flatten(), y.flatten()):\n",
        "        c = f\"{likelihood[i,j]:.2f}\"\n",
        "        ax_likelihood.text(j,i, c, va='center', ha='center', color='black')\n",
        "    for i,j in zip(x.flatten(), y.flatten()):\n",
        "        c = f\"{utility[i,j]:.2f}\"\n",
        "        ax_utility.text(j,i, c, va='center', ha='center', color='black')\n",
        "    # for i,j in zip(x.flatten(), y.flatten()):\n",
        "    #     c = f\"{expected[i,j]:.2f}\"\n",
        "    #     ax_expected.text(j,i, c, va='center', ha='center', color='black')\n",
        "    for i in ind:\n",
        "        v = prior[i]\n",
        "        c = f\"{v:.2f}\"\n",
        "        ax_prior.text(v+0.2, i, c, va='center', ha='center', color='black')\n",
        "    for i in ind:\n",
        "        v = expected[i]\n",
        "        c = f\"{v:.2f}\"\n",
        "        ax_expected.text(i, v, c, va='center', ha='center', color='black')\n",
        "\n",
        "    return fig"
      ]
    },
    {
      "cell_type": "code",
      "execution_count": 5,
      "metadata": {
        "cellView": "form",
        "execution": {},
        "id": "dd5JmQCwVax5"
      },
      "outputs": [],
      "source": [
        "# @title Helper Functions\n",
        "\n",
        "def compute_marginal(px, py, cor):\n",
        "    \"\"\" Calculate 2x2 joint probabilities given marginals p(x=1), p(y=1) and correlation\n",
        "\n",
        "      Args:\n",
        "        px (scalar): marginal probability of x\n",
        "        py (scalar): marginal probability of y\n",
        "        cor (scalar): correlation value\n",
        "\n",
        "      Returns:\n",
        "        ndarray of size (2, 2): joint probability array of x and y\n",
        "    \"\"\"\n",
        "\n",
        "    p11 = px*py + cor*np.sqrt(px*py*(1-px)*(1-py))\n",
        "    p01 = px - p11\n",
        "    p10 = py - p11\n",
        "    p00 = 1.0 - p11 - p01 - p10\n",
        "\n",
        "    return np.asarray([[p00, p01], [p10, p11]])\n",
        "\n",
        "\n",
        "def compute_cor_range(px,py):\n",
        "    \"\"\" Calculate the allowed range of correlation values given marginals p(x=1)\n",
        "      and p(y=1)\n",
        "\n",
        "    Args:\n",
        "      px (scalar): marginal probability of x\n",
        "      py (scalar): marginal probability of y\n",
        "\n",
        "    Returns:\n",
        "      scalar, scalar: minimum and maximum possible values of correlation\n",
        "    \"\"\"\n",
        "\n",
        "    def p11(corr):\n",
        "        return px*py + corr*np.sqrt(px*py*(1-px)*(1-py))\n",
        "    def p01(corr):\n",
        "        return px - p11(corr)\n",
        "    def p10(corr):\n",
        "        return py - p11(corr)\n",
        "    def p00(corr):\n",
        "        return 1.0 - p11(corr) - p01(corr) - p10(corr)\n",
        "    Cmax = min(fsolve(p01, 0.0), fsolve(p10, 0.0))\n",
        "    Cmin = max(fsolve(p11, 0.0), fsolve(p00, 0.0))\n",
        "    return Cmin, Cmax"
      ]
    },
    {
      "cell_type": "markdown",
      "metadata": {
        "execution": {},
        "id": "yO8oro0bVax7"
      },
      "source": [
        "---\n",
        "# Section 1: Gone Fishin'\n"
      ]
    },
    {
      "cell_type": "code",
      "execution_count": 6,
      "metadata": {
        "cellView": "form",
        "execution": {},
        "id": "Qgzcf88uVax7",
        "outputId": "28273df1-403d-4fe4-dfe2-e1b269ecfd56",
        "colab": {
          "base_uri": "https://localhost:8080/",
          "height": 580,
          "referenced_widgets": [
            "f14d6a85a8b14a4ba50e1187ad230a3a",
            "c43201ada8714b5d899632125272fb6d",
            "11dfa4b587a94b7e8ff4c0d3886a0f94",
            "37f02dd6577340fd860fb93898c5c477",
            "65f85bf2f1ba48c89337c9413c11ddeb",
            "c50e7da19ee14864935a519947984681"
          ]
        }
      },
      "outputs": [
        {
          "output_type": "display_data",
          "data": {
            "text/plain": [
              "Tab(children=(Output(), Output()), _titles={'0': 'Youtube', '1': 'Bilibili'})"
            ],
            "application/vnd.jupyter.widget-view+json": {
              "version_major": 2,
              "version_minor": 0,
              "model_id": "f14d6a85a8b14a4ba50e1187ad230a3a"
            }
          },
          "metadata": {}
        }
      ],
      "source": [
        "# @title Video 2: Gone Fishin'\n",
        "from ipywidgets import widgets\n",
        "\n",
        "out2 = widgets.Output()\n",
        "with out2:\n",
        "  from IPython.display import IFrame\n",
        "  class BiliVideo(IFrame):\n",
        "      def __init__(self, id, page=1, width=400, height=300, **kwargs):\n",
        "          self.id=id\n",
        "          src = 'https://player.bilibili.com/player.html?bvid={0}&page={1}'.format(id, page)\n",
        "          super(BiliVideo, self).__init__(src, width, height, **kwargs)\n",
        "\n",
        "  video = BiliVideo(id=\"BV1TP4y147pJ\", width=854, height=480, fs=1)\n",
        "  print('Video available at https://www.bilibili.com/video/{0}'.format(video.id))\n",
        "  display(video)\n",
        "\n",
        "out1 = widgets.Output()\n",
        "with out1:\n",
        "  from IPython.display import YouTubeVideo\n",
        "  video = YouTubeVideo(id=\"kAdBjWOI_yE\", width=854, height=480, fs=1, rel=0)\n",
        "  print('Video available at https://youtube.com/watch?v=' + video.id)\n",
        "  display(video)\n",
        "\n",
        "out = widgets.Tab([out1, out2])\n",
        "out.set_title(0, 'Youtube')\n",
        "out.set_title(1, 'Bilibili')\n",
        "\n",
        "display(out)"
      ]
    },
    {
      "cell_type": "markdown",
      "metadata": {
        "execution": {},
        "id": "mw_f19hdVax8"
      },
      "source": [
        "This video covers the example problem of fishing that we will cover in this tutorial.\n",
        "\n",
        "<details>\n",
        "<summary> <font color=‘blue’>Click here for text recap of video </font></summary>\n",
        "\n",
        "You were just introduced to the **binary hidden state problem** we are going to explore. You need to decide which side to fish on--the hidden state. We know fish like to school together. On different days the school of fish is either on the left or right side, but we don’t know what the case is today. We define our knowledge about the fish location as a distribution over the random hidden state variable. Using our probabilistic knowledge, also called our **belief** about the hidden state, we will explore how to make the decision about where to fish today, based on what to expect in terms of gains or losses for the decision.\n",
        "The gains and losss are defined by the utility of choosing an action, which is fishing on the left or right. The details of the utilities are described \n",
        "</details>\n",
        "\n",
        "In the next two sections we will consider just the probability of where the fish might be and what you gain or lose by choosing where to fish (leaving Bayesian approaches to the last few sections).\n",
        "\n",
        "Remember, you can either think of yourself as a scientist conducting an experiment or as a brain trying to make a decision. The Bayesian approach is the same!\n"
      ]
    },
    {
      "cell_type": "markdown",
      "metadata": {
        "execution": {},
        "id": "sd6wtwLJVax9"
      },
      "source": [
        "---\n",
        "# Section 2: Deciding where to fish \n",
        "\n",
        "*Estimated timing to here from start of tutorial: 10 min*"
      ]
    },
    {
      "cell_type": "code",
      "execution_count": 7,
      "metadata": {
        "cellView": "form",
        "execution": {},
        "id": "OpadDD3QVax9",
        "outputId": "a7dbffc6-d342-4930-dadc-791dc670d963",
        "colab": {
          "base_uri": "https://localhost:8080/",
          "height": 580,
          "referenced_widgets": [
            "0c1f0a9e87214497aec525d6dc02be25",
            "b10bb9dfee214712b82bfefe056e06d2",
            "cb400ff88bf747c09f095d171abed3a0",
            "db16385bee6d4b7f8bea21dbf4e9eff2",
            "882e1f0a5f264ee09f89d5756455bd8b",
            "5614c42c40814a718c181b4e5dd2b820"
          ]
        }
      },
      "outputs": [
        {
          "output_type": "display_data",
          "data": {
            "text/plain": [
              "Tab(children=(Output(), Output()), _titles={'0': 'Youtube', '1': 'Bilibili'})"
            ],
            "application/vnd.jupyter.widget-view+json": {
              "version_major": 2,
              "version_minor": 0,
              "model_id": "0c1f0a9e87214497aec525d6dc02be25"
            }
          },
          "metadata": {}
        }
      ],
      "source": [
        "# @title Video 3: Utility\n",
        "from ipywidgets import widgets\n",
        "\n",
        "out2 = widgets.Output()\n",
        "with out2:\n",
        "  from IPython.display import IFrame\n",
        "  class BiliVideo(IFrame):\n",
        "      def __init__(self, id, page=1, width=400, height=300, **kwargs):\n",
        "          self.id=id\n",
        "          src = 'https://player.bilibili.com/player.html?bvid={0}&page={1}'.format(id, page)\n",
        "          super(BiliVideo, self).__init__(src, width, height, **kwargs)\n",
        "\n",
        "  video = BiliVideo(id=\"BV1uL411H7ZE\", width=854, height=480, fs=1)\n",
        "  print('Video available at https://www.bilibili.com/video/{0}'.format(video.id))\n",
        "  display(video)\n",
        "\n",
        "out1 = widgets.Output()\n",
        "with out1:\n",
        "  from IPython.display import YouTubeVideo\n",
        "  video = YouTubeVideo(id=\"8-5RM0k3IKE\", width=854, height=480, fs=1, rel=0)\n",
        "  print('Video available at https://youtube.com/watch?v=' + video.id)\n",
        "  display(video)\n",
        "\n",
        "out = widgets.Tab([out1, out2])\n",
        "out.set_title(0, 'Youtube')\n",
        "out.set_title(1, 'Bilibili')\n",
        "\n",
        "display(out)"
      ]
    },
    {
      "cell_type": "markdown",
      "metadata": {
        "execution": {},
        "id": "M7HOiA0MVax-"
      },
      "source": [
        "This video covers utility and expected utility.\n",
        "\n",
        "<details>\n",
        "<summary> <font color=‘blue’>Click here for text recap of video </font></summary>\n",
        "\n",
        "You need to decide where to fish. It may seem obvious - you could just fish on the side where the probability of the fish being is higher! Unfortunately, decisions and actions are always a little more complicated. Deciding to fish may be influenced by more than just the probability of the school of fish being there as we saw by the potential issues of submarines and sunburn. The consequences of the action you take is based on the true (but hidden) state of the world and the action you choose! In our example, fishing on the wrong side, where there aren't many fish, is likely to lead to you spending your afternoon not catching fish and therefore getting a sunburn. The submarine represents a risk to fishing on the right side that is greater than the left side. If you want to know what to expect from taking the action of fishing on one side or the other, you need to calculate the expected utility.\n",
        "\n",
        "You know the (prior) probability that the school of fish is on the left side of the dock today, $P(s = \\textrm{left})$. So, you also know the probability the school is on the right, $P(s = \\textrm{right})$, because these two probabilities must add up to 1.\n",
        "\n",
        "We quantify gains and losses numerically using a **utility** function $U(s,a)$, which describes the consequences of your actions: how much value you gain (or if negative, lose) given the state of the world ($s$) and the action you take ($a$). In our example, our utility can be summarized as:\n",
        "\n",
        "| Utility: U(s,a)   | a = left   | a = right  |\n",
        "| ----------------- |------------|------------|\n",
        "| s = Left          | +2         | -3         |\n",
        "| s = right         | -2         | +1         |\n",
        "\n",
        "To use possible gains and losses to choose an action, we calculate the **expected utility** of that action by weighing these utilities with the probability of that state occuring. This allows us to choose actions by taking probabilities of events into account: we don't care if the outcome of an action-state pair is a loss if the probability of that state is very low. We can formalize this as:\n",
        "\n",
        "\\begin{equation}\n",
        "\\text{Expected utility of action a} = \\sum_{s}U(s,a)P(s)\n",
        "\\end{equation}\n",
        "\n",
        "In other words, the expected utility of an action a is the sum over possible states of the utility of that action and state times the probability of that state.\n",
        "\n",
        "</details>"
      ]
    },
    {
      "cell_type": "markdown",
      "metadata": {
        "execution": {},
        "id": "OCmrfMBxVayB"
      },
      "source": [
        "## Interactive Demo 2: Exploring the decision\n",
        "\n",
        "Let's start to get a sense of how all this works using the interactive demo below. You can change the probability that the school of fish is on the left side,$p(s = \\textrm{left})$, using the slider. You will see the utility function (a matrix) in the middle and the corresponding expected utility for each action on the right.\n",
        "\n",
        "First, make sure you understand how the expected utility of each action is being computed from the probabilities and the utility values. In the initial state: the probability of the fish being on the left is 0.9 and on the right is 0.1. The expected utility of the action of fishing on the left is then $U(s = \\textrm{left},a = \\textrm{left})p(s = \\textrm{left}) + U(s = \\textrm{right},a = \\textrm{left})p(s = \\textrm{right}) = 2(0.9) + -2(0.1) = 1.6$. Essentially, to get the expected utility of action $a$, you are doing a weighted sum over the relevant column of the utility matrix (corresponding to action $a$) where the weights are the state probabilities.\n",
        "\n",
        "For each of these scenarios, think and discuss first. Then use the demo to try out each and see if your action would have been correct (that is, if the expected value of that action is the highest).\n",
        "\n",
        "\n",
        "1.  You just arrived at the dock for the first time and have no sense of where the fish might be. So you guess that the probability of the school being on the left side is 0.5 (so the probability on the right side is also 0.5). Which side would you choose to fish on given our utility values?\n",
        "2.  You think that the probability of the school being on the left side is very low (0.1) and correspondingly high on the right side (0.9). Which side would you choose to fish on given our utility values?\n",
        "3.  What would you choose if the probability of the school being on the left side is slightly lower than on the right side (0. 4 vs 0.6)?"
      ]
    },
    {
      "cell_type": "code",
      "execution_count": 8,
      "metadata": {
        "cellView": "form",
        "execution": {},
        "id": "1Ov-YWBDVayB",
        "outputId": "c71ca1f2-5db1-4460-9e2e-f13e9e0aac82",
        "colab": {
          "base_uri": "https://localhost:8080/",
          "height": 326,
          "referenced_widgets": [
            "f8ac3b4428aa4c5ebe962ff95d7d4716",
            "4f1f9691663f4ed7b6384faf3a149365",
            "c90ddbb789324c67a13bc831485d86b0",
            "8cc1a28991e24d94a2d0f944bab2c5a3",
            "b55f4a956ad24f3380bdd29c24d247ac",
            "86badf2b5c1b4bf5b7ed4cabb642ed26",
            "a4d17523e059493092ad9ee0918aebd1"
          ]
        }
      },
      "outputs": [
        {
          "output_type": "display_data",
          "data": {
            "text/plain": [
              "interactive(children=(FloatSlider(value=0.9, description='p(s = left)', max=1.0, step=0.01), Output()), _dom_c…"
            ],
            "application/vnd.jupyter.widget-view+json": {
              "version_major": 2,
              "version_minor": 0,
              "model_id": "f8ac3b4428aa4c5ebe962ff95d7d4716"
            }
          },
          "metadata": {}
        }
      ],
      "source": [
        "# @markdown Execute this cell to use the widget\n",
        "ps_widget = widgets.FloatSlider(0.9, description='p(s = left)', min=0.0, max=1.0, step=0.01)\n",
        "\n",
        "@widgets.interact(\n",
        "    ps = ps_widget,\n",
        ")\n",
        "def make_utility_plot(ps):\n",
        "    fig = plot_utility(ps)\n",
        "    plt.show(fig)\n",
        "    plt.close(fig)\n",
        "    return None"
      ]
    },
    {
      "cell_type": "markdown",
      "metadata": {
        "execution": {},
        "id": "LQRMumE-VayF"
      },
      "source": [
        "[*Click for solution*](https://github.com/NeuromatchAcademy/course-content/tree/main//tutorials/W3D1_BayesianDecisions/solutions/W3D1_Tutorial1_Solution_ea0b49ae.py)\n",
        "\n"
      ]
    },
    {
      "cell_type": "code",
      "execution_count": 9,
      "metadata": {
        "cellView": "form",
        "execution": {},
        "id": "JotYTJYcVayG",
        "outputId": "7571be26-00cf-4c94-c57d-582b384d7b27",
        "colab": {
          "base_uri": "https://localhost:8080/",
          "height": 580,
          "referenced_widgets": [
            "efc56787645f4ec5a4b923156a4224ce",
            "b052ad9dbeb841a4b5fe40f946e5e73b",
            "0c542e31094b4f04b27745d2d2879051",
            "74adfd6ff1d8415bb3920a723b7f72f0",
            "25ebc96466974c94b658434552b19fa2",
            "152345563a194ddfaa71970be9a0d0b0"
          ]
        }
      },
      "outputs": [
        {
          "output_type": "display_data",
          "data": {
            "text/plain": [
              "Tab(children=(Output(), Output()), _titles={'0': 'Youtube', '1': 'Bilibili'})"
            ],
            "application/vnd.jupyter.widget-view+json": {
              "version_major": 2,
              "version_minor": 0,
              "model_id": "efc56787645f4ec5a4b923156a4224ce"
            }
          },
          "metadata": {}
        }
      ],
      "source": [
        "# @title Video 4: Utility Demo Discussion\n",
        "from ipywidgets import widgets\n",
        "\n",
        "out2 = widgets.Output()\n",
        "with out2:\n",
        "  from IPython.display import IFrame\n",
        "  class BiliVideo(IFrame):\n",
        "      def __init__(self, id, page=1, width=400, height=300, **kwargs):\n",
        "          self.id=id\n",
        "          src = 'https://player.bilibili.com/player.html?bvid={0}&page={1}'.format(id, page)\n",
        "          super(BiliVideo, self).__init__(src, width, height, **kwargs)\n",
        "\n",
        "  video = BiliVideo(id=\"BV1po4y1D7Fu\", width=854, height=480, fs=1)\n",
        "  print('Video available at https://www.bilibili.com/video/{0}'.format(video.id))\n",
        "  display(video)\n",
        "\n",
        "out1 = widgets.Output()\n",
        "with out1:\n",
        "  from IPython.display import YouTubeVideo\n",
        "  video = YouTubeVideo(id=\"GHQbmsEyQjE\", width=854, height=480, fs=1, rel=0)\n",
        "  print('Video available at https://youtube.com/watch?v=' + video.id)\n",
        "  display(video)\n",
        "\n",
        "out = widgets.Tab([out1, out2])\n",
        "out.set_title(0, 'Youtube')\n",
        "out.set_title(1, 'Bilibili')\n",
        "\n",
        "display(out)"
      ]
    },
    {
      "cell_type": "markdown",
      "metadata": {
        "execution": {},
        "id": "NJRRqy-0VayG"
      },
      "source": [
        "In this section, you have seen that both the utility of various state and action pairs and our knowledge of the probability of each state affects your decision. Importantly, we want our knowledge of the probability of each state to be as accurate as possible! \n",
        "\n",
        "So how do we know these probabilities? We may have prior knowledge from years of fishing at the same dock, learning that the fish are more likely to be on the left side, for example. Of course, we need to update our knowledge (our belief)! To do this, we need to collect more information, or take some measurements! In the next few sections, we will focus on how we improve our knowledge of the probabilities."
      ]
    },
    {
      "cell_type": "markdown",
      "metadata": {
        "execution": {},
        "id": "EE6yL1tJVayH"
      },
      "source": [
        "---\n",
        "# Section 3: Likelihood of the fish being on either side\n",
        "\n",
        "*Estimated timing to here from start of tutorial: 25 min*\n",
        " \n"
      ]
    },
    {
      "cell_type": "code",
      "execution_count": 10,
      "metadata": {
        "cellView": "form",
        "execution": {},
        "id": "3u--7hGIVayH",
        "outputId": "76def79b-6c95-4ffe-8a86-9f625574cccf",
        "colab": {
          "base_uri": "https://localhost:8080/",
          "height": 580,
          "referenced_widgets": [
            "5a7e06e6a913435d95abb74f37e0e1b5",
            "458f902958454ddabeb824358f8af00d",
            "f9e1e1b1ab6a42bc83ad786b6e1f78c5",
            "96023ee32b5748f68043a9d0be594f1e",
            "a3a36d6f3c62442ab795687be8d6274e",
            "c2650ebd2c6d4fd09df004c7b2497ecc"
          ]
        }
      },
      "outputs": [
        {
          "output_type": "display_data",
          "data": {
            "text/plain": [
              "Tab(children=(Output(), Output()), _titles={'0': 'Youtube', '1': 'Bilibili'})"
            ],
            "application/vnd.jupyter.widget-view+json": {
              "version_major": 2,
              "version_minor": 0,
              "model_id": "5a7e06e6a913435d95abb74f37e0e1b5"
            }
          },
          "metadata": {}
        }
      ],
      "source": [
        "# @title Video 5: Likelihood\n",
        "from ipywidgets import widgets\n",
        "\n",
        "out2 = widgets.Output()\n",
        "with out2:\n",
        "  from IPython.display import IFrame\n",
        "  class BiliVideo(IFrame):\n",
        "      def __init__(self, id, page=1, width=400, height=300, **kwargs):\n",
        "          self.id=id\n",
        "          src = 'https://player.bilibili.com/player.html?bvid={0}&page={1}'.format(id, page)\n",
        "          super(BiliVideo, self).__init__(src, width, height, **kwargs)\n",
        "\n",
        "  video = BiliVideo(id=\"BV1EK4y1u7AV\", width=854, height=480, fs=1)\n",
        "  print('Video available at https://www.bilibili.com/video/{0}'.format(video.id))\n",
        "  display(video)\n",
        "\n",
        "out1 = widgets.Output()\n",
        "with out1:\n",
        "  from IPython.display import YouTubeVideo\n",
        "  video = YouTubeVideo(id=\"Yv8MDjdm1l4\", width=854, height=480, fs=1, rel=0)\n",
        "  print('Video available at https://youtube.com/watch?v=' + video.id)\n",
        "  display(video)\n",
        "\n",
        "out = widgets.Tab([out1, out2])\n",
        "out.set_title(0, 'Youtube')\n",
        "out.set_title(1, 'Bilibili')\n",
        "\n",
        "display(out)"
      ]
    },
    {
      "cell_type": "markdown",
      "metadata": {
        "execution": {},
        "id": "qSgZmIYPVayI"
      },
      "source": [
        "\n",
        "<details>\n",
        "<summary> <font color=‘blue’>Click here for text recap of video </font></summary>\n",
        "\n",
        "First, we'll think about what it means to take a measurement (also often called an observation or just data) and what it tells you about what the hidden state may be. Specifically, we'll be looking at the **likelihood**, which is the probability of your measurement ($m$) given the hidden state ($s$): $P(m | s)$. Remember that in this case, the hidden state is which side of the dock the school of fish is on.\n",
        "We will watch someone fish (for let's say 10 minutes) and our measurement is whether they catch a fish or not. We know something about what catching a fish means for the likelihood of the fish being on one side or the other.\n",
        "</details>"
      ]
    },
    {
      "cell_type": "markdown",
      "metadata": {
        "execution": {},
        "id": "2GGUx6NWVayI"
      },
      "source": [
        "## Think! 3: Guessing the location of the fish\n",
        "\n",
        "Let's say we go to a different dock to fish. Here, there are different probabilities of catching fish given the state of the world. At this dock, if you fish on the side of the dock where the fish are, you have a 70% chance of catching a fish. If you fish on the wrong side, you will catch a fish with only 20% probability. These are the likelihoods of observing someone catching a fish! That is, you are taking a measurement by seeing if someone else catches a fish!\n",
        "\n",
        "You see a fisher-person is fishing on the left side.\n",
        "\n",
        "1) Please figure out each of the following (might be easiest to do this separately and then compare notes):\n",
        "- probability of catching a fish given that the school of fish is on the left side, $P(m = \\textrm{catch fish} | s = \\textrm{left} )$\n",
        "- probability of not catching a fish given that the school of fish is on the left side, $P(m = \\textrm{no fish} | s = \\textrm{left})$\n",
        "- probability of catching a fish given that the school of fish is on the right side, $P(m = \\textrm{catch  fish} | s = \\textrm{right})$\n",
        "- probability of not catching a fish given that the school of fish is on the right side, $P(m = \\textrm{no fish} | s = \\textrm{right})$\n",
        "\n",
        "2) If the fisher-person catches a fish, which side would you guess the school is on? Why?\n",
        "\n",
        "3) If the fisher-person does not catch a fish, which side would you guess the school is on? Why?\n"
      ]
    },
    {
      "cell_type": "markdown",
      "metadata": {
        "execution": {},
        "id": "vwLMmuJxVayJ"
      },
      "source": [
        "[*Click for solution*](https://github.com/NeuromatchAcademy/course-content/tree/main//tutorials/W3D1_BayesianDecisions/solutions/W3D1_Tutorial1_Solution_816c0c9d.py)\n",
        "\n"
      ]
    },
    {
      "cell_type": "markdown",
      "metadata": {
        "execution": {},
        "id": "z32VBDylVayK"
      },
      "source": [
        "In the prior exercise, you tried to guess where the school of fish was based on the measurement you took (watching someone fish). You did this by choosing the state (side where you think the fish are) that maximized the probability of the measurement. In other words, you estimated the state by maximizing the likelihood (the side with the highest probability of measurement given state $P(m|s$)). This is called maximum likelihood estimation (MLE) and you've encountered it before during this course, in the [pre-reqs statistics day](https://compneuro.neuromatch.io/tutorials/W0D5_Statistics/student/W0D5_Tutorial2.html#section-2-2-maximum-likelihood) and on [Model Fitting day](https://compneuro.neuromatch.io/tutorials/W1D3_ModelFitting/student/W1D3_Tutorial2.html)!\n",
        "\n",
        "But, what if you had been going to this dock for years and you knew that the fish were almost always on the left side? This should probably affect how you make your estimate -- you would rely less on the single new measurement and more on your prior knowledge. This is the fundamental idea behind Bayesian inference, as we will see later in this tutorial!"
      ]
    },
    {
      "cell_type": "markdown",
      "metadata": {
        "execution": {},
        "id": "Tyu7HsDgVayM"
      },
      "source": [
        "---\n",
        "# Section 4: Correlation and marginalization\n",
        "\n",
        "*Estimated timing to here from start of tutorial: 35 min*\n"
      ]
    },
    {
      "cell_type": "code",
      "execution_count": 11,
      "metadata": {
        "cellView": "form",
        "execution": {},
        "id": "WA7T6M13VayO",
        "outputId": "d9205b93-6ba7-42ac-ab79-7b1e57ccb8c6",
        "colab": {
          "base_uri": "https://localhost:8080/",
          "height": 580,
          "referenced_widgets": [
            "d0470f2068f049d98cc45e78fa572b5c",
            "00b8797d2a4f4fdb9031a83f08dcaf79",
            "b271460dbc3c4382b80dcd0e78234ded",
            "df57c285c1e64bdf9fec56801fa9dd55",
            "3e7c350e1f2c4a8498e14cdacb3053b0",
            "6664551c44774414b77f211bc98ba1ff"
          ]
        }
      },
      "outputs": [
        {
          "output_type": "display_data",
          "data": {
            "text/plain": [
              "Tab(children=(Output(), Output()), _titles={'0': 'Youtube', '1': 'Bilibili'})"
            ],
            "application/vnd.jupyter.widget-view+json": {
              "version_major": 2,
              "version_minor": 0,
              "model_id": "d0470f2068f049d98cc45e78fa572b5c"
            }
          },
          "metadata": {}
        }
      ],
      "source": [
        "# @title Video 6: Correlation and marginalization\n",
        "from ipywidgets import widgets\n",
        "\n",
        "out2 = widgets.Output()\n",
        "with out2:\n",
        "  from IPython.display import IFrame\n",
        "  class BiliVideo(IFrame):\n",
        "      def __init__(self, id, page=1, width=400, height=300, **kwargs):\n",
        "          self.id=id\n",
        "          src = 'https://player.bilibili.com/player.html?bvid={0}&page={1}'.format(id, page)\n",
        "          super(BiliVideo, self).__init__(src, width, height, **kwargs)\n",
        "\n",
        "  video = BiliVideo(id=\"BV1Zq4y1p7N6\", width=854, height=480, fs=1)\n",
        "  print('Video available at https://www.bilibili.com/video/{0}'.format(video.id))\n",
        "  display(video)\n",
        "\n",
        "out1 = widgets.Output()\n",
        "with out1:\n",
        "  from IPython.display import YouTubeVideo\n",
        "  video = YouTubeVideo(id=\"iprFMHch2_g\", width=854, height=480, fs=1, rel=0)\n",
        "  print('Video available at https://youtube.com/watch?v=' + video.id)\n",
        "  display(video)\n",
        "\n",
        "out = widgets.Tab([out1, out2])\n",
        "out.set_title(0, 'Youtube')\n",
        "out.set_title(1, 'Bilibili')\n",
        "\n",
        "display(out)"
      ]
    },
    {
      "cell_type": "markdown",
      "metadata": {
        "execution": {},
        "id": "uAGVV3J7VayP"
      },
      "source": [
        "## Section 4.1: Correlation"
      ]
    },
    {
      "cell_type": "markdown",
      "metadata": {
        "execution": {},
        "id": "2LHEB5uZVayP"
      },
      "source": [
        "In this section, we are going to take a step back for a bit and think more generally about the amount of information shared between two random variables. We want to know how much information you gain when you observe one variable (take a measurement) if you know something about another. We will see that the fundamental concept is the same if we think about two attributes, for example the size and color of the fish, or the prior information and the likelihood.\n"
      ]
    },
    {
      "cell_type": "markdown",
      "metadata": {
        "execution": {},
        "id": "ql4ResxBVayQ"
      },
      "source": [
        "### Think! 4.1: Covarying probability distributions\n",
        "\n",
        "The relationship between the marginal probabilities and the joint probabilities is determined by the correlation between the two random variables - a normalized measure of how much the variables covary. We can also think of this as gaining some information about one of the variables when we observe a measurement from the other. We will think about this more formally in Tutorial 2. \n",
        "\n",
        "Here, we want to think about how the correlation between size and color of these fish changes how much information we gain about one attribute based on the other. See Bonus Section 1 for the formula for correlation.\n",
        "\n",
        "Use the widget below and answer the following questions:\n",
        "\n",
        "1. When the correlation is zero, $\\rho = 0$, what does the distribution of size tell you about color?\n",
        "2. Set $\\rho$ to something small. As you change the probability of golden fish, what happens to the ratio of size probabilities? Set $\\rho$ larger (can be negative). Can you explain the pattern of changes in the probabilities of size as you change the probability of golden fish?\n",
        "3. Set the probability of golden fish and of large fish to around 65%. As the correlation goes towards 1, how often will you see silver large fish?\n",
        "4. What is increasing the (absolute) correlation telling you about how likely you are to see one of the properties if you see a fish with the other?\n"
      ]
    },
    {
      "cell_type": "code",
      "execution_count": 12,
      "metadata": {
        "execution": {},
        "id": "4HlGcyBEVayS",
        "outputId": "f92372f0-beae-4a0c-f788-233a3f94d7f1",
        "colab": {
          "base_uri": "https://localhost:8080/",
          "height": 474,
          "referenced_widgets": [
            "de8b197d647d4054af1070d472935b63",
            "6579d9c782924a1eb6a23cdd6227ad2b",
            "cb2ef1f885a8497e823ab9a16ac824ea",
            "e6d2f8aa72b6446b9a2554b5d161e67b",
            "4650293f9f2246e48f3ef3885b2b77dc",
            "0696f770b0194eeab114208464c3928d",
            "d3ff8fb3ced24793bf185dd64bb89a3e",
            "ff09fd7d2b724ec1a94f4edd2320dbb2",
            "452081523b854f91a94fb8ca7dd4c2c1",
            "86793118f82a46a68921ba749511aa42",
            "58a34c9acb2a4b41b72023e676a63649",
            "c9d75978fa0d4e84b10c136c52e653d2",
            "620096544ae24e9a9fb0adb09ea948fd"
          ]
        }
      },
      "outputs": [
        {
          "output_type": "display_data",
          "data": {
            "text/plain": [
              "interactive(children=(FloatSlider(value=0.5, description='p(color=golden)', layout=Layout(grid_area='widget002…"
            ],
            "application/vnd.jupyter.widget-view+json": {
              "version_major": 2,
              "version_minor": 0,
              "model_id": "de8b197d647d4054af1070d472935b63"
            }
          },
          "metadata": {}
        }
      ],
      "source": [
        "# @markdown Execute this cell to enable the widget\n",
        "style = {'description_width': 'initial'}\n",
        "gs = GridspecLayout(2,2)\n",
        "\n",
        "cor_widget = widgets.FloatSlider(0.0, description='ρ', min=-1, max=1, step=0.01)\n",
        "px_widget = widgets.FloatSlider(0.5, description='p(color=golden)', min=0.01, max=0.99, step=0.01, style=style)\n",
        "py_widget = widgets.FloatSlider(0.5, description='p(size=large)', min=0.01, max=0.99, step=0.01, style=style)\n",
        "gs[0,0] = cor_widget\n",
        "gs[0,1] = px_widget\n",
        "gs[1,0] = py_widget\n",
        "\n",
        "\n",
        "@widgets.interact(\n",
        "    px=px_widget,\n",
        "    py=py_widget,\n",
        "    cor=cor_widget,\n",
        ")\n",
        "def make_corr_plot(px, py, cor):\n",
        "    Cmin, Cmax = compute_cor_range(px, py) #allow correlation values\n",
        "    cor_widget.min, cor_widget.max = Cmin+0.01, Cmax-0.01\n",
        "    if cor_widget.value > Cmax:\n",
        "        cor_widget.value = Cmax\n",
        "    if cor_widget.value < Cmin:\n",
        "        cor_widget.value = Cmin\n",
        "    cor = cor_widget.value\n",
        "    P = compute_marginal(px,py,cor)\n",
        "    # print(P)\n",
        "    fig = plot_joint_probs(P)\n",
        "    plt.show(fig)\n",
        "    plt.close(fig)\n",
        "    return None\n",
        "\n",
        "# gs[1,1] = make_corr_plot()"
      ]
    },
    {
      "cell_type": "markdown",
      "metadata": {
        "execution": {},
        "id": "p0tTlkkAVayW"
      },
      "source": [
        "[*Click for solution*](https://github.com/NeuromatchAcademy/course-content/tree/main//tutorials/W3D1_BayesianDecisions/solutions/W3D1_Tutorial1_Solution_eb6596af.py)\n",
        "\n"
      ]
    },
    {
      "cell_type": "markdown",
      "metadata": {
        "execution": {},
        "id": "nmjRQ9geVayc"
      },
      "source": [
        "We have just seen how two random variables can be more or less independent. The more correlated, the less independent, and the more shared information. We also learned that we can marginalize to determine the marginal likelihood of a measurement or to find the marginal probability distribution of two random variables. We are going to now complete our journey towards being fully Bayesian!"
      ]
    },
    {
      "cell_type": "markdown",
      "metadata": {
        "execution": {},
        "id": "1yXTYT0YVayc"
      },
      "source": [
        "## Section 4.2: Marginalisation"
      ]
    },
    {
      "cell_type": "markdown",
      "metadata": {
        "execution": {},
        "id": "8kUyJAMjVayd"
      },
      "source": [
        "\n",
        "<details>\n",
        "<summary> <font color=‘blue’>Click here for text recap of relevant part of video </font></summary>\n",
        "\n",
        "We may want to find the probability of one variable while ignoring another: we will do this by averaging out, or marginalizing, the irrelevant variable.\n",
        "\n",
        "We will think of this in two different ways.\n",
        "\n",
        "In the first math exercise, you will think about the case where you know the joint probabilities of two variables and want to figure out the probability of just one variable. To make this explicit, let's assume that a fish has a color that is either gold or silver (our first variable) and a size that is either small or large (our second). We could write out the the **joint probabilities**: the probability of both specific attributes occuring together. For example, the probability of a fish being small and silver, $P(X = \\textrm{small}, Y = \\textrm{silver})$, is 0.4. The following table summarizes our joint probabilities:\n",
        "\n",
        "| P(X, Y)        | Y = silver  | Y = gold  |\n",
        "| -------------- |-------------|-----------|\n",
        "| X = small      | 0.4         | 0.2       |\n",
        "| X = large      | 0.1         | 0.3       |\n",
        "\n",
        "\n",
        "We want to know what the probability of a fish being small  regardless of color. Since the fish are either silver or gold, this would be the probability of a fish being small and silver plus the probability of a fish being small and gold. This is an example of marginalizing, or averaging out, the variable we are not interested in across the rows or columns.. In math speak: $P(X = \\textrm{small}) = \\sum_y{P(X = \\textrm{small}, Y)}$. This gives us a **marginal probability**, a probability of a variable outcome (in this case size), regardless of the other variables (in this case color).\n",
        "\n",
        "More generally, we can marginalize out a second irrelevant variable $y$ by summing over the relevant joint probabilities:\n",
        "\n",
        "$$p(x) = \\sum_y p(x, y) $$\n",
        "\n",
        "\n",
        "In the second math exercise, you will remove an unknown (the hidden state) to find the marginal probability of a measurement. You will do this by marginalizing out the hidden state. In this case, you know the conditional probabilities of the measurement given state and the probabilities of each state. You can marginalize using:\n",
        "\n",
        "$$p(m) = \\sum_s p(m | s) p(s) $$\n",
        "\n",
        "These two ways of thinking about marginalization (as averaging over joint probabilities or conditioning on some variable) are equivalent because the joint probability of two variables equals the conditional probability of the first given the second times the marginal probability of the second:\n",
        "\n",
        "$$p(x, y) = p(x|y)p(y)$$ \n",
        "\n"
      ]
    },
    {
      "cell_type": "markdown",
      "metadata": {
        "execution": {},
        "id": "70oLjvOOVaye"
      },
      "source": [
        "### Math Exercise 4.2.1: Computing marginal probabilities\n",
        "\n",
        "To understand the information between two variables, let's first consider the joint probabilities over the size and color of the fish.\n",
        "\n",
        "| P(X, Y)        | Y = silver  | Y = gold  |\n",
        "| -------------- |-------------|-----------|\n",
        "| X = small      | 0.4         | 0.2       |\n",
        "| X = large      | 0.1         | 0.3       |\n",
        "\n",
        "Please complete the following math problems to further practice thinking through probabilities:\n",
        "\n",
        "1. Calculate the probability of a fish being silver.\n",
        "2. Calculate the probability of a fish being small, large, silver, or gold.\n",
        "3. Calculate the probability of a fish being small OR gold. **Hint:** $P(A\\ \\textrm{or}\\ B) = P(A) + P(B) - P(A\\ \\textrm{and}\\ B)$.\n",
        "\n",
        "**We don't typically have math exercises in NMA but feel it is important for you to really compute this out yourself. Feel free to use the next cell to write out the math if helpful, or use paper and pen. We recommend doing this exercise individually first and then comparing notes and discussing.**"
      ]
    },
    {
      "cell_type": "code",
      "execution_count": null,
      "metadata": {
        "execution": {},
        "id": "U52ObVa-Vayf"
      },
      "outputs": [],
      "source": [
        "\"\"\"\n",
        "Joint probabilities\n",
        "\n",
        "P( X = small, Y = silver) = 0.4\n",
        "P( X = large, Y = silver) = 0.1\n",
        "P( X = small, Y = gold) = 0.2\n",
        "P( X = large, Y = gold) = 0.3\n",
        "\n",
        "\n",
        "1. P(Y = silver) = 0.4 + 0.1 = 0.5\n",
        "\n",
        "2. P(X = small or large, Y = silver or gold) = 1\n",
        "\n",
        "3. P( X = small or Y = gold) = 0.4 + 0.2 + 0.3 = 0.9\n",
        "\n",
        "\"\"\""
      ]
    },
    {
      "cell_type": "markdown",
      "metadata": {
        "execution": {},
        "id": "MME2-reFVayg"
      },
      "source": [
        "[*Click for solution*](https://github.com/NeuromatchAcademy/course-content/tree/main//tutorials/W3D1_BayesianDecisions/solutions/W3D1_Tutorial1_Solution_b60a0fd3.py)\n",
        "\n"
      ]
    },
    {
      "cell_type": "markdown",
      "metadata": {
        "execution": {},
        "id": "bijiVybwVayg"
      },
      "source": [
        "### Math Exercise 4.2.2: Computing marginal likelihood\n",
        "\n",
        "When we normalize to find the posterior, we need to determine the marginal likelihood--or evidence--for the measurement we observed. To do this, we need to marginalize as we just did above to find the probabilities of a color or size. Only, in this case, we are marginalizing to remove a conditioning variable! In this case, let's consider the likelihood of fish (if we observed a fisher-person fishing on the **right**).\n",
        "\n",
        "| p(m\\|s)       | m = fish | m = no fish  |\n",
        "| ------------ | ---------- | -------------- |\n",
        "| s = left     | 0.1      | 0.9          |\n",
        "| s = right    | 0.5      | 0.5          |\n",
        "\n",
        "\n",
        "The table above shows us the **likelihoods**, just as we explored earlier.\n",
        "\n",
        "You want to know the total probability of a fish being caught, $P(m = \\textrm{fish})$, by the fisher-person fishing on the right. (You would need this to calculate the posterior.) To do this, you will need to consider the prior probability, $p(s)$, and marginalize over the hidden states!\n",
        "\n",
        "This is an example of marginalizing, or conditioning away, the variable we are not interested in as well.\n",
        "\n",
        "Please complete the following math problems to further practice thinking through probabilities:\n",
        "\n",
        "1. Calculate the marginal likelihood of the fish being caught, $P(m = \\textrm{fish})$, if the priors are: $p(s = \\textrm{left}) = 0.3$ and $p(s = \\textrm{right}) = 0.7$.\n",
        "2. Calculate the marginal likelihood of the fish being caught,  $P(m = \\textrm{fish})$, if the priors are: $p(s = \\textrm{left}) = 0.6$ and $p(s = \\textrm{right}) = 0.4$.\n",
        "\n",
        "**We don't typically have math exercises in NMA but feel it is important for you to really compute this out yourself. Feel free to use the next cell to write out the math if helpful, or use paper and pen. We recommend doing this exercise individually first and then comparing notes and discussing.**\n"
      ]
    },
    {
      "cell_type": "code",
      "execution_count": null,
      "metadata": {
        "execution": {},
        "id": "D1JWE-r3Vayi"
      },
      "outputs": [],
      "source": [
        "\"\"\"\n",
        "\n",
        "Priors\n",
        "P(s = left) = 0.3\n",
        "P(s = right) = 0.7\n",
        "\n",
        "Likelihoods\n",
        "P(m = fish | s = left) = 0.1\n",
        "P(m = fish | s = right) = 0.5\n",
        "P(m = no fish | s = left) = 0.9\n",
        "P(m = no fish | s = right) = 0.5\n",
        "\n",
        "1. P(m = fish) = 0.1*0.3 + 0.5*0.7 \n",
        "\n",
        "2. P(m = fish) = 0.1*0.6 + 0.5*0.4\n",
        "\n",
        "\"\"\""
      ]
    },
    {
      "cell_type": "markdown",
      "metadata": {
        "execution": {},
        "id": "xw3nsyV5Vayk"
      },
      "source": [
        "[*Click for solution*](https://github.com/NeuromatchAcademy/course-content/tree/main//tutorials/W3D1_BayesianDecisions/solutions/W3D1_Tutorial1_Solution_63e04b30.py)\n",
        "\n"
      ]
    },
    {
      "cell_type": "markdown",
      "metadata": {
        "execution": {},
        "id": "ytQZmK_sVayk"
      },
      "source": [
        "---\n",
        "# Section 5: Bayes' Rule and the Posterior\n",
        "\n",
        "*Estimated timing to here from start of tutorial: 55 min*"
      ]
    },
    {
      "cell_type": "code",
      "execution_count": 13,
      "metadata": {
        "cellView": "form",
        "execution": {},
        "id": "ckjZalvlVayl",
        "outputId": "9aaf2574-2bcd-497e-bc8d-25f0c471d0f3",
        "colab": {
          "base_uri": "https://localhost:8080/",
          "height": 580,
          "referenced_widgets": [
            "eed5633f3f214bd0ba48e63f1ca226d8",
            "2759452808964da18e5bfe2799a53734",
            "6f7e2b6382364d6bacee5e2d36f79aca",
            "b26b0231f1e44fa6a63aab22882b0d0c",
            "3a00be15a5724004b9654e5819c63a8d",
            "ddf45410959a458d95fe7991e3f15d45"
          ]
        }
      },
      "outputs": [
        {
          "output_type": "display_data",
          "data": {
            "text/plain": [
              "Tab(children=(Output(), Output()), _titles={'0': 'Youtube', '1': 'Bilibili'})"
            ],
            "application/vnd.jupyter.widget-view+json": {
              "version_major": 2,
              "version_minor": 0,
              "model_id": "eed5633f3f214bd0ba48e63f1ca226d8"
            }
          },
          "metadata": {}
        }
      ],
      "source": [
        "# @title Video 7: Posterior Beliefs\n",
        "from ipywidgets import widgets\n",
        "\n",
        "out2 = widgets.Output()\n",
        "with out2:\n",
        "  from IPython.display import IFrame\n",
        "  class BiliVideo(IFrame):\n",
        "      def __init__(self, id, page=1, width=400, height=300, **kwargs):\n",
        "          self.id=id\n",
        "          src = 'https://player.bilibili.com/player.html?bvid={0}&page={1}'.format(id, page)\n",
        "          super(BiliVideo, self).__init__(src, width, height, **kwargs)\n",
        "\n",
        "  video = BiliVideo(id=\"BV1fK4y1M7EC\", width=854, height=480, fs=1)\n",
        "  print('Video available at https://www.bilibili.com/video/{0}'.format(video.id))\n",
        "  display(video)\n",
        "\n",
        "out1 = widgets.Output()\n",
        "with out1:\n",
        "  from IPython.display import YouTubeVideo\n",
        "  video = YouTubeVideo(id=\"cOAJQ4utwD0\", width=854, height=480, fs=1, rel=0)\n",
        "  print('Video available at https://youtube.com/watch?v=' + video.id)\n",
        "  display(video)\n",
        "\n",
        "out = widgets.Tab([out1, out2])\n",
        "out.set_title(0, 'Youtube')\n",
        "out.set_title(1, 'Bilibili')\n",
        "\n",
        "display(out)"
      ]
    },
    {
      "cell_type": "markdown",
      "metadata": {
        "execution": {},
        "id": "UDE4rq4iVaym"
      },
      "source": [
        "Marginalization is going to be used to combine our prior knowledge, which we call the **prior**, and our new information from a measurement, the **likelihood**. Only in this case, the information we gain about the hidden state we are interested in, where the fish are, is based on the relationship between the probabilities of the measurement and our prior. \n",
        "\n",
        "We can now calculate the full posterior distribution for the hidden state ($s$) using Bayes' Rule. As we've seen, the posterior is proportional to the prior times the likelihood. This means that the posterior probability of the hidden state ($s$) given a measurement ($m$) is proportional to the likelihood of the measurement given the state times the prior probability of that state:\n",
        "\n",
        "\\begin{equation}\n",
        "P(s | m) \\propto P(m | s) P(s)\n",
        "\\end{equation}\n",
        "\n",
        "We say proportional to instead of equal because we need to normalize to produce a full probability distribution:\n",
        "\n",
        "\\begin{equation}\n",
        "P(s | m) = \\frac{P(m | s) P(s)}{P(m)}\n",
        "\\end{equation}\n",
        "\n",
        "Normalizing by this $P(m)$ means that our posterior is a complete probability distribution that sums or integrates to 1 appropriately. We now can use this new, complete probability distribution for any future inference or decisions we like! In fact, as we will see tomorrow, we can use it as a new prior! Finally, we often call this probability distribution our beliefs over the hidden states, to emphasize that it is our subjective knowledge about the hidden state.\n",
        "\n",
        "For many complicated cases, like those we might be using to model behavioral or brain inferences, the normalization term can be intractable or extremely complex to calculate. We can be careful to choose probability distributions whfere we can analytically calculate the posterior probability or numerical approximation is reliable. Better yet, we sometimes don't need to bother with this normalization! The normalization term, $P(m)$, is the probability of the measurement. This does not depend on state so is essentially a constant we can often ignore. We can compare the unnormalized posterior distribution values for different states because how they relate to each other is unchanged when divided by the same constant. We will see how to do this to compare evidence for different hypotheses tomorrow. (It's also used to compare the likelihood of models fit using maximum likelihood estimation)\n",
        "\n",
        "In this relatively simple example, we can compute the marginal likelihood $P(m)$ easily by using:\n",
        "\n",
        "\\begin{equation}\n",
        "P(m) = \\sum_s P(m | s) P(s)\n",
        "\\end{equation}\n",
        "\n",
        "We can then normalize so that we deal with the full posterior distribution."
      ]
    },
    {
      "cell_type": "markdown",
      "metadata": {
        "execution": {},
        "id": "7Zi--8PCVaym"
      },
      "source": [
        "## Math Exercise 5: Calculating a posterior probability\n",
        "\n",
        "Our prior is $p(s = \\textrm{left}) = 0.3$ and $p(s = \\textrm{right}) = 0.7$. In the video, we learned that the chance of catching a fish given they fish on the same side as the school was 50%. Otherwise, it was 10%. We observe a person fishing on the left side. Our likelihood is: \n",
        "\n",
        "\n",
        "| Likelihood: p(m \\| s) | m = fish   | m = no fish  |\n",
        "| ----------------- |----------|----------|\n",
        "| s = left          | 0.5          | 0.5         |\n",
        "| s = right         | 0.1        |  0.9       |\n",
        "\n",
        "\n",
        "Calculate the posterior probability (on paper) that:\n",
        "\n",
        "1. The school is on the left if the fisher-person catches a fish: $p(s = \\textrm{left} | m = \\textrm{fish})$ (hint: normalize by computing $p(m = \\textrm{fish})$)\n",
        "2. The school is on the right if the fisher-person does not catch a fish: $p(s = \\textrm{right} | m = \\textrm{no fish})$\n",
        "\n",
        "**We don't typically have math exercises in NMA but feel it is important for you to really compute this out yourself. Feel free to use the next cell to write out the math if helpful, or use paper and pen. We recommend doing this exercise individually first and then comparing notes and discussing.**"
      ]
    },
    {
      "cell_type": "code",
      "execution_count": null,
      "metadata": {
        "execution": {},
        "id": "dyZ__n6GVayn"
      },
      "outputs": [],
      "source": [
        "\"\"\"\n",
        "Priors\n",
        "p(s = left) = 0.3\n",
        "p(s = right) = 0.7\n",
        "\n",
        "Likelihoods\n",
        "P(m = fish | s = left) = 0.5\n",
        "P(m = fish | s = right) = 0.1\n",
        "P(m = no fish | s = left) = 0.5\n",
        "P(m = no fish | s = right) = 0.9\n",
        "\n",
        "1. p( s = left | m = fish) = 0.5*0.3/(0.5*0.3 + 0.1*0.7) = 0.15/(0.22) = \n",
        "\n",
        "2. p( s = right | m = no fish ) = 0.9*0.7 / (0.5*0.3 + 0.9*0.7) = \n",
        "\n",
        "\"\"\""
      ]
    },
    {
      "cell_type": "markdown",
      "metadata": {
        "execution": {},
        "id": "935BHYolVayn"
      },
      "source": [
        "[*Click for solution*](https://github.com/NeuromatchAcademy/course-content/tree/main//tutorials/W3D1_BayesianDecisions/solutions/W3D1_Tutorial1_Solution_ef5710ed.py)\n",
        "\n"
      ]
    },
    {
      "cell_type": "markdown",
      "metadata": {
        "execution": {},
        "id": "Oj1kXaBuVayn"
      },
      "source": [
        "## Coding Exercise 5: Computing Posteriors\n",
        "\n",
        "Let's implement our above math to be able to compute posteriors for different priors and likelihoods.\n",
        "\n",
        "As before, our prior is $p(s = \\textrm{left}) = 0.3$ and $p(s = \\textrm{right}) = 0.7$. In the video, we learned that the chance of catching a fish given they fish on the same side as the school was 50%. Otherwise, it was 10%. We observe a person fishing on the left side. Our likelihood is: \n",
        "\n",
        "\n",
        "| Likelihood: p(m \\| s) | m = fish   | m = no fish  |\n",
        "| ----------------- |----------|----------|\n",
        "| s = left          | 0.5          | 0.5         |\n",
        "| s = right         | 0.1        |  0.9       |\n",
        "\n",
        "\n",
        "We want our full posterior to take the same 2 by 2 form. Make sure the outputs match your math answers!\n",
        "\n"
      ]
    },
    {
      "cell_type": "code",
      "execution_count": 14,
      "metadata": {
        "execution": {},
        "id": "73o_CDFoVayo",
        "outputId": "6fa57a85-a969-4f42-cbd0-3fe1fc467ca4",
        "colab": {
          "base_uri": "https://localhost:8080/",
          "height": 362
        }
      },
      "outputs": [
        {
          "output_type": "display_data",
          "data": {
            "text/plain": [
              "<Figure size 864x288 with 3 Axes>"
            ],
            "image/png": "[encoded data removed]"
          },
          "metadata": {
            "image/png": {
              "width": 834,
              "height": 345
            },
            "needs_background": "light"
          }
        }
      ],
      "source": [
        "def compute_posterior(likelihood, prior):\n",
        "  \"\"\" Use Bayes' Rule to compute posterior from likelihood and prior\n",
        "\n",
        "  Args:\n",
        "    likelihood (ndarray): i x j array with likelihood probabilities where i is\n",
        "                    number of state options, j is number of measurement options\n",
        "    prior (ndarray): i x 1 array with prior probability of each state\n",
        "\n",
        "  Returns:\n",
        "    ndarray: i x j array with posterior probabilities where i is\n",
        "            number of state options, j is number of measurement options\n",
        "\n",
        "  \"\"\"\n",
        "\n",
        "  #################################################\n",
        "  ## TODO for students ##\n",
        "  # Fill out function and remove\n",
        "  #raise NotImplementedError(\"Student exercise: implement compute_posterior\")\n",
        "  #################################################\n",
        "\n",
        "  # Compute unnormalized posterior (likelihood times prior)\n",
        "  posterior = likelihood * prior # first row is s = left, second row is s = right\n",
        "\n",
        "  # Compute p(m)\n",
        "  p_m = np.sum(posterior, axis = 0)\n",
        "\n",
        "  # Normalize posterior (divide elements by p_m)\n",
        "  posterior /= p_m\n",
        "\n",
        "  return posterior\n",
        "\n",
        "\n",
        "# Make prior\n",
        "prior = np.array([0.3, 0.7]).reshape((2, 1)) # first row is s = left, second row is s = right\n",
        "\n",
        "# Make likelihood\n",
        "likelihood = np.array([[0.5, 0.5], [0.1, 0.9]]) # first row is s = left, second row is s = right\n",
        "\n",
        "# Compute posterior\n",
        "posterior = compute_posterior(likelihood, prior)\n",
        "\n",
        "# Visualize\n",
        "plot_prior_likelihood_posterior(prior, likelihood, posterior)"
      ]
    },
    {
      "cell_type": "markdown",
      "metadata": {
        "execution": {},
        "id": "_UHokOVpVayp"
      },
      "source": [
        "[*Click for solution*](https://github.com/NeuromatchAcademy/course-content/tree/main//tutorials/W3D1_BayesianDecisions/solutions/W3D1_Tutorial1_Solution_1a2cc907.py)\n",
        "\n",
        "*Example output:*\n",
        "\n",
        "<img alt='Solution hint' align='left' width=1665.0 height=674.0 src=https://raw.githubusercontent.com/NeuromatchAcademy/course-content/main/tutorials/W3D1_BayesianDecisions/static/W3D1_Tutorial1_Solution_1a2cc907_0.png>\n",
        "\n"
      ]
    },
    {
      "cell_type": "markdown",
      "metadata": {
        "execution": {},
        "id": "1K3nIJuFVayp"
      },
      "source": [
        "## Interactive Demo 5: What affects the posterior?\n",
        "\n",
        "Now that we can understand the implementation of *Bayes rule*, let's vary the parameters of the prior and likelihood to see how changing the prior and likelihood affect the posterior. \n",
        "\n",
        "In the demo below, you can change the prior by playing with the slider for $p( s = left)$. You can also change the likelihood by changing the probability of catching a fish given that the school is on the left and the probability of catching a fish given that the school is on the right. The fisher-person you are observing is fishing on the left.\n",
        " \n",
        "\n",
        "1.   Keeping the likelihood constant, when does the prior have the strongest influence over the posterior? Meaning, when does the posterior look most like the prior no matter whether a fish was caught or not?\n",
        "2.   What happens if the likelihoods for catching a fish are similar when you fish on the correct or incorrect side?\n",
        "3.  Set the prior probability of the state = left to 0.6 and play with the likelihood. When does the likelihood exert the most influence over the posterior?"
      ]
    },
    {
      "cell_type": "code",
      "execution_count": 15,
      "metadata": {
        "cellView": "form",
        "execution": {},
        "id": "-wg0uccHVayp",
        "outputId": "c56bd2bf-32c4-4538-9f1a-d5a6d819de39",
        "colab": {
          "base_uri": "https://localhost:8080/",
          "height": 459,
          "referenced_widgets": [
            "de23095dc7ea422dab1e33b26e62bc37",
            "f5b900c2becd468c973287ef2efa60fa",
            "6775c8a2b6e54b7c9e0914c153b3b138",
            "2014ecc23df6479891d808e58c8b0a6f",
            "fcc63bd78e8a4459acdf9cff0f3a324c",
            "cdbcea661f184ea986756387f870bc77",
            "ec2ce24fd5274cc58f847fc8c0a06326",
            "2b227979fb02429a852db7d1bec3230e",
            "0314a75f3b424976a6780b44394845bb",
            "d01125e240a143fda0c8c3584513af37",
            "64710926199248fda2794ffb84d7f4dd",
            "4df1e53c437448ef8538d4bb39e7f0cd",
            "48d87ab502784ba0b6706b32fd19fba2",
            "8e825b7ff17c4c59b6e5296ec92117f3",
            "76850dc2ae834998966c9ba52f74951e",
            "0aed77827c7648419e10a51dac0c04e8",
            "4d2ccf23800c490581ece7d04a3f293c",
            "6a3b5be5343d4f8a973dc68c853c9888"
          ]
        }
      },
      "outputs": [
        {
          "output_type": "display_data",
          "data": {
            "text/plain": [
              "VBox(children=(FloatSlider(value=0.3, description='p(s = left)', max=0.99, min=0.01, step=0.01), HBox(children…"
            ],
            "application/vnd.jupyter.widget-view+json": {
              "version_major": 2,
              "version_minor": 0,
              "model_id": "de23095dc7ea422dab1e33b26e62bc37"
            }
          },
          "metadata": {}
        },
        {
          "output_type": "display_data",
          "data": {
            "text/plain": [
              "Output()"
            ],
            "application/vnd.jupyter.widget-view+json": {
              "version_major": 2,
              "version_minor": 0,
              "model_id": "4d2ccf23800c490581ece7d04a3f293c"
            }
          },
          "metadata": {}
        }
      ],
      "source": [
        "# @markdown Execute this cell to enable the widget\n",
        "# style = {'description_width': 'initial'}\n",
        "ps_widget = widgets.FloatSlider(0.3, description='p(s = left)',\n",
        "                                min=0.01, max=0.99, step=0.01)\n",
        "p_a_s1_widget = widgets.FloatSlider(0.5, description='p(fish on left | state = left)',\n",
        "                                    min=0.01, max=0.99, step=0.01, style=style, layout=Layout(width='370px'))\n",
        "p_a_s0_widget = widgets.FloatSlider(0.1, description='p(fish on left | state = right)',\n",
        "                                    min=0.01, max=0.99, step=0.01, style=style, layout=Layout(width='370px'))\n",
        "# observed_widget = widgets.Checkbox(value=False, description='Observed fish (m)',\n",
        "#                                  disabled=False, indent=False,\n",
        "#                                  layout=Layout(display=\"flex\", justify_content=\"center\"))\n",
        "\n",
        "observed_widget = ToggleButtons(options=['Fish', 'No Fish'],\n",
        "    description='Observation (m) on the left:', disabled=False, button_style='',\n",
        "    layout=Layout(width='auto', display=\"flex\"),\n",
        "    style={'description_width': 'initial'}\n",
        ")\n",
        "\n",
        "widget_ui = VBox([ps_widget,\n",
        "                  HBox([p_a_s1_widget, p_a_s0_widget]),\n",
        "                  observed_widget])\n",
        "widget_out = interactive_output(plot_prior_likelihood,\n",
        "                                {'ps': ps_widget,\n",
        "                                'p_a_s1': p_a_s1_widget,\n",
        "                                'p_a_s0': p_a_s0_widget,\n",
        "                                'measurement': observed_widget})\n",
        "display(widget_ui, widget_out)\n",
        "\n",
        "# @widgets.interact(\n",
        "#     ps=ps_widget,\n",
        "#     p_a_s1=p_a_s1_widget,\n",
        "#     p_a_s0=p_a_s0_widget,\n",
        "#     m_right=observed_widget\n",
        "# )\n",
        "# def make_prior_likelihood_plot(ps,p_a_s1,p_a_s0,m_right):\n",
        "#     fig = plot_prior_likelihood(ps,p_a_s1,p_a_s0,m_right)\n",
        "#     plt.show(fig)\n",
        "#     plt.close(fig)\n",
        "#     return None"
      ]
    },
    {
      "cell_type": "markdown",
      "metadata": {
        "execution": {},
        "id": "NI-TgSVrVayq"
      },
      "source": [
        "[*Click for solution*](https://github.com/NeuromatchAcademy/course-content/tree/main//tutorials/W3D1_BayesianDecisions/solutions/W3D1_Tutorial1_Solution_122410a7.py)\n",
        "\n"
      ]
    },
    {
      "cell_type": "code",
      "execution_count": 16,
      "metadata": {
        "cellView": "form",
        "execution": {},
        "id": "737udNn-Vayq",
        "outputId": "e64a8a29-1c15-4e89-91ad-d2034b45be83",
        "colab": {
          "base_uri": "https://localhost:8080/",
          "height": 580,
          "referenced_widgets": [
            "22f7de687cce4ca8beb849fde6ea623d",
            "6186105db3154432a781d354fc0f943a",
            "05ddf4f8609b4089b6facd74b9ce36a2",
            "d2b243c2cff44b15a1cc774dff64bc27",
            "522aa6445f9f416f8a221184dc8e6850",
            "61dd45f6c08a4bd5b1d3adbccae7fc39"
          ]
        }
      },
      "outputs": [
        {
          "output_type": "display_data",
          "data": {
            "text/plain": [
              "Tab(children=(Output(), Output()), _titles={'0': 'Youtube', '1': 'Bilibili'})"
            ],
            "application/vnd.jupyter.widget-view+json": {
              "version_major": 2,
              "version_minor": 0,
              "model_id": "22f7de687cce4ca8beb849fde6ea623d"
            }
          },
          "metadata": {}
        }
      ],
      "source": [
        "# @title Video 8: Posterior Beliefs Exercises Discussion\n",
        "from ipywidgets import widgets\n",
        "\n",
        "out2 = widgets.Output()\n",
        "with out2:\n",
        "  from IPython.display import IFrame\n",
        "  class BiliVideo(IFrame):\n",
        "      def __init__(self, id, page=1, width=400, height=300, **kwargs):\n",
        "          self.id=id\n",
        "          src = 'https://player.bilibili.com/player.html?bvid={0}&page={1}'.format(id, page)\n",
        "          super(BiliVideo, self).__init__(src, width, height, **kwargs)\n",
        "\n",
        "  video = BiliVideo(id=\"BV1TU4y1G7SM\", width=854, height=480, fs=1)\n",
        "  print('Video available at https://www.bilibili.com/video/{0}'.format(video.id))\n",
        "  display(video)\n",
        "\n",
        "out1 = widgets.Output()\n",
        "with out1:\n",
        "  from IPython.display import YouTubeVideo\n",
        "  video = YouTubeVideo(id=\"YPQgLVolvBs\", width=854, height=480, fs=1, rel=0)\n",
        "  print('Video available at https://youtube.com/watch?v=' + video.id)\n",
        "  display(video)\n",
        "\n",
        "out = widgets.Tab([out1, out2])\n",
        "out.set_title(0, 'Youtube')\n",
        "out.set_title(1, 'Bilibili')\n",
        "\n",
        "display(out)"
      ]
    },
    {
      "cell_type": "markdown",
      "metadata": {
        "execution": {},
        "id": "1UB3XkElVayr"
      },
      "source": [
        "# Section 6: Making Bayesian fishing decisions\n",
        "\n",
        "*Estimated timing to here from start of tutorial: 1 hr, 15 min*"
      ]
    },
    {
      "cell_type": "code",
      "execution_count": 17,
      "metadata": {
        "cellView": "form",
        "execution": {},
        "id": "VCwILYmcVays",
        "outputId": "d8a20ad3-b38d-4e18-9f6c-846723c7a150",
        "colab": {
          "base_uri": "https://localhost:8080/",
          "height": 580,
          "referenced_widgets": [
            "91137293d01f49bd98be5e927eb2f9aa",
            "16e96a93f26141649daa77af28ee3c99",
            "707a3be170b544d58ac6d8e24f1ddbd3",
            "8471fdc31a10492cb5ba84de87ddf6da",
            "57f747eeb8664bbbb4279f8c4db67a2f",
            "13adb7403a5246a6ad03ba60691fdaff"
          ]
        }
      },
      "outputs": [
        {
          "output_type": "display_data",
          "data": {
            "text/plain": [
              "Tab(children=(Output(), Output()), _titles={'0': 'Youtube', '1': 'Bilibili'})"
            ],
            "application/vnd.jupyter.widget-view+json": {
              "version_major": 2,
              "version_minor": 0,
              "model_id": "91137293d01f49bd98be5e927eb2f9aa"
            }
          },
          "metadata": {}
        }
      ],
      "source": [
        "# @title Video 9: Bayesian Decisions\n",
        "from ipywidgets import widgets\n",
        "\n",
        "out2 = widgets.Output()\n",
        "with out2:\n",
        "  from IPython.display import IFrame\n",
        "  class BiliVideo(IFrame):\n",
        "      def __init__(self, id, page=1, width=400, height=300, **kwargs):\n",
        "          self.id=id\n",
        "          src = 'https://player.bilibili.com/player.html?bvid={0}&page={1}'.format(id, page)\n",
        "          super(BiliVideo, self).__init__(src, width, height, **kwargs)\n",
        "\n",
        "  video = BiliVideo(id=\"BV1954y1n7uH\", width=854, height=480, fs=1)\n",
        "  print('Video available at https://www.bilibili.com/video/{0}'.format(video.id))\n",
        "  display(video)\n",
        "\n",
        "out1 = widgets.Output()\n",
        "with out1:\n",
        "  from IPython.display import YouTubeVideo\n",
        "  video = YouTubeVideo(id=\"tz9zsmTHR68\", width=854, height=480, fs=1, rel=0)\n",
        "  print('Video available at https://youtube.com/watch?v=' + video.id)\n",
        "  display(video)\n",
        "\n",
        "out = widgets.Tab([out1, out2])\n",
        "out.set_title(0, 'Youtube')\n",
        "out.set_title(1, 'Bilibili')\n",
        "\n",
        "display(out)"
      ]
    },
    {
      "cell_type": "markdown",
      "metadata": {
        "execution": {},
        "id": "YMBI13ojVays"
      },
      "source": [
        "\n",
        "We will explore how to consider the expected utility of an action based on our belief (the posterior distribution) about where we think the fish are. Now we have all the components of a Bayesian decision: our prior information, the likelihood given a measurement, the posterior distribution (belief) and our utility (the gains and losses). This allows us to consider the relationship between the true value of the hidden state, $s$, and what we *expect* to get if we take action, $a$, based on our belief!\n",
        "\n",
        "Let's use the following widget to think about the relationship between these probability distributions and utility function."
      ]
    },
    {
      "cell_type": "markdown",
      "metadata": {
        "execution": {},
        "id": "cfJJ2We_Vayt"
      },
      "source": [
        "## Interactive Demo! 6: What is more important, the probabilities or the utilities?\n",
        "\n",
        "We are now going to put everything we've learned together to gain some intuitions for how each of the elements that goes into a Bayesian decision comes together. Remember, the common assumption in neuroscience, psychology, economics, ecology, etc. is that we (humans and animals) are trying to maximize our expected utility. There is a lot going on in this demo as it brings everything in this tutorial together in one place - please spend time making sure you understand the controls and the plots, especially how everything relates together.\n",
        "\n",
        "1. Can you find a situation where the expected utility is the same for both actions?\n",
        "2. What is more important for determining the expected utility: the prior or a new measurement (the likelihood)?\n",
        "3. Why is this a normative model?\n",
        "4. Can you think of ways in which this model would need to be extended to describe human or animal behavior?"
      ]
    },
    {
      "cell_type": "code",
      "execution_count": 18,
      "metadata": {
        "cellView": "form",
        "execution": {},
        "id": "wI6tOUdtVayt",
        "outputId": "eb6401da-468b-46b5-95aa-efc369efe3e2",
        "colab": {
          "base_uri": "https://localhost:8080/",
          "height": 663,
          "referenced_widgets": [
            "961169f663a04fc8bf315f9c2d7ee34c",
            "2e35845d101b44f199df1682e7e6f8b7",
            "0e005e1baa0a49a3ae5df7ca714d0f6c",
            "23fc0f59299f43dea184295a6509fd4f",
            "7e00e182c51740eb9640e8a5eb758661",
            "ff51249076694cd6a7e1044e18f48e99",
            "ef2c6ee7b8064e57ab4072412a121615",
            "4a00749aaac34f7bb66ae1a91f470b29",
            "465b558febba4dd6a82a2ae1cb318f06",
            "964fb288473b4530bb274860313420e3",
            "eedcdce7945343b586251121698022b2",
            "0dbb12cedcff4b7399ca6864379fa8b7",
            "d532df5474a446bca6ed59b988ca0077",
            "6a015cacb23e46f6945e042a7cacff1a",
            "40ae288e794c42ac9fa00629a076a98a",
            "09566c8d81a64ca6bf8ebb9c66151092",
            "9b56c4a76236401a975f8c8828367138",
            "293c7692011f43a184303e2d0a5b571b"
          ]
        }
      },
      "outputs": [
        {
          "output_type": "display_data",
          "data": {
            "text/plain": [
              "VBox(children=(FloatSlider(value=0.3, description='p(s = left)', layout=Layout(width='300px'), max=0.99, min=0…"
            ],
            "application/vnd.jupyter.widget-view+json": {
              "version_major": 2,
              "version_minor": 0,
              "model_id": "961169f663a04fc8bf315f9c2d7ee34c"
            }
          },
          "metadata": {}
        },
        {
          "output_type": "display_data",
          "data": {
            "text/plain": [
              "Output()"
            ],
            "application/vnd.jupyter.widget-view+json": {
              "version_major": 2,
              "version_minor": 0,
              "model_id": "9b56c4a76236401a975f8c8828367138"
            }
          },
          "metadata": {}
        }
      ],
      "source": [
        "# @markdown Execute this cell to enable the widget\n",
        "# style = {'description_width': 'initial'}\n",
        "\n",
        "ps_widget = widgets.FloatSlider(0.3, description='p(s = left)',\n",
        "                                min=0.01, max=0.99, step=0.01, layout=Layout(width='300px'))\n",
        "p_a_s1_widget = widgets.FloatSlider(0.5, description='p(fish on left | state = left)',\n",
        "                                    min=0.01, max=0.99, step=0.01, style=style, layout=Layout(width='370px'))\n",
        "p_a_s0_widget = widgets.FloatSlider(0.1, description='p(fish on left | state = right)',\n",
        "                                    min=0.01, max=0.99, step=0.01, style=style, layout=Layout(width='370px'))\n",
        "\n",
        "observed_widget = ToggleButtons(options=['Fish', 'No Fish'],\n",
        "    description='Observation (m) on the left:', disabled=False, button_style='',\n",
        "    layout=Layout(width='auto', display=\"flex\"),\n",
        "    style={'description_width': 'initial'}\n",
        ")\n",
        "\n",
        "widget_ui = VBox([ps_widget,\n",
        "                  HBox([p_a_s1_widget, p_a_s0_widget]),\n",
        "                  observed_widget])\n",
        "\n",
        "widget_out = interactive_output(plot_prior_likelihood_utility,\n",
        "                                {'ps': ps_widget,\n",
        "                                'p_a_s1': p_a_s1_widget,\n",
        "                                'p_a_s0': p_a_s0_widget,\n",
        "                                'measurement': observed_widget})\n",
        "display(widget_ui, widget_out)\n",
        "\n",
        "# @widgets.interact(\n",
        "#     ps=ps_widget,\n",
        "#     p_a_s1=p_a_s1_widget,\n",
        "#     p_a_s0=p_a_s0_widget,\n",
        "#     m_right=observed_widget\n",
        "# )\n",
        "# def make_prior_likelihood_utility_plot(ps, p_a_s1, p_a_s0,m_right):\n",
        "#     fig = plot_prior_likelihood_utility(ps, p_a_s1, p_a_s0,m_right)\n",
        "#     plt.show(fig)\n",
        "#     plt.close(fig)\n",
        "#     return None"
      ]
    },
    {
      "cell_type": "markdown",
      "metadata": {
        "execution": {},
        "id": "iS3NZ8bsVayt"
      },
      "source": [
        "[*Click for solution*](https://github.com/NeuromatchAcademy/course-content/tree/main//tutorials/W3D1_BayesianDecisions/solutions/W3D1_Tutorial1_Solution_fb91b9f9.py)\n",
        "\n"
      ]
    },
    {
      "cell_type": "code",
      "execution_count": 19,
      "metadata": {
        "cellView": "form",
        "execution": {},
        "id": "G-_RL_oAVayu",
        "outputId": "564965fb-f895-4f85-dbe6-88438501e53b",
        "colab": {
          "base_uri": "https://localhost:8080/",
          "height": 580,
          "referenced_widgets": [
            "2e123c8b9c664494830b49351d42335b",
            "cd8b23c94ae54f81a93b64dbfd3b4796",
            "115adacb26d241d3bb7728184ebef57a",
            "fffb991b858c450db5c7401e0b65efd3",
            "ad5a31a5a4be4030bb5514c1e5824ea4",
            "f9a1bb858f7445ed812061cb92d98bce"
          ]
        }
      },
      "outputs": [
        {
          "output_type": "display_data",
          "data": {
            "text/plain": [
              "Tab(children=(Output(), Output()), _titles={'0': 'Youtube', '1': 'Bilibili'})"
            ],
            "application/vnd.jupyter.widget-view+json": {
              "version_major": 2,
              "version_minor": 0,
              "model_id": "2e123c8b9c664494830b49351d42335b"
            }
          },
          "metadata": {}
        }
      ],
      "source": [
        "# @title Video 10: Bayesian Decisions Demo Discussion\n",
        "from ipywidgets import widgets\n",
        "\n",
        "out2 = widgets.Output()\n",
        "with out2:\n",
        "  from IPython.display import IFrame\n",
        "  class BiliVideo(IFrame):\n",
        "      def __init__(self, id, page=1, width=400, height=300, **kwargs):\n",
        "          self.id=id\n",
        "          src = 'https://player.bilibili.com/player.html?bvid={0}&page={1}'.format(id, page)\n",
        "          super(BiliVideo, self).__init__(src, width, height, **kwargs)\n",
        "\n",
        "  video = BiliVideo(id=\"BV1QU4y137BS\", width=854, height=480, fs=1)\n",
        "  print('Video available at https://www.bilibili.com/video/{0}'.format(video.id))\n",
        "  display(video)\n",
        "\n",
        "out1 = widgets.Output()\n",
        "with out1:\n",
        "  from IPython.display import YouTubeVideo\n",
        "  video = YouTubeVideo(id=\"h9L0EYmUpHs\", width=854, height=480, fs=1, rel=0)\n",
        "  print('Video available at https://youtube.com/watch?v=' + video.id)\n",
        "  display(video)\n",
        "\n",
        "out = widgets.Tab([out1, out2])\n",
        "out.set_title(0, 'Youtube')\n",
        "out.set_title(1, 'Bilibili')\n",
        "\n",
        "display(out)"
      ]
    },
    {
      "cell_type": "markdown",
      "metadata": {
        "execution": {},
        "id": "NvQQEx3qVayv"
      },
      "source": [
        "---\n",
        "# Summary\n",
        "\n",
        "*Estimated timing of tutorial: 1 hour, 30 minutes*\n",
        "\n",
        "In this tutorial, you learned about combining prior information with new measurements to update your knowledge using Bayes Rule, in the context of a fishing problem. \n",
        "\n",
        "Specifically, we covered:\n",
        "\n",
        "* That the likelihood is the probability of the measurement given some hidden state\n",
        "\n",
        "* That how the prior and likelihood interact to create the posterior, the probability of the hidden state given a measurement, depends on how they covary\n",
        "\n",
        "* That utility is the gain from each action and state pair, and the expected utility for an action is the sum of the utility for all state pairs, weighted by the probability of that state happening. You can then choose the action with the highest expected utility.\n"
      ]
    },
    {
      "cell_type": "markdown",
      "metadata": {
        "execution": {},
        "id": "RJ2-XTVPVayw"
      },
      "source": [
        "---\n",
        "# Bonus"
      ]
    },
    {
      "cell_type": "markdown",
      "metadata": {
        "execution": {},
        "id": "SP44yjlpVayw"
      },
      "source": [
        "## Bonus Section 1: Correlation Formula\n",
        "\n",
        "To understand the way we calculate the correlation, we need to review the definition of covariance and correlation.\n",
        "\n",
        "Covariance:\n",
        "\n",
        "\\begin{equation}\n",
        "cov(X,Y) = \\sigma_{XY} = \\mathbb{E}[(X - \\mu_{x})(Y - \\mu_{y})] = \\mathbb{E}[X]\\mathbb{E}[Y] - \\mu_{x}\\mu_{y}\n",
        "\\end{equation}\n",
        "\n",
        "Correlation:\n",
        "\n",
        "\\begin{equation}\n",
        "\\rho_{XY} = \\frac{cov(Y,Y)}{\\sqrt{\\text{var}(X)\\text{var}(Y)}} = \\frac{\\sigma_{XY}}{\\sigma_{X}\\sigma_{Y}}\n",
        "\\end{equation}"
      ]
    }
  ],
  "metadata": {
    "colab": {
      "collapsed_sections": [
        "jWmfLbhzBpfz"
      ],
      "name": "W3D1_Tutorial1",
      "provenance": [],
      "toc_visible": true,
      "include_colab_link": true
    },
    "interpreter": {
      "hash": "3e19903e646247cead5404f55ff575624523d45cf244c3f93aaf5fa10367032a"
    },
    "kernel": {
      "display_name": "Python 3",
      "language": "python",
      "name": "python3"
    },
    "kernelspec": {
      "display_name": "Python 3.7.10 64-bit ('nma': conda)",
      "name": "python3"
    },
    "language_info": {
      "codemirror_mode": {
        "name": "ipython",
        "version": 3
      },
      "file_extension": ".py",
      "mimetype": "text/x-python",
      "name": "python",
      "nbconvert_exporter": "python",
      "pygments_lexer": "ipython3",
      "version": "3.7.13"
    },
    "widgets": {
      "application/vnd.jupyter.widget-state+json": {
        "44f1484554e2413196b4eda864f633df": {
          "model_module": "@jupyter-widgets/controls",
          "model_name": "TabModel",
          "model_module_version": "1.5.0",
          "state": {
            "_dom_classes": [],
            "_model_module": "@jupyter-widgets/controls",
            "_model_module_version": "1.5.0",
            "_model_name": "TabModel",
            "_titles": {
              "0": "Youtube",
              "1": "Bilibili"
            },
            "_view_count": null,
            "_view_module": "@jupyter-widgets/controls",
            "_view_module_version": "1.5.0",
            "_view_name": "TabView",
            "box_style": "",
            "children": [
              "IPY_MODEL_ecf9d6eef03e4f028e08398820dc46ea",
              "IPY_MODEL_b9fb0dac79fe44f5b58060d78312590a"
            ],
            "layout": "IPY_MODEL_2f8075db0161496eaba43d56e1355ccb",
            "selected_index": 0
          }
        },
        "ecf9d6eef03e4f028e08398820dc46ea": {
          "model_module": "@jupyter-widgets/output",
          "model_name": "OutputModel",
          "model_module_version": "1.0.0",
          "state": {
            "_dom_classes": [],
            "_model_module": "@jupyter-widgets/output",
            "_model_module_version": "1.0.0",
            "_model_name": "OutputModel",
            "_view_count": null,
            "_view_module": "@jupyter-widgets/output",
            "_view_module_version": "1.0.0",
            "_view_name": "OutputView",
            "layout": "IPY_MODEL_3f83375a83954fb0af0635323704a642",
            "msg_id": "",
            "outputs": [
              {
                "output_type": "stream",
                "name": "stdout",
                "text": [
                  "Video available at https://youtube.com/watch?v=Hcx2_JTpf2M\n"
                ]
              },
              {
                "output_type": "display_data",
                "data": {
                  "text/plain": "<IPython.lib.display.YouTubeVideo at 0x7f0a65698850>",
                  "text/html": "\n        <iframe\n            width=\"854\"\n            height=\"480\"\n            src=\"https://www.youtube.com/embed/Hcx2_JTpf2M?fs=1&rel=0\"\n            frameborder=\"0\"\n            allowfullscreen\n        ></iframe>\n        ",
                  "image/jpeg": "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\n"
                },
                "metadata": {}
              }
            ]
          }
        },
        "b9fb0dac79fe44f5b58060d78312590a": {
          "model_module": "@jupyter-widgets/output",
          "model_name": "OutputModel",
          "model_module_version": "1.0.0",
          "state": {
            "_dom_classes": [],
            "_model_module": "@jupyter-widgets/output",
            "_model_module_version": "1.0.0",
            "_model_name": "OutputModel",
            "_view_count": null,
            "_view_module": "@jupyter-widgets/output",
            "_view_module_version": "1.0.0",
            "_view_name": "OutputView",
            "layout": "IPY_MODEL_b3bb344e69184afe9c78f203ca036625",
            "msg_id": "",
            "outputs": [
              {
                "output_type": "stream",
                "name": "stdout",
                "text": [
                  "Video available at https://www.bilibili.com/video/BV1Ch41167jN\n"
                ]
              },
              {
                "output_type": "display_data",
                "data": {
                  "text/plain": "<__main__.BiliVideo at 0x7f0a65698a10>",
                  "text/html": "\n        <iframe\n            width=\"854\"\n            height=\"480\"\n            src=\"https://player.bilibili.com/player.html?bvid=BV1Ch41167jN&page=1?fs=1\"\n            frameborder=\"0\"\n            allowfullscreen\n        ></iframe>\n        "
                },
                "metadata": {}
              }
            ]
          }
        },
        "2f8075db0161496eaba43d56e1355ccb": {
          "model_module": "@jupyter-widgets/base",
          "model_name": "LayoutModel",
          "model_module_version": "1.2.0",
          "state": {
            "_model_module": "@jupyter-widgets/base",
            "_model_module_version": "1.2.0",
            "_model_name": "LayoutModel",
            "_view_count": null,
            "_view_module": "@jupyter-widgets/base",
            "_view_module_version": "1.2.0",
            "_view_name": "LayoutView",
            "align_content": null,
            "align_items": null,
            "align_self": null,
            "border": null,
            "bottom": null,
            "display": null,
            "flex": null,
            "flex_flow": null,
            "grid_area": null,
            "grid_auto_columns": null,
            "grid_auto_flow": null,
            "grid_auto_rows": null,
            "grid_column": null,
            "grid_gap": null,
            "grid_row": null,
            "grid_template_areas": null,
            "grid_template_columns": null,
            "grid_template_rows": null,
            "height": null,
            "justify_content": null,
            "justify_items": null,
            "left": null,
            "margin": null,
            "max_height": null,
            "max_width": null,
            "min_height": null,
            "min_width": null,
            "object_fit": null,
            "object_position": null,
            "order": null,
            "overflow": null,
            "overflow_x": null,
            "overflow_y": null,
            "padding": null,
            "right": null,
            "top": null,
            "visibility": null,
            "width": null
          }
        },
        "3f83375a83954fb0af0635323704a642": {
          "model_module": "@jupyter-widgets/base",
          "model_name": "LayoutModel",
          "model_module_version": "1.2.0",
          "state": {
            "_model_module": "@jupyter-widgets/base",
            "_model_module_version": "1.2.0",
            "_model_name": "LayoutModel",
            "_view_count": null,
            "_view_module": "@jupyter-widgets/base",
            "_view_module_version": "1.2.0",
            "_view_name": "LayoutView",
            "align_content": null,
            "align_items": null,
            "align_self": null,
            "border": null,
            "bottom": null,
            "display": null,
            "flex": null,
            "flex_flow": null,
            "grid_area": null,
            "grid_auto_columns": null,
            "grid_auto_flow": null,
            "grid_auto_rows": null,
            "grid_column": null,
            "grid_gap": null,
            "grid_row": null,
            "grid_template_areas": null,
            "grid_template_columns": null,
            "grid_template_rows": null,
            "height": null,
            "justify_content": null,
            "justify_items": null,
            "left": null,
            "margin": null,
            "max_height": null,
            "max_width": null,
            "min_height": null,
            "min_width": null,
            "object_fit": null,
            "object_position": null,
            "order": null,
            "overflow": null,
            "overflow_x": null,
            "overflow_y": null,
            "padding": null,
            "right": null,
            "top": null,
            "visibility": null,
            "width": null
          }
        },
        "b3bb344e69184afe9c78f203ca036625": {
          "model_module": "@jupyter-widgets/base",
          "model_name": "LayoutModel",
          "model_module_version": "1.2.0",
          "state": {
            "_model_module": "@jupyter-widgets/base",
            "_model_module_version": "1.2.0",
            "_model_name": "LayoutModel",
            "_view_count": null,
            "_view_module": "@jupyter-widgets/base",
            "_view_module_version": "1.2.0",
            "_view_name": "LayoutView",
            "align_content": null,
            "align_items": null,
            "align_self": null,
            "border": null,
            "bottom": null,
            "display": null,
            "flex": null,
            "flex_flow": null,
            "grid_area": null,
            "grid_auto_columns": null,
            "grid_auto_flow": null,
            "grid_auto_rows": null,
            "grid_column": null,
            "grid_gap": null,
            "grid_row": null,
            "grid_template_areas": null,
            "grid_template_columns": null,
            "grid_template_rows": null,
            "height": null,
            "justify_content": null,
            "justify_items": null,
            "left": null,
            "margin": null,
            "max_height": null,
            "max_width": null,
            "min_height": null,
            "min_width": null,
            "object_fit": null,
            "object_position": null,
            "order": null,
            "overflow": null,
            "overflow_x": null,
            "overflow_y": null,
            "padding": null,
            "right": null,
            "top": null,
            "visibility": null,
            "width": null
          }
        },
        "f14d6a85a8b14a4ba50e1187ad230a3a": {
          "model_module": "@jupyter-widgets/controls",
          "model_name": "TabModel",
          "model_module_version": "1.5.0",
          "state": {
            "_dom_classes": [],
            "_model_module": "@jupyter-widgets/controls",
            "_model_module_version": "1.5.0",
            "_model_name": "TabModel",
            "_titles": {
              "0": "Youtube",
              "1": "Bilibili"
            },
            "_view_count": null,
            "_view_module": "@jupyter-widgets/controls",
            "_view_module_version": "1.5.0",
            "_view_name": "TabView",
            "box_style": "",
            "children": [
              "IPY_MODEL_c43201ada8714b5d899632125272fb6d",
              "IPY_MODEL_11dfa4b587a94b7e8ff4c0d3886a0f94"
            ],
            "layout": "IPY_MODEL_37f02dd6577340fd860fb93898c5c477",
            "selected_index": 0
          }
        },
        "c43201ada8714b5d899632125272fb6d": {
          "model_module": "@jupyter-widgets/output",
          "model_name": "OutputModel",
          "model_module_version": "1.0.0",
          "state": {
            "_dom_classes": [],
            "_model_module": "@jupyter-widgets/output",
            "_model_module_version": "1.0.0",
            "_model_name": "OutputModel",
            "_view_count": null,
            "_view_module": "@jupyter-widgets/output",
            "_view_module_version": "1.0.0",
            "_view_name": "OutputView",
            "layout": "IPY_MODEL_65f85bf2f1ba48c89337c9413c11ddeb",
            "msg_id": "",
            "outputs": [
              {
                "output_type": "stream",
                "name": "stdout",
                "text": [
                  "Video available at https://youtube.com/watch?v=kAdBjWOI_yE\n"
                ]
              },
              {
                "output_type": "display_data",
                "data": {
                  "text/plain": "<IPython.lib.display.YouTubeVideo at 0x7f0a59a05ad0>",
                  "text/html": "\n        <iframe\n            width=\"854\"\n            height=\"480\"\n            src=\"https://www.youtube.com/embed/kAdBjWOI_yE?fs=1&rel=0\"\n            frameborder=\"0\"\n            allowfullscreen\n        ></iframe>\n        ",
                  "image/jpeg": "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\n"
                },
                "metadata": {}
              }
            ]
          }
        },
        "11dfa4b587a94b7e8ff4c0d3886a0f94": {
          "model_module": "@jupyter-widgets/output",
          "model_name": "OutputModel",
          "model_module_version": "1.0.0",
          "state": {
            "_dom_classes": [],
            "_model_module": "@jupyter-widgets/output",
            "_model_module_version": "1.0.0",
            "_model_name": "OutputModel",
            "_view_count": null,
            "_view_module": "@jupyter-widgets/output",
            "_view_module_version": "1.0.0",
            "_view_name": "OutputView",
            "layout": "IPY_MODEL_c50e7da19ee14864935a519947984681",
            "msg_id": "",
            "outputs": [
              {
                "output_type": "stream",
                "name": "stdout",
                "text": [
                  "Video available at https://www.bilibili.com/video/BV1TP4y147pJ\n"
                ]
              },
              {
                "output_type": "display_data",
                "data": {
                  "text/plain": "<__main__.BiliVideo at 0x7f0a59a05790>",
                  "text/html": "\n        <iframe\n            width=\"854\"\n            height=\"480\"\n            src=\"https://player.bilibili.com/player.html?bvid=BV1TP4y147pJ&page=1?fs=1\"\n            frameborder=\"0\"\n            allowfullscreen\n        ></iframe>\n        "
                },
                "metadata": {}
              }
            ]
          }
        },
        "37f02dd6577340fd860fb93898c5c477": {
          "model_module": "@jupyter-widgets/base",
          "model_name": "LayoutModel",
          "model_module_version": "1.2.0",
          "state": {
            "_model_module": "@jupyter-widgets/base",
            "_model_module_version": "1.2.0",
            "_model_name": "LayoutModel",
            "_view_count": null,
            "_view_module": "@jupyter-widgets/base",
            "_view_module_version": "1.2.0",
            "_view_name": "LayoutView",
            "align_content": null,
            "align_items": null,
            "align_self": null,
            "border": null,
            "bottom": null,
            "display": null,
            "flex": null,
            "flex_flow": null,
            "grid_area": null,
            "grid_auto_columns": null,
            "grid_auto_flow": null,
            "grid_auto_rows": null,
            "grid_column": null,
            "grid_gap": null,
            "grid_row": null,
            "grid_template_areas": null,
            "grid_template_columns": null,
            "grid_template_rows": null,
            "height": null,
            "justify_content": null,
            "justify_items": null,
            "left": null,
            "margin": null,
            "max_height": null,
            "max_width": null,
            "min_height": null,
            "min_width": null,
            "object_fit": null,
            "object_position": null,
            "order": null,
            "overflow": null,
            "overflow_x": null,
            "overflow_y": null,
            "padding": null,
            "right": null,
            "top": null,
            "visibility": null,
            "width": null
          }
        },
        "65f85bf2f1ba48c89337c9413c11ddeb": {
          "model_module": "@jupyter-widgets/base",
          "model_name": "LayoutModel",
          "model_module_version": "1.2.0",
          "state": {
            "_model_module": "@jupyter-widgets/base",
            "_model_module_version": "1.2.0",
            "_model_name": "LayoutModel",
            "_view_count": null,
            "_view_module": "@jupyter-widgets/base",
            "_view_module_version": "1.2.0",
            "_view_name": "LayoutView",
            "align_content": null,
            "align_items": null,
            "align_self": null,
            "border": null,
            "bottom": null,
            "display": null,
            "flex": null,
            "flex_flow": null,
            "grid_area": null,
            "grid_auto_columns": null,
            "grid_auto_flow": null,
            "grid_auto_rows": null,
            "grid_column": null,
            "grid_gap": null,
            "grid_row": null,
            "grid_template_areas": null,
            "grid_template_columns": null,
            "grid_template_rows": null,
            "height": null,
            "justify_content": null,
            "justify_items": null,
            "left": null,
            "margin": null,
            "max_height": null,
            "max_width": null,
            "min_height": null,
            "min_width": null,
            "object_fit": null,
            "object_position": null,
            "order": null,
            "overflow": null,
            "overflow_x": null,
            "overflow_y": null,
            "padding": null,
            "right": null,
            "top": null,
            "visibility": null,
            "width": null
          }
        },
        "c50e7da19ee14864935a519947984681": {
          "model_module": "@jupyter-widgets/base",
          "model_name": "LayoutModel",
          "model_module_version": "1.2.0",
          "state": {
            "_model_module": "@jupyter-widgets/base",
            "_model_module_version": "1.2.0",
            "_model_name": "LayoutModel",
            "_view_count": null,
            "_view_module": "@jupyter-widgets/base",
            "_view_module_version": "1.2.0",
            "_view_name": "LayoutView",
            "align_content": null,
            "align_items": null,
            "align_self": null,
            "border": null,
            "bottom": null,
            "display": null,
            "flex": null,
            "flex_flow": null,
            "grid_area": null,
            "grid_auto_columns": null,
            "grid_auto_flow": null,
            "grid_auto_rows": null,
            "grid_column": null,
            "grid_gap": null,
            "grid_row": null,
            "grid_template_areas": null,
            "grid_template_columns": null,
            "grid_template_rows": null,
            "height": null,
            "justify_content": null,
            "justify_items": null,
            "left": null,
            "margin": null,
            "max_height": null,
            "max_width": null,
            "min_height": null,
            "min_width": null,
            "object_fit": null,
            "object_position": null,
            "order": null,
            "overflow": null,
            "overflow_x": null,
            "overflow_y": null,
            "padding": null,
            "right": null,
            "top": null,
            "visibility": null,
            "width": null
          }
        },
        "0c1f0a9e87214497aec525d6dc02be25": {
          "model_module": "@jupyter-widgets/controls",
          "model_name": "TabModel",
          "model_module_version": "1.5.0",
          "state": {
            "_dom_classes": [],
            "_model_module": "@jupyter-widgets/controls",
            "_model_module_version": "1.5.0",
            "_model_name": "TabModel",
            "_titles": {
              "0": "Youtube",
              "1": "Bilibili"
            },
            "_view_count": null,
            "_view_module": "@jupyter-widgets/controls",
            "_view_module_version": "1.5.0",
            "_view_name": "TabView",
            "box_style": "",
            "children": [
              "IPY_MODEL_b10bb9dfee214712b82bfefe056e06d2",
              "IPY_MODEL_cb400ff88bf747c09f095d171abed3a0"
            ],
            "layout": "IPY_MODEL_db16385bee6d4b7f8bea21dbf4e9eff2",
            "selected_index": 0
          }
        },
        "b10bb9dfee214712b82bfefe056e06d2": {
          "model_module": "@jupyter-widgets/output",
          "model_name": "OutputModel",
          "model_module_version": "1.0.0",
          "state": {
            "_dom_classes": [],
            "_model_module": "@jupyter-widgets/output",
            "_model_module_version": "1.0.0",
            "_model_name": "OutputModel",
            "_view_count": null,
            "_view_module": "@jupyter-widgets/output",
            "_view_module_version": "1.0.0",
            "_view_name": "OutputView",
            "layout": "IPY_MODEL_882e1f0a5f264ee09f89d5756455bd8b",
            "msg_id": "",
            "outputs": [
              {
                "output_type": "stream",
                "name": "stdout",
                "text": [
                  "Video available at https://youtube.com/watch?v=8-5RM0k3IKE\n"
                ]
              },
              {
                "output_type": "display_data",
                "data": {
                  "text/plain": "<IPython.lib.display.YouTubeVideo at 0x7f0a664afc90>",
                  "text/html": "\n        <iframe\n            width=\"854\"\n            height=\"480\"\n            src=\"https://www.youtube.com/embed/8-5RM0k3IKE?fs=1&rel=0\"\n            frameborder=\"0\"\n            allowfullscreen\n        ></iframe>\n        ",
                  "image/jpeg": "/9j/4AAQSkZJRgABAQAAAQABAAD/2wCEAAUDBAkICAgICAgICAgICAgICAgICQgICAgICAgICAgICAgIChALCAgOCQgIDRUNDhERExMTCAsWGBYSGBASExIBBQUFCAcIDQgIDhINDQ8SEhISEhISEhISEhISEhISEhISEhISEhISEhISEhISEhISEhISEhISEhISEhISEhISEv/AABEIAWgB4AMBIgACEQEDEQH/xAAdAAEAAgIDAQEAAAAAAAAAAAAABgcDBQIECAEJ/8QAWRAAAQMDAQMGBwkMCAMFCQAAAQACAwQFERIGEyEHFBYxQZIIIlFSYdHSFTJTVHGBkZPiGCMzNkJVcpShsbK0JDRic3R1s8E3dvAlNYK14QkXVmODlcLT8f/EABoBAQEAAwEBAAAAAAAAAAAAAAABAwQFAgb/xAAlEQEAAgICAgEFAQEBAAAAAAAAARECAwQSITFBEyJRYXGBkRT/2gAMAwEAAhEDEQA/APGSIiAiIgIiICIiAiIgIiICIiAiIgIiICIiAiIgIiICIiAiIgIiICIiAiIgIiICIiAiIgIiICIiAiIgIiICIiAiIgIiICIiAiIgIiICIiAiIgIiICIiAiIgIiICIiAiIgIiICIiAiIgIiICIiAiIgIiICIiAiIgIiICIiAiIgIiICIiAiIgIiICIiAiIgIiICIiAiIgIiICLf8ARSfz4e8/2E6KT+fD3n+wg0CLf9FJ/Ph7z/YTopP58Pef7CDQIt/0Un8+HvP9hOik/nw95/sINAi3/RSfz4e8/wBhOik/nw95/sINAi3/AEUn8+HvP9hOik/nw95/sINAi3/RSfz4e8/2E6KT+fD3n+wg0CLf9FJ/Ph7z/YTopP58Pef7CDQIt/0Un8+HvP8AYTopP58Pef7CDQIt/wBFJ/Ph7z/YTopP58Pef7CDQIt/0Un8+HvP9hOik/nw95/sINAi3/RSfz4e8/2E6KT+fD3n+wg0CLf9FJ/Ph7z/AGE6KT+fD3n+wg0CLf8ARSfz4e8/2E6KT+fD3n+wg0CLf9FJ/Ph7z/YTopP58Pef7CDQIt/0Un8+HvP9hOik/nw95/sINAi3/RSfz4e8/wBhOik/nw95/sINAi3/AEUn8+HvP9hOik/nw95/sINAi3/RSfz4e8/2E6KT+fD3n+wg0CLf9FJ/Ph7z/YTopP58Pef7CDQIt/0Un8+HvP8AYTopP58Pef7CDQIt/wBFJ/Ph7z/YTopP58Pef7CDQIt/0Un8+HvP9hOik/nw95/sINAi3/RSfz4e8/2E6KT+fD3n+wg0CLf9FJ/Ph7z/AGE6KT+fD3n+wg0CLf8ARSfz4e8/2E6KT+fD3n+wg0CLf9FJ/Ph7z/YTopP58Pef7CDQIt/0Un8+HvP9hOik/nw95/sINAi3/RSfz4e8/wBhOik/nw95/sINAi3/AEUn8+HvP9hOik/nw95/sINAi3/RSfz4e8/2E6KT+fD3n+wgmaIi9PIiIgIiICIiAiIgIiICIiAiIgIiICIiAiIgIiICIiAiIgIiICIiAiIgIiICIiAiIgIiICIiAiIgIiICIiAiIgIiICIiAiIgIiICIiAiKNS7VhrnN3BOkkZ3nkOPMUVJUUX6XD4ufrfsJ0uHxc/W/YQpKEUX6XD4ufrfsJ0uHxc/W/YQpKEUX6XD4ufrfsJ0uHxc/W/YQpKEUX6XD4ufrfsJ0uHxc/W/YQpKEUX6XD4ufrfsJ0uHxc/W/YQpKEUX6XD4ufrfsJ0uHxc/W/YQpKEUX6XD4ufrfsJ0uHxc/W/YQpKEUX6XD4ufrfsJ0uHxc/W/YQpKEUX6XD4ufrfsJ0uHxc/W/YQpKEUX6XD4ufrfsJ0uHxc/W/YQpKEUX6XD4ufrfsJ0uHxc/W/YQpKEUX6XD4ufrfsJ0uHxc/W/YQpKEUX6XD4ufrfsJ0uHxc/W/YQpKEUX6XD4ufrfsJ0uHxc/W/YQpKEUX6XD4ufrfsJ0uHxc/W/YQpKEUco9qBJJHHuCNb2MzvM41ODc40cetSNAREVQREQEREBERAREQEREBERAREQEREBERAREQEREBERACrKr/CP/AE3fxFWaFWVX+Ef+m7+IqSsMSIiiiIiAiIgKScmOy3u3eLdaRPzbn9Syn3+7326158fda268Y6tQ+VRtWR4MH447O/5nB/ugteo8Fq2ivktDNubb7rsIYLfNRiCd0jo2ysjDTXFznFjmuw1rjg5wqF5TdiK3Z251FpuLGNqacsOuJxfBNHIwPjmgkc1pfE5p6yAQQ5pAc0gewtqeQyS6coFZfn3W3ClpKuhuD7fRzOqL0XUNNRuZA+kDWinMjoR4xeSA9hAOeHnbl927Ze9sn190ttZS0NPU0dNNbJ2mnuAt9K9pmimbqbuquRjpnYDvE3rQHHTqIVCi9V8j22my1+u9JYG7A2+noKwvpm1e/kqa6D71IYpJakxCXLiwNJEgc3XnU4t46zkl2NslDyhXXZa6UUNfQTy1dJb3VOoyU8rBzqkG9a4eMafeREj3zzGRjqQeZ0Vm2zklqJNtBsk8vDhdH0skw0h/MYtU76xgIIyaFpmaD5zQVbMXJnZ9p+UOttNupY7fYLFAW1vMw9hqnUUjY6hu8dnTK+rndFqByY6Yubx6g8sovYmw9NYNpbi/ZyXk/mslBUx1MVuvUcVRFXQOghkkgmqp5YR472RE4e+Qay1jhIHFyq/wcuSmiuG2tVYby4Sw2t1ybLC17oRWz2+oFNuQ5rg9rCS+QhpzpiIz1lBRam3J1sZR3SivlVV3yjtUtqojVUlJU7ne3aYQ1UgpKXeVEbt5qp42eI2Q5qGcOoGyOWfbm3RR3Gy1HJ5RWGt0llLUh25rKXTL4k500wbVscGOAc1+h2okOcOvD4M+yVvuNh29qa6jhqZ7bYnVNBLKCXUs4o7rJvYsHg7XDEePwYQUOinfJHtLZbW+rqLzY/d2bRCLfTyVD6aljk1P38lSWZ3o0FmGOY8Eg+94FXrHb7FtjsftFcodmqTZ642GHnUE1AC2KeMRPnwcRsbKHNgmYQ4O05Y4EZwg8novRfgd7C2i9UG1/uzHA1lJboHQ3CZuo2sSw3PfVsY1AZjETJOPwIU05GK/YjaK5v2Tpdk2x0clNUc1vVRUF90qH07N46aQ7veUznjePGmUgaWjQA7SwPICLa7X2nmFxr6HXvOZVtVSbwjBfzad8OvHZnRnHpWqQEREBERAREQduz/1mn/v4v8AUarHVcWf+s0/9/F/qNVjqwkiIiqCIiAiIgIiICIiAiIgIiICIiAiIgIiICIiAiIgIiIAVZVf4R/6bv4irNCrKr/CP/Td/EVJWGJERRRERAREQFZHgwfjjs7/AJnB/uq3XZtlfNSzR1FNNLTzwuD4p4JHxTRPHU+OSMhzHDygoPVnLXyQbWV23lbdbHRTwsdWUUlJdDNBTwwmOjpInzlzn6zGxzH5Aa4uDXANdnBlXLbbLJeOVPZy3VQgnAo3MurA9rY5aiKKuqrfSVGHcZS5sILHcXMmhbxBAHk2TlO2gcC120N8c0jBa66V5BHkIM3EKLtqHiQSh7xKH7wSBzhIJA7UHh+ch+rjnryg952Ko24G2baaSmbatkaG4SRRxwR0FJbTbQ58VDol/CVE02af72w5D5caIxlrfOfhSw19n27r7luZqZ/ujBcLdUSRPbFMYG00sc0D3DTM1sjWg6ScOBBwRhVxtDt/ebiyKOvvF0rI4XNfEypramZjJGZLJQ2SQjejJ8f33pXU2n2quV2fE653GtuD4m7uF1bUzVBiadIIY6d50A6WknhkjJyeKD3vtTcrZRUVbyo02htXXbMUlNSQua1+m4VD9DHS6T98ma80cDse9ZSS8cZXnjwEtt4LftJU09fUCEXqkdSx1MrhqNfvmSwh0shwHSffgC7Op7ox2rp+EfthbYrBs1sjYq2Kvo7bAay4VUGvcz3GQyA6DJhzfvstdLpOQBUxAHxVQKD1ntXdeVqhuMlvZJc60CV7IKykttBLRzxBxEc3OGUpjpw5oDtMrmubnBAKpXZzZvae47SXM0LJ3bS0FRXXCuNPNTwVLKqKtENc+J0b2xPfzioILIiQ4OdpBHBail5VdoooBTR7Q3pkAAa2NlxrGhrQMBjCJcsjxw0jA9C0Fr2hrqWpdW0tdWU1Y8vc+rgqJoal5kdrkLp43iRxc7iSTxPFB7T2brrttBsptHFyh2nm0Fro5JaG61tHzCt502GY7yCJzW6pmuEAbJC1rZN5uyJNRCqzwRPxb5S/+W3/AMhelSG1O3t4usbYbld7lXQsLS2Gqq6iaIOaCA/dPeW7zBPjYzx61rLTfqykjqYaSsq6WKsj3NXFTzzQx1UJa9hiqWRuDZ49Mkg0vBGJHDtKD0v4IOzw6N7R3q00FJc9q6KZkNuhqmxyupIXRRO5xTxye9ne19ZpP5ZpQwHBcDZmwdPthXbJ7Yx7Tc5mr621VHuTQSMpm1rmilqmzbuhpGB7Ncr4WNaW5c5uAOrPiHZfaWvtc3OLbXVdBOW6XS0k8tO9zNQdoeYnDXHkA6XZBx1LvUm315irX3KO8XNtwkiMElbz2pNVJAS07l85k1viy1h0kkZY09YCC9PBPppIdnuU+GaN8UsWz8scsUjXMkjkZQ3xr45GOAcx7XAgg8QQVHPAS/Ha3/4a4/ycqqGm2ouMRrTHca6M3IPFxLKqoZz8SbzeCt0v/pQdvpc7zVnevz74rrWO8VVDM2poaqpo6hgc1s9LNLTzND2lrw2WFwcAWkggHiCg3XK7+MN+/wA5un89OoustXUPlkfLK98ssr3SSSSOc+SSR7i573vcSXvLiSSeJJKxICIiAiIgIiIO3Z/6zT/38X+o1WOq4s/9Zp/7+L/UarHVhJERFUEREBERAREQEREBERAREQEREBERAREQEREBERAREQAqyq/wj/03fxFWaFWVX+Ef+m7+IqSsMSIiiiIiAiIgKef+5raf/wCG73/9vqv/ANaga9g+HbyiXqz7SUUFru1fQwPslNO+GmnkjidM6vuTHSOjadJeWRxgnHUxvkQeV9pNlLlbNAuVtr7eZM7sVtJUUmvHE6N+xur5lpl6+8F/lan2smqdj9rTHdqW5Us5pJp2RtqGSwR710OuNg1OETJZmTfhI3w8CcjRRFv5ILjW7U1uy9va2WppKysgdPMTHBHTUspZz2ocxrjHCW7s8ASTKxoBJAQVwi9CO8HGkrY66LZ7a23X670EL5prVDTup3StiIbIKWp5w9tQdRDQ4N0ansBc3UCqm5KuT+4bS3KO12yNjp3sdLJJK4sgpoGFrX1FQ9rXFkQc9jeDSSXtABJAQRRbey7M19bBV1VHQ1VTT0EYlrZ4IZJYqWMtkfrqHsBETNMUhy7HBjvIrvu/IFs/STS0U/KFaI7hBrZNTOo8Qxzx5D4H1fPdDJGvBaWkBwIIIBGFpOQWyXaq2c20nt14FuoqS3MkudGaWKoNzh5tcXCETSeNTeIyZupnw2fyQgpRFZvIdyRTbSi4VUldT2m1WqJstwuVU1z2RB7ZHNZHEHNEr9MTifHaGjHHLmg/OVbk+s9rooau07V0d/dJUinkpoqV1HUQtMUkm/MUlQ9zosxhucAZkbxQQtuy9wNAboKGrNtbJujX7mTmgl1Bm7M+nRr1EDGesrTq8aaxXc8m81eLyBZRdBG6y80hJdPziJu/57+EHjlrtPV4q0nI7yKz32iqrvWXCksdionbua6V3FjpSWjd08Wtm9IdJG3Jc0F0rWt1Oy0BVKK89pPB/jfa6u7bM7Q0W00FubvLhBBA6jrKeIBzt6KZ8she3SyR3EtJET9OsghRzkH5Hp9rG3fm9WKeW10rKhkO4M76t8gn0QR4kbu3F0IGTn344cEFXovSll8FZlSZLf0ss7do44HyvskYE5ikaM7meqZPrY5uW6i2F2nJOHDBNObBcnFwvF9Zs9BG2Gv39RBPvid1Smk3nOnTvjDsNZunjhnLtIGS4IIcivHbbkZsNvp7judurdV3G3RTufbuZOgM09OHaqWCpdVuZJKXNLQGgnPYqOQEREBERAREQduz/wBZp/7+L/UarHVcWf8ArNP/AH8X+o1WOrCSIiKoIiICIiAiIgIi6NwrxGOAznqPl+Tt+dSZWIt3XEDrOFjNSwHGsZHWo3K+WY5wePAAuA+jK6coe08XY9GSD+0cV47SvVMo5Gu96QfkK5qGRVzmAgO7fL2jtC21uvreDZsg9j8fxY/evUZJTeosNPUsk4seHfJ1/R1rMvQIiIgiIgIiICIiAiIgBVlV/hH/AKbv4irNCrKr/CP/AE3fxFSVhiREUUREQEREBemf/aO/jVQf8v0v/mN1XmZemNqfCjorrM2ouWw9kr52RiFk1ZI2okbC173tiD5aUkMD5JDjqy93lQazwCdlpqramO6aSyjs1NVT1E7hiISVNLNRxQueeAeWzSyfJA5Wp4LG0NLdtpuUOtjbzh9a2SahjicYqiooBUVbCIXEh0bntNCCeGHPZ1cFRfKJ4Q9zuVvks1vo7ds/Z5dTZKK0Q83M0bwN5FNKCAY3kHUI2x6gS12oEg17ycba1+z9xgulsm3NTASMOGuKeJ3CWnqI84kheOBHAghrmlrmtcAvzk/5ZNh9n69twtey94pqyNkkQea98o0St0yMdFPUuYfnHAgeRSXwIbmyrr9vKihZuauriFTbYnFu9jjlmuT2s8Xh4sktGDjhnT6FALh4QFjqZXVtTyfWSa5SEyTVLp/6PNO8l0k0tEaUtkc55LiXucSSckniqr2N5Rq+zXt19tm6pKh088rqaNhFE6GokL5KJ8AcNVJggBuQW6GOaWua1wCIztcHuEgcHhzg8PBDw8E6g4HiHZznK9K+Cj+J3KV/k8f8ld11Lr4R1oqJnV79gLHJdHkyPrJ5GzRvnPEzvpjSDW/V42S8uz+Vniq55LuVSSxWjaK0so46hu0NI2kkmdK6N1KGw1cOtjAwiU4qicEj3g8qDceDpywx7N+6FBcqBt0sd3jbHX0vi71paHs3kQkOiQGORzXMcW5xGQ5unxpPyzclFgm2edthsfVz+5sdTHT11tqy50lHJK6KIRxvfmVr2STQZjkdJqE4e2TSADBeSPlNo7PSVVBc9nLbf6SpnbUNFUdzU08gj3TtxU7uQxtLQ33rQevic4G05VuXB11tUVgtVoo9n7IyUTyUdK908lRM12tpnqCxmtofpdjTkuY0lxwAAn9F/wAGKj/PG/zkCy8pn/B/ZfmWvce6x55o143m8vG83/8AY51jGrhndY/JVSw8rEjdj5NkuZRmKStFZz3fO3gImZLu9xoxjLMZ1dq7fI7y01Fho6q01VBSXux1rt5UWquH3sSjSd7BLpdunF0cTuLXAGJrm6XeMgsj/wBnQJekN0J1czFjm5zqzuNRrKLc7zPia9AqMZ/J3uO1dzwG6ncxbczUr3x7q0iSmfnEjNDbg6F+ex4w0/KFCNpvCBaLXVWjZvZ+g2Zprg0sr5aaV1VWVMZBaY+cuijLWlj5G8Q4gSO0luTmL8ivKxJszDeoY6KOrF5ouZPc+Z0RgAZOzeNDWO3h+/ngce9Qb/wK5HP29sj3uLnuddHOc4lznOdZ7iXOcTxJJOcldWr2+qdmdv7xd6SNkzqe/wB6ZLTyEtZUU8tdUxzQlzeLHFpy12Dpc1pw4AtMQ5GtuH7N3uivUdO2rfRc5xTvkMTZOcUlRSHMjWuLcCcu6uOnHatps1ynCk2iuN9ntNDcIrnNcJKm2Vo31MY7hUGofG1zmkamO0gOc08AeGTwC8ajYzZPlFiuNbs4KiybSxQS11RbZsGlqnkt1y6AXNEbpXNZvYSzSZg58R1DPkpX/V+EVT0dFW02zOy1v2dqbjGYaqviqH1c4icHAtp8wR7lw1Eji5rTxDc4IoBAREQEREBERB27P/Waf+/i/wBRqsdVxZ/6zT/38X+o1WOrCSIiKoIiICIiAiLBWS6WnHvjwA9P/X71JmldO8XDd4a0t1Hjx4/sH71qpbs4jSAC7gA4jq/QYOB+XrXaiss87ySMautzsYA8uM5d5OCzyW5lOMaXSydhLTjt6hniFgyyiWaMZpoZJHE+OM9vHgc+jyLtRhz2ktIByGkZHH5ncDwXaNM5595oGOAPFvEdrD1dS6dRTOByGOYR2tLgPocTw+fCnYjB06uIg4e0A44EcCR6R2n5l09GD6VuYXl+GOYHHqHDGflHUf3hcpbS53FjSAezrAPbgr12pOl+mpp5HMcCHEOB4EHipXY7pvvEfgSN+YOA/wB1F6iiLcntGOv1pE8tkY9pwcgj5RjOV7iWOYr2nqLFSzCRjXjqcM/Ie0fSsqyIIiIgiIgIiICIiAFWVX+Ef+m7+IqzQqyq/wAI/wDTd/EVJWGJERRRERAREQEREBbhmy1xcARbq8ggEEUtQQQeIIIZxGFp1f3Izy87UVF92ft015mfRzXa00UsBgogH0slZTwPiLmwB4BiJbkHPHrQU10TuX5tuH6pUewtMvUHhK8ue01q2rvFvt94lpqOmmhbBA2Cje2NrqSnkcA6WBzj473HiT1qn7tyZyU+ydBtUatjoq65vtraMROEkbmNrHb0zatLm/0M+Lge/HHggr9FYEHJnI/ZOXarnbBFFcxbTR7p28Li2N2932rAH3z3uns61dt05Dtmeh9mrPd63UVTU1komv8AIyukhrdJrP6FHTOm0QvjwGlzQ3JpSe1B5SRWdyT8kE18gr7lPcKS0WK2ybqru9ZqMW9OnRDTwjBnmO8h8TU38NGBlzmtOw215FWw2eS/2C9Uu0drppBHXvp4JqKrodWA2SaincX7nJbk5DhqDtJaHOaFQrs0FBNUOc2CGWdzGGRzYY3yObG0gOe4MBIYC5vE8OIVv8mXIBUXyxMvrLpRUVM2ulpqs1g3UNHTU7N5PWzVBfjQBhoYG8XPbktGXCRciux1TSbS3mh2X2mo5hDs5UTy3VtCyaCppnS0BqKNkEkj91IJXR/fMk/ejwGUHnVFNuSzYmku3O5LhfrdYqWjbCXyVmuWondOZdLaOjjw6pLRC4uwQW6mcDq4SPlW5HGWmz0W0FsvNNfbPWVBpOcw08tJLDUaZXBktNK5zmNxDICXFpBDQR4wyEDuGyFwp7ZSXiakey210skNJVl0ZZNLC+WORjWh2sEOhlHED3hWiXonlK/4UbF/5rdf527rzsgIiICIiAiIgIiIO3Z/6zT/AN/F/qNVjquLP/Waf+/i/wBRqsdWEkREVQREQEREBc4ixpaXjJJIaMZ4kYB/afoXBSzYHZfndZESMxsZvpCfKG8APRqc36Fh3ZdcWfj4ds4hgobMyVhedbnE569PUOGDj95HyLoXigGPwL2F3DOvPjA9ZaOBBXoOm2VYGtiijaMtDSXk8B5T5PkXKn5OmH76QHOGS3LWkA+VgB6/+slc763nw7UcSKedLPYKlzmsLC9h62OGoY48c4Bae3JwtvV7FvOC8OweGRxDMeceGPJgK/6HYYQlz3B0j3cWtbjtzpBBcB1+X0rDW7LvA0OOB+U1uHEcfe9Xk458quWyXrDjY+nn6TYgtxKx3AYPUewnzhk9X7V8FCGHBAHDGeo/Qr1umzrWxkNGGt6h1nJ/JB8irbaegbGH4GMHtHEeTH7VPq37ev8AzRjFwrPaGzhwc5uM4PDHX1eRQgQEZGMjJ7OpWjU4LSep2riB1f2seQHj9CiG0VDu3nTghxcQfQTn5uJ6vStvVk5PJ1+bZtn35iwfyXEfTxWxXQsjMRn9LAXfW3HpoyIiKoIiICIiAiIgBVlV/hH/AKbv4irNCrKr/CP/AE3fxFSVhiREUUREQEREBERAUz5Cfxq2a/5gs3/mNMoYu5Y7pNQ1VNW0sm6qaOohqqeXSx+7np5GywyaJAWO0vY04cCDjiCgs7wwfx3v/wDiKf8AkaVTbaOkln5ILHuIpJtztPK6URMdJu2ubdo2uk0A6Gl80TcntlYOtwVCbXbRVd2rZ7jcJjUVlS5rp5iyOMyOaxsbToha1jcMY0cAOpSXk15Xr/s5FNT2a5vpIJ5N9LCYaWpiMugM3rWVcMjY5C1rAXNwXCNgOdIwF137ZWttPJG6K4076Wapv8NYyCUFszIJWxsjM0bgDE926LtJ46XNzjOBqNvIXP5Itlnsa5zYr5Xb1zQSI9dReA0vI96CS0ZPa4eUKo9oeVG+XCjqqCuuU1VS1lb7oVMczIXulqwxkbZN8Y961rWRRsbG1wY1rGgNAGF3OTrlj2h2ep5KS0XR9LTSSb50DoKSqjEpABextZDJuiQG50YzpGc4QWvBE+v5IN3btT32raB093ijaS/m5EzxI9oGXRNFTRvL+oCB/HxHY4+C7TvpNkeUK41QMNuqbKaGGWTxIqitfBXwxRxOcMOkbLVQM4Zw6pYOsqlOTzlAu2z076mz181FLK0Ml0COSKVrclomgna6KUtLnYLmkjU7GMlbHlF5Xb/tDFHBd7nLU08TtbKdkdPS0+vse+CkijZK9oJAc8Et1OwRk5C14pHN5HXhrnND9pQ14BID2jQ8NcB75uprXYPa0HsC6/gF/wDfd8/5Uuf83bVTPTe5e5HuDzo+5POeec03UGOc9W832733/h1Y9C+bC7aXGxzT1FqqjSTVNLLRTPEcEuulmfHJJFieNwbl0MZ1AB3i8DxKC0eRLk+tb9mr1tdeKOqu8FrqWUcNopZpKUSyFtM6Soq6mEGWOnaKqPizGkRyE6uAFgcob45eSlk1NZTY6aS/RSxUYkrZ2uicHBtUJq5xkkZITgOB08Bhef8Ak15Ub3s2Z/cW4yUYqdO/Zu6eoieWZ0vMNVE+MSDJGoAHHDOFt6rl22nmhucE15mnhu8b4q6KeKkmY+OSIwPZC2SEijaYnEYg3fYesAgLA5Sv+FGxf+a3X+du687KQ3LbS41Nqo7JNVF9rt8ss9HS7uBohlmfLJK8StjEr8vnlOHOIGvhjAxHkBERAREQEREBERB27P8A1mn/AL+L/UarHVcWb+s0/wDfxf6jVY6sJIiIqgiIgIiICvHkpDGtOAA58MPV2jdNxn58nh5FSNPC6R7I2DU97msa0dZc4gAfSVaGwdRNDcKehkaRJFDplwQR97LyMH8pul0f0rV5XnCm9wYnvdeF+WKMascOOMnHXjCmFLTtIHicG8cY6+HDGVE7AcsaeHA4P0lTK2yn5vJhczU7+2ftc+aNaC9zfGIIDeGG54cfK70rSXChZnPAdZ4dvDiVIqt3i8eHBai5MLve9Q4nPkxjt6lnzYNVoXfo2tYSB1j9o6yqZ24ja7LR154enr/erc2pe4NcMcANI7Or5FVl7i4+MM+MCAPp4rXvy28oqFa1o3fiuwNIaPlJJyOHoC0tfBvyGgcG++8hJ4A+XqAHzLcX+PeTyNbn32APLwPHrWoonuY5wcDndu+UgdZ+UEZXQ1x4cHlZeadWjg3bNPaOJ+Ql2P2grMuF2rCJMNaHE8OsAaWuIznHDhj6FzyDxa4OHY5uSD8mQtvGY9NDLGY8/AiIvbGIiICIiAiIgLhuW+Y3uj1LmiKx7lnmN7o9Sm3IlsHDtDd47ZLK6mY+Com3sUcb3gwtaQ3S/hg5UNVxeBz+NdP/AIKu/gYoLO+5EoPzvV/q1Kn3IlB+d6v9WpV6WRRXmn7kSg/O9X+rUqfciUH53q/1alXpZEHmn7kSg/O9X+rUqfciUH53q/1alXpZEHmn7kSg/O9X+rUqfciUH53q/wBWpV6WRB5p+5EoPzvV/q1Kn3IlB+d6v9WpV6WRB5p+5EoPzvV/q1Kn3IlB+d6v9WpV6WRB5p+5EoPzvV/q1Kn3IlB+d6v9WpV6WRB5p+5EoPzvV/q1Kn3IlB+d6v8AVqVelkQeafuRKD871f6tSp9yJQfner/VqVelkQeafuRKD871f6tSp9yJQfner/VqVelkQeafuRKD871f6tSp9yJQfner/VqVelkQeafuRKD871f6tSp9yJQfner/AFalXpZEHmn7kSg/O9X+rUqfciUH53q/1alXpZEHkLlU8GyistnrrpHcaid9HE2RsUlPTtY8uljjw5zeIGHk8PIvOW5Z5je6PUv0D8Jr8U71/h4/5mBeAFUlwETR+S36AuaIqgiIgIiICIiDZbLTMjrqN8pxG2phMh8jN40OPyAZPzK6dorPza+WqqaDmoirad5yMAwRtewDA4niRx81UIvQuz1Xz+02GqJ1y09RVQyuPZJzaWIOcfOIDe8tTkx6l0+BncZa/wBxP/PCytk5oy0HWM54jIwMdeexS+huUAOHSxtd1aS5vzdZyqauGzdRqjEcm5p3uBmk1antYTgiPIwDntcOGc9i0m0HJzUuuIlglPueXSPdK6p1yOZu6cMj0vIcyRj2TnIzqMzfehuFq6tcTEzDo79uUTEVPn8PQ1dUMLdWoEZxkHhx4D9669bVsZF1jJb2/wC6rfYyxTQljXVskrM4cHceAxjVn8rB6x5FF/CIu9bSiCnpHuj3rnNcWniWgHHHsyvPaZlkn7Y/iQ7Z3qnaHh80TXDBLdY/d5cqu7ndaaSJz2yNc3iCQRwUa5NdjWXIy1F3lke0wyiMl7g3fYxG127OtrQTnynTjI4ZjV32QmoWzb2pi0apC2NjnzDBe5zGtDuOA0tblxBwMnisuOmPcy19nI2TMVjcMNRIx8j3xuyWnUB5R+VgejC1d7cWzR4/KZ1+jHEf9eRZKGzTmPf6dBbp4DAB9OOwH6FsLhbHPigqPgxKHj0hpc0j5ws2FNHbjM+/lGbvKx7zHHnIwDnhk57PKNXastvYWxgHhxcceTJ6l0WvDqlo6msIBcO3Ser0nq/Ytu48Twxkk48meKy6o+WPk1jj1fERFnaIiIgIiICIiAiIgK4vA5/Gun/wVd/AxU6ri8Dn8a6f/BV38DFFe5ERFFEREBeevDKjdNNsbSb2oihrtpaWjqebzSwPkgqHRRSs3kTg4Za48exehV5x8Ne2Q1s2xdFUs3lNV7T0tLUR6nM1wVDoopWa2EOblj3DLSCM8EE/2c5DLNQVdPW07rqZqaVs0QmulfPFrYcjXFLKWSN9BCw7W8vVmtlyuVonZXyXC3CkApaanbPNcJa2COohp7dEyXXPLu5AXagxrdJy7qz3uTzkP2d2frPdC0251LV7qSDemrrpxupC0vboqJ3s4ljeOM8FX/JvQxP5VdtJ3xsdNBbrOIZHAF0Qmt1uEu7J96XBoBI44yOolBv+UPaG2Vs2xFZcG7QW6etusbrbRxthpniqL4MU97gkLnNhBDMtYc8XKYcrHKna9mo6c3B88lTWP3dFb6KI1NdWSZa3RBACB757W5c5oJc0ZyQFXnhQ/wDfvJ5/zNH/ABUq1O0m5j5XrY+4YDZdnXR2l8g8TnQkq8sjcfFEml1YADxzK0dbm5C1OTTlMbe55qY2PaKzyQwicG927mEczC8RkQP3rt48EtJGBwPaqv8ACwo+ebR7A26Sapjpa+tusFUymqJqZ0sf/ZXAvhcHcMnB7MlejV588JP8ceTX/Mrr+61IO1th4Pe5ppJ9mb3fbVdYGmWl1XSqno6iVnjNgqo5nk7t+NGc4GvJa8AtO+8HHlX93dmDdrm+OmqLa6opbvK8CCFklHGyaSpcDhsTXU8kcjgMNa4vAwBhWHtptNSWegqblcJ2U9LSxOkke8gZwPFijBP3yZ7sNawcXOc0DJK8dWexXCLki2hrXRSRy3q5e6+6ja9rxb31tuikfp98IXMpppNXUYnA8WnJC96XwjrO58Ek1DfqO1VUzYKbaCttr6eyTPeSI3CqfJrZE8g4e9jR4rydIa4jVbe1sto5SdnKkzObRbQ2ystMsRe7dirpXCZkoYTpMj3voIuoHgeJzhaN3Jpftp9l6WgG1FpdZa6ht7oGU9k3TmQQGnnp42PbVZjcwwsYRgEaXNIHELaeF9Z56XZa1XSN4mrdlrjaLhvtJBlMLo6WQ4ySxrp5IJD14EfzoIL4Vu2lbSbX2qsppZG2zZd1nmuwie8aXXSsle9k0bTiRj6WlibjGfvvDryLU8Ierkrbtsfs7TySR+6N4NyrXROIDrbZojUTwSFrgQybeYHZmL5jWcFpbtRsnyi35sbz7tVs9Rb3aXb2ag2biidbSGY1Ne4wTM0Yzlzh2raeCpfH7UX2S/y7xzLLszZ7DG54IZLXzsFTc52Ajg9s0cjM9rZWdeRgLI2QrLZ012nZBNeJLrFRW91fTzuhdaYojSUjoPc6Nv30TOj3Rdq4FxfjsUK5MvCIqq+93qiqrJe30sNXQU9vjpbRNzqgbUGdspvmZiKU5EZBP5MUpxwXd5Mf+KO3H+XWT+Qt65eDp+OfKSO3n9nOPRu7nx+TiPpQYL94QNRSbXz2g2e8z26moJy6CmtM01ynrIax8HPKdol++2h0bPFmAAJcFftrqxUQQziOWITxRzCKdhjmjEjA/dzRnjHK3OC3sIIVHzOA5WowSBnYsgek+6bzgeU4BPzFXygIiICIiCuPCa/FO9f4eP8AmYF4AXv/AMJr8U71/h4/5mBeAFYSRERVBERAREQEREBWxyHXMGlr6R54wvgrIBnqc97YJcDyYLe8qnW42Mq3Q19MWuLQ6Vkb8HGpj3AFp9HV9AWPbj2xmGxxdnTZE/Hqf5L1zbXiSIMwDkDgeo9h+VdhtjY4eMOHXxwcY6uDQM/OtTYbg1gaHYzgD6O35Vsp79I94hpog44BdI/xY4xniSe0+gcSuXFRD63LrMRMOxTsa1zA1ojja4ANbgAfR6Qqq5f6ln3p+MyNlbjq6jn5+pWOHyyy7rOXasOI4A48gPABVDy8072zMBGlsnVIT4vDPi8Oo8Exxl6nXEYzPzTo7BESvMT26XEZBHDGRx4j0KU1+xMDyJZw+QN8Zoe9zmg9fvS4tGMKrbHtLHSXFrIHteHMa1+slw1N7Qc+KT2q35dot7T+M0NOkHHDTxHWCPQrnFMOGWEzU/CtNuK4R5iZG0NY0tZpAAAOBgehRWef/s/Vk5HOAfq3YOO1dvbe6NlqSPyePAYyQOJ/cVrK54FHIzIIlm4AE50lpzjHZgBbOnFyedsjtUfCK22NpHV73iCesl3Xk+gAfSu8vjWgDAGAvq3McesU5O3Z3ysREXpiEREBERAREQEREBXF4HP410/+Crv4GKnVcHgePDdqqcuIA5lXcSQB7xnaVFe5kWHnUfwkffb6051H8JH32+tRWZFh51H8JH32+tOdR/CR99vrQZlDOVPk0t20jKSO5c5xQzmppnUs76aSObSGh4kj8YOGAQRjB4qW86j+Ej77fWnOo/hI++31oKytPIXbKaogqWV20Dn080U7Gy3mulic+GRsjWyRPfpkjJaAWngQSFK7PsJQ0l5uN+hbKLhdYqeGrc6Quicyliihh0RYwwhkLOI6+KkXOo/hI++31pzqP4SPvt9aCPbZ7C0N3qbVV1jZTNZqwV1EY5DG1tQDGQZGj8I3723gfSupyp8mdq2lghhutO57qWQy0lVDI+CrpJHABzoJ4zkA6WEsdlpMbCQSxpEs51H8JH32+tOdR/CR99vrQQfk65KaKyVLq2Osu9wrDTPoxU3a4T1z2U0kkMr4o2OxGwF9PCchufE6+tZeVLkstu0clBNcDVtlthqHUclHUyUkkbqncb12uLxtX9Hjwc8OPlUz51H8JH32+tOdR/CR99vrQVVS+Dts5v4qirp626vgOqJt2uFbXwsJxnME0m7kacDLXtcDjiFas9JE+J0D4o3wPjMT4XMa6J0Tm6HROjI0ujLSWlpGMHCc6j+Ej77fWnOo/hI++31oKkh8Hazwue2jrdoLfRSOe99robvV09uc55y/7yCXgHiMB4HH5MWLfdlaSttc1mnjcaGaj5i6MPdrEG7ETdMhy7W0AEOOTkArbc6j+Ej77fWnOo/hI++31oNHsJsXQ2W1w2ahic2hgbOxscr3SucKiWWabW93F2p80nzHHUF0eSfk3tuzFHLQ2mOWOCaodVSGaR00jpnRxRE63cQ3RCzDeocT2lSrnUfwkffb6051H8JH32+tBHbPsHQ0l5uN+hbKLhdIqeGrc6Quicymiiii0REYYQyFnEdfFR++cjVsqb2L/FPc7fcHuhNWbbWyUkNwFPo3bK2IAiWPEcYLWlocG8ckkmwudR/CR99vrTnUfwkffb60EE5TuSK23+qpLhUSV9DcqFhip7la6p1FWshcXkw75rTmP75L2ZG9kwRqOZ1bqUQQxQtdI8QxRxB8rzJK8RtDA6SR3F8hAyXHiSSV951H8JH32+tOdR/CR99vrQZkWHnUfwkffb6051H8JH32+tBmRYedR/CR99vrTnUfwkffb60FfeE1+Kd6/wAPH/MwLwAvffhL1DHbKXoB7Cebx8A5pP8AWYOwFeBFYSRERVBERAREQEREBc6eQsex462Oa4dnFpBH7lwRRXpLZm9R1lPDINQEjQRgjOrqc0eUggfSs9ZcpGPjYwSgOzgRte8gNzxkLc6flKpfk+v5izSvdpaX72F+SNEjQSW8OsHGR6QPKrt2PvW/3b3DG9Ba/wB778BpAGT2nr8i4+7VOGX6fQcbkRnjDG65zse6ppquB0oaQ6LeRhpAaG8BqyDnt6+PUqh5TZrvcWNFQx1O2PW4aQA1/EnVnrwAcfSr5utvpo9UssDXDi5wMbXA46gTjrVe7RPoZi8CjaHYIAcSfT4rTnDetZMesesnRzxxyxrtP4eeqGkfSP3kr2tLTkNcfGPZ1dqsPZO5V9VTv3cLt2CAHSAjV1jxR2jiPoXGt2fjllBip9LS/L3aMDGerOMgetb653b3OpssLQGNcCB6Q4DgOo5TPKMvXmXNjD6czN+EC29kayrETSNTGu1uByMjqAPZjP7Fwnc4U8bT1B/X/wCE8M9v/oo9FM6aZ8vv5JHZwRkeM709Zzxx/ZUmuLdMLW+SVwJ8pDeJ+nK29WNU5m7PvctaiItppCIiAiIgIiICIiAiIgLi9gcMEAjyEZH0FckQYubR/Bs7rfUnNo/g2d1vqWVEGLm0fwbO631JzaP4Nndb6llRBi5tH8Gzut9Sc2j+DZ3W+pZUQYubR/Bs7rfUnNo/g2d1vqWVEGLm0fwbO631JzaP4Nndb6llRBi5tH8Gzut9Sc2j+DZ3W+pZUQYubR/Bs7rfUnNo/g2d1vqWVEGLm0fwbO631JzaP4Nndb6llRBi5tH8Gzut9Sc2j+DZ3W+pZUQYubR/Bs7rfUnNo/g2d1vqWVEGLm0fwbO631JzaP4Nndb6llRBi5tH8Gzut9Sc2j+DZ3W+pZUQYubR/Bs7rfUnNo/g2d1vqWVEGNsDAchjAR2hoB+nCyIiAiIgIiICIiAiIgIiIPrOsfKOpXJsvNLbKlsM2t9PUNYYKnSHZkzwjkHU13ADs1asqorbSunmihYCXSSNYAPSQM/IBx+ZekXWyOan3MzA9hAaQR2dWQew9WD2LS5UxcRP7dLga5yjKY+KSdt91RtDmxnIy4nHHhjgAOI4HitDfJKcFx3bA8Z1ENGeJI4ZGDk44eRR250Nwo26qYCsjDSGMLmxzMjAxujqOmTqHjcCodftoq1uSKCdjng5Dy04e4EOw5riNPqC0+n4dOORGMfc7O0e07YnvhIYSQSCwBudAJ8Uflf/ANVTbX3l1TJpc52katPp4uwCBwIyP2elcrnFWPe58jDqHvXOdnQOIPAA/wDrhaJ9O5jsu4u7T5Pkx2LZ164xhzuTyMts16hsbNGIwHdTz1Y/efSpDWtLqUP68Tfscw//AJAqKU7yHgkn1Ka2uRj6Z8bupzMfIesEeQ5AWeMvNy1+t4zCPotGy6GnmkhqJC9owY5A0atJzwe1g6x6AtpSVsUv4ORr/QDxHytPELYibakxXh2ERFUEREBERAREQEREBERAREQEREBERAREQEREBERAREQEREBERAREQEREBERAREQEREBERAREQEREBERAWOombG0ucQAPpPoHlK1d3vjIssjxJJ1Hj4jD/aI6z6B+xR9tQ6R5fI4uc7tP5PoaPyR6EHojwdtld+wXaZ+t0r5Y4Ix+Dp443uY4HHvpnaeLj1DgOsq530+kE+TP7yqF8FXbuOlqXWaseGQ1smuikdwayrIw6Bzjwa2UNaW/2gfOXpe6UYwRjtP/AF8q5PIxyjZPb/P47/Dzw+nj1/3+tI+AuYSOIP0jA6jhaO52tj85APpGPmUlonY8X/ZYK6Icc9ZHyf8AovMT4Z9mFqk2nszQx2mM5+TH7ScKrLpZywuBGOzyntPYvQl7gB1cPk7eztKgN1s+p5JHzjj+zyrJjnTXz0Kfrafd6c4Havvui5oAaeI/2Wz24iDJQ0DGB29efkUQulQYmHz3jDfn6z9C2MPLS3fZNNLc5zJM93Xxx9HD6F1mkjBGQQcgg4I+QjqWQRr6GraiKc+Zvy2VBtBPHgOxM3+3wd3x/vlb2i2ggk4OJid5H+9744fThRAtXzSvSLFY8OGWkEHtBBH0hclXcEr4zljnMP8AZJbn5cda2lJtBOzg/TIP7Qw7vN9SCYItLSbRQu4PDoj5T4zfpHH9i28UjXAOa4OaeotIIPzhBzREQEW/2H2dZc5auE1kdJJT26ur4GvhkndWPoYXTvpImxkFsjoo53avGIELsNd1DrWHZi43Bm8obbcK2Pj99pKSpqYgW8CN7DGWagezOeCDUouxcaGamlMNTBPTTtAc6Gpikp5mgkgF0UzQ8AkHiR2FddAREQEREBERAREQEREBETKAiLsUtBPMyaSKCeWOnYJKiSKKSSOnjcdLZJ3saWwsLuAc4gZQddERAREQEREBERAREQEREBERAREQEREBFiqahkTS6RwY0drjj5h5T6FHLntMTltOMf8AzHDj8rW9nz/QgkFdWxwjVI8N8g63O/RaOJUWu1+km8SPMcZ8h8d3yke9HoH0rVSyue4ue4ucesuJJ/b+5cmDtPWgNGCB5FlYOK4M8q5s/wB0SZZ2PI7SCCCHNOC0g5DgR1HI61608HPlebdY47Vc3tFxjZpgncQ0VkbQAP8A64HWOGeteRys1NO6N7XxvdG9jg9j2Etcx4OQ5rhxBB7Vj2a4zhl07p1z49fL9Dqy3lrgQ3IXRuFIdJI+cFUxyQeEUzRHRX8aXNAay4sBLXjqHOWNBLHYx448Xgc6V6BjnpqynE1LNFNE9upskbg9j+GQWubkOC5+eqcPbuauRGfqbV7Xwg5H7McB1dS6MllLmOcB2Z/YpcyiDnaSOHb2/Lg+hZto6ylt1vqKurlbDTQRkySP6w3hpa1o4vkcSA1o4knCx44zMs2WVeZeW+USjZE6aom8SOPAB6tTuOlrQffEnyKnqud08hkcMDqa3sa0dQCk3KRta+8VbptJgpWOcKanOMsaT7+Ujg6Zw4k9QzgcOJjLupdPVr6xc+3B5O7vlNemIoFzcuJWRrPmF8wuS+Kpb5hfHhcwvhCPTEVnoqySF2qNxb5R+S70Ob1FY3DtXEBBYyIiC++SDb3mVNQ3W9y2+tpaAMsVooqejopr9SvwwGobIGsliom0hka7L3GQlg06nAv6XL7tWx9ZdqWYX+23Siq4aa300dwDrKaOKT+ttpWMjdTGal0yNDdeTJF4wAcFDNhaaOtsl/oY6SmluUAo7tSTbkOr3UtLLouUNPN74BkLo5RG3i4On4HhiI7ypuFUzVJPW1lXLDCx80r5p6iaQsggYZpnEvcSY2DUerSOACKm2xW1r7i+Cx36eWtt9XI2npquocZ66z1c7t3T1lJVSZlMG9dG2SF7iwszgDBDoLeqCSjqKmlnAE9JPPTTNGcCWnkfFIGkgEt1sOD2jCtDZzkuuJoqxrLLXs2jtd2t0jHVBZHQSUUrZODDL/RqoR1FPqe5riNEzCCQHNMR5Y6hk95r547jSXY1BZLJW0NO6kpJZnQsD2wROkkyxpaBrD36+LskkoJdfeSm3Wo0TrxtJFRxV9FTVUDYrdU1VRrlaTNvIoZCIaWMmPEzjmQl4DW6CTrqzkfrWbQOsLaineG0wuDri7MdMy2acvrpGai5gDvvegE+OQNWk6xm8Juuhqa20up5op2t2WtUZdC9krWyCSvcYyWEgP0vYdPXh7fKrSuW21BS7VDe1tLHS3LY2ktgr/vNTTUlS9880LqkO1RGHTjU14LfvkerDSSiKfrdhLfUUVfV2O+e6z7VAKmuppbfPbpDSai2StpHTSOE0TDxcw4c1uCTkta7U8oWxxtEFnmNQKj3WtFPdNIi3XNzO0O3Gdbt6Ggt8fxc8fFCsnaKK+0VBcH1t52UpKeegqqbTb4rOaq6xzR4fR0Yo6JsxZKOGslmnxXEDGW8dstn27SWjZuqobnaIGWyyQ2y5ivrWUr6GamZG1z5I3NLnRnEhHUSAwt1B+QVpaXkZdJfaCyC4jVW2SO8c4FKSIzI2cc2ERnGv75B+E1N4P8Ae8OPVtvJZBWVcVuoL7S1dbE2aa8ObS1MdutVNTtbv5m3CQhleGyuEY3YbqLgToAcRblNe6Bu3dnmir6V9GzZCGFlUZomRkt5/I1r3F2I5TCWv0HiA4cFTPg83ukp33K3XCoZRU98slTa+eyeLHSTyx6Y3zOPBkRDpAXEgAhmcDJBHYk5NqCspa2awX5t3qLbTuqqqikt9Tb5paaM4lqKIzPdv2t8wDPFvHLmh3KHkyoobVabzdL8ygo7nHM7dsoKisqmyxyYjigigeTMwxhz3ykNDCGNw8vGJNye2Loe64Xe7V9qe91qqqK30VBWMrJq+oqXQlrmNY0FtK0xNy9w4CTJDdPGM8qVZC/ZnYiGKaKSSno7uyZjHse+ImoomtErGnMZJjfjVjOh3kQd6/cklvtc0XuttNTU1FWtjktdRBQ1NTLVwSMY41M8Eb9NDTsMjBrc9wdxI04ONezkcrPd+ssclTBFHQU5raq6SNcKWO37tkgqjHqyHHeBu7LhhzJPG0tL198IqtinptmRBNFMY9k7fHIIntkMcgY8GN4YTokyD4pweCtTa/aW3TbTbQ26W4UsFPf9nKa2w3HeMkpYKrcSmJs8rHaWRubUEkkgeKwflhBXOz/JRbrsax1n2kZVx0NFUVM7ZrbU0lSHxtzDu4p5AJaWRweDIDmMhgLXawRvaTZaxP2Kje+9xRMdfWvfdvcSskmjqHUADrZuGu3742tJdvQ7dnHVldrka2RGz9XdZbrdLOyolsNwgpqamr4qh0jHGKWaokdhoijG4jDA7Dn65DpG7KjvJ/SsvGx89ip6uigukF8ZcmU9bUR0nOKU0ccBdA+Tg9zXl+R2aBnGpuStNbOTqjht9Nc75em2qmuDpvcyGOhnr6ysgiIBq3QRPBp6fBa7jnhJHxBc0Gb8k+zMEdLtrQU13oKulmstue26t1w0sUMpuDpH1cbsvp5Imte58eXEAN7TgdK/WZu1FosDLfXW2K4WKhNpuFBWVcVO/FPuoo6umfksnp37gu1tJaRI3jlpC6+x1DT2m3bbULrpbqyR9joQJKOcPgfUufWtlpKeR+nnT43PiaXMGMytGAcgERy7cnlE+0Vl2st7F2ZbHwNuMElvqLdLEyodojqIW1Dy6SLJPAgcI5OOWFqrpWfyT10MWzu20ck0Uck1FaWwse9jHzOFRWAiJjjmQgvZkNzjW3yqsEBERAREQEREBERAREQEREBERAWpvl5bB4jcPlIzj8lueou9S7lzqxDGXflHxWDyu9Q61BJWuL3ayS4klx8pPHKEy+1c8kztUjy53ZnqA8jR1NHyL5FH5VyYxZQjzb5p9CBqyL4ULfAF8K5AoUQC5YXFq5hBxK22y21dwtT9dvrZ6Yk+NGx33mTy7yB+Y3nh1kZWpeuLipMX7escpifHheOx/hDVUTg250rZ28A6elIil7PfQyO0P4Z6nN+RQvli5TqraKoG8Bp6CB2aWiactacY385HCSpI7epoJDe0ugIGFw6z6F4x14xNxDNlytmWPWZc3FfB1JlfXrIwOLl8X1/YiI+EIAvq+FAC+oetAg49nzrivresj0ri7rA9KLaxUREenbs1znoqiGrpJn09VTyCWCeMgPjeARkZBBBaXNLXAtc1zmkEEgzKXamyVrt/cLHPS1hcJJKiw1zaKGeXOS/mFVBLFSuJwSYXAEknAKgSIL/5KeVx4qTaKBtNaKOqguL2196uNVcZoriaOR9JVTVVW9sEcRmiiDoGxaSZHEEuJ1U/tbtG2vjo2C22qhlpWzsmntlLHRiudK9jmyTxwgR5YGYbpAH3x+MAho0CIr4AgC+oiPgaB1ABC0deBlfUQfMDyL6iIPgaB1AD5EwvqIN1atk7hVU5qqejllgG+Ie3dh0u4bqnMETnCSq0N98Ymu04OcYWNuzFcaM3AUkvMxG6YzeIPvDZN06oEWreuphIdJmDdAIILuBU75O9prXRNtMk0scMlKKxlaJLa6vrHSVMlU2OajrJHFlDRthngLmQBkuqGfxZDLqWjuVfbpqenmdXVrJ6axUtmNDSxOhfO+kp20Rc6rfmL3MniaZXxOGsmR7NPHUg0l02OuFJC2aegmijc+KPqY57JZ2l8Ec0EbjLTyvAOlkjWudjgCthdOT+vpqPnFTTyxzOuVJbIaQRtmknmqoK2Uta6GR2mpY+kZGact15qWZ08A6dDbi1UslVPTyQytN2s1zpaWO1up53wWy4mpdTV1ymc+esuBhkH3yV7otUL3B+ZNI1ezW09rs7onQ1dTcsX+C5SA0j4C2j9zbxQPdid+JLgx1wje4cGOLGBrzxLQhtRsTcmzw0rqCZ09QyeSnjj3c++FMxz6kRPhc5kkkbWkuYDqbkAgFwBy1+wl1giknloJWwwwuqHSh8D2GCNuuWeExyHnETG8Xui1Bgzq0qUja6jpo46WGanfG2nvzy+3Wz3LpW1Nwsc1rpA2J2Z5J3PLN5IdLGtEQGvSXLWWbaalidaC9zw2i2fvlumxGTpqrh0g3DWD8ph90aXLhwGXZ96gi9VYKuKSqjkppGSUMTJqtrtP8AR4pHQMje85xpc6ppwME53rcZWuVj7bXHd2K2skjmhuV0pqOOvbMxzHSW+wyVVNa5y2TD9NQ2SA6yPG9ymkEgjNcICIiAiIgIiICIiAiIgIiICIurdandQySdobw/SPBv7SEGgvtVvJSBxbHljflHvj9PD/wrWy8flH7li3q4GVHmWZfcLrslX3eoOwuLjwWAyrg6XsQdhrsYXPK628TeIjs5X3UusHr46RCnYLlxcVgEia0Vn1LiSsWtC5CIZgV9JWDUmtFplcepMrE53ampEplymVhL0D0IhmBXEO4rEHIXItObzh2fLhcZPfD5Vwe7qXxzuIRVlooZ0rn8yHuv9tOlc/mQ91/tqLSZooZ0rn8yHuv9tOlc/mQ91/toUmaKGdK5/Mh7r/bTpXP5kPdf7aFJmihnSufzIe6/206Vz+ZD3X+2hSZooZ0rn8yHuv8AbTpXP5kPdf7aFJmihnSufzIe6/206Vz+ZD3X+2hSZooZ0rn8yHuv9tOlc/mQ91/toUmaKGdK5/Mh7r/bTpXP5kPdf7aFJmihnSufzIe6/wBtOlc/mQ91/toUmaKGdK5/Mh7r/bTpXP5kPdf7aFJo4knJJJwBknJwAGgZPYAAPkAXxQzpXP5kPdf7adK5/Mh7r/bQpM0UM6Vz+ZD3X+2nSufzIe6/20KTNFDOlc/mQ91/tp0rn8yHuv8AbQpM0UM6Vz+ZD3X+2nSufzIe6/20KTNFDOlc/mQ91/tp0rn8yHuv9tCkzRQzpXP5kPdf7adK5/Mh7r/bQpM0UM6Vz+ZD3X+2nSufzIe6/wBtCkzUd23qMRxR+e4uPyMHD9p/Ytd0rn8yHuv9ta67XN9S5rpAwFo0jQHAYznjknillOvqXzUseUyhTJqTUseUyhTmXICuGUyhTJqTUseUyhTJqTUseUyhTJqTUseUyhTJqTUseUyhTJqTUseUyhTJqX3WsWUyhTJqTUseUyhTJqXwuXDKZQpzz2L5lccplCnxERRRERAREQEREBERAREQEREBERAREQEREBERAREQEREBERAREQEREBERAREQEREBERAREQEREBERAREQEREBERAREQEREBERAREQEREBERAREQEREBERAREQEREBERAREQEREBERAREQEREBERAREQEREBERAREQEREBERAREQEREBERAREQEREBERAREQEREBERAREQEREBERAREQEREBERAREQEREBERAREQEREBERAREQEREBERAREQEREBERAREQEREBERAREQEREBERAREQEREBERAREQEREBERAREQf//Z\n"
                },
                "metadata": {}
              }
            ]
          }
        },
        "cb400ff88bf747c09f095d171abed3a0": {
          "model_module": "@jupyter-widgets/output",
          "model_name": "OutputModel",
          "model_module_version": "1.0.0",
          "state": {
            "_dom_classes": [],
            "_model_module": "@jupyter-widgets/output",
            "_model_module_version": "1.0.0",
            "_model_name": "OutputModel",
            "_view_count": null,
            "_view_module": "@jupyter-widgets/output",
            "_view_module_version": "1.0.0",
            "_view_name": "OutputView",
            "layout": "IPY_MODEL_5614c42c40814a718c181b4e5dd2b820",
            "msg_id": "",
            "outputs": [
              {
                "output_type": "stream",
                "name": "stdout",
                "text": [
                  "Video available at https://www.bilibili.com/video/BV1uL411H7ZE\n"
                ]
              },
              {
                "output_type": "display_data",
                "data": {
                  "text/plain": "<__main__.BiliVideo at 0x7f0a598dd450>",
                  "text/html": "\n        <iframe\n            width=\"854\"\n            height=\"480\"\n            src=\"https://player.bilibili.com/player.html?bvid=BV1uL411H7ZE&page=1?fs=1\"\n            frameborder=\"0\"\n            allowfullscreen\n        ></iframe>\n        "
                },
                "metadata": {}
              }
            ]
          }
        },
        "db16385bee6d4b7f8bea21dbf4e9eff2": {
          "model_module": "@jupyter-widgets/base",
          "model_name": "LayoutModel",
          "model_module_version": "1.2.0",
          "state": {
            "_model_module": "@jupyter-widgets/base",
            "_model_module_version": "1.2.0",
            "_model_name": "LayoutModel",
            "_view_count": null,
            "_view_module": "@jupyter-widgets/base",
            "_view_module_version": "1.2.0",
            "_view_name": "LayoutView",
            "align_content": null,
            "align_items": null,
            "align_self": null,
            "border": null,
            "bottom": null,
            "display": null,
            "flex": null,
            "flex_flow": null,
            "grid_area": null,
            "grid_auto_columns": null,
            "grid_auto_flow": null,
            "grid_auto_rows": null,
            "grid_column": null,
            "grid_gap": null,
            "grid_row": null,
            "grid_template_areas": null,
            "grid_template_columns": null,
            "grid_template_rows": null,
            "height": null,
            "justify_content": null,
            "justify_items": null,
            "left": null,
            "margin": null,
            "max_height": null,
            "max_width": null,
            "min_height": null,
            "min_width": null,
            "object_fit": null,
            "object_position": null,
            "order": null,
            "overflow": null,
            "overflow_x": null,
            "overflow_y": null,
            "padding": null,
            "right": null,
            "top": null,
            "visibility": null,
            "width": null
          }
        },
        "882e1f0a5f264ee09f89d5756455bd8b": {
          "model_module": "@jupyter-widgets/base",
          "model_name": "LayoutModel",
          "model_module_version": "1.2.0",
          "state": {
            "_model_module": "@jupyter-widgets/base",
            "_model_module_version": "1.2.0",
            "_model_name": "LayoutModel",
            "_view_count": null,
            "_view_module": "@jupyter-widgets/base",
            "_view_module_version": "1.2.0",
            "_view_name": "LayoutView",
            "align_content": null,
            "align_items": null,
            "align_self": null,
            "border": null,
            "bottom": null,
            "display": null,
            "flex": null,
            "flex_flow": null,
            "grid_area": null,
            "grid_auto_columns": null,
            "grid_auto_flow": null,
            "grid_auto_rows": null,
            "grid_column": null,
            "grid_gap": null,
            "grid_row": null,
            "grid_template_areas": null,
            "grid_template_columns": null,
            "grid_template_rows": null,
            "height": null,
            "justify_content": null,
            "justify_items": null,
            "left": null,
            "margin": null,
            "max_height": null,
            "max_width": null,
            "min_height": null,
            "min_width": null,
            "object_fit": null,
            "object_position": null,
            "order": null,
            "overflow": null,
            "overflow_x": null,
            "overflow_y": null,
            "padding": null,
            "right": null,
            "top": null,
            "visibility": null,
            "width": null
          }
        },
        "5614c42c40814a718c181b4e5dd2b820": {
          "model_module": "@jupyter-widgets/base",
          "model_name": "LayoutModel",
          "model_module_version": "1.2.0",
          "state": {
            "_model_module": "@jupyter-widgets/base",
            "_model_module_version": "1.2.0",
            "_model_name": "LayoutModel",
            "_view_count": null,
            "_view_module": "@jupyter-widgets/base",
            "_view_module_version": "1.2.0",
            "_view_name": "LayoutView",
            "align_content": null,
            "align_items": null,
            "align_self": null,
            "border": null,
            "bottom": null,
            "display": null,
            "flex": null,
            "flex_flow": null,
            "grid_area": null,
            "grid_auto_columns": null,
            "grid_auto_flow": null,
            "grid_auto_rows": null,
            "grid_column": null,
            "grid_gap": null,
            "grid_row": null,
            "grid_template_areas": null,
            "grid_template_columns": null,
            "grid_template_rows": null,
            "height": null,
            "justify_content": null,
            "justify_items": null,
            "left": null,
            "margin": null,
            "max_height": null,
            "max_width": null,
            "min_height": null,
            "min_width": null,
            "object_fit": null,
            "object_position": null,
            "order": null,
            "overflow": null,
            "overflow_x": null,
            "overflow_y": null,
            "padding": null,
            "right": null,
            "top": null,
            "visibility": null,
            "width": null
          }
        },
        "f8ac3b4428aa4c5ebe962ff95d7d4716": {
          "model_module": "@jupyter-widgets/controls",
          "model_name": "VBoxModel",
          "model_module_version": "1.5.0",
          "state": {
            "_dom_classes": [
              "widget-interact"
            ],
            "_model_module": "@jupyter-widgets/controls",
            "_model_module_version": "1.5.0",
            "_model_name": "VBoxModel",
            "_view_count": null,
            "_view_module": "@jupyter-widgets/controls",
            "_view_module_version": "1.5.0",
            "_view_name": "VBoxView",
            "box_style": "",
            "children": [
              "IPY_MODEL_4f1f9691663f4ed7b6384faf3a149365",
              "IPY_MODEL_c90ddbb789324c67a13bc831485d86b0"
            ],
            "layout": "IPY_MODEL_8cc1a28991e24d94a2d0f944bab2c5a3"
          }
        },
        "4f1f9691663f4ed7b6384faf3a149365": {
          "model_module": "@jupyter-widgets/controls",
          "model_name": "FloatSliderModel",
          "model_module_version": "1.5.0",
          "state": {
            "_dom_classes": [],
            "_model_module": "@jupyter-widgets/controls",
            "_model_module_version": "1.5.0",
            "_model_name": "FloatSliderModel",
            "_view_count": null,
            "_view_module": "@jupyter-widgets/controls",
            "_view_module_version": "1.5.0",
            "_view_name": "FloatSliderView",
            "continuous_update": true,
            "description": "p(s = left)",
            "description_tooltip": null,
            "disabled": false,
            "layout": "IPY_MODEL_b55f4a956ad24f3380bdd29c24d247ac",
            "max": 1,
            "min": 0,
            "orientation": "horizontal",
            "readout": true,
            "readout_format": ".2f",
            "step": 0.01,
            "style": "IPY_MODEL_86badf2b5c1b4bf5b7ed4cabb642ed26",
            "value": 0.5
          }
        },
        "c90ddbb789324c67a13bc831485d86b0": {
          "model_module": "@jupyter-widgets/output",
          "model_name": "OutputModel",
          "model_module_version": "1.0.0",
          "state": {
            "_dom_classes": [],
            "_model_module": "@jupyter-widgets/output",
            "_model_module_version": "1.0.0",
            "_model_name": "OutputModel",
            "_view_count": null,
            "_view_module": "@jupyter-widgets/output",
            "_view_module_version": "1.0.0",
            "_view_name": "OutputView",
            "layout": "IPY_MODEL_a4d17523e059493092ad9ee0918aebd1",
            "msg_id": "",
            "outputs": [
              {
                "output_type": "display_data",
                "data": {
                  "text/plain": "<Figure size 1224x216 with 3 Axes>",
                  "image/png": "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\n"
                },
                "metadata": {
                  "image/png": {
                    "width": 674,
                    "height": 277
                  },
                  "needs_background": "light"
                }
              }
            ]
          }
        },
        "8cc1a28991e24d94a2d0f944bab2c5a3": {
          "model_module": "@jupyter-widgets/base",
          "model_name": "LayoutModel",
          "model_module_version": "1.2.0",
          "state": {
            "_model_module": "@jupyter-widgets/base",
            "_model_module_version": "1.2.0",
            "_model_name": "LayoutModel",
            "_view_count": null,
            "_view_module": "@jupyter-widgets/base",
            "_view_module_version": "1.2.0",
            "_view_name": "LayoutView",
            "align_content": null,
            "align_items": null,
            "align_self": null,
            "border": null,
            "bottom": null,
            "display": null,
            "flex": null,
            "flex_flow": null,
            "grid_area": null,
            "grid_auto_columns": null,
            "grid_auto_flow": null,
            "grid_auto_rows": null,
            "grid_column": null,
            "grid_gap": null,
            "grid_row": null,
            "grid_template_areas": null,
            "grid_template_columns": null,
            "grid_template_rows": null,
            "height": null,
            "justify_content": null,
            "justify_items": null,
            "left": null,
            "margin": null,
            "max_height": null,
            "max_width": null,
            "min_height": null,
            "min_width": null,
            "object_fit": null,
            "object_position": null,
            "order": null,
            "overflow": null,
            "overflow_x": null,
            "overflow_y": null,
            "padding": null,
            "right": null,
            "top": null,
            "visibility": null,
            "width": null
          }
        },
        "b55f4a956ad24f3380bdd29c24d247ac": {
          "model_module": "@jupyter-widgets/base",
          "model_name": "LayoutModel",
          "model_module_version": "1.2.0",
          "state": {
            "_model_module": "@jupyter-widgets/base",
            "_model_module_version": "1.2.0",
            "_model_name": "LayoutModel",
            "_view_count": null,
            "_view_module": "@jupyter-widgets/base",
            "_view_module_version": "1.2.0",
            "_view_name": "LayoutView",
            "align_content": null,
            "align_items": null,
            "align_self": null,
            "border": null,
            "bottom": null,
            "display": null,
            "flex": null,
            "flex_flow": null,
            "grid_area": null,
            "grid_auto_columns": null,
            "grid_auto_flow": null,
            "grid_auto_rows": null,
            "grid_column": null,
            "grid_gap": null,
            "grid_row": null,
            "grid_template_areas": null,
            "grid_template_columns": null,
            "grid_template_rows": null,
            "height": null,
            "justify_content": null,
            "justify_items": null,
            "left": null,
            "margin": null,
            "max_height": null,
            "max_width": null,
            "min_height": null,
            "min_width": null,
            "object_fit": null,
            "object_position": null,
            "order": null,
            "overflow": null,
            "overflow_x": null,
            "overflow_y": null,
            "padding": null,
            "right": null,
            "top": null,
            "visibility": null,
            "width": null
          }
        },
        "86badf2b5c1b4bf5b7ed4cabb642ed26": {
          "model_module": "@jupyter-widgets/controls",
          "model_name": "SliderStyleModel",
          "model_module_version": "1.5.0",
          "state": {
            "_model_module": "@jupyter-widgets/controls",
            "_model_module_version": "1.5.0",
            "_model_name": "SliderStyleModel",
            "_view_count": null,
            "_view_module": "@jupyter-widgets/base",
            "_view_module_version": "1.2.0",
            "_view_name": "StyleView",
            "description_width": "",
            "handle_color": null
          }
        },
        "a4d17523e059493092ad9ee0918aebd1": {
          "model_module": "@jupyter-widgets/base",
          "model_name": "LayoutModel",
          "model_module_version": "1.2.0",
          "state": {
            "_model_module": "@jupyter-widgets/base",
            "_model_module_version": "1.2.0",
            "_model_name": "LayoutModel",
            "_view_count": null,
            "_view_module": "@jupyter-widgets/base",
            "_view_module_version": "1.2.0",
            "_view_name": "LayoutView",
            "align_content": null,
            "align_items": null,
            "align_self": null,
            "border": null,
            "bottom": null,
            "display": null,
            "flex": null,
            "flex_flow": null,
            "grid_area": null,
            "grid_auto_columns": null,
            "grid_auto_flow": null,
            "grid_auto_rows": null,
            "grid_column": null,
            "grid_gap": null,
            "grid_row": null,
            "grid_template_areas": null,
            "grid_template_columns": null,
            "grid_template_rows": null,
            "height": null,
            "justify_content": null,
            "justify_items": null,
            "left": null,
            "margin": null,
            "max_height": null,
            "max_width": null,
            "min_height": null,
            "min_width": null,
            "object_fit": null,
            "object_position": null,
            "order": null,
            "overflow": null,
            "overflow_x": null,
            "overflow_y": null,
            "padding": null,
            "right": null,
            "top": null,
            "visibility": null,
            "width": null
          }
        },
        "efc56787645f4ec5a4b923156a4224ce": {
          "model_module": "@jupyter-widgets/controls",
          "model_name": "TabModel",
          "model_module_version": "1.5.0",
          "state": {
            "_dom_classes": [],
            "_model_module": "@jupyter-widgets/controls",
            "_model_module_version": "1.5.0",
            "_model_name": "TabModel",
            "_titles": {
              "0": "Youtube",
              "1": "Bilibili"
            },
            "_view_count": null,
            "_view_module": "@jupyter-widgets/controls",
            "_view_module_version": "1.5.0",
            "_view_name": "TabView",
            "box_style": "",
            "children": [
              "IPY_MODEL_b052ad9dbeb841a4b5fe40f946e5e73b",
              "IPY_MODEL_0c542e31094b4f04b27745d2d2879051"
            ],
            "layout": "IPY_MODEL_74adfd6ff1d8415bb3920a723b7f72f0",
            "selected_index": 0
          }
        },
        "b052ad9dbeb841a4b5fe40f946e5e73b": {
          "model_module": "@jupyter-widgets/output",
          "model_name": "OutputModel",
          "model_module_version": "1.0.0",
          "state": {
            "_dom_classes": [],
            "_model_module": "@jupyter-widgets/output",
            "_model_module_version": "1.0.0",
            "_model_name": "OutputModel",
            "_view_count": null,
            "_view_module": "@jupyter-widgets/output",
            "_view_module_version": "1.0.0",
            "_view_name": "OutputView",
            "layout": "IPY_MODEL_25ebc96466974c94b658434552b19fa2",
            "msg_id": "",
            "outputs": [
              {
                "output_type": "stream",
                "name": "stdout",
                "text": [
                  "Video available at https://youtube.com/watch?v=GHQbmsEyQjE\n"
                ]
              },
              {
                "output_type": "display_data",
                "data": {
                  "text/plain": "<IPython.lib.display.YouTubeVideo at 0x7f0a58b90810>",
                  "text/html": "\n        <iframe\n            width=\"854\"\n            height=\"480\"\n            src=\"https://www.youtube.com/embed/GHQbmsEyQjE?fs=1&rel=0\"\n            frameborder=\"0\"\n            allowfullscreen\n        ></iframe>\n        ",
                  "image/jpeg": "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\n"
                },
                "metadata": {}
              }
            ]
          }
        },
        "0c542e31094b4f04b27745d2d2879051": {
          "model_module": "@jupyter-widgets/output",
          "model_name": "OutputModel",
          "model_module_version": "1.0.0",
          "state": {
            "_dom_classes": [],
            "_model_module": "@jupyter-widgets/output",
            "_model_module_version": "1.0.0",
            "_model_name": "OutputModel",
            "_view_count": null,
            "_view_module": "@jupyter-widgets/output",
            "_view_module_version": "1.0.0",
            "_view_name": "OutputView",
            "layout": "IPY_MODEL_152345563a194ddfaa71970be9a0d0b0",
            "msg_id": "",
            "outputs": [
              {
                "output_type": "stream",
                "name": "stdout",
                "text": [
                  "Video available at https://www.bilibili.com/video/BV1po4y1D7Fu\n"
                ]
              },
              {
                "output_type": "display_data",
                "data": {
                  "text/plain": "<__main__.BiliVideo at 0x7f0a58bb1d50>",
                  "text/html": "\n        <iframe\n            width=\"854\"\n            height=\"480\"\n            src=\"https://player.bilibili.com/player.html?bvid=BV1po4y1D7Fu&page=1?fs=1\"\n            frameborder=\"0\"\n            allowfullscreen\n        ></iframe>\n        "
                },
                "metadata": {}
              }
            ]
          }
        },
        "74adfd6ff1d8415bb3920a723b7f72f0": {
          "model_module": "@jupyter-widgets/base",
          "model_name": "LayoutModel",
          "model_module_version": "1.2.0",
          "state": {
            "_model_module": "@jupyter-widgets/base",
            "_model_module_version": "1.2.0",
            "_model_name": "LayoutModel",
            "_view_count": null,
            "_view_module": "@jupyter-widgets/base",
            "_view_module_version": "1.2.0",
            "_view_name": "LayoutView",
            "align_content": null,
            "align_items": null,
            "align_self": null,
            "border": null,
            "bottom": null,
            "display": null,
            "flex": null,
            "flex_flow": null,
            "grid_area": null,
            "grid_auto_columns": null,
            "grid_auto_flow": null,
            "grid_auto_rows": null,
            "grid_column": null,
            "grid_gap": null,
            "grid_row": null,
            "grid_template_areas": null,
            "grid_template_columns": null,
            "grid_template_rows": null,
            "height": null,
            "justify_content": null,
            "justify_items": null,
            "left": null,
            "margin": null,
            "max_height": null,
            "max_width": null,
            "min_height": null,
            "min_width": null,
            "object_fit": null,
            "object_position": null,
            "order": null,
            "overflow": null,
            "overflow_x": null,
            "overflow_y": null,
            "padding": null,
            "right": null,
            "top": null,
            "visibility": null,
            "width": null
          }
        },
        "25ebc96466974c94b658434552b19fa2": {
          "model_module": "@jupyter-widgets/base",
          "model_name": "LayoutModel",
          "model_module_version": "1.2.0",
          "state": {
            "_model_module": "@jupyter-widgets/base",
            "_model_module_version": "1.2.0",
            "_model_name": "LayoutModel",
            "_view_count": null,
            "_view_module": "@jupyter-widgets/base",
            "_view_module_version": "1.2.0",
            "_view_name": "LayoutView",
            "align_content": null,
            "align_items": null,
            "align_self": null,
            "border": null,
            "bottom": null,
            "display": null,
            "flex": null,
            "flex_flow": null,
            "grid_area": null,
            "grid_auto_columns": null,
            "grid_auto_flow": null,
            "grid_auto_rows": null,
            "grid_column": null,
            "grid_gap": null,
            "grid_row": null,
            "grid_template_areas": null,
            "grid_template_columns": null,
            "grid_template_rows": null,
            "height": null,
            "justify_content": null,
            "justify_items": null,
            "left": null,
            "margin": null,
            "max_height": null,
            "max_width": null,
            "min_height": null,
            "min_width": null,
            "object_fit": null,
            "object_position": null,
            "order": null,
            "overflow": null,
            "overflow_x": null,
            "overflow_y": null,
            "padding": null,
            "right": null,
            "top": null,
            "visibility": null,
            "width": null
          }
        },
        "152345563a194ddfaa71970be9a0d0b0": {
          "model_module": "@jupyter-widgets/base",
          "model_name": "LayoutModel",
          "model_module_version": "1.2.0",
          "state": {
            "_model_module": "@jupyter-widgets/base",
            "_model_module_version": "1.2.0",
            "_model_name": "LayoutModel",
            "_view_count": null,
            "_view_module": "@jupyter-widgets/base",
            "_view_module_version": "1.2.0",
            "_view_name": "LayoutView",
            "align_content": null,
            "align_items": null,
            "align_self": null,
            "border": null,
            "bottom": null,
            "display": null,
            "flex": null,
            "flex_flow": null,
            "grid_area": null,
            "grid_auto_columns": null,
            "grid_auto_flow": null,
            "grid_auto_rows": null,
            "grid_column": null,
            "grid_gap": null,
            "grid_row": null,
            "grid_template_areas": null,
            "grid_template_columns": null,
            "grid_template_rows": null,
            "height": null,
            "justify_content": null,
            "justify_items": null,
            "left": null,
            "margin": null,
            "max_height": null,
            "max_width": null,
            "min_height": null,
            "min_width": null,
            "object_fit": null,
            "object_position": null,
            "order": null,
            "overflow": null,
            "overflow_x": null,
            "overflow_y": null,
            "padding": null,
            "right": null,
            "top": null,
            "visibility": null,
            "width": null
          }
        },
        "5a7e06e6a913435d95abb74f37e0e1b5": {
          "model_module": "@jupyter-widgets/controls",
          "model_name": "TabModel",
          "model_module_version": "1.5.0",
          "state": {
            "_dom_classes": [],
            "_model_module": "@jupyter-widgets/controls",
            "_model_module_version": "1.5.0",
            "_model_name": "TabModel",
            "_titles": {
              "0": "Youtube",
              "1": "Bilibili"
            },
            "_view_count": null,
            "_view_module": "@jupyter-widgets/controls",
            "_view_module_version": "1.5.0",
            "_view_name": "TabView",
            "box_style": "",
            "children": [
              "IPY_MODEL_458f902958454ddabeb824358f8af00d",
              "IPY_MODEL_f9e1e1b1ab6a42bc83ad786b6e1f78c5"
            ],
            "layout": "IPY_MODEL_96023ee32b5748f68043a9d0be594f1e",
            "selected_index": 0
          }
        },
        "458f902958454ddabeb824358f8af00d": {
          "model_module": "@jupyter-widgets/output",
          "model_name": "OutputModel",
          "model_module_version": "1.0.0",
          "state": {
            "_dom_classes": [],
            "_model_module": "@jupyter-widgets/output",
            "_model_module_version": "1.0.0",
            "_model_name": "OutputModel",
            "_view_count": null,
            "_view_module": "@jupyter-widgets/output",
            "_view_module_version": "1.0.0",
            "_view_name": "OutputView",
            "layout": "IPY_MODEL_a3a36d6f3c62442ab795687be8d6274e",
            "msg_id": "",
            "outputs": [
              {
                "output_type": "stream",
                "name": "stdout",
                "text": [
                  "Video available at https://youtube.com/watch?v=Yv8MDjdm1l4\n"
                ]
              },
              {
                "output_type": "display_data",
                "data": {
                  "text/plain": "<IPython.lib.display.YouTubeVideo at 0x7f0a58b87f50>",
                  "text/html": "\n        <iframe\n            width=\"854\"\n            height=\"480\"\n            src=\"https://www.youtube.com/embed/Yv8MDjdm1l4?fs=1&rel=0\"\n            frameborder=\"0\"\n            allowfullscreen\n        ></iframe>\n        ",
                  "image/jpeg": "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\n"
                },
                "metadata": {}
              }
            ]
          }
        },
        "f9e1e1b1ab6a42bc83ad786b6e1f78c5": {
          "model_module": "@jupyter-widgets/output",
          "model_name": "OutputModel",
          "model_module_version": "1.0.0",
          "state": {
            "_dom_classes": [],
            "_model_module": "@jupyter-widgets/output",
            "_model_module_version": "1.0.0",
            "_model_name": "OutputModel",
            "_view_count": null,
            "_view_module": "@jupyter-widgets/output",
            "_view_module_version": "1.0.0",
            "_view_name": "OutputView",
            "layout": "IPY_MODEL_c2650ebd2c6d4fd09df004c7b2497ecc",
            "msg_id": "",
            "outputs": [
              {
                "output_type": "stream",
                "name": "stdout",
                "text": [
                  "Video available at https://www.bilibili.com/video/BV1EK4y1u7AV\n"
                ]
              },
              {
                "output_type": "display_data",
                "data": {
                  "text/plain": "<__main__.BiliVideo at 0x7f0a5995c2d0>",
                  "text/html": "\n        <iframe\n            width=\"854\"\n            height=\"480\"\n            src=\"https://player.bilibili.com/player.html?bvid=BV1EK4y1u7AV&page=1?fs=1\"\n            frameborder=\"0\"\n            allowfullscreen\n        ></iframe>\n        "
                },
                "metadata": {}
              }
            ]
          }
        },
        "96023ee32b5748f68043a9d0be594f1e": {
          "model_module": "@jupyter-widgets/base",
          "model_name": "LayoutModel",
          "model_module_version": "1.2.0",
          "state": {
            "_model_module": "@jupyter-widgets/base",
            "_model_module_version": "1.2.0",
            "_model_name": "LayoutModel",
            "_view_count": null,
            "_view_module": "@jupyter-widgets/base",
            "_view_module_version": "1.2.0",
            "_view_name": "LayoutView",
            "align_content": null,
            "align_items": null,
            "align_self": null,
            "border": null,
            "bottom": null,
            "display": null,
            "flex": null,
            "flex_flow": null,
            "grid_area": null,
            "grid_auto_columns": null,
            "grid_auto_flow": null,
            "grid_auto_rows": null,
            "grid_column": null,
            "grid_gap": null,
            "grid_row": null,
            "grid_template_areas": null,
            "grid_template_columns": null,
            "grid_template_rows": null,
            "height": null,
            "justify_content": null,
            "justify_items": null,
            "left": null,
            "margin": null,
            "max_height": null,
            "max_width": null,
            "min_height": null,
            "min_width": null,
            "object_fit": null,
            "object_position": null,
            "order": null,
            "overflow": null,
            "overflow_x": null,
            "overflow_y": null,
            "padding": null,
            "right": null,
            "top": null,
            "visibility": null,
            "width": null
          }
        },
        "a3a36d6f3c62442ab795687be8d6274e": {
          "model_module": "@jupyter-widgets/base",
          "model_name": "LayoutModel",
          "model_module_version": "1.2.0",
          "state": {
            "_model_module": "@jupyter-widgets/base",
            "_model_module_version": "1.2.0",
            "_model_name": "LayoutModel",
            "_view_count": null,
            "_view_module": "@jupyter-widgets/base",
            "_view_module_version": "1.2.0",
            "_view_name": "LayoutView",
            "align_content": null,
            "align_items": null,
            "align_self": null,
            "border": null,
            "bottom": null,
            "display": null,
            "flex": null,
            "flex_flow": null,
            "grid_area": null,
            "grid_auto_columns": null,
            "grid_auto_flow": null,
            "grid_auto_rows": null,
            "grid_column": null,
            "grid_gap": null,
            "grid_row": null,
            "grid_template_areas": null,
            "grid_template_columns": null,
            "grid_template_rows": null,
            "height": null,
            "justify_content": null,
            "justify_items": null,
            "left": null,
            "margin": null,
            "max_height": null,
            "max_width": null,
            "min_height": null,
            "min_width": null,
            "object_fit": null,
            "object_position": null,
            "order": null,
            "overflow": null,
            "overflow_x": null,
            "overflow_y": null,
            "padding": null,
            "right": null,
            "top": null,
            "visibility": null,
            "width": null
          }
        },
        "c2650ebd2c6d4fd09df004c7b2497ecc": {
          "model_module": "@jupyter-widgets/base",
          "model_name": "LayoutModel",
          "model_module_version": "1.2.0",
          "state": {
            "_model_module": "@jupyter-widgets/base",
            "_model_module_version": "1.2.0",
            "_model_name": "LayoutModel",
            "_view_count": null,
            "_view_module": "@jupyter-widgets/base",
            "_view_module_version": "1.2.0",
            "_view_name": "LayoutView",
            "align_content": null,
            "align_items": null,
            "align_self": null,
            "border": null,
            "bottom": null,
            "display": null,
            "flex": null,
            "flex_flow": null,
            "grid_area": null,
            "grid_auto_columns": null,
            "grid_auto_flow": null,
            "grid_auto_rows": null,
            "grid_column": null,
            "grid_gap": null,
            "grid_row": null,
            "grid_template_areas": null,
            "grid_template_columns": null,
            "grid_template_rows": null,
            "height": null,
            "justify_content": null,
            "justify_items": null,
            "left": null,
            "margin": null,
            "max_height": null,
            "max_width": null,
            "min_height": null,
            "min_width": null,
            "object_fit": null,
            "object_position": null,
            "order": null,
            "overflow": null,
            "overflow_x": null,
            "overflow_y": null,
            "padding": null,
            "right": null,
            "top": null,
            "visibility": null,
            "width": null
          }
        },
        "d0470f2068f049d98cc45e78fa572b5c": {
          "model_module": "@jupyter-widgets/controls",
          "model_name": "TabModel",
          "model_module_version": "1.5.0",
          "state": {
            "_dom_classes": [],
            "_model_module": "@jupyter-widgets/controls",
            "_model_module_version": "1.5.0",
            "_model_name": "TabModel",
            "_titles": {
              "0": "Youtube",
              "1": "Bilibili"
            },
            "_view_count": null,
            "_view_module": "@jupyter-widgets/controls",
            "_view_module_version": "1.5.0",
            "_view_name": "TabView",
            "box_style": "",
            "children": [
              "IPY_MODEL_00b8797d2a4f4fdb9031a83f08dcaf79",
              "IPY_MODEL_b271460dbc3c4382b80dcd0e78234ded"
            ],
            "layout": "IPY_MODEL_df57c285c1e64bdf9fec56801fa9dd55",
            "selected_index": 0
          }
        },
        "00b8797d2a4f4fdb9031a83f08dcaf79": {
          "model_module": "@jupyter-widgets/output",
          "model_name": "OutputModel",
          "model_module_version": "1.0.0",
          "state": {
            "_dom_classes": [],
            "_model_module": "@jupyter-widgets/output",
            "_model_module_version": "1.0.0",
            "_model_name": "OutputModel",
            "_view_count": null,
            "_view_module": "@jupyter-widgets/output",
            "_view_module_version": "1.0.0",
            "_view_name": "OutputView",
            "layout": "IPY_MODEL_3e7c350e1f2c4a8498e14cdacb3053b0",
            "msg_id": "",
            "outputs": [
              {
                "output_type": "stream",
                "name": "stdout",
                "text": [
                  "Video available at https://youtube.com/watch?v=iprFMHch2_g\n"
                ]
              },
              {
                "output_type": "display_data",
                "data": {
                  "text/plain": "<IPython.lib.display.YouTubeVideo at 0x7f0a59349050>",
                  "text/html": "\n        <iframe\n            width=\"854\"\n            height=\"480\"\n            src=\"https://www.youtube.com/embed/iprFMHch2_g?fs=1&rel=0\"\n            frameborder=\"0\"\n            allowfullscreen\n        ></iframe>\n        ",
                  "image/jpeg": "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\n"
                },
                "metadata": {}
              }
            ]
          }
        },
        "b271460dbc3c4382b80dcd0e78234ded": {
          "model_module": "@jupyter-widgets/output",
          "model_name": "OutputModel",
          "model_module_version": "1.0.0",
          "state": {
            "_dom_classes": [],
            "_model_module": "@jupyter-widgets/output",
            "_model_module_version": "1.0.0",
            "_model_name": "OutputModel",
            "_view_count": null,
            "_view_module": "@jupyter-widgets/output",
            "_view_module_version": "1.0.0",
            "_view_name": "OutputView",
            "layout": "IPY_MODEL_6664551c44774414b77f211bc98ba1ff",
            "msg_id": "",
            "outputs": [
              {
                "output_type": "stream",
                "name": "stdout",
                "text": [
                  "Video available at https://www.bilibili.com/video/BV1Zq4y1p7N6\n"
                ]
              },
              {
                "output_type": "display_data",
                "data": {
                  "text/plain": "<__main__.BiliVideo at 0x7f0a59349710>",
                  "text/html": "\n        <iframe\n            width=\"854\"\n            height=\"480\"\n            src=\"https://player.bilibili.com/player.html?bvid=BV1Zq4y1p7N6&page=1?fs=1\"\n            frameborder=\"0\"\n            allowfullscreen\n        ></iframe>\n        "
                },
                "metadata": {}
              }
            ]
          }
        },
        "df57c285c1e64bdf9fec56801fa9dd55": {
          "model_module": "@jupyter-widgets/base",
          "model_name": "LayoutModel",
          "model_module_version": "1.2.0",
          "state": {
            "_model_module": "@jupyter-widgets/base",
            "_model_module_version": "1.2.0",
            "_model_name": "LayoutModel",
            "_view_count": null,
            "_view_module": "@jupyter-widgets/base",
            "_view_module_version": "1.2.0",
            "_view_name": "LayoutView",
            "align_content": null,
            "align_items": null,
            "align_self": null,
            "border": null,
            "bottom": null,
            "display": null,
            "flex": null,
            "flex_flow": null,
            "grid_area": null,
            "grid_auto_columns": null,
            "grid_auto_flow": null,
            "grid_auto_rows": null,
            "grid_column": null,
            "grid_gap": null,
            "grid_row": null,
            "grid_template_areas": null,
            "grid_template_columns": null,
            "grid_template_rows": null,
            "height": null,
            "justify_content": null,
            "justify_items": null,
            "left": null,
            "margin": null,
            "max_height": null,
            "max_width": null,
            "min_height": null,
            "min_width": null,
            "object_fit": null,
            "object_position": null,
            "order": null,
            "overflow": null,
            "overflow_x": null,
            "overflow_y": null,
            "padding": null,
            "right": null,
            "top": null,
            "visibility": null,
            "width": null
          }
        },
        "3e7c350e1f2c4a8498e14cdacb3053b0": {
          "model_module": "@jupyter-widgets/base",
          "model_name": "LayoutModel",
          "model_module_version": "1.2.0",
          "state": {
            "_model_module": "@jupyter-widgets/base",
            "_model_module_version": "1.2.0",
            "_model_name": "LayoutModel",
            "_view_count": null,
            "_view_module": "@jupyter-widgets/base",
            "_view_module_version": "1.2.0",
            "_view_name": "LayoutView",
            "align_content": null,
            "align_items": null,
            "align_self": null,
            "border": null,
            "bottom": null,
            "display": null,
            "flex": null,
            "flex_flow": null,
            "grid_area": null,
            "grid_auto_columns": null,
            "grid_auto_flow": null,
            "grid_auto_rows": null,
            "grid_column": null,
            "grid_gap": null,
            "grid_row": null,
            "grid_template_areas": null,
            "grid_template_columns": null,
            "grid_template_rows": null,
            "height": null,
            "justify_content": null,
            "justify_items": null,
            "left": null,
            "margin": null,
            "max_height": null,
            "max_width": null,
            "min_height": null,
            "min_width": null,
            "object_fit": null,
            "object_position": null,
            "order": null,
            "overflow": null,
            "overflow_x": null,
            "overflow_y": null,
            "padding": null,
            "right": null,
            "top": null,
            "visibility": null,
            "width": null
          }
        },
        "6664551c44774414b77f211bc98ba1ff": {
          "model_module": "@jupyter-widgets/base",
          "model_name": "LayoutModel",
          "model_module_version": "1.2.0",
          "state": {
            "_model_module": "@jupyter-widgets/base",
            "_model_module_version": "1.2.0",
            "_model_name": "LayoutModel",
            "_view_count": null,
            "_view_module": "@jupyter-widgets/base",
            "_view_module_version": "1.2.0",
            "_view_name": "LayoutView",
            "align_content": null,
            "align_items": null,
            "align_self": null,
            "border": null,
            "bottom": null,
            "display": null,
            "flex": null,
            "flex_flow": null,
            "grid_area": null,
            "grid_auto_columns": null,
            "grid_auto_flow": null,
            "grid_auto_rows": null,
            "grid_column": null,
            "grid_gap": null,
            "grid_row": null,
            "grid_template_areas": null,
            "grid_template_columns": null,
            "grid_template_rows": null,
            "height": null,
            "justify_content": null,
            "justify_items": null,
            "left": null,
            "margin": null,
            "max_height": null,
            "max_width": null,
            "min_height": null,
            "min_width": null,
            "object_fit": null,
            "object_position": null,
            "order": null,
            "overflow": null,
            "overflow_x": null,
            "overflow_y": null,
            "padding": null,
            "right": null,
            "top": null,
            "visibility": null,
            "width": null
          }
        },
        "de8b197d647d4054af1070d472935b63": {
          "model_module": "@jupyter-widgets/controls",
          "model_name": "VBoxModel",
          "model_module_version": "1.5.0",
          "state": {
            "_dom_classes": [
              "widget-interact"
            ],
            "_model_module": "@jupyter-widgets/controls",
            "_model_module_version": "1.5.0",
            "_model_name": "VBoxModel",
            "_view_count": null,
            "_view_module": "@jupyter-widgets/controls",
            "_view_module_version": "1.5.0",
            "_view_name": "VBoxView",
            "box_style": "",
            "children": [
              "IPY_MODEL_6579d9c782924a1eb6a23cdd6227ad2b",
              "IPY_MODEL_cb2ef1f885a8497e823ab9a16ac824ea",
              "IPY_MODEL_e6d2f8aa72b6446b9a2554b5d161e67b",
              "IPY_MODEL_4650293f9f2246e48f3ef3885b2b77dc"
            ],
            "layout": "IPY_MODEL_0696f770b0194eeab114208464c3928d"
          }
        },
        "6579d9c782924a1eb6a23cdd6227ad2b": {
          "model_module": "@jupyter-widgets/controls",
          "model_name": "FloatSliderModel",
          "model_module_version": "1.5.0",
          "state": {
            "_dom_classes": [],
            "_model_module": "@jupyter-widgets/controls",
            "_model_module_version": "1.5.0",
            "_model_name": "FloatSliderModel",
            "_view_count": null,
            "_view_module": "@jupyter-widgets/controls",
            "_view_module_version": "1.5.0",
            "_view_name": "FloatSliderView",
            "continuous_update": true,
            "description": "p(color=golden)",
            "description_tooltip": null,
            "disabled": false,
            "layout": "IPY_MODEL_d3ff8fb3ced24793bf185dd64bb89a3e",
            "max": 0.99,
            "min": 0.01,
            "orientation": "horizontal",
            "readout": true,
            "readout_format": ".2f",
            "step": 0.01,
            "style": "IPY_MODEL_ff09fd7d2b724ec1a94f4edd2320dbb2",
            "value": 0.5
          }
        },
        "cb2ef1f885a8497e823ab9a16ac824ea": {
          "model_module": "@jupyter-widgets/controls",
          "model_name": "FloatSliderModel",
          "model_module_version": "1.5.0",
          "state": {
            "_dom_classes": [],
            "_model_module": "@jupyter-widgets/controls",
            "_model_module_version": "1.5.0",
            "_model_name": "FloatSliderModel",
            "_view_count": null,
            "_view_module": "@jupyter-widgets/controls",
            "_view_module_version": "1.5.0",
            "_view_name": "FloatSliderView",
            "continuous_update": true,
            "description": "p(size=large)",
            "description_tooltip": null,
            "disabled": false,
            "layout": "IPY_MODEL_452081523b854f91a94fb8ca7dd4c2c1",
            "max": 0.99,
            "min": 0.01,
            "orientation": "horizontal",
            "readout": true,
            "readout_format": ".2f",
            "step": 0.01,
            "style": "IPY_MODEL_86793118f82a46a68921ba749511aa42",
            "value": 0.5
          }
        },
        "e6d2f8aa72b6446b9a2554b5d161e67b": {
          "model_module": "@jupyter-widgets/controls",
          "model_name": "FloatSliderModel",
          "model_module_version": "1.5.0",
          "state": {
            "_dom_classes": [],
            "_model_module": "@jupyter-widgets/controls",
            "_model_module_version": "1.5.0",
            "_model_name": "FloatSliderModel",
            "_view_count": null,
            "_view_module": "@jupyter-widgets/controls",
            "_view_module_version": "1.5.0",
            "_view_name": "FloatSliderView",
            "continuous_update": true,
            "description": "ρ",
            "description_tooltip": null,
            "disabled": false,
            "layout": "IPY_MODEL_58a34c9acb2a4b41b72023e676a63649",
            "max": 0.9899999999999998,
            "min": -0.9899999999999998,
            "orientation": "horizontal",
            "readout": true,
            "readout_format": ".2f",
            "step": 0.01,
            "style": "IPY_MODEL_c9d75978fa0d4e84b10c136c52e653d2",
            "value": 0.9800000000000002
          }
        },
        "4650293f9f2246e48f3ef3885b2b77dc": {
          "model_module": "@jupyter-widgets/output",
          "model_name": "OutputModel",
          "model_module_version": "1.0.0",
          "state": {
            "_dom_classes": [],
            "_model_module": "@jupyter-widgets/output",
            "_model_module_version": "1.0.0",
            "_model_name": "OutputModel",
            "_view_count": null,
            "_view_module": "@jupyter-widgets/output",
            "_view_module_version": "1.0.0",
            "_view_name": "OutputView",
            "layout": "IPY_MODEL_620096544ae24e9a9fb0adb09ea948fd",
            "msg_id": "",
            "outputs": [
              {
                "output_type": "display_data",
                "data": {
                  "text/plain": "<Figure size 360x360 with 3 Axes>",
                  "image/png": "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\n"
                },
                "metadata": {
                  "image/png": {
                    "width": 384,
                    "height": 361
                  },
                  "needs_background": "light"
                }
              }
            ]
          }
        },
        "0696f770b0194eeab114208464c3928d": {
          "model_module": "@jupyter-widgets/base",
          "model_name": "LayoutModel",
          "model_module_version": "1.2.0",
          "state": {
            "_model_module": "@jupyter-widgets/base",
            "_model_module_version": "1.2.0",
            "_model_name": "LayoutModel",
            "_view_count": null,
            "_view_module": "@jupyter-widgets/base",
            "_view_module_version": "1.2.0",
            "_view_name": "LayoutView",
            "align_content": null,
            "align_items": null,
            "align_self": null,
            "border": null,
            "bottom": null,
            "display": null,
            "flex": null,
            "flex_flow": null,
            "grid_area": null,
            "grid_auto_columns": null,
            "grid_auto_flow": null,
            "grid_auto_rows": null,
            "grid_column": null,
            "grid_gap": null,
            "grid_row": null,
            "grid_template_areas": null,
            "grid_template_columns": null,
            "grid_template_rows": null,
            "height": null,
            "justify_content": null,
            "justify_items": null,
            "left": null,
            "margin": null,
            "max_height": null,
            "max_width": null,
            "min_height": null,
            "min_width": null,
            "object_fit": null,
            "object_position": null,
            "order": null,
            "overflow": null,
            "overflow_x": null,
            "overflow_y": null,
            "padding": null,
            "right": null,
            "top": null,
            "visibility": null,
            "width": null
          }
        },
        "d3ff8fb3ced24793bf185dd64bb89a3e": {
          "model_module": "@jupyter-widgets/base",
          "model_name": "LayoutModel",
          "model_module_version": "1.2.0",
          "state": {
            "_model_module": "@jupyter-widgets/base",
            "_model_module_version": "1.2.0",
            "_model_name": "LayoutModel",
            "_view_count": null,
            "_view_module": "@jupyter-widgets/base",
            "_view_module_version": "1.2.0",
            "_view_name": "LayoutView",
            "align_content": null,
            "align_items": null,
            "align_self": null,
            "border": null,
            "bottom": null,
            "display": null,
            "flex": null,
            "flex_flow": null,
            "grid_area": "widget002",
            "grid_auto_columns": null,
            "grid_auto_flow": null,
            "grid_auto_rows": null,
            "grid_column": null,
            "grid_gap": null,
            "grid_row": null,
            "grid_template_areas": null,
            "grid_template_columns": null,
            "grid_template_rows": null,
            "height": null,
            "justify_content": null,
            "justify_items": null,
            "left": null,
            "margin": null,
            "max_height": null,
            "max_width": null,
            "min_height": null,
            "min_width": null,
            "object_fit": null,
            "object_position": null,
            "order": null,
            "overflow": null,
            "overflow_x": null,
            "overflow_y": null,
            "padding": null,
            "right": null,
            "top": null,
            "visibility": null,
            "width": null
          }
        },
        "ff09fd7d2b724ec1a94f4edd2320dbb2": {
          "model_module": "@jupyter-widgets/controls",
          "model_name": "SliderStyleModel",
          "model_module_version": "1.5.0",
          "state": {
            "_model_module": "@jupyter-widgets/controls",
            "_model_module_version": "1.5.0",
            "_model_name": "SliderStyleModel",
            "_view_count": null,
            "_view_module": "@jupyter-widgets/base",
            "_view_module_version": "1.2.0",
            "_view_name": "StyleView",
            "description_width": "initial",
            "handle_color": null
          }
        },
        "452081523b854f91a94fb8ca7dd4c2c1": {
          "model_module": "@jupyter-widgets/base",
          "model_name": "LayoutModel",
          "model_module_version": "1.2.0",
          "state": {
            "_model_module": "@jupyter-widgets/base",
            "_model_module_version": "1.2.0",
            "_model_name": "LayoutModel",
            "_view_count": null,
            "_view_module": "@jupyter-widgets/base",
            "_view_module_version": "1.2.0",
            "_view_name": "LayoutView",
            "align_content": null,
            "align_items": null,
            "align_self": null,
            "border": null,
            "bottom": null,
            "display": null,
            "flex": null,
            "flex_flow": null,
            "grid_area": "widget003",
            "grid_auto_columns": null,
            "grid_auto_flow": null,
            "grid_auto_rows": null,
            "grid_column": null,
            "grid_gap": null,
            "grid_row": null,
            "grid_template_areas": null,
            "grid_template_columns": null,
            "grid_template_rows": null,
            "height": null,
            "justify_content": null,
            "justify_items": null,
            "left": null,
            "margin": null,
            "max_height": null,
            "max_width": null,
            "min_height": null,
            "min_width": null,
            "object_fit": null,
            "object_position": null,
            "order": null,
            "overflow": null,
            "overflow_x": null,
            "overflow_y": null,
            "padding": null,
            "right": null,
            "top": null,
            "visibility": null,
            "width": null
          }
        },
        "86793118f82a46a68921ba749511aa42": {
          "model_module": "@jupyter-widgets/controls",
          "model_name": "SliderStyleModel",
          "model_module_version": "1.5.0",
          "state": {
            "_model_module": "@jupyter-widgets/controls",
            "_model_module_version": "1.5.0",
            "_model_name": "SliderStyleModel",
            "_view_count": null,
            "_view_module": "@jupyter-widgets/base",
            "_view_module_version": "1.2.0",
            "_view_name": "StyleView",
            "description_width": "initial",
            "handle_color": null
          }
        },
        "58a34c9acb2a4b41b72023e676a63649": {
          "model_module": "@jupyter-widgets/base",
          "model_name": "LayoutModel",
          "model_module_version": "1.2.0",
          "state": {
            "_model_module": "@jupyter-widgets/base",
            "_model_module_version": "1.2.0",
            "_model_name": "LayoutModel",
            "_view_count": null,
            "_view_module": "@jupyter-widgets/base",
            "_view_module_version": "1.2.0",
            "_view_name": "LayoutView",
            "align_content": null,
            "align_items": null,
            "align_self": null,
            "border": null,
            "bottom": null,
            "display": null,
            "flex": null,
            "flex_flow": null,
            "grid_area": "widget001",
            "grid_auto_columns": null,
            "grid_auto_flow": null,
            "grid_auto_rows": null,
            "grid_column": null,
            "grid_gap": null,
            "grid_row": null,
            "grid_template_areas": null,
            "grid_template_columns": null,
            "grid_template_rows": null,
            "height": null,
            "justify_content": null,
            "justify_items": null,
            "left": null,
            "margin": null,
            "max_height": null,
            "max_width": null,
            "min_height": null,
            "min_width": null,
            "object_fit": null,
            "object_position": null,
            "order": null,
            "overflow": null,
            "overflow_x": null,
            "overflow_y": null,
            "padding": null,
            "right": null,
            "top": null,
            "visibility": null,
            "width": null
          }
        },
        "c9d75978fa0d4e84b10c136c52e653d2": {
          "model_module": "@jupyter-widgets/controls",
          "model_name": "SliderStyleModel",
          "model_module_version": "1.5.0",
          "state": {
            "_model_module": "@jupyter-widgets/controls",
            "_model_module_version": "1.5.0",
            "_model_name": "SliderStyleModel",
            "_view_count": null,
            "_view_module": "@jupyter-widgets/base",
            "_view_module_version": "1.2.0",
            "_view_name": "StyleView",
            "description_width": "",
            "handle_color": null
          }
        },
        "620096544ae24e9a9fb0adb09ea948fd": {
          "model_module": "@jupyter-widgets/base",
          "model_name": "LayoutModel",
          "model_module_version": "1.2.0",
          "state": {
            "_model_module": "@jupyter-widgets/base",
            "_model_module_version": "1.2.0",
            "_model_name": "LayoutModel",
            "_view_count": null,
            "_view_module": "@jupyter-widgets/base",
            "_view_module_version": "1.2.0",
            "_view_name": "LayoutView",
            "align_content": null,
            "align_items": null,
            "align_self": null,
            "border": null,
            "bottom": null,
            "display": null,
            "flex": null,
            "flex_flow": null,
            "grid_area": null,
            "grid_auto_columns": null,
            "grid_auto_flow": null,
            "grid_auto_rows": null,
            "grid_column": null,
            "grid_gap": null,
            "grid_row": null,
            "grid_template_areas": null,
            "grid_template_columns": null,
            "grid_template_rows": null,
            "height": null,
            "justify_content": null,
            "justify_items": null,
            "left": null,
            "margin": null,
            "max_height": null,
            "max_width": null,
            "min_height": null,
            "min_width": null,
            "object_fit": null,
            "object_position": null,
            "order": null,
            "overflow": null,
            "overflow_x": null,
            "overflow_y": null,
            "padding": null,
            "right": null,
            "top": null,
            "visibility": null,
            "width": null
          }
        },
        "eed5633f3f214bd0ba48e63f1ca226d8": {
          "model_module": "@jupyter-widgets/controls",
          "model_name": "TabModel",
          "model_module_version": "1.5.0",
          "state": {
            "_dom_classes": [],
            "_model_module": "@jupyter-widgets/controls",
            "_model_module_version": "1.5.0",
            "_model_name": "TabModel",
            "_titles": {
              "0": "Youtube",
              "1": "Bilibili"
            },
            "_view_count": null,
            "_view_module": "@jupyter-widgets/controls",
            "_view_module_version": "1.5.0",
            "_view_name": "TabView",
            "box_style": "",
            "children": [
              "IPY_MODEL_2759452808964da18e5bfe2799a53734",
              "IPY_MODEL_6f7e2b6382364d6bacee5e2d36f79aca"
            ],
            "layout": "IPY_MODEL_b26b0231f1e44fa6a63aab22882b0d0c",
            "selected_index": 0
          }
        },
        "2759452808964da18e5bfe2799a53734": {
          "model_module": "@jupyter-widgets/output",
          "model_name": "OutputModel",
          "model_module_version": "1.0.0",
          "state": {
            "_dom_classes": [],
            "_model_module": "@jupyter-widgets/output",
            "_model_module_version": "1.0.0",
            "_model_name": "OutputModel",
            "_view_count": null,
            "_view_module": "@jupyter-widgets/output",
            "_view_module_version": "1.0.0",
            "_view_name": "OutputView",
            "layout": "IPY_MODEL_3a00be15a5724004b9654e5819c63a8d",
            "msg_id": "",
            "outputs": [
              {
                "output_type": "stream",
                "name": "stdout",
                "text": [
                  "Video available at https://youtube.com/watch?v=cOAJQ4utwD0\n"
                ]
              },
              {
                "output_type": "display_data",
                "data": {
                  "text/plain": "<IPython.lib.display.YouTubeVideo at 0x7f0a593dd390>",
                  "text/html": "\n        <iframe\n            width=\"854\"\n            height=\"480\"\n            src=\"https://www.youtube.com/embed/cOAJQ4utwD0?fs=1&rel=0\"\n            frameborder=\"0\"\n            allowfullscreen\n        ></iframe>\n        ",
                  "image/jpeg": "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\n"
                },
                "metadata": {}
              }
            ]
          }
        },
        "6f7e2b6382364d6bacee5e2d36f79aca": {
          "model_module": "@jupyter-widgets/output",
          "model_name": "OutputModel",
          "model_module_version": "1.0.0",
          "state": {
            "_dom_classes": [],
            "_model_module": "@jupyter-widgets/output",
            "_model_module_version": "1.0.0",
            "_model_name": "OutputModel",
            "_view_count": null,
            "_view_module": "@jupyter-widgets/output",
            "_view_module_version": "1.0.0",
            "_view_name": "OutputView",
            "layout": "IPY_MODEL_ddf45410959a458d95fe7991e3f15d45",
            "msg_id": "",
            "outputs": [
              {
                "output_type": "stream",
                "name": "stdout",
                "text": [
                  "Video available at https://www.bilibili.com/video/BV1fK4y1M7EC\n"
                ]
              },
              {
                "output_type": "display_data",
                "data": {
                  "text/plain": "<__main__.BiliVideo at 0x7f0a59207850>",
                  "text/html": "\n        <iframe\n            width=\"854\"\n            height=\"480\"\n            src=\"https://player.bilibili.com/player.html?bvid=BV1fK4y1M7EC&page=1?fs=1\"\n            frameborder=\"0\"\n            allowfullscreen\n        ></iframe>\n        "
                },
                "metadata": {}
              }
            ]
          }
        },
        "b26b0231f1e44fa6a63aab22882b0d0c": {
          "model_module": "@jupyter-widgets/base",
          "model_name": "LayoutModel",
          "model_module_version": "1.2.0",
          "state": {
            "_model_module": "@jupyter-widgets/base",
            "_model_module_version": "1.2.0",
            "_model_name": "LayoutModel",
            "_view_count": null,
            "_view_module": "@jupyter-widgets/base",
            "_view_module_version": "1.2.0",
            "_view_name": "LayoutView",
            "align_content": null,
            "align_items": null,
            "align_self": null,
            "border": null,
            "bottom": null,
            "display": null,
            "flex": null,
            "flex_flow": null,
            "grid_area": null,
            "grid_auto_columns": null,
            "grid_auto_flow": null,
            "grid_auto_rows": null,
            "grid_column": null,
            "grid_gap": null,
            "grid_row": null,
            "grid_template_areas": null,
            "grid_template_columns": null,
            "grid_template_rows": null,
            "height": null,
            "justify_content": null,
            "justify_items": null,
            "left": null,
            "margin": null,
            "max_height": null,
            "max_width": null,
            "min_height": null,
            "min_width": null,
            "object_fit": null,
            "object_position": null,
            "order": null,
            "overflow": null,
            "overflow_x": null,
            "overflow_y": null,
            "padding": null,
            "right": null,
            "top": null,
            "visibility": null,
            "width": null
          }
        },
        "3a00be15a5724004b9654e5819c63a8d": {
          "model_module": "@jupyter-widgets/base",
          "model_name": "LayoutModel",
          "model_module_version": "1.2.0",
          "state": {
            "_model_module": "@jupyter-widgets/base",
            "_model_module_version": "1.2.0",
            "_model_name": "LayoutModel",
            "_view_count": null,
            "_view_module": "@jupyter-widgets/base",
            "_view_module_version": "1.2.0",
            "_view_name": "LayoutView",
            "align_content": null,
            "align_items": null,
            "align_self": null,
            "border": null,
            "bottom": null,
            "display": null,
            "flex": null,
            "flex_flow": null,
            "grid_area": null,
            "grid_auto_columns": null,
            "grid_auto_flow": null,
            "grid_auto_rows": null,
            "grid_column": null,
            "grid_gap": null,
            "grid_row": null,
            "grid_template_areas": null,
            "grid_template_columns": null,
            "grid_template_rows": null,
            "height": null,
            "justify_content": null,
            "justify_items": null,
            "left": null,
            "margin": null,
            "max_height": null,
            "max_width": null,
            "min_height": null,
            "min_width": null,
            "object_fit": null,
            "object_position": null,
            "order": null,
            "overflow": null,
            "overflow_x": null,
            "overflow_y": null,
            "padding": null,
            "right": null,
            "top": null,
            "visibility": null,
            "width": null
          }
        },
        "ddf45410959a458d95fe7991e3f15d45": {
          "model_module": "@jupyter-widgets/base",
          "model_name": "LayoutModel",
          "model_module_version": "1.2.0",
          "state": {
            "_model_module": "@jupyter-widgets/base",
            "_model_module_version": "1.2.0",
            "_model_name": "LayoutModel",
            "_view_count": null,
            "_view_module": "@jupyter-widgets/base",
            "_view_module_version": "1.2.0",
            "_view_name": "LayoutView",
            "align_content": null,
            "align_items": null,
            "align_self": null,
            "border": null,
            "bottom": null,
            "display": null,
            "flex": null,
            "flex_flow": null,
            "grid_area": null,
            "grid_auto_columns": null,
            "grid_auto_flow": null,
            "grid_auto_rows": null,
            "grid_column": null,
            "grid_gap": null,
            "grid_row": null,
            "grid_template_areas": null,
            "grid_template_columns": null,
            "grid_template_rows": null,
            "height": null,
            "justify_content": null,
            "justify_items": null,
            "left": null,
            "margin": null,
            "max_height": null,
            "max_width": null,
            "min_height": null,
            "min_width": null,
            "object_fit": null,
            "object_position": null,
            "order": null,
            "overflow": null,
            "overflow_x": null,
            "overflow_y": null,
            "padding": null,
            "right": null,
            "top": null,
            "visibility": null,
            "width": null
          }
        },
        "de23095dc7ea422dab1e33b26e62bc37": {
          "model_module": "@jupyter-widgets/controls",
          "model_name": "VBoxModel",
          "model_module_version": "1.5.0",
          "state": {
            "_dom_classes": [],
            "_model_module": "@jupyter-widgets/controls",
            "_model_module_version": "1.5.0",
            "_model_name": "VBoxModel",
            "_view_count": null,
            "_view_module": "@jupyter-widgets/controls",
            "_view_module_version": "1.5.0",
            "_view_name": "VBoxView",
            "box_style": "",
            "children": [
              "IPY_MODEL_f5b900c2becd468c973287ef2efa60fa",
              "IPY_MODEL_6775c8a2b6e54b7c9e0914c153b3b138",
              "IPY_MODEL_2014ecc23df6479891d808e58c8b0a6f"
            ],
            "layout": "IPY_MODEL_fcc63bd78e8a4459acdf9cff0f3a324c"
          }
        },
        "f5b900c2becd468c973287ef2efa60fa": {
          "model_module": "@jupyter-widgets/controls",
          "model_name": "FloatSliderModel",
          "model_module_version": "1.5.0",
          "state": {
            "_dom_classes": [],
            "_model_module": "@jupyter-widgets/controls",
            "_model_module_version": "1.5.0",
            "_model_name": "FloatSliderModel",
            "_view_count": null,
            "_view_module": "@jupyter-widgets/controls",
            "_view_module_version": "1.5.0",
            "_view_name": "FloatSliderView",
            "continuous_update": true,
            "description": "p(s = left)",
            "description_tooltip": null,
            "disabled": false,
            "layout": "IPY_MODEL_cdbcea661f184ea986756387f870bc77",
            "max": 0.99,
            "min": 0.01,
            "orientation": "horizontal",
            "readout": true,
            "readout_format": ".2f",
            "step": 0.01,
            "style": "IPY_MODEL_ec2ce24fd5274cc58f847fc8c0a06326",
            "value": 0.6
          }
        },
        "6775c8a2b6e54b7c9e0914c153b3b138": {
          "model_module": "@jupyter-widgets/controls",
          "model_name": "HBoxModel",
          "model_module_version": "1.5.0",
          "state": {
            "_dom_classes": [],
            "_model_module": "@jupyter-widgets/controls",
            "_model_module_version": "1.5.0",
            "_model_name": "HBoxModel",
            "_view_count": null,
            "_view_module": "@jupyter-widgets/controls",
            "_view_module_version": "1.5.0",
            "_view_name": "HBoxView",
            "box_style": "",
            "children": [
              "IPY_MODEL_2b227979fb02429a852db7d1bec3230e",
              "IPY_MODEL_0314a75f3b424976a6780b44394845bb"
            ],
            "layout": "IPY_MODEL_d01125e240a143fda0c8c3584513af37"
          }
        },
        "2014ecc23df6479891d808e58c8b0a6f": {
          "model_module": "@jupyter-widgets/controls",
          "model_name": "ToggleButtonsModel",
          "model_module_version": "1.5.0",
          "state": {
            "_dom_classes": [],
            "_model_module": "@jupyter-widgets/controls",
            "_model_module_version": "1.5.0",
            "_model_name": "ToggleButtonsModel",
            "_options_labels": [
              "Fish",
              "No Fish"
            ],
            "_view_count": null,
            "_view_module": "@jupyter-widgets/controls",
            "_view_module_version": "1.5.0",
            "_view_name": "ToggleButtonsView",
            "button_style": "",
            "description": "Observation (m) on the left:",
            "description_tooltip": null,
            "disabled": false,
            "icons": [],
            "index": 0,
            "layout": "IPY_MODEL_64710926199248fda2794ffb84d7f4dd",
            "style": "IPY_MODEL_4df1e53c437448ef8538d4bb39e7f0cd",
            "tooltips": []
          }
        },
        "fcc63bd78e8a4459acdf9cff0f3a324c": {
          "model_module": "@jupyter-widgets/base",
          "model_name": "LayoutModel",
          "model_module_version": "1.2.0",
          "state": {
            "_model_module": "@jupyter-widgets/base",
            "_model_module_version": "1.2.0",
            "_model_name": "LayoutModel",
            "_view_count": null,
            "_view_module": "@jupyter-widgets/base",
            "_view_module_version": "1.2.0",
            "_view_name": "LayoutView",
            "align_content": null,
            "align_items": null,
            "align_self": null,
            "border": null,
            "bottom": null,
            "display": null,
            "flex": null,
            "flex_flow": null,
            "grid_area": null,
            "grid_auto_columns": null,
            "grid_auto_flow": null,
            "grid_auto_rows": null,
            "grid_column": null,
            "grid_gap": null,
            "grid_row": null,
            "grid_template_areas": null,
            "grid_template_columns": null,
            "grid_template_rows": null,
            "height": null,
            "justify_content": null,
            "justify_items": null,
            "left": null,
            "margin": null,
            "max_height": null,
            "max_width": null,
            "min_height": null,
            "min_width": null,
            "object_fit": null,
            "object_position": null,
            "order": null,
            "overflow": null,
            "overflow_x": null,
            "overflow_y": null,
            "padding": null,
            "right": null,
            "top": null,
            "visibility": null,
            "width": null
          }
        },
        "cdbcea661f184ea986756387f870bc77": {
          "model_module": "@jupyter-widgets/base",
          "model_name": "LayoutModel",
          "model_module_version": "1.2.0",
          "state": {
            "_model_module": "@jupyter-widgets/base",
            "_model_module_version": "1.2.0",
            "_model_name": "LayoutModel",
            "_view_count": null,
            "_view_module": "@jupyter-widgets/base",
            "_view_module_version": "1.2.0",
            "_view_name": "LayoutView",
            "align_content": null,
            "align_items": null,
            "align_self": null,
            "border": null,
            "bottom": null,
            "display": null,
            "flex": null,
            "flex_flow": null,
            "grid_area": null,
            "grid_auto_columns": null,
            "grid_auto_flow": null,
            "grid_auto_rows": null,
            "grid_column": null,
            "grid_gap": null,
            "grid_row": null,
            "grid_template_areas": null,
            "grid_template_columns": null,
            "grid_template_rows": null,
            "height": null,
            "justify_content": null,
            "justify_items": null,
            "left": null,
            "margin": null,
            "max_height": null,
            "max_width": null,
            "min_height": null,
            "min_width": null,
            "object_fit": null,
            "object_position": null,
            "order": null,
            "overflow": null,
            "overflow_x": null,
            "overflow_y": null,
            "padding": null,
            "right": null,
            "top": null,
            "visibility": null,
            "width": null
          }
        },
        "ec2ce24fd5274cc58f847fc8c0a06326": {
          "model_module": "@jupyter-widgets/controls",
          "model_name": "SliderStyleModel",
          "model_module_version": "1.5.0",
          "state": {
            "_model_module": "@jupyter-widgets/controls",
            "_model_module_version": "1.5.0",
            "_model_name": "SliderStyleModel",
            "_view_count": null,
            "_view_module": "@jupyter-widgets/base",
            "_view_module_version": "1.2.0",
            "_view_name": "StyleView",
            "description_width": "",
            "handle_color": null
          }
        },
        "2b227979fb02429a852db7d1bec3230e": {
          "model_module": "@jupyter-widgets/controls",
          "model_name": "FloatSliderModel",
          "model_module_version": "1.5.0",
          "state": {
            "_dom_classes": [],
            "_model_module": "@jupyter-widgets/controls",
            "_model_module_version": "1.5.0",
            "_model_name": "FloatSliderModel",
            "_view_count": null,
            "_view_module": "@jupyter-widgets/controls",
            "_view_module_version": "1.5.0",
            "_view_name": "FloatSliderView",
            "continuous_update": true,
            "description": "p(fish on left | state = left)",
            "description_tooltip": null,
            "disabled": false,
            "layout": "IPY_MODEL_48d87ab502784ba0b6706b32fd19fba2",
            "max": 0.99,
            "min": 0.01,
            "orientation": "horizontal",
            "readout": true,
            "readout_format": ".2f",
            "step": 0.01,
            "style": "IPY_MODEL_8e825b7ff17c4c59b6e5296ec92117f3",
            "value": 0.84
          }
        },
        "0314a75f3b424976a6780b44394845bb": {
          "model_module": "@jupyter-widgets/controls",
          "model_name": "FloatSliderModel",
          "model_module_version": "1.5.0",
          "state": {
            "_dom_classes": [],
            "_model_module": "@jupyter-widgets/controls",
            "_model_module_version": "1.5.0",
            "_model_name": "FloatSliderModel",
            "_view_count": null,
            "_view_module": "@jupyter-widgets/controls",
            "_view_module_version": "1.5.0",
            "_view_name": "FloatSliderView",
            "continuous_update": true,
            "description": "p(fish on left | state = right)",
            "description_tooltip": null,
            "disabled": false,
            "layout": "IPY_MODEL_76850dc2ae834998966c9ba52f74951e",
            "max": 0.99,
            "min": 0.01,
            "orientation": "horizontal",
            "readout": true,
            "readout_format": ".2f",
            "step": 0.01,
            "style": "IPY_MODEL_0aed77827c7648419e10a51dac0c04e8",
            "value": 0.5
          }
        },
        "d01125e240a143fda0c8c3584513af37": {
          "model_module": "@jupyter-widgets/base",
          "model_name": "LayoutModel",
          "model_module_version": "1.2.0",
          "state": {
            "_model_module": "@jupyter-widgets/base",
            "_model_module_version": "1.2.0",
            "_model_name": "LayoutModel",
            "_view_count": null,
            "_view_module": "@jupyter-widgets/base",
            "_view_module_version": "1.2.0",
            "_view_name": "LayoutView",
            "align_content": null,
            "align_items": null,
            "align_self": null,
            "border": null,
            "bottom": null,
            "display": null,
            "flex": null,
            "flex_flow": null,
            "grid_area": null,
            "grid_auto_columns": null,
            "grid_auto_flow": null,
            "grid_auto_rows": null,
            "grid_column": null,
            "grid_gap": null,
            "grid_row": null,
            "grid_template_areas": null,
            "grid_template_columns": null,
            "grid_template_rows": null,
            "height": null,
            "justify_content": null,
            "justify_items": null,
            "left": null,
            "margin": null,
            "max_height": null,
            "max_width": null,
            "min_height": null,
            "min_width": null,
            "object_fit": null,
            "object_position": null,
            "order": null,
            "overflow": null,
            "overflow_x": null,
            "overflow_y": null,
            "padding": null,
            "right": null,
            "top": null,
            "visibility": null,
            "width": null
          }
        },
        "64710926199248fda2794ffb84d7f4dd": {
          "model_module": "@jupyter-widgets/base",
          "model_name": "LayoutModel",
          "model_module_version": "1.2.0",
          "state": {
            "_model_module": "@jupyter-widgets/base",
            "_model_module_version": "1.2.0",
            "_model_name": "LayoutModel",
            "_view_count": null,
            "_view_module": "@jupyter-widgets/base",
            "_view_module_version": "1.2.0",
            "_view_name": "LayoutView",
            "align_content": null,
            "align_items": null,
            "align_self": null,
            "border": null,
            "bottom": null,
            "display": "flex",
            "flex": null,
            "flex_flow": null,
            "grid_area": null,
            "grid_auto_columns": null,
            "grid_auto_flow": null,
            "grid_auto_rows": null,
            "grid_column": null,
            "grid_gap": null,
            "grid_row": null,
            "grid_template_areas": null,
            "grid_template_columns": null,
            "grid_template_rows": null,
            "height": null,
            "justify_content": null,
            "justify_items": null,
            "left": null,
            "margin": null,
            "max_height": null,
            "max_width": null,
            "min_height": null,
            "min_width": null,
            "object_fit": null,
            "object_position": null,
            "order": null,
            "overflow": null,
            "overflow_x": null,
            "overflow_y": null,
            "padding": null,
            "right": null,
            "top": null,
            "visibility": null,
            "width": "auto"
          }
        },
        "4df1e53c437448ef8538d4bb39e7f0cd": {
          "model_module": "@jupyter-widgets/controls",
          "model_name": "ToggleButtonsStyleModel",
          "model_module_version": "1.5.0",
          "state": {
            "_model_module": "@jupyter-widgets/controls",
            "_model_module_version": "1.5.0",
            "_model_name": "ToggleButtonsStyleModel",
            "_view_count": null,
            "_view_module": "@jupyter-widgets/base",
            "_view_module_version": "1.2.0",
            "_view_name": "StyleView",
            "button_width": "",
            "description_width": "initial",
            "font_weight": ""
          }
        },
        "48d87ab502784ba0b6706b32fd19fba2": {
          "model_module": "@jupyter-widgets/base",
          "model_name": "LayoutModel",
          "model_module_version": "1.2.0",
          "state": {
            "_model_module": "@jupyter-widgets/base",
            "_model_module_version": "1.2.0",
            "_model_name": "LayoutModel",
            "_view_count": null,
            "_view_module": "@jupyter-widgets/base",
            "_view_module_version": "1.2.0",
            "_view_name": "LayoutView",
            "align_content": null,
            "align_items": null,
            "align_self": null,
            "border": null,
            "bottom": null,
            "display": null,
            "flex": null,
            "flex_flow": null,
            "grid_area": null,
            "grid_auto_columns": null,
            "grid_auto_flow": null,
            "grid_auto_rows": null,
            "grid_column": null,
            "grid_gap": null,
            "grid_row": null,
            "grid_template_areas": null,
            "grid_template_columns": null,
            "grid_template_rows": null,
            "height": null,
            "justify_content": null,
            "justify_items": null,
            "left": null,
            "margin": null,
            "max_height": null,
            "max_width": null,
            "min_height": null,
            "min_width": null,
            "object_fit": null,
            "object_position": null,
            "order": null,
            "overflow": null,
            "overflow_x": null,
            "overflow_y": null,
            "padding": null,
            "right": null,
            "top": null,
            "visibility": null,
            "width": "370px"
          }
        },
        "8e825b7ff17c4c59b6e5296ec92117f3": {
          "model_module": "@jupyter-widgets/controls",
          "model_name": "SliderStyleModel",
          "model_module_version": "1.5.0",
          "state": {
            "_model_module": "@jupyter-widgets/controls",
            "_model_module_version": "1.5.0",
            "_model_name": "SliderStyleModel",
            "_view_count": null,
            "_view_module": "@jupyter-widgets/base",
            "_view_module_version": "1.2.0",
            "_view_name": "StyleView",
            "description_width": "initial",
            "handle_color": null
          }
        },
        "76850dc2ae834998966c9ba52f74951e": {
          "model_module": "@jupyter-widgets/base",
          "model_name": "LayoutModel",
          "model_module_version": "1.2.0",
          "state": {
            "_model_module": "@jupyter-widgets/base",
            "_model_module_version": "1.2.0",
            "_model_name": "LayoutModel",
            "_view_count": null,
            "_view_module": "@jupyter-widgets/base",
            "_view_module_version": "1.2.0",
            "_view_name": "LayoutView",
            "align_content": null,
            "align_items": null,
            "align_self": null,
            "border": null,
            "bottom": null,
            "display": null,
            "flex": null,
            "flex_flow": null,
            "grid_area": null,
            "grid_auto_columns": null,
            "grid_auto_flow": null,
            "grid_auto_rows": null,
            "grid_column": null,
            "grid_gap": null,
            "grid_row": null,
            "grid_template_areas": null,
            "grid_template_columns": null,
            "grid_template_rows": null,
            "height": null,
            "justify_content": null,
            "justify_items": null,
            "left": null,
            "margin": null,
            "max_height": null,
            "max_width": null,
            "min_height": null,
            "min_width": null,
            "object_fit": null,
            "object_position": null,
            "order": null,
            "overflow": null,
            "overflow_x": null,
            "overflow_y": null,
            "padding": null,
            "right": null,
            "top": null,
            "visibility": null,
            "width": "370px"
          }
        },
        "0aed77827c7648419e10a51dac0c04e8": {
          "model_module": "@jupyter-widgets/controls",
          "model_name": "SliderStyleModel",
          "model_module_version": "1.5.0",
          "state": {
            "_model_module": "@jupyter-widgets/controls",
            "_model_module_version": "1.5.0",
            "_model_name": "SliderStyleModel",
            "_view_count": null,
            "_view_module": "@jupyter-widgets/base",
            "_view_module_version": "1.2.0",
            "_view_name": "StyleView",
            "description_width": "initial",
            "handle_color": null
          }
        },
        "4d2ccf23800c490581ece7d04a3f293c": {
          "model_module": "@jupyter-widgets/output",
          "model_name": "OutputModel",
          "model_module_version": "1.0.0",
          "state": {
            "_dom_classes": [],
            "_model_module": "@jupyter-widgets/output",
            "_model_module_version": "1.0.0",
            "_model_name": "OutputModel",
            "_view_count": null,
            "_view_module": "@jupyter-widgets/output",
            "_view_module_version": "1.0.0",
            "_view_name": "OutputView",
            "layout": "IPY_MODEL_6a3b5be5343d4f8a973dc68c853c9888",
            "msg_id": "",
            "outputs": [
              {
                "output_type": "display_data",
                "data": {
                  "text/plain": "<Figure size 864x288 with 3 Axes>",
                  "image/png": "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\n"
                },
                "metadata": {
                  "image/png": {
                    "width": 768,
                    "height": 345
                  },
                  "needs_background": "light"
                }
              }
            ]
          }
        },
        "6a3b5be5343d4f8a973dc68c853c9888": {
          "model_module": "@jupyter-widgets/base",
          "model_name": "LayoutModel",
          "model_module_version": "1.2.0",
          "state": {
            "_model_module": "@jupyter-widgets/base",
            "_model_module_version": "1.2.0",
            "_model_name": "LayoutModel",
            "_view_count": null,
            "_view_module": "@jupyter-widgets/base",
            "_view_module_version": "1.2.0",
            "_view_name": "LayoutView",
            "align_content": null,
            "align_items": null,
            "align_self": null,
            "border": null,
            "bottom": null,
            "display": null,
            "flex": null,
            "flex_flow": null,
            "grid_area": null,
            "grid_auto_columns": null,
            "grid_auto_flow": null,
            "grid_auto_rows": null,
            "grid_column": null,
            "grid_gap": null,
            "grid_row": null,
            "grid_template_areas": null,
            "grid_template_columns": null,
            "grid_template_rows": null,
            "height": null,
            "justify_content": null,
            "justify_items": null,
            "left": null,
            "margin": null,
            "max_height": null,
            "max_width": null,
            "min_height": null,
            "min_width": null,
            "object_fit": null,
            "object_position": null,
            "order": null,
            "overflow": null,
            "overflow_x": null,
            "overflow_y": null,
            "padding": null,
            "right": null,
            "top": null,
            "visibility": null,
            "width": null
          }
        },
        "22f7de687cce4ca8beb849fde6ea623d": {
          "model_module": "@jupyter-widgets/controls",
          "model_name": "TabModel",
          "model_module_version": "1.5.0",
          "state": {
            "_dom_classes": [],
            "_model_module": "@jupyter-widgets/controls",
            "_model_module_version": "1.5.0",
            "_model_name": "TabModel",
            "_titles": {
              "0": "Youtube",
              "1": "Bilibili"
            },
            "_view_count": null,
            "_view_module": "@jupyter-widgets/controls",
            "_view_module_version": "1.5.0",
            "_view_name": "TabView",
            "box_style": "",
            "children": [
              "IPY_MODEL_6186105db3154432a781d354fc0f943a",
              "IPY_MODEL_05ddf4f8609b4089b6facd74b9ce36a2"
            ],
            "layout": "IPY_MODEL_d2b243c2cff44b15a1cc774dff64bc27",
            "selected_index": 0
          }
        },
        "6186105db3154432a781d354fc0f943a": {
          "model_module": "@jupyter-widgets/output",
          "model_name": "OutputModel",
          "model_module_version": "1.0.0",
          "state": {
            "_dom_classes": [],
            "_model_module": "@jupyter-widgets/output",
            "_model_module_version": "1.0.0",
            "_model_name": "OutputModel",
            "_view_count": null,
            "_view_module": "@jupyter-widgets/output",
            "_view_module_version": "1.0.0",
            "_view_name": "OutputView",
            "layout": "IPY_MODEL_522aa6445f9f416f8a221184dc8e6850",
            "msg_id": "",
            "outputs": [
              {
                "output_type": "stream",
                "name": "stdout",
                "text": [
                  "Video available at https://youtube.com/watch?v=YPQgLVolvBs\n"
                ]
              },
              {
                "output_type": "display_data",
                "data": {
                  "text/plain": "<IPython.lib.display.YouTubeVideo at 0x7f0a58ba3950>",
                  "text/html": "\n        <iframe\n            width=\"854\"\n            height=\"480\"\n            src=\"https://www.youtube.com/embed/YPQgLVolvBs?fs=1&rel=0\"\n            frameborder=\"0\"\n            allowfullscreen\n        ></iframe>\n        ",
                  "image/jpeg": "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\n"
                },
                "metadata": {}
              }
            ]
          }
        },
        "05ddf4f8609b4089b6facd74b9ce36a2": {
          "model_module": "@jupyter-widgets/output",
          "model_name": "OutputModel",
          "model_module_version": "1.0.0",
          "state": {
            "_dom_classes": [],
            "_model_module": "@jupyter-widgets/output",
            "_model_module_version": "1.0.0",
            "_model_name": "OutputModel",
            "_view_count": null,
            "_view_module": "@jupyter-widgets/output",
            "_view_module_version": "1.0.0",
            "_view_name": "OutputView",
            "layout": "IPY_MODEL_61dd45f6c08a4bd5b1d3adbccae7fc39",
            "msg_id": "",
            "outputs": [
              {
                "output_type": "stream",
                "name": "stdout",
                "text": [
                  "Video available at https://www.bilibili.com/video/BV1TU4y1G7SM\n"
                ]
              },
              {
                "output_type": "display_data",
                "data": {
                  "text/plain": "<__main__.BiliVideo at 0x7f0a59207e90>",
                  "text/html": "\n        <iframe\n            width=\"854\"\n            height=\"480\"\n            src=\"https://player.bilibili.com/player.html?bvid=BV1TU4y1G7SM&page=1?fs=1\"\n            frameborder=\"0\"\n            allowfullscreen\n        ></iframe>\n        "
                },
                "metadata": {}
              }
            ]
          }
        },
        "d2b243c2cff44b15a1cc774dff64bc27": {
          "model_module": "@jupyter-widgets/base",
          "model_name": "LayoutModel",
          "model_module_version": "1.2.0",
          "state": {
            "_model_module": "@jupyter-widgets/base",
            "_model_module_version": "1.2.0",
            "_model_name": "LayoutModel",
            "_view_count": null,
            "_view_module": "@jupyter-widgets/base",
            "_view_module_version": "1.2.0",
            "_view_name": "LayoutView",
            "align_content": null,
            "align_items": null,
            "align_self": null,
            "border": null,
            "bottom": null,
            "display": null,
            "flex": null,
            "flex_flow": null,
            "grid_area": null,
            "grid_auto_columns": null,
            "grid_auto_flow": null,
            "grid_auto_rows": null,
            "grid_column": null,
            "grid_gap": null,
            "grid_row": null,
            "grid_template_areas": null,
            "grid_template_columns": null,
            "grid_template_rows": null,
            "height": null,
            "justify_content": null,
            "justify_items": null,
            "left": null,
            "margin": null,
            "max_height": null,
            "max_width": null,
            "min_height": null,
            "min_width": null,
            "object_fit": null,
            "object_position": null,
            "order": null,
            "overflow": null,
            "overflow_x": null,
            "overflow_y": null,
            "padding": null,
            "right": null,
            "top": null,
            "visibility": null,
            "width": null
          }
        },
        "522aa6445f9f416f8a221184dc8e6850": {
          "model_module": "@jupyter-widgets/base",
          "model_name": "LayoutModel",
          "model_module_version": "1.2.0",
          "state": {
            "_model_module": "@jupyter-widgets/base",
            "_model_module_version": "1.2.0",
            "_model_name": "LayoutModel",
            "_view_count": null,
            "_view_module": "@jupyter-widgets/base",
            "_view_module_version": "1.2.0",
            "_view_name": "LayoutView",
            "align_content": null,
            "align_items": null,
            "align_self": null,
            "border": null,
            "bottom": null,
            "display": null,
            "flex": null,
            "flex_flow": null,
            "grid_area": null,
            "grid_auto_columns": null,
            "grid_auto_flow": null,
            "grid_auto_rows": null,
            "grid_column": null,
            "grid_gap": null,
            "grid_row": null,
            "grid_template_areas": null,
            "grid_template_columns": null,
            "grid_template_rows": null,
            "height": null,
            "justify_content": null,
            "justify_items": null,
            "left": null,
            "margin": null,
            "max_height": null,
            "max_width": null,
            "min_height": null,
            "min_width": null,
            "object_fit": null,
            "object_position": null,
            "order": null,
            "overflow": null,
            "overflow_x": null,
            "overflow_y": null,
            "padding": null,
            "right": null,
            "top": null,
            "visibility": null,
            "width": null
          }
        },
        "61dd45f6c08a4bd5b1d3adbccae7fc39": {
          "model_module": "@jupyter-widgets/base",
          "model_name": "LayoutModel",
          "model_module_version": "1.2.0",
          "state": {
            "_model_module": "@jupyter-widgets/base",
            "_model_module_version": "1.2.0",
            "_model_name": "LayoutModel",
            "_view_count": null,
            "_view_module": "@jupyter-widgets/base",
            "_view_module_version": "1.2.0",
            "_view_name": "LayoutView",
            "align_content": null,
            "align_items": null,
            "align_self": null,
            "border": null,
            "bottom": null,
            "display": null,
            "flex": null,
            "flex_flow": null,
            "grid_area": null,
            "grid_auto_columns": null,
            "grid_auto_flow": null,
            "grid_auto_rows": null,
            "grid_column": null,
            "grid_gap": null,
            "grid_row": null,
            "grid_template_areas": null,
            "grid_template_columns": null,
            "grid_template_rows": null,
            "height": null,
            "justify_content": null,
            "justify_items": null,
            "left": null,
            "margin": null,
            "max_height": null,
            "max_width": null,
            "min_height": null,
            "min_width": null,
            "object_fit": null,
            "object_position": null,
            "order": null,
            "overflow": null,
            "overflow_x": null,
            "overflow_y": null,
            "padding": null,
            "right": null,
            "top": null,
            "visibility": null,
            "width": null
          }
        },
        "91137293d01f49bd98be5e927eb2f9aa": {
          "model_module": "@jupyter-widgets/controls",
          "model_name": "TabModel",
          "model_module_version": "1.5.0",
          "state": {
            "_dom_classes": [],
            "_model_module": "@jupyter-widgets/controls",
            "_model_module_version": "1.5.0",
            "_model_name": "TabModel",
            "_titles": {
              "0": "Youtube",
              "1": "Bilibili"
            },
            "_view_count": null,
            "_view_module": "@jupyter-widgets/controls",
            "_view_module_version": "1.5.0",
            "_view_name": "TabView",
            "box_style": "",
            "children": [
              "IPY_MODEL_16e96a93f26141649daa77af28ee3c99",
              "IPY_MODEL_707a3be170b544d58ac6d8e24f1ddbd3"
            ],
            "layout": "IPY_MODEL_8471fdc31a10492cb5ba84de87ddf6da",
            "selected_index": 0
          }
        },
        "16e96a93f26141649daa77af28ee3c99": {
          "model_module": "@jupyter-widgets/output",
          "model_name": "OutputModel",
          "model_module_version": "1.0.0",
          "state": {
            "_dom_classes": [],
            "_model_module": "@jupyter-widgets/output",
            "_model_module_version": "1.0.0",
            "_model_name": "OutputModel",
            "_view_count": null,
            "_view_module": "@jupyter-widgets/output",
            "_view_module_version": "1.0.0",
            "_view_name": "OutputView",
            "layout": "IPY_MODEL_57f747eeb8664bbbb4279f8c4db67a2f",
            "msg_id": "",
            "outputs": [
              {
                "output_type": "stream",
                "name": "stdout",
                "text": [
                  "Video available at https://youtube.com/watch?v=tz9zsmTHR68\n"
                ]
              },
              {
                "output_type": "display_data",
                "data": {
                  "text/plain": "<IPython.lib.display.YouTubeVideo at 0x7f0a58d88c90>",
                  "text/html": "\n        <iframe\n            width=\"854\"\n            height=\"480\"\n            src=\"https://www.youtube.com/embed/tz9zsmTHR68?fs=1&rel=0\"\n            frameborder=\"0\"\n            allowfullscreen\n        ></iframe>\n        ",
                  "image/jpeg": "/9j/4AAQSkZJRgABAQAAAQABAAD/2wCEAAUDBAkICAgICAgICAgICAgICAgICQgICAgICAgICAgICAgIChALCAgOCQgIDRUNDhERExMTCAsWGBYSGBASExIBBQUFCAcIDQgIDhINDQ8SEhISEhISEhISEhISEhISEhISEhISEhISEhISEhISEhISEhISEhISEhISEhISEhISEv/AABEIAWgB4AMBIgACEQEDEQH/xAAdAAEAAgIDAQEAAAAAAAAAAAAABgcDBQIECAEJ/8QAWRAAAQMDAQMGBwkMCAMFCQAAAQACAwQFERIGEyEHFBYxQZIIIlFSYdHSFTJTVHGBkZPiGCMzNkJVcpShsbK0JDRic3R1s8E3dvAlNYK14QkXVmODlcLT8f/EABoBAQEAAwEBAAAAAAAAAAAAAAABAwQFAgb/xAAlEQEAAgICAgEFAQEBAAAAAAAAARECAwQSITFBEyJRYXGBkRT/2gAMAwEAAhEDEQA/APGSIiAiIgIiICIiAiIgIiICIiAiIgIiICIiAiIgIiICIiAiIgIiICIiAiIgIiICIiAiIgIiICIiAiIgIiICIiAiIgIiICIiAiIgIiICIiAiIgIiICIiAiIgIiICIiAiIgIiICIiAiIgIiICIiAiIgIiICIiAiIgIiICIiAiIgIiICIiAiIgIiICIiAiIgIiICIiAiIgIiICLf8ARSfz4e8/2E6KT+fD3n+wg0CLf9FJ/Ph7z/YTopP58Pef7CDQIt/0Un8+HvP9hOik/nw95/sINAi3/RSfz4e8/wBhOik/nw95/sINAi3/AEUn8+HvP9hOik/nw95/sINAi3/RSfz4e8/2E6KT+fD3n+wg0CLf9FJ/Ph7z/YTopP58Pef7CDQIt/0Un8+HvP8AYTopP58Pef7CDQIt/wBFJ/Ph7z/YTopP58Pef7CDQIt/0Un8+HvP9hOik/nw95/sINAi3/RSfz4e8/2E6KT+fD3n+wg0CLf9FJ/Ph7z/AGE6KT+fD3n+wg0CLf8ARSfz4e8/2E6KT+fD3n+wg0CLf9FJ/Ph7z/YTopP58Pef7CDQIt/0Un8+HvP9hOik/nw95/sINAi3/RSfz4e8/wBhOik/nw95/sINAi3/AEUn8+HvP9hOik/nw95/sINAi3/RSfz4e8/2E6KT+fD3n+wg0CLf9FJ/Ph7z/YTopP58Pef7CDQIt/0Un8+HvP8AYTopP58Pef7CDQIt/wBFJ/Ph7z/YTopP58Pef7CDQIt/0Un8+HvP9hOik/nw95/sINAi3/RSfz4e8/2E6KT+fD3n+wg0CLf9FJ/Ph7z/AGE6KT+fD3n+wg0CLf8ARSfz4e8/2E6KT+fD3n+wg0CLf9FJ/Ph7z/YTopP58Pef7CDQIt/0Un8+HvP9hOik/nw95/sINAi3/RSfz4e8/wBhOik/nw95/sINAi3/AEUn8+HvP9hOik/nw95/sINAi3/RSfz4e8/2E6KT+fD3n+wgmaIi9PIiIgIiICIiAiIgIiICIiAiIgIiICIiAiIgIiICIiAiIgIiICIiAiIgIiICIiAiIgIiICIiAiIgIiICIiAiIgIiICIiAiIgIiICIiAiKNS7VhrnN3BOkkZ3nkOPMUVJUUX6XD4ufrfsJ0uHxc/W/YQpKEUX6XD4ufrfsJ0uHxc/W/YQpKEUX6XD4ufrfsJ0uHxc/W/YQpKEUX6XD4ufrfsJ0uHxc/W/YQpKEUX6XD4ufrfsJ0uHxc/W/YQpKEUX6XD4ufrfsJ0uHxc/W/YQpKEUX6XD4ufrfsJ0uHxc/W/YQpKEUX6XD4ufrfsJ0uHxc/W/YQpKEUX6XD4ufrfsJ0uHxc/W/YQpKEUX6XD4ufrfsJ0uHxc/W/YQpKEUX6XD4ufrfsJ0uHxc/W/YQpKEUX6XD4ufrfsJ0uHxc/W/YQpKEUX6XD4ufrfsJ0uHxc/W/YQpKEUX6XD4ufrfsJ0uHxc/W/YQpKEUX6XD4ufrfsJ0uHxc/W/YQpKEUco9qBJJHHuCNb2MzvM41ODc40cetSNAREVQREQEREBERAREQEREBERAREQEREBERAREQEREBERACrKr/CP/AE3fxFWaFWVX+Ef+m7+IqSsMSIiiiIiAiIgKScmOy3u3eLdaRPzbn9Syn3+7326158fda268Y6tQ+VRtWR4MH447O/5nB/ugteo8Fq2ivktDNubb7rsIYLfNRiCd0jo2ysjDTXFznFjmuw1rjg5wqF5TdiK3Z251FpuLGNqacsOuJxfBNHIwPjmgkc1pfE5p6yAQQ5pAc0gewtqeQyS6coFZfn3W3ClpKuhuD7fRzOqL0XUNNRuZA+kDWinMjoR4xeSA9hAOeHnbl927Ze9sn190ttZS0NPU0dNNbJ2mnuAt9K9pmimbqbuquRjpnYDvE3rQHHTqIVCi9V8j22my1+u9JYG7A2+noKwvpm1e/kqa6D71IYpJakxCXLiwNJEgc3XnU4t46zkl2NslDyhXXZa6UUNfQTy1dJb3VOoyU8rBzqkG9a4eMafeREj3zzGRjqQeZ0Vm2zklqJNtBsk8vDhdH0skw0h/MYtU76xgIIyaFpmaD5zQVbMXJnZ9p+UOttNupY7fYLFAW1vMw9hqnUUjY6hu8dnTK+rndFqByY6Yubx6g8sovYmw9NYNpbi/ZyXk/mslBUx1MVuvUcVRFXQOghkkgmqp5YR472RE4e+Qay1jhIHFyq/wcuSmiuG2tVYby4Sw2t1ybLC17oRWz2+oFNuQ5rg9rCS+QhpzpiIz1lBRam3J1sZR3SivlVV3yjtUtqojVUlJU7ne3aYQ1UgpKXeVEbt5qp42eI2Q5qGcOoGyOWfbm3RR3Gy1HJ5RWGt0llLUh25rKXTL4k500wbVscGOAc1+h2okOcOvD4M+yVvuNh29qa6jhqZ7bYnVNBLKCXUs4o7rJvYsHg7XDEePwYQUOinfJHtLZbW+rqLzY/d2bRCLfTyVD6aljk1P38lSWZ3o0FmGOY8Eg+94FXrHb7FtjsftFcodmqTZ642GHnUE1AC2KeMRPnwcRsbKHNgmYQ4O05Y4EZwg8novRfgd7C2i9UG1/uzHA1lJboHQ3CZuo2sSw3PfVsY1AZjETJOPwIU05GK/YjaK5v2Tpdk2x0clNUc1vVRUF90qH07N46aQ7veUznjePGmUgaWjQA7SwPICLa7X2nmFxr6HXvOZVtVSbwjBfzad8OvHZnRnHpWqQEREBERAREQduz/1mn/v4v8AUarHVcWf+s0/9/F/qNVjqwkiIiqCIiAiIgIiICIiAiIgIiICIiAiIgIiICIiAiIgIiIAVZVf4R/6bv4irNCrKr/CP/Td/EVJWGJERRRERAREQFZHgwfjjs7/AJnB/uq3XZtlfNSzR1FNNLTzwuD4p4JHxTRPHU+OSMhzHDygoPVnLXyQbWV23lbdbHRTwsdWUUlJdDNBTwwmOjpInzlzn6zGxzH5Aa4uDXANdnBlXLbbLJeOVPZy3VQgnAo3MurA9rY5aiKKuqrfSVGHcZS5sILHcXMmhbxBAHk2TlO2gcC120N8c0jBa66V5BHkIM3EKLtqHiQSh7xKH7wSBzhIJA7UHh+ch+rjnryg952Ko24G2baaSmbatkaG4SRRxwR0FJbTbQ58VDol/CVE02af72w5D5caIxlrfOfhSw19n27r7luZqZ/ujBcLdUSRPbFMYG00sc0D3DTM1sjWg6ScOBBwRhVxtDt/ebiyKOvvF0rI4XNfEypramZjJGZLJQ2SQjejJ8f33pXU2n2quV2fE653GtuD4m7uF1bUzVBiadIIY6d50A6WknhkjJyeKD3vtTcrZRUVbyo02htXXbMUlNSQua1+m4VD9DHS6T98ma80cDse9ZSS8cZXnjwEtt4LftJU09fUCEXqkdSx1MrhqNfvmSwh0shwHSffgC7Op7ox2rp+EfthbYrBs1sjYq2Kvo7bAay4VUGvcz3GQyA6DJhzfvstdLpOQBUxAHxVQKD1ntXdeVqhuMlvZJc60CV7IKykttBLRzxBxEc3OGUpjpw5oDtMrmubnBAKpXZzZvae47SXM0LJ3bS0FRXXCuNPNTwVLKqKtENc+J0b2xPfzioILIiQ4OdpBHBail5VdoooBTR7Q3pkAAa2NlxrGhrQMBjCJcsjxw0jA9C0Fr2hrqWpdW0tdWU1Y8vc+rgqJoal5kdrkLp43iRxc7iSTxPFB7T2brrttBsptHFyh2nm0Fro5JaG61tHzCt502GY7yCJzW6pmuEAbJC1rZN5uyJNRCqzwRPxb5S/+W3/AMhelSG1O3t4usbYbld7lXQsLS2Gqq6iaIOaCA/dPeW7zBPjYzx61rLTfqykjqYaSsq6WKsj3NXFTzzQx1UJa9hiqWRuDZ49Mkg0vBGJHDtKD0v4IOzw6N7R3q00FJc9q6KZkNuhqmxyupIXRRO5xTxye9ne19ZpP5ZpQwHBcDZmwdPthXbJ7Yx7Tc5mr621VHuTQSMpm1rmilqmzbuhpGB7Ncr4WNaW5c5uAOrPiHZfaWvtc3OLbXVdBOW6XS0k8tO9zNQdoeYnDXHkA6XZBx1LvUm315irX3KO8XNtwkiMElbz2pNVJAS07l85k1viy1h0kkZY09YCC9PBPppIdnuU+GaN8UsWz8scsUjXMkjkZQ3xr45GOAcx7XAgg8QQVHPAS/Ha3/4a4/ycqqGm2ouMRrTHca6M3IPFxLKqoZz8SbzeCt0v/pQdvpc7zVnevz74rrWO8VVDM2poaqpo6hgc1s9LNLTzND2lrw2WFwcAWkggHiCg3XK7+MN+/wA5un89OoustXUPlkfLK98ssr3SSSSOc+SSR7i573vcSXvLiSSeJJKxICIiAiIgIiIO3Z/6zT/38X+o1WOq4s/9Zp/7+L/UarHVhJERFUEREBERAREQEREBERAREQEREBERAREQEREBERAREQAqyq/wj/03fxFWaFWVX+Ef+m7+IqSsMSIiiiIiAiIgKef+5raf/wCG73/9vqv/ANaga9g+HbyiXqz7SUUFru1fQwPslNO+GmnkjidM6vuTHSOjadJeWRxgnHUxvkQeV9pNlLlbNAuVtr7eZM7sVtJUUmvHE6N+xur5lpl6+8F/lan2smqdj9rTHdqW5Us5pJp2RtqGSwR710OuNg1OETJZmTfhI3w8CcjRRFv5ILjW7U1uy9va2WppKysgdPMTHBHTUspZz2ocxrjHCW7s8ASTKxoBJAQVwi9CO8HGkrY66LZ7a23X670EL5prVDTup3StiIbIKWp5w9tQdRDQ4N0ansBc3UCqm5KuT+4bS3KO12yNjp3sdLJJK4sgpoGFrX1FQ9rXFkQc9jeDSSXtABJAQRRbey7M19bBV1VHQ1VTT0EYlrZ4IZJYqWMtkfrqHsBETNMUhy7HBjvIrvu/IFs/STS0U/KFaI7hBrZNTOo8Qxzx5D4H1fPdDJGvBaWkBwIIIBGFpOQWyXaq2c20nt14FuoqS3MkudGaWKoNzh5tcXCETSeNTeIyZupnw2fyQgpRFZvIdyRTbSi4VUldT2m1WqJstwuVU1z2RB7ZHNZHEHNEr9MTifHaGjHHLmg/OVbk+s9rooau07V0d/dJUinkpoqV1HUQtMUkm/MUlQ9zosxhucAZkbxQQtuy9wNAboKGrNtbJujX7mTmgl1Bm7M+nRr1EDGesrTq8aaxXc8m81eLyBZRdBG6y80hJdPziJu/57+EHjlrtPV4q0nI7yKz32iqrvWXCksdionbua6V3FjpSWjd08Wtm9IdJG3Jc0F0rWt1Oy0BVKK89pPB/jfa6u7bM7Q0W00FubvLhBBA6jrKeIBzt6KZ8she3SyR3EtJET9OsghRzkH5Hp9rG3fm9WKeW10rKhkO4M76t8gn0QR4kbu3F0IGTn344cEFXovSll8FZlSZLf0ss7do44HyvskYE5ikaM7meqZPrY5uW6i2F2nJOHDBNObBcnFwvF9Zs9BG2Gv39RBPvid1Smk3nOnTvjDsNZunjhnLtIGS4IIcivHbbkZsNvp7judurdV3G3RTufbuZOgM09OHaqWCpdVuZJKXNLQGgnPYqOQEREBERAREQduz/wBZp/7+L/UarHVcWf8ArNP/AH8X+o1WOrCSIiKoIiICIiAiIgIi6NwrxGOAznqPl+Tt+dSZWIt3XEDrOFjNSwHGsZHWo3K+WY5wePAAuA+jK6coe08XY9GSD+0cV47SvVMo5Gu96QfkK5qGRVzmAgO7fL2jtC21uvreDZsg9j8fxY/evUZJTeosNPUsk4seHfJ1/R1rMvQIiIgiIgIiICIiAiIgBVlV/hH/AKbv4irNCrKr/CP/AE3fxFSVhiREUUREQEREBemf/aO/jVQf8v0v/mN1XmZemNqfCjorrM2ouWw9kr52RiFk1ZI2okbC173tiD5aUkMD5JDjqy93lQazwCdlpqramO6aSyjs1NVT1E7hiISVNLNRxQueeAeWzSyfJA5Wp4LG0NLdtpuUOtjbzh9a2SahjicYqiooBUVbCIXEh0bntNCCeGHPZ1cFRfKJ4Q9zuVvks1vo7ds/Z5dTZKK0Q83M0bwN5FNKCAY3kHUI2x6gS12oEg17ycba1+z9xgulsm3NTASMOGuKeJ3CWnqI84kheOBHAghrmlrmtcAvzk/5ZNh9n69twtey94pqyNkkQea98o0St0yMdFPUuYfnHAgeRSXwIbmyrr9vKihZuauriFTbYnFu9jjlmuT2s8Xh4sktGDjhnT6FALh4QFjqZXVtTyfWSa5SEyTVLp/6PNO8l0k0tEaUtkc55LiXucSSckniqr2N5Rq+zXt19tm6pKh088rqaNhFE6GokL5KJ8AcNVJggBuQW6GOaWua1wCIztcHuEgcHhzg8PBDw8E6g4HiHZznK9K+Cj+J3KV/k8f8ld11Lr4R1oqJnV79gLHJdHkyPrJ5GzRvnPEzvpjSDW/V42S8uz+Vniq55LuVSSxWjaK0so46hu0NI2kkmdK6N1KGw1cOtjAwiU4qicEj3g8qDceDpywx7N+6FBcqBt0sd3jbHX0vi71paHs3kQkOiQGORzXMcW5xGQ5unxpPyzclFgm2edthsfVz+5sdTHT11tqy50lHJK6KIRxvfmVr2STQZjkdJqE4e2TSADBeSPlNo7PSVVBc9nLbf6SpnbUNFUdzU08gj3TtxU7uQxtLQ33rQevic4G05VuXB11tUVgtVoo9n7IyUTyUdK908lRM12tpnqCxmtofpdjTkuY0lxwAAn9F/wAGKj/PG/zkCy8pn/B/ZfmWvce6x55o143m8vG83/8AY51jGrhndY/JVSw8rEjdj5NkuZRmKStFZz3fO3gImZLu9xoxjLMZ1dq7fI7y01Fho6q01VBSXux1rt5UWquH3sSjSd7BLpdunF0cTuLXAGJrm6XeMgsj/wBnQJekN0J1czFjm5zqzuNRrKLc7zPia9AqMZ/J3uO1dzwG6ncxbczUr3x7q0iSmfnEjNDbg6F+ex4w0/KFCNpvCBaLXVWjZvZ+g2Zprg0sr5aaV1VWVMZBaY+cuijLWlj5G8Q4gSO0luTmL8ivKxJszDeoY6KOrF5ouZPc+Z0RgAZOzeNDWO3h+/ngce9Qb/wK5HP29sj3uLnuddHOc4lznOdZ7iXOcTxJJOcldWr2+qdmdv7xd6SNkzqe/wB6ZLTyEtZUU8tdUxzQlzeLHFpy12Dpc1pw4AtMQ5GtuH7N3uivUdO2rfRc5xTvkMTZOcUlRSHMjWuLcCcu6uOnHatps1ynCk2iuN9ntNDcIrnNcJKm2Vo31MY7hUGofG1zmkamO0gOc08AeGTwC8ajYzZPlFiuNbs4KiybSxQS11RbZsGlqnkt1y6AXNEbpXNZvYSzSZg58R1DPkpX/V+EVT0dFW02zOy1v2dqbjGYaqviqH1c4icHAtp8wR7lw1Eji5rTxDc4IoBAREQEREBERB27P/Waf+/i/wBRqsdVxZ/6zT/38X+o1WOrCSIiKoIiICIiAiLBWS6WnHvjwA9P/X71JmldO8XDd4a0t1Hjx4/sH71qpbs4jSAC7gA4jq/QYOB+XrXaiss87ySMautzsYA8uM5d5OCzyW5lOMaXSydhLTjt6hniFgyyiWaMZpoZJHE+OM9vHgc+jyLtRhz2ktIByGkZHH5ncDwXaNM5595oGOAPFvEdrD1dS6dRTOByGOYR2tLgPocTw+fCnYjB06uIg4e0A44EcCR6R2n5l09GD6VuYXl+GOYHHqHDGflHUf3hcpbS53FjSAezrAPbgr12pOl+mpp5HMcCHEOB4EHipXY7pvvEfgSN+YOA/wB1F6iiLcntGOv1pE8tkY9pwcgj5RjOV7iWOYr2nqLFSzCRjXjqcM/Ie0fSsqyIIiIgiIgIiICIiAFWVX+Ef+m7+IqzQqyq/wAI/wDTd/EVJWGJERRRERAREQEREBbhmy1xcARbq8ggEEUtQQQeIIIZxGFp1f3Izy87UVF92ft015mfRzXa00UsBgogH0slZTwPiLmwB4BiJbkHPHrQU10TuX5tuH6pUewtMvUHhK8ue01q2rvFvt94lpqOmmhbBA2Cje2NrqSnkcA6WBzj473HiT1qn7tyZyU+ydBtUatjoq65vtraMROEkbmNrHb0zatLm/0M+Lge/HHggr9FYEHJnI/ZOXarnbBFFcxbTR7p28Li2N2932rAH3z3uns61dt05Dtmeh9mrPd63UVTU1komv8AIyukhrdJrP6FHTOm0QvjwGlzQ3JpSe1B5SRWdyT8kE18gr7lPcKS0WK2ybqru9ZqMW9OnRDTwjBnmO8h8TU38NGBlzmtOw215FWw2eS/2C9Uu0drppBHXvp4JqKrodWA2SaincX7nJbk5DhqDtJaHOaFQrs0FBNUOc2CGWdzGGRzYY3yObG0gOe4MBIYC5vE8OIVv8mXIBUXyxMvrLpRUVM2ulpqs1g3UNHTU7N5PWzVBfjQBhoYG8XPbktGXCRciux1TSbS3mh2X2mo5hDs5UTy3VtCyaCppnS0BqKNkEkj91IJXR/fMk/ejwGUHnVFNuSzYmku3O5LhfrdYqWjbCXyVmuWondOZdLaOjjw6pLRC4uwQW6mcDq4SPlW5HGWmz0W0FsvNNfbPWVBpOcw08tJLDUaZXBktNK5zmNxDICXFpBDQR4wyEDuGyFwp7ZSXiakey210skNJVl0ZZNLC+WORjWh2sEOhlHED3hWiXonlK/4UbF/5rdf527rzsgIiICIiAiIgIiIO3Z/6zT/AN/F/qNVjquLP/Waf+/i/wBRqsdWEkREVQREQEREBc4ixpaXjJJIaMZ4kYB/afoXBSzYHZfndZESMxsZvpCfKG8APRqc36Fh3ZdcWfj4ds4hgobMyVhedbnE569PUOGDj95HyLoXigGPwL2F3DOvPjA9ZaOBBXoOm2VYGtiijaMtDSXk8B5T5PkXKn5OmH76QHOGS3LWkA+VgB6/+slc763nw7UcSKedLPYKlzmsLC9h62OGoY48c4Bae3JwtvV7FvOC8OweGRxDMeceGPJgK/6HYYQlz3B0j3cWtbjtzpBBcB1+X0rDW7LvA0OOB+U1uHEcfe9Xk458quWyXrDjY+nn6TYgtxKx3AYPUewnzhk9X7V8FCGHBAHDGeo/Qr1umzrWxkNGGt6h1nJ/JB8irbaegbGH4GMHtHEeTH7VPq37ev8AzRjFwrPaGzhwc5uM4PDHX1eRQgQEZGMjJ7OpWjU4LSep2riB1f2seQHj9CiG0VDu3nTghxcQfQTn5uJ6vStvVk5PJ1+bZtn35iwfyXEfTxWxXQsjMRn9LAXfW3HpoyIiKoIiICIiAiIgBVlV/hH/AKbv4irNCrKr/CP/AE3fxFSVhiREUUREQEREBERAUz5Cfxq2a/5gs3/mNMoYu5Y7pNQ1VNW0sm6qaOohqqeXSx+7np5GywyaJAWO0vY04cCDjiCgs7wwfx3v/wDiKf8AkaVTbaOkln5ILHuIpJtztPK6URMdJu2ubdo2uk0A6Gl80TcntlYOtwVCbXbRVd2rZ7jcJjUVlS5rp5iyOMyOaxsbToha1jcMY0cAOpSXk15Xr/s5FNT2a5vpIJ5N9LCYaWpiMugM3rWVcMjY5C1rAXNwXCNgOdIwF137ZWttPJG6K4076Wapv8NYyCUFszIJWxsjM0bgDE926LtJ46XNzjOBqNvIXP5Itlnsa5zYr5Xb1zQSI9dReA0vI96CS0ZPa4eUKo9oeVG+XCjqqCuuU1VS1lb7oVMczIXulqwxkbZN8Y961rWRRsbG1wY1rGgNAGF3OTrlj2h2ep5KS0XR9LTSSb50DoKSqjEpABextZDJuiQG50YzpGc4QWvBE+v5IN3btT32raB093ijaS/m5EzxI9oGXRNFTRvL+oCB/HxHY4+C7TvpNkeUK41QMNuqbKaGGWTxIqitfBXwxRxOcMOkbLVQM4Zw6pYOsqlOTzlAu2z076mz181FLK0Ml0COSKVrclomgna6KUtLnYLmkjU7GMlbHlF5Xb/tDFHBd7nLU08TtbKdkdPS0+vse+CkijZK9oJAc8Et1OwRk5C14pHN5HXhrnND9pQ14BID2jQ8NcB75uprXYPa0HsC6/gF/wDfd8/5Uuf83bVTPTe5e5HuDzo+5POeec03UGOc9W832733/h1Y9C+bC7aXGxzT1FqqjSTVNLLRTPEcEuulmfHJJFieNwbl0MZ1AB3i8DxKC0eRLk+tb9mr1tdeKOqu8FrqWUcNopZpKUSyFtM6Soq6mEGWOnaKqPizGkRyE6uAFgcob45eSlk1NZTY6aS/RSxUYkrZ2uicHBtUJq5xkkZITgOB08Bhef8Ak15Ub3s2Z/cW4yUYqdO/Zu6eoieWZ0vMNVE+MSDJGoAHHDOFt6rl22nmhucE15mnhu8b4q6KeKkmY+OSIwPZC2SEijaYnEYg3fYesAgLA5Sv+FGxf+a3X+du687KQ3LbS41Nqo7JNVF9rt8ss9HS7uBohlmfLJK8StjEr8vnlOHOIGvhjAxHkBERAREQEREBERB27P8A1mn/AL+L/UarHVcWb+s0/wDfxf6jVY6sJIiIqgiIgIiICvHkpDGtOAA58MPV2jdNxn58nh5FSNPC6R7I2DU97msa0dZc4gAfSVaGwdRNDcKehkaRJFDplwQR97LyMH8pul0f0rV5XnCm9wYnvdeF+WKMascOOMnHXjCmFLTtIHicG8cY6+HDGVE7AcsaeHA4P0lTK2yn5vJhczU7+2ftc+aNaC9zfGIIDeGG54cfK70rSXChZnPAdZ4dvDiVIqt3i8eHBai5MLve9Q4nPkxjt6lnzYNVoXfo2tYSB1j9o6yqZ24ja7LR154enr/erc2pe4NcMcANI7Or5FVl7i4+MM+MCAPp4rXvy28oqFa1o3fiuwNIaPlJJyOHoC0tfBvyGgcG++8hJ4A+XqAHzLcX+PeTyNbn32APLwPHrWoonuY5wcDndu+UgdZ+UEZXQ1x4cHlZeadWjg3bNPaOJ+Ql2P2grMuF2rCJMNaHE8OsAaWuIznHDhj6FzyDxa4OHY5uSD8mQtvGY9NDLGY8/AiIvbGIiICIiAiIgLhuW+Y3uj1LmiKx7lnmN7o9Sm3IlsHDtDd47ZLK6mY+Com3sUcb3gwtaQ3S/hg5UNVxeBz+NdP/AIKu/gYoLO+5EoPzvV/q1Kn3IlB+d6v9WpV6WRRXmn7kSg/O9X+rUqfciUH53q/1alXpZEHmn7kSg/O9X+rUqfciUH53q/1alXpZEHmn7kSg/O9X+rUqfciUH53q/wBWpV6WRB5p+5EoPzvV/q1Kn3IlB+d6v9WpV6WRB5p+5EoPzvV/q1Kn3IlB+d6v9WpV6WRB5p+5EoPzvV/q1Kn3IlB+d6v9WpV6WRB5p+5EoPzvV/q1Kn3IlB+d6v8AVqVelkQeafuRKD871f6tSp9yJQfner/VqVelkQeafuRKD871f6tSp9yJQfner/VqVelkQeafuRKD871f6tSp9yJQfner/VqVelkQeafuRKD871f6tSp9yJQfner/AFalXpZEHmn7kSg/O9X+rUqfciUH53q/1alXpZEHkLlU8GyistnrrpHcaid9HE2RsUlPTtY8uljjw5zeIGHk8PIvOW5Z5je6PUv0D8Jr8U71/h4/5mBeAFUlwETR+S36AuaIqgiIgIiICIiDZbLTMjrqN8pxG2phMh8jN40OPyAZPzK6dorPza+WqqaDmoirad5yMAwRtewDA4niRx81UIvQuz1Xz+02GqJ1y09RVQyuPZJzaWIOcfOIDe8tTkx6l0+BncZa/wBxP/PCytk5oy0HWM54jIwMdeexS+huUAOHSxtd1aS5vzdZyqauGzdRqjEcm5p3uBmk1antYTgiPIwDntcOGc9i0m0HJzUuuIlglPueXSPdK6p1yOZu6cMj0vIcyRj2TnIzqMzfehuFq6tcTEzDo79uUTEVPn8PQ1dUMLdWoEZxkHhx4D9669bVsZF1jJb2/wC6rfYyxTQljXVskrM4cHceAxjVn8rB6x5FF/CIu9bSiCnpHuj3rnNcWniWgHHHsyvPaZlkn7Y/iQ7Z3qnaHh80TXDBLdY/d5cqu7ndaaSJz2yNc3iCQRwUa5NdjWXIy1F3lke0wyiMl7g3fYxG127OtrQTnynTjI4ZjV32QmoWzb2pi0apC2NjnzDBe5zGtDuOA0tblxBwMnisuOmPcy19nI2TMVjcMNRIx8j3xuyWnUB5R+VgejC1d7cWzR4/KZ1+jHEf9eRZKGzTmPf6dBbp4DAB9OOwH6FsLhbHPigqPgxKHj0hpc0j5ws2FNHbjM+/lGbvKx7zHHnIwDnhk57PKNXastvYWxgHhxcceTJ6l0WvDqlo6msIBcO3Ser0nq/Ytu48Twxkk48meKy6o+WPk1jj1fERFnaIiIgIiICIiAiIgK4vA5/Gun/wVd/AxU6ri8Dn8a6f/BV38DFFe5ERFFEREBeevDKjdNNsbSb2oihrtpaWjqebzSwPkgqHRRSs3kTg4Za48exehV5x8Ne2Q1s2xdFUs3lNV7T0tLUR6nM1wVDoopWa2EOblj3DLSCM8EE/2c5DLNQVdPW07rqZqaVs0QmulfPFrYcjXFLKWSN9BCw7W8vVmtlyuVonZXyXC3CkApaanbPNcJa2COohp7dEyXXPLu5AXagxrdJy7qz3uTzkP2d2frPdC0251LV7qSDemrrpxupC0vboqJ3s4ljeOM8FX/JvQxP5VdtJ3xsdNBbrOIZHAF0Qmt1uEu7J96XBoBI44yOolBv+UPaG2Vs2xFZcG7QW6etusbrbRxthpniqL4MU97gkLnNhBDMtYc8XKYcrHKna9mo6c3B88lTWP3dFb6KI1NdWSZa3RBACB757W5c5oJc0ZyQFXnhQ/wDfvJ5/zNH/ABUq1O0m5j5XrY+4YDZdnXR2l8g8TnQkq8sjcfFEml1YADxzK0dbm5C1OTTlMbe55qY2PaKzyQwicG927mEczC8RkQP3rt48EtJGBwPaqv8ACwo+ebR7A26Sapjpa+tusFUymqJqZ0sf/ZXAvhcHcMnB7MlejV588JP8ceTX/Mrr+61IO1th4Pe5ppJ9mb3fbVdYGmWl1XSqno6iVnjNgqo5nk7t+NGc4GvJa8AtO+8HHlX93dmDdrm+OmqLa6opbvK8CCFklHGyaSpcDhsTXU8kcjgMNa4vAwBhWHtptNSWegqblcJ2U9LSxOkke8gZwPFijBP3yZ7sNawcXOc0DJK8dWexXCLki2hrXRSRy3q5e6+6ja9rxb31tuikfp98IXMpppNXUYnA8WnJC96XwjrO58Ek1DfqO1VUzYKbaCttr6eyTPeSI3CqfJrZE8g4e9jR4rydIa4jVbe1sto5SdnKkzObRbQ2ystMsRe7dirpXCZkoYTpMj3voIuoHgeJzhaN3Jpftp9l6WgG1FpdZa6ht7oGU9k3TmQQGnnp42PbVZjcwwsYRgEaXNIHELaeF9Z56XZa1XSN4mrdlrjaLhvtJBlMLo6WQ4ySxrp5IJD14EfzoIL4Vu2lbSbX2qsppZG2zZd1nmuwie8aXXSsle9k0bTiRj6WlibjGfvvDryLU8Ierkrbtsfs7TySR+6N4NyrXROIDrbZojUTwSFrgQybeYHZmL5jWcFpbtRsnyi35sbz7tVs9Rb3aXb2ag2biidbSGY1Ne4wTM0Yzlzh2raeCpfH7UX2S/y7xzLLszZ7DG54IZLXzsFTc52Ajg9s0cjM9rZWdeRgLI2QrLZ012nZBNeJLrFRW91fTzuhdaYojSUjoPc6Nv30TOj3Rdq4FxfjsUK5MvCIqq+93qiqrJe30sNXQU9vjpbRNzqgbUGdspvmZiKU5EZBP5MUpxwXd5Mf+KO3H+XWT+Qt65eDp+OfKSO3n9nOPRu7nx+TiPpQYL94QNRSbXz2g2e8z26moJy6CmtM01ynrIax8HPKdol++2h0bPFmAAJcFftrqxUQQziOWITxRzCKdhjmjEjA/dzRnjHK3OC3sIIVHzOA5WowSBnYsgek+6bzgeU4BPzFXygIiICIiCuPCa/FO9f4eP8AmYF4AXv/AMJr8U71/h4/5mBeAFYSRERVBERAREQEREBWxyHXMGlr6R54wvgrIBnqc97YJcDyYLe8qnW42Mq3Q19MWuLQ6Vkb8HGpj3AFp9HV9AWPbj2xmGxxdnTZE/Hqf5L1zbXiSIMwDkDgeo9h+VdhtjY4eMOHXxwcY6uDQM/OtTYbg1gaHYzgD6O35Vsp79I94hpog44BdI/xY4xniSe0+gcSuXFRD63LrMRMOxTsa1zA1ojja4ANbgAfR6Qqq5f6ln3p+MyNlbjq6jn5+pWOHyyy7rOXasOI4A48gPABVDy8072zMBGlsnVIT4vDPi8Oo8Exxl6nXEYzPzTo7BESvMT26XEZBHDGRx4j0KU1+xMDyJZw+QN8Zoe9zmg9fvS4tGMKrbHtLHSXFrIHteHMa1+slw1N7Qc+KT2q35dot7T+M0NOkHHDTxHWCPQrnFMOGWEzU/CtNuK4R5iZG0NY0tZpAAAOBgehRWef/s/Vk5HOAfq3YOO1dvbe6NlqSPyePAYyQOJ/cVrK54FHIzIIlm4AE50lpzjHZgBbOnFyedsjtUfCK22NpHV73iCesl3Xk+gAfSu8vjWgDAGAvq3McesU5O3Z3ysREXpiEREBERAREQEREBXF4HP410/+Crv4GKnVcHgePDdqqcuIA5lXcSQB7xnaVFe5kWHnUfwkffb6051H8JH32+tRWZFh51H8JH32+tOdR/CR99vrQZlDOVPk0t20jKSO5c5xQzmppnUs76aSObSGh4kj8YOGAQRjB4qW86j+Ej77fWnOo/hI++31oKytPIXbKaogqWV20Dn080U7Gy3mulic+GRsjWyRPfpkjJaAWngQSFK7PsJQ0l5uN+hbKLhdYqeGrc6Quicyliihh0RYwwhkLOI6+KkXOo/hI++31pzqP4SPvt9aCPbZ7C0N3qbVV1jZTNZqwV1EY5DG1tQDGQZGj8I3723gfSupyp8mdq2lghhutO57qWQy0lVDI+CrpJHABzoJ4zkA6WEsdlpMbCQSxpEs51H8JH32+tOdR/CR99vrQQfk65KaKyVLq2Osu9wrDTPoxU3a4T1z2U0kkMr4o2OxGwF9PCchufE6+tZeVLkstu0clBNcDVtlthqHUclHUyUkkbqncb12uLxtX9Hjwc8OPlUz51H8JH32+tOdR/CR99vrQVVS+Dts5v4qirp626vgOqJt2uFbXwsJxnME0m7kacDLXtcDjiFas9JE+J0D4o3wPjMT4XMa6J0Tm6HROjI0ujLSWlpGMHCc6j+Ej77fWnOo/hI++31oKkh8Hazwue2jrdoLfRSOe99robvV09uc55y/7yCXgHiMB4HH5MWLfdlaSttc1mnjcaGaj5i6MPdrEG7ETdMhy7W0AEOOTkArbc6j+Ej77fWnOo/hI++31oNHsJsXQ2W1w2ahic2hgbOxscr3SucKiWWabW93F2p80nzHHUF0eSfk3tuzFHLQ2mOWOCaodVSGaR00jpnRxRE63cQ3RCzDeocT2lSrnUfwkffb6051H8JH32+tBHbPsHQ0l5uN+hbKLhdIqeGrc6Quicymiiii0REYYQyFnEdfFR++cjVsqb2L/FPc7fcHuhNWbbWyUkNwFPo3bK2IAiWPEcYLWlocG8ckkmwudR/CR99vrTnUfwkffb60EE5TuSK23+qpLhUSV9DcqFhip7la6p1FWshcXkw75rTmP75L2ZG9kwRqOZ1bqUQQxQtdI8QxRxB8rzJK8RtDA6SR3F8hAyXHiSSV951H8JH32+tOdR/CR99vrQZkWHnUfwkffb6051H8JH32+tBmRYedR/CR99vrTnUfwkffb60FfeE1+Kd6/wAPH/MwLwAvffhL1DHbKXoB7Cebx8A5pP8AWYOwFeBFYSRERVBERAREQEREBc6eQsex462Oa4dnFpBH7lwRRXpLZm9R1lPDINQEjQRgjOrqc0eUggfSs9ZcpGPjYwSgOzgRte8gNzxkLc6flKpfk+v5izSvdpaX72F+SNEjQSW8OsHGR6QPKrt2PvW/3b3DG9Ba/wB778BpAGT2nr8i4+7VOGX6fQcbkRnjDG65zse6ppquB0oaQ6LeRhpAaG8BqyDnt6+PUqh5TZrvcWNFQx1O2PW4aQA1/EnVnrwAcfSr5utvpo9UssDXDi5wMbXA46gTjrVe7RPoZi8CjaHYIAcSfT4rTnDetZMesesnRzxxyxrtP4eeqGkfSP3kr2tLTkNcfGPZ1dqsPZO5V9VTv3cLt2CAHSAjV1jxR2jiPoXGt2fjllBip9LS/L3aMDGerOMgetb653b3OpssLQGNcCB6Q4DgOo5TPKMvXmXNjD6czN+EC29kayrETSNTGu1uByMjqAPZjP7Fwnc4U8bT1B/X/wCE8M9v/oo9FM6aZ8vv5JHZwRkeM709Zzxx/ZUmuLdMLW+SVwJ8pDeJ+nK29WNU5m7PvctaiItppCIiAiIgIiICIiAiIgLi9gcMEAjyEZH0FckQYubR/Bs7rfUnNo/g2d1vqWVEGLm0fwbO631JzaP4Nndb6llRBi5tH8Gzut9Sc2j+DZ3W+pZUQYubR/Bs7rfUnNo/g2d1vqWVEGLm0fwbO631JzaP4Nndb6llRBi5tH8Gzut9Sc2j+DZ3W+pZUQYubR/Bs7rfUnNo/g2d1vqWVEGLm0fwbO631JzaP4Nndb6llRBi5tH8Gzut9Sc2j+DZ3W+pZUQYubR/Bs7rfUnNo/g2d1vqWVEGLm0fwbO631JzaP4Nndb6llRBi5tH8Gzut9Sc2j+DZ3W+pZUQYubR/Bs7rfUnNo/g2d1vqWVEGNsDAchjAR2hoB+nCyIiAiIgIiICIiAiIgIiIPrOsfKOpXJsvNLbKlsM2t9PUNYYKnSHZkzwjkHU13ADs1asqorbSunmihYCXSSNYAPSQM/IBx+ZekXWyOan3MzA9hAaQR2dWQew9WD2LS5UxcRP7dLga5yjKY+KSdt91RtDmxnIy4nHHhjgAOI4HitDfJKcFx3bA8Z1ENGeJI4ZGDk44eRR250Nwo26qYCsjDSGMLmxzMjAxujqOmTqHjcCodftoq1uSKCdjng5Dy04e4EOw5riNPqC0+n4dOORGMfc7O0e07YnvhIYSQSCwBudAJ8Uflf/ANVTbX3l1TJpc52katPp4uwCBwIyP2elcrnFWPe58jDqHvXOdnQOIPAA/wDrhaJ9O5jsu4u7T5Pkx2LZ164xhzuTyMts16hsbNGIwHdTz1Y/efSpDWtLqUP68Tfscw//AJAqKU7yHgkn1Ka2uRj6Z8bupzMfIesEeQ5AWeMvNy1+t4zCPotGy6GnmkhqJC9owY5A0atJzwe1g6x6AtpSVsUv4ORr/QDxHytPELYibakxXh2ERFUEREBERAREQEREBERAREQEREBERAREQEREBERAREQEREBERAREQEREBERAREQEREBERAREQEREBERAWOombG0ucQAPpPoHlK1d3vjIssjxJJ1Hj4jD/aI6z6B+xR9tQ6R5fI4uc7tP5PoaPyR6EHojwdtld+wXaZ+t0r5Y4Ix+Dp443uY4HHvpnaeLj1DgOsq530+kE+TP7yqF8FXbuOlqXWaseGQ1smuikdwayrIw6Bzjwa2UNaW/2gfOXpe6UYwRjtP/AF8q5PIxyjZPb/P47/Dzw+nj1/3+tI+AuYSOIP0jA6jhaO52tj85APpGPmUlonY8X/ZYK6Icc9ZHyf8AovMT4Z9mFqk2nszQx2mM5+TH7ScKrLpZywuBGOzyntPYvQl7gB1cPk7eztKgN1s+p5JHzjj+zyrJjnTXz0Kfrafd6c4Havvui5oAaeI/2Wz24iDJQ0DGB29efkUQulQYmHz3jDfn6z9C2MPLS3fZNNLc5zJM93Xxx9HD6F1mkjBGQQcgg4I+QjqWQRr6GraiKc+Zvy2VBtBPHgOxM3+3wd3x/vlb2i2ggk4OJid5H+9744fThRAtXzSvSLFY8OGWkEHtBBH0hclXcEr4zljnMP8AZJbn5cda2lJtBOzg/TIP7Qw7vN9SCYItLSbRQu4PDoj5T4zfpHH9i28UjXAOa4OaeotIIPzhBzREQEW/2H2dZc5auE1kdJJT26ur4GvhkndWPoYXTvpImxkFsjoo53avGIELsNd1DrWHZi43Bm8obbcK2Pj99pKSpqYgW8CN7DGWagezOeCDUouxcaGamlMNTBPTTtAc6Gpikp5mgkgF0UzQ8AkHiR2FddAREQEREBERAREQEREBETKAiLsUtBPMyaSKCeWOnYJKiSKKSSOnjcdLZJ3saWwsLuAc4gZQddERAREQEREBERAREQEREBERAREQEREBFiqahkTS6RwY0drjj5h5T6FHLntMTltOMf8AzHDj8rW9nz/QgkFdWxwjVI8N8g63O/RaOJUWu1+km8SPMcZ8h8d3yke9HoH0rVSyue4ue4ucesuJJ/b+5cmDtPWgNGCB5FlYOK4M8q5s/wB0SZZ2PI7SCCCHNOC0g5DgR1HI61608HPlebdY47Vc3tFxjZpgncQ0VkbQAP8A64HWOGeteRys1NO6N7XxvdG9jg9j2Etcx4OQ5rhxBB7Vj2a4zhl07p1z49fL9Dqy3lrgQ3IXRuFIdJI+cFUxyQeEUzRHRX8aXNAay4sBLXjqHOWNBLHYx448Xgc6V6BjnpqynE1LNFNE9upskbg9j+GQWubkOC5+eqcPbuauRGfqbV7Xwg5H7McB1dS6MllLmOcB2Z/YpcyiDnaSOHb2/Lg+hZto6ylt1vqKurlbDTQRkySP6w3hpa1o4vkcSA1o4knCx44zMs2WVeZeW+USjZE6aom8SOPAB6tTuOlrQffEnyKnqud08hkcMDqa3sa0dQCk3KRta+8VbptJgpWOcKanOMsaT7+Ujg6Zw4k9QzgcOJjLupdPVr6xc+3B5O7vlNemIoFzcuJWRrPmF8wuS+Kpb5hfHhcwvhCPTEVnoqySF2qNxb5R+S70Ob1FY3DtXEBBYyIiC++SDb3mVNQ3W9y2+tpaAMsVooqejopr9SvwwGobIGsliom0hka7L3GQlg06nAv6XL7tWx9ZdqWYX+23Siq4aa300dwDrKaOKT+ttpWMjdTGal0yNDdeTJF4wAcFDNhaaOtsl/oY6SmluUAo7tSTbkOr3UtLLouUNPN74BkLo5RG3i4On4HhiI7ypuFUzVJPW1lXLDCx80r5p6iaQsggYZpnEvcSY2DUerSOACKm2xW1r7i+Cx36eWtt9XI2npquocZ66z1c7t3T1lJVSZlMG9dG2SF7iwszgDBDoLeqCSjqKmlnAE9JPPTTNGcCWnkfFIGkgEt1sOD2jCtDZzkuuJoqxrLLXs2jtd2t0jHVBZHQSUUrZODDL/RqoR1FPqe5riNEzCCQHNMR5Y6hk95r547jSXY1BZLJW0NO6kpJZnQsD2wROkkyxpaBrD36+LskkoJdfeSm3Wo0TrxtJFRxV9FTVUDYrdU1VRrlaTNvIoZCIaWMmPEzjmQl4DW6CTrqzkfrWbQOsLaineG0wuDri7MdMy2acvrpGai5gDvvegE+OQNWk6xm8Juuhqa20up5op2t2WtUZdC9krWyCSvcYyWEgP0vYdPXh7fKrSuW21BS7VDe1tLHS3LY2ktgr/vNTTUlS9880LqkO1RGHTjU14LfvkerDSSiKfrdhLfUUVfV2O+e6z7VAKmuppbfPbpDSai2StpHTSOE0TDxcw4c1uCTkta7U8oWxxtEFnmNQKj3WtFPdNIi3XNzO0O3Gdbt6Ggt8fxc8fFCsnaKK+0VBcH1t52UpKeegqqbTb4rOaq6xzR4fR0Yo6JsxZKOGslmnxXEDGW8dstn27SWjZuqobnaIGWyyQ2y5ivrWUr6GamZG1z5I3NLnRnEhHUSAwt1B+QVpaXkZdJfaCyC4jVW2SO8c4FKSIzI2cc2ERnGv75B+E1N4P8Ae8OPVtvJZBWVcVuoL7S1dbE2aa8ObS1MdutVNTtbv5m3CQhleGyuEY3YbqLgToAcRblNe6Bu3dnmir6V9GzZCGFlUZomRkt5/I1r3F2I5TCWv0HiA4cFTPg83ukp33K3XCoZRU98slTa+eyeLHSTyx6Y3zOPBkRDpAXEgAhmcDJBHYk5NqCspa2awX5t3qLbTuqqqikt9Tb5paaM4lqKIzPdv2t8wDPFvHLmh3KHkyoobVabzdL8ygo7nHM7dsoKisqmyxyYjigigeTMwxhz3ykNDCGNw8vGJNye2Loe64Xe7V9qe91qqqK30VBWMrJq+oqXQlrmNY0FtK0xNy9w4CTJDdPGM8qVZC/ZnYiGKaKSSno7uyZjHse+ImoomtErGnMZJjfjVjOh3kQd6/cklvtc0XuttNTU1FWtjktdRBQ1NTLVwSMY41M8Eb9NDTsMjBrc9wdxI04ONezkcrPd+ssclTBFHQU5raq6SNcKWO37tkgqjHqyHHeBu7LhhzJPG0tL198IqtinptmRBNFMY9k7fHIIntkMcgY8GN4YTokyD4pweCtTa/aW3TbTbQ26W4UsFPf9nKa2w3HeMkpYKrcSmJs8rHaWRubUEkkgeKwflhBXOz/JRbrsax1n2kZVx0NFUVM7ZrbU0lSHxtzDu4p5AJaWRweDIDmMhgLXawRvaTZaxP2Kje+9xRMdfWvfdvcSskmjqHUADrZuGu3742tJdvQ7dnHVldrka2RGz9XdZbrdLOyolsNwgpqamr4qh0jHGKWaokdhoijG4jDA7Dn65DpG7KjvJ/SsvGx89ip6uigukF8ZcmU9bUR0nOKU0ccBdA+Tg9zXl+R2aBnGpuStNbOTqjht9Nc75em2qmuDpvcyGOhnr6ysgiIBq3QRPBp6fBa7jnhJHxBc0Gb8k+zMEdLtrQU13oKulmstue26t1w0sUMpuDpH1cbsvp5Imte58eXEAN7TgdK/WZu1FosDLfXW2K4WKhNpuFBWVcVO/FPuoo6umfksnp37gu1tJaRI3jlpC6+x1DT2m3bbULrpbqyR9joQJKOcPgfUufWtlpKeR+nnT43PiaXMGMytGAcgERy7cnlE+0Vl2st7F2ZbHwNuMElvqLdLEyodojqIW1Dy6SLJPAgcI5OOWFqrpWfyT10MWzu20ck0Uck1FaWwse9jHzOFRWAiJjjmQgvZkNzjW3yqsEBERAREQEREBERAREQEREBERAWpvl5bB4jcPlIzj8lueou9S7lzqxDGXflHxWDyu9Q61BJWuL3ayS4klx8pPHKEy+1c8kztUjy53ZnqA8jR1NHyL5FH5VyYxZQjzb5p9CBqyL4ULfAF8K5AoUQC5YXFq5hBxK22y21dwtT9dvrZ6Yk+NGx33mTy7yB+Y3nh1kZWpeuLipMX7escpifHheOx/hDVUTg250rZ28A6elIil7PfQyO0P4Z6nN+RQvli5TqraKoG8Bp6CB2aWiactacY385HCSpI7epoJDe0ugIGFw6z6F4x14xNxDNlytmWPWZc3FfB1JlfXrIwOLl8X1/YiI+EIAvq+FAC+oetAg49nzrivresj0ri7rA9KLaxUREenbs1znoqiGrpJn09VTyCWCeMgPjeARkZBBBaXNLXAtc1zmkEEgzKXamyVrt/cLHPS1hcJJKiw1zaKGeXOS/mFVBLFSuJwSYXAEknAKgSIL/5KeVx4qTaKBtNaKOqguL2196uNVcZoriaOR9JVTVVW9sEcRmiiDoGxaSZHEEuJ1U/tbtG2vjo2C22qhlpWzsmntlLHRiudK9jmyTxwgR5YGYbpAH3x+MAho0CIr4AgC+oiPgaB1ABC0deBlfUQfMDyL6iIPgaB1AD5EwvqIN1atk7hVU5qqejllgG+Ie3dh0u4bqnMETnCSq0N98Ymu04OcYWNuzFcaM3AUkvMxG6YzeIPvDZN06oEWreuphIdJmDdAIILuBU75O9prXRNtMk0scMlKKxlaJLa6vrHSVMlU2OajrJHFlDRthngLmQBkuqGfxZDLqWjuVfbpqenmdXVrJ6axUtmNDSxOhfO+kp20Rc6rfmL3MniaZXxOGsmR7NPHUg0l02OuFJC2aegmijc+KPqY57JZ2l8Ec0EbjLTyvAOlkjWudjgCthdOT+vpqPnFTTyxzOuVJbIaQRtmknmqoK2Uta6GR2mpY+kZGact15qWZ08A6dDbi1UslVPTyQytN2s1zpaWO1up53wWy4mpdTV1ymc+esuBhkH3yV7otUL3B+ZNI1ezW09rs7onQ1dTcsX+C5SA0j4C2j9zbxQPdid+JLgx1wje4cGOLGBrzxLQhtRsTcmzw0rqCZ09QyeSnjj3c++FMxz6kRPhc5kkkbWkuYDqbkAgFwBy1+wl1giknloJWwwwuqHSh8D2GCNuuWeExyHnETG8Xui1Bgzq0qUja6jpo46WGanfG2nvzy+3Wz3LpW1Nwsc1rpA2J2Z5J3PLN5IdLGtEQGvSXLWWbaalidaC9zw2i2fvlumxGTpqrh0g3DWD8ph90aXLhwGXZ96gi9VYKuKSqjkppGSUMTJqtrtP8AR4pHQMje85xpc6ppwME53rcZWuVj7bXHd2K2skjmhuV0pqOOvbMxzHSW+wyVVNa5y2TD9NQ2SA6yPG9ymkEgjNcICIiAiIgIiICIiAiIgIiICIurdandQySdobw/SPBv7SEGgvtVvJSBxbHljflHvj9PD/wrWy8flH7li3q4GVHmWZfcLrslX3eoOwuLjwWAyrg6XsQdhrsYXPK628TeIjs5X3UusHr46RCnYLlxcVgEia0Vn1LiSsWtC5CIZgV9JWDUmtFplcepMrE53ampEplymVhL0D0IhmBXEO4rEHIXItObzh2fLhcZPfD5Vwe7qXxzuIRVlooZ0rn8yHuv9tOlc/mQ91/tqLSZooZ0rn8yHuv9tOlc/mQ91/toUmaKGdK5/Mh7r/bTpXP5kPdf7aFJmihnSufzIe6/206Vz+ZD3X+2hSZooZ0rn8yHuv8AbTpXP5kPdf7aFJmihnSufzIe6/206Vz+ZD3X+2hSZooZ0rn8yHuv9tOlc/mQ91/toUmaKGdK5/Mh7r/bTpXP5kPdf7aFJmihnSufzIe6/wBtOlc/mQ91/toUmaKGdK5/Mh7r/bTpXP5kPdf7aFJo4knJJJwBknJwAGgZPYAAPkAXxQzpXP5kPdf7adK5/Mh7r/bQpM0UM6Vz+ZD3X+2nSufzIe6/20KTNFDOlc/mQ91/tp0rn8yHuv8AbQpM0UM6Vz+ZD3X+2nSufzIe6/20KTNFDOlc/mQ91/tp0rn8yHuv9tCkzRQzpXP5kPdf7adK5/Mh7r/bQpM0UM6Vz+ZD3X+2nSufzIe6/wBtCkzUd23qMRxR+e4uPyMHD9p/Ytd0rn8yHuv9ta67XN9S5rpAwFo0jQHAYznjknillOvqXzUseUyhTJqTUseUyhTmXICuGUyhTJqTUseUyhTJqTUseUyhTJqTUseUyhTJqTUseUyhTJqTUseUyhTJqX3WsWUyhTJqTUseUyhTJqXwuXDKZQpzz2L5lccplCnxERRRERAREQEREBERAREQEREBERAREQEREBERAREQEREBERAREQEREBERAREQEREBERAREQEREBERAREQEREBERAREQEREBERAREQEREBERAREQEREBERAREQEREBERAREQEREBERAREQEREBERAREQEREBERAREQEREBERAREQEREBERAREQEREBERAREQEREBERAREQEREBERAREQEREBERAREQEREBERAREQEREBERAREQEREBERAREQEREBERAREQEREBERAREQEREBERAREQEREBERAREQEREBERAREQf//Z\n"
                },
                "metadata": {}
              }
            ]
          }
        },
        "707a3be170b544d58ac6d8e24f1ddbd3": {
          "model_module": "@jupyter-widgets/output",
          "model_name": "OutputModel",
          "model_module_version": "1.0.0",
          "state": {
            "_dom_classes": [],
            "_model_module": "@jupyter-widgets/output",
            "_model_module_version": "1.0.0",
            "_model_name": "OutputModel",
            "_view_count": null,
            "_view_module": "@jupyter-widgets/output",
            "_view_module_version": "1.0.0",
            "_view_name": "OutputView",
            "layout": "IPY_MODEL_13adb7403a5246a6ad03ba60691fdaff",
            "msg_id": "",
            "outputs": [
              {
                "output_type": "stream",
                "name": "stdout",
                "text": [
                  "Video available at https://www.bilibili.com/video/BV1954y1n7uH\n"
                ]
              },
              {
                "output_type": "display_data",
                "data": {
                  "text/plain": "<__main__.BiliVideo at 0x7f0a589c4750>",
                  "text/html": "\n        <iframe\n            width=\"854\"\n            height=\"480\"\n            src=\"https://player.bilibili.com/player.html?bvid=BV1954y1n7uH&page=1?fs=1\"\n            frameborder=\"0\"\n            allowfullscreen\n        ></iframe>\n        "
                },
                "metadata": {}
              }
            ]
          }
        },
        "8471fdc31a10492cb5ba84de87ddf6da": {
          "model_module": "@jupyter-widgets/base",
          "model_name": "LayoutModel",
          "model_module_version": "1.2.0",
          "state": {
            "_model_module": "@jupyter-widgets/base",
            "_model_module_version": "1.2.0",
            "_model_name": "LayoutModel",
            "_view_count": null,
            "_view_module": "@jupyter-widgets/base",
            "_view_module_version": "1.2.0",
            "_view_name": "LayoutView",
            "align_content": null,
            "align_items": null,
            "align_self": null,
            "border": null,
            "bottom": null,
            "display": null,
            "flex": null,
            "flex_flow": null,
            "grid_area": null,
            "grid_auto_columns": null,
            "grid_auto_flow": null,
            "grid_auto_rows": null,
            "grid_column": null,
            "grid_gap": null,
            "grid_row": null,
            "grid_template_areas": null,
            "grid_template_columns": null,
            "grid_template_rows": null,
            "height": null,
            "justify_content": null,
            "justify_items": null,
            "left": null,
            "margin": null,
            "max_height": null,
            "max_width": null,
            "min_height": null,
            "min_width": null,
            "object_fit": null,
            "object_position": null,
            "order": null,
            "overflow": null,
            "overflow_x": null,
            "overflow_y": null,
            "padding": null,
            "right": null,
            "top": null,
            "visibility": null,
            "width": null
          }
        },
        "57f747eeb8664bbbb4279f8c4db67a2f": {
          "model_module": "@jupyter-widgets/base",
          "model_name": "LayoutModel",
          "model_module_version": "1.2.0",
          "state": {
            "_model_module": "@jupyter-widgets/base",
            "_model_module_version": "1.2.0",
            "_model_name": "LayoutModel",
            "_view_count": null,
            "_view_module": "@jupyter-widgets/base",
            "_view_module_version": "1.2.0",
            "_view_name": "LayoutView",
            "align_content": null,
            "align_items": null,
            "align_self": null,
            "border": null,
            "bottom": null,
            "display": null,
            "flex": null,
            "flex_flow": null,
            "grid_area": null,
            "grid_auto_columns": null,
            "grid_auto_flow": null,
            "grid_auto_rows": null,
            "grid_column": null,
            "grid_gap": null,
            "grid_row": null,
            "grid_template_areas": null,
            "grid_template_columns": null,
            "grid_template_rows": null,
            "height": null,
            "justify_content": null,
            "justify_items": null,
            "left": null,
            "margin": null,
            "max_height": null,
            "max_width": null,
            "min_height": null,
            "min_width": null,
            "object_fit": null,
            "object_position": null,
            "order": null,
            "overflow": null,
            "overflow_x": null,
            "overflow_y": null,
            "padding": null,
            "right": null,
            "top": null,
            "visibility": null,
            "width": null
          }
        },
        "13adb7403a5246a6ad03ba60691fdaff": {
          "model_module": "@jupyter-widgets/base",
          "model_name": "LayoutModel",
          "model_module_version": "1.2.0",
          "state": {
            "_model_module": "@jupyter-widgets/base",
            "_model_module_version": "1.2.0",
            "_model_name": "LayoutModel",
            "_view_count": null,
            "_view_module": "@jupyter-widgets/base",
            "_view_module_version": "1.2.0",
            "_view_name": "LayoutView",
            "align_content": null,
            "align_items": null,
            "align_self": null,
            "border": null,
            "bottom": null,
            "display": null,
            "flex": null,
            "flex_flow": null,
            "grid_area": null,
            "grid_auto_columns": null,
            "grid_auto_flow": null,
            "grid_auto_rows": null,
            "grid_column": null,
            "grid_gap": null,
            "grid_row": null,
            "grid_template_areas": null,
            "grid_template_columns": null,
            "grid_template_rows": null,
            "height": null,
            "justify_content": null,
            "justify_items": null,
            "left": null,
            "margin": null,
            "max_height": null,
            "max_width": null,
            "min_height": null,
            "min_width": null,
            "object_fit": null,
            "object_position": null,
            "order": null,
            "overflow": null,
            "overflow_x": null,
            "overflow_y": null,
            "padding": null,
            "right": null,
            "top": null,
            "visibility": null,
            "width": null
          }
        },
        "961169f663a04fc8bf315f9c2d7ee34c": {
          "model_module": "@jupyter-widgets/controls",
          "model_name": "VBoxModel",
          "model_module_version": "1.5.0",
          "state": {
            "_dom_classes": [],
            "_model_module": "@jupyter-widgets/controls",
            "_model_module_version": "1.5.0",
            "_model_name": "VBoxModel",
            "_view_count": null,
            "_view_module": "@jupyter-widgets/controls",
            "_view_module_version": "1.5.0",
            "_view_name": "VBoxView",
            "box_style": "",
            "children": [
              "IPY_MODEL_2e35845d101b44f199df1682e7e6f8b7",
              "IPY_MODEL_0e005e1baa0a49a3ae5df7ca714d0f6c",
              "IPY_MODEL_23fc0f59299f43dea184295a6509fd4f"
            ],
            "layout": "IPY_MODEL_7e00e182c51740eb9640e8a5eb758661"
          }
        },
        "2e35845d101b44f199df1682e7e6f8b7": {
          "model_module": "@jupyter-widgets/controls",
          "model_name": "FloatSliderModel",
          "model_module_version": "1.5.0",
          "state": {
            "_dom_classes": [],
            "_model_module": "@jupyter-widgets/controls",
            "_model_module_version": "1.5.0",
            "_model_name": "FloatSliderModel",
            "_view_count": null,
            "_view_module": "@jupyter-widgets/controls",
            "_view_module_version": "1.5.0",
            "_view_name": "FloatSliderView",
            "continuous_update": true,
            "description": "p(s = left)",
            "description_tooltip": null,
            "disabled": false,
            "layout": "IPY_MODEL_ff51249076694cd6a7e1044e18f48e99",
            "max": 0.99,
            "min": 0.01,
            "orientation": "horizontal",
            "readout": true,
            "readout_format": ".2f",
            "step": 0.01,
            "style": "IPY_MODEL_ef2c6ee7b8064e57ab4072412a121615",
            "value": 0.31
          }
        },
        "0e005e1baa0a49a3ae5df7ca714d0f6c": {
          "model_module": "@jupyter-widgets/controls",
          "model_name": "HBoxModel",
          "model_module_version": "1.5.0",
          "state": {
            "_dom_classes": [],
            "_model_module": "@jupyter-widgets/controls",
            "_model_module_version": "1.5.0",
            "_model_name": "HBoxModel",
            "_view_count": null,
            "_view_module": "@jupyter-widgets/controls",
            "_view_module_version": "1.5.0",
            "_view_name": "HBoxView",
            "box_style": "",
            "children": [
              "IPY_MODEL_4a00749aaac34f7bb66ae1a91f470b29",
              "IPY_MODEL_465b558febba4dd6a82a2ae1cb318f06"
            ],
            "layout": "IPY_MODEL_964fb288473b4530bb274860313420e3"
          }
        },
        "23fc0f59299f43dea184295a6509fd4f": {
          "model_module": "@jupyter-widgets/controls",
          "model_name": "ToggleButtonsModel",
          "model_module_version": "1.5.0",
          "state": {
            "_dom_classes": [],
            "_model_module": "@jupyter-widgets/controls",
            "_model_module_version": "1.5.0",
            "_model_name": "ToggleButtonsModel",
            "_options_labels": [
              "Fish",
              "No Fish"
            ],
            "_view_count": null,
            "_view_module": "@jupyter-widgets/controls",
            "_view_module_version": "1.5.0",
            "_view_name": "ToggleButtonsView",
            "button_style": "",
            "description": "Observation (m) on the left:",
            "description_tooltip": null,
            "disabled": false,
            "icons": [],
            "index": 0,
            "layout": "IPY_MODEL_eedcdce7945343b586251121698022b2",
            "style": "IPY_MODEL_0dbb12cedcff4b7399ca6864379fa8b7",
            "tooltips": []
          }
        },
        "7e00e182c51740eb9640e8a5eb758661": {
          "model_module": "@jupyter-widgets/base",
          "model_name": "LayoutModel",
          "model_module_version": "1.2.0",
          "state": {
            "_model_module": "@jupyter-widgets/base",
            "_model_module_version": "1.2.0",
            "_model_name": "LayoutModel",
            "_view_count": null,
            "_view_module": "@jupyter-widgets/base",
            "_view_module_version": "1.2.0",
            "_view_name": "LayoutView",
            "align_content": null,
            "align_items": null,
            "align_self": null,
            "border": null,
            "bottom": null,
            "display": null,
            "flex": null,
            "flex_flow": null,
            "grid_area": null,
            "grid_auto_columns": null,
            "grid_auto_flow": null,
            "grid_auto_rows": null,
            "grid_column": null,
            "grid_gap": null,
            "grid_row": null,
            "grid_template_areas": null,
            "grid_template_columns": null,
            "grid_template_rows": null,
            "height": null,
            "justify_content": null,
            "justify_items": null,
            "left": null,
            "margin": null,
            "max_height": null,
            "max_width": null,
            "min_height": null,
            "min_width": null,
            "object_fit": null,
            "object_position": null,
            "order": null,
            "overflow": null,
            "overflow_x": null,
            "overflow_y": null,
            "padding": null,
            "right": null,
            "top": null,
            "visibility": null,
            "width": null
          }
        },
        "ff51249076694cd6a7e1044e18f48e99": {
          "model_module": "@jupyter-widgets/base",
          "model_name": "LayoutModel",
          "model_module_version": "1.2.0",
          "state": {
            "_model_module": "@jupyter-widgets/base",
            "_model_module_version": "1.2.0",
            "_model_name": "LayoutModel",
            "_view_count": null,
            "_view_module": "@jupyter-widgets/base",
            "_view_module_version": "1.2.0",
            "_view_name": "LayoutView",
            "align_content": null,
            "align_items": null,
            "align_self": null,
            "border": null,
            "bottom": null,
            "display": null,
            "flex": null,
            "flex_flow": null,
            "grid_area": null,
            "grid_auto_columns": null,
            "grid_auto_flow": null,
            "grid_auto_rows": null,
            "grid_column": null,
            "grid_gap": null,
            "grid_row": null,
            "grid_template_areas": null,
            "grid_template_columns": null,
            "grid_template_rows": null,
            "height": null,
            "justify_content": null,
            "justify_items": null,
            "left": null,
            "margin": null,
            "max_height": null,
            "max_width": null,
            "min_height": null,
            "min_width": null,
            "object_fit": null,
            "object_position": null,
            "order": null,
            "overflow": null,
            "overflow_x": null,
            "overflow_y": null,
            "padding": null,
            "right": null,
            "top": null,
            "visibility": null,
            "width": "300px"
          }
        },
        "ef2c6ee7b8064e57ab4072412a121615": {
          "model_module": "@jupyter-widgets/controls",
          "model_name": "SliderStyleModel",
          "model_module_version": "1.5.0",
          "state": {
            "_model_module": "@jupyter-widgets/controls",
            "_model_module_version": "1.5.0",
            "_model_name": "SliderStyleModel",
            "_view_count": null,
            "_view_module": "@jupyter-widgets/base",
            "_view_module_version": "1.2.0",
            "_view_name": "StyleView",
            "description_width": "",
            "handle_color": null
          }
        },
        "4a00749aaac34f7bb66ae1a91f470b29": {
          "model_module": "@jupyter-widgets/controls",
          "model_name": "FloatSliderModel",
          "model_module_version": "1.5.0",
          "state": {
            "_dom_classes": [],
            "_model_module": "@jupyter-widgets/controls",
            "_model_module_version": "1.5.0",
            "_model_name": "FloatSliderModel",
            "_view_count": null,
            "_view_module": "@jupyter-widgets/controls",
            "_view_module_version": "1.5.0",
            "_view_name": "FloatSliderView",
            "continuous_update": true,
            "description": "p(fish on left | state = left)",
            "description_tooltip": null,
            "disabled": false,
            "layout": "IPY_MODEL_d532df5474a446bca6ed59b988ca0077",
            "max": 0.99,
            "min": 0.01,
            "orientation": "horizontal",
            "readout": true,
            "readout_format": ".2f",
            "step": 0.01,
            "style": "IPY_MODEL_6a015cacb23e46f6945e042a7cacff1a",
            "value": 0.32
          }
        },
        "465b558febba4dd6a82a2ae1cb318f06": {
          "model_module": "@jupyter-widgets/controls",
          "model_name": "FloatSliderModel",
          "model_module_version": "1.5.0",
          "state": {
            "_dom_classes": [],
            "_model_module": "@jupyter-widgets/controls",
            "_model_module_version": "1.5.0",
            "_model_name": "FloatSliderModel",
            "_view_count": null,
            "_view_module": "@jupyter-widgets/controls",
            "_view_module_version": "1.5.0",
            "_view_name": "FloatSliderView",
            "continuous_update": true,
            "description": "p(fish on left | state = right)",
            "description_tooltip": null,
            "disabled": false,
            "layout": "IPY_MODEL_40ae288e794c42ac9fa00629a076a98a",
            "max": 0.99,
            "min": 0.01,
            "orientation": "horizontal",
            "readout": true,
            "readout_format": ".2f",
            "step": 0.01,
            "style": "IPY_MODEL_09566c8d81a64ca6bf8ebb9c66151092",
            "value": 0.42
          }
        },
        "964fb288473b4530bb274860313420e3": {
          "model_module": "@jupyter-widgets/base",
          "model_name": "LayoutModel",
          "model_module_version": "1.2.0",
          "state": {
            "_model_module": "@jupyter-widgets/base",
            "_model_module_version": "1.2.0",
            "_model_name": "LayoutModel",
            "_view_count": null,
            "_view_module": "@jupyter-widgets/base",
            "_view_module_version": "1.2.0",
            "_view_name": "LayoutView",
            "align_content": null,
            "align_items": null,
            "align_self": null,
            "border": null,
            "bottom": null,
            "display": null,
            "flex": null,
            "flex_flow": null,
            "grid_area": null,
            "grid_auto_columns": null,
            "grid_auto_flow": null,
            "grid_auto_rows": null,
            "grid_column": null,
            "grid_gap": null,
            "grid_row": null,
            "grid_template_areas": null,
            "grid_template_columns": null,
            "grid_template_rows": null,
            "height": null,
            "justify_content": null,
            "justify_items": null,
            "left": null,
            "margin": null,
            "max_height": null,
            "max_width": null,
            "min_height": null,
            "min_width": null,
            "object_fit": null,
            "object_position": null,
            "order": null,
            "overflow": null,
            "overflow_x": null,
            "overflow_y": null,
            "padding": null,
            "right": null,
            "top": null,
            "visibility": null,
            "width": null
          }
        },
        "eedcdce7945343b586251121698022b2": {
          "model_module": "@jupyter-widgets/base",
          "model_name": "LayoutModel",
          "model_module_version": "1.2.0",
          "state": {
            "_model_module": "@jupyter-widgets/base",
            "_model_module_version": "1.2.0",
            "_model_name": "LayoutModel",
            "_view_count": null,
            "_view_module": "@jupyter-widgets/base",
            "_view_module_version": "1.2.0",
            "_view_name": "LayoutView",
            "align_content": null,
            "align_items": null,
            "align_self": null,
            "border": null,
            "bottom": null,
            "display": "flex",
            "flex": null,
            "flex_flow": null,
            "grid_area": null,
            "grid_auto_columns": null,
            "grid_auto_flow": null,
            "grid_auto_rows": null,
            "grid_column": null,
            "grid_gap": null,
            "grid_row": null,
            "grid_template_areas": null,
            "grid_template_columns": null,
            "grid_template_rows": null,
            "height": null,
            "justify_content": null,
            "justify_items": null,
            "left": null,
            "margin": null,
            "max_height": null,
            "max_width": null,
            "min_height": null,
            "min_width": null,
            "object_fit": null,
            "object_position": null,
            "order": null,
            "overflow": null,
            "overflow_x": null,
            "overflow_y": null,
            "padding": null,
            "right": null,
            "top": null,
            "visibility": null,
            "width": "auto"
          }
        },
        "0dbb12cedcff4b7399ca6864379fa8b7": {
          "model_module": "@jupyter-widgets/controls",
          "model_name": "ToggleButtonsStyleModel",
          "model_module_version": "1.5.0",
          "state": {
            "_model_module": "@jupyter-widgets/controls",
            "_model_module_version": "1.5.0",
            "_model_name": "ToggleButtonsStyleModel",
            "_view_count": null,
            "_view_module": "@jupyter-widgets/base",
            "_view_module_version": "1.2.0",
            "_view_name": "StyleView",
            "button_width": "",
            "description_width": "initial",
            "font_weight": ""
          }
        },
        "d532df5474a446bca6ed59b988ca0077": {
          "model_module": "@jupyter-widgets/base",
          "model_name": "LayoutModel",
          "model_module_version": "1.2.0",
          "state": {
            "_model_module": "@jupyter-widgets/base",
            "_model_module_version": "1.2.0",
            "_model_name": "LayoutModel",
            "_view_count": null,
            "_view_module": "@jupyter-widgets/base",
            "_view_module_version": "1.2.0",
            "_view_name": "LayoutView",
            "align_content": null,
            "align_items": null,
            "align_self": null,
            "border": null,
            "bottom": null,
            "display": null,
            "flex": null,
            "flex_flow": null,
            "grid_area": null,
            "grid_auto_columns": null,
            "grid_auto_flow": null,
            "grid_auto_rows": null,
            "grid_column": null,
            "grid_gap": null,
            "grid_row": null,
            "grid_template_areas": null,
            "grid_template_columns": null,
            "grid_template_rows": null,
            "height": null,
            "justify_content": null,
            "justify_items": null,
            "left": null,
            "margin": null,
            "max_height": null,
            "max_width": null,
            "min_height": null,
            "min_width": null,
            "object_fit": null,
            "object_position": null,
            "order": null,
            "overflow": null,
            "overflow_x": null,
            "overflow_y": null,
            "padding": null,
            "right": null,
            "top": null,
            "visibility": null,
            "width": "370px"
          }
        },
        "6a015cacb23e46f6945e042a7cacff1a": {
          "model_module": "@jupyter-widgets/controls",
          "model_name": "SliderStyleModel",
          "model_module_version": "1.5.0",
          "state": {
            "_model_module": "@jupyter-widgets/controls",
            "_model_module_version": "1.5.0",
            "_model_name": "SliderStyleModel",
            "_view_count": null,
            "_view_module": "@jupyter-widgets/base",
            "_view_module_version": "1.2.0",
            "_view_name": "StyleView",
            "description_width": "initial",
            "handle_color": null
          }
        },
        "40ae288e794c42ac9fa00629a076a98a": {
          "model_module": "@jupyter-widgets/base",
          "model_name": "LayoutModel",
          "model_module_version": "1.2.0",
          "state": {
            "_model_module": "@jupyter-widgets/base",
            "_model_module_version": "1.2.0",
            "_model_name": "LayoutModel",
            "_view_count": null,
            "_view_module": "@jupyter-widgets/base",
            "_view_module_version": "1.2.0",
            "_view_name": "LayoutView",
            "align_content": null,
            "align_items": null,
            "align_self": null,
            "border": null,
            "bottom": null,
            "display": null,
            "flex": null,
            "flex_flow": null,
            "grid_area": null,
            "grid_auto_columns": null,
            "grid_auto_flow": null,
            "grid_auto_rows": null,
            "grid_column": null,
            "grid_gap": null,
            "grid_row": null,
            "grid_template_areas": null,
            "grid_template_columns": null,
            "grid_template_rows": null,
            "height": null,
            "justify_content": null,
            "justify_items": null,
            "left": null,
            "margin": null,
            "max_height": null,
            "max_width": null,
            "min_height": null,
            "min_width": null,
            "object_fit": null,
            "object_position": null,
            "order": null,
            "overflow": null,
            "overflow_x": null,
            "overflow_y": null,
            "padding": null,
            "right": null,
            "top": null,
            "visibility": null,
            "width": "370px"
          }
        },
        "09566c8d81a64ca6bf8ebb9c66151092": {
          "model_module": "@jupyter-widgets/controls",
          "model_name": "SliderStyleModel",
          "model_module_version": "1.5.0",
          "state": {
            "_model_module": "@jupyter-widgets/controls",
            "_model_module_version": "1.5.0",
            "_model_name": "SliderStyleModel",
            "_view_count": null,
            "_view_module": "@jupyter-widgets/base",
            "_view_module_version": "1.2.0",
            "_view_name": "StyleView",
            "description_width": "initial",
            "handle_color": null
          }
        },
        "9b56c4a76236401a975f8c8828367138": {
          "model_module": "@jupyter-widgets/output",
          "model_name": "OutputModel",
          "model_module_version": "1.0.0",
          "state": {
            "_dom_classes": [],
            "_model_module": "@jupyter-widgets/output",
            "_model_module_version": "1.0.0",
            "_model_name": "OutputModel",
            "_view_count": null,
            "_view_module": "@jupyter-widgets/output",
            "_view_module_version": "1.0.0",
            "_view_name": "OutputView",
            "layout": "IPY_MODEL_293c7692011f43a184303e2d0a5b571b",
            "msg_id": "",
            "outputs": [
              {
                "output_type": "display_data",
                "data": {
                  "text/plain": "<Figure size 720x648 with 5 Axes>",
                  "image/png": "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\n"
                },
                "metadata": {
                  "image/png": {
                    "width": 650,
                    "height": 549
                  },
                  "needs_background": "light"
                }
              }
            ]
          }
        },
        "293c7692011f43a184303e2d0a5b571b": {
          "model_module": "@jupyter-widgets/base",
          "model_name": "LayoutModel",
          "model_module_version": "1.2.0",
          "state": {
            "_model_module": "@jupyter-widgets/base",
            "_model_module_version": "1.2.0",
            "_model_name": "LayoutModel",
            "_view_count": null,
            "_view_module": "@jupyter-widgets/base",
            "_view_module_version": "1.2.0",
            "_view_name": "LayoutView",
            "align_content": null,
            "align_items": null,
            "align_self": null,
            "border": null,
            "bottom": null,
            "display": null,
            "flex": null,
            "flex_flow": null,
            "grid_area": null,
            "grid_auto_columns": null,
            "grid_auto_flow": null,
            "grid_auto_rows": null,
            "grid_column": null,
            "grid_gap": null,
            "grid_row": null,
            "grid_template_areas": null,
            "grid_template_columns": null,
            "grid_template_rows": null,
            "height": null,
            "justify_content": null,
            "justify_items": null,
            "left": null,
            "margin": null,
            "max_height": null,
            "max_width": null,
            "min_height": null,
            "min_width": null,
            "object_fit": null,
            "object_position": null,
            "order": null,
            "overflow": null,
            "overflow_x": null,
            "overflow_y": null,
            "padding": null,
            "right": null,
            "top": null,
            "visibility": null,
            "width": null
          }
        },
        "2e123c8b9c664494830b49351d42335b": {
          "model_module": "@jupyter-widgets/controls",
          "model_name": "TabModel",
          "model_module_version": "1.5.0",
          "state": {
            "_dom_classes": [],
            "_model_module": "@jupyter-widgets/controls",
            "_model_module_version": "1.5.0",
            "_model_name": "TabModel",
            "_titles": {
              "0": "Youtube",
              "1": "Bilibili"
            },
            "_view_count": null,
            "_view_module": "@jupyter-widgets/controls",
            "_view_module_version": "1.5.0",
            "_view_name": "TabView",
            "box_style": "",
            "children": [
              "IPY_MODEL_cd8b23c94ae54f81a93b64dbfd3b4796",
              "IPY_MODEL_115adacb26d241d3bb7728184ebef57a"
            ],
            "layout": "IPY_MODEL_fffb991b858c450db5c7401e0b65efd3",
            "selected_index": 0
          }
        },
        "cd8b23c94ae54f81a93b64dbfd3b4796": {
          "model_module": "@jupyter-widgets/output",
          "model_name": "OutputModel",
          "model_module_version": "1.0.0",
          "state": {
            "_dom_classes": [],
            "_model_module": "@jupyter-widgets/output",
            "_model_module_version": "1.0.0",
            "_model_name": "OutputModel",
            "_view_count": null,
            "_view_module": "@jupyter-widgets/output",
            "_view_module_version": "1.0.0",
            "_view_name": "OutputView",
            "layout": "IPY_MODEL_ad5a31a5a4be4030bb5514c1e5824ea4",
            "msg_id": "",
            "outputs": [
              {
                "output_type": "stream",
                "name": "stdout",
                "text": [
                  "Video available at https://youtube.com/watch?v=h9L0EYmUpHs\n"
                ]
              },
              {
                "output_type": "display_data",
                "data": {
                  "text/plain": "<IPython.lib.display.YouTubeVideo at 0x7f0a591bad10>",
                  "text/html": "\n        <iframe\n            width=\"854\"\n            height=\"480\"\n            src=\"https://www.youtube.com/embed/h9L0EYmUpHs?fs=1&rel=0\"\n            frameborder=\"0\"\n            allowfullscreen\n        ></iframe>\n        ",
                  "image/jpeg": "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\n"
                },
                "metadata": {}
              }
            ]
          }
        },
        "115adacb26d241d3bb7728184ebef57a": {
          "model_module": "@jupyter-widgets/output",
          "model_name": "OutputModel",
          "model_module_version": "1.0.0",
          "state": {
            "_dom_classes": [],
            "_model_module": "@jupyter-widgets/output",
            "_model_module_version": "1.0.0",
            "_model_name": "OutputModel",
            "_view_count": null,
            "_view_module": "@jupyter-widgets/output",
            "_view_module_version": "1.0.0",
            "_view_name": "OutputView",
            "layout": "IPY_MODEL_f9a1bb858f7445ed812061cb92d98bce",
            "msg_id": "",
            "outputs": [
              {
                "output_type": "stream",
                "name": "stdout",
                "text": [
                  "Video available at https://www.bilibili.com/video/BV1QU4y137BS\n"
                ]
              },
              {
                "output_type": "display_data",
                "data": {
                  "text/plain": "<__main__.BiliVideo at 0x7f0a59a05110>",
                  "text/html": "\n        <iframe\n            width=\"854\"\n            height=\"480\"\n            src=\"https://player.bilibili.com/player.html?bvid=BV1QU4y137BS&page=1?fs=1\"\n            frameborder=\"0\"\n            allowfullscreen\n        ></iframe>\n        "
                },
                "metadata": {}
              }
            ]
          }
        },
        "fffb991b858c450db5c7401e0b65efd3": {
          "model_module": "@jupyter-widgets/base",
          "model_name": "LayoutModel",
          "model_module_version": "1.2.0",
          "state": {
            "_model_module": "@jupyter-widgets/base",
            "_model_module_version": "1.2.0",
            "_model_name": "LayoutModel",
            "_view_count": null,
            "_view_module": "@jupyter-widgets/base",
            "_view_module_version": "1.2.0",
            "_view_name": "LayoutView",
            "align_content": null,
            "align_items": null,
            "align_self": null,
            "border": null,
            "bottom": null,
            "display": null,
            "flex": null,
            "flex_flow": null,
            "grid_area": null,
            "grid_auto_columns": null,
            "grid_auto_flow": null,
            "grid_auto_rows": null,
            "grid_column": null,
            "grid_gap": null,
            "grid_row": null,
            "grid_template_areas": null,
            "grid_template_columns": null,
            "grid_template_rows": null,
            "height": null,
            "justify_content": null,
            "justify_items": null,
            "left": null,
            "margin": null,
            "max_height": null,
            "max_width": null,
            "min_height": null,
            "min_width": null,
            "object_fit": null,
            "object_position": null,
            "order": null,
            "overflow": null,
            "overflow_x": null,
            "overflow_y": null,
            "padding": null,
            "right": null,
            "top": null,
            "visibility": null,
            "width": null
          }
        },
        "ad5a31a5a4be4030bb5514c1e5824ea4": {
          "model_module": "@jupyter-widgets/base",
          "model_name": "LayoutModel",
          "model_module_version": "1.2.0",
          "state": {
            "_model_module": "@jupyter-widgets/base",
            "_model_module_version": "1.2.0",
            "_model_name": "LayoutModel",
            "_view_count": null,
            "_view_module": "@jupyter-widgets/base",
            "_view_module_version": "1.2.0",
            "_view_name": "LayoutView",
            "align_content": null,
            "align_items": null,
            "align_self": null,
            "border": null,
            "bottom": null,
            "display": null,
            "flex": null,
            "flex_flow": null,
            "grid_area": null,
            "grid_auto_columns": null,
            "grid_auto_flow": null,
            "grid_auto_rows": null,
            "grid_column": null,
            "grid_gap": null,
            "grid_row": null,
            "grid_template_areas": null,
            "grid_template_columns": null,
            "grid_template_rows": null,
            "height": null,
            "justify_content": null,
            "justify_items": null,
            "left": null,
            "margin": null,
            "max_height": null,
            "max_width": null,
            "min_height": null,
            "min_width": null,
            "object_fit": null,
            "object_position": null,
            "order": null,
            "overflow": null,
            "overflow_x": null,
            "overflow_y": null,
            "padding": null,
            "right": null,
            "top": null,
            "visibility": null,
            "width": null
          }
        },
        "f9a1bb858f7445ed812061cb92d98bce": {
          "model_module": "@jupyter-widgets/base",
          "model_name": "LayoutModel",
          "model_module_version": "1.2.0",
          "state": {
            "_model_module": "@jupyter-widgets/base",
            "_model_module_version": "1.2.0",
            "_model_name": "LayoutModel",
            "_view_count": null,
            "_view_module": "@jupyter-widgets/base",
            "_view_module_version": "1.2.0",
            "_view_name": "LayoutView",
            "align_content": null,
            "align_items": null,
            "align_self": null,
            "border": null,
            "bottom": null,
            "display": null,
            "flex": null,
            "flex_flow": null,
            "grid_area": null,
            "grid_auto_columns": null,
            "grid_auto_flow": null,
            "grid_auto_rows": null,
            "grid_column": null,
            "grid_gap": null,
            "grid_row": null,
            "grid_template_areas": null,
            "grid_template_columns": null,
            "grid_template_rows": null,
            "height": null,
            "justify_content": null,
            "justify_items": null,
            "left": null,
            "margin": null,
            "max_height": null,
            "max_width": null,
            "min_height": null,
            "min_width": null,
            "object_fit": null,
            "object_position": null,
            "order": null,
            "overflow": null,
            "overflow_x": null,
            "overflow_y": null,
            "padding": null,
            "right": null,
            "top": null,
            "visibility": null,
            "width": null
          }
        }
      }
    }
  },
  "nbformat": 4,
  "nbformat_minor": 0
}